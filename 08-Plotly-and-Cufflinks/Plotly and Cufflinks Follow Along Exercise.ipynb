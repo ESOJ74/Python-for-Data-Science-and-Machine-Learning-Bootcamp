{
 "cells": [
  {
   "cell_type": "code",
   "execution_count": 1,
   "metadata": {},
   "outputs": [],
   "source": [
    "import pandas as pd\n",
    "import numpy as np\n",
    "%matplotlib inline"
   ]
  },
  {
   "cell_type": "code",
   "execution_count": 7,
   "metadata": {},
   "outputs": [
    {
     "name": "stdout",
     "output_type": "stream",
     "text": [
      "4.4.1\n"
     ]
    }
   ],
   "source": [
    "from plotly import __version__\n",
    "from plotly.offline import download_plotlyjs, init_notebook_mode, plot, iplot\n",
    "\n",
    "print(__version__) # requires version >= 1.9.0"
   ]
  },
  {
   "cell_type": "code",
   "execution_count": 8,
   "metadata": {},
   "outputs": [],
   "source": [
    "import cufflinks as cf"
   ]
  },
  {
   "cell_type": "code",
   "execution_count": 11,
   "metadata": {},
   "outputs": [
    {
     "data": {
      "text/html": [
       "        <script type=\"text/javascript\">\n",
       "        window.PlotlyConfig = {MathJaxConfig: 'local'};\n",
       "        if (window.MathJax) {MathJax.Hub.Config({SVG: {font: \"STIX-Web\"}});}\n",
       "        if (typeof require !== 'undefined') {\n",
       "        require.undef(\"plotly\");\n",
       "        requirejs.config({\n",
       "            paths: {\n",
       "                'plotly': ['https://cdn.plot.ly/plotly-latest.min']\n",
       "            }\n",
       "        });\n",
       "        require(['plotly'], function(Plotly) {\n",
       "            window._Plotly = Plotly;\n",
       "        });\n",
       "        }\n",
       "        </script>\n",
       "        "
      ]
     },
     "metadata": {},
     "output_type": "display_data"
    }
   ],
   "source": [
    "# For Notebooks\n",
    "init_notebook_mode(connected=True)"
   ]
  },
  {
   "cell_type": "code",
   "execution_count": 10,
   "metadata": {},
   "outputs": [
    {
     "data": {
      "text/html": [
       "        <script type=\"text/javascript\">\n",
       "        window.PlotlyConfig = {MathJaxConfig: 'local'};\n",
       "        if (window.MathJax) {MathJax.Hub.Config({SVG: {font: \"STIX-Web\"}});}\n",
       "        if (typeof require !== 'undefined') {\n",
       "        require.undef(\"plotly\");\n",
       "        requirejs.config({\n",
       "            paths: {\n",
       "                'plotly': ['https://cdn.plot.ly/plotly-latest.min']\n",
       "            }\n",
       "        });\n",
       "        require(['plotly'], function(Plotly) {\n",
       "            window._Plotly = Plotly;\n",
       "        });\n",
       "        }\n",
       "        </script>\n",
       "        "
      ]
     },
     "metadata": {},
     "output_type": "display_data"
    }
   ],
   "source": [
    "# For offline use\n",
    "cf.go_offline()"
   ]
  },
  {
   "cell_type": "code",
   "execution_count": 12,
   "metadata": {},
   "outputs": [],
   "source": [
    "# DATA\n",
    "\n",
    "df = pd.DataFrame(np.random.randn(100,4),columns='A B C D'.split())"
   ]
  },
  {
   "cell_type": "code",
   "execution_count": 13,
   "metadata": {},
   "outputs": [
    {
     "data": {
      "text/html": [
       "<div>\n",
       "<style scoped>\n",
       "    .dataframe tbody tr th:only-of-type {\n",
       "        vertical-align: middle;\n",
       "    }\n",
       "\n",
       "    .dataframe tbody tr th {\n",
       "        vertical-align: top;\n",
       "    }\n",
       "\n",
       "    .dataframe thead th {\n",
       "        text-align: right;\n",
       "    }\n",
       "</style>\n",
       "<table border=\"1\" class=\"dataframe\">\n",
       "  <thead>\n",
       "    <tr style=\"text-align: right;\">\n",
       "      <th></th>\n",
       "      <th>A</th>\n",
       "      <th>B</th>\n",
       "      <th>C</th>\n",
       "      <th>D</th>\n",
       "    </tr>\n",
       "  </thead>\n",
       "  <tbody>\n",
       "    <tr>\n",
       "      <td>0</td>\n",
       "      <td>0.346420</td>\n",
       "      <td>-0.020590</td>\n",
       "      <td>0.143582</td>\n",
       "      <td>-1.111864</td>\n",
       "    </tr>\n",
       "    <tr>\n",
       "      <td>1</td>\n",
       "      <td>1.219133</td>\n",
       "      <td>0.542350</td>\n",
       "      <td>0.292081</td>\n",
       "      <td>0.149141</td>\n",
       "    </tr>\n",
       "    <tr>\n",
       "      <td>2</td>\n",
       "      <td>-1.566199</td>\n",
       "      <td>-0.878735</td>\n",
       "      <td>0.403455</td>\n",
       "      <td>-1.222111</td>\n",
       "    </tr>\n",
       "    <tr>\n",
       "      <td>3</td>\n",
       "      <td>0.465731</td>\n",
       "      <td>-0.489531</td>\n",
       "      <td>1.184643</td>\n",
       "      <td>-1.687580</td>\n",
       "    </tr>\n",
       "    <tr>\n",
       "      <td>4</td>\n",
       "      <td>-0.152618</td>\n",
       "      <td>-0.485415</td>\n",
       "      <td>0.319243</td>\n",
       "      <td>-0.755818</td>\n",
       "    </tr>\n",
       "  </tbody>\n",
       "</table>\n",
       "</div>"
      ],
      "text/plain": [
       "          A         B         C         D\n",
       "0  0.346420 -0.020590  0.143582 -1.111864\n",
       "1  1.219133  0.542350  0.292081  0.149141\n",
       "2 -1.566199 -0.878735  0.403455 -1.222111\n",
       "3  0.465731 -0.489531  1.184643 -1.687580\n",
       "4 -0.152618 -0.485415  0.319243 -0.755818"
      ]
     },
     "execution_count": 13,
     "metadata": {},
     "output_type": "execute_result"
    }
   ],
   "source": [
    "df.head()"
   ]
  },
  {
   "cell_type": "code",
   "execution_count": 14,
   "metadata": {},
   "outputs": [],
   "source": [
    "df2 = pd.DataFrame({'Category':['A','B','C'],'Values':[32,43,50]})"
   ]
  },
  {
   "cell_type": "code",
   "execution_count": 15,
   "metadata": {},
   "outputs": [
    {
     "data": {
      "text/html": [
       "<div>\n",
       "<style scoped>\n",
       "    .dataframe tbody tr th:only-of-type {\n",
       "        vertical-align: middle;\n",
       "    }\n",
       "\n",
       "    .dataframe tbody tr th {\n",
       "        vertical-align: top;\n",
       "    }\n",
       "\n",
       "    .dataframe thead th {\n",
       "        text-align: right;\n",
       "    }\n",
       "</style>\n",
       "<table border=\"1\" class=\"dataframe\">\n",
       "  <thead>\n",
       "    <tr style=\"text-align: right;\">\n",
       "      <th></th>\n",
       "      <th>Category</th>\n",
       "      <th>Values</th>\n",
       "    </tr>\n",
       "  </thead>\n",
       "  <tbody>\n",
       "    <tr>\n",
       "      <td>0</td>\n",
       "      <td>A</td>\n",
       "      <td>32</td>\n",
       "    </tr>\n",
       "    <tr>\n",
       "      <td>1</td>\n",
       "      <td>B</td>\n",
       "      <td>43</td>\n",
       "    </tr>\n",
       "    <tr>\n",
       "      <td>2</td>\n",
       "      <td>C</td>\n",
       "      <td>50</td>\n",
       "    </tr>\n",
       "  </tbody>\n",
       "</table>\n",
       "</div>"
      ],
      "text/plain": [
       "  Category  Values\n",
       "0        A      32\n",
       "1        B      43\n",
       "2        C      50"
      ]
     },
     "execution_count": 15,
     "metadata": {},
     "output_type": "execute_result"
    }
   ],
   "source": [
    "df2.head()"
   ]
  },
  {
   "cell_type": "code",
   "execution_count": 16,
   "metadata": {},
   "outputs": [
    {
     "data": {
      "text/plain": [
       "<matplotlib.axes._subplots.AxesSubplot at 0x1856da09c48>"
      ]
     },
     "execution_count": 16,
     "metadata": {},
     "output_type": "execute_result"
    },
    {
     "data": {
      "image/png": "[encoded data removed]",
      "text/plain": [
       "<Figure size 432x288 with 1 Axes>"
      ]
     },
     "metadata": {
      "needs_background": "light"
     },
     "output_type": "display_data"
    }
   ],
   "source": [
    "df.plot()"
   ]
  },
  {
   "cell_type": "code",
   "execution_count": 18,
   "metadata": {},
   "outputs": [
    {
     "data": {
      "application/vnd.plotly.v1+json": {
       "config": {
        "linkText": "Export to plot.ly",
        "plotlyServerURL": "https://plot.ly",
        "showLink": true
       },
       "data": [
        {
         "line": {
          "color": "rgba(255, 153, 51, 1.0)",
          "dash": "solid",
          "shape": "linear",
          "width": 1.3
         },
         "mode": "lines",
         "name": "A",
         "text": "",
         "type": "scatter",
         "x": [
          0,
          1,
          2,
          3,
          4,
          5,
          6,
          7,
          8,
          9,
          10,
          11,
          12,
          13,
          14,
          15,
          16,
          17,
          18,
          19,
          20,
          21,
          22,
          23,
          24,
          25,
          26,
          27,
          28,
          29,
          30,
          31,
          32,
          33,
          34,
          35,
          36,
          37,
          38,
          39,
          40,
          41,
          42,
          43,
          44,
          45,
          46,
          47,
          48,
          49,
          50,
          51,
          52,
          53,
          54,
          55,
          56,
          57,
          58,
          59,
          60,
          61,
          62,
          63,
          64,
          65,
          66,
          67,
          68,
          69,
          70,
          71,
          72,
          73,
          74,
          75,
          76,
          77,
          78,
          79,
          80,
          81,
          82,
          83,
          84,
          85,
          86,
          87,
          88,
          89,
          90,
          91,
          92,
          93,
          94,
          95,
          96,
          97,
          98,
          99
         ],
         "y": [
          0.3464195938218623,
          1.2191331189779477,
          -1.566198556307964,
          0.46573085450095364,
          -0.15261785777811135,
          -0.8028457730946738,
          -1.2939789962191617,
          -0.6418087219226248,
          1.9109107394573086,
          -0.7984950981964833,
          0.37572064407586353,
          0.10804546809227975,
          -0.2955939166246089,
          0.6668013724677774,
          1.606777904150411,
          0.18473563502452545,
          -0.21514032491554505,
          -0.2776151300214792,
          0.8398510702601665,
          -0.17787273295740644,
          1.8394677466697062,
          -0.6830318073232281,
          1.1910043748570203,
          -0.06296070100823661,
          0.3893011193237392,
          -0.5418276224573682,
          0.1456421026340764,
          1.3478116660010542,
          1.3398140902363653,
          0.17909770396651062,
          -0.7347774212014662,
          -0.664509282045416,
          1.9958932346583351,
          0.06464239428800038,
          -0.17331233101528445,
          -1.5199911226136043,
          -0.011764777467682862,
          -0.22961655060029354,
          0.8344144539000332,
          -0.6252542380202118,
          -0.35722719110995915,
          1.4681106315488035,
          -0.972833984774363,
          -1.3185876357784978,
          0.8369173852064116,
          -0.7203822787149038,
          0.5391211086088187,
          0.40930127362148827,
          1.3305953798884078,
          0.7875773751444973,
          0.24411739461868534,
          -0.08843505642188325,
          0.268342155604911,
          0.053365885727759556,
          -0.027406353957162198,
          -0.542478529849032,
          0.6176151365107044,
          -0.18176398391036097,
          -0.2045336720258062,
          0.32644055801113225,
          0.5569115331629004,
          0.4709120552818683,
          -0.5511771984791615,
          0.38672288804052146,
          0.49369878628381486,
          0.8742747551276879,
          -0.7728036843643227,
          -0.5316316557408409,
          -0.019359629269128015,
          -0.43540839748513804,
          2.193864246093326,
          0.7071061333240987,
          -0.6738965948167931,
          2.3946971136177124,
          1.2529062193552296,
          1.0214426121109126,
          -0.18054114299205762,
          -1.848921966805281,
          1.3846982722939123,
          0.37389409884423136,
          -0.5518891745455325,
          -0.812964815588062,
          -0.1445860029165156,
          0.5976439474074358,
          -0.031143888839414168,
          1.288640608161686,
          -1.3760544674922424,
          0.9963133082520479,
          0.9751556082817852,
          -0.07231954115489966,
          -0.36525133427411105,
          0.8539810900777741,
          -0.5593653152080624,
          1.6784765782994218,
          1.49764233252627,
          -0.8623001565375716,
          -0.7415847178841932,
          1.1902930047966387,
          0.5729387527499807,
          -0.2143483560074946
         ]
        },
        {
         "line": {
          "color": "rgba(55, 128, 191, 1.0)",
          "dash": "solid",
          "shape": "linear",
          "width": 1.3
         },
         "mode": "lines",
         "name": "B",
         "text": "",
         "type": "scatter",
         "x": [
          0,
          1,
          2,
          3,
          4,
          5,
          6,
          7,
          8,
          9,
          10,
          11,
          12,
          13,
          14,
          15,
          16,
          17,
          18,
          19,
          20,
          21,
          22,
          23,
          24,
          25,
          26,
          27,
          28,
          29,
          30,
          31,
          32,
          33,
          34,
          35,
          36,
          37,
          38,
          39,
          40,
          41,
          42,
          43,
          44,
          45,
          46,
          47,
          48,
          49,
          50,
          51,
          52,
          53,
          54,
          55,
          56,
          57,
          58,
          59,
          60,
          61,
          62,
          63,
          64,
          65,
          66,
          67,
          68,
          69,
          70,
          71,
          72,
          73,
          74,
          75,
          76,
          77,
          78,
          79,
          80,
          81,
          82,
          83,
          84,
          85,
          86,
          87,
          88,
          89,
          90,
          91,
          92,
          93,
          94,
          95,
          96,
          97,
          98,
          99
         ],
         "y": [
          -0.020590181209793654,
          0.5423503125602855,
          -0.8787354341663304,
          -0.4895306549248174,
          -0.48541537247821465,
          -1.1581842623847438,
          -0.2769367387336216,
          0.03311436155705231,
          1.6024816506045834,
          1.0831480858882039,
          -1.0072890793929596,
          1.6632133708190122,
          -0.10794673509633486,
          0.45432131136859577,
          -0.22565078146614284,
          0.45507286942503267,
          0.17974586396275005,
          -2.0175017586254036,
          1.2707085867867112,
          0.8107153806972188,
          1.3683894902998583,
          0.6721722990716655,
          -1.3053183578006817,
          0.5690108539109617,
          1.0528361089049871,
          -0.9946211425344996,
          0.13209780322860354,
          0.5975237600550157,
          -0.3990103367235594,
          0.8544023703785645,
          -0.3652754198522442,
          -0.9394329209739792,
          -1.8247763232964613,
          1.387400472070589,
          -0.6172006358456033,
          0.28514310772208395,
          -0.9194137609477232,
          -1.0945907934466066,
          -0.01812635633048244,
          -0.42870107832880905,
          -0.14583236585484136,
          -1.9112885076025667,
          -0.6064194759449073,
          -0.5831693992001507,
          -0.9885022195286823,
          -1.319588708902828,
          0.16146923595796253,
          -0.28246046695644217,
          -0.7714040710560138,
          0.5847383075181828,
          0.19107611317750492,
          -0.6526040938222579,
          0.5699402612438804,
          -0.9911031656265455,
          1.6493934330272855,
          1.9039049563987207,
          1.218355914745771,
          -0.494984884549906,
          0.11678360950276127,
          -1.2146187590914483,
          -1.1476654603988559,
          -0.6451013537990224,
          -0.9089642937379179,
          -0.3107932934346349,
          0.1431930390443773,
          0.49590287215018686,
          0.4685352804531265,
          0.10806855993380053,
          0.986890513730406,
          0.7865424288418571,
          -1.2351640606494476,
          -2.02351966824216,
          -1.370146862511068,
          -1.3253039883938387,
          -1.184340482150768,
          -0.5064055507257907,
          -3.1134408477432705,
          -1.3748114148134778,
          0.9623455167657223,
          0.15572759045814794,
          0.019438510421546488,
          -0.756212056642985,
          1.0393078996740457,
          1.283603086621441,
          0.013246115306398687,
          0.07988076305174152,
          1.7490019784053388,
          -0.9381427033010681,
          -0.7346416378276212,
          1.6403942432066971,
          -0.3292907770726725,
          0.6890521545829256,
          -1.1228315951030374,
          -0.25605505749699964,
          -0.16944549777624168,
          1.46716671061314,
          -0.18662380589638208,
          -1.7553469955013234,
          -0.1186070548456802,
          1.3868762776821497
         ]
        },
        {
         "line": {
          "color": "rgba(50, 171, 96, 1.0)",
          "dash": "solid",
          "shape": "linear",
          "width": 1.3
         },
         "mode": "lines",
         "name": "C",
         "text": "",
         "type": "scatter",
         "x": [
          0,
          1,
          2,
          3,
          4,
          5,
          6,
          7,
          8,
          9,
          10,
          11,
          12,
          13,
          14,
          15,
          16,
          17,
          18,
          19,
          20,
          21,
          22,
          23,
          24,
          25,
          26,
          27,
          28,
          29,
          30,
          31,
          32,
          33,
          34,
          35,
          36,
          37,
          38,
          39,
          40,
          41,
          42,
          43,
          44,
          45,
          46,
          47,
          48,
          49,
          50,
          51,
          52,
          53,
          54,
          55,
          56,
          57,
          58,
          59,
          60,
          61,
          62,
          63,
          64,
          65,
          66,
          67,
          68,
          69,
          70,
          71,
          72,
          73,
          74,
          75,
          76,
          77,
          78,
          79,
          80,
          81,
          82,
          83,
          84,
          85,
          86,
          87,
          88,
          89,
          90,
          91,
          92,
          93,
          94,
          95,
          96,
          97,
          98,
          99
         ],
         "y": [
          0.14358159005220242,
          0.2920812719560736,
          0.4034545189350478,
          1.1846433872331292,
          0.319242774725028,
          -1.0378007174169739,
          0.8566005112545779,
          1.230587387035751,
          -0.6904449421321213,
          0.5977777507201271,
          -0.2957408276879956,
          -1.2495092936375563,
          1.6656398714796146,
          -0.3446167923977057,
          -1.254503270950624,
          -1.1388161689544005,
          -0.1717411579167247,
          1.337329782119376,
          -1.6571968313842216,
          0.395304398552172,
          0.3331717998492536,
          1.027506271028855,
          1.6474630147154348,
          0.3976627652729076,
          0.407886600933332,
          -0.5530433271104201,
          1.0332177544732484,
          0.86768325022945,
          -0.3279844909807892,
          0.3341765602344462,
          -1.3314901096554927,
          0.09517340058130781,
          0.414233914581945,
          0.008258261866098746,
          -1.2358266866438095,
          -0.051510801020062245,
          -1.1018971303963652,
          -0.015386259776738126,
          -1.2133402799715634,
          0.7238599629917095,
          -0.39130890290694187,
          0.4279914942549863,
          -0.20925301904311044,
          -0.07715446690954722,
          -0.5219958922492965,
          0.5971498071391562,
          -0.5679311029386973,
          -0.6379609701710316,
          -0.008311692620811812,
          -1.3357400359256055,
          0.36352824933081623,
          -1.0139147273562739,
          -0.8276356994707972,
          -1.0139657015110843,
          0.9348172455435725,
          0.7346190521865691,
          0.32389401870404105,
          0.3890011873245929,
          0.5842398951563093,
          -0.025820761777430607,
          -0.6520353470200743,
          -0.1957954163288069,
          -0.8525926967078836,
          0.24534399615516964,
          0.6447632757277592,
          0.2444416159774107,
          0.6885672298514097,
          0.14182452610579782,
          -0.8383124174831217,
          -0.5256271659891929,
          0.7474320776428933,
          0.5498407131196493,
          0.4326392632653981,
          -1.0041028281208184,
          -0.023836964615872768,
          -0.5842708332074602,
          -1.3655332884624836,
          -0.7016652237620963,
          -0.2544652796566522,
          -0.9696356130351645,
          -0.16816395858146188,
          0.12710783669496098,
          -0.8217755283837832,
          0.7570671870362776,
          2.5475431730589433,
          -0.2276466929232567,
          0.4669050820081747,
          0.3904063276011235,
          0.6397549748807329,
          1.2479494093044476,
          -0.3393342010587006,
          0.02345841570658886,
          -0.5581521817674187,
          0.07108629812707043,
          0.13841439096535338,
          -0.3076131842355114,
          -0.44813213779990757,
          -0.7341619613796643,
          -1.0667492318297769,
          0.7541483808510677
         ]
        },
        {
         "line": {
          "color": "rgba(128, 0, 128, 1.0)",
          "dash": "solid",
          "shape": "linear",
          "width": 1.3
         },
         "mode": "lines",
         "name": "D",
         "text": "",
         "type": "scatter",
         "x": [
          0,
          1,
          2,
          3,
          4,
          5,
          6,
          7,
          8,
          9,
          10,
          11,
          12,
          13,
          14,
          15,
          16,
          17,
          18,
          19,
          20,
          21,
          22,
          23,
          24,
          25,
          26,
          27,
          28,
          29,
          30,
          31,
          32,
          33,
          34,
          35,
          36,
          37,
          38,
          39,
          40,
          41,
          42,
          43,
          44,
          45,
          46,
          47,
          48,
          49,
          50,
          51,
          52,
          53,
          54,
          55,
          56,
          57,
          58,
          59,
          60,
          61,
          62,
          63,
          64,
          65,
          66,
          67,
          68,
          69,
          70,
          71,
          72,
          73,
          74,
          75,
          76,
          77,
          78,
          79,
          80,
          81,
          82,
          83,
          84,
          85,
          86,
          87,
          88,
          89,
          90,
          91,
          92,
          93,
          94,
          95,
          96,
          97,
          98,
          99
         ],
         "y": [
          -1.1118640049651034,
          0.1491406043116301,
          -1.2221106374241755,
          -1.6875795839754855,
          -0.7558177324260064,
          -1.6337871211050123,
          0.22261233323591775,
          0.7915733560199928,
          1.6896287071492586,
          -0.1975697108903575,
          -1.8948362657753854,
          -0.2541235158529231,
          0.03661794809435186,
          0.7548769352154293,
          0.42547738622571923,
          0.46165798801264835,
          0.007295368926671065,
          0.891055630096048,
          0.24386729392890943,
          0.8307255191948365,
          0.35626459418787493,
          2.1578145958004145,
          -2.058911680464687,
          -0.27284665675569436,
          -0.15770271572799424,
          1.5033000533442646,
          -0.7496941979711484,
          0.8514411005089376,
          -0.3916152705357473,
          0.22689570064360143,
          -0.2197162949623533,
          -0.16579621986256468,
          1.7299343666421136,
          1.253065148652142,
          1.210314349675132,
          -0.44295688764545177,
          0.7521680139399465,
          -0.2674260111881133,
          1.7902607882569215,
          -1.2912637225126222,
          1.1762596418399858,
          0.3680637408772415,
          1.1759519499772664,
          -0.2752043603187563,
          0.1024792184516914,
          -0.5941545257254696,
          0.9489352620540739,
          -1.062895402760241,
          -1.0567115215569716,
          -2.3587912906105832,
          2.9653750929051372,
          -0.27421247498910417,
          -0.328514053729911,
          0.5734230922653505,
          -0.0607092670338549,
          1.1704828032581003,
          1.354998594411703,
          -0.6567767998847259,
          -0.10265296524401771,
          -0.27134167423686395,
          1.5412502872780447,
          0.5781757038302135,
          1.2224550744752862,
          -0.08639304752669724,
          0.9262617313935608,
          0.22324901110438788,
          -1.7744853454310123,
          1.1817122408866545,
          -0.5286257010564885,
          -2.7180104539156384,
          -1.0045558820687108,
          -1.1008071985316823,
          0.4275954953925082,
          -0.32492381688521127,
          -1.0280063715123986,
          0.23787612180794981,
          0.18686310544658025,
          -0.3497955317388221,
          -0.09738618475432757,
          -1.2290276943037652,
          0.5875304076931959,
          0.8814182541543529,
          -0.6781089026484597,
          -0.7373594071213471,
          1.115607766095368,
          0.12888807541459482,
          -0.8158561577836921,
          -0.5940310396993876,
          -0.5291881868373929,
          -0.5751787198636337,
          0.5108329935769008,
          1.2067401728845797,
          -1.4220280600408528,
          -0.24726913124166838,
          -0.14727165533210312,
          0.4513601251105589,
          0.7331496085916595,
          0.8068582051299986,
          0.8857024956321218,
          -0.3926293025656279
         ]
        }
       ],
       "layout": {
        "legend": {
         "bgcolor": "#F5F6F9",
         "font": {
          "color": "#4D5663"
         }
        },
        "paper_bgcolor": "#F5F6F9",
        "plot_bgcolor": "#F5F6F9",
        "template": {
         "data": {
          "bar": [
           {
            "error_x": {
             "color": "#2a3f5f"
            },
            "error_y": {
             "color": "#2a3f5f"
            },
            "marker": {
             "line": {
              "color": "#E5ECF6",
              "width": 0.5
             }
            },
            "type": "bar"
           }
          ],
          "barpolar": [
           {
            "marker": {
             "line": {
              "color": "#E5ECF6",
              "width": 0.5
             }
            },
            "type": "barpolar"
           }
          ],
          "carpet": [
           {
            "aaxis": {
             "endlinecolor": "#2a3f5f",
             "gridcolor": "white",
             "linecolor": "white",
             "minorgridcolor": "white",
             "startlinecolor": "#2a3f5f"
            },
            "baxis": {
             "endlinecolor": "#2a3f5f",
             "gridcolor": "white",
             "linecolor": "white",
             "minorgridcolor": "white",
             "startlinecolor": "#2a3f5f"
            },
            "type": "carpet"
           }
          ],
          "choropleth": [
           {
            "colorbar": {
             "outlinewidth": 0,
             "ticks": ""
            },
            "type": "choropleth"
           }
          ],
          "contour": [
           {
            "colorbar": {
             "outlinewidth": 0,
             "ticks": ""
            },
            "colorscale": [
             [
              0,
              "#0d0887"
             ],
             [
              0.1111111111111111,
              "#46039f"
             ],
             [
              0.2222222222222222,
              "#7201a8"
             ],
             [
              0.3333333333333333,
              "#9c179e"
             ],
             [
              0.4444444444444444,
              "#bd3786"
             ],
             [
              0.5555555555555556,
              "#d8576b"
             ],
             [
              0.6666666666666666,
              "#ed7953"
             ],
             [
              0.7777777777777778,
              "#fb9f3a"
             ],
             [
              0.8888888888888888,
              "#fdca26"
             ],
             [
              1,
              "#f0f921"
             ]
            ],
            "type": "contour"
           }
          ],
          "contourcarpet": [
           {
            "colorbar": {
             "outlinewidth": 0,
             "ticks": ""
            },
            "type": "contourcarpet"
           }
          ],
          "heatmap": [
           {
            "colorbar": {
             "outlinewidth": 0,
             "ticks": ""
            },
            "colorscale": [
             [
              0,
              "#0d0887"
             ],
             [
              0.1111111111111111,
              "#46039f"
             ],
             [
              0.2222222222222222,
              "#7201a8"
             ],
             [
              0.3333333333333333,
              "#9c179e"
             ],
             [
              0.4444444444444444,
              "#bd3786"
             ],
             [
              0.5555555555555556,
              "#d8576b"
             ],
             [
              0.6666666666666666,
              "#ed7953"
             ],
             [
              0.7777777777777778,
              "#fb9f3a"
             ],
             [
              0.8888888888888888,
              "#fdca26"
             ],
             [
              1,
              "#f0f921"
             ]
            ],
            "type": "heatmap"
           }
          ],
          "heatmapgl": [
           {
            "colorbar": {
             "outlinewidth": 0,
             "ticks": ""
            },
            "colorscale": [
             [
              0,
              "#0d0887"
             ],
             [
              0.1111111111111111,
              "#46039f"
             ],
             [
              0.2222222222222222,
              "#7201a8"
             ],
             [
              0.3333333333333333,
              "#9c179e"
             ],
             [
              0.4444444444444444,
              "#bd3786"
             ],
             [
              0.5555555555555556,
              "#d8576b"
             ],
             [
              0.6666666666666666,
              "#ed7953"
             ],
             [
              0.7777777777777778,
              "#fb9f3a"
             ],
             [
              0.8888888888888888,
              "#fdca26"
             ],
             [
              1,
              "#f0f921"
             ]
            ],
            "type": "heatmapgl"
           }
          ],
          "histogram": [
           {
            "marker": {
             "colorbar": {
              "outlinewidth": 0,
              "ticks": ""
             }
            },
            "type": "histogram"
           }
          ],
          "histogram2d": [
           {
            "colorbar": {
             "outlinewidth": 0,
             "ticks": ""
            },
            "colorscale": [
             [
              0,
              "#0d0887"
             ],
             [
              0.1111111111111111,
              "#46039f"
             ],
             [
              0.2222222222222222,
              "#7201a8"
             ],
             [
              0.3333333333333333,
              "#9c179e"
             ],
             [
              0.4444444444444444,
              "#bd3786"
             ],
             [
              0.5555555555555556,
              "#d8576b"
             ],
             [
              0.6666666666666666,
              "#ed7953"
             ],
             [
              0.7777777777777778,
              "#fb9f3a"
             ],
             [
              0.8888888888888888,
              "#fdca26"
             ],
             [
              1,
              "#f0f921"
             ]
            ],
            "type": "histogram2d"
           }
          ],
          "histogram2dcontour": [
           {
            "colorbar": {
             "outlinewidth": 0,
             "ticks": ""
            },
            "colorscale": [
             [
              0,
              "#0d0887"
             ],
             [
              0.1111111111111111,
              "#46039f"
             ],
             [
              0.2222222222222222,
              "#7201a8"
             ],
             [
              0.3333333333333333,
              "#9c179e"
             ],
             [
              0.4444444444444444,
              "#bd3786"
             ],
             [
              0.5555555555555556,
              "#d8576b"
             ],
             [
              0.6666666666666666,
              "#ed7953"
             ],
             [
              0.7777777777777778,
              "#fb9f3a"
             ],
             [
              0.8888888888888888,
              "#fdca26"
             ],
             [
              1,
              "#f0f921"
             ]
            ],
            "type": "histogram2dcontour"
           }
          ],
          "mesh3d": [
           {
            "colorbar": {
             "outlinewidth": 0,
             "ticks": ""
            },
            "type": "mesh3d"
           }
          ],
          "parcoords": [
           {
            "line": {
             "colorbar": {
              "outlinewidth": 0,
              "ticks": ""
             }
            },
            "type": "parcoords"
           }
          ],
          "pie": [
           {
            "automargin": true,
            "type": "pie"
           }
          ],
          "scatter": [
           {
            "marker": {
             "colorbar": {
              "outlinewidth": 0,
              "ticks": ""
             }
            },
            "type": "scatter"
           }
          ],
          "scatter3d": [
           {
            "line": {
             "colorbar": {
              "outlinewidth": 0,
              "ticks": ""
             }
            },
            "marker": {
             "colorbar": {
              "outlinewidth": 0,
              "ticks": ""
             }
            },
            "type": "scatter3d"
           }
          ],
          "scattercarpet": [
           {
            "marker": {
             "colorbar": {
              "outlinewidth": 0,
              "ticks": ""
             }
            },
            "type": "scattercarpet"
           }
          ],
          "scattergeo": [
           {
            "marker": {
             "colorbar": {
              "outlinewidth": 0,
              "ticks": ""
             }
            },
            "type": "scattergeo"
           }
          ],
          "scattergl": [
           {
            "marker": {
             "colorbar": {
              "outlinewidth": 0,
              "ticks": ""
             }
            },
            "type": "scattergl"
           }
          ],
          "scattermapbox": [
           {
            "marker": {
             "colorbar": {
              "outlinewidth": 0,
              "ticks": ""
             }
            },
            "type": "scattermapbox"
           }
          ],
          "scatterpolar": [
           {
            "marker": {
             "colorbar": {
              "outlinewidth": 0,
              "ticks": ""
             }
            },
            "type": "scatterpolar"
           }
          ],
          "scatterpolargl": [
           {
            "marker": {
             "colorbar": {
              "outlinewidth": 0,
              "ticks": ""
             }
            },
            "type": "scatterpolargl"
           }
          ],
          "scatterternary": [
           {
            "marker": {
             "colorbar": {
              "outlinewidth": 0,
              "ticks": ""
             }
            },
            "type": "scatterternary"
           }
          ],
          "surface": [
           {
            "colorbar": {
             "outlinewidth": 0,
             "ticks": ""
            },
            "colorscale": [
             [
              0,
              "#0d0887"
             ],
             [
              0.1111111111111111,
              "#46039f"
             ],
             [
              0.2222222222222222,
              "#7201a8"
             ],
             [
              0.3333333333333333,
              "#9c179e"
             ],
             [
              0.4444444444444444,
              "#bd3786"
             ],
             [
              0.5555555555555556,
              "#d8576b"
             ],
             [
              0.6666666666666666,
              "#ed7953"
             ],
             [
              0.7777777777777778,
              "#fb9f3a"
             ],
             [
              0.8888888888888888,
              "#fdca26"
             ],
             [
              1,
              "#f0f921"
             ]
            ],
            "type": "surface"
           }
          ],
          "table": [
           {
            "cells": {
             "fill": {
              "color": "#EBF0F8"
             },
             "line": {
              "color": "white"
             }
            },
            "header": {
             "fill": {
              "color": "#C8D4E3"
             },
             "line": {
              "color": "white"
             }
            },
            "type": "table"
           }
          ]
         },
         "layout": {
          "annotationdefaults": {
           "arrowcolor": "#2a3f5f",
           "arrowhead": 0,
           "arrowwidth": 1
          },
          "coloraxis": {
           "colorbar": {
            "outlinewidth": 0,
            "ticks": ""
           }
          },
          "colorscale": {
           "diverging": [
            [
             0,
             "#8e0152"
            ],
            [
             0.1,
             "#c51b7d"
            ],
            [
             0.2,
             "#de77ae"
            ],
            [
             0.3,
             "#f1b6da"
            ],
            [
             0.4,
             "#fde0ef"
            ],
            [
             0.5,
             "#f7f7f7"
            ],
            [
             0.6,
             "#e6f5d0"
            ],
            [
             0.7,
             "#b8e186"
            ],
            [
             0.8,
             "#7fbc41"
            ],
            [
             0.9,
             "#4d9221"
            ],
            [
             1,
             "#276419"
            ]
           ],
           "sequential": [
            [
             0,
             "#0d0887"
            ],
            [
             0.1111111111111111,
             "#46039f"
            ],
            [
             0.2222222222222222,
             "#7201a8"
            ],
            [
             0.3333333333333333,
             "#9c179e"
            ],
            [
             0.4444444444444444,
             "#bd3786"
            ],
            [
             0.5555555555555556,
             "#d8576b"
            ],
            [
             0.6666666666666666,
             "#ed7953"
            ],
            [
             0.7777777777777778,
             "#fb9f3a"
            ],
            [
             0.8888888888888888,
             "#fdca26"
            ],
            [
             1,
             "#f0f921"
            ]
           ],
           "sequentialminus": [
            [
             0,
             "#0d0887"
            ],
            [
             0.1111111111111111,
             "#46039f"
            ],
            [
             0.2222222222222222,
             "#7201a8"
            ],
            [
             0.3333333333333333,
             "#9c179e"
            ],
            [
             0.4444444444444444,
             "#bd3786"
            ],
            [
             0.5555555555555556,
             "#d8576b"
            ],
            [
             0.6666666666666666,
             "#ed7953"
            ],
            [
             0.7777777777777778,
             "#fb9f3a"
            ],
            [
             0.8888888888888888,
             "#fdca26"
            ],
            [
             1,
             "#f0f921"
            ]
           ]
          },
          "colorway": [
           "#636efa",
           "#EF553B",
           "#00cc96",
           "#ab63fa",
           "#FFA15A",
           "#19d3f3",
           "#FF6692",
           "#B6E880",
           "#FF97FF",
           "#FECB52"
          ],
          "font": {
           "color": "#2a3f5f"
          },
          "geo": {
           "bgcolor": "white",
           "lakecolor": "white",
           "landcolor": "#E5ECF6",
           "showlakes": true,
           "showland": true,
           "subunitcolor": "white"
          },
          "hoverlabel": {
           "align": "left"
          },
          "hovermode": "closest",
          "mapbox": {
           "style": "light"
          },
          "paper_bgcolor": "white",
          "plot_bgcolor": "#E5ECF6",
          "polar": {
           "angularaxis": {
            "gridcolor": "white",
            "linecolor": "white",
            "ticks": ""
           },
           "bgcolor": "#E5ECF6",
           "radialaxis": {
            "gridcolor": "white",
            "linecolor": "white",
            "ticks": ""
           }
          },
          "scene": {
           "xaxis": {
            "backgroundcolor": "#E5ECF6",
            "gridcolor": "white",
            "gridwidth": 2,
            "linecolor": "white",
            "showbackground": true,
            "ticks": "",
            "zerolinecolor": "white"
           },
           "yaxis": {
            "backgroundcolor": "#E5ECF6",
            "gridcolor": "white",
            "gridwidth": 2,
            "linecolor": "white",
            "showbackground": true,
            "ticks": "",
            "zerolinecolor": "white"
           },
           "zaxis": {
            "backgroundcolor": "#E5ECF6",
            "gridcolor": "white",
            "gridwidth": 2,
            "linecolor": "white",
            "showbackground": true,
            "ticks": "",
            "zerolinecolor": "white"
           }
          },
          "shapedefaults": {
           "line": {
            "color": "#2a3f5f"
           }
          },
          "ternary": {
           "aaxis": {
            "gridcolor": "white",
            "linecolor": "white",
            "ticks": ""
           },
           "baxis": {
            "gridcolor": "white",
            "linecolor": "white",
            "ticks": ""
           },
           "bgcolor": "#E5ECF6",
           "caxis": {
            "gridcolor": "white",
            "linecolor": "white",
            "ticks": ""
           }
          },
          "title": {
           "x": 0.05
          },
          "xaxis": {
           "automargin": true,
           "gridcolor": "white",
           "linecolor": "white",
           "ticks": "",
           "title": {
            "standoff": 15
           },
           "zerolinecolor": "white",
           "zerolinewidth": 2
          },
          "yaxis": {
           "automargin": true,
           "gridcolor": "white",
           "linecolor": "white",
           "ticks": "",
           "title": {
            "standoff": 15
           },
           "zerolinecolor": "white",
           "zerolinewidth": 2
          }
         }
        },
        "title": {
         "font": {
          "color": "#4D5663"
         }
        },
        "xaxis": {
         "gridcolor": "#E1E5ED",
         "showgrid": true,
         "tickfont": {
          "color": "#4D5663"
         },
         "title": {
          "font": {
           "color": "#4D5663"
          },
          "text": ""
         },
         "zerolinecolor": "#E1E5ED"
        },
        "yaxis": {
         "gridcolor": "#E1E5ED",
         "showgrid": true,
         "tickfont": {
          "color": "#4D5663"
         },
         "title": {
          "font": {
           "color": "#4D5663"
          },
          "text": ""
         },
         "zerolinecolor": "#E1E5ED"
        }
       }
      },
      "text/html": [
       "<div>\n",
       "        \n",
       "        \n",
       "            <div id=\"c1613c4b-99a3-43bb-ba5e-cc86f6d7c1e9\" class=\"plotly-graph-div\" style=\"height:525px; width:100%;\"></div>\n",
       "            <script type=\"text/javascript\">\n",
       "                require([\"plotly\"], function(Plotly) {\n",
       "                    window.PLOTLYENV=window.PLOTLYENV || {};\n",
       "                    window.PLOTLYENV.BASE_URL='https://plot.ly';\n",
       "                    \n",
       "                if (document.getElementById(\"c1613c4b-99a3-43bb-ba5e-cc86f6d7c1e9\")) {\n",
       "                    Plotly.newPlot(\n",
       "                        'c1613c4b-99a3-43bb-ba5e-cc86f6d7c1e9',\n",
       "                        [{\"line\": {\"color\": \"rgba(255, 153, 51, 1.0)\", \"dash\": \"solid\", \"shape\": \"linear\", \"width\": 1.3}, \"mode\": \"lines\", \"name\": \"A\", \"text\": \"\", \"type\": \"scatter\", \"x\": [0, 1, 2, 3, 4, 5, 6, 7, 8, 9, 10, 11, 12, 13, 14, 15, 16, 17, 18, 19, 20, 21, 22, 23, 24, 25, 26, 27, 28, 29, 30, 31, 32, 33, 34, 35, 36, 37, 38, 39, 40, 41, 42, 43, 44, 45, 46, 47, 48, 49, 50, 51, 52, 53, 54, 55, 56, 57, 58, 59, 60, 61, 62, 63, 64, 65, 66, 67, 68, 69, 70, 71, 72, 73, 74, 75, 76, 77, 78, 79, 80, 81, 82, 83, 84, 85, 86, 87, 88, 89, 90, 91, 92, 93, 94, 95, 96, 97, 98, 99], \"y\": [0.3464195938218623, 1.2191331189779477, -1.566198556307964, 0.46573085450095364, -0.15261785777811135, -0.8028457730946738, -1.2939789962191617, -0.6418087219226248, 1.9109107394573086, -0.7984950981964833, 0.37572064407586353, 0.10804546809227975, -0.2955939166246089, 0.6668013724677774, 1.606777904150411, 0.18473563502452545, -0.21514032491554505, -0.2776151300214792, 0.8398510702601665, -0.17787273295740644, 1.8394677466697062, -0.6830318073232281, 1.1910043748570203, -0.06296070100823661, 0.3893011193237392, -0.5418276224573682, 0.1456421026340764, 1.3478116660010542, 1.3398140902363653, 0.17909770396651062, -0.7347774212014662, -0.664509282045416, 1.9958932346583351, 0.06464239428800038, -0.17331233101528445, -1.5199911226136043, -0.011764777467682862, -0.22961655060029354, 0.8344144539000332, -0.6252542380202118, -0.35722719110995915, 1.4681106315488035, -0.972833984774363, -1.3185876357784978, 0.8369173852064116, -0.7203822787149038, 0.5391211086088187, 0.40930127362148827, 1.3305953798884078, 0.7875773751444973, 0.24411739461868534, -0.08843505642188325, 0.268342155604911, 0.053365885727759556, -0.027406353957162198, -0.542478529849032, 0.6176151365107044, -0.18176398391036097, -0.2045336720258062, 0.32644055801113225, 0.5569115331629004, 0.4709120552818683, -0.5511771984791615, 0.38672288804052146, 0.49369878628381486, 0.8742747551276879, -0.7728036843643227, -0.5316316557408409, -0.019359629269128015, -0.43540839748513804, 2.193864246093326, 0.7071061333240987, -0.6738965948167931, 2.3946971136177124, 1.2529062193552296, 1.0214426121109126, -0.18054114299205762, -1.848921966805281, 1.3846982722939123, 0.37389409884423136, -0.5518891745455325, -0.812964815588062, -0.1445860029165156, 0.5976439474074358, -0.031143888839414168, 1.288640608161686, -1.3760544674922424, 0.9963133082520479, 0.9751556082817852, -0.07231954115489966, -0.36525133427411105, 0.8539810900777741, -0.5593653152080624, 1.6784765782994218, 1.49764233252627, -0.8623001565375716, -0.7415847178841932, 1.1902930047966387, 0.5729387527499807, -0.2143483560074946]}, {\"line\": {\"color\": \"rgba(55, 128, 191, 1.0)\", \"dash\": \"solid\", \"shape\": \"linear\", \"width\": 1.3}, \"mode\": \"lines\", \"name\": \"B\", \"text\": \"\", \"type\": \"scatter\", \"x\": [0, 1, 2, 3, 4, 5, 6, 7, 8, 9, 10, 11, 12, 13, 14, 15, 16, 17, 18, 19, 20, 21, 22, 23, 24, 25, 26, 27, 28, 29, 30, 31, 32, 33, 34, 35, 36, 37, 38, 39, 40, 41, 42, 43, 44, 45, 46, 47, 48, 49, 50, 51, 52, 53, 54, 55, 56, 57, 58, 59, 60, 61, 62, 63, 64, 65, 66, 67, 68, 69, 70, 71, 72, 73, 74, 75, 76, 77, 78, 79, 80, 81, 82, 83, 84, 85, 86, 87, 88, 89, 90, 91, 92, 93, 94, 95, 96, 97, 98, 99], \"y\": [-0.020590181209793654, 0.5423503125602855, -0.8787354341663304, -0.4895306549248174, -0.48541537247821465, -1.1581842623847438, -0.2769367387336216, 0.03311436155705231, 1.6024816506045834, 1.0831480858882039, -1.0072890793929596, 1.6632133708190122, -0.10794673509633486, 0.45432131136859577, -0.22565078146614284, 0.45507286942503267, 0.17974586396275005, -2.0175017586254036, 1.2707085867867112, 0.8107153806972188, 1.3683894902998583, 0.6721722990716655, -1.3053183578006817, 0.5690108539109617, 1.0528361089049871, -0.9946211425344996, 0.13209780322860354, 0.5975237600550157, -0.3990103367235594, 0.8544023703785645, -0.3652754198522442, -0.9394329209739792, -1.8247763232964613, 1.387400472070589, -0.6172006358456033, 0.28514310772208395, -0.9194137609477232, -1.0945907934466066, -0.01812635633048244, -0.42870107832880905, -0.14583236585484136, -1.9112885076025667, -0.6064194759449073, -0.5831693992001507, -0.9885022195286823, -1.319588708902828, 0.16146923595796253, -0.28246046695644217, -0.7714040710560138, 0.5847383075181828, 0.19107611317750492, -0.6526040938222579, 0.5699402612438804, -0.9911031656265455, 1.6493934330272855, 1.9039049563987207, 1.218355914745771, -0.494984884549906, 0.11678360950276127, -1.2146187590914483, -1.1476654603988559, -0.6451013537990224, -0.9089642937379179, -0.3107932934346349, 0.1431930390443773, 0.49590287215018686, 0.4685352804531265, 0.10806855993380053, 0.986890513730406, 0.7865424288418571, -1.2351640606494476, -2.02351966824216, -1.370146862511068, -1.3253039883938387, -1.184340482150768, -0.5064055507257907, -3.1134408477432705, -1.3748114148134778, 0.9623455167657223, 0.15572759045814794, 0.019438510421546488, -0.756212056642985, 1.0393078996740457, 1.283603086621441, 0.013246115306398687, 0.07988076305174152, 1.7490019784053388, -0.9381427033010681, -0.7346416378276212, 1.6403942432066971, -0.3292907770726725, 0.6890521545829256, -1.1228315951030374, -0.25605505749699964, -0.16944549777624168, 1.46716671061314, -0.18662380589638208, -1.7553469955013234, -0.1186070548456802, 1.3868762776821497]}, {\"line\": {\"color\": \"rgba(50, 171, 96, 1.0)\", \"dash\": \"solid\", \"shape\": \"linear\", \"width\": 1.3}, \"mode\": \"lines\", \"name\": \"C\", \"text\": \"\", \"type\": \"scatter\", \"x\": [0, 1, 2, 3, 4, 5, 6, 7, 8, 9, 10, 11, 12, 13, 14, 15, 16, 17, 18, 19, 20, 21, 22, 23, 24, 25, 26, 27, 28, 29, 30, 31, 32, 33, 34, 35, 36, 37, 38, 39, 40, 41, 42, 43, 44, 45, 46, 47, 48, 49, 50, 51, 52, 53, 54, 55, 56, 57, 58, 59, 60, 61, 62, 63, 64, 65, 66, 67, 68, 69, 70, 71, 72, 73, 74, 75, 76, 77, 78, 79, 80, 81, 82, 83, 84, 85, 86, 87, 88, 89, 90, 91, 92, 93, 94, 95, 96, 97, 98, 99], \"y\": [0.14358159005220242, 0.2920812719560736, 0.4034545189350478, 1.1846433872331292, 0.319242774725028, -1.0378007174169739, 0.8566005112545779, 1.230587387035751, -0.6904449421321213, 0.5977777507201271, -0.2957408276879956, -1.2495092936375563, 1.6656398714796146, -0.3446167923977057, -1.254503270950624, -1.1388161689544005, -0.1717411579167247, 1.337329782119376, -1.6571968313842216, 0.395304398552172, 0.3331717998492536, 1.027506271028855, 1.6474630147154348, 0.3976627652729076, 0.407886600933332, -0.5530433271104201, 1.0332177544732484, 0.86768325022945, -0.3279844909807892, 0.3341765602344462, -1.3314901096554927, 0.09517340058130781, 0.414233914581945, 0.008258261866098746, -1.2358266866438095, -0.051510801020062245, -1.1018971303963652, -0.015386259776738126, -1.2133402799715634, 0.7238599629917095, -0.39130890290694187, 0.4279914942549863, -0.20925301904311044, -0.07715446690954722, -0.5219958922492965, 0.5971498071391562, -0.5679311029386973, -0.6379609701710316, -0.008311692620811812, -1.3357400359256055, 0.36352824933081623, -1.0139147273562739, -0.8276356994707972, -1.0139657015110843, 0.9348172455435725, 0.7346190521865691, 0.32389401870404105, 0.3890011873245929, 0.5842398951563093, -0.025820761777430607, -0.6520353470200743, -0.1957954163288069, -0.8525926967078836, 0.24534399615516964, 0.6447632757277592, 0.2444416159774107, 0.6885672298514097, 0.14182452610579782, -0.8383124174831217, -0.5256271659891929, 0.7474320776428933, 0.5498407131196493, 0.4326392632653981, -1.0041028281208184, -0.023836964615872768, -0.5842708332074602, -1.3655332884624836, -0.7016652237620963, -0.2544652796566522, -0.9696356130351645, -0.16816395858146188, 0.12710783669496098, -0.8217755283837832, 0.7570671870362776, 2.5475431730589433, -0.2276466929232567, 0.4669050820081747, 0.3904063276011235, 0.6397549748807329, 1.2479494093044476, -0.3393342010587006, 0.02345841570658886, -0.5581521817674187, 0.07108629812707043, 0.13841439096535338, -0.3076131842355114, -0.44813213779990757, -0.7341619613796643, -1.0667492318297769, 0.7541483808510677]}, {\"line\": {\"color\": \"rgba(128, 0, 128, 1.0)\", \"dash\": \"solid\", \"shape\": \"linear\", \"width\": 1.3}, \"mode\": \"lines\", \"name\": \"D\", \"text\": \"\", \"type\": \"scatter\", \"x\": [0, 1, 2, 3, 4, 5, 6, 7, 8, 9, 10, 11, 12, 13, 14, 15, 16, 17, 18, 19, 20, 21, 22, 23, 24, 25, 26, 27, 28, 29, 30, 31, 32, 33, 34, 35, 36, 37, 38, 39, 40, 41, 42, 43, 44, 45, 46, 47, 48, 49, 50, 51, 52, 53, 54, 55, 56, 57, 58, 59, 60, 61, 62, 63, 64, 65, 66, 67, 68, 69, 70, 71, 72, 73, 74, 75, 76, 77, 78, 79, 80, 81, 82, 83, 84, 85, 86, 87, 88, 89, 90, 91, 92, 93, 94, 95, 96, 97, 98, 99], \"y\": [-1.1118640049651034, 0.1491406043116301, -1.2221106374241755, -1.6875795839754855, -0.7558177324260064, -1.6337871211050123, 0.22261233323591775, 0.7915733560199928, 1.6896287071492586, -0.1975697108903575, -1.8948362657753854, -0.2541235158529231, 0.03661794809435186, 0.7548769352154293, 0.42547738622571923, 0.46165798801264835, 0.007295368926671065, 0.891055630096048, 0.24386729392890943, 0.8307255191948365, 0.35626459418787493, 2.1578145958004145, -2.058911680464687, -0.27284665675569436, -0.15770271572799424, 1.5033000533442646, -0.7496941979711484, 0.8514411005089376, -0.3916152705357473, 0.22689570064360143, -0.2197162949623533, -0.16579621986256468, 1.7299343666421136, 1.253065148652142, 1.210314349675132, -0.44295688764545177, 0.7521680139399465, -0.2674260111881133, 1.7902607882569215, -1.2912637225126222, 1.1762596418399858, 0.3680637408772415, 1.1759519499772664, -0.2752043603187563, 0.1024792184516914, -0.5941545257254696, 0.9489352620540739, -1.062895402760241, -1.0567115215569716, -2.3587912906105832, 2.9653750929051372, -0.27421247498910417, -0.328514053729911, 0.5734230922653505, -0.0607092670338549, 1.1704828032581003, 1.354998594411703, -0.6567767998847259, -0.10265296524401771, -0.27134167423686395, 1.5412502872780447, 0.5781757038302135, 1.2224550744752862, -0.08639304752669724, 0.9262617313935608, 0.22324901110438788, -1.7744853454310123, 1.1817122408866545, -0.5286257010564885, -2.7180104539156384, -1.0045558820687108, -1.1008071985316823, 0.4275954953925082, -0.32492381688521127, -1.0280063715123986, 0.23787612180794981, 0.18686310544658025, -0.3497955317388221, -0.09738618475432757, -1.2290276943037652, 0.5875304076931959, 0.8814182541543529, -0.6781089026484597, -0.7373594071213471, 1.115607766095368, 0.12888807541459482, -0.8158561577836921, -0.5940310396993876, -0.5291881868373929, -0.5751787198636337, 0.5108329935769008, 1.2067401728845797, -1.4220280600408528, -0.24726913124166838, -0.14727165533210312, 0.4513601251105589, 0.7331496085916595, 0.8068582051299986, 0.8857024956321218, -0.3926293025656279]}],\n",
       "                        {\"legend\": {\"bgcolor\": \"#F5F6F9\", \"font\": {\"color\": \"#4D5663\"}}, \"paper_bgcolor\": \"#F5F6F9\", \"plot_bgcolor\": \"#F5F6F9\", \"template\": {\"data\": {\"bar\": [{\"error_x\": {\"color\": \"#2a3f5f\"}, \"error_y\": {\"color\": \"#2a3f5f\"}, \"marker\": {\"line\": {\"color\": \"#E5ECF6\", \"width\": 0.5}}, \"type\": \"bar\"}], \"barpolar\": [{\"marker\": {\"line\": {\"color\": \"#E5ECF6\", \"width\": 0.5}}, \"type\": \"barpolar\"}], \"carpet\": [{\"aaxis\": {\"endlinecolor\": \"#2a3f5f\", \"gridcolor\": \"white\", \"linecolor\": \"white\", \"minorgridcolor\": \"white\", \"startlinecolor\": \"#2a3f5f\"}, \"baxis\": {\"endlinecolor\": \"#2a3f5f\", \"gridcolor\": \"white\", \"linecolor\": \"white\", \"minorgridcolor\": \"white\", \"startlinecolor\": \"#2a3f5f\"}, \"type\": \"carpet\"}], \"choropleth\": [{\"colorbar\": {\"outlinewidth\": 0, \"ticks\": \"\"}, \"type\": \"choropleth\"}], \"contour\": [{\"colorbar\": {\"outlinewidth\": 0, \"ticks\": \"\"}, \"colorscale\": [[0.0, \"#0d0887\"], [0.1111111111111111, \"#46039f\"], [0.2222222222222222, \"#7201a8\"], [0.3333333333333333, \"#9c179e\"], [0.4444444444444444, \"#bd3786\"], [0.5555555555555556, \"#d8576b\"], [0.6666666666666666, \"#ed7953\"], [0.7777777777777778, \"#fb9f3a\"], [0.8888888888888888, \"#fdca26\"], [1.0, \"#f0f921\"]], \"type\": \"contour\"}], \"contourcarpet\": [{\"colorbar\": {\"outlinewidth\": 0, \"ticks\": \"\"}, \"type\": \"contourcarpet\"}], \"heatmap\": [{\"colorbar\": {\"outlinewidth\": 0, \"ticks\": \"\"}, \"colorscale\": [[0.0, \"#0d0887\"], [0.1111111111111111, \"#46039f\"], [0.2222222222222222, \"#7201a8\"], [0.3333333333333333, \"#9c179e\"], [0.4444444444444444, \"#bd3786\"], [0.5555555555555556, \"#d8576b\"], [0.6666666666666666, \"#ed7953\"], [0.7777777777777778, \"#fb9f3a\"], [0.8888888888888888, \"#fdca26\"], [1.0, \"#f0f921\"]], \"type\": \"heatmap\"}], \"heatmapgl\": [{\"colorbar\": {\"outlinewidth\": 0, \"ticks\": \"\"}, \"colorscale\": [[0.0, \"#0d0887\"], [0.1111111111111111, \"#46039f\"], [0.2222222222222222, \"#7201a8\"], [0.3333333333333333, \"#9c179e\"], [0.4444444444444444, \"#bd3786\"], [0.5555555555555556, \"#d8576b\"], [0.6666666666666666, \"#ed7953\"], [0.7777777777777778, \"#fb9f3a\"], [0.8888888888888888, \"#fdca26\"], [1.0, \"#f0f921\"]], \"type\": \"heatmapgl\"}], \"histogram\": [{\"marker\": {\"colorbar\": {\"outlinewidth\": 0, \"ticks\": \"\"}}, \"type\": \"histogram\"}], \"histogram2d\": [{\"colorbar\": {\"outlinewidth\": 0, \"ticks\": \"\"}, \"colorscale\": [[0.0, \"#0d0887\"], [0.1111111111111111, \"#46039f\"], [0.2222222222222222, \"#7201a8\"], [0.3333333333333333, \"#9c179e\"], [0.4444444444444444, \"#bd3786\"], [0.5555555555555556, \"#d8576b\"], [0.6666666666666666, \"#ed7953\"], [0.7777777777777778, \"#fb9f3a\"], [0.8888888888888888, \"#fdca26\"], [1.0, \"#f0f921\"]], \"type\": \"histogram2d\"}], \"histogram2dcontour\": [{\"colorbar\": {\"outlinewidth\": 0, \"ticks\": \"\"}, \"colorscale\": [[0.0, \"#0d0887\"], [0.1111111111111111, \"#46039f\"], [0.2222222222222222, \"#7201a8\"], [0.3333333333333333, \"#9c179e\"], [0.4444444444444444, \"#bd3786\"], [0.5555555555555556, \"#d8576b\"], [0.6666666666666666, \"#ed7953\"], [0.7777777777777778, \"#fb9f3a\"], [0.8888888888888888, \"#fdca26\"], [1.0, \"#f0f921\"]], \"type\": \"histogram2dcontour\"}], \"mesh3d\": [{\"colorbar\": {\"outlinewidth\": 0, \"ticks\": \"\"}, \"type\": \"mesh3d\"}], \"parcoords\": [{\"line\": {\"colorbar\": {\"outlinewidth\": 0, \"ticks\": \"\"}}, \"type\": \"parcoords\"}], \"pie\": [{\"automargin\": true, \"type\": \"pie\"}], \"scatter\": [{\"marker\": {\"colorbar\": {\"outlinewidth\": 0, \"ticks\": \"\"}}, \"type\": \"scatter\"}], \"scatter3d\": [{\"line\": {\"colorbar\": {\"outlinewidth\": 0, \"ticks\": \"\"}}, \"marker\": {\"colorbar\": {\"outlinewidth\": 0, \"ticks\": \"\"}}, \"type\": \"scatter3d\"}], \"scattercarpet\": [{\"marker\": {\"colorbar\": {\"outlinewidth\": 0, \"ticks\": \"\"}}, \"type\": \"scattercarpet\"}], \"scattergeo\": [{\"marker\": {\"colorbar\": {\"outlinewidth\": 0, \"ticks\": \"\"}}, \"type\": \"scattergeo\"}], \"scattergl\": [{\"marker\": {\"colorbar\": {\"outlinewidth\": 0, \"ticks\": \"\"}}, \"type\": \"scattergl\"}], \"scattermapbox\": [{\"marker\": {\"colorbar\": {\"outlinewidth\": 0, \"ticks\": \"\"}}, \"type\": \"scattermapbox\"}], \"scatterpolar\": [{\"marker\": {\"colorbar\": {\"outlinewidth\": 0, \"ticks\": \"\"}}, \"type\": \"scatterpolar\"}], \"scatterpolargl\": [{\"marker\": {\"colorbar\": {\"outlinewidth\": 0, \"ticks\": \"\"}}, \"type\": \"scatterpolargl\"}], \"scatterternary\": [{\"marker\": {\"colorbar\": {\"outlinewidth\": 0, \"ticks\": \"\"}}, \"type\": \"scatterternary\"}], \"surface\": [{\"colorbar\": {\"outlinewidth\": 0, \"ticks\": \"\"}, \"colorscale\": [[0.0, \"#0d0887\"], [0.1111111111111111, \"#46039f\"], [0.2222222222222222, \"#7201a8\"], [0.3333333333333333, \"#9c179e\"], [0.4444444444444444, \"#bd3786\"], [0.5555555555555556, \"#d8576b\"], [0.6666666666666666, \"#ed7953\"], [0.7777777777777778, \"#fb9f3a\"], [0.8888888888888888, \"#fdca26\"], [1.0, \"#f0f921\"]], \"type\": \"surface\"}], \"table\": [{\"cells\": {\"fill\": {\"color\": \"#EBF0F8\"}, \"line\": {\"color\": \"white\"}}, \"header\": {\"fill\": {\"color\": \"#C8D4E3\"}, \"line\": {\"color\": \"white\"}}, \"type\": \"table\"}]}, \"layout\": {\"annotationdefaults\": {\"arrowcolor\": \"#2a3f5f\", \"arrowhead\": 0, \"arrowwidth\": 1}, \"coloraxis\": {\"colorbar\": {\"outlinewidth\": 0, \"ticks\": \"\"}}, \"colorscale\": {\"diverging\": [[0, \"#8e0152\"], [0.1, \"#c51b7d\"], [0.2, \"#de77ae\"], [0.3, \"#f1b6da\"], [0.4, \"#fde0ef\"], [0.5, \"#f7f7f7\"], [0.6, \"#e6f5d0\"], [0.7, \"#b8e186\"], [0.8, \"#7fbc41\"], [0.9, \"#4d9221\"], [1, \"#276419\"]], \"sequential\": [[0.0, \"#0d0887\"], [0.1111111111111111, \"#46039f\"], [0.2222222222222222, \"#7201a8\"], [0.3333333333333333, \"#9c179e\"], [0.4444444444444444, \"#bd3786\"], [0.5555555555555556, \"#d8576b\"], [0.6666666666666666, \"#ed7953\"], [0.7777777777777778, \"#fb9f3a\"], [0.8888888888888888, \"#fdca26\"], [1.0, \"#f0f921\"]], \"sequentialminus\": [[0.0, \"#0d0887\"], [0.1111111111111111, \"#46039f\"], [0.2222222222222222, \"#7201a8\"], [0.3333333333333333, \"#9c179e\"], [0.4444444444444444, \"#bd3786\"], [0.5555555555555556, \"#d8576b\"], [0.6666666666666666, \"#ed7953\"], [0.7777777777777778, \"#fb9f3a\"], [0.8888888888888888, \"#fdca26\"], [1.0, \"#f0f921\"]]}, \"colorway\": [\"#636efa\", \"#EF553B\", \"#00cc96\", \"#ab63fa\", \"#FFA15A\", \"#19d3f3\", \"#FF6692\", \"#B6E880\", \"#FF97FF\", \"#FECB52\"], \"font\": {\"color\": \"#2a3f5f\"}, \"geo\": {\"bgcolor\": \"white\", \"lakecolor\": \"white\", \"landcolor\": \"#E5ECF6\", \"showlakes\": true, \"showland\": true, \"subunitcolor\": \"white\"}, \"hoverlabel\": {\"align\": \"left\"}, \"hovermode\": \"closest\", \"mapbox\": {\"style\": \"light\"}, \"paper_bgcolor\": \"white\", \"plot_bgcolor\": \"#E5ECF6\", \"polar\": {\"angularaxis\": {\"gridcolor\": \"white\", \"linecolor\": \"white\", \"ticks\": \"\"}, \"bgcolor\": \"#E5ECF6\", \"radialaxis\": {\"gridcolor\": \"white\", \"linecolor\": \"white\", \"ticks\": \"\"}}, \"scene\": {\"xaxis\": {\"backgroundcolor\": \"#E5ECF6\", \"gridcolor\": \"white\", \"gridwidth\": 2, \"linecolor\": \"white\", \"showbackground\": true, \"ticks\": \"\", \"zerolinecolor\": \"white\"}, \"yaxis\": {\"backgroundcolor\": \"#E5ECF6\", \"gridcolor\": \"white\", \"gridwidth\": 2, \"linecolor\": \"white\", \"showbackground\": true, \"ticks\": \"\", \"zerolinecolor\": \"white\"}, \"zaxis\": {\"backgroundcolor\": \"#E5ECF6\", \"gridcolor\": \"white\", \"gridwidth\": 2, \"linecolor\": \"white\", \"showbackground\": true, \"ticks\": \"\", \"zerolinecolor\": \"white\"}}, \"shapedefaults\": {\"line\": {\"color\": \"#2a3f5f\"}}, \"ternary\": {\"aaxis\": {\"gridcolor\": \"white\", \"linecolor\": \"white\", \"ticks\": \"\"}, \"baxis\": {\"gridcolor\": \"white\", \"linecolor\": \"white\", \"ticks\": \"\"}, \"bgcolor\": \"#E5ECF6\", \"caxis\": {\"gridcolor\": \"white\", \"linecolor\": \"white\", \"ticks\": \"\"}}, \"title\": {\"x\": 0.05}, \"xaxis\": {\"automargin\": true, \"gridcolor\": \"white\", \"linecolor\": \"white\", \"ticks\": \"\", \"title\": {\"standoff\": 15}, \"zerolinecolor\": \"white\", \"zerolinewidth\": 2}, \"yaxis\": {\"automargin\": true, \"gridcolor\": \"white\", \"linecolor\": \"white\", \"ticks\": \"\", \"title\": {\"standoff\": 15}, \"zerolinecolor\": \"white\", \"zerolinewidth\": 2}}}, \"title\": {\"font\": {\"color\": \"#4D5663\"}}, \"xaxis\": {\"gridcolor\": \"#E1E5ED\", \"showgrid\": true, \"tickfont\": {\"color\": \"#4D5663\"}, \"title\": {\"font\": {\"color\": \"#4D5663\"}, \"text\": \"\"}, \"zerolinecolor\": \"#E1E5ED\"}, \"yaxis\": {\"gridcolor\": \"#E1E5ED\", \"showgrid\": true, \"tickfont\": {\"color\": \"#4D5663\"}, \"title\": {\"font\": {\"color\": \"#4D5663\"}, \"text\": \"\"}, \"zerolinecolor\": \"#E1E5ED\"}},\n",
       "                        {\"showLink\": true, \"linkText\": \"Export to plot.ly\", \"plotlyServerURL\": \"https://plot.ly\", \"responsive\": true}\n",
       "                    ).then(function(){\n",
       "                            \n",
       "var gd = document.getElementById('c1613c4b-99a3-43bb-ba5e-cc86f6d7c1e9');\n",
       "var x = new MutationObserver(function (mutations, observer) {{\n",
       "        var display = window.getComputedStyle(gd).display;\n",
       "        if (!display || display === 'none') {{\n",
       "            console.log([gd, 'removed!']);\n",
       "            Plotly.purge(gd);\n",
       "            observer.disconnect();\n",
       "        }}\n",
       "}});\n",
       "\n",
       "// Listen for the removal of the full notebook cells\n",
       "var notebookContainer = gd.closest('#notebook-container');\n",
       "if (notebookContainer) {{\n",
       "    x.observe(notebookContainer, {childList: true});\n",
       "}}\n",
       "\n",
       "// Listen for the clearing of the current output cell\n",
       "var outputEl = gd.closest('.output');\n",
       "if (outputEl) {{\n",
       "    x.observe(outputEl, {childList: true});\n",
       "}}\n",
       "\n",
       "                        })\n",
       "                };\n",
       "                });\n",
       "            </script>\n",
       "        </div>"
      ]
     },
     "metadata": {},
     "output_type": "display_data"
    }
   ],
   "source": [
    "df.iplot()"
   ]
  },
  {
   "cell_type": "code",
   "execution_count": 19,
   "metadata": {},
   "outputs": [
    {
     "data": {
      "application/vnd.plotly.v1+json": {
       "config": {
        "linkText": "Export to plot.ly",
        "plotlyServerURL": "https://plot.ly",
        "showLink": true
       },
       "data": [
        {
         "line": {
          "color": "rgba(255, 153, 51, 1.0)",
          "dash": "solid",
          "shape": "linear",
          "width": 1.3
         },
         "mode": "lines",
         "name": "B",
         "text": "",
         "type": "scatter",
         "x": [
          0.3464195938218623,
          1.2191331189779477,
          -1.566198556307964,
          0.46573085450095364,
          -0.15261785777811135,
          -0.8028457730946738,
          -1.2939789962191617,
          -0.6418087219226248,
          1.9109107394573086,
          -0.7984950981964833,
          0.37572064407586353,
          0.10804546809227975,
          -0.2955939166246089,
          0.6668013724677774,
          1.606777904150411,
          0.18473563502452545,
          -0.21514032491554505,
          -0.2776151300214792,
          0.8398510702601665,
          -0.17787273295740644,
          1.8394677466697062,
          -0.6830318073232281,
          1.1910043748570203,
          -0.06296070100823661,
          0.3893011193237392,
          -0.5418276224573682,
          0.1456421026340764,
          1.3478116660010542,
          1.3398140902363653,
          0.17909770396651062,
          -0.7347774212014662,
          -0.664509282045416,
          1.9958932346583351,
          0.06464239428800038,
          -0.17331233101528445,
          -1.5199911226136043,
          -0.011764777467682862,
          -0.22961655060029354,
          0.8344144539000332,
          -0.6252542380202118,
          -0.35722719110995915,
          1.4681106315488035,
          -0.972833984774363,
          -1.3185876357784978,
          0.8369173852064116,
          -0.7203822787149038,
          0.5391211086088187,
          0.40930127362148827,
          1.3305953798884078,
          0.7875773751444973,
          0.24411739461868534,
          -0.08843505642188325,
          0.268342155604911,
          0.053365885727759556,
          -0.027406353957162198,
          -0.542478529849032,
          0.6176151365107044,
          -0.18176398391036097,
          -0.2045336720258062,
          0.32644055801113225,
          0.5569115331629004,
          0.4709120552818683,
          -0.5511771984791615,
          0.38672288804052146,
          0.49369878628381486,
          0.8742747551276879,
          -0.7728036843643227,
          -0.5316316557408409,
          -0.019359629269128015,
          -0.43540839748513804,
          2.193864246093326,
          0.7071061333240987,
          -0.6738965948167931,
          2.3946971136177124,
          1.2529062193552296,
          1.0214426121109126,
          -0.18054114299205762,
          -1.848921966805281,
          1.3846982722939123,
          0.37389409884423136,
          -0.5518891745455325,
          -0.812964815588062,
          -0.1445860029165156,
          0.5976439474074358,
          -0.031143888839414168,
          1.288640608161686,
          -1.3760544674922424,
          0.9963133082520479,
          0.9751556082817852,
          -0.07231954115489966,
          -0.36525133427411105,
          0.8539810900777741,
          -0.5593653152080624,
          1.6784765782994218,
          1.49764233252627,
          -0.8623001565375716,
          -0.7415847178841932,
          1.1902930047966387,
          0.5729387527499807,
          -0.2143483560074946
         ],
         "y": [
          -0.020590181209793654,
          0.5423503125602855,
          -0.8787354341663304,
          -0.4895306549248174,
          -0.48541537247821465,
          -1.1581842623847438,
          -0.2769367387336216,
          0.03311436155705231,
          1.6024816506045834,
          1.0831480858882039,
          -1.0072890793929596,
          1.6632133708190122,
          -0.10794673509633486,
          0.45432131136859577,
          -0.22565078146614284,
          0.45507286942503267,
          0.17974586396275005,
          -2.0175017586254036,
          1.2707085867867112,
          0.8107153806972188,
          1.3683894902998583,
          0.6721722990716655,
          -1.3053183578006817,
          0.5690108539109617,
          1.0528361089049871,
          -0.9946211425344996,
          0.13209780322860354,
          0.5975237600550157,
          -0.3990103367235594,
          0.8544023703785645,
          -0.3652754198522442,
          -0.9394329209739792,
          -1.8247763232964613,
          1.387400472070589,
          -0.6172006358456033,
          0.28514310772208395,
          -0.9194137609477232,
          -1.0945907934466066,
          -0.01812635633048244,
          -0.42870107832880905,
          -0.14583236585484136,
          -1.9112885076025667,
          -0.6064194759449073,
          -0.5831693992001507,
          -0.9885022195286823,
          -1.319588708902828,
          0.16146923595796253,
          -0.28246046695644217,
          -0.7714040710560138,
          0.5847383075181828,
          0.19107611317750492,
          -0.6526040938222579,
          0.5699402612438804,
          -0.9911031656265455,
          1.6493934330272855,
          1.9039049563987207,
          1.218355914745771,
          -0.494984884549906,
          0.11678360950276127,
          -1.2146187590914483,
          -1.1476654603988559,
          -0.6451013537990224,
          -0.9089642937379179,
          -0.3107932934346349,
          0.1431930390443773,
          0.49590287215018686,
          0.4685352804531265,
          0.10806855993380053,
          0.986890513730406,
          0.7865424288418571,
          -1.2351640606494476,
          -2.02351966824216,
          -1.370146862511068,
          -1.3253039883938387,
          -1.184340482150768,
          -0.5064055507257907,
          -3.1134408477432705,
          -1.3748114148134778,
          0.9623455167657223,
          0.15572759045814794,
          0.019438510421546488,
          -0.756212056642985,
          1.0393078996740457,
          1.283603086621441,
          0.013246115306398687,
          0.07988076305174152,
          1.7490019784053388,
          -0.9381427033010681,
          -0.7346416378276212,
          1.6403942432066971,
          -0.3292907770726725,
          0.6890521545829256,
          -1.1228315951030374,
          -0.25605505749699964,
          -0.16944549777624168,
          1.46716671061314,
          -0.18662380589638208,
          -1.7553469955013234,
          -0.1186070548456802,
          1.3868762776821497
         ]
        }
       ],
       "layout": {
        "legend": {
         "bgcolor": "#F5F6F9",
         "font": {
          "color": "#4D5663"
         }
        },
        "paper_bgcolor": "#F5F6F9",
        "plot_bgcolor": "#F5F6F9",
        "template": {
         "data": {
          "bar": [
           {
            "error_x": {
             "color": "#2a3f5f"
            },
            "error_y": {
             "color": "#2a3f5f"
            },
            "marker": {
             "line": {
              "color": "#E5ECF6",
              "width": 0.5
             }
            },
            "type": "bar"
           }
          ],
          "barpolar": [
           {
            "marker": {
             "line": {
              "color": "#E5ECF6",
              "width": 0.5
             }
            },
            "type": "barpolar"
           }
          ],
          "carpet": [
           {
            "aaxis": {
             "endlinecolor": "#2a3f5f",
             "gridcolor": "white",
             "linecolor": "white",
             "minorgridcolor": "white",
             "startlinecolor": "#2a3f5f"
            },
            "baxis": {
             "endlinecolor": "#2a3f5f",
             "gridcolor": "white",
             "linecolor": "white",
             "minorgridcolor": "white",
             "startlinecolor": "#2a3f5f"
            },
            "type": "carpet"
           }
          ],
          "choropleth": [
           {
            "colorbar": {
             "outlinewidth": 0,
             "ticks": ""
            },
            "type": "choropleth"
           }
          ],
          "contour": [
           {
            "colorbar": {
             "outlinewidth": 0,
             "ticks": ""
            },
            "colorscale": [
             [
              0,
              "#0d0887"
             ],
             [
              0.1111111111111111,
              "#46039f"
             ],
             [
              0.2222222222222222,
              "#7201a8"
             ],
             [
              0.3333333333333333,
              "#9c179e"
             ],
             [
              0.4444444444444444,
              "#bd3786"
             ],
             [
              0.5555555555555556,
              "#d8576b"
             ],
             [
              0.6666666666666666,
              "#ed7953"
             ],
             [
              0.7777777777777778,
              "#fb9f3a"
             ],
             [
              0.8888888888888888,
              "#fdca26"
             ],
             [
              1,
              "#f0f921"
             ]
            ],
            "type": "contour"
           }
          ],
          "contourcarpet": [
           {
            "colorbar": {
             "outlinewidth": 0,
             "ticks": ""
            },
            "type": "contourcarpet"
           }
          ],
          "heatmap": [
           {
            "colorbar": {
             "outlinewidth": 0,
             "ticks": ""
            },
            "colorscale": [
             [
              0,
              "#0d0887"
             ],
             [
              0.1111111111111111,
              "#46039f"
             ],
             [
              0.2222222222222222,
              "#7201a8"
             ],
             [
              0.3333333333333333,
              "#9c179e"
             ],
             [
              0.4444444444444444,
              "#bd3786"
             ],
             [
              0.5555555555555556,
              "#d8576b"
             ],
             [
              0.6666666666666666,
              "#ed7953"
             ],
             [
              0.7777777777777778,
              "#fb9f3a"
             ],
             [
              0.8888888888888888,
              "#fdca26"
             ],
             [
              1,
              "#f0f921"
             ]
            ],
            "type": "heatmap"
           }
          ],
          "heatmapgl": [
           {
            "colorbar": {
             "outlinewidth": 0,
             "ticks": ""
            },
            "colorscale": [
             [
              0,
              "#0d0887"
             ],
             [
              0.1111111111111111,
              "#46039f"
             ],
             [
              0.2222222222222222,
              "#7201a8"
             ],
             [
              0.3333333333333333,
              "#9c179e"
             ],
             [
              0.4444444444444444,
              "#bd3786"
             ],
             [
              0.5555555555555556,
              "#d8576b"
             ],
             [
              0.6666666666666666,
              "#ed7953"
             ],
             [
              0.7777777777777778,
              "#fb9f3a"
             ],
             [
              0.8888888888888888,
              "#fdca26"
             ],
             [
              1,
              "#f0f921"
             ]
            ],
            "type": "heatmapgl"
           }
          ],
          "histogram": [
           {
            "marker": {
             "colorbar": {
              "outlinewidth": 0,
              "ticks": ""
             }
            },
            "type": "histogram"
           }
          ],
          "histogram2d": [
           {
            "colorbar": {
             "outlinewidth": 0,
             "ticks": ""
            },
            "colorscale": [
             [
              0,
              "#0d0887"
             ],
             [
              0.1111111111111111,
              "#46039f"
             ],
             [
              0.2222222222222222,
              "#7201a8"
             ],
             [
              0.3333333333333333,
              "#9c179e"
             ],
             [
              0.4444444444444444,
              "#bd3786"
             ],
             [
              0.5555555555555556,
              "#d8576b"
             ],
             [
              0.6666666666666666,
              "#ed7953"
             ],
             [
              0.7777777777777778,
              "#fb9f3a"
             ],
             [
              0.8888888888888888,
              "#fdca26"
             ],
             [
              1,
              "#f0f921"
             ]
            ],
            "type": "histogram2d"
           }
          ],
          "histogram2dcontour": [
           {
            "colorbar": {
             "outlinewidth": 0,
             "ticks": ""
            },
            "colorscale": [
             [
              0,
              "#0d0887"
             ],
             [
              0.1111111111111111,
              "#46039f"
             ],
             [
              0.2222222222222222,
              "#7201a8"
             ],
             [
              0.3333333333333333,
              "#9c179e"
             ],
             [
              0.4444444444444444,
              "#bd3786"
             ],
             [
              0.5555555555555556,
              "#d8576b"
             ],
             [
              0.6666666666666666,
              "#ed7953"
             ],
             [
              0.7777777777777778,
              "#fb9f3a"
             ],
             [
              0.8888888888888888,
              "#fdca26"
             ],
             [
              1,
              "#f0f921"
             ]
            ],
            "type": "histogram2dcontour"
           }
          ],
          "mesh3d": [
           {
            "colorbar": {
             "outlinewidth": 0,
             "ticks": ""
            },
            "type": "mesh3d"
           }
          ],
          "parcoords": [
           {
            "line": {
             "colorbar": {
              "outlinewidth": 0,
              "ticks": ""
             }
            },
            "type": "parcoords"
           }
          ],
          "pie": [
           {
            "automargin": true,
            "type": "pie"
           }
          ],
          "scatter": [
           {
            "marker": {
             "colorbar": {
              "outlinewidth": 0,
              "ticks": ""
             }
            },
            "type": "scatter"
           }
          ],
          "scatter3d": [
           {
            "line": {
             "colorbar": {
              "outlinewidth": 0,
              "ticks": ""
             }
            },
            "marker": {
             "colorbar": {
              "outlinewidth": 0,
              "ticks": ""
             }
            },
            "type": "scatter3d"
           }
          ],
          "scattercarpet": [
           {
            "marker": {
             "colorbar": {
              "outlinewidth": 0,
              "ticks": ""
             }
            },
            "type": "scattercarpet"
           }
          ],
          "scattergeo": [
           {
            "marker": {
             "colorbar": {
              "outlinewidth": 0,
              "ticks": ""
             }
            },
            "type": "scattergeo"
           }
          ],
          "scattergl": [
           {
            "marker": {
             "colorbar": {
              "outlinewidth": 0,
              "ticks": ""
             }
            },
            "type": "scattergl"
           }
          ],
          "scattermapbox": [
           {
            "marker": {
             "colorbar": {
              "outlinewidth": 0,
              "ticks": ""
             }
            },
            "type": "scattermapbox"
           }
          ],
          "scatterpolar": [
           {
            "marker": {
             "colorbar": {
              "outlinewidth": 0,
              "ticks": ""
             }
            },
            "type": "scatterpolar"
           }
          ],
          "scatterpolargl": [
           {
            "marker": {
             "colorbar": {
              "outlinewidth": 0,
              "ticks": ""
             }
            },
            "type": "scatterpolargl"
           }
          ],
          "scatterternary": [
           {
            "marker": {
             "colorbar": {
              "outlinewidth": 0,
              "ticks": ""
             }
            },
            "type": "scatterternary"
           }
          ],
          "surface": [
           {
            "colorbar": {
             "outlinewidth": 0,
             "ticks": ""
            },
            "colorscale": [
             [
              0,
              "#0d0887"
             ],
             [
              0.1111111111111111,
              "#46039f"
             ],
             [
              0.2222222222222222,
              "#7201a8"
             ],
             [
              0.3333333333333333,
              "#9c179e"
             ],
             [
              0.4444444444444444,
              "#bd3786"
             ],
             [
              0.5555555555555556,
              "#d8576b"
             ],
             [
              0.6666666666666666,
              "#ed7953"
             ],
             [
              0.7777777777777778,
              "#fb9f3a"
             ],
             [
              0.8888888888888888,
              "#fdca26"
             ],
             [
              1,
              "#f0f921"
             ]
            ],
            "type": "surface"
           }
          ],
          "table": [
           {
            "cells": {
             "fill": {
              "color": "#EBF0F8"
             },
             "line": {
              "color": "white"
             }
            },
            "header": {
             "fill": {
              "color": "#C8D4E3"
             },
             "line": {
              "color": "white"
             }
            },
            "type": "table"
           }
          ]
         },
         "layout": {
          "annotationdefaults": {
           "arrowcolor": "#2a3f5f",
           "arrowhead": 0,
           "arrowwidth": 1
          },
          "coloraxis": {
           "colorbar": {
            "outlinewidth": 0,
            "ticks": ""
           }
          },
          "colorscale": {
           "diverging": [
            [
             0,
             "#8e0152"
            ],
            [
             0.1,
             "#c51b7d"
            ],
            [
             0.2,
             "#de77ae"
            ],
            [
             0.3,
             "#f1b6da"
            ],
            [
             0.4,
             "#fde0ef"
            ],
            [
             0.5,
             "#f7f7f7"
            ],
            [
             0.6,
             "#e6f5d0"
            ],
            [
             0.7,
             "#b8e186"
            ],
            [
             0.8,
             "#7fbc41"
            ],
            [
             0.9,
             "#4d9221"
            ],
            [
             1,
             "#276419"
            ]
           ],
           "sequential": [
            [
             0,
             "#0d0887"
            ],
            [
             0.1111111111111111,
             "#46039f"
            ],
            [
             0.2222222222222222,
             "#7201a8"
            ],
            [
             0.3333333333333333,
             "#9c179e"
            ],
            [
             0.4444444444444444,
             "#bd3786"
            ],
            [
             0.5555555555555556,
             "#d8576b"
            ],
            [
             0.6666666666666666,
             "#ed7953"
            ],
            [
             0.7777777777777778,
             "#fb9f3a"
            ],
            [
             0.8888888888888888,
             "#fdca26"
            ],
            [
             1,
             "#f0f921"
            ]
           ],
           "sequentialminus": [
            [
             0,
             "#0d0887"
            ],
            [
             0.1111111111111111,
             "#46039f"
            ],
            [
             0.2222222222222222,
             "#7201a8"
            ],
            [
             0.3333333333333333,
             "#9c179e"
            ],
            [
             0.4444444444444444,
             "#bd3786"
            ],
            [
             0.5555555555555556,
             "#d8576b"
            ],
            [
             0.6666666666666666,
             "#ed7953"
            ],
            [
             0.7777777777777778,
             "#fb9f3a"
            ],
            [
             0.8888888888888888,
             "#fdca26"
            ],
            [
             1,
             "#f0f921"
            ]
           ]
          },
          "colorway": [
           "#636efa",
           "#EF553B",
           "#00cc96",
           "#ab63fa",
           "#FFA15A",
           "#19d3f3",
           "#FF6692",
           "#B6E880",
           "#FF97FF",
           "#FECB52"
          ],
          "font": {
           "color": "#2a3f5f"
          },
          "geo": {
           "bgcolor": "white",
           "lakecolor": "white",
           "landcolor": "#E5ECF6",
           "showlakes": true,
           "showland": true,
           "subunitcolor": "white"
          },
          "hoverlabel": {
           "align": "left"
          },
          "hovermode": "closest",
          "mapbox": {
           "style": "light"
          },
          "paper_bgcolor": "white",
          "plot_bgcolor": "#E5ECF6",
          "polar": {
           "angularaxis": {
            "gridcolor": "white",
            "linecolor": "white",
            "ticks": ""
           },
           "bgcolor": "#E5ECF6",
           "radialaxis": {
            "gridcolor": "white",
            "linecolor": "white",
            "ticks": ""
           }
          },
          "scene": {
           "xaxis": {
            "backgroundcolor": "#E5ECF6",
            "gridcolor": "white",
            "gridwidth": 2,
            "linecolor": "white",
            "showbackground": true,
            "ticks": "",
            "zerolinecolor": "white"
           },
           "yaxis": {
            "backgroundcolor": "#E5ECF6",
            "gridcolor": "white",
            "gridwidth": 2,
            "linecolor": "white",
            "showbackground": true,
            "ticks": "",
            "zerolinecolor": "white"
           },
           "zaxis": {
            "backgroundcolor": "#E5ECF6",
            "gridcolor": "white",
            "gridwidth": 2,
            "linecolor": "white",
            "showbackground": true,
            "ticks": "",
            "zerolinecolor": "white"
           }
          },
          "shapedefaults": {
           "line": {
            "color": "#2a3f5f"
           }
          },
          "ternary": {
           "aaxis": {
            "gridcolor": "white",
            "linecolor": "white",
            "ticks": ""
           },
           "baxis": {
            "gridcolor": "white",
            "linecolor": "white",
            "ticks": ""
           },
           "bgcolor": "#E5ECF6",
           "caxis": {
            "gridcolor": "white",
            "linecolor": "white",
            "ticks": ""
           }
          },
          "title": {
           "x": 0.05
          },
          "xaxis": {
           "automargin": true,
           "gridcolor": "white",
           "linecolor": "white",
           "ticks": "",
           "title": {
            "standoff": 15
           },
           "zerolinecolor": "white",
           "zerolinewidth": 2
          },
          "yaxis": {
           "automargin": true,
           "gridcolor": "white",
           "linecolor": "white",
           "ticks": "",
           "title": {
            "standoff": 15
           },
           "zerolinecolor": "white",
           "zerolinewidth": 2
          }
         }
        },
        "title": {
         "font": {
          "color": "#4D5663"
         }
        },
        "xaxis": {
         "gridcolor": "#E1E5ED",
         "showgrid": true,
         "tickfont": {
          "color": "#4D5663"
         },
         "title": {
          "font": {
           "color": "#4D5663"
          },
          "text": ""
         },
         "zerolinecolor": "#E1E5ED"
        },
        "yaxis": {
         "gridcolor": "#E1E5ED",
         "showgrid": true,
         "tickfont": {
          "color": "#4D5663"
         },
         "title": {
          "font": {
           "color": "#4D5663"
          },
          "text": ""
         },
         "zerolinecolor": "#E1E5ED"
        }
       }
      },
      "text/html": [
       "<div>\n",
       "        \n",
       "        \n",
       "            <div id=\"67d032a5-9816-4f65-a060-ea8579c0d6e6\" class=\"plotly-graph-div\" style=\"height:525px; width:100%;\"></div>\n",
       "            <script type=\"text/javascript\">\n",
       "                require([\"plotly\"], function(Plotly) {\n",
       "                    window.PLOTLYENV=window.PLOTLYENV || {};\n",
       "                    window.PLOTLYENV.BASE_URL='https://plot.ly';\n",
       "                    \n",
       "                if (document.getElementById(\"67d032a5-9816-4f65-a060-ea8579c0d6e6\")) {\n",
       "                    Plotly.newPlot(\n",
       "                        '67d032a5-9816-4f65-a060-ea8579c0d6e6',\n",
       "                        [{\"line\": {\"color\": \"rgba(255, 153, 51, 1.0)\", \"dash\": \"solid\", \"shape\": \"linear\", \"width\": 1.3}, \"mode\": \"lines\", \"name\": \"B\", \"text\": \"\", \"type\": \"scatter\", \"x\": [0.3464195938218623, 1.2191331189779477, -1.566198556307964, 0.46573085450095364, -0.15261785777811135, -0.8028457730946738, -1.2939789962191617, -0.6418087219226248, 1.9109107394573086, -0.7984950981964833, 0.37572064407586353, 0.10804546809227975, -0.2955939166246089, 0.6668013724677774, 1.606777904150411, 0.18473563502452545, -0.21514032491554505, -0.2776151300214792, 0.8398510702601665, -0.17787273295740644, 1.8394677466697062, -0.6830318073232281, 1.1910043748570203, -0.06296070100823661, 0.3893011193237392, -0.5418276224573682, 0.1456421026340764, 1.3478116660010542, 1.3398140902363653, 0.17909770396651062, -0.7347774212014662, -0.664509282045416, 1.9958932346583351, 0.06464239428800038, -0.17331233101528445, -1.5199911226136043, -0.011764777467682862, -0.22961655060029354, 0.8344144539000332, -0.6252542380202118, -0.35722719110995915, 1.4681106315488035, -0.972833984774363, -1.3185876357784978, 0.8369173852064116, -0.7203822787149038, 0.5391211086088187, 0.40930127362148827, 1.3305953798884078, 0.7875773751444973, 0.24411739461868534, -0.08843505642188325, 0.268342155604911, 0.053365885727759556, -0.027406353957162198, -0.542478529849032, 0.6176151365107044, -0.18176398391036097, -0.2045336720258062, 0.32644055801113225, 0.5569115331629004, 0.4709120552818683, -0.5511771984791615, 0.38672288804052146, 0.49369878628381486, 0.8742747551276879, -0.7728036843643227, -0.5316316557408409, -0.019359629269128015, -0.43540839748513804, 2.193864246093326, 0.7071061333240987, -0.6738965948167931, 2.3946971136177124, 1.2529062193552296, 1.0214426121109126, -0.18054114299205762, -1.848921966805281, 1.3846982722939123, 0.37389409884423136, -0.5518891745455325, -0.812964815588062, -0.1445860029165156, 0.5976439474074358, -0.031143888839414168, 1.288640608161686, -1.3760544674922424, 0.9963133082520479, 0.9751556082817852, -0.07231954115489966, -0.36525133427411105, 0.8539810900777741, -0.5593653152080624, 1.6784765782994218, 1.49764233252627, -0.8623001565375716, -0.7415847178841932, 1.1902930047966387, 0.5729387527499807, -0.2143483560074946], \"y\": [-0.020590181209793654, 0.5423503125602855, -0.8787354341663304, -0.4895306549248174, -0.48541537247821465, -1.1581842623847438, -0.2769367387336216, 0.03311436155705231, 1.6024816506045834, 1.0831480858882039, -1.0072890793929596, 1.6632133708190122, -0.10794673509633486, 0.45432131136859577, -0.22565078146614284, 0.45507286942503267, 0.17974586396275005, -2.0175017586254036, 1.2707085867867112, 0.8107153806972188, 1.3683894902998583, 0.6721722990716655, -1.3053183578006817, 0.5690108539109617, 1.0528361089049871, -0.9946211425344996, 0.13209780322860354, 0.5975237600550157, -0.3990103367235594, 0.8544023703785645, -0.3652754198522442, -0.9394329209739792, -1.8247763232964613, 1.387400472070589, -0.6172006358456033, 0.28514310772208395, -0.9194137609477232, -1.0945907934466066, -0.01812635633048244, -0.42870107832880905, -0.14583236585484136, -1.9112885076025667, -0.6064194759449073, -0.5831693992001507, -0.9885022195286823, -1.319588708902828, 0.16146923595796253, -0.28246046695644217, -0.7714040710560138, 0.5847383075181828, 0.19107611317750492, -0.6526040938222579, 0.5699402612438804, -0.9911031656265455, 1.6493934330272855, 1.9039049563987207, 1.218355914745771, -0.494984884549906, 0.11678360950276127, -1.2146187590914483, -1.1476654603988559, -0.6451013537990224, -0.9089642937379179, -0.3107932934346349, 0.1431930390443773, 0.49590287215018686, 0.4685352804531265, 0.10806855993380053, 0.986890513730406, 0.7865424288418571, -1.2351640606494476, -2.02351966824216, -1.370146862511068, -1.3253039883938387, -1.184340482150768, -0.5064055507257907, -3.1134408477432705, -1.3748114148134778, 0.9623455167657223, 0.15572759045814794, 0.019438510421546488, -0.756212056642985, 1.0393078996740457, 1.283603086621441, 0.013246115306398687, 0.07988076305174152, 1.7490019784053388, -0.9381427033010681, -0.7346416378276212, 1.6403942432066971, -0.3292907770726725, 0.6890521545829256, -1.1228315951030374, -0.25605505749699964, -0.16944549777624168, 1.46716671061314, -0.18662380589638208, -1.7553469955013234, -0.1186070548456802, 1.3868762776821497]}],\n",
       "                        {\"legend\": {\"bgcolor\": \"#F5F6F9\", \"font\": {\"color\": \"#4D5663\"}}, \"paper_bgcolor\": \"#F5F6F9\", \"plot_bgcolor\": \"#F5F6F9\", \"template\": {\"data\": {\"bar\": [{\"error_x\": {\"color\": \"#2a3f5f\"}, \"error_y\": {\"color\": \"#2a3f5f\"}, \"marker\": {\"line\": {\"color\": \"#E5ECF6\", \"width\": 0.5}}, \"type\": \"bar\"}], \"barpolar\": [{\"marker\": {\"line\": {\"color\": \"#E5ECF6\", \"width\": 0.5}}, \"type\": \"barpolar\"}], \"carpet\": [{\"aaxis\": {\"endlinecolor\": \"#2a3f5f\", \"gridcolor\": \"white\", \"linecolor\": \"white\", \"minorgridcolor\": \"white\", \"startlinecolor\": \"#2a3f5f\"}, \"baxis\": {\"endlinecolor\": \"#2a3f5f\", \"gridcolor\": \"white\", \"linecolor\": \"white\", \"minorgridcolor\": \"white\", \"startlinecolor\": \"#2a3f5f\"}, \"type\": \"carpet\"}], \"choropleth\": [{\"colorbar\": {\"outlinewidth\": 0, \"ticks\": \"\"}, \"type\": \"choropleth\"}], \"contour\": [{\"colorbar\": {\"outlinewidth\": 0, \"ticks\": \"\"}, \"colorscale\": [[0.0, \"#0d0887\"], [0.1111111111111111, \"#46039f\"], [0.2222222222222222, \"#7201a8\"], [0.3333333333333333, \"#9c179e\"], [0.4444444444444444, \"#bd3786\"], [0.5555555555555556, \"#d8576b\"], [0.6666666666666666, \"#ed7953\"], [0.7777777777777778, \"#fb9f3a\"], [0.8888888888888888, \"#fdca26\"], [1.0, \"#f0f921\"]], \"type\": \"contour\"}], \"contourcarpet\": [{\"colorbar\": {\"outlinewidth\": 0, \"ticks\": \"\"}, \"type\": \"contourcarpet\"}], \"heatmap\": [{\"colorbar\": {\"outlinewidth\": 0, \"ticks\": \"\"}, \"colorscale\": [[0.0, \"#0d0887\"], [0.1111111111111111, \"#46039f\"], [0.2222222222222222, \"#7201a8\"], [0.3333333333333333, \"#9c179e\"], [0.4444444444444444, \"#bd3786\"], [0.5555555555555556, \"#d8576b\"], [0.6666666666666666, \"#ed7953\"], [0.7777777777777778, \"#fb9f3a\"], [0.8888888888888888, \"#fdca26\"], [1.0, \"#f0f921\"]], \"type\": \"heatmap\"}], \"heatmapgl\": [{\"colorbar\": {\"outlinewidth\": 0, \"ticks\": \"\"}, \"colorscale\": [[0.0, \"#0d0887\"], [0.1111111111111111, \"#46039f\"], [0.2222222222222222, \"#7201a8\"], [0.3333333333333333, \"#9c179e\"], [0.4444444444444444, \"#bd3786\"], [0.5555555555555556, \"#d8576b\"], [0.6666666666666666, \"#ed7953\"], [0.7777777777777778, \"#fb9f3a\"], [0.8888888888888888, \"#fdca26\"], [1.0, \"#f0f921\"]], \"type\": \"heatmapgl\"}], \"histogram\": [{\"marker\": {\"colorbar\": {\"outlinewidth\": 0, \"ticks\": \"\"}}, \"type\": \"histogram\"}], \"histogram2d\": [{\"colorbar\": {\"outlinewidth\": 0, \"ticks\": \"\"}, \"colorscale\": [[0.0, \"#0d0887\"], [0.1111111111111111, \"#46039f\"], [0.2222222222222222, \"#7201a8\"], [0.3333333333333333, \"#9c179e\"], [0.4444444444444444, \"#bd3786\"], [0.5555555555555556, \"#d8576b\"], [0.6666666666666666, \"#ed7953\"], [0.7777777777777778, \"#fb9f3a\"], [0.8888888888888888, \"#fdca26\"], [1.0, \"#f0f921\"]], \"type\": \"histogram2d\"}], \"histogram2dcontour\": [{\"colorbar\": {\"outlinewidth\": 0, \"ticks\": \"\"}, \"colorscale\": [[0.0, \"#0d0887\"], [0.1111111111111111, \"#46039f\"], [0.2222222222222222, \"#7201a8\"], [0.3333333333333333, \"#9c179e\"], [0.4444444444444444, \"#bd3786\"], [0.5555555555555556, \"#d8576b\"], [0.6666666666666666, \"#ed7953\"], [0.7777777777777778, \"#fb9f3a\"], [0.8888888888888888, \"#fdca26\"], [1.0, \"#f0f921\"]], \"type\": \"histogram2dcontour\"}], \"mesh3d\": [{\"colorbar\": {\"outlinewidth\": 0, \"ticks\": \"\"}, \"type\": \"mesh3d\"}], \"parcoords\": [{\"line\": {\"colorbar\": {\"outlinewidth\": 0, \"ticks\": \"\"}}, \"type\": \"parcoords\"}], \"pie\": [{\"automargin\": true, \"type\": \"pie\"}], \"scatter\": [{\"marker\": {\"colorbar\": {\"outlinewidth\": 0, \"ticks\": \"\"}}, \"type\": \"scatter\"}], \"scatter3d\": [{\"line\": {\"colorbar\": {\"outlinewidth\": 0, \"ticks\": \"\"}}, \"marker\": {\"colorbar\": {\"outlinewidth\": 0, \"ticks\": \"\"}}, \"type\": \"scatter3d\"}], \"scattercarpet\": [{\"marker\": {\"colorbar\": {\"outlinewidth\": 0, \"ticks\": \"\"}}, \"type\": \"scattercarpet\"}], \"scattergeo\": [{\"marker\": {\"colorbar\": {\"outlinewidth\": 0, \"ticks\": \"\"}}, \"type\": \"scattergeo\"}], \"scattergl\": [{\"marker\": {\"colorbar\": {\"outlinewidth\": 0, \"ticks\": \"\"}}, \"type\": \"scattergl\"}], \"scattermapbox\": [{\"marker\": {\"colorbar\": {\"outlinewidth\": 0, \"ticks\": \"\"}}, \"type\": \"scattermapbox\"}], \"scatterpolar\": [{\"marker\": {\"colorbar\": {\"outlinewidth\": 0, \"ticks\": \"\"}}, \"type\": \"scatterpolar\"}], \"scatterpolargl\": [{\"marker\": {\"colorbar\": {\"outlinewidth\": 0, \"ticks\": \"\"}}, \"type\": \"scatterpolargl\"}], \"scatterternary\": [{\"marker\": {\"colorbar\": {\"outlinewidth\": 0, \"ticks\": \"\"}}, \"type\": \"scatterternary\"}], \"surface\": [{\"colorbar\": {\"outlinewidth\": 0, \"ticks\": \"\"}, \"colorscale\": [[0.0, \"#0d0887\"], [0.1111111111111111, \"#46039f\"], [0.2222222222222222, \"#7201a8\"], [0.3333333333333333, \"#9c179e\"], [0.4444444444444444, \"#bd3786\"], [0.5555555555555556, \"#d8576b\"], [0.6666666666666666, \"#ed7953\"], [0.7777777777777778, \"#fb9f3a\"], [0.8888888888888888, \"#fdca26\"], [1.0, \"#f0f921\"]], \"type\": \"surface\"}], \"table\": [{\"cells\": {\"fill\": {\"color\": \"#EBF0F8\"}, \"line\": {\"color\": \"white\"}}, \"header\": {\"fill\": {\"color\": \"#C8D4E3\"}, \"line\": {\"color\": \"white\"}}, \"type\": \"table\"}]}, \"layout\": {\"annotationdefaults\": {\"arrowcolor\": \"#2a3f5f\", \"arrowhead\": 0, \"arrowwidth\": 1}, \"coloraxis\": {\"colorbar\": {\"outlinewidth\": 0, \"ticks\": \"\"}}, \"colorscale\": {\"diverging\": [[0, \"#8e0152\"], [0.1, \"#c51b7d\"], [0.2, \"#de77ae\"], [0.3, \"#f1b6da\"], [0.4, \"#fde0ef\"], [0.5, \"#f7f7f7\"], [0.6, \"#e6f5d0\"], [0.7, \"#b8e186\"], [0.8, \"#7fbc41\"], [0.9, \"#4d9221\"], [1, \"#276419\"]], \"sequential\": [[0.0, \"#0d0887\"], [0.1111111111111111, \"#46039f\"], [0.2222222222222222, \"#7201a8\"], [0.3333333333333333, \"#9c179e\"], [0.4444444444444444, \"#bd3786\"], [0.5555555555555556, \"#d8576b\"], [0.6666666666666666, \"#ed7953\"], [0.7777777777777778, \"#fb9f3a\"], [0.8888888888888888, \"#fdca26\"], [1.0, \"#f0f921\"]], \"sequentialminus\": [[0.0, \"#0d0887\"], [0.1111111111111111, \"#46039f\"], [0.2222222222222222, \"#7201a8\"], [0.3333333333333333, \"#9c179e\"], [0.4444444444444444, \"#bd3786\"], [0.5555555555555556, \"#d8576b\"], [0.6666666666666666, \"#ed7953\"], [0.7777777777777778, \"#fb9f3a\"], [0.8888888888888888, \"#fdca26\"], [1.0, \"#f0f921\"]]}, \"colorway\": [\"#636efa\", \"#EF553B\", \"#00cc96\", \"#ab63fa\", \"#FFA15A\", \"#19d3f3\", \"#FF6692\", \"#B6E880\", \"#FF97FF\", \"#FECB52\"], \"font\": {\"color\": \"#2a3f5f\"}, \"geo\": {\"bgcolor\": \"white\", \"lakecolor\": \"white\", \"landcolor\": \"#E5ECF6\", \"showlakes\": true, \"showland\": true, \"subunitcolor\": \"white\"}, \"hoverlabel\": {\"align\": \"left\"}, \"hovermode\": \"closest\", \"mapbox\": {\"style\": \"light\"}, \"paper_bgcolor\": \"white\", \"plot_bgcolor\": \"#E5ECF6\", \"polar\": {\"angularaxis\": {\"gridcolor\": \"white\", \"linecolor\": \"white\", \"ticks\": \"\"}, \"bgcolor\": \"#E5ECF6\", \"radialaxis\": {\"gridcolor\": \"white\", \"linecolor\": \"white\", \"ticks\": \"\"}}, \"scene\": {\"xaxis\": {\"backgroundcolor\": \"#E5ECF6\", \"gridcolor\": \"white\", \"gridwidth\": 2, \"linecolor\": \"white\", \"showbackground\": true, \"ticks\": \"\", \"zerolinecolor\": \"white\"}, \"yaxis\": {\"backgroundcolor\": \"#E5ECF6\", \"gridcolor\": \"white\", \"gridwidth\": 2, \"linecolor\": \"white\", \"showbackground\": true, \"ticks\": \"\", \"zerolinecolor\": \"white\"}, \"zaxis\": {\"backgroundcolor\": \"#E5ECF6\", \"gridcolor\": \"white\", \"gridwidth\": 2, \"linecolor\": \"white\", \"showbackground\": true, \"ticks\": \"\", \"zerolinecolor\": \"white\"}}, \"shapedefaults\": {\"line\": {\"color\": \"#2a3f5f\"}}, \"ternary\": {\"aaxis\": {\"gridcolor\": \"white\", \"linecolor\": \"white\", \"ticks\": \"\"}, \"baxis\": {\"gridcolor\": \"white\", \"linecolor\": \"white\", \"ticks\": \"\"}, \"bgcolor\": \"#E5ECF6\", \"caxis\": {\"gridcolor\": \"white\", \"linecolor\": \"white\", \"ticks\": \"\"}}, \"title\": {\"x\": 0.05}, \"xaxis\": {\"automargin\": true, \"gridcolor\": \"white\", \"linecolor\": \"white\", \"ticks\": \"\", \"title\": {\"standoff\": 15}, \"zerolinecolor\": \"white\", \"zerolinewidth\": 2}, \"yaxis\": {\"automargin\": true, \"gridcolor\": \"white\", \"linecolor\": \"white\", \"ticks\": \"\", \"title\": {\"standoff\": 15}, \"zerolinecolor\": \"white\", \"zerolinewidth\": 2}}}, \"title\": {\"font\": {\"color\": \"#4D5663\"}}, \"xaxis\": {\"gridcolor\": \"#E1E5ED\", \"showgrid\": true, \"tickfont\": {\"color\": \"#4D5663\"}, \"title\": {\"font\": {\"color\": \"#4D5663\"}, \"text\": \"\"}, \"zerolinecolor\": \"#E1E5ED\"}, \"yaxis\": {\"gridcolor\": \"#E1E5ED\", \"showgrid\": true, \"tickfont\": {\"color\": \"#4D5663\"}, \"title\": {\"font\": {\"color\": \"#4D5663\"}, \"text\": \"\"}, \"zerolinecolor\": \"#E1E5ED\"}},\n",
       "                        {\"showLink\": true, \"linkText\": \"Export to plot.ly\", \"plotlyServerURL\": \"https://plot.ly\", \"responsive\": true}\n",
       "                    ).then(function(){\n",
       "                            \n",
       "var gd = document.getElementById('67d032a5-9816-4f65-a060-ea8579c0d6e6');\n",
       "var x = new MutationObserver(function (mutations, observer) {{\n",
       "        var display = window.getComputedStyle(gd).display;\n",
       "        if (!display || display === 'none') {{\n",
       "            console.log([gd, 'removed!']);\n",
       "            Plotly.purge(gd);\n",
       "            observer.disconnect();\n",
       "        }}\n",
       "}});\n",
       "\n",
       "// Listen for the removal of the full notebook cells\n",
       "var notebookContainer = gd.closest('#notebook-container');\n",
       "if (notebookContainer) {{\n",
       "    x.observe(notebookContainer, {childList: true});\n",
       "}}\n",
       "\n",
       "// Listen for the clearing of the current output cell\n",
       "var outputEl = gd.closest('.output');\n",
       "if (outputEl) {{\n",
       "    x.observe(outputEl, {childList: true});\n",
       "}}\n",
       "\n",
       "                        })\n",
       "                };\n",
       "                });\n",
       "            </script>\n",
       "        </div>"
      ]
     },
     "metadata": {},
     "output_type": "display_data"
    }
   ],
   "source": [
    "df.iplot(kind='scatter',x='A',y='B')"
   ]
  },
  {
   "cell_type": "code",
   "execution_count": 22,
   "metadata": {},
   "outputs": [
    {
     "data": {
      "application/vnd.plotly.v1+json": {
       "config": {
        "linkText": "Export to plot.ly",
        "plotlyServerURL": "https://plot.ly",
        "showLink": true
       },
       "data": [
        {
         "line": {
          "color": "rgba(255, 153, 51, 1.0)",
          "dash": "solid",
          "shape": "linear",
          "width": 1.3
         },
         "marker": {
          "size": 10,
          "symbol": "circle"
         },
         "mode": "markers",
         "name": "B",
         "text": "",
         "type": "scatter",
         "x": [
          0.3464195938218623,
          1.2191331189779477,
          -1.566198556307964,
          0.46573085450095364,
          -0.15261785777811135,
          -0.8028457730946738,
          -1.2939789962191617,
          -0.6418087219226248,
          1.9109107394573086,
          -0.7984950981964833,
          0.37572064407586353,
          0.10804546809227975,
          -0.2955939166246089,
          0.6668013724677774,
          1.606777904150411,
          0.18473563502452545,
          -0.21514032491554505,
          -0.2776151300214792,
          0.8398510702601665,
          -0.17787273295740644,
          1.8394677466697062,
          -0.6830318073232281,
          1.1910043748570203,
          -0.06296070100823661,
          0.3893011193237392,
          -0.5418276224573682,
          0.1456421026340764,
          1.3478116660010542,
          1.3398140902363653,
          0.17909770396651062,
          -0.7347774212014662,
          -0.664509282045416,
          1.9958932346583351,
          0.06464239428800038,
          -0.17331233101528445,
          -1.5199911226136043,
          -0.011764777467682862,
          -0.22961655060029354,
          0.8344144539000332,
          -0.6252542380202118,
          -0.35722719110995915,
          1.4681106315488035,
          -0.972833984774363,
          -1.3185876357784978,
          0.8369173852064116,
          -0.7203822787149038,
          0.5391211086088187,
          0.40930127362148827,
          1.3305953798884078,
          0.7875773751444973,
          0.24411739461868534,
          -0.08843505642188325,
          0.268342155604911,
          0.053365885727759556,
          -0.027406353957162198,
          -0.542478529849032,
          0.6176151365107044,
          -0.18176398391036097,
          -0.2045336720258062,
          0.32644055801113225,
          0.5569115331629004,
          0.4709120552818683,
          -0.5511771984791615,
          0.38672288804052146,
          0.49369878628381486,
          0.8742747551276879,
          -0.7728036843643227,
          -0.5316316557408409,
          -0.019359629269128015,
          -0.43540839748513804,
          2.193864246093326,
          0.7071061333240987,
          -0.6738965948167931,
          2.3946971136177124,
          1.2529062193552296,
          1.0214426121109126,
          -0.18054114299205762,
          -1.848921966805281,
          1.3846982722939123,
          0.37389409884423136,
          -0.5518891745455325,
          -0.812964815588062,
          -0.1445860029165156,
          0.5976439474074358,
          -0.031143888839414168,
          1.288640608161686,
          -1.3760544674922424,
          0.9963133082520479,
          0.9751556082817852,
          -0.07231954115489966,
          -0.36525133427411105,
          0.8539810900777741,
          -0.5593653152080624,
          1.6784765782994218,
          1.49764233252627,
          -0.8623001565375716,
          -0.7415847178841932,
          1.1902930047966387,
          0.5729387527499807,
          -0.2143483560074946
         ],
         "y": [
          -0.020590181209793654,
          0.5423503125602855,
          -0.8787354341663304,
          -0.4895306549248174,
          -0.48541537247821465,
          -1.1581842623847438,
          -0.2769367387336216,
          0.03311436155705231,
          1.6024816506045834,
          1.0831480858882039,
          -1.0072890793929596,
          1.6632133708190122,
          -0.10794673509633486,
          0.45432131136859577,
          -0.22565078146614284,
          0.45507286942503267,
          0.17974586396275005,
          -2.0175017586254036,
          1.2707085867867112,
          0.8107153806972188,
          1.3683894902998583,
          0.6721722990716655,
          -1.3053183578006817,
          0.5690108539109617,
          1.0528361089049871,
          -0.9946211425344996,
          0.13209780322860354,
          0.5975237600550157,
          -0.3990103367235594,
          0.8544023703785645,
          -0.3652754198522442,
          -0.9394329209739792,
          -1.8247763232964613,
          1.387400472070589,
          -0.6172006358456033,
          0.28514310772208395,
          -0.9194137609477232,
          -1.0945907934466066,
          -0.01812635633048244,
          -0.42870107832880905,
          -0.14583236585484136,
          -1.9112885076025667,
          -0.6064194759449073,
          -0.5831693992001507,
          -0.9885022195286823,
          -1.319588708902828,
          0.16146923595796253,
          -0.28246046695644217,
          -0.7714040710560138,
          0.5847383075181828,
          0.19107611317750492,
          -0.6526040938222579,
          0.5699402612438804,
          -0.9911031656265455,
          1.6493934330272855,
          1.9039049563987207,
          1.218355914745771,
          -0.494984884549906,
          0.11678360950276127,
          -1.2146187590914483,
          -1.1476654603988559,
          -0.6451013537990224,
          -0.9089642937379179,
          -0.3107932934346349,
          0.1431930390443773,
          0.49590287215018686,
          0.4685352804531265,
          0.10806855993380053,
          0.986890513730406,
          0.7865424288418571,
          -1.2351640606494476,
          -2.02351966824216,
          -1.370146862511068,
          -1.3253039883938387,
          -1.184340482150768,
          -0.5064055507257907,
          -3.1134408477432705,
          -1.3748114148134778,
          0.9623455167657223,
          0.15572759045814794,
          0.019438510421546488,
          -0.756212056642985,
          1.0393078996740457,
          1.283603086621441,
          0.013246115306398687,
          0.07988076305174152,
          1.7490019784053388,
          -0.9381427033010681,
          -0.7346416378276212,
          1.6403942432066971,
          -0.3292907770726725,
          0.6890521545829256,
          -1.1228315951030374,
          -0.25605505749699964,
          -0.16944549777624168,
          1.46716671061314,
          -0.18662380589638208,
          -1.7553469955013234,
          -0.1186070548456802,
          1.3868762776821497
         ]
        }
       ],
       "layout": {
        "legend": {
         "bgcolor": "#F5F6F9",
         "font": {
          "color": "#4D5663"
         }
        },
        "paper_bgcolor": "#F5F6F9",
        "plot_bgcolor": "#F5F6F9",
        "template": {
         "data": {
          "bar": [
           {
            "error_x": {
             "color": "#2a3f5f"
            },
            "error_y": {
             "color": "#2a3f5f"
            },
            "marker": {
             "line": {
              "color": "#E5ECF6",
              "width": 0.5
             }
            },
            "type": "bar"
           }
          ],
          "barpolar": [
           {
            "marker": {
             "line": {
              "color": "#E5ECF6",
              "width": 0.5
             }
            },
            "type": "barpolar"
           }
          ],
          "carpet": [
           {
            "aaxis": {
             "endlinecolor": "#2a3f5f",
             "gridcolor": "white",
             "linecolor": "white",
             "minorgridcolor": "white",
             "startlinecolor": "#2a3f5f"
            },
            "baxis": {
             "endlinecolor": "#2a3f5f",
             "gridcolor": "white",
             "linecolor": "white",
             "minorgridcolor": "white",
             "startlinecolor": "#2a3f5f"
            },
            "type": "carpet"
           }
          ],
          "choropleth": [
           {
            "colorbar": {
             "outlinewidth": 0,
             "ticks": ""
            },
            "type": "choropleth"
           }
          ],
          "contour": [
           {
            "colorbar": {
             "outlinewidth": 0,
             "ticks": ""
            },
            "colorscale": [
             [
              0,
              "#0d0887"
             ],
             [
              0.1111111111111111,
              "#46039f"
             ],
             [
              0.2222222222222222,
              "#7201a8"
             ],
             [
              0.3333333333333333,
              "#9c179e"
             ],
             [
              0.4444444444444444,
              "#bd3786"
             ],
             [
              0.5555555555555556,
              "#d8576b"
             ],
             [
              0.6666666666666666,
              "#ed7953"
             ],
             [
              0.7777777777777778,
              "#fb9f3a"
             ],
             [
              0.8888888888888888,
              "#fdca26"
             ],
             [
              1,
              "#f0f921"
             ]
            ],
            "type": "contour"
           }
          ],
          "contourcarpet": [
           {
            "colorbar": {
             "outlinewidth": 0,
             "ticks": ""
            },
            "type": "contourcarpet"
           }
          ],
          "heatmap": [
           {
            "colorbar": {
             "outlinewidth": 0,
             "ticks": ""
            },
            "colorscale": [
             [
              0,
              "#0d0887"
             ],
             [
              0.1111111111111111,
              "#46039f"
             ],
             [
              0.2222222222222222,
              "#7201a8"
             ],
             [
              0.3333333333333333,
              "#9c179e"
             ],
             [
              0.4444444444444444,
              "#bd3786"
             ],
             [
              0.5555555555555556,
              "#d8576b"
             ],
             [
              0.6666666666666666,
              "#ed7953"
             ],
             [
              0.7777777777777778,
              "#fb9f3a"
             ],
             [
              0.8888888888888888,
              "#fdca26"
             ],
             [
              1,
              "#f0f921"
             ]
            ],
            "type": "heatmap"
           }
          ],
          "heatmapgl": [
           {
            "colorbar": {
             "outlinewidth": 0,
             "ticks": ""
            },
            "colorscale": [
             [
              0,
              "#0d0887"
             ],
             [
              0.1111111111111111,
              "#46039f"
             ],
             [
              0.2222222222222222,
              "#7201a8"
             ],
             [
              0.3333333333333333,
              "#9c179e"
             ],
             [
              0.4444444444444444,
              "#bd3786"
             ],
             [
              0.5555555555555556,
              "#d8576b"
             ],
             [
              0.6666666666666666,
              "#ed7953"
             ],
             [
              0.7777777777777778,
              "#fb9f3a"
             ],
             [
              0.8888888888888888,
              "#fdca26"
             ],
             [
              1,
              "#f0f921"
             ]
            ],
            "type": "heatmapgl"
           }
          ],
          "histogram": [
           {
            "marker": {
             "colorbar": {
              "outlinewidth": 0,
              "ticks": ""
             }
            },
            "type": "histogram"
           }
          ],
          "histogram2d": [
           {
            "colorbar": {
             "outlinewidth": 0,
             "ticks": ""
            },
            "colorscale": [
             [
              0,
              "#0d0887"
             ],
             [
              0.1111111111111111,
              "#46039f"
             ],
             [
              0.2222222222222222,
              "#7201a8"
             ],
             [
              0.3333333333333333,
              "#9c179e"
             ],
             [
              0.4444444444444444,
              "#bd3786"
             ],
             [
              0.5555555555555556,
              "#d8576b"
             ],
             [
              0.6666666666666666,
              "#ed7953"
             ],
             [
              0.7777777777777778,
              "#fb9f3a"
             ],
             [
              0.8888888888888888,
              "#fdca26"
             ],
             [
              1,
              "#f0f921"
             ]
            ],
            "type": "histogram2d"
           }
          ],
          "histogram2dcontour": [
           {
            "colorbar": {
             "outlinewidth": 0,
             "ticks": ""
            },
            "colorscale": [
             [
              0,
              "#0d0887"
             ],
             [
              0.1111111111111111,
              "#46039f"
             ],
             [
              0.2222222222222222,
              "#7201a8"
             ],
             [
              0.3333333333333333,
              "#9c179e"
             ],
             [
              0.4444444444444444,
              "#bd3786"
             ],
             [
              0.5555555555555556,
              "#d8576b"
             ],
             [
              0.6666666666666666,
              "#ed7953"
             ],
             [
              0.7777777777777778,
              "#fb9f3a"
             ],
             [
              0.8888888888888888,
              "#fdca26"
             ],
             [
              1,
              "#f0f921"
             ]
            ],
            "type": "histogram2dcontour"
           }
          ],
          "mesh3d": [
           {
            "colorbar": {
             "outlinewidth": 0,
             "ticks": ""
            },
            "type": "mesh3d"
           }
          ],
          "parcoords": [
           {
            "line": {
             "colorbar": {
              "outlinewidth": 0,
              "ticks": ""
             }
            },
            "type": "parcoords"
           }
          ],
          "pie": [
           {
            "automargin": true,
            "type": "pie"
           }
          ],
          "scatter": [
           {
            "marker": {
             "colorbar": {
              "outlinewidth": 0,
              "ticks": ""
             }
            },
            "type": "scatter"
           }
          ],
          "scatter3d": [
           {
            "line": {
             "colorbar": {
              "outlinewidth": 0,
              "ticks": ""
             }
            },
            "marker": {
             "colorbar": {
              "outlinewidth": 0,
              "ticks": ""
             }
            },
            "type": "scatter3d"
           }
          ],
          "scattercarpet": [
           {
            "marker": {
             "colorbar": {
              "outlinewidth": 0,
              "ticks": ""
             }
            },
            "type": "scattercarpet"
           }
          ],
          "scattergeo": [
           {
            "marker": {
             "colorbar": {
              "outlinewidth": 0,
              "ticks": ""
             }
            },
            "type": "scattergeo"
           }
          ],
          "scattergl": [
           {
            "marker": {
             "colorbar": {
              "outlinewidth": 0,
              "ticks": ""
             }
            },
            "type": "scattergl"
           }
          ],
          "scattermapbox": [
           {
            "marker": {
             "colorbar": {
              "outlinewidth": 0,
              "ticks": ""
             }
            },
            "type": "scattermapbox"
           }
          ],
          "scatterpolar": [
           {
            "marker": {
             "colorbar": {
              "outlinewidth": 0,
              "ticks": ""
             }
            },
            "type": "scatterpolar"
           }
          ],
          "scatterpolargl": [
           {
            "marker": {
             "colorbar": {
              "outlinewidth": 0,
              "ticks": ""
             }
            },
            "type": "scatterpolargl"
           }
          ],
          "scatterternary": [
           {
            "marker": {
             "colorbar": {
              "outlinewidth": 0,
              "ticks": ""
             }
            },
            "type": "scatterternary"
           }
          ],
          "surface": [
           {
            "colorbar": {
             "outlinewidth": 0,
             "ticks": ""
            },
            "colorscale": [
             [
              0,
              "#0d0887"
             ],
             [
              0.1111111111111111,
              "#46039f"
             ],
             [
              0.2222222222222222,
              "#7201a8"
             ],
             [
              0.3333333333333333,
              "#9c179e"
             ],
             [
              0.4444444444444444,
              "#bd3786"
             ],
             [
              0.5555555555555556,
              "#d8576b"
             ],
             [
              0.6666666666666666,
              "#ed7953"
             ],
             [
              0.7777777777777778,
              "#fb9f3a"
             ],
             [
              0.8888888888888888,
              "#fdca26"
             ],
             [
              1,
              "#f0f921"
             ]
            ],
            "type": "surface"
           }
          ],
          "table": [
           {
            "cells": {
             "fill": {
              "color": "#EBF0F8"
             },
             "line": {
              "color": "white"
             }
            },
            "header": {
             "fill": {
              "color": "#C8D4E3"
             },
             "line": {
              "color": "white"
             }
            },
            "type": "table"
           }
          ]
         },
         "layout": {
          "annotationdefaults": {
           "arrowcolor": "#2a3f5f",
           "arrowhead": 0,
           "arrowwidth": 1
          },
          "coloraxis": {
           "colorbar": {
            "outlinewidth": 0,
            "ticks": ""
           }
          },
          "colorscale": {
           "diverging": [
            [
             0,
             "#8e0152"
            ],
            [
             0.1,
             "#c51b7d"
            ],
            [
             0.2,
             "#de77ae"
            ],
            [
             0.3,
             "#f1b6da"
            ],
            [
             0.4,
             "#fde0ef"
            ],
            [
             0.5,
             "#f7f7f7"
            ],
            [
             0.6,
             "#e6f5d0"
            ],
            [
             0.7,
             "#b8e186"
            ],
            [
             0.8,
             "#7fbc41"
            ],
            [
             0.9,
             "#4d9221"
            ],
            [
             1,
             "#276419"
            ]
           ],
           "sequential": [
            [
             0,
             "#0d0887"
            ],
            [
             0.1111111111111111,
             "#46039f"
            ],
            [
             0.2222222222222222,
             "#7201a8"
            ],
            [
             0.3333333333333333,
             "#9c179e"
            ],
            [
             0.4444444444444444,
             "#bd3786"
            ],
            [
             0.5555555555555556,
             "#d8576b"
            ],
            [
             0.6666666666666666,
             "#ed7953"
            ],
            [
             0.7777777777777778,
             "#fb9f3a"
            ],
            [
             0.8888888888888888,
             "#fdca26"
            ],
            [
             1,
             "#f0f921"
            ]
           ],
           "sequentialminus": [
            [
             0,
             "#0d0887"
            ],
            [
             0.1111111111111111,
             "#46039f"
            ],
            [
             0.2222222222222222,
             "#7201a8"
            ],
            [
             0.3333333333333333,
             "#9c179e"
            ],
            [
             0.4444444444444444,
             "#bd3786"
            ],
            [
             0.5555555555555556,
             "#d8576b"
            ],
            [
             0.6666666666666666,
             "#ed7953"
            ],
            [
             0.7777777777777778,
             "#fb9f3a"
            ],
            [
             0.8888888888888888,
             "#fdca26"
            ],
            [
             1,
             "#f0f921"
            ]
           ]
          },
          "colorway": [
           "#636efa",
           "#EF553B",
           "#00cc96",
           "#ab63fa",
           "#FFA15A",
           "#19d3f3",
           "#FF6692",
           "#B6E880",
           "#FF97FF",
           "#FECB52"
          ],
          "font": {
           "color": "#2a3f5f"
          },
          "geo": {
           "bgcolor": "white",
           "lakecolor": "white",
           "landcolor": "#E5ECF6",
           "showlakes": true,
           "showland": true,
           "subunitcolor": "white"
          },
          "hoverlabel": {
           "align": "left"
          },
          "hovermode": "closest",
          "mapbox": {
           "style": "light"
          },
          "paper_bgcolor": "white",
          "plot_bgcolor": "#E5ECF6",
          "polar": {
           "angularaxis": {
            "gridcolor": "white",
            "linecolor": "white",
            "ticks": ""
           },
           "bgcolor": "#E5ECF6",
           "radialaxis": {
            "gridcolor": "white",
            "linecolor": "white",
            "ticks": ""
           }
          },
          "scene": {
           "xaxis": {
            "backgroundcolor": "#E5ECF6",
            "gridcolor": "white",
            "gridwidth": 2,
            "linecolor": "white",
            "showbackground": true,
            "ticks": "",
            "zerolinecolor": "white"
           },
           "yaxis": {
            "backgroundcolor": "#E5ECF6",
            "gridcolor": "white",
            "gridwidth": 2,
            "linecolor": "white",
            "showbackground": true,
            "ticks": "",
            "zerolinecolor": "white"
           },
           "zaxis": {
            "backgroundcolor": "#E5ECF6",
            "gridcolor": "white",
            "gridwidth": 2,
            "linecolor": "white",
            "showbackground": true,
            "ticks": "",
            "zerolinecolor": "white"
           }
          },
          "shapedefaults": {
           "line": {
            "color": "#2a3f5f"
           }
          },
          "ternary": {
           "aaxis": {
            "gridcolor": "white",
            "linecolor": "white",
            "ticks": ""
           },
           "baxis": {
            "gridcolor": "white",
            "linecolor": "white",
            "ticks": ""
           },
           "bgcolor": "#E5ECF6",
           "caxis": {
            "gridcolor": "white",
            "linecolor": "white",
            "ticks": ""
           }
          },
          "title": {
           "x": 0.05
          },
          "xaxis": {
           "automargin": true,
           "gridcolor": "white",
           "linecolor": "white",
           "ticks": "",
           "title": {
            "standoff": 15
           },
           "zerolinecolor": "white",
           "zerolinewidth": 2
          },
          "yaxis": {
           "automargin": true,
           "gridcolor": "white",
           "linecolor": "white",
           "ticks": "",
           "title": {
            "standoff": 15
           },
           "zerolinecolor": "white",
           "zerolinewidth": 2
          }
         }
        },
        "title": {
         "font": {
          "color": "#4D5663"
         }
        },
        "xaxis": {
         "gridcolor": "#E1E5ED",
         "showgrid": true,
         "tickfont": {
          "color": "#4D5663"
         },
         "title": {
          "font": {
           "color": "#4D5663"
          },
          "text": ""
         },
         "zerolinecolor": "#E1E5ED"
        },
        "yaxis": {
         "gridcolor": "#E1E5ED",
         "showgrid": true,
         "tickfont": {
          "color": "#4D5663"
         },
         "title": {
          "font": {
           "color": "#4D5663"
          },
          "text": ""
         },
         "zerolinecolor": "#E1E5ED"
        }
       }
      },
      "text/html": [
       "<div>\n",
       "        \n",
       "        \n",
       "            <div id=\"e2c0b3e7-f497-4b38-a95a-0c3ad8789979\" class=\"plotly-graph-div\" style=\"height:525px; width:100%;\"></div>\n",
       "            <script type=\"text/javascript\">\n",
       "                require([\"plotly\"], function(Plotly) {\n",
       "                    window.PLOTLYENV=window.PLOTLYENV || {};\n",
       "                    window.PLOTLYENV.BASE_URL='https://plot.ly';\n",
       "                    \n",
       "                if (document.getElementById(\"e2c0b3e7-f497-4b38-a95a-0c3ad8789979\")) {\n",
       "                    Plotly.newPlot(\n",
       "                        'e2c0b3e7-f497-4b38-a95a-0c3ad8789979',\n",
       "                        [{\"line\": {\"color\": \"rgba(255, 153, 51, 1.0)\", \"dash\": \"solid\", \"shape\": \"linear\", \"width\": 1.3}, \"marker\": {\"size\": 10, \"symbol\": \"circle\"}, \"mode\": \"markers\", \"name\": \"B\", \"text\": \"\", \"type\": \"scatter\", \"x\": [0.3464195938218623, 1.2191331189779477, -1.566198556307964, 0.46573085450095364, -0.15261785777811135, -0.8028457730946738, -1.2939789962191617, -0.6418087219226248, 1.9109107394573086, -0.7984950981964833, 0.37572064407586353, 0.10804546809227975, -0.2955939166246089, 0.6668013724677774, 1.606777904150411, 0.18473563502452545, -0.21514032491554505, -0.2776151300214792, 0.8398510702601665, -0.17787273295740644, 1.8394677466697062, -0.6830318073232281, 1.1910043748570203, -0.06296070100823661, 0.3893011193237392, -0.5418276224573682, 0.1456421026340764, 1.3478116660010542, 1.3398140902363653, 0.17909770396651062, -0.7347774212014662, -0.664509282045416, 1.9958932346583351, 0.06464239428800038, -0.17331233101528445, -1.5199911226136043, -0.011764777467682862, -0.22961655060029354, 0.8344144539000332, -0.6252542380202118, -0.35722719110995915, 1.4681106315488035, -0.972833984774363, -1.3185876357784978, 0.8369173852064116, -0.7203822787149038, 0.5391211086088187, 0.40930127362148827, 1.3305953798884078, 0.7875773751444973, 0.24411739461868534, -0.08843505642188325, 0.268342155604911, 0.053365885727759556, -0.027406353957162198, -0.542478529849032, 0.6176151365107044, -0.18176398391036097, -0.2045336720258062, 0.32644055801113225, 0.5569115331629004, 0.4709120552818683, -0.5511771984791615, 0.38672288804052146, 0.49369878628381486, 0.8742747551276879, -0.7728036843643227, -0.5316316557408409, -0.019359629269128015, -0.43540839748513804, 2.193864246093326, 0.7071061333240987, -0.6738965948167931, 2.3946971136177124, 1.2529062193552296, 1.0214426121109126, -0.18054114299205762, -1.848921966805281, 1.3846982722939123, 0.37389409884423136, -0.5518891745455325, -0.812964815588062, -0.1445860029165156, 0.5976439474074358, -0.031143888839414168, 1.288640608161686, -1.3760544674922424, 0.9963133082520479, 0.9751556082817852, -0.07231954115489966, -0.36525133427411105, 0.8539810900777741, -0.5593653152080624, 1.6784765782994218, 1.49764233252627, -0.8623001565375716, -0.7415847178841932, 1.1902930047966387, 0.5729387527499807, -0.2143483560074946], \"y\": [-0.020590181209793654, 0.5423503125602855, -0.8787354341663304, -0.4895306549248174, -0.48541537247821465, -1.1581842623847438, -0.2769367387336216, 0.03311436155705231, 1.6024816506045834, 1.0831480858882039, -1.0072890793929596, 1.6632133708190122, -0.10794673509633486, 0.45432131136859577, -0.22565078146614284, 0.45507286942503267, 0.17974586396275005, -2.0175017586254036, 1.2707085867867112, 0.8107153806972188, 1.3683894902998583, 0.6721722990716655, -1.3053183578006817, 0.5690108539109617, 1.0528361089049871, -0.9946211425344996, 0.13209780322860354, 0.5975237600550157, -0.3990103367235594, 0.8544023703785645, -0.3652754198522442, -0.9394329209739792, -1.8247763232964613, 1.387400472070589, -0.6172006358456033, 0.28514310772208395, -0.9194137609477232, -1.0945907934466066, -0.01812635633048244, -0.42870107832880905, -0.14583236585484136, -1.9112885076025667, -0.6064194759449073, -0.5831693992001507, -0.9885022195286823, -1.319588708902828, 0.16146923595796253, -0.28246046695644217, -0.7714040710560138, 0.5847383075181828, 0.19107611317750492, -0.6526040938222579, 0.5699402612438804, -0.9911031656265455, 1.6493934330272855, 1.9039049563987207, 1.218355914745771, -0.494984884549906, 0.11678360950276127, -1.2146187590914483, -1.1476654603988559, -0.6451013537990224, -0.9089642937379179, -0.3107932934346349, 0.1431930390443773, 0.49590287215018686, 0.4685352804531265, 0.10806855993380053, 0.986890513730406, 0.7865424288418571, -1.2351640606494476, -2.02351966824216, -1.370146862511068, -1.3253039883938387, -1.184340482150768, -0.5064055507257907, -3.1134408477432705, -1.3748114148134778, 0.9623455167657223, 0.15572759045814794, 0.019438510421546488, -0.756212056642985, 1.0393078996740457, 1.283603086621441, 0.013246115306398687, 0.07988076305174152, 1.7490019784053388, -0.9381427033010681, -0.7346416378276212, 1.6403942432066971, -0.3292907770726725, 0.6890521545829256, -1.1228315951030374, -0.25605505749699964, -0.16944549777624168, 1.46716671061314, -0.18662380589638208, -1.7553469955013234, -0.1186070548456802, 1.3868762776821497]}],\n",
       "                        {\"legend\": {\"bgcolor\": \"#F5F6F9\", \"font\": {\"color\": \"#4D5663\"}}, \"paper_bgcolor\": \"#F5F6F9\", \"plot_bgcolor\": \"#F5F6F9\", \"template\": {\"data\": {\"bar\": [{\"error_x\": {\"color\": \"#2a3f5f\"}, \"error_y\": {\"color\": \"#2a3f5f\"}, \"marker\": {\"line\": {\"color\": \"#E5ECF6\", \"width\": 0.5}}, \"type\": \"bar\"}], \"barpolar\": [{\"marker\": {\"line\": {\"color\": \"#E5ECF6\", \"width\": 0.5}}, \"type\": \"barpolar\"}], \"carpet\": [{\"aaxis\": {\"endlinecolor\": \"#2a3f5f\", \"gridcolor\": \"white\", \"linecolor\": \"white\", \"minorgridcolor\": \"white\", \"startlinecolor\": \"#2a3f5f\"}, \"baxis\": {\"endlinecolor\": \"#2a3f5f\", \"gridcolor\": \"white\", \"linecolor\": \"white\", \"minorgridcolor\": \"white\", \"startlinecolor\": \"#2a3f5f\"}, \"type\": \"carpet\"}], \"choropleth\": [{\"colorbar\": {\"outlinewidth\": 0, \"ticks\": \"\"}, \"type\": \"choropleth\"}], \"contour\": [{\"colorbar\": {\"outlinewidth\": 0, \"ticks\": \"\"}, \"colorscale\": [[0.0, \"#0d0887\"], [0.1111111111111111, \"#46039f\"], [0.2222222222222222, \"#7201a8\"], [0.3333333333333333, \"#9c179e\"], [0.4444444444444444, \"#bd3786\"], [0.5555555555555556, \"#d8576b\"], [0.6666666666666666, \"#ed7953\"], [0.7777777777777778, \"#fb9f3a\"], [0.8888888888888888, \"#fdca26\"], [1.0, \"#f0f921\"]], \"type\": \"contour\"}], \"contourcarpet\": [{\"colorbar\": {\"outlinewidth\": 0, \"ticks\": \"\"}, \"type\": \"contourcarpet\"}], \"heatmap\": [{\"colorbar\": {\"outlinewidth\": 0, \"ticks\": \"\"}, \"colorscale\": [[0.0, \"#0d0887\"], [0.1111111111111111, \"#46039f\"], [0.2222222222222222, \"#7201a8\"], [0.3333333333333333, \"#9c179e\"], [0.4444444444444444, \"#bd3786\"], [0.5555555555555556, \"#d8576b\"], [0.6666666666666666, \"#ed7953\"], [0.7777777777777778, \"#fb9f3a\"], [0.8888888888888888, \"#fdca26\"], [1.0, \"#f0f921\"]], \"type\": \"heatmap\"}], \"heatmapgl\": [{\"colorbar\": {\"outlinewidth\": 0, \"ticks\": \"\"}, \"colorscale\": [[0.0, \"#0d0887\"], [0.1111111111111111, \"#46039f\"], [0.2222222222222222, \"#7201a8\"], [0.3333333333333333, \"#9c179e\"], [0.4444444444444444, \"#bd3786\"], [0.5555555555555556, \"#d8576b\"], [0.6666666666666666, \"#ed7953\"], [0.7777777777777778, \"#fb9f3a\"], [0.8888888888888888, \"#fdca26\"], [1.0, \"#f0f921\"]], \"type\": \"heatmapgl\"}], \"histogram\": [{\"marker\": {\"colorbar\": {\"outlinewidth\": 0, \"ticks\": \"\"}}, \"type\": \"histogram\"}], \"histogram2d\": [{\"colorbar\": {\"outlinewidth\": 0, \"ticks\": \"\"}, \"colorscale\": [[0.0, \"#0d0887\"], [0.1111111111111111, \"#46039f\"], [0.2222222222222222, \"#7201a8\"], [0.3333333333333333, \"#9c179e\"], [0.4444444444444444, \"#bd3786\"], [0.5555555555555556, \"#d8576b\"], [0.6666666666666666, \"#ed7953\"], [0.7777777777777778, \"#fb9f3a\"], [0.8888888888888888, \"#fdca26\"], [1.0, \"#f0f921\"]], \"type\": \"histogram2d\"}], \"histogram2dcontour\": [{\"colorbar\": {\"outlinewidth\": 0, \"ticks\": \"\"}, \"colorscale\": [[0.0, \"#0d0887\"], [0.1111111111111111, \"#46039f\"], [0.2222222222222222, \"#7201a8\"], [0.3333333333333333, \"#9c179e\"], [0.4444444444444444, \"#bd3786\"], [0.5555555555555556, \"#d8576b\"], [0.6666666666666666, \"#ed7953\"], [0.7777777777777778, \"#fb9f3a\"], [0.8888888888888888, \"#fdca26\"], [1.0, \"#f0f921\"]], \"type\": \"histogram2dcontour\"}], \"mesh3d\": [{\"colorbar\": {\"outlinewidth\": 0, \"ticks\": \"\"}, \"type\": \"mesh3d\"}], \"parcoords\": [{\"line\": {\"colorbar\": {\"outlinewidth\": 0, \"ticks\": \"\"}}, \"type\": \"parcoords\"}], \"pie\": [{\"automargin\": true, \"type\": \"pie\"}], \"scatter\": [{\"marker\": {\"colorbar\": {\"outlinewidth\": 0, \"ticks\": \"\"}}, \"type\": \"scatter\"}], \"scatter3d\": [{\"line\": {\"colorbar\": {\"outlinewidth\": 0, \"ticks\": \"\"}}, \"marker\": {\"colorbar\": {\"outlinewidth\": 0, \"ticks\": \"\"}}, \"type\": \"scatter3d\"}], \"scattercarpet\": [{\"marker\": {\"colorbar\": {\"outlinewidth\": 0, \"ticks\": \"\"}}, \"type\": \"scattercarpet\"}], \"scattergeo\": [{\"marker\": {\"colorbar\": {\"outlinewidth\": 0, \"ticks\": \"\"}}, \"type\": \"scattergeo\"}], \"scattergl\": [{\"marker\": {\"colorbar\": {\"outlinewidth\": 0, \"ticks\": \"\"}}, \"type\": \"scattergl\"}], \"scattermapbox\": [{\"marker\": {\"colorbar\": {\"outlinewidth\": 0, \"ticks\": \"\"}}, \"type\": \"scattermapbox\"}], \"scatterpolar\": [{\"marker\": {\"colorbar\": {\"outlinewidth\": 0, \"ticks\": \"\"}}, \"type\": \"scatterpolar\"}], \"scatterpolargl\": [{\"marker\": {\"colorbar\": {\"outlinewidth\": 0, \"ticks\": \"\"}}, \"type\": \"scatterpolargl\"}], \"scatterternary\": [{\"marker\": {\"colorbar\": {\"outlinewidth\": 0, \"ticks\": \"\"}}, \"type\": \"scatterternary\"}], \"surface\": [{\"colorbar\": {\"outlinewidth\": 0, \"ticks\": \"\"}, \"colorscale\": [[0.0, \"#0d0887\"], [0.1111111111111111, \"#46039f\"], [0.2222222222222222, \"#7201a8\"], [0.3333333333333333, \"#9c179e\"], [0.4444444444444444, \"#bd3786\"], [0.5555555555555556, \"#d8576b\"], [0.6666666666666666, \"#ed7953\"], [0.7777777777777778, \"#fb9f3a\"], [0.8888888888888888, \"#fdca26\"], [1.0, \"#f0f921\"]], \"type\": \"surface\"}], \"table\": [{\"cells\": {\"fill\": {\"color\": \"#EBF0F8\"}, \"line\": {\"color\": \"white\"}}, \"header\": {\"fill\": {\"color\": \"#C8D4E3\"}, \"line\": {\"color\": \"white\"}}, \"type\": \"table\"}]}, \"layout\": {\"annotationdefaults\": {\"arrowcolor\": \"#2a3f5f\", \"arrowhead\": 0, \"arrowwidth\": 1}, \"coloraxis\": {\"colorbar\": {\"outlinewidth\": 0, \"ticks\": \"\"}}, \"colorscale\": {\"diverging\": [[0, \"#8e0152\"], [0.1, \"#c51b7d\"], [0.2, \"#de77ae\"], [0.3, \"#f1b6da\"], [0.4, \"#fde0ef\"], [0.5, \"#f7f7f7\"], [0.6, \"#e6f5d0\"], [0.7, \"#b8e186\"], [0.8, \"#7fbc41\"], [0.9, \"#4d9221\"], [1, \"#276419\"]], \"sequential\": [[0.0, \"#0d0887\"], [0.1111111111111111, \"#46039f\"], [0.2222222222222222, \"#7201a8\"], [0.3333333333333333, \"#9c179e\"], [0.4444444444444444, \"#bd3786\"], [0.5555555555555556, \"#d8576b\"], [0.6666666666666666, \"#ed7953\"], [0.7777777777777778, \"#fb9f3a\"], [0.8888888888888888, \"#fdca26\"], [1.0, \"#f0f921\"]], \"sequentialminus\": [[0.0, \"#0d0887\"], [0.1111111111111111, \"#46039f\"], [0.2222222222222222, \"#7201a8\"], [0.3333333333333333, \"#9c179e\"], [0.4444444444444444, \"#bd3786\"], [0.5555555555555556, \"#d8576b\"], [0.6666666666666666, \"#ed7953\"], [0.7777777777777778, \"#fb9f3a\"], [0.8888888888888888, \"#fdca26\"], [1.0, \"#f0f921\"]]}, \"colorway\": [\"#636efa\", \"#EF553B\", \"#00cc96\", \"#ab63fa\", \"#FFA15A\", \"#19d3f3\", \"#FF6692\", \"#B6E880\", \"#FF97FF\", \"#FECB52\"], \"font\": {\"color\": \"#2a3f5f\"}, \"geo\": {\"bgcolor\": \"white\", \"lakecolor\": \"white\", \"landcolor\": \"#E5ECF6\", \"showlakes\": true, \"showland\": true, \"subunitcolor\": \"white\"}, \"hoverlabel\": {\"align\": \"left\"}, \"hovermode\": \"closest\", \"mapbox\": {\"style\": \"light\"}, \"paper_bgcolor\": \"white\", \"plot_bgcolor\": \"#E5ECF6\", \"polar\": {\"angularaxis\": {\"gridcolor\": \"white\", \"linecolor\": \"white\", \"ticks\": \"\"}, \"bgcolor\": \"#E5ECF6\", \"radialaxis\": {\"gridcolor\": \"white\", \"linecolor\": \"white\", \"ticks\": \"\"}}, \"scene\": {\"xaxis\": {\"backgroundcolor\": \"#E5ECF6\", \"gridcolor\": \"white\", \"gridwidth\": 2, \"linecolor\": \"white\", \"showbackground\": true, \"ticks\": \"\", \"zerolinecolor\": \"white\"}, \"yaxis\": {\"backgroundcolor\": \"#E5ECF6\", \"gridcolor\": \"white\", \"gridwidth\": 2, \"linecolor\": \"white\", \"showbackground\": true, \"ticks\": \"\", \"zerolinecolor\": \"white\"}, \"zaxis\": {\"backgroundcolor\": \"#E5ECF6\", \"gridcolor\": \"white\", \"gridwidth\": 2, \"linecolor\": \"white\", \"showbackground\": true, \"ticks\": \"\", \"zerolinecolor\": \"white\"}}, \"shapedefaults\": {\"line\": {\"color\": \"#2a3f5f\"}}, \"ternary\": {\"aaxis\": {\"gridcolor\": \"white\", \"linecolor\": \"white\", \"ticks\": \"\"}, \"baxis\": {\"gridcolor\": \"white\", \"linecolor\": \"white\", \"ticks\": \"\"}, \"bgcolor\": \"#E5ECF6\", \"caxis\": {\"gridcolor\": \"white\", \"linecolor\": \"white\", \"ticks\": \"\"}}, \"title\": {\"x\": 0.05}, \"xaxis\": {\"automargin\": true, \"gridcolor\": \"white\", \"linecolor\": \"white\", \"ticks\": \"\", \"title\": {\"standoff\": 15}, \"zerolinecolor\": \"white\", \"zerolinewidth\": 2}, \"yaxis\": {\"automargin\": true, \"gridcolor\": \"white\", \"linecolor\": \"white\", \"ticks\": \"\", \"title\": {\"standoff\": 15}, \"zerolinecolor\": \"white\", \"zerolinewidth\": 2}}}, \"title\": {\"font\": {\"color\": \"#4D5663\"}}, \"xaxis\": {\"gridcolor\": \"#E1E5ED\", \"showgrid\": true, \"tickfont\": {\"color\": \"#4D5663\"}, \"title\": {\"font\": {\"color\": \"#4D5663\"}, \"text\": \"\"}, \"zerolinecolor\": \"#E1E5ED\"}, \"yaxis\": {\"gridcolor\": \"#E1E5ED\", \"showgrid\": true, \"tickfont\": {\"color\": \"#4D5663\"}, \"title\": {\"font\": {\"color\": \"#4D5663\"}, \"text\": \"\"}, \"zerolinecolor\": \"#E1E5ED\"}},\n",
       "                        {\"showLink\": true, \"linkText\": \"Export to plot.ly\", \"plotlyServerURL\": \"https://plot.ly\", \"responsive\": true}\n",
       "                    ).then(function(){\n",
       "                            \n",
       "var gd = document.getElementById('e2c0b3e7-f497-4b38-a95a-0c3ad8789979');\n",
       "var x = new MutationObserver(function (mutations, observer) {{\n",
       "        var display = window.getComputedStyle(gd).display;\n",
       "        if (!display || display === 'none') {{\n",
       "            console.log([gd, 'removed!']);\n",
       "            Plotly.purge(gd);\n",
       "            observer.disconnect();\n",
       "        }}\n",
       "}});\n",
       "\n",
       "// Listen for the removal of the full notebook cells\n",
       "var notebookContainer = gd.closest('#notebook-container');\n",
       "if (notebookContainer) {{\n",
       "    x.observe(notebookContainer, {childList: true});\n",
       "}}\n",
       "\n",
       "// Listen for the clearing of the current output cell\n",
       "var outputEl = gd.closest('.output');\n",
       "if (outputEl) {{\n",
       "    x.observe(outputEl, {childList: true});\n",
       "}}\n",
       "\n",
       "                        })\n",
       "                };\n",
       "                });\n",
       "            </script>\n",
       "        </div>"
      ]
     },
     "metadata": {},
     "output_type": "display_data"
    }
   ],
   "source": [
    "df.iplot(kind='scatter',x='A',y='B',mode='markers',size=10)"
   ]
  },
  {
   "cell_type": "code",
   "execution_count": 23,
   "metadata": {},
   "outputs": [
    {
     "data": {
      "application/vnd.plotly.v1+json": {
       "config": {
        "linkText": "Export to plot.ly",
        "plotlyServerURL": "https://plot.ly",
        "showLink": true
       },
       "data": [
        {
         "marker": {
          "color": "rgba(255, 153, 51, 0.6)",
          "line": {
           "color": "rgba(255, 153, 51, 1.0)",
           "width": 1
          }
         },
         "name": "Values",
         "orientation": "v",
         "text": "",
         "type": "bar",
         "x": [
          "A",
          "B",
          "C"
         ],
         "y": [
          32,
          43,
          50
         ]
        }
       ],
       "layout": {
        "legend": {
         "bgcolor": "#F5F6F9",
         "font": {
          "color": "#4D5663"
         }
        },
        "paper_bgcolor": "#F5F6F9",
        "plot_bgcolor": "#F5F6F9",
        "template": {
         "data": {
          "bar": [
           {
            "error_x": {
             "color": "#2a3f5f"
            },
            "error_y": {
             "color": "#2a3f5f"
            },
            "marker": {
             "line": {
              "color": "#E5ECF6",
              "width": 0.5
             }
            },
            "type": "bar"
           }
          ],
          "barpolar": [
           {
            "marker": {
             "line": {
              "color": "#E5ECF6",
              "width": 0.5
             }
            },
            "type": "barpolar"
           }
          ],
          "carpet": [
           {
            "aaxis": {
             "endlinecolor": "#2a3f5f",
             "gridcolor": "white",
             "linecolor": "white",
             "minorgridcolor": "white",
             "startlinecolor": "#2a3f5f"
            },
            "baxis": {
             "endlinecolor": "#2a3f5f",
             "gridcolor": "white",
             "linecolor": "white",
             "minorgridcolor": "white",
             "startlinecolor": "#2a3f5f"
            },
            "type": "carpet"
           }
          ],
          "choropleth": [
           {
            "colorbar": {
             "outlinewidth": 0,
             "ticks": ""
            },
            "type": "choropleth"
           }
          ],
          "contour": [
           {
            "colorbar": {
             "outlinewidth": 0,
             "ticks": ""
            },
            "colorscale": [
             [
              0,
              "#0d0887"
             ],
             [
              0.1111111111111111,
              "#46039f"
             ],
             [
              0.2222222222222222,
              "#7201a8"
             ],
             [
              0.3333333333333333,
              "#9c179e"
             ],
             [
              0.4444444444444444,
              "#bd3786"
             ],
             [
              0.5555555555555556,
              "#d8576b"
             ],
             [
              0.6666666666666666,
              "#ed7953"
             ],
             [
              0.7777777777777778,
              "#fb9f3a"
             ],
             [
              0.8888888888888888,
              "#fdca26"
             ],
             [
              1,
              "#f0f921"
             ]
            ],
            "type": "contour"
           }
          ],
          "contourcarpet": [
           {
            "colorbar": {
             "outlinewidth": 0,
             "ticks": ""
            },
            "type": "contourcarpet"
           }
          ],
          "heatmap": [
           {
            "colorbar": {
             "outlinewidth": 0,
             "ticks": ""
            },
            "colorscale": [
             [
              0,
              "#0d0887"
             ],
             [
              0.1111111111111111,
              "#46039f"
             ],
             [
              0.2222222222222222,
              "#7201a8"
             ],
             [
              0.3333333333333333,
              "#9c179e"
             ],
             [
              0.4444444444444444,
              "#bd3786"
             ],
             [
              0.5555555555555556,
              "#d8576b"
             ],
             [
              0.6666666666666666,
              "#ed7953"
             ],
             [
              0.7777777777777778,
              "#fb9f3a"
             ],
             [
              0.8888888888888888,
              "#fdca26"
             ],
             [
              1,
              "#f0f921"
             ]
            ],
            "type": "heatmap"
           }
          ],
          "heatmapgl": [
           {
            "colorbar": {
             "outlinewidth": 0,
             "ticks": ""
            },
            "colorscale": [
             [
              0,
              "#0d0887"
             ],
             [
              0.1111111111111111,
              "#46039f"
             ],
             [
              0.2222222222222222,
              "#7201a8"
             ],
             [
              0.3333333333333333,
              "#9c179e"
             ],
             [
              0.4444444444444444,
              "#bd3786"
             ],
             [
              0.5555555555555556,
              "#d8576b"
             ],
             [
              0.6666666666666666,
              "#ed7953"
             ],
             [
              0.7777777777777778,
              "#fb9f3a"
             ],
             [
              0.8888888888888888,
              "#fdca26"
             ],
             [
              1,
              "#f0f921"
             ]
            ],
            "type": "heatmapgl"
           }
          ],
          "histogram": [
           {
            "marker": {
             "colorbar": {
              "outlinewidth": 0,
              "ticks": ""
             }
            },
            "type": "histogram"
           }
          ],
          "histogram2d": [
           {
            "colorbar": {
             "outlinewidth": 0,
             "ticks": ""
            },
            "colorscale": [
             [
              0,
              "#0d0887"
             ],
             [
              0.1111111111111111,
              "#46039f"
             ],
             [
              0.2222222222222222,
              "#7201a8"
             ],
             [
              0.3333333333333333,
              "#9c179e"
             ],
             [
              0.4444444444444444,
              "#bd3786"
             ],
             [
              0.5555555555555556,
              "#d8576b"
             ],
             [
              0.6666666666666666,
              "#ed7953"
             ],
             [
              0.7777777777777778,
              "#fb9f3a"
             ],
             [
              0.8888888888888888,
              "#fdca26"
             ],
             [
              1,
              "#f0f921"
             ]
            ],
            "type": "histogram2d"
           }
          ],
          "histogram2dcontour": [
           {
            "colorbar": {
             "outlinewidth": 0,
             "ticks": ""
            },
            "colorscale": [
             [
              0,
              "#0d0887"
             ],
             [
              0.1111111111111111,
              "#46039f"
             ],
             [
              0.2222222222222222,
              "#7201a8"
             ],
             [
              0.3333333333333333,
              "#9c179e"
             ],
             [
              0.4444444444444444,
              "#bd3786"
             ],
             [
              0.5555555555555556,
              "#d8576b"
             ],
             [
              0.6666666666666666,
              "#ed7953"
             ],
             [
              0.7777777777777778,
              "#fb9f3a"
             ],
             [
              0.8888888888888888,
              "#fdca26"
             ],
             [
              1,
              "#f0f921"
             ]
            ],
            "type": "histogram2dcontour"
           }
          ],
          "mesh3d": [
           {
            "colorbar": {
             "outlinewidth": 0,
             "ticks": ""
            },
            "type": "mesh3d"
           }
          ],
          "parcoords": [
           {
            "line": {
             "colorbar": {
              "outlinewidth": 0,
              "ticks": ""
             }
            },
            "type": "parcoords"
           }
          ],
          "pie": [
           {
            "automargin": true,
            "type": "pie"
           }
          ],
          "scatter": [
           {
            "marker": {
             "colorbar": {
              "outlinewidth": 0,
              "ticks": ""
             }
            },
            "type": "scatter"
           }
          ],
          "scatter3d": [
           {
            "line": {
             "colorbar": {
              "outlinewidth": 0,
              "ticks": ""
             }
            },
            "marker": {
             "colorbar": {
              "outlinewidth": 0,
              "ticks": ""
             }
            },
            "type": "scatter3d"
           }
          ],
          "scattercarpet": [
           {
            "marker": {
             "colorbar": {
              "outlinewidth": 0,
              "ticks": ""
             }
            },
            "type": "scattercarpet"
           }
          ],
          "scattergeo": [
           {
            "marker": {
             "colorbar": {
              "outlinewidth": 0,
              "ticks": ""
             }
            },
            "type": "scattergeo"
           }
          ],
          "scattergl": [
           {
            "marker": {
             "colorbar": {
              "outlinewidth": 0,
              "ticks": ""
             }
            },
            "type": "scattergl"
           }
          ],
          "scattermapbox": [
           {
            "marker": {
             "colorbar": {
              "outlinewidth": 0,
              "ticks": ""
             }
            },
            "type": "scattermapbox"
           }
          ],
          "scatterpolar": [
           {
            "marker": {
             "colorbar": {
              "outlinewidth": 0,
              "ticks": ""
             }
            },
            "type": "scatterpolar"
           }
          ],
          "scatterpolargl": [
           {
            "marker": {
             "colorbar": {
              "outlinewidth": 0,
              "ticks": ""
             }
            },
            "type": "scatterpolargl"
           }
          ],
          "scatterternary": [
           {
            "marker": {
             "colorbar": {
              "outlinewidth": 0,
              "ticks": ""
             }
            },
            "type": "scatterternary"
           }
          ],
          "surface": [
           {
            "colorbar": {
             "outlinewidth": 0,
             "ticks": ""
            },
            "colorscale": [
             [
              0,
              "#0d0887"
             ],
             [
              0.1111111111111111,
              "#46039f"
             ],
             [
              0.2222222222222222,
              "#7201a8"
             ],
             [
              0.3333333333333333,
              "#9c179e"
             ],
             [
              0.4444444444444444,
              "#bd3786"
             ],
             [
              0.5555555555555556,
              "#d8576b"
             ],
             [
              0.6666666666666666,
              "#ed7953"
             ],
             [
              0.7777777777777778,
              "#fb9f3a"
             ],
             [
              0.8888888888888888,
              "#fdca26"
             ],
             [
              1,
              "#f0f921"
             ]
            ],
            "type": "surface"
           }
          ],
          "table": [
           {
            "cells": {
             "fill": {
              "color": "#EBF0F8"
             },
             "line": {
              "color": "white"
             }
            },
            "header": {
             "fill": {
              "color": "#C8D4E3"
             },
             "line": {
              "color": "white"
             }
            },
            "type": "table"
           }
          ]
         },
         "layout": {
          "annotationdefaults": {
           "arrowcolor": "#2a3f5f",
           "arrowhead": 0,
           "arrowwidth": 1
          },
          "coloraxis": {
           "colorbar": {
            "outlinewidth": 0,
            "ticks": ""
           }
          },
          "colorscale": {
           "diverging": [
            [
             0,
             "#8e0152"
            ],
            [
             0.1,
             "#c51b7d"
            ],
            [
             0.2,
             "#de77ae"
            ],
            [
             0.3,
             "#f1b6da"
            ],
            [
             0.4,
             "#fde0ef"
            ],
            [
             0.5,
             "#f7f7f7"
            ],
            [
             0.6,
             "#e6f5d0"
            ],
            [
             0.7,
             "#b8e186"
            ],
            [
             0.8,
             "#7fbc41"
            ],
            [
             0.9,
             "#4d9221"
            ],
            [
             1,
             "#276419"
            ]
           ],
           "sequential": [
            [
             0,
             "#0d0887"
            ],
            [
             0.1111111111111111,
             "#46039f"
            ],
            [
             0.2222222222222222,
             "#7201a8"
            ],
            [
             0.3333333333333333,
             "#9c179e"
            ],
            [
             0.4444444444444444,
             "#bd3786"
            ],
            [
             0.5555555555555556,
             "#d8576b"
            ],
            [
             0.6666666666666666,
             "#ed7953"
            ],
            [
             0.7777777777777778,
             "#fb9f3a"
            ],
            [
             0.8888888888888888,
             "#fdca26"
            ],
            [
             1,
             "#f0f921"
            ]
           ],
           "sequentialminus": [
            [
             0,
             "#0d0887"
            ],
            [
             0.1111111111111111,
             "#46039f"
            ],
            [
             0.2222222222222222,
             "#7201a8"
            ],
            [
             0.3333333333333333,
             "#9c179e"
            ],
            [
             0.4444444444444444,
             "#bd3786"
            ],
            [
             0.5555555555555556,
             "#d8576b"
            ],
            [
             0.6666666666666666,
             "#ed7953"
            ],
            [
             0.7777777777777778,
             "#fb9f3a"
            ],
            [
             0.8888888888888888,
             "#fdca26"
            ],
            [
             1,
             "#f0f921"
            ]
           ]
          },
          "colorway": [
           "#636efa",
           "#EF553B",
           "#00cc96",
           "#ab63fa",
           "#FFA15A",
           "#19d3f3",
           "#FF6692",
           "#B6E880",
           "#FF97FF",
           "#FECB52"
          ],
          "font": {
           "color": "#2a3f5f"
          },
          "geo": {
           "bgcolor": "white",
           "lakecolor": "white",
           "landcolor": "#E5ECF6",
           "showlakes": true,
           "showland": true,
           "subunitcolor": "white"
          },
          "hoverlabel": {
           "align": "left"
          },
          "hovermode": "closest",
          "mapbox": {
           "style": "light"
          },
          "paper_bgcolor": "white",
          "plot_bgcolor": "#E5ECF6",
          "polar": {
           "angularaxis": {
            "gridcolor": "white",
            "linecolor": "white",
            "ticks": ""
           },
           "bgcolor": "#E5ECF6",
           "radialaxis": {
            "gridcolor": "white",
            "linecolor": "white",
            "ticks": ""
           }
          },
          "scene": {
           "xaxis": {
            "backgroundcolor": "#E5ECF6",
            "gridcolor": "white",
            "gridwidth": 2,
            "linecolor": "white",
            "showbackground": true,
            "ticks": "",
            "zerolinecolor": "white"
           },
           "yaxis": {
            "backgroundcolor": "#E5ECF6",
            "gridcolor": "white",
            "gridwidth": 2,
            "linecolor": "white",
            "showbackground": true,
            "ticks": "",
            "zerolinecolor": "white"
           },
           "zaxis": {
            "backgroundcolor": "#E5ECF6",
            "gridcolor": "white",
            "gridwidth": 2,
            "linecolor": "white",
            "showbackground": true,
            "ticks": "",
            "zerolinecolor": "white"
           }
          },
          "shapedefaults": {
           "line": {
            "color": "#2a3f5f"
           }
          },
          "ternary": {
           "aaxis": {
            "gridcolor": "white",
            "linecolor": "white",
            "ticks": ""
           },
           "baxis": {
            "gridcolor": "white",
            "linecolor": "white",
            "ticks": ""
           },
           "bgcolor": "#E5ECF6",
           "caxis": {
            "gridcolor": "white",
            "linecolor": "white",
            "ticks": ""
           }
          },
          "title": {
           "x": 0.05
          },
          "xaxis": {
           "automargin": true,
           "gridcolor": "white",
           "linecolor": "white",
           "ticks": "",
           "title": {
            "standoff": 15
           },
           "zerolinecolor": "white",
           "zerolinewidth": 2
          },
          "yaxis": {
           "automargin": true,
           "gridcolor": "white",
           "linecolor": "white",
           "ticks": "",
           "title": {
            "standoff": 15
           },
           "zerolinecolor": "white",
           "zerolinewidth": 2
          }
         }
        },
        "title": {
         "font": {
          "color": "#4D5663"
         }
        },
        "xaxis": {
         "gridcolor": "#E1E5ED",
         "showgrid": true,
         "tickfont": {
          "color": "#4D5663"
         },
         "title": {
          "font": {
           "color": "#4D5663"
          },
          "text": ""
         },
         "zerolinecolor": "#E1E5ED"
        },
        "yaxis": {
         "gridcolor": "#E1E5ED",
         "showgrid": true,
         "tickfont": {
          "color": "#4D5663"
         },
         "title": {
          "font": {
           "color": "#4D5663"
          },
          "text": ""
         },
         "zerolinecolor": "#E1E5ED"
        }
       }
      },
      "text/html": [
       "<div>\n",
       "        \n",
       "        \n",
       "            <div id=\"c189022a-f0d4-425f-aad0-a55487c6f894\" class=\"plotly-graph-div\" style=\"height:525px; width:100%;\"></div>\n",
       "            <script type=\"text/javascript\">\n",
       "                require([\"plotly\"], function(Plotly) {\n",
       "                    window.PLOTLYENV=window.PLOTLYENV || {};\n",
       "                    window.PLOTLYENV.BASE_URL='https://plot.ly';\n",
       "                    \n",
       "                if (document.getElementById(\"c189022a-f0d4-425f-aad0-a55487c6f894\")) {\n",
       "                    Plotly.newPlot(\n",
       "                        'c189022a-f0d4-425f-aad0-a55487c6f894',\n",
       "                        [{\"marker\": {\"color\": \"rgba(255, 153, 51, 0.6)\", \"line\": {\"color\": \"rgba(255, 153, 51, 1.0)\", \"width\": 1}}, \"name\": \"Values\", \"orientation\": \"v\", \"text\": \"\", \"type\": \"bar\", \"x\": [\"A\", \"B\", \"C\"], \"y\": [32, 43, 50]}],\n",
       "                        {\"legend\": {\"bgcolor\": \"#F5F6F9\", \"font\": {\"color\": \"#4D5663\"}}, \"paper_bgcolor\": \"#F5F6F9\", \"plot_bgcolor\": \"#F5F6F9\", \"template\": {\"data\": {\"bar\": [{\"error_x\": {\"color\": \"#2a3f5f\"}, \"error_y\": {\"color\": \"#2a3f5f\"}, \"marker\": {\"line\": {\"color\": \"#E5ECF6\", \"width\": 0.5}}, \"type\": \"bar\"}], \"barpolar\": [{\"marker\": {\"line\": {\"color\": \"#E5ECF6\", \"width\": 0.5}}, \"type\": \"barpolar\"}], \"carpet\": [{\"aaxis\": {\"endlinecolor\": \"#2a3f5f\", \"gridcolor\": \"white\", \"linecolor\": \"white\", \"minorgridcolor\": \"white\", \"startlinecolor\": \"#2a3f5f\"}, \"baxis\": {\"endlinecolor\": \"#2a3f5f\", \"gridcolor\": \"white\", \"linecolor\": \"white\", \"minorgridcolor\": \"white\", \"startlinecolor\": \"#2a3f5f\"}, \"type\": \"carpet\"}], \"choropleth\": [{\"colorbar\": {\"outlinewidth\": 0, \"ticks\": \"\"}, \"type\": \"choropleth\"}], \"contour\": [{\"colorbar\": {\"outlinewidth\": 0, \"ticks\": \"\"}, \"colorscale\": [[0.0, \"#0d0887\"], [0.1111111111111111, \"#46039f\"], [0.2222222222222222, \"#7201a8\"], [0.3333333333333333, \"#9c179e\"], [0.4444444444444444, \"#bd3786\"], [0.5555555555555556, \"#d8576b\"], [0.6666666666666666, \"#ed7953\"], [0.7777777777777778, \"#fb9f3a\"], [0.8888888888888888, \"#fdca26\"], [1.0, \"#f0f921\"]], \"type\": \"contour\"}], \"contourcarpet\": [{\"colorbar\": {\"outlinewidth\": 0, \"ticks\": \"\"}, \"type\": \"contourcarpet\"}], \"heatmap\": [{\"colorbar\": {\"outlinewidth\": 0, \"ticks\": \"\"}, \"colorscale\": [[0.0, \"#0d0887\"], [0.1111111111111111, \"#46039f\"], [0.2222222222222222, \"#7201a8\"], [0.3333333333333333, \"#9c179e\"], [0.4444444444444444, \"#bd3786\"], [0.5555555555555556, \"#d8576b\"], [0.6666666666666666, \"#ed7953\"], [0.7777777777777778, \"#fb9f3a\"], [0.8888888888888888, \"#fdca26\"], [1.0, \"#f0f921\"]], \"type\": \"heatmap\"}], \"heatmapgl\": [{\"colorbar\": {\"outlinewidth\": 0, \"ticks\": \"\"}, \"colorscale\": [[0.0, \"#0d0887\"], [0.1111111111111111, \"#46039f\"], [0.2222222222222222, \"#7201a8\"], [0.3333333333333333, \"#9c179e\"], [0.4444444444444444, \"#bd3786\"], [0.5555555555555556, \"#d8576b\"], [0.6666666666666666, \"#ed7953\"], [0.7777777777777778, \"#fb9f3a\"], [0.8888888888888888, \"#fdca26\"], [1.0, \"#f0f921\"]], \"type\": \"heatmapgl\"}], \"histogram\": [{\"marker\": {\"colorbar\": {\"outlinewidth\": 0, \"ticks\": \"\"}}, \"type\": \"histogram\"}], \"histogram2d\": [{\"colorbar\": {\"outlinewidth\": 0, \"ticks\": \"\"}, \"colorscale\": [[0.0, \"#0d0887\"], [0.1111111111111111, \"#46039f\"], [0.2222222222222222, \"#7201a8\"], [0.3333333333333333, \"#9c179e\"], [0.4444444444444444, \"#bd3786\"], [0.5555555555555556, \"#d8576b\"], [0.6666666666666666, \"#ed7953\"], [0.7777777777777778, \"#fb9f3a\"], [0.8888888888888888, \"#fdca26\"], [1.0, \"#f0f921\"]], \"type\": \"histogram2d\"}], \"histogram2dcontour\": [{\"colorbar\": {\"outlinewidth\": 0, \"ticks\": \"\"}, \"colorscale\": [[0.0, \"#0d0887\"], [0.1111111111111111, \"#46039f\"], [0.2222222222222222, \"#7201a8\"], [0.3333333333333333, \"#9c179e\"], [0.4444444444444444, \"#bd3786\"], [0.5555555555555556, \"#d8576b\"], [0.6666666666666666, \"#ed7953\"], [0.7777777777777778, \"#fb9f3a\"], [0.8888888888888888, \"#fdca26\"], [1.0, \"#f0f921\"]], \"type\": \"histogram2dcontour\"}], \"mesh3d\": [{\"colorbar\": {\"outlinewidth\": 0, \"ticks\": \"\"}, \"type\": \"mesh3d\"}], \"parcoords\": [{\"line\": {\"colorbar\": {\"outlinewidth\": 0, \"ticks\": \"\"}}, \"type\": \"parcoords\"}], \"pie\": [{\"automargin\": true, \"type\": \"pie\"}], \"scatter\": [{\"marker\": {\"colorbar\": {\"outlinewidth\": 0, \"ticks\": \"\"}}, \"type\": \"scatter\"}], \"scatter3d\": [{\"line\": {\"colorbar\": {\"outlinewidth\": 0, \"ticks\": \"\"}}, \"marker\": {\"colorbar\": {\"outlinewidth\": 0, \"ticks\": \"\"}}, \"type\": \"scatter3d\"}], \"scattercarpet\": [{\"marker\": {\"colorbar\": {\"outlinewidth\": 0, \"ticks\": \"\"}}, \"type\": \"scattercarpet\"}], \"scattergeo\": [{\"marker\": {\"colorbar\": {\"outlinewidth\": 0, \"ticks\": \"\"}}, \"type\": \"scattergeo\"}], \"scattergl\": [{\"marker\": {\"colorbar\": {\"outlinewidth\": 0, \"ticks\": \"\"}}, \"type\": \"scattergl\"}], \"scattermapbox\": [{\"marker\": {\"colorbar\": {\"outlinewidth\": 0, \"ticks\": \"\"}}, \"type\": \"scattermapbox\"}], \"scatterpolar\": [{\"marker\": {\"colorbar\": {\"outlinewidth\": 0, \"ticks\": \"\"}}, \"type\": \"scatterpolar\"}], \"scatterpolargl\": [{\"marker\": {\"colorbar\": {\"outlinewidth\": 0, \"ticks\": \"\"}}, \"type\": \"scatterpolargl\"}], \"scatterternary\": [{\"marker\": {\"colorbar\": {\"outlinewidth\": 0, \"ticks\": \"\"}}, \"type\": \"scatterternary\"}], \"surface\": [{\"colorbar\": {\"outlinewidth\": 0, \"ticks\": \"\"}, \"colorscale\": [[0.0, \"#0d0887\"], [0.1111111111111111, \"#46039f\"], [0.2222222222222222, \"#7201a8\"], [0.3333333333333333, \"#9c179e\"], [0.4444444444444444, \"#bd3786\"], [0.5555555555555556, \"#d8576b\"], [0.6666666666666666, \"#ed7953\"], [0.7777777777777778, \"#fb9f3a\"], [0.8888888888888888, \"#fdca26\"], [1.0, \"#f0f921\"]], \"type\": \"surface\"}], \"table\": [{\"cells\": {\"fill\": {\"color\": \"#EBF0F8\"}, \"line\": {\"color\": \"white\"}}, \"header\": {\"fill\": {\"color\": \"#C8D4E3\"}, \"line\": {\"color\": \"white\"}}, \"type\": \"table\"}]}, \"layout\": {\"annotationdefaults\": {\"arrowcolor\": \"#2a3f5f\", \"arrowhead\": 0, \"arrowwidth\": 1}, \"coloraxis\": {\"colorbar\": {\"outlinewidth\": 0, \"ticks\": \"\"}}, \"colorscale\": {\"diverging\": [[0, \"#8e0152\"], [0.1, \"#c51b7d\"], [0.2, \"#de77ae\"], [0.3, \"#f1b6da\"], [0.4, \"#fde0ef\"], [0.5, \"#f7f7f7\"], [0.6, \"#e6f5d0\"], [0.7, \"#b8e186\"], [0.8, \"#7fbc41\"], [0.9, \"#4d9221\"], [1, \"#276419\"]], \"sequential\": [[0.0, \"#0d0887\"], [0.1111111111111111, \"#46039f\"], [0.2222222222222222, \"#7201a8\"], [0.3333333333333333, \"#9c179e\"], [0.4444444444444444, \"#bd3786\"], [0.5555555555555556, \"#d8576b\"], [0.6666666666666666, \"#ed7953\"], [0.7777777777777778, \"#fb9f3a\"], [0.8888888888888888, \"#fdca26\"], [1.0, \"#f0f921\"]], \"sequentialminus\": [[0.0, \"#0d0887\"], [0.1111111111111111, \"#46039f\"], [0.2222222222222222, \"#7201a8\"], [0.3333333333333333, \"#9c179e\"], [0.4444444444444444, \"#bd3786\"], [0.5555555555555556, \"#d8576b\"], [0.6666666666666666, \"#ed7953\"], [0.7777777777777778, \"#fb9f3a\"], [0.8888888888888888, \"#fdca26\"], [1.0, \"#f0f921\"]]}, \"colorway\": [\"#636efa\", \"#EF553B\", \"#00cc96\", \"#ab63fa\", \"#FFA15A\", \"#19d3f3\", \"#FF6692\", \"#B6E880\", \"#FF97FF\", \"#FECB52\"], \"font\": {\"color\": \"#2a3f5f\"}, \"geo\": {\"bgcolor\": \"white\", \"lakecolor\": \"white\", \"landcolor\": \"#E5ECF6\", \"showlakes\": true, \"showland\": true, \"subunitcolor\": \"white\"}, \"hoverlabel\": {\"align\": \"left\"}, \"hovermode\": \"closest\", \"mapbox\": {\"style\": \"light\"}, \"paper_bgcolor\": \"white\", \"plot_bgcolor\": \"#E5ECF6\", \"polar\": {\"angularaxis\": {\"gridcolor\": \"white\", \"linecolor\": \"white\", \"ticks\": \"\"}, \"bgcolor\": \"#E5ECF6\", \"radialaxis\": {\"gridcolor\": \"white\", \"linecolor\": \"white\", \"ticks\": \"\"}}, \"scene\": {\"xaxis\": {\"backgroundcolor\": \"#E5ECF6\", \"gridcolor\": \"white\", \"gridwidth\": 2, \"linecolor\": \"white\", \"showbackground\": true, \"ticks\": \"\", \"zerolinecolor\": \"white\"}, \"yaxis\": {\"backgroundcolor\": \"#E5ECF6\", \"gridcolor\": \"white\", \"gridwidth\": 2, \"linecolor\": \"white\", \"showbackground\": true, \"ticks\": \"\", \"zerolinecolor\": \"white\"}, \"zaxis\": {\"backgroundcolor\": \"#E5ECF6\", \"gridcolor\": \"white\", \"gridwidth\": 2, \"linecolor\": \"white\", \"showbackground\": true, \"ticks\": \"\", \"zerolinecolor\": \"white\"}}, \"shapedefaults\": {\"line\": {\"color\": \"#2a3f5f\"}}, \"ternary\": {\"aaxis\": {\"gridcolor\": \"white\", \"linecolor\": \"white\", \"ticks\": \"\"}, \"baxis\": {\"gridcolor\": \"white\", \"linecolor\": \"white\", \"ticks\": \"\"}, \"bgcolor\": \"#E5ECF6\", \"caxis\": {\"gridcolor\": \"white\", \"linecolor\": \"white\", \"ticks\": \"\"}}, \"title\": {\"x\": 0.05}, \"xaxis\": {\"automargin\": true, \"gridcolor\": \"white\", \"linecolor\": \"white\", \"ticks\": \"\", \"title\": {\"standoff\": 15}, \"zerolinecolor\": \"white\", \"zerolinewidth\": 2}, \"yaxis\": {\"automargin\": true, \"gridcolor\": \"white\", \"linecolor\": \"white\", \"ticks\": \"\", \"title\": {\"standoff\": 15}, \"zerolinecolor\": \"white\", \"zerolinewidth\": 2}}}, \"title\": {\"font\": {\"color\": \"#4D5663\"}}, \"xaxis\": {\"gridcolor\": \"#E1E5ED\", \"showgrid\": true, \"tickfont\": {\"color\": \"#4D5663\"}, \"title\": {\"font\": {\"color\": \"#4D5663\"}, \"text\": \"\"}, \"zerolinecolor\": \"#E1E5ED\"}, \"yaxis\": {\"gridcolor\": \"#E1E5ED\", \"showgrid\": true, \"tickfont\": {\"color\": \"#4D5663\"}, \"title\": {\"font\": {\"color\": \"#4D5663\"}, \"text\": \"\"}, \"zerolinecolor\": \"#E1E5ED\"}},\n",
       "                        {\"showLink\": true, \"linkText\": \"Export to plot.ly\", \"plotlyServerURL\": \"https://plot.ly\", \"responsive\": true}\n",
       "                    ).then(function(){\n",
       "                            \n",
       "var gd = document.getElementById('c189022a-f0d4-425f-aad0-a55487c6f894');\n",
       "var x = new MutationObserver(function (mutations, observer) {{\n",
       "        var display = window.getComputedStyle(gd).display;\n",
       "        if (!display || display === 'none') {{\n",
       "            console.log([gd, 'removed!']);\n",
       "            Plotly.purge(gd);\n",
       "            observer.disconnect();\n",
       "        }}\n",
       "}});\n",
       "\n",
       "// Listen for the removal of the full notebook cells\n",
       "var notebookContainer = gd.closest('#notebook-container');\n",
       "if (notebookContainer) {{\n",
       "    x.observe(notebookContainer, {childList: true});\n",
       "}}\n",
       "\n",
       "// Listen for the clearing of the current output cell\n",
       "var outputEl = gd.closest('.output');\n",
       "if (outputEl) {{\n",
       "    x.observe(outputEl, {childList: true});\n",
       "}}\n",
       "\n",
       "                        })\n",
       "                };\n",
       "                });\n",
       "            </script>\n",
       "        </div>"
      ]
     },
     "metadata": {},
     "output_type": "display_data"
    }
   ],
   "source": [
    "df2.iplot(kind='bar',x='Category',y='Values')"
   ]
  },
  {
   "cell_type": "code",
   "execution_count": 24,
   "metadata": {},
   "outputs": [
    {
     "data": {
      "text/html": [
       "<div>\n",
       "<style scoped>\n",
       "    .dataframe tbody tr th:only-of-type {\n",
       "        vertical-align: middle;\n",
       "    }\n",
       "\n",
       "    .dataframe tbody tr th {\n",
       "        vertical-align: top;\n",
       "    }\n",
       "\n",
       "    .dataframe thead th {\n",
       "        text-align: right;\n",
       "    }\n",
       "</style>\n",
       "<table border=\"1\" class=\"dataframe\">\n",
       "  <thead>\n",
       "    <tr style=\"text-align: right;\">\n",
       "      <th></th>\n",
       "      <th>A</th>\n",
       "      <th>B</th>\n",
       "      <th>C</th>\n",
       "      <th>D</th>\n",
       "    </tr>\n",
       "  </thead>\n",
       "  <tbody>\n",
       "    <tr>\n",
       "      <td>0</td>\n",
       "      <td>0.346420</td>\n",
       "      <td>-0.020590</td>\n",
       "      <td>0.143582</td>\n",
       "      <td>-1.111864</td>\n",
       "    </tr>\n",
       "    <tr>\n",
       "      <td>1</td>\n",
       "      <td>1.219133</td>\n",
       "      <td>0.542350</td>\n",
       "      <td>0.292081</td>\n",
       "      <td>0.149141</td>\n",
       "    </tr>\n",
       "    <tr>\n",
       "      <td>2</td>\n",
       "      <td>-1.566199</td>\n",
       "      <td>-0.878735</td>\n",
       "      <td>0.403455</td>\n",
       "      <td>-1.222111</td>\n",
       "    </tr>\n",
       "    <tr>\n",
       "      <td>3</td>\n",
       "      <td>0.465731</td>\n",
       "      <td>-0.489531</td>\n",
       "      <td>1.184643</td>\n",
       "      <td>-1.687580</td>\n",
       "    </tr>\n",
       "    <tr>\n",
       "      <td>4</td>\n",
       "      <td>-0.152618</td>\n",
       "      <td>-0.485415</td>\n",
       "      <td>0.319243</td>\n",
       "      <td>-0.755818</td>\n",
       "    </tr>\n",
       "    <tr>\n",
       "      <td>...</td>\n",
       "      <td>...</td>\n",
       "      <td>...</td>\n",
       "      <td>...</td>\n",
       "      <td>...</td>\n",
       "    </tr>\n",
       "    <tr>\n",
       "      <td>95</td>\n",
       "      <td>-0.862300</td>\n",
       "      <td>1.467167</td>\n",
       "      <td>-0.307613</td>\n",
       "      <td>0.451360</td>\n",
       "    </tr>\n",
       "    <tr>\n",
       "      <td>96</td>\n",
       "      <td>-0.741585</td>\n",
       "      <td>-0.186624</td>\n",
       "      <td>-0.448132</td>\n",
       "      <td>0.733150</td>\n",
       "    </tr>\n",
       "    <tr>\n",
       "      <td>97</td>\n",
       "      <td>1.190293</td>\n",
       "      <td>-1.755347</td>\n",
       "      <td>-0.734162</td>\n",
       "      <td>0.806858</td>\n",
       "    </tr>\n",
       "    <tr>\n",
       "      <td>98</td>\n",
       "      <td>0.572939</td>\n",
       "      <td>-0.118607</td>\n",
       "      <td>-1.066749</td>\n",
       "      <td>0.885702</td>\n",
       "    </tr>\n",
       "    <tr>\n",
       "      <td>99</td>\n",
       "      <td>-0.214348</td>\n",
       "      <td>1.386876</td>\n",
       "      <td>0.754148</td>\n",
       "      <td>-0.392629</td>\n",
       "    </tr>\n",
       "  </tbody>\n",
       "</table>\n",
       "<p>100 rows × 4 columns</p>\n",
       "</div>"
      ],
      "text/plain": [
       "           A         B         C         D\n",
       "0   0.346420 -0.020590  0.143582 -1.111864\n",
       "1   1.219133  0.542350  0.292081  0.149141\n",
       "2  -1.566199 -0.878735  0.403455 -1.222111\n",
       "3   0.465731 -0.489531  1.184643 -1.687580\n",
       "4  -0.152618 -0.485415  0.319243 -0.755818\n",
       "..       ...       ...       ...       ...\n",
       "95 -0.862300  1.467167 -0.307613  0.451360\n",
       "96 -0.741585 -0.186624 -0.448132  0.733150\n",
       "97  1.190293 -1.755347 -0.734162  0.806858\n",
       "98  0.572939 -0.118607 -1.066749  0.885702\n",
       "99 -0.214348  1.386876  0.754148 -0.392629\n",
       "\n",
       "[100 rows x 4 columns]"
      ]
     },
     "execution_count": 24,
     "metadata": {},
     "output_type": "execute_result"
    }
   ],
   "source": [
    "df"
   ]
  },
  {
   "cell_type": "code",
   "execution_count": 25,
   "metadata": {},
   "outputs": [
    {
     "data": {
      "application/vnd.plotly.v1+json": {
       "config": {
        "linkText": "Export to plot.ly",
        "plotlyServerURL": "https://plot.ly",
        "showLink": true
       },
       "data": [
        {
         "marker": {
          "color": "rgba(255, 153, 51, 0.6)",
          "line": {
           "color": "rgba(255, 153, 51, 1.0)",
           "width": 1
          }
         },
         "name": "A",
         "orientation": "v",
         "text": "",
         "type": "bar",
         "x": [
          0,
          1,
          2,
          3,
          4,
          5,
          6,
          7,
          8,
          9,
          10,
          11,
          12,
          13,
          14,
          15,
          16,
          17,
          18,
          19,
          20,
          21,
          22,
          23,
          24,
          25,
          26,
          27,
          28,
          29,
          30,
          31,
          32,
          33,
          34,
          35,
          36,
          37,
          38,
          39,
          40,
          41,
          42,
          43,
          44,
          45,
          46,
          47,
          48,
          49,
          50,
          51,
          52,
          53,
          54,
          55,
          56,
          57,
          58,
          59,
          60,
          61,
          62,
          63,
          64,
          65,
          66,
          67,
          68,
          69,
          70,
          71,
          72,
          73,
          74,
          75,
          76,
          77,
          78,
          79,
          80,
          81,
          82,
          83,
          84,
          85,
          86,
          87,
          88,
          89,
          90,
          91,
          92,
          93,
          94,
          95,
          96,
          97,
          98,
          99
         ],
         "y": [
          0.3464195938218623,
          1.2191331189779477,
          -1.566198556307964,
          0.46573085450095364,
          -0.15261785777811135,
          -0.8028457730946738,
          -1.2939789962191617,
          -0.6418087219226248,
          1.9109107394573086,
          -0.7984950981964833,
          0.37572064407586353,
          0.10804546809227975,
          -0.2955939166246089,
          0.6668013724677774,
          1.606777904150411,
          0.18473563502452545,
          -0.21514032491554505,
          -0.2776151300214792,
          0.8398510702601665,
          -0.17787273295740644,
          1.8394677466697062,
          -0.6830318073232281,
          1.1910043748570203,
          -0.06296070100823661,
          0.3893011193237392,
          -0.5418276224573682,
          0.1456421026340764,
          1.3478116660010542,
          1.3398140902363653,
          0.17909770396651062,
          -0.7347774212014662,
          -0.664509282045416,
          1.9958932346583351,
          0.06464239428800038,
          -0.17331233101528445,
          -1.5199911226136043,
          -0.011764777467682862,
          -0.22961655060029354,
          0.8344144539000332,
          -0.6252542380202118,
          -0.35722719110995915,
          1.4681106315488035,
          -0.972833984774363,
          -1.3185876357784978,
          0.8369173852064116,
          -0.7203822787149038,
          0.5391211086088187,
          0.40930127362148827,
          1.3305953798884078,
          0.7875773751444973,
          0.24411739461868534,
          -0.08843505642188325,
          0.268342155604911,
          0.053365885727759556,
          -0.027406353957162198,
          -0.542478529849032,
          0.6176151365107044,
          -0.18176398391036097,
          -0.2045336720258062,
          0.32644055801113225,
          0.5569115331629004,
          0.4709120552818683,
          -0.5511771984791615,
          0.38672288804052146,
          0.49369878628381486,
          0.8742747551276879,
          -0.7728036843643227,
          -0.5316316557408409,
          -0.019359629269128015,
          -0.43540839748513804,
          2.193864246093326,
          0.7071061333240987,
          -0.6738965948167931,
          2.3946971136177124,
          1.2529062193552296,
          1.0214426121109126,
          -0.18054114299205762,
          -1.848921966805281,
          1.3846982722939123,
          0.37389409884423136,
          -0.5518891745455325,
          -0.812964815588062,
          -0.1445860029165156,
          0.5976439474074358,
          -0.031143888839414168,
          1.288640608161686,
          -1.3760544674922424,
          0.9963133082520479,
          0.9751556082817852,
          -0.07231954115489966,
          -0.36525133427411105,
          0.8539810900777741,
          -0.5593653152080624,
          1.6784765782994218,
          1.49764233252627,
          -0.8623001565375716,
          -0.7415847178841932,
          1.1902930047966387,
          0.5729387527499807,
          -0.2143483560074946
         ]
        },
        {
         "marker": {
          "color": "rgba(55, 128, 191, 0.6)",
          "line": {
           "color": "rgba(55, 128, 191, 1.0)",
           "width": 1
          }
         },
         "name": "B",
         "orientation": "v",
         "text": "",
         "type": "bar",
         "x": [
          0,
          1,
          2,
          3,
          4,
          5,
          6,
          7,
          8,
          9,
          10,
          11,
          12,
          13,
          14,
          15,
          16,
          17,
          18,
          19,
          20,
          21,
          22,
          23,
          24,
          25,
          26,
          27,
          28,
          29,
          30,
          31,
          32,
          33,
          34,
          35,
          36,
          37,
          38,
          39,
          40,
          41,
          42,
          43,
          44,
          45,
          46,
          47,
          48,
          49,
          50,
          51,
          52,
          53,
          54,
          55,
          56,
          57,
          58,
          59,
          60,
          61,
          62,
          63,
          64,
          65,
          66,
          67,
          68,
          69,
          70,
          71,
          72,
          73,
          74,
          75,
          76,
          77,
          78,
          79,
          80,
          81,
          82,
          83,
          84,
          85,
          86,
          87,
          88,
          89,
          90,
          91,
          92,
          93,
          94,
          95,
          96,
          97,
          98,
          99
         ],
         "y": [
          -0.020590181209793654,
          0.5423503125602855,
          -0.8787354341663304,
          -0.4895306549248174,
          -0.48541537247821465,
          -1.1581842623847438,
          -0.2769367387336216,
          0.03311436155705231,
          1.6024816506045834,
          1.0831480858882039,
          -1.0072890793929596,
          1.6632133708190122,
          -0.10794673509633486,
          0.45432131136859577,
          -0.22565078146614284,
          0.45507286942503267,
          0.17974586396275005,
          -2.0175017586254036,
          1.2707085867867112,
          0.8107153806972188,
          1.3683894902998583,
          0.6721722990716655,
          -1.3053183578006817,
          0.5690108539109617,
          1.0528361089049871,
          -0.9946211425344996,
          0.13209780322860354,
          0.5975237600550157,
          -0.3990103367235594,
          0.8544023703785645,
          -0.3652754198522442,
          -0.9394329209739792,
          -1.8247763232964613,
          1.387400472070589,
          -0.6172006358456033,
          0.28514310772208395,
          -0.9194137609477232,
          -1.0945907934466066,
          -0.01812635633048244,
          -0.42870107832880905,
          -0.14583236585484136,
          -1.9112885076025667,
          -0.6064194759449073,
          -0.5831693992001507,
          -0.9885022195286823,
          -1.319588708902828,
          0.16146923595796253,
          -0.28246046695644217,
          -0.7714040710560138,
          0.5847383075181828,
          0.19107611317750492,
          -0.6526040938222579,
          0.5699402612438804,
          -0.9911031656265455,
          1.6493934330272855,
          1.9039049563987207,
          1.218355914745771,
          -0.494984884549906,
          0.11678360950276127,
          -1.2146187590914483,
          -1.1476654603988559,
          -0.6451013537990224,
          -0.9089642937379179,
          -0.3107932934346349,
          0.1431930390443773,
          0.49590287215018686,
          0.4685352804531265,
          0.10806855993380053,
          0.986890513730406,
          0.7865424288418571,
          -1.2351640606494476,
          -2.02351966824216,
          -1.370146862511068,
          -1.3253039883938387,
          -1.184340482150768,
          -0.5064055507257907,
          -3.1134408477432705,
          -1.3748114148134778,
          0.9623455167657223,
          0.15572759045814794,
          0.019438510421546488,
          -0.756212056642985,
          1.0393078996740457,
          1.283603086621441,
          0.013246115306398687,
          0.07988076305174152,
          1.7490019784053388,
          -0.9381427033010681,
          -0.7346416378276212,
          1.6403942432066971,
          -0.3292907770726725,
          0.6890521545829256,
          -1.1228315951030374,
          -0.25605505749699964,
          -0.16944549777624168,
          1.46716671061314,
          -0.18662380589638208,
          -1.7553469955013234,
          -0.1186070548456802,
          1.3868762776821497
         ]
        },
        {
         "marker": {
          "color": "rgba(50, 171, 96, 0.6)",
          "line": {
           "color": "rgba(50, 171, 96, 1.0)",
           "width": 1
          }
         },
         "name": "C",
         "orientation": "v",
         "text": "",
         "type": "bar",
         "x": [
          0,
          1,
          2,
          3,
          4,
          5,
          6,
          7,
          8,
          9,
          10,
          11,
          12,
          13,
          14,
          15,
          16,
          17,
          18,
          19,
          20,
          21,
          22,
          23,
          24,
          25,
          26,
          27,
          28,
          29,
          30,
          31,
          32,
          33,
          34,
          35,
          36,
          37,
          38,
          39,
          40,
          41,
          42,
          43,
          44,
          45,
          46,
          47,
          48,
          49,
          50,
          51,
          52,
          53,
          54,
          55,
          56,
          57,
          58,
          59,
          60,
          61,
          62,
          63,
          64,
          65,
          66,
          67,
          68,
          69,
          70,
          71,
          72,
          73,
          74,
          75,
          76,
          77,
          78,
          79,
          80,
          81,
          82,
          83,
          84,
          85,
          86,
          87,
          88,
          89,
          90,
          91,
          92,
          93,
          94,
          95,
          96,
          97,
          98,
          99
         ],
         "y": [
          0.14358159005220242,
          0.2920812719560736,
          0.4034545189350478,
          1.1846433872331292,
          0.319242774725028,
          -1.0378007174169739,
          0.8566005112545779,
          1.230587387035751,
          -0.6904449421321213,
          0.5977777507201271,
          -0.2957408276879956,
          -1.2495092936375563,
          1.6656398714796146,
          -0.3446167923977057,
          -1.254503270950624,
          -1.1388161689544005,
          -0.1717411579167247,
          1.337329782119376,
          -1.6571968313842216,
          0.395304398552172,
          0.3331717998492536,
          1.027506271028855,
          1.6474630147154348,
          0.3976627652729076,
          0.407886600933332,
          -0.5530433271104201,
          1.0332177544732484,
          0.86768325022945,
          -0.3279844909807892,
          0.3341765602344462,
          -1.3314901096554927,
          0.09517340058130781,
          0.414233914581945,
          0.008258261866098746,
          -1.2358266866438095,
          -0.051510801020062245,
          -1.1018971303963652,
          -0.015386259776738126,
          -1.2133402799715634,
          0.7238599629917095,
          -0.39130890290694187,
          0.4279914942549863,
          -0.20925301904311044,
          -0.07715446690954722,
          -0.5219958922492965,
          0.5971498071391562,
          -0.5679311029386973,
          -0.6379609701710316,
          -0.008311692620811812,
          -1.3357400359256055,
          0.36352824933081623,
          -1.0139147273562739,
          -0.8276356994707972,
          -1.0139657015110843,
          0.9348172455435725,
          0.7346190521865691,
          0.32389401870404105,
          0.3890011873245929,
          0.5842398951563093,
          -0.025820761777430607,
          -0.6520353470200743,
          -0.1957954163288069,
          -0.8525926967078836,
          0.24534399615516964,
          0.6447632757277592,
          0.2444416159774107,
          0.6885672298514097,
          0.14182452610579782,
          -0.8383124174831217,
          -0.5256271659891929,
          0.7474320776428933,
          0.5498407131196493,
          0.4326392632653981,
          -1.0041028281208184,
          -0.023836964615872768,
          -0.5842708332074602,
          -1.3655332884624836,
          -0.7016652237620963,
          -0.2544652796566522,
          -0.9696356130351645,
          -0.16816395858146188,
          0.12710783669496098,
          -0.8217755283837832,
          0.7570671870362776,
          2.5475431730589433,
          -0.2276466929232567,
          0.4669050820081747,
          0.3904063276011235,
          0.6397549748807329,
          1.2479494093044476,
          -0.3393342010587006,
          0.02345841570658886,
          -0.5581521817674187,
          0.07108629812707043,
          0.13841439096535338,
          -0.3076131842355114,
          -0.44813213779990757,
          -0.7341619613796643,
          -1.0667492318297769,
          0.7541483808510677
         ]
        },
        {
         "marker": {
          "color": "rgba(128, 0, 128, 0.6)",
          "line": {
           "color": "rgba(128, 0, 128, 1.0)",
           "width": 1
          }
         },
         "name": "D",
         "orientation": "v",
         "text": "",
         "type": "bar",
         "x": [
          0,
          1,
          2,
          3,
          4,
          5,
          6,
          7,
          8,
          9,
          10,
          11,
          12,
          13,
          14,
          15,
          16,
          17,
          18,
          19,
          20,
          21,
          22,
          23,
          24,
          25,
          26,
          27,
          28,
          29,
          30,
          31,
          32,
          33,
          34,
          35,
          36,
          37,
          38,
          39,
          40,
          41,
          42,
          43,
          44,
          45,
          46,
          47,
          48,
          49,
          50,
          51,
          52,
          53,
          54,
          55,
          56,
          57,
          58,
          59,
          60,
          61,
          62,
          63,
          64,
          65,
          66,
          67,
          68,
          69,
          70,
          71,
          72,
          73,
          74,
          75,
          76,
          77,
          78,
          79,
          80,
          81,
          82,
          83,
          84,
          85,
          86,
          87,
          88,
          89,
          90,
          91,
          92,
          93,
          94,
          95,
          96,
          97,
          98,
          99
         ],
         "y": [
          -1.1118640049651034,
          0.1491406043116301,
          -1.2221106374241755,
          -1.6875795839754855,
          -0.7558177324260064,
          -1.6337871211050123,
          0.22261233323591775,
          0.7915733560199928,
          1.6896287071492586,
          -0.1975697108903575,
          -1.8948362657753854,
          -0.2541235158529231,
          0.03661794809435186,
          0.7548769352154293,
          0.42547738622571923,
          0.46165798801264835,
          0.007295368926671065,
          0.891055630096048,
          0.24386729392890943,
          0.8307255191948365,
          0.35626459418787493,
          2.1578145958004145,
          -2.058911680464687,
          -0.27284665675569436,
          -0.15770271572799424,
          1.5033000533442646,
          -0.7496941979711484,
          0.8514411005089376,
          -0.3916152705357473,
          0.22689570064360143,
          -0.2197162949623533,
          -0.16579621986256468,
          1.7299343666421136,
          1.253065148652142,
          1.210314349675132,
          -0.44295688764545177,
          0.7521680139399465,
          -0.2674260111881133,
          1.7902607882569215,
          -1.2912637225126222,
          1.1762596418399858,
          0.3680637408772415,
          1.1759519499772664,
          -0.2752043603187563,
          0.1024792184516914,
          -0.5941545257254696,
          0.9489352620540739,
          -1.062895402760241,
          -1.0567115215569716,
          -2.3587912906105832,
          2.9653750929051372,
          -0.27421247498910417,
          -0.328514053729911,
          0.5734230922653505,
          -0.0607092670338549,
          1.1704828032581003,
          1.354998594411703,
          -0.6567767998847259,
          -0.10265296524401771,
          -0.27134167423686395,
          1.5412502872780447,
          0.5781757038302135,
          1.2224550744752862,
          -0.08639304752669724,
          0.9262617313935608,
          0.22324901110438788,
          -1.7744853454310123,
          1.1817122408866545,
          -0.5286257010564885,
          -2.7180104539156384,
          -1.0045558820687108,
          -1.1008071985316823,
          0.4275954953925082,
          -0.32492381688521127,
          -1.0280063715123986,
          0.23787612180794981,
          0.18686310544658025,
          -0.3497955317388221,
          -0.09738618475432757,
          -1.2290276943037652,
          0.5875304076931959,
          0.8814182541543529,
          -0.6781089026484597,
          -0.7373594071213471,
          1.115607766095368,
          0.12888807541459482,
          -0.8158561577836921,
          -0.5940310396993876,
          -0.5291881868373929,
          -0.5751787198636337,
          0.5108329935769008,
          1.2067401728845797,
          -1.4220280600408528,
          -0.24726913124166838,
          -0.14727165533210312,
          0.4513601251105589,
          0.7331496085916595,
          0.8068582051299986,
          0.8857024956321218,
          -0.3926293025656279
         ]
        }
       ],
       "layout": {
        "legend": {
         "bgcolor": "#F5F6F9",
         "font": {
          "color": "#4D5663"
         }
        },
        "paper_bgcolor": "#F5F6F9",
        "plot_bgcolor": "#F5F6F9",
        "template": {
         "data": {
          "bar": [
           {
            "error_x": {
             "color": "#2a3f5f"
            },
            "error_y": {
             "color": "#2a3f5f"
            },
            "marker": {
             "line": {
              "color": "#E5ECF6",
              "width": 0.5
             }
            },
            "type": "bar"
           }
          ],
          "barpolar": [
           {
            "marker": {
             "line": {
              "color": "#E5ECF6",
              "width": 0.5
             }
            },
            "type": "barpolar"
           }
          ],
          "carpet": [
           {
            "aaxis": {
             "endlinecolor": "#2a3f5f",
             "gridcolor": "white",
             "linecolor": "white",
             "minorgridcolor": "white",
             "startlinecolor": "#2a3f5f"
            },
            "baxis": {
             "endlinecolor": "#2a3f5f",
             "gridcolor": "white",
             "linecolor": "white",
             "minorgridcolor": "white",
             "startlinecolor": "#2a3f5f"
            },
            "type": "carpet"
           }
          ],
          "choropleth": [
           {
            "colorbar": {
             "outlinewidth": 0,
             "ticks": ""
            },
            "type": "choropleth"
           }
          ],
          "contour": [
           {
            "colorbar": {
             "outlinewidth": 0,
             "ticks": ""
            },
            "colorscale": [
             [
              0,
              "#0d0887"
             ],
             [
              0.1111111111111111,
              "#46039f"
             ],
             [
              0.2222222222222222,
              "#7201a8"
             ],
             [
              0.3333333333333333,
              "#9c179e"
             ],
             [
              0.4444444444444444,
              "#bd3786"
             ],
             [
              0.5555555555555556,
              "#d8576b"
             ],
             [
              0.6666666666666666,
              "#ed7953"
             ],
             [
              0.7777777777777778,
              "#fb9f3a"
             ],
             [
              0.8888888888888888,
              "#fdca26"
             ],
             [
              1,
              "#f0f921"
             ]
            ],
            "type": "contour"
           }
          ],
          "contourcarpet": [
           {
            "colorbar": {
             "outlinewidth": 0,
             "ticks": ""
            },
            "type": "contourcarpet"
           }
          ],
          "heatmap": [
           {
            "colorbar": {
             "outlinewidth": 0,
             "ticks": ""
            },
            "colorscale": [
             [
              0,
              "#0d0887"
             ],
             [
              0.1111111111111111,
              "#46039f"
             ],
             [
              0.2222222222222222,
              "#7201a8"
             ],
             [
              0.3333333333333333,
              "#9c179e"
             ],
             [
              0.4444444444444444,
              "#bd3786"
             ],
             [
              0.5555555555555556,
              "#d8576b"
             ],
             [
              0.6666666666666666,
              "#ed7953"
             ],
             [
              0.7777777777777778,
              "#fb9f3a"
             ],
             [
              0.8888888888888888,
              "#fdca26"
             ],
             [
              1,
              "#f0f921"
             ]
            ],
            "type": "heatmap"
           }
          ],
          "heatmapgl": [
           {
            "colorbar": {
             "outlinewidth": 0,
             "ticks": ""
            },
            "colorscale": [
             [
              0,
              "#0d0887"
             ],
             [
              0.1111111111111111,
              "#46039f"
             ],
             [
              0.2222222222222222,
              "#7201a8"
             ],
             [
              0.3333333333333333,
              "#9c179e"
             ],
             [
              0.4444444444444444,
              "#bd3786"
             ],
             [
              0.5555555555555556,
              "#d8576b"
             ],
             [
              0.6666666666666666,
              "#ed7953"
             ],
             [
              0.7777777777777778,
              "#fb9f3a"
             ],
             [
              0.8888888888888888,
              "#fdca26"
             ],
             [
              1,
              "#f0f921"
             ]
            ],
            "type": "heatmapgl"
           }
          ],
          "histogram": [
           {
            "marker": {
             "colorbar": {
              "outlinewidth": 0,
              "ticks": ""
             }
            },
            "type": "histogram"
           }
          ],
          "histogram2d": [
           {
            "colorbar": {
             "outlinewidth": 0,
             "ticks": ""
            },
            "colorscale": [
             [
              0,
              "#0d0887"
             ],
             [
              0.1111111111111111,
              "#46039f"
             ],
             [
              0.2222222222222222,
              "#7201a8"
             ],
             [
              0.3333333333333333,
              "#9c179e"
             ],
             [
              0.4444444444444444,
              "#bd3786"
             ],
             [
              0.5555555555555556,
              "#d8576b"
             ],
             [
              0.6666666666666666,
              "#ed7953"
             ],
             [
              0.7777777777777778,
              "#fb9f3a"
             ],
             [
              0.8888888888888888,
              "#fdca26"
             ],
             [
              1,
              "#f0f921"
             ]
            ],
            "type": "histogram2d"
           }
          ],
          "histogram2dcontour": [
           {
            "colorbar": {
             "outlinewidth": 0,
             "ticks": ""
            },
            "colorscale": [
             [
              0,
              "#0d0887"
             ],
             [
              0.1111111111111111,
              "#46039f"
             ],
             [
              0.2222222222222222,
              "#7201a8"
             ],
             [
              0.3333333333333333,
              "#9c179e"
             ],
             [
              0.4444444444444444,
              "#bd3786"
             ],
             [
              0.5555555555555556,
              "#d8576b"
             ],
             [
              0.6666666666666666,
              "#ed7953"
             ],
             [
              0.7777777777777778,
              "#fb9f3a"
             ],
             [
              0.8888888888888888,
              "#fdca26"
             ],
             [
              1,
              "#f0f921"
             ]
            ],
            "type": "histogram2dcontour"
           }
          ],
          "mesh3d": [
           {
            "colorbar": {
             "outlinewidth": 0,
             "ticks": ""
            },
            "type": "mesh3d"
           }
          ],
          "parcoords": [
           {
            "line": {
             "colorbar": {
              "outlinewidth": 0,
              "ticks": ""
             }
            },
            "type": "parcoords"
           }
          ],
          "pie": [
           {
            "automargin": true,
            "type": "pie"
           }
          ],
          "scatter": [
           {
            "marker": {
             "colorbar": {
              "outlinewidth": 0,
              "ticks": ""
             }
            },
            "type": "scatter"
           }
          ],
          "scatter3d": [
           {
            "line": {
             "colorbar": {
              "outlinewidth": 0,
              "ticks": ""
             }
            },
            "marker": {
             "colorbar": {
              "outlinewidth": 0,
              "ticks": ""
             }
            },
            "type": "scatter3d"
           }
          ],
          "scattercarpet": [
           {
            "marker": {
             "colorbar": {
              "outlinewidth": 0,
              "ticks": ""
             }
            },
            "type": "scattercarpet"
           }
          ],
          "scattergeo": [
           {
            "marker": {
             "colorbar": {
              "outlinewidth": 0,
              "ticks": ""
             }
            },
            "type": "scattergeo"
           }
          ],
          "scattergl": [
           {
            "marker": {
             "colorbar": {
              "outlinewidth": 0,
              "ticks": ""
             }
            },
            "type": "scattergl"
           }
          ],
          "scattermapbox": [
           {
            "marker": {
             "colorbar": {
              "outlinewidth": 0,
              "ticks": ""
             }
            },
            "type": "scattermapbox"
           }
          ],
          "scatterpolar": [
           {
            "marker": {
             "colorbar": {
              "outlinewidth": 0,
              "ticks": ""
             }
            },
            "type": "scatterpolar"
           }
          ],
          "scatterpolargl": [
           {
            "marker": {
             "colorbar": {
              "outlinewidth": 0,
              "ticks": ""
             }
            },
            "type": "scatterpolargl"
           }
          ],
          "scatterternary": [
           {
            "marker": {
             "colorbar": {
              "outlinewidth": 0,
              "ticks": ""
             }
            },
            "type": "scatterternary"
           }
          ],
          "surface": [
           {
            "colorbar": {
             "outlinewidth": 0,
             "ticks": ""
            },
            "colorscale": [
             [
              0,
              "#0d0887"
             ],
             [
              0.1111111111111111,
              "#46039f"
             ],
             [
              0.2222222222222222,
              "#7201a8"
             ],
             [
              0.3333333333333333,
              "#9c179e"
             ],
             [
              0.4444444444444444,
              "#bd3786"
             ],
             [
              0.5555555555555556,
              "#d8576b"
             ],
             [
              0.6666666666666666,
              "#ed7953"
             ],
             [
              0.7777777777777778,
              "#fb9f3a"
             ],
             [
              0.8888888888888888,
              "#fdca26"
             ],
             [
              1,
              "#f0f921"
             ]
            ],
            "type": "surface"
           }
          ],
          "table": [
           {
            "cells": {
             "fill": {
              "color": "#EBF0F8"
             },
             "line": {
              "color": "white"
             }
            },
            "header": {
             "fill": {
              "color": "#C8D4E3"
             },
             "line": {
              "color": "white"
             }
            },
            "type": "table"
           }
          ]
         },
         "layout": {
          "annotationdefaults": {
           "arrowcolor": "#2a3f5f",
           "arrowhead": 0,
           "arrowwidth": 1
          },
          "coloraxis": {
           "colorbar": {
            "outlinewidth": 0,
            "ticks": ""
           }
          },
          "colorscale": {
           "diverging": [
            [
             0,
             "#8e0152"
            ],
            [
             0.1,
             "#c51b7d"
            ],
            [
             0.2,
             "#de77ae"
            ],
            [
             0.3,
             "#f1b6da"
            ],
            [
             0.4,
             "#fde0ef"
            ],
            [
             0.5,
             "#f7f7f7"
            ],
            [
             0.6,
             "#e6f5d0"
            ],
            [
             0.7,
             "#b8e186"
            ],
            [
             0.8,
             "#7fbc41"
            ],
            [
             0.9,
             "#4d9221"
            ],
            [
             1,
             "#276419"
            ]
           ],
           "sequential": [
            [
             0,
             "#0d0887"
            ],
            [
             0.1111111111111111,
             "#46039f"
            ],
            [
             0.2222222222222222,
             "#7201a8"
            ],
            [
             0.3333333333333333,
             "#9c179e"
            ],
            [
             0.4444444444444444,
             "#bd3786"
            ],
            [
             0.5555555555555556,
             "#d8576b"
            ],
            [
             0.6666666666666666,
             "#ed7953"
            ],
            [
             0.7777777777777778,
             "#fb9f3a"
            ],
            [
             0.8888888888888888,
             "#fdca26"
            ],
            [
             1,
             "#f0f921"
            ]
           ],
           "sequentialminus": [
            [
             0,
             "#0d0887"
            ],
            [
             0.1111111111111111,
             "#46039f"
            ],
            [
             0.2222222222222222,
             "#7201a8"
            ],
            [
             0.3333333333333333,
             "#9c179e"
            ],
            [
             0.4444444444444444,
             "#bd3786"
            ],
            [
             0.5555555555555556,
             "#d8576b"
            ],
            [
             0.6666666666666666,
             "#ed7953"
            ],
            [
             0.7777777777777778,
             "#fb9f3a"
            ],
            [
             0.8888888888888888,
             "#fdca26"
            ],
            [
             1,
             "#f0f921"
            ]
           ]
          },
          "colorway": [
           "#636efa",
           "#EF553B",
           "#00cc96",
           "#ab63fa",
           "#FFA15A",
           "#19d3f3",
           "#FF6692",
           "#B6E880",
           "#FF97FF",
           "#FECB52"
          ],
          "font": {
           "color": "#2a3f5f"
          },
          "geo": {
           "bgcolor": "white",
           "lakecolor": "white",
           "landcolor": "#E5ECF6",
           "showlakes": true,
           "showland": true,
           "subunitcolor": "white"
          },
          "hoverlabel": {
           "align": "left"
          },
          "hovermode": "closest",
          "mapbox": {
           "style": "light"
          },
          "paper_bgcolor": "white",
          "plot_bgcolor": "#E5ECF6",
          "polar": {
           "angularaxis": {
            "gridcolor": "white",
            "linecolor": "white",
            "ticks": ""
           },
           "bgcolor": "#E5ECF6",
           "radialaxis": {
            "gridcolor": "white",
            "linecolor": "white",
            "ticks": ""
           }
          },
          "scene": {
           "xaxis": {
            "backgroundcolor": "#E5ECF6",
            "gridcolor": "white",
            "gridwidth": 2,
            "linecolor": "white",
            "showbackground": true,
            "ticks": "",
            "zerolinecolor": "white"
           },
           "yaxis": {
            "backgroundcolor": "#E5ECF6",
            "gridcolor": "white",
            "gridwidth": 2,
            "linecolor": "white",
            "showbackground": true,
            "ticks": "",
            "zerolinecolor": "white"
           },
           "zaxis": {
            "backgroundcolor": "#E5ECF6",
            "gridcolor": "white",
            "gridwidth": 2,
            "linecolor": "white",
            "showbackground": true,
            "ticks": "",
            "zerolinecolor": "white"
           }
          },
          "shapedefaults": {
           "line": {
            "color": "#2a3f5f"
           }
          },
          "ternary": {
           "aaxis": {
            "gridcolor": "white",
            "linecolor": "white",
            "ticks": ""
           },
           "baxis": {
            "gridcolor": "white",
            "linecolor": "white",
            "ticks": ""
           },
           "bgcolor": "#E5ECF6",
           "caxis": {
            "gridcolor": "white",
            "linecolor": "white",
            "ticks": ""
           }
          },
          "title": {
           "x": 0.05
          },
          "xaxis": {
           "automargin": true,
           "gridcolor": "white",
           "linecolor": "white",
           "ticks": "",
           "title": {
            "standoff": 15
           },
           "zerolinecolor": "white",
           "zerolinewidth": 2
          },
          "yaxis": {
           "automargin": true,
           "gridcolor": "white",
           "linecolor": "white",
           "ticks": "",
           "title": {
            "standoff": 15
           },
           "zerolinecolor": "white",
           "zerolinewidth": 2
          }
         }
        },
        "title": {
         "font": {
          "color": "#4D5663"
         }
        },
        "xaxis": {
         "gridcolor": "#E1E5ED",
         "showgrid": true,
         "tickfont": {
          "color": "#4D5663"
         },
         "title": {
          "font": {
           "color": "#4D5663"
          },
          "text": ""
         },
         "zerolinecolor": "#E1E5ED"
        },
        "yaxis": {
         "gridcolor": "#E1E5ED",
         "showgrid": true,
         "tickfont": {
          "color": "#4D5663"
         },
         "title": {
          "font": {
           "color": "#4D5663"
          },
          "text": ""
         },
         "zerolinecolor": "#E1E5ED"
        }
       }
      },
      "text/html": [
       "<div>\n",
       "        \n",
       "        \n",
       "            <div id=\"f0e97572-3e5d-4931-a3c9-f8e7e9696450\" class=\"plotly-graph-div\" style=\"height:525px; width:100%;\"></div>\n",
       "            <script type=\"text/javascript\">\n",
       "                require([\"plotly\"], function(Plotly) {\n",
       "                    window.PLOTLYENV=window.PLOTLYENV || {};\n",
       "                    window.PLOTLYENV.BASE_URL='https://plot.ly';\n",
       "                    \n",
       "                if (document.getElementById(\"f0e97572-3e5d-4931-a3c9-f8e7e9696450\")) {\n",
       "                    Plotly.newPlot(\n",
       "                        'f0e97572-3e5d-4931-a3c9-f8e7e9696450',\n",
       "                        [{\"marker\": {\"color\": \"rgba(255, 153, 51, 0.6)\", \"line\": {\"color\": \"rgba(255, 153, 51, 1.0)\", \"width\": 1}}, \"name\": \"A\", \"orientation\": \"v\", \"text\": \"\", \"type\": \"bar\", \"x\": [0, 1, 2, 3, 4, 5, 6, 7, 8, 9, 10, 11, 12, 13, 14, 15, 16, 17, 18, 19, 20, 21, 22, 23, 24, 25, 26, 27, 28, 29, 30, 31, 32, 33, 34, 35, 36, 37, 38, 39, 40, 41, 42, 43, 44, 45, 46, 47, 48, 49, 50, 51, 52, 53, 54, 55, 56, 57, 58, 59, 60, 61, 62, 63, 64, 65, 66, 67, 68, 69, 70, 71, 72, 73, 74, 75, 76, 77, 78, 79, 80, 81, 82, 83, 84, 85, 86, 87, 88, 89, 90, 91, 92, 93, 94, 95, 96, 97, 98, 99], \"y\": [0.3464195938218623, 1.2191331189779477, -1.566198556307964, 0.46573085450095364, -0.15261785777811135, -0.8028457730946738, -1.2939789962191617, -0.6418087219226248, 1.9109107394573086, -0.7984950981964833, 0.37572064407586353, 0.10804546809227975, -0.2955939166246089, 0.6668013724677774, 1.606777904150411, 0.18473563502452545, -0.21514032491554505, -0.2776151300214792, 0.8398510702601665, -0.17787273295740644, 1.8394677466697062, -0.6830318073232281, 1.1910043748570203, -0.06296070100823661, 0.3893011193237392, -0.5418276224573682, 0.1456421026340764, 1.3478116660010542, 1.3398140902363653, 0.17909770396651062, -0.7347774212014662, -0.664509282045416, 1.9958932346583351, 0.06464239428800038, -0.17331233101528445, -1.5199911226136043, -0.011764777467682862, -0.22961655060029354, 0.8344144539000332, -0.6252542380202118, -0.35722719110995915, 1.4681106315488035, -0.972833984774363, -1.3185876357784978, 0.8369173852064116, -0.7203822787149038, 0.5391211086088187, 0.40930127362148827, 1.3305953798884078, 0.7875773751444973, 0.24411739461868534, -0.08843505642188325, 0.268342155604911, 0.053365885727759556, -0.027406353957162198, -0.542478529849032, 0.6176151365107044, -0.18176398391036097, -0.2045336720258062, 0.32644055801113225, 0.5569115331629004, 0.4709120552818683, -0.5511771984791615, 0.38672288804052146, 0.49369878628381486, 0.8742747551276879, -0.7728036843643227, -0.5316316557408409, -0.019359629269128015, -0.43540839748513804, 2.193864246093326, 0.7071061333240987, -0.6738965948167931, 2.3946971136177124, 1.2529062193552296, 1.0214426121109126, -0.18054114299205762, -1.848921966805281, 1.3846982722939123, 0.37389409884423136, -0.5518891745455325, -0.812964815588062, -0.1445860029165156, 0.5976439474074358, -0.031143888839414168, 1.288640608161686, -1.3760544674922424, 0.9963133082520479, 0.9751556082817852, -0.07231954115489966, -0.36525133427411105, 0.8539810900777741, -0.5593653152080624, 1.6784765782994218, 1.49764233252627, -0.8623001565375716, -0.7415847178841932, 1.1902930047966387, 0.5729387527499807, -0.2143483560074946]}, {\"marker\": {\"color\": \"rgba(55, 128, 191, 0.6)\", \"line\": {\"color\": \"rgba(55, 128, 191, 1.0)\", \"width\": 1}}, \"name\": \"B\", \"orientation\": \"v\", \"text\": \"\", \"type\": \"bar\", \"x\": [0, 1, 2, 3, 4, 5, 6, 7, 8, 9, 10, 11, 12, 13, 14, 15, 16, 17, 18, 19, 20, 21, 22, 23, 24, 25, 26, 27, 28, 29, 30, 31, 32, 33, 34, 35, 36, 37, 38, 39, 40, 41, 42, 43, 44, 45, 46, 47, 48, 49, 50, 51, 52, 53, 54, 55, 56, 57, 58, 59, 60, 61, 62, 63, 64, 65, 66, 67, 68, 69, 70, 71, 72, 73, 74, 75, 76, 77, 78, 79, 80, 81, 82, 83, 84, 85, 86, 87, 88, 89, 90, 91, 92, 93, 94, 95, 96, 97, 98, 99], \"y\": [-0.020590181209793654, 0.5423503125602855, -0.8787354341663304, -0.4895306549248174, -0.48541537247821465, -1.1581842623847438, -0.2769367387336216, 0.03311436155705231, 1.6024816506045834, 1.0831480858882039, -1.0072890793929596, 1.6632133708190122, -0.10794673509633486, 0.45432131136859577, -0.22565078146614284, 0.45507286942503267, 0.17974586396275005, -2.0175017586254036, 1.2707085867867112, 0.8107153806972188, 1.3683894902998583, 0.6721722990716655, -1.3053183578006817, 0.5690108539109617, 1.0528361089049871, -0.9946211425344996, 0.13209780322860354, 0.5975237600550157, -0.3990103367235594, 0.8544023703785645, -0.3652754198522442, -0.9394329209739792, -1.8247763232964613, 1.387400472070589, -0.6172006358456033, 0.28514310772208395, -0.9194137609477232, -1.0945907934466066, -0.01812635633048244, -0.42870107832880905, -0.14583236585484136, -1.9112885076025667, -0.6064194759449073, -0.5831693992001507, -0.9885022195286823, -1.319588708902828, 0.16146923595796253, -0.28246046695644217, -0.7714040710560138, 0.5847383075181828, 0.19107611317750492, -0.6526040938222579, 0.5699402612438804, -0.9911031656265455, 1.6493934330272855, 1.9039049563987207, 1.218355914745771, -0.494984884549906, 0.11678360950276127, -1.2146187590914483, -1.1476654603988559, -0.6451013537990224, -0.9089642937379179, -0.3107932934346349, 0.1431930390443773, 0.49590287215018686, 0.4685352804531265, 0.10806855993380053, 0.986890513730406, 0.7865424288418571, -1.2351640606494476, -2.02351966824216, -1.370146862511068, -1.3253039883938387, -1.184340482150768, -0.5064055507257907, -3.1134408477432705, -1.3748114148134778, 0.9623455167657223, 0.15572759045814794, 0.019438510421546488, -0.756212056642985, 1.0393078996740457, 1.283603086621441, 0.013246115306398687, 0.07988076305174152, 1.7490019784053388, -0.9381427033010681, -0.7346416378276212, 1.6403942432066971, -0.3292907770726725, 0.6890521545829256, -1.1228315951030374, -0.25605505749699964, -0.16944549777624168, 1.46716671061314, -0.18662380589638208, -1.7553469955013234, -0.1186070548456802, 1.3868762776821497]}, {\"marker\": {\"color\": \"rgba(50, 171, 96, 0.6)\", \"line\": {\"color\": \"rgba(50, 171, 96, 1.0)\", \"width\": 1}}, \"name\": \"C\", \"orientation\": \"v\", \"text\": \"\", \"type\": \"bar\", \"x\": [0, 1, 2, 3, 4, 5, 6, 7, 8, 9, 10, 11, 12, 13, 14, 15, 16, 17, 18, 19, 20, 21, 22, 23, 24, 25, 26, 27, 28, 29, 30, 31, 32, 33, 34, 35, 36, 37, 38, 39, 40, 41, 42, 43, 44, 45, 46, 47, 48, 49, 50, 51, 52, 53, 54, 55, 56, 57, 58, 59, 60, 61, 62, 63, 64, 65, 66, 67, 68, 69, 70, 71, 72, 73, 74, 75, 76, 77, 78, 79, 80, 81, 82, 83, 84, 85, 86, 87, 88, 89, 90, 91, 92, 93, 94, 95, 96, 97, 98, 99], \"y\": [0.14358159005220242, 0.2920812719560736, 0.4034545189350478, 1.1846433872331292, 0.319242774725028, -1.0378007174169739, 0.8566005112545779, 1.230587387035751, -0.6904449421321213, 0.5977777507201271, -0.2957408276879956, -1.2495092936375563, 1.6656398714796146, -0.3446167923977057, -1.254503270950624, -1.1388161689544005, -0.1717411579167247, 1.337329782119376, -1.6571968313842216, 0.395304398552172, 0.3331717998492536, 1.027506271028855, 1.6474630147154348, 0.3976627652729076, 0.407886600933332, -0.5530433271104201, 1.0332177544732484, 0.86768325022945, -0.3279844909807892, 0.3341765602344462, -1.3314901096554927, 0.09517340058130781, 0.414233914581945, 0.008258261866098746, -1.2358266866438095, -0.051510801020062245, -1.1018971303963652, -0.015386259776738126, -1.2133402799715634, 0.7238599629917095, -0.39130890290694187, 0.4279914942549863, -0.20925301904311044, -0.07715446690954722, -0.5219958922492965, 0.5971498071391562, -0.5679311029386973, -0.6379609701710316, -0.008311692620811812, -1.3357400359256055, 0.36352824933081623, -1.0139147273562739, -0.8276356994707972, -1.0139657015110843, 0.9348172455435725, 0.7346190521865691, 0.32389401870404105, 0.3890011873245929, 0.5842398951563093, -0.025820761777430607, -0.6520353470200743, -0.1957954163288069, -0.8525926967078836, 0.24534399615516964, 0.6447632757277592, 0.2444416159774107, 0.6885672298514097, 0.14182452610579782, -0.8383124174831217, -0.5256271659891929, 0.7474320776428933, 0.5498407131196493, 0.4326392632653981, -1.0041028281208184, -0.023836964615872768, -0.5842708332074602, -1.3655332884624836, -0.7016652237620963, -0.2544652796566522, -0.9696356130351645, -0.16816395858146188, 0.12710783669496098, -0.8217755283837832, 0.7570671870362776, 2.5475431730589433, -0.2276466929232567, 0.4669050820081747, 0.3904063276011235, 0.6397549748807329, 1.2479494093044476, -0.3393342010587006, 0.02345841570658886, -0.5581521817674187, 0.07108629812707043, 0.13841439096535338, -0.3076131842355114, -0.44813213779990757, -0.7341619613796643, -1.0667492318297769, 0.7541483808510677]}, {\"marker\": {\"color\": \"rgba(128, 0, 128, 0.6)\", \"line\": {\"color\": \"rgba(128, 0, 128, 1.0)\", \"width\": 1}}, \"name\": \"D\", \"orientation\": \"v\", \"text\": \"\", \"type\": \"bar\", \"x\": [0, 1, 2, 3, 4, 5, 6, 7, 8, 9, 10, 11, 12, 13, 14, 15, 16, 17, 18, 19, 20, 21, 22, 23, 24, 25, 26, 27, 28, 29, 30, 31, 32, 33, 34, 35, 36, 37, 38, 39, 40, 41, 42, 43, 44, 45, 46, 47, 48, 49, 50, 51, 52, 53, 54, 55, 56, 57, 58, 59, 60, 61, 62, 63, 64, 65, 66, 67, 68, 69, 70, 71, 72, 73, 74, 75, 76, 77, 78, 79, 80, 81, 82, 83, 84, 85, 86, 87, 88, 89, 90, 91, 92, 93, 94, 95, 96, 97, 98, 99], \"y\": [-1.1118640049651034, 0.1491406043116301, -1.2221106374241755, -1.6875795839754855, -0.7558177324260064, -1.6337871211050123, 0.22261233323591775, 0.7915733560199928, 1.6896287071492586, -0.1975697108903575, -1.8948362657753854, -0.2541235158529231, 0.03661794809435186, 0.7548769352154293, 0.42547738622571923, 0.46165798801264835, 0.007295368926671065, 0.891055630096048, 0.24386729392890943, 0.8307255191948365, 0.35626459418787493, 2.1578145958004145, -2.058911680464687, -0.27284665675569436, -0.15770271572799424, 1.5033000533442646, -0.7496941979711484, 0.8514411005089376, -0.3916152705357473, 0.22689570064360143, -0.2197162949623533, -0.16579621986256468, 1.7299343666421136, 1.253065148652142, 1.210314349675132, -0.44295688764545177, 0.7521680139399465, -0.2674260111881133, 1.7902607882569215, -1.2912637225126222, 1.1762596418399858, 0.3680637408772415, 1.1759519499772664, -0.2752043603187563, 0.1024792184516914, -0.5941545257254696, 0.9489352620540739, -1.062895402760241, -1.0567115215569716, -2.3587912906105832, 2.9653750929051372, -0.27421247498910417, -0.328514053729911, 0.5734230922653505, -0.0607092670338549, 1.1704828032581003, 1.354998594411703, -0.6567767998847259, -0.10265296524401771, -0.27134167423686395, 1.5412502872780447, 0.5781757038302135, 1.2224550744752862, -0.08639304752669724, 0.9262617313935608, 0.22324901110438788, -1.7744853454310123, 1.1817122408866545, -0.5286257010564885, -2.7180104539156384, -1.0045558820687108, -1.1008071985316823, 0.4275954953925082, -0.32492381688521127, -1.0280063715123986, 0.23787612180794981, 0.18686310544658025, -0.3497955317388221, -0.09738618475432757, -1.2290276943037652, 0.5875304076931959, 0.8814182541543529, -0.6781089026484597, -0.7373594071213471, 1.115607766095368, 0.12888807541459482, -0.8158561577836921, -0.5940310396993876, -0.5291881868373929, -0.5751787198636337, 0.5108329935769008, 1.2067401728845797, -1.4220280600408528, -0.24726913124166838, -0.14727165533210312, 0.4513601251105589, 0.7331496085916595, 0.8068582051299986, 0.8857024956321218, -0.3926293025656279]}],\n",
       "                        {\"legend\": {\"bgcolor\": \"#F5F6F9\", \"font\": {\"color\": \"#4D5663\"}}, \"paper_bgcolor\": \"#F5F6F9\", \"plot_bgcolor\": \"#F5F6F9\", \"template\": {\"data\": {\"bar\": [{\"error_x\": {\"color\": \"#2a3f5f\"}, \"error_y\": {\"color\": \"#2a3f5f\"}, \"marker\": {\"line\": {\"color\": \"#E5ECF6\", \"width\": 0.5}}, \"type\": \"bar\"}], \"barpolar\": [{\"marker\": {\"line\": {\"color\": \"#E5ECF6\", \"width\": 0.5}}, \"type\": \"barpolar\"}], \"carpet\": [{\"aaxis\": {\"endlinecolor\": \"#2a3f5f\", \"gridcolor\": \"white\", \"linecolor\": \"white\", \"minorgridcolor\": \"white\", \"startlinecolor\": \"#2a3f5f\"}, \"baxis\": {\"endlinecolor\": \"#2a3f5f\", \"gridcolor\": \"white\", \"linecolor\": \"white\", \"minorgridcolor\": \"white\", \"startlinecolor\": \"#2a3f5f\"}, \"type\": \"carpet\"}], \"choropleth\": [{\"colorbar\": {\"outlinewidth\": 0, \"ticks\": \"\"}, \"type\": \"choropleth\"}], \"contour\": [{\"colorbar\": {\"outlinewidth\": 0, \"ticks\": \"\"}, \"colorscale\": [[0.0, \"#0d0887\"], [0.1111111111111111, \"#46039f\"], [0.2222222222222222, \"#7201a8\"], [0.3333333333333333, \"#9c179e\"], [0.4444444444444444, \"#bd3786\"], [0.5555555555555556, \"#d8576b\"], [0.6666666666666666, \"#ed7953\"], [0.7777777777777778, \"#fb9f3a\"], [0.8888888888888888, \"#fdca26\"], [1.0, \"#f0f921\"]], \"type\": \"contour\"}], \"contourcarpet\": [{\"colorbar\": {\"outlinewidth\": 0, \"ticks\": \"\"}, \"type\": \"contourcarpet\"}], \"heatmap\": [{\"colorbar\": {\"outlinewidth\": 0, \"ticks\": \"\"}, \"colorscale\": [[0.0, \"#0d0887\"], [0.1111111111111111, \"#46039f\"], [0.2222222222222222, \"#7201a8\"], [0.3333333333333333, \"#9c179e\"], [0.4444444444444444, \"#bd3786\"], [0.5555555555555556, \"#d8576b\"], [0.6666666666666666, \"#ed7953\"], [0.7777777777777778, \"#fb9f3a\"], [0.8888888888888888, \"#fdca26\"], [1.0, \"#f0f921\"]], \"type\": \"heatmap\"}], \"heatmapgl\": [{\"colorbar\": {\"outlinewidth\": 0, \"ticks\": \"\"}, \"colorscale\": [[0.0, \"#0d0887\"], [0.1111111111111111, \"#46039f\"], [0.2222222222222222, \"#7201a8\"], [0.3333333333333333, \"#9c179e\"], [0.4444444444444444, \"#bd3786\"], [0.5555555555555556, \"#d8576b\"], [0.6666666666666666, \"#ed7953\"], [0.7777777777777778, \"#fb9f3a\"], [0.8888888888888888, \"#fdca26\"], [1.0, \"#f0f921\"]], \"type\": \"heatmapgl\"}], \"histogram\": [{\"marker\": {\"colorbar\": {\"outlinewidth\": 0, \"ticks\": \"\"}}, \"type\": \"histogram\"}], \"histogram2d\": [{\"colorbar\": {\"outlinewidth\": 0, \"ticks\": \"\"}, \"colorscale\": [[0.0, \"#0d0887\"], [0.1111111111111111, \"#46039f\"], [0.2222222222222222, \"#7201a8\"], [0.3333333333333333, \"#9c179e\"], [0.4444444444444444, \"#bd3786\"], [0.5555555555555556, \"#d8576b\"], [0.6666666666666666, \"#ed7953\"], [0.7777777777777778, \"#fb9f3a\"], [0.8888888888888888, \"#fdca26\"], [1.0, \"#f0f921\"]], \"type\": \"histogram2d\"}], \"histogram2dcontour\": [{\"colorbar\": {\"outlinewidth\": 0, \"ticks\": \"\"}, \"colorscale\": [[0.0, \"#0d0887\"], [0.1111111111111111, \"#46039f\"], [0.2222222222222222, \"#7201a8\"], [0.3333333333333333, \"#9c179e\"], [0.4444444444444444, \"#bd3786\"], [0.5555555555555556, \"#d8576b\"], [0.6666666666666666, \"#ed7953\"], [0.7777777777777778, \"#fb9f3a\"], [0.8888888888888888, \"#fdca26\"], [1.0, \"#f0f921\"]], \"type\": \"histogram2dcontour\"}], \"mesh3d\": [{\"colorbar\": {\"outlinewidth\": 0, \"ticks\": \"\"}, \"type\": \"mesh3d\"}], \"parcoords\": [{\"line\": {\"colorbar\": {\"outlinewidth\": 0, \"ticks\": \"\"}}, \"type\": \"parcoords\"}], \"pie\": [{\"automargin\": true, \"type\": \"pie\"}], \"scatter\": [{\"marker\": {\"colorbar\": {\"outlinewidth\": 0, \"ticks\": \"\"}}, \"type\": \"scatter\"}], \"scatter3d\": [{\"line\": {\"colorbar\": {\"outlinewidth\": 0, \"ticks\": \"\"}}, \"marker\": {\"colorbar\": {\"outlinewidth\": 0, \"ticks\": \"\"}}, \"type\": \"scatter3d\"}], \"scattercarpet\": [{\"marker\": {\"colorbar\": {\"outlinewidth\": 0, \"ticks\": \"\"}}, \"type\": \"scattercarpet\"}], \"scattergeo\": [{\"marker\": {\"colorbar\": {\"outlinewidth\": 0, \"ticks\": \"\"}}, \"type\": \"scattergeo\"}], \"scattergl\": [{\"marker\": {\"colorbar\": {\"outlinewidth\": 0, \"ticks\": \"\"}}, \"type\": \"scattergl\"}], \"scattermapbox\": [{\"marker\": {\"colorbar\": {\"outlinewidth\": 0, \"ticks\": \"\"}}, \"type\": \"scattermapbox\"}], \"scatterpolar\": [{\"marker\": {\"colorbar\": {\"outlinewidth\": 0, \"ticks\": \"\"}}, \"type\": \"scatterpolar\"}], \"scatterpolargl\": [{\"marker\": {\"colorbar\": {\"outlinewidth\": 0, \"ticks\": \"\"}}, \"type\": \"scatterpolargl\"}], \"scatterternary\": [{\"marker\": {\"colorbar\": {\"outlinewidth\": 0, \"ticks\": \"\"}}, \"type\": \"scatterternary\"}], \"surface\": [{\"colorbar\": {\"outlinewidth\": 0, \"ticks\": \"\"}, \"colorscale\": [[0.0, \"#0d0887\"], [0.1111111111111111, \"#46039f\"], [0.2222222222222222, \"#7201a8\"], [0.3333333333333333, \"#9c179e\"], [0.4444444444444444, \"#bd3786\"], [0.5555555555555556, \"#d8576b\"], [0.6666666666666666, \"#ed7953\"], [0.7777777777777778, \"#fb9f3a\"], [0.8888888888888888, \"#fdca26\"], [1.0, \"#f0f921\"]], \"type\": \"surface\"}], \"table\": [{\"cells\": {\"fill\": {\"color\": \"#EBF0F8\"}, \"line\": {\"color\": \"white\"}}, \"header\": {\"fill\": {\"color\": \"#C8D4E3\"}, \"line\": {\"color\": \"white\"}}, \"type\": \"table\"}]}, \"layout\": {\"annotationdefaults\": {\"arrowcolor\": \"#2a3f5f\", \"arrowhead\": 0, \"arrowwidth\": 1}, \"coloraxis\": {\"colorbar\": {\"outlinewidth\": 0, \"ticks\": \"\"}}, \"colorscale\": {\"diverging\": [[0, \"#8e0152\"], [0.1, \"#c51b7d\"], [0.2, \"#de77ae\"], [0.3, \"#f1b6da\"], [0.4, \"#fde0ef\"], [0.5, \"#f7f7f7\"], [0.6, \"#e6f5d0\"], [0.7, \"#b8e186\"], [0.8, \"#7fbc41\"], [0.9, \"#4d9221\"], [1, \"#276419\"]], \"sequential\": [[0.0, \"#0d0887\"], [0.1111111111111111, \"#46039f\"], [0.2222222222222222, \"#7201a8\"], [0.3333333333333333, \"#9c179e\"], [0.4444444444444444, \"#bd3786\"], [0.5555555555555556, \"#d8576b\"], [0.6666666666666666, \"#ed7953\"], [0.7777777777777778, \"#fb9f3a\"], [0.8888888888888888, \"#fdca26\"], [1.0, \"#f0f921\"]], \"sequentialminus\": [[0.0, \"#0d0887\"], [0.1111111111111111, \"#46039f\"], [0.2222222222222222, \"#7201a8\"], [0.3333333333333333, \"#9c179e\"], [0.4444444444444444, \"#bd3786\"], [0.5555555555555556, \"#d8576b\"], [0.6666666666666666, \"#ed7953\"], [0.7777777777777778, \"#fb9f3a\"], [0.8888888888888888, \"#fdca26\"], [1.0, \"#f0f921\"]]}, \"colorway\": [\"#636efa\", \"#EF553B\", \"#00cc96\", \"#ab63fa\", \"#FFA15A\", \"#19d3f3\", \"#FF6692\", \"#B6E880\", \"#FF97FF\", \"#FECB52\"], \"font\": {\"color\": \"#2a3f5f\"}, \"geo\": {\"bgcolor\": \"white\", \"lakecolor\": \"white\", \"landcolor\": \"#E5ECF6\", \"showlakes\": true, \"showland\": true, \"subunitcolor\": \"white\"}, \"hoverlabel\": {\"align\": \"left\"}, \"hovermode\": \"closest\", \"mapbox\": {\"style\": \"light\"}, \"paper_bgcolor\": \"white\", \"plot_bgcolor\": \"#E5ECF6\", \"polar\": {\"angularaxis\": {\"gridcolor\": \"white\", \"linecolor\": \"white\", \"ticks\": \"\"}, \"bgcolor\": \"#E5ECF6\", \"radialaxis\": {\"gridcolor\": \"white\", \"linecolor\": \"white\", \"ticks\": \"\"}}, \"scene\": {\"xaxis\": {\"backgroundcolor\": \"#E5ECF6\", \"gridcolor\": \"white\", \"gridwidth\": 2, \"linecolor\": \"white\", \"showbackground\": true, \"ticks\": \"\", \"zerolinecolor\": \"white\"}, \"yaxis\": {\"backgroundcolor\": \"#E5ECF6\", \"gridcolor\": \"white\", \"gridwidth\": 2, \"linecolor\": \"white\", \"showbackground\": true, \"ticks\": \"\", \"zerolinecolor\": \"white\"}, \"zaxis\": {\"backgroundcolor\": \"#E5ECF6\", \"gridcolor\": \"white\", \"gridwidth\": 2, \"linecolor\": \"white\", \"showbackground\": true, \"ticks\": \"\", \"zerolinecolor\": \"white\"}}, \"shapedefaults\": {\"line\": {\"color\": \"#2a3f5f\"}}, \"ternary\": {\"aaxis\": {\"gridcolor\": \"white\", \"linecolor\": \"white\", \"ticks\": \"\"}, \"baxis\": {\"gridcolor\": \"white\", \"linecolor\": \"white\", \"ticks\": \"\"}, \"bgcolor\": \"#E5ECF6\", \"caxis\": {\"gridcolor\": \"white\", \"linecolor\": \"white\", \"ticks\": \"\"}}, \"title\": {\"x\": 0.05}, \"xaxis\": {\"automargin\": true, \"gridcolor\": \"white\", \"linecolor\": \"white\", \"ticks\": \"\", \"title\": {\"standoff\": 15}, \"zerolinecolor\": \"white\", \"zerolinewidth\": 2}, \"yaxis\": {\"automargin\": true, \"gridcolor\": \"white\", \"linecolor\": \"white\", \"ticks\": \"\", \"title\": {\"standoff\": 15}, \"zerolinecolor\": \"white\", \"zerolinewidth\": 2}}}, \"title\": {\"font\": {\"color\": \"#4D5663\"}}, \"xaxis\": {\"gridcolor\": \"#E1E5ED\", \"showgrid\": true, \"tickfont\": {\"color\": \"#4D5663\"}, \"title\": {\"font\": {\"color\": \"#4D5663\"}, \"text\": \"\"}, \"zerolinecolor\": \"#E1E5ED\"}, \"yaxis\": {\"gridcolor\": \"#E1E5ED\", \"showgrid\": true, \"tickfont\": {\"color\": \"#4D5663\"}, \"title\": {\"font\": {\"color\": \"#4D5663\"}, \"text\": \"\"}, \"zerolinecolor\": \"#E1E5ED\"}},\n",
       "                        {\"showLink\": true, \"linkText\": \"Export to plot.ly\", \"plotlyServerURL\": \"https://plot.ly\", \"responsive\": true}\n",
       "                    ).then(function(){\n",
       "                            \n",
       "var gd = document.getElementById('f0e97572-3e5d-4931-a3c9-f8e7e9696450');\n",
       "var x = new MutationObserver(function (mutations, observer) {{\n",
       "        var display = window.getComputedStyle(gd).display;\n",
       "        if (!display || display === 'none') {{\n",
       "            console.log([gd, 'removed!']);\n",
       "            Plotly.purge(gd);\n",
       "            observer.disconnect();\n",
       "        }}\n",
       "}});\n",
       "\n",
       "// Listen for the removal of the full notebook cells\n",
       "var notebookContainer = gd.closest('#notebook-container');\n",
       "if (notebookContainer) {{\n",
       "    x.observe(notebookContainer, {childList: true});\n",
       "}}\n",
       "\n",
       "// Listen for the clearing of the current output cell\n",
       "var outputEl = gd.closest('.output');\n",
       "if (outputEl) {{\n",
       "    x.observe(outputEl, {childList: true});\n",
       "}}\n",
       "\n",
       "                        })\n",
       "                };\n",
       "                });\n",
       "            </script>\n",
       "        </div>"
      ]
     },
     "metadata": {},
     "output_type": "display_data"
    }
   ],
   "source": [
    "df.iplot(kind='bar')"
   ]
  },
  {
   "cell_type": "code",
   "execution_count": 26,
   "metadata": {},
   "outputs": [
    {
     "data": {
      "application/vnd.plotly.v1+json": {
       "config": {
        "linkText": "Export to plot.ly",
        "plotlyServerURL": "https://plot.ly",
        "showLink": true
       },
       "data": [
        {
         "marker": {
          "color": "rgba(255, 153, 51, 0.6)",
          "line": {
           "color": "rgba(255, 153, 51, 1.0)",
           "width": 1
          }
         },
         "name": "None",
         "orientation": "v",
         "text": "",
         "type": "bar",
         "x": [
          "A",
          "B",
          "C",
          "D"
         ],
         "y": [
          19.066523827211174,
          -12.164395268932964,
          -2.010972288721939,
          3.8069636970115814
         ]
        }
       ],
       "layout": {
        "legend": {
         "bgcolor": "#F5F6F9",
         "font": {
          "color": "#4D5663"
         }
        },
        "paper_bgcolor": "#F5F6F9",
        "plot_bgcolor": "#F5F6F9",
        "template": {
         "data": {
          "bar": [
           {
            "error_x": {
             "color": "#2a3f5f"
            },
            "error_y": {
             "color": "#2a3f5f"
            },
            "marker": {
             "line": {
              "color": "#E5ECF6",
              "width": 0.5
             }
            },
            "type": "bar"
           }
          ],
          "barpolar": [
           {
            "marker": {
             "line": {
              "color": "#E5ECF6",
              "width": 0.5
             }
            },
            "type": "barpolar"
           }
          ],
          "carpet": [
           {
            "aaxis": {
             "endlinecolor": "#2a3f5f",
             "gridcolor": "white",
             "linecolor": "white",
             "minorgridcolor": "white",
             "startlinecolor": "#2a3f5f"
            },
            "baxis": {
             "endlinecolor": "#2a3f5f",
             "gridcolor": "white",
             "linecolor": "white",
             "minorgridcolor": "white",
             "startlinecolor": "#2a3f5f"
            },
            "type": "carpet"
           }
          ],
          "choropleth": [
           {
            "colorbar": {
             "outlinewidth": 0,
             "ticks": ""
            },
            "type": "choropleth"
           }
          ],
          "contour": [
           {
            "colorbar": {
             "outlinewidth": 0,
             "ticks": ""
            },
            "colorscale": [
             [
              0,
              "#0d0887"
             ],
             [
              0.1111111111111111,
              "#46039f"
             ],
             [
              0.2222222222222222,
              "#7201a8"
             ],
             [
              0.3333333333333333,
              "#9c179e"
             ],
             [
              0.4444444444444444,
              "#bd3786"
             ],
             [
              0.5555555555555556,
              "#d8576b"
             ],
             [
              0.6666666666666666,
              "#ed7953"
             ],
             [
              0.7777777777777778,
              "#fb9f3a"
             ],
             [
              0.8888888888888888,
              "#fdca26"
             ],
             [
              1,
              "#f0f921"
             ]
            ],
            "type": "contour"
           }
          ],
          "contourcarpet": [
           {
            "colorbar": {
             "outlinewidth": 0,
             "ticks": ""
            },
            "type": "contourcarpet"
           }
          ],
          "heatmap": [
           {
            "colorbar": {
             "outlinewidth": 0,
             "ticks": ""
            },
            "colorscale": [
             [
              0,
              "#0d0887"
             ],
             [
              0.1111111111111111,
              "#46039f"
             ],
             [
              0.2222222222222222,
              "#7201a8"
             ],
             [
              0.3333333333333333,
              "#9c179e"
             ],
             [
              0.4444444444444444,
              "#bd3786"
             ],
             [
              0.5555555555555556,
              "#d8576b"
             ],
             [
              0.6666666666666666,
              "#ed7953"
             ],
             [
              0.7777777777777778,
              "#fb9f3a"
             ],
             [
              0.8888888888888888,
              "#fdca26"
             ],
             [
              1,
              "#f0f921"
             ]
            ],
            "type": "heatmap"
           }
          ],
          "heatmapgl": [
           {
            "colorbar": {
             "outlinewidth": 0,
             "ticks": ""
            },
            "colorscale": [
             [
              0,
              "#0d0887"
             ],
             [
              0.1111111111111111,
              "#46039f"
             ],
             [
              0.2222222222222222,
              "#7201a8"
             ],
             [
              0.3333333333333333,
              "#9c179e"
             ],
             [
              0.4444444444444444,
              "#bd3786"
             ],
             [
              0.5555555555555556,
              "#d8576b"
             ],
             [
              0.6666666666666666,
              "#ed7953"
             ],
             [
              0.7777777777777778,
              "#fb9f3a"
             ],
             [
              0.8888888888888888,
              "#fdca26"
             ],
             [
              1,
              "#f0f921"
             ]
            ],
            "type": "heatmapgl"
           }
          ],
          "histogram": [
           {
            "marker": {
             "colorbar": {
              "outlinewidth": 0,
              "ticks": ""
             }
            },
            "type": "histogram"
           }
          ],
          "histogram2d": [
           {
            "colorbar": {
             "outlinewidth": 0,
             "ticks": ""
            },
            "colorscale": [
             [
              0,
              "#0d0887"
             ],
             [
              0.1111111111111111,
              "#46039f"
             ],
             [
              0.2222222222222222,
              "#7201a8"
             ],
             [
              0.3333333333333333,
              "#9c179e"
             ],
             [
              0.4444444444444444,
              "#bd3786"
             ],
             [
              0.5555555555555556,
              "#d8576b"
             ],
             [
              0.6666666666666666,
              "#ed7953"
             ],
             [
              0.7777777777777778,
              "#fb9f3a"
             ],
             [
              0.8888888888888888,
              "#fdca26"
             ],
             [
              1,
              "#f0f921"
             ]
            ],
            "type": "histogram2d"
           }
          ],
          "histogram2dcontour": [
           {
            "colorbar": {
             "outlinewidth": 0,
             "ticks": ""
            },
            "colorscale": [
             [
              0,
              "#0d0887"
             ],
             [
              0.1111111111111111,
              "#46039f"
             ],
             [
              0.2222222222222222,
              "#7201a8"
             ],
             [
              0.3333333333333333,
              "#9c179e"
             ],
             [
              0.4444444444444444,
              "#bd3786"
             ],
             [
              0.5555555555555556,
              "#d8576b"
             ],
             [
              0.6666666666666666,
              "#ed7953"
             ],
             [
              0.7777777777777778,
              "#fb9f3a"
             ],
             [
              0.8888888888888888,
              "#fdca26"
             ],
             [
              1,
              "#f0f921"
             ]
            ],
            "type": "histogram2dcontour"
           }
          ],
          "mesh3d": [
           {
            "colorbar": {
             "outlinewidth": 0,
             "ticks": ""
            },
            "type": "mesh3d"
           }
          ],
          "parcoords": [
           {
            "line": {
             "colorbar": {
              "outlinewidth": 0,
              "ticks": ""
             }
            },
            "type": "parcoords"
           }
          ],
          "pie": [
           {
            "automargin": true,
            "type": "pie"
           }
          ],
          "scatter": [
           {
            "marker": {
             "colorbar": {
              "outlinewidth": 0,
              "ticks": ""
             }
            },
            "type": "scatter"
           }
          ],
          "scatter3d": [
           {
            "line": {
             "colorbar": {
              "outlinewidth": 0,
              "ticks": ""
             }
            },
            "marker": {
             "colorbar": {
              "outlinewidth": 0,
              "ticks": ""
             }
            },
            "type": "scatter3d"
           }
          ],
          "scattercarpet": [
           {
            "marker": {
             "colorbar": {
              "outlinewidth": 0,
              "ticks": ""
             }
            },
            "type": "scattercarpet"
           }
          ],
          "scattergeo": [
           {
            "marker": {
             "colorbar": {
              "outlinewidth": 0,
              "ticks": ""
             }
            },
            "type": "scattergeo"
           }
          ],
          "scattergl": [
           {
            "marker": {
             "colorbar": {
              "outlinewidth": 0,
              "ticks": ""
             }
            },
            "type": "scattergl"
           }
          ],
          "scattermapbox": [
           {
            "marker": {
             "colorbar": {
              "outlinewidth": 0,
              "ticks": ""
             }
            },
            "type": "scattermapbox"
           }
          ],
          "scatterpolar": [
           {
            "marker": {
             "colorbar": {
              "outlinewidth": 0,
              "ticks": ""
             }
            },
            "type": "scatterpolar"
           }
          ],
          "scatterpolargl": [
           {
            "marker": {
             "colorbar": {
              "outlinewidth": 0,
              "ticks": ""
             }
            },
            "type": "scatterpolargl"
           }
          ],
          "scatterternary": [
           {
            "marker": {
             "colorbar": {
              "outlinewidth": 0,
              "ticks": ""
             }
            },
            "type": "scatterternary"
           }
          ],
          "surface": [
           {
            "colorbar": {
             "outlinewidth": 0,
             "ticks": ""
            },
            "colorscale": [
             [
              0,
              "#0d0887"
             ],
             [
              0.1111111111111111,
              "#46039f"
             ],
             [
              0.2222222222222222,
              "#7201a8"
             ],
             [
              0.3333333333333333,
              "#9c179e"
             ],
             [
              0.4444444444444444,
              "#bd3786"
             ],
             [
              0.5555555555555556,
              "#d8576b"
             ],
             [
              0.6666666666666666,
              "#ed7953"
             ],
             [
              0.7777777777777778,
              "#fb9f3a"
             ],
             [
              0.8888888888888888,
              "#fdca26"
             ],
             [
              1,
              "#f0f921"
             ]
            ],
            "type": "surface"
           }
          ],
          "table": [
           {
            "cells": {
             "fill": {
              "color": "#EBF0F8"
             },
             "line": {
              "color": "white"
             }
            },
            "header": {
             "fill": {
              "color": "#C8D4E3"
             },
             "line": {
              "color": "white"
             }
            },
            "type": "table"
           }
          ]
         },
         "layout": {
          "annotationdefaults": {
           "arrowcolor": "#2a3f5f",
           "arrowhead": 0,
           "arrowwidth": 1
          },
          "coloraxis": {
           "colorbar": {
            "outlinewidth": 0,
            "ticks": ""
           }
          },
          "colorscale": {
           "diverging": [
            [
             0,
             "#8e0152"
            ],
            [
             0.1,
             "#c51b7d"
            ],
            [
             0.2,
             "#de77ae"
            ],
            [
             0.3,
             "#f1b6da"
            ],
            [
             0.4,
             "#fde0ef"
            ],
            [
             0.5,
             "#f7f7f7"
            ],
            [
             0.6,
             "#e6f5d0"
            ],
            [
             0.7,
             "#b8e186"
            ],
            [
             0.8,
             "#7fbc41"
            ],
            [
             0.9,
             "#4d9221"
            ],
            [
             1,
             "#276419"
            ]
           ],
           "sequential": [
            [
             0,
             "#0d0887"
            ],
            [
             0.1111111111111111,
             "#46039f"
            ],
            [
             0.2222222222222222,
             "#7201a8"
            ],
            [
             0.3333333333333333,
             "#9c179e"
            ],
            [
             0.4444444444444444,
             "#bd3786"
            ],
            [
             0.5555555555555556,
             "#d8576b"
            ],
            [
             0.6666666666666666,
             "#ed7953"
            ],
            [
             0.7777777777777778,
             "#fb9f3a"
            ],
            [
             0.8888888888888888,
             "#fdca26"
            ],
            [
             1,
             "#f0f921"
            ]
           ],
           "sequentialminus": [
            [
             0,
             "#0d0887"
            ],
            [
             0.1111111111111111,
             "#46039f"
            ],
            [
             0.2222222222222222,
             "#7201a8"
            ],
            [
             0.3333333333333333,
             "#9c179e"
            ],
            [
             0.4444444444444444,
             "#bd3786"
            ],
            [
             0.5555555555555556,
             "#d8576b"
            ],
            [
             0.6666666666666666,
             "#ed7953"
            ],
            [
             0.7777777777777778,
             "#fb9f3a"
            ],
            [
             0.8888888888888888,
             "#fdca26"
            ],
            [
             1,
             "#f0f921"
            ]
           ]
          },
          "colorway": [
           "#636efa",
           "#EF553B",
           "#00cc96",
           "#ab63fa",
           "#FFA15A",
           "#19d3f3",
           "#FF6692",
           "#B6E880",
           "#FF97FF",
           "#FECB52"
          ],
          "font": {
           "color": "#2a3f5f"
          },
          "geo": {
           "bgcolor": "white",
           "lakecolor": "white",
           "landcolor": "#E5ECF6",
           "showlakes": true,
           "showland": true,
           "subunitcolor": "white"
          },
          "hoverlabel": {
           "align": "left"
          },
          "hovermode": "closest",
          "mapbox": {
           "style": "light"
          },
          "paper_bgcolor": "white",
          "plot_bgcolor": "#E5ECF6",
          "polar": {
           "angularaxis": {
            "gridcolor": "white",
            "linecolor": "white",
            "ticks": ""
           },
           "bgcolor": "#E5ECF6",
           "radialaxis": {
            "gridcolor": "white",
            "linecolor": "white",
            "ticks": ""
           }
          },
          "scene": {
           "xaxis": {
            "backgroundcolor": "#E5ECF6",
            "gridcolor": "white",
            "gridwidth": 2,
            "linecolor": "white",
            "showbackground": true,
            "ticks": "",
            "zerolinecolor": "white"
           },
           "yaxis": {
            "backgroundcolor": "#E5ECF6",
            "gridcolor": "white",
            "gridwidth": 2,
            "linecolor": "white",
            "showbackground": true,
            "ticks": "",
            "zerolinecolor": "white"
           },
           "zaxis": {
            "backgroundcolor": "#E5ECF6",
            "gridcolor": "white",
            "gridwidth": 2,
            "linecolor": "white",
            "showbackground": true,
            "ticks": "",
            "zerolinecolor": "white"
           }
          },
          "shapedefaults": {
           "line": {
            "color": "#2a3f5f"
           }
          },
          "ternary": {
           "aaxis": {
            "gridcolor": "white",
            "linecolor": "white",
            "ticks": ""
           },
           "baxis": {
            "gridcolor": "white",
            "linecolor": "white",
            "ticks": ""
           },
           "bgcolor": "#E5ECF6",
           "caxis": {
            "gridcolor": "white",
            "linecolor": "white",
            "ticks": ""
           }
          },
          "title": {
           "x": 0.05
          },
          "xaxis": {
           "automargin": true,
           "gridcolor": "white",
           "linecolor": "white",
           "ticks": "",
           "title": {
            "standoff": 15
           },
           "zerolinecolor": "white",
           "zerolinewidth": 2
          },
          "yaxis": {
           "automargin": true,
           "gridcolor": "white",
           "linecolor": "white",
           "ticks": "",
           "title": {
            "standoff": 15
           },
           "zerolinecolor": "white",
           "zerolinewidth": 2
          }
         }
        },
        "title": {
         "font": {
          "color": "#4D5663"
         }
        },
        "xaxis": {
         "gridcolor": "#E1E5ED",
         "showgrid": true,
         "tickfont": {
          "color": "#4D5663"
         },
         "title": {
          "font": {
           "color": "#4D5663"
          },
          "text": ""
         },
         "zerolinecolor": "#E1E5ED"
        },
        "yaxis": {
         "gridcolor": "#E1E5ED",
         "showgrid": true,
         "tickfont": {
          "color": "#4D5663"
         },
         "title": {
          "font": {
           "color": "#4D5663"
          },
          "text": ""
         },
         "zerolinecolor": "#E1E5ED"
        }
       }
      },
      "text/html": [
       "<div>\n",
       "        \n",
       "        \n",
       "            <div id=\"59002b60-b02a-490d-9c05-550a499e5919\" class=\"plotly-graph-div\" style=\"height:525px; width:100%;\"></div>\n",
       "            <script type=\"text/javascript\">\n",
       "                require([\"plotly\"], function(Plotly) {\n",
       "                    window.PLOTLYENV=window.PLOTLYENV || {};\n",
       "                    window.PLOTLYENV.BASE_URL='https://plot.ly';\n",
       "                    \n",
       "                if (document.getElementById(\"59002b60-b02a-490d-9c05-550a499e5919\")) {\n",
       "                    Plotly.newPlot(\n",
       "                        '59002b60-b02a-490d-9c05-550a499e5919',\n",
       "                        [{\"marker\": {\"color\": \"rgba(255, 153, 51, 0.6)\", \"line\": {\"color\": \"rgba(255, 153, 51, 1.0)\", \"width\": 1}}, \"name\": \"None\", \"orientation\": \"v\", \"text\": \"\", \"type\": \"bar\", \"x\": [\"A\", \"B\", \"C\", \"D\"], \"y\": [19.066523827211174, -12.164395268932964, -2.010972288721939, 3.8069636970115814]}],\n",
       "                        {\"legend\": {\"bgcolor\": \"#F5F6F9\", \"font\": {\"color\": \"#4D5663\"}}, \"paper_bgcolor\": \"#F5F6F9\", \"plot_bgcolor\": \"#F5F6F9\", \"template\": {\"data\": {\"bar\": [{\"error_x\": {\"color\": \"#2a3f5f\"}, \"error_y\": {\"color\": \"#2a3f5f\"}, \"marker\": {\"line\": {\"color\": \"#E5ECF6\", \"width\": 0.5}}, \"type\": \"bar\"}], \"barpolar\": [{\"marker\": {\"line\": {\"color\": \"#E5ECF6\", \"width\": 0.5}}, \"type\": \"barpolar\"}], \"carpet\": [{\"aaxis\": {\"endlinecolor\": \"#2a3f5f\", \"gridcolor\": \"white\", \"linecolor\": \"white\", \"minorgridcolor\": \"white\", \"startlinecolor\": \"#2a3f5f\"}, \"baxis\": {\"endlinecolor\": \"#2a3f5f\", \"gridcolor\": \"white\", \"linecolor\": \"white\", \"minorgridcolor\": \"white\", \"startlinecolor\": \"#2a3f5f\"}, \"type\": \"carpet\"}], \"choropleth\": [{\"colorbar\": {\"outlinewidth\": 0, \"ticks\": \"\"}, \"type\": \"choropleth\"}], \"contour\": [{\"colorbar\": {\"outlinewidth\": 0, \"ticks\": \"\"}, \"colorscale\": [[0.0, \"#0d0887\"], [0.1111111111111111, \"#46039f\"], [0.2222222222222222, \"#7201a8\"], [0.3333333333333333, \"#9c179e\"], [0.4444444444444444, \"#bd3786\"], [0.5555555555555556, \"#d8576b\"], [0.6666666666666666, \"#ed7953\"], [0.7777777777777778, \"#fb9f3a\"], [0.8888888888888888, \"#fdca26\"], [1.0, \"#f0f921\"]], \"type\": \"contour\"}], \"contourcarpet\": [{\"colorbar\": {\"outlinewidth\": 0, \"ticks\": \"\"}, \"type\": \"contourcarpet\"}], \"heatmap\": [{\"colorbar\": {\"outlinewidth\": 0, \"ticks\": \"\"}, \"colorscale\": [[0.0, \"#0d0887\"], [0.1111111111111111, \"#46039f\"], [0.2222222222222222, \"#7201a8\"], [0.3333333333333333, \"#9c179e\"], [0.4444444444444444, \"#bd3786\"], [0.5555555555555556, \"#d8576b\"], [0.6666666666666666, \"#ed7953\"], [0.7777777777777778, \"#fb9f3a\"], [0.8888888888888888, \"#fdca26\"], [1.0, \"#f0f921\"]], \"type\": \"heatmap\"}], \"heatmapgl\": [{\"colorbar\": {\"outlinewidth\": 0, \"ticks\": \"\"}, \"colorscale\": [[0.0, \"#0d0887\"], [0.1111111111111111, \"#46039f\"], [0.2222222222222222, \"#7201a8\"], [0.3333333333333333, \"#9c179e\"], [0.4444444444444444, \"#bd3786\"], [0.5555555555555556, \"#d8576b\"], [0.6666666666666666, \"#ed7953\"], [0.7777777777777778, \"#fb9f3a\"], [0.8888888888888888, \"#fdca26\"], [1.0, \"#f0f921\"]], \"type\": \"heatmapgl\"}], \"histogram\": [{\"marker\": {\"colorbar\": {\"outlinewidth\": 0, \"ticks\": \"\"}}, \"type\": \"histogram\"}], \"histogram2d\": [{\"colorbar\": {\"outlinewidth\": 0, \"ticks\": \"\"}, \"colorscale\": [[0.0, \"#0d0887\"], [0.1111111111111111, \"#46039f\"], [0.2222222222222222, \"#7201a8\"], [0.3333333333333333, \"#9c179e\"], [0.4444444444444444, \"#bd3786\"], [0.5555555555555556, \"#d8576b\"], [0.6666666666666666, \"#ed7953\"], [0.7777777777777778, \"#fb9f3a\"], [0.8888888888888888, \"#fdca26\"], [1.0, \"#f0f921\"]], \"type\": \"histogram2d\"}], \"histogram2dcontour\": [{\"colorbar\": {\"outlinewidth\": 0, \"ticks\": \"\"}, \"colorscale\": [[0.0, \"#0d0887\"], [0.1111111111111111, \"#46039f\"], [0.2222222222222222, \"#7201a8\"], [0.3333333333333333, \"#9c179e\"], [0.4444444444444444, \"#bd3786\"], [0.5555555555555556, \"#d8576b\"], [0.6666666666666666, \"#ed7953\"], [0.7777777777777778, \"#fb9f3a\"], [0.8888888888888888, \"#fdca26\"], [1.0, \"#f0f921\"]], \"type\": \"histogram2dcontour\"}], \"mesh3d\": [{\"colorbar\": {\"outlinewidth\": 0, \"ticks\": \"\"}, \"type\": \"mesh3d\"}], \"parcoords\": [{\"line\": {\"colorbar\": {\"outlinewidth\": 0, \"ticks\": \"\"}}, \"type\": \"parcoords\"}], \"pie\": [{\"automargin\": true, \"type\": \"pie\"}], \"scatter\": [{\"marker\": {\"colorbar\": {\"outlinewidth\": 0, \"ticks\": \"\"}}, \"type\": \"scatter\"}], \"scatter3d\": [{\"line\": {\"colorbar\": {\"outlinewidth\": 0, \"ticks\": \"\"}}, \"marker\": {\"colorbar\": {\"outlinewidth\": 0, \"ticks\": \"\"}}, \"type\": \"scatter3d\"}], \"scattercarpet\": [{\"marker\": {\"colorbar\": {\"outlinewidth\": 0, \"ticks\": \"\"}}, \"type\": \"scattercarpet\"}], \"scattergeo\": [{\"marker\": {\"colorbar\": {\"outlinewidth\": 0, \"ticks\": \"\"}}, \"type\": \"scattergeo\"}], \"scattergl\": [{\"marker\": {\"colorbar\": {\"outlinewidth\": 0, \"ticks\": \"\"}}, \"type\": \"scattergl\"}], \"scattermapbox\": [{\"marker\": {\"colorbar\": {\"outlinewidth\": 0, \"ticks\": \"\"}}, \"type\": \"scattermapbox\"}], \"scatterpolar\": [{\"marker\": {\"colorbar\": {\"outlinewidth\": 0, \"ticks\": \"\"}}, \"type\": \"scatterpolar\"}], \"scatterpolargl\": [{\"marker\": {\"colorbar\": {\"outlinewidth\": 0, \"ticks\": \"\"}}, \"type\": \"scatterpolargl\"}], \"scatterternary\": [{\"marker\": {\"colorbar\": {\"outlinewidth\": 0, \"ticks\": \"\"}}, \"type\": \"scatterternary\"}], \"surface\": [{\"colorbar\": {\"outlinewidth\": 0, \"ticks\": \"\"}, \"colorscale\": [[0.0, \"#0d0887\"], [0.1111111111111111, \"#46039f\"], [0.2222222222222222, \"#7201a8\"], [0.3333333333333333, \"#9c179e\"], [0.4444444444444444, \"#bd3786\"], [0.5555555555555556, \"#d8576b\"], [0.6666666666666666, \"#ed7953\"], [0.7777777777777778, \"#fb9f3a\"], [0.8888888888888888, \"#fdca26\"], [1.0, \"#f0f921\"]], \"type\": \"surface\"}], \"table\": [{\"cells\": {\"fill\": {\"color\": \"#EBF0F8\"}, \"line\": {\"color\": \"white\"}}, \"header\": {\"fill\": {\"color\": \"#C8D4E3\"}, \"line\": {\"color\": \"white\"}}, \"type\": \"table\"}]}, \"layout\": {\"annotationdefaults\": {\"arrowcolor\": \"#2a3f5f\", \"arrowhead\": 0, \"arrowwidth\": 1}, \"coloraxis\": {\"colorbar\": {\"outlinewidth\": 0, \"ticks\": \"\"}}, \"colorscale\": {\"diverging\": [[0, \"#8e0152\"], [0.1, \"#c51b7d\"], [0.2, \"#de77ae\"], [0.3, \"#f1b6da\"], [0.4, \"#fde0ef\"], [0.5, \"#f7f7f7\"], [0.6, \"#e6f5d0\"], [0.7, \"#b8e186\"], [0.8, \"#7fbc41\"], [0.9, \"#4d9221\"], [1, \"#276419\"]], \"sequential\": [[0.0, \"#0d0887\"], [0.1111111111111111, \"#46039f\"], [0.2222222222222222, \"#7201a8\"], [0.3333333333333333, \"#9c179e\"], [0.4444444444444444, \"#bd3786\"], [0.5555555555555556, \"#d8576b\"], [0.6666666666666666, \"#ed7953\"], [0.7777777777777778, \"#fb9f3a\"], [0.8888888888888888, \"#fdca26\"], [1.0, \"#f0f921\"]], \"sequentialminus\": [[0.0, \"#0d0887\"], [0.1111111111111111, \"#46039f\"], [0.2222222222222222, \"#7201a8\"], [0.3333333333333333, \"#9c179e\"], [0.4444444444444444, \"#bd3786\"], [0.5555555555555556, \"#d8576b\"], [0.6666666666666666, \"#ed7953\"], [0.7777777777777778, \"#fb9f3a\"], [0.8888888888888888, \"#fdca26\"], [1.0, \"#f0f921\"]]}, \"colorway\": [\"#636efa\", \"#EF553B\", \"#00cc96\", \"#ab63fa\", \"#FFA15A\", \"#19d3f3\", \"#FF6692\", \"#B6E880\", \"#FF97FF\", \"#FECB52\"], \"font\": {\"color\": \"#2a3f5f\"}, \"geo\": {\"bgcolor\": \"white\", \"lakecolor\": \"white\", \"landcolor\": \"#E5ECF6\", \"showlakes\": true, \"showland\": true, \"subunitcolor\": \"white\"}, \"hoverlabel\": {\"align\": \"left\"}, \"hovermode\": \"closest\", \"mapbox\": {\"style\": \"light\"}, \"paper_bgcolor\": \"white\", \"plot_bgcolor\": \"#E5ECF6\", \"polar\": {\"angularaxis\": {\"gridcolor\": \"white\", \"linecolor\": \"white\", \"ticks\": \"\"}, \"bgcolor\": \"#E5ECF6\", \"radialaxis\": {\"gridcolor\": \"white\", \"linecolor\": \"white\", \"ticks\": \"\"}}, \"scene\": {\"xaxis\": {\"backgroundcolor\": \"#E5ECF6\", \"gridcolor\": \"white\", \"gridwidth\": 2, \"linecolor\": \"white\", \"showbackground\": true, \"ticks\": \"\", \"zerolinecolor\": \"white\"}, \"yaxis\": {\"backgroundcolor\": \"#E5ECF6\", \"gridcolor\": \"white\", \"gridwidth\": 2, \"linecolor\": \"white\", \"showbackground\": true, \"ticks\": \"\", \"zerolinecolor\": \"white\"}, \"zaxis\": {\"backgroundcolor\": \"#E5ECF6\", \"gridcolor\": \"white\", \"gridwidth\": 2, \"linecolor\": \"white\", \"showbackground\": true, \"ticks\": \"\", \"zerolinecolor\": \"white\"}}, \"shapedefaults\": {\"line\": {\"color\": \"#2a3f5f\"}}, \"ternary\": {\"aaxis\": {\"gridcolor\": \"white\", \"linecolor\": \"white\", \"ticks\": \"\"}, \"baxis\": {\"gridcolor\": \"white\", \"linecolor\": \"white\", \"ticks\": \"\"}, \"bgcolor\": \"#E5ECF6\", \"caxis\": {\"gridcolor\": \"white\", \"linecolor\": \"white\", \"ticks\": \"\"}}, \"title\": {\"x\": 0.05}, \"xaxis\": {\"automargin\": true, \"gridcolor\": \"white\", \"linecolor\": \"white\", \"ticks\": \"\", \"title\": {\"standoff\": 15}, \"zerolinecolor\": \"white\", \"zerolinewidth\": 2}, \"yaxis\": {\"automargin\": true, \"gridcolor\": \"white\", \"linecolor\": \"white\", \"ticks\": \"\", \"title\": {\"standoff\": 15}, \"zerolinecolor\": \"white\", \"zerolinewidth\": 2}}}, \"title\": {\"font\": {\"color\": \"#4D5663\"}}, \"xaxis\": {\"gridcolor\": \"#E1E5ED\", \"showgrid\": true, \"tickfont\": {\"color\": \"#4D5663\"}, \"title\": {\"font\": {\"color\": \"#4D5663\"}, \"text\": \"\"}, \"zerolinecolor\": \"#E1E5ED\"}, \"yaxis\": {\"gridcolor\": \"#E1E5ED\", \"showgrid\": true, \"tickfont\": {\"color\": \"#4D5663\"}, \"title\": {\"font\": {\"color\": \"#4D5663\"}, \"text\": \"\"}, \"zerolinecolor\": \"#E1E5ED\"}},\n",
       "                        {\"showLink\": true, \"linkText\": \"Export to plot.ly\", \"plotlyServerURL\": \"https://plot.ly\", \"responsive\": true}\n",
       "                    ).then(function(){\n",
       "                            \n",
       "var gd = document.getElementById('59002b60-b02a-490d-9c05-550a499e5919');\n",
       "var x = new MutationObserver(function (mutations, observer) {{\n",
       "        var display = window.getComputedStyle(gd).display;\n",
       "        if (!display || display === 'none') {{\n",
       "            console.log([gd, 'removed!']);\n",
       "            Plotly.purge(gd);\n",
       "            observer.disconnect();\n",
       "        }}\n",
       "}});\n",
       "\n",
       "// Listen for the removal of the full notebook cells\n",
       "var notebookContainer = gd.closest('#notebook-container');\n",
       "if (notebookContainer) {{\n",
       "    x.observe(notebookContainer, {childList: true});\n",
       "}}\n",
       "\n",
       "// Listen for the clearing of the current output cell\n",
       "var outputEl = gd.closest('.output');\n",
       "if (outputEl) {{\n",
       "    x.observe(outputEl, {childList: true});\n",
       "}}\n",
       "\n",
       "                        })\n",
       "                };\n",
       "                });\n",
       "            </script>\n",
       "        </div>"
      ]
     },
     "metadata": {},
     "output_type": "display_data"
    }
   ],
   "source": [
    "df.sum().iplot(kind='bar')"
   ]
  },
  {
   "cell_type": "code",
   "execution_count": 27,
   "metadata": {},
   "outputs": [
    {
     "data": {
      "application/vnd.plotly.v1+json": {
       "config": {
        "linkText": "Export to plot.ly",
        "plotlyServerURL": "https://plot.ly",
        "showLink": true
       },
       "data": [
        {
         "marker": {
          "color": "rgba(255, 153, 51, 0.6)",
          "line": {
           "color": "rgba(255, 153, 51, 1.0)",
           "width": 1
          }
         },
         "name": "None",
         "orientation": "v",
         "text": "",
         "type": "bar",
         "x": [
          "A",
          "B",
          "C",
          "D"
         ],
         "y": [
          100,
          100,
          100,
          100
         ]
        }
       ],
       "layout": {
        "legend": {
         "bgcolor": "#F5F6F9",
         "font": {
          "color": "#4D5663"
         }
        },
        "paper_bgcolor": "#F5F6F9",
        "plot_bgcolor": "#F5F6F9",
        "template": {
         "data": {
          "bar": [
           {
            "error_x": {
             "color": "#2a3f5f"
            },
            "error_y": {
             "color": "#2a3f5f"
            },
            "marker": {
             "line": {
              "color": "#E5ECF6",
              "width": 0.5
             }
            },
            "type": "bar"
           }
          ],
          "barpolar": [
           {
            "marker": {
             "line": {
              "color": "#E5ECF6",
              "width": 0.5
             }
            },
            "type": "barpolar"
           }
          ],
          "carpet": [
           {
            "aaxis": {
             "endlinecolor": "#2a3f5f",
             "gridcolor": "white",
             "linecolor": "white",
             "minorgridcolor": "white",
             "startlinecolor": "#2a3f5f"
            },
            "baxis": {
             "endlinecolor": "#2a3f5f",
             "gridcolor": "white",
             "linecolor": "white",
             "minorgridcolor": "white",
             "startlinecolor": "#2a3f5f"
            },
            "type": "carpet"
           }
          ],
          "choropleth": [
           {
            "colorbar": {
             "outlinewidth": 0,
             "ticks": ""
            },
            "type": "choropleth"
           }
          ],
          "contour": [
           {
            "colorbar": {
             "outlinewidth": 0,
             "ticks": ""
            },
            "colorscale": [
             [
              0,
              "#0d0887"
             ],
             [
              0.1111111111111111,
              "#46039f"
             ],
             [
              0.2222222222222222,
              "#7201a8"
             ],
             [
              0.3333333333333333,
              "#9c179e"
             ],
             [
              0.4444444444444444,
              "#bd3786"
             ],
             [
              0.5555555555555556,
              "#d8576b"
             ],
             [
              0.6666666666666666,
              "#ed7953"
             ],
             [
              0.7777777777777778,
              "#fb9f3a"
             ],
             [
              0.8888888888888888,
              "#fdca26"
             ],
             [
              1,
              "#f0f921"
             ]
            ],
            "type": "contour"
           }
          ],
          "contourcarpet": [
           {
            "colorbar": {
             "outlinewidth": 0,
             "ticks": ""
            },
            "type": "contourcarpet"
           }
          ],
          "heatmap": [
           {
            "colorbar": {
             "outlinewidth": 0,
             "ticks": ""
            },
            "colorscale": [
             [
              0,
              "#0d0887"
             ],
             [
              0.1111111111111111,
              "#46039f"
             ],
             [
              0.2222222222222222,
              "#7201a8"
             ],
             [
              0.3333333333333333,
              "#9c179e"
             ],
             [
              0.4444444444444444,
              "#bd3786"
             ],
             [
              0.5555555555555556,
              "#d8576b"
             ],
             [
              0.6666666666666666,
              "#ed7953"
             ],
             [
              0.7777777777777778,
              "#fb9f3a"
             ],
             [
              0.8888888888888888,
              "#fdca26"
             ],
             [
              1,
              "#f0f921"
             ]
            ],
            "type": "heatmap"
           }
          ],
          "heatmapgl": [
           {
            "colorbar": {
             "outlinewidth": 0,
             "ticks": ""
            },
            "colorscale": [
             [
              0,
              "#0d0887"
             ],
             [
              0.1111111111111111,
              "#46039f"
             ],
             [
              0.2222222222222222,
              "#7201a8"
             ],
             [
              0.3333333333333333,
              "#9c179e"
             ],
             [
              0.4444444444444444,
              "#bd3786"
             ],
             [
              0.5555555555555556,
              "#d8576b"
             ],
             [
              0.6666666666666666,
              "#ed7953"
             ],
             [
              0.7777777777777778,
              "#fb9f3a"
             ],
             [
              0.8888888888888888,
              "#fdca26"
             ],
             [
              1,
              "#f0f921"
             ]
            ],
            "type": "heatmapgl"
           }
          ],
          "histogram": [
           {
            "marker": {
             "colorbar": {
              "outlinewidth": 0,
              "ticks": ""
             }
            },
            "type": "histogram"
           }
          ],
          "histogram2d": [
           {
            "colorbar": {
             "outlinewidth": 0,
             "ticks": ""
            },
            "colorscale": [
             [
              0,
              "#0d0887"
             ],
             [
              0.1111111111111111,
              "#46039f"
             ],
             [
              0.2222222222222222,
              "#7201a8"
             ],
             [
              0.3333333333333333,
              "#9c179e"
             ],
             [
              0.4444444444444444,
              "#bd3786"
             ],
             [
              0.5555555555555556,
              "#d8576b"
             ],
             [
              0.6666666666666666,
              "#ed7953"
             ],
             [
              0.7777777777777778,
              "#fb9f3a"
             ],
             [
              0.8888888888888888,
              "#fdca26"
             ],
             [
              1,
              "#f0f921"
             ]
            ],
            "type": "histogram2d"
           }
          ],
          "histogram2dcontour": [
           {
            "colorbar": {
             "outlinewidth": 0,
             "ticks": ""
            },
            "colorscale": [
             [
              0,
              "#0d0887"
             ],
             [
              0.1111111111111111,
              "#46039f"
             ],
             [
              0.2222222222222222,
              "#7201a8"
             ],
             [
              0.3333333333333333,
              "#9c179e"
             ],
             [
              0.4444444444444444,
              "#bd3786"
             ],
             [
              0.5555555555555556,
              "#d8576b"
             ],
             [
              0.6666666666666666,
              "#ed7953"
             ],
             [
              0.7777777777777778,
              "#fb9f3a"
             ],
             [
              0.8888888888888888,
              "#fdca26"
             ],
             [
              1,
              "#f0f921"
             ]
            ],
            "type": "histogram2dcontour"
           }
          ],
          "mesh3d": [
           {
            "colorbar": {
             "outlinewidth": 0,
             "ticks": ""
            },
            "type": "mesh3d"
           }
          ],
          "parcoords": [
           {
            "line": {
             "colorbar": {
              "outlinewidth": 0,
              "ticks": ""
             }
            },
            "type": "parcoords"
           }
          ],
          "pie": [
           {
            "automargin": true,
            "type": "pie"
           }
          ],
          "scatter": [
           {
            "marker": {
             "colorbar": {
              "outlinewidth": 0,
              "ticks": ""
             }
            },
            "type": "scatter"
           }
          ],
          "scatter3d": [
           {
            "line": {
             "colorbar": {
              "outlinewidth": 0,
              "ticks": ""
             }
            },
            "marker": {
             "colorbar": {
              "outlinewidth": 0,
              "ticks": ""
             }
            },
            "type": "scatter3d"
           }
          ],
          "scattercarpet": [
           {
            "marker": {
             "colorbar": {
              "outlinewidth": 0,
              "ticks": ""
             }
            },
            "type": "scattercarpet"
           }
          ],
          "scattergeo": [
           {
            "marker": {
             "colorbar": {
              "outlinewidth": 0,
              "ticks": ""
             }
            },
            "type": "scattergeo"
           }
          ],
          "scattergl": [
           {
            "marker": {
             "colorbar": {
              "outlinewidth": 0,
              "ticks": ""
             }
            },
            "type": "scattergl"
           }
          ],
          "scattermapbox": [
           {
            "marker": {
             "colorbar": {
              "outlinewidth": 0,
              "ticks": ""
             }
            },
            "type": "scattermapbox"
           }
          ],
          "scatterpolar": [
           {
            "marker": {
             "colorbar": {
              "outlinewidth": 0,
              "ticks": ""
             }
            },
            "type": "scatterpolar"
           }
          ],
          "scatterpolargl": [
           {
            "marker": {
             "colorbar": {
              "outlinewidth": 0,
              "ticks": ""
             }
            },
            "type": "scatterpolargl"
           }
          ],
          "scatterternary": [
           {
            "marker": {
             "colorbar": {
              "outlinewidth": 0,
              "ticks": ""
             }
            },
            "type": "scatterternary"
           }
          ],
          "surface": [
           {
            "colorbar": {
             "outlinewidth": 0,
             "ticks": ""
            },
            "colorscale": [
             [
              0,
              "#0d0887"
             ],
             [
              0.1111111111111111,
              "#46039f"
             ],
             [
              0.2222222222222222,
              "#7201a8"
             ],
             [
              0.3333333333333333,
              "#9c179e"
             ],
             [
              0.4444444444444444,
              "#bd3786"
             ],
             [
              0.5555555555555556,
              "#d8576b"
             ],
             [
              0.6666666666666666,
              "#ed7953"
             ],
             [
              0.7777777777777778,
              "#fb9f3a"
             ],
             [
              0.8888888888888888,
              "#fdca26"
             ],
             [
              1,
              "#f0f921"
             ]
            ],
            "type": "surface"
           }
          ],
          "table": [
           {
            "cells": {
             "fill": {
              "color": "#EBF0F8"
             },
             "line": {
              "color": "white"
             }
            },
            "header": {
             "fill": {
              "color": "#C8D4E3"
             },
             "line": {
              "color": "white"
             }
            },
            "type": "table"
           }
          ]
         },
         "layout": {
          "annotationdefaults": {
           "arrowcolor": "#2a3f5f",
           "arrowhead": 0,
           "arrowwidth": 1
          },
          "coloraxis": {
           "colorbar": {
            "outlinewidth": 0,
            "ticks": ""
           }
          },
          "colorscale": {
           "diverging": [
            [
             0,
             "#8e0152"
            ],
            [
             0.1,
             "#c51b7d"
            ],
            [
             0.2,
             "#de77ae"
            ],
            [
             0.3,
             "#f1b6da"
            ],
            [
             0.4,
             "#fde0ef"
            ],
            [
             0.5,
             "#f7f7f7"
            ],
            [
             0.6,
             "#e6f5d0"
            ],
            [
             0.7,
             "#b8e186"
            ],
            [
             0.8,
             "#7fbc41"
            ],
            [
             0.9,
             "#4d9221"
            ],
            [
             1,
             "#276419"
            ]
           ],
           "sequential": [
            [
             0,
             "#0d0887"
            ],
            [
             0.1111111111111111,
             "#46039f"
            ],
            [
             0.2222222222222222,
             "#7201a8"
            ],
            [
             0.3333333333333333,
             "#9c179e"
            ],
            [
             0.4444444444444444,
             "#bd3786"
            ],
            [
             0.5555555555555556,
             "#d8576b"
            ],
            [
             0.6666666666666666,
             "#ed7953"
            ],
            [
             0.7777777777777778,
             "#fb9f3a"
            ],
            [
             0.8888888888888888,
             "#fdca26"
            ],
            [
             1,
             "#f0f921"
            ]
           ],
           "sequentialminus": [
            [
             0,
             "#0d0887"
            ],
            [
             0.1111111111111111,
             "#46039f"
            ],
            [
             0.2222222222222222,
             "#7201a8"
            ],
            [
             0.3333333333333333,
             "#9c179e"
            ],
            [
             0.4444444444444444,
             "#bd3786"
            ],
            [
             0.5555555555555556,
             "#d8576b"
            ],
            [
             0.6666666666666666,
             "#ed7953"
            ],
            [
             0.7777777777777778,
             "#fb9f3a"
            ],
            [
             0.8888888888888888,
             "#fdca26"
            ],
            [
             1,
             "#f0f921"
            ]
           ]
          },
          "colorway": [
           "#636efa",
           "#EF553B",
           "#00cc96",
           "#ab63fa",
           "#FFA15A",
           "#19d3f3",
           "#FF6692",
           "#B6E880",
           "#FF97FF",
           "#FECB52"
          ],
          "font": {
           "color": "#2a3f5f"
          },
          "geo": {
           "bgcolor": "white",
           "lakecolor": "white",
           "landcolor": "#E5ECF6",
           "showlakes": true,
           "showland": true,
           "subunitcolor": "white"
          },
          "hoverlabel": {
           "align": "left"
          },
          "hovermode": "closest",
          "mapbox": {
           "style": "light"
          },
          "paper_bgcolor": "white",
          "plot_bgcolor": "#E5ECF6",
          "polar": {
           "angularaxis": {
            "gridcolor": "white",
            "linecolor": "white",
            "ticks": ""
           },
           "bgcolor": "#E5ECF6",
           "radialaxis": {
            "gridcolor": "white",
            "linecolor": "white",
            "ticks": ""
           }
          },
          "scene": {
           "xaxis": {
            "backgroundcolor": "#E5ECF6",
            "gridcolor": "white",
            "gridwidth": 2,
            "linecolor": "white",
            "showbackground": true,
            "ticks": "",
            "zerolinecolor": "white"
           },
           "yaxis": {
            "backgroundcolor": "#E5ECF6",
            "gridcolor": "white",
            "gridwidth": 2,
            "linecolor": "white",
            "showbackground": true,
            "ticks": "",
            "zerolinecolor": "white"
           },
           "zaxis": {
            "backgroundcolor": "#E5ECF6",
            "gridcolor": "white",
            "gridwidth": 2,
            "linecolor": "white",
            "showbackground": true,
            "ticks": "",
            "zerolinecolor": "white"
           }
          },
          "shapedefaults": {
           "line": {
            "color": "#2a3f5f"
           }
          },
          "ternary": {
           "aaxis": {
            "gridcolor": "white",
            "linecolor": "white",
            "ticks": ""
           },
           "baxis": {
            "gridcolor": "white",
            "linecolor": "white",
            "ticks": ""
           },
           "bgcolor": "#E5ECF6",
           "caxis": {
            "gridcolor": "white",
            "linecolor": "white",
            "ticks": ""
           }
          },
          "title": {
           "x": 0.05
          },
          "xaxis": {
           "automargin": true,
           "gridcolor": "white",
           "linecolor": "white",
           "ticks": "",
           "title": {
            "standoff": 15
           },
           "zerolinecolor": "white",
           "zerolinewidth": 2
          },
          "yaxis": {
           "automargin": true,
           "gridcolor": "white",
           "linecolor": "white",
           "ticks": "",
           "title": {
            "standoff": 15
           },
           "zerolinecolor": "white",
           "zerolinewidth": 2
          }
         }
        },
        "title": {
         "font": {
          "color": "#4D5663"
         }
        },
        "xaxis": {
         "gridcolor": "#E1E5ED",
         "showgrid": true,
         "tickfont": {
          "color": "#4D5663"
         },
         "title": {
          "font": {
           "color": "#4D5663"
          },
          "text": ""
         },
         "zerolinecolor": "#E1E5ED"
        },
        "yaxis": {
         "gridcolor": "#E1E5ED",
         "showgrid": true,
         "tickfont": {
          "color": "#4D5663"
         },
         "title": {
          "font": {
           "color": "#4D5663"
          },
          "text": ""
         },
         "zerolinecolor": "#E1E5ED"
        }
       }
      },
      "text/html": [
       "<div>\n",
       "        \n",
       "        \n",
       "            <div id=\"717ff1c0-906c-4809-bcde-877964f57756\" class=\"plotly-graph-div\" style=\"height:525px; width:100%;\"></div>\n",
       "            <script type=\"text/javascript\">\n",
       "                require([\"plotly\"], function(Plotly) {\n",
       "                    window.PLOTLYENV=window.PLOTLYENV || {};\n",
       "                    window.PLOTLYENV.BASE_URL='https://plot.ly';\n",
       "                    \n",
       "                if (document.getElementById(\"717ff1c0-906c-4809-bcde-877964f57756\")) {\n",
       "                    Plotly.newPlot(\n",
       "                        '717ff1c0-906c-4809-bcde-877964f57756',\n",
       "                        [{\"marker\": {\"color\": \"rgba(255, 153, 51, 0.6)\", \"line\": {\"color\": \"rgba(255, 153, 51, 1.0)\", \"width\": 1}}, \"name\": \"None\", \"orientation\": \"v\", \"text\": \"\", \"type\": \"bar\", \"x\": [\"A\", \"B\", \"C\", \"D\"], \"y\": [100, 100, 100, 100]}],\n",
       "                        {\"legend\": {\"bgcolor\": \"#F5F6F9\", \"font\": {\"color\": \"#4D5663\"}}, \"paper_bgcolor\": \"#F5F6F9\", \"plot_bgcolor\": \"#F5F6F9\", \"template\": {\"data\": {\"bar\": [{\"error_x\": {\"color\": \"#2a3f5f\"}, \"error_y\": {\"color\": \"#2a3f5f\"}, \"marker\": {\"line\": {\"color\": \"#E5ECF6\", \"width\": 0.5}}, \"type\": \"bar\"}], \"barpolar\": [{\"marker\": {\"line\": {\"color\": \"#E5ECF6\", \"width\": 0.5}}, \"type\": \"barpolar\"}], \"carpet\": [{\"aaxis\": {\"endlinecolor\": \"#2a3f5f\", \"gridcolor\": \"white\", \"linecolor\": \"white\", \"minorgridcolor\": \"white\", \"startlinecolor\": \"#2a3f5f\"}, \"baxis\": {\"endlinecolor\": \"#2a3f5f\", \"gridcolor\": \"white\", \"linecolor\": \"white\", \"minorgridcolor\": \"white\", \"startlinecolor\": \"#2a3f5f\"}, \"type\": \"carpet\"}], \"choropleth\": [{\"colorbar\": {\"outlinewidth\": 0, \"ticks\": \"\"}, \"type\": \"choropleth\"}], \"contour\": [{\"colorbar\": {\"outlinewidth\": 0, \"ticks\": \"\"}, \"colorscale\": [[0.0, \"#0d0887\"], [0.1111111111111111, \"#46039f\"], [0.2222222222222222, \"#7201a8\"], [0.3333333333333333, \"#9c179e\"], [0.4444444444444444, \"#bd3786\"], [0.5555555555555556, \"#d8576b\"], [0.6666666666666666, \"#ed7953\"], [0.7777777777777778, \"#fb9f3a\"], [0.8888888888888888, \"#fdca26\"], [1.0, \"#f0f921\"]], \"type\": \"contour\"}], \"contourcarpet\": [{\"colorbar\": {\"outlinewidth\": 0, \"ticks\": \"\"}, \"type\": \"contourcarpet\"}], \"heatmap\": [{\"colorbar\": {\"outlinewidth\": 0, \"ticks\": \"\"}, \"colorscale\": [[0.0, \"#0d0887\"], [0.1111111111111111, \"#46039f\"], [0.2222222222222222, \"#7201a8\"], [0.3333333333333333, \"#9c179e\"], [0.4444444444444444, \"#bd3786\"], [0.5555555555555556, \"#d8576b\"], [0.6666666666666666, \"#ed7953\"], [0.7777777777777778, \"#fb9f3a\"], [0.8888888888888888, \"#fdca26\"], [1.0, \"#f0f921\"]], \"type\": \"heatmap\"}], \"heatmapgl\": [{\"colorbar\": {\"outlinewidth\": 0, \"ticks\": \"\"}, \"colorscale\": [[0.0, \"#0d0887\"], [0.1111111111111111, \"#46039f\"], [0.2222222222222222, \"#7201a8\"], [0.3333333333333333, \"#9c179e\"], [0.4444444444444444, \"#bd3786\"], [0.5555555555555556, \"#d8576b\"], [0.6666666666666666, \"#ed7953\"], [0.7777777777777778, \"#fb9f3a\"], [0.8888888888888888, \"#fdca26\"], [1.0, \"#f0f921\"]], \"type\": \"heatmapgl\"}], \"histogram\": [{\"marker\": {\"colorbar\": {\"outlinewidth\": 0, \"ticks\": \"\"}}, \"type\": \"histogram\"}], \"histogram2d\": [{\"colorbar\": {\"outlinewidth\": 0, \"ticks\": \"\"}, \"colorscale\": [[0.0, \"#0d0887\"], [0.1111111111111111, \"#46039f\"], [0.2222222222222222, \"#7201a8\"], [0.3333333333333333, \"#9c179e\"], [0.4444444444444444, \"#bd3786\"], [0.5555555555555556, \"#d8576b\"], [0.6666666666666666, \"#ed7953\"], [0.7777777777777778, \"#fb9f3a\"], [0.8888888888888888, \"#fdca26\"], [1.0, \"#f0f921\"]], \"type\": \"histogram2d\"}], \"histogram2dcontour\": [{\"colorbar\": {\"outlinewidth\": 0, \"ticks\": \"\"}, \"colorscale\": [[0.0, \"#0d0887\"], [0.1111111111111111, \"#46039f\"], [0.2222222222222222, \"#7201a8\"], [0.3333333333333333, \"#9c179e\"], [0.4444444444444444, \"#bd3786\"], [0.5555555555555556, \"#d8576b\"], [0.6666666666666666, \"#ed7953\"], [0.7777777777777778, \"#fb9f3a\"], [0.8888888888888888, \"#fdca26\"], [1.0, \"#f0f921\"]], \"type\": \"histogram2dcontour\"}], \"mesh3d\": [{\"colorbar\": {\"outlinewidth\": 0, \"ticks\": \"\"}, \"type\": \"mesh3d\"}], \"parcoords\": [{\"line\": {\"colorbar\": {\"outlinewidth\": 0, \"ticks\": \"\"}}, \"type\": \"parcoords\"}], \"pie\": [{\"automargin\": true, \"type\": \"pie\"}], \"scatter\": [{\"marker\": {\"colorbar\": {\"outlinewidth\": 0, \"ticks\": \"\"}}, \"type\": \"scatter\"}], \"scatter3d\": [{\"line\": {\"colorbar\": {\"outlinewidth\": 0, \"ticks\": \"\"}}, \"marker\": {\"colorbar\": {\"outlinewidth\": 0, \"ticks\": \"\"}}, \"type\": \"scatter3d\"}], \"scattercarpet\": [{\"marker\": {\"colorbar\": {\"outlinewidth\": 0, \"ticks\": \"\"}}, \"type\": \"scattercarpet\"}], \"scattergeo\": [{\"marker\": {\"colorbar\": {\"outlinewidth\": 0, \"ticks\": \"\"}}, \"type\": \"scattergeo\"}], \"scattergl\": [{\"marker\": {\"colorbar\": {\"outlinewidth\": 0, \"ticks\": \"\"}}, \"type\": \"scattergl\"}], \"scattermapbox\": [{\"marker\": {\"colorbar\": {\"outlinewidth\": 0, \"ticks\": \"\"}}, \"type\": \"scattermapbox\"}], \"scatterpolar\": [{\"marker\": {\"colorbar\": {\"outlinewidth\": 0, \"ticks\": \"\"}}, \"type\": \"scatterpolar\"}], \"scatterpolargl\": [{\"marker\": {\"colorbar\": {\"outlinewidth\": 0, \"ticks\": \"\"}}, \"type\": \"scatterpolargl\"}], \"scatterternary\": [{\"marker\": {\"colorbar\": {\"outlinewidth\": 0, \"ticks\": \"\"}}, \"type\": \"scatterternary\"}], \"surface\": [{\"colorbar\": {\"outlinewidth\": 0, \"ticks\": \"\"}, \"colorscale\": [[0.0, \"#0d0887\"], [0.1111111111111111, \"#46039f\"], [0.2222222222222222, \"#7201a8\"], [0.3333333333333333, \"#9c179e\"], [0.4444444444444444, \"#bd3786\"], [0.5555555555555556, \"#d8576b\"], [0.6666666666666666, \"#ed7953\"], [0.7777777777777778, \"#fb9f3a\"], [0.8888888888888888, \"#fdca26\"], [1.0, \"#f0f921\"]], \"type\": \"surface\"}], \"table\": [{\"cells\": {\"fill\": {\"color\": \"#EBF0F8\"}, \"line\": {\"color\": \"white\"}}, \"header\": {\"fill\": {\"color\": \"#C8D4E3\"}, \"line\": {\"color\": \"white\"}}, \"type\": \"table\"}]}, \"layout\": {\"annotationdefaults\": {\"arrowcolor\": \"#2a3f5f\", \"arrowhead\": 0, \"arrowwidth\": 1}, \"coloraxis\": {\"colorbar\": {\"outlinewidth\": 0, \"ticks\": \"\"}}, \"colorscale\": {\"diverging\": [[0, \"#8e0152\"], [0.1, \"#c51b7d\"], [0.2, \"#de77ae\"], [0.3, \"#f1b6da\"], [0.4, \"#fde0ef\"], [0.5, \"#f7f7f7\"], [0.6, \"#e6f5d0\"], [0.7, \"#b8e186\"], [0.8, \"#7fbc41\"], [0.9, \"#4d9221\"], [1, \"#276419\"]], \"sequential\": [[0.0, \"#0d0887\"], [0.1111111111111111, \"#46039f\"], [0.2222222222222222, \"#7201a8\"], [0.3333333333333333, \"#9c179e\"], [0.4444444444444444, \"#bd3786\"], [0.5555555555555556, \"#d8576b\"], [0.6666666666666666, \"#ed7953\"], [0.7777777777777778, \"#fb9f3a\"], [0.8888888888888888, \"#fdca26\"], [1.0, \"#f0f921\"]], \"sequentialminus\": [[0.0, \"#0d0887\"], [0.1111111111111111, \"#46039f\"], [0.2222222222222222, \"#7201a8\"], [0.3333333333333333, \"#9c179e\"], [0.4444444444444444, \"#bd3786\"], [0.5555555555555556, \"#d8576b\"], [0.6666666666666666, \"#ed7953\"], [0.7777777777777778, \"#fb9f3a\"], [0.8888888888888888, \"#fdca26\"], [1.0, \"#f0f921\"]]}, \"colorway\": [\"#636efa\", \"#EF553B\", \"#00cc96\", \"#ab63fa\", \"#FFA15A\", \"#19d3f3\", \"#FF6692\", \"#B6E880\", \"#FF97FF\", \"#FECB52\"], \"font\": {\"color\": \"#2a3f5f\"}, \"geo\": {\"bgcolor\": \"white\", \"lakecolor\": \"white\", \"landcolor\": \"#E5ECF6\", \"showlakes\": true, \"showland\": true, \"subunitcolor\": \"white\"}, \"hoverlabel\": {\"align\": \"left\"}, \"hovermode\": \"closest\", \"mapbox\": {\"style\": \"light\"}, \"paper_bgcolor\": \"white\", \"plot_bgcolor\": \"#E5ECF6\", \"polar\": {\"angularaxis\": {\"gridcolor\": \"white\", \"linecolor\": \"white\", \"ticks\": \"\"}, \"bgcolor\": \"#E5ECF6\", \"radialaxis\": {\"gridcolor\": \"white\", \"linecolor\": \"white\", \"ticks\": \"\"}}, \"scene\": {\"xaxis\": {\"backgroundcolor\": \"#E5ECF6\", \"gridcolor\": \"white\", \"gridwidth\": 2, \"linecolor\": \"white\", \"showbackground\": true, \"ticks\": \"\", \"zerolinecolor\": \"white\"}, \"yaxis\": {\"backgroundcolor\": \"#E5ECF6\", \"gridcolor\": \"white\", \"gridwidth\": 2, \"linecolor\": \"white\", \"showbackground\": true, \"ticks\": \"\", \"zerolinecolor\": \"white\"}, \"zaxis\": {\"backgroundcolor\": \"#E5ECF6\", \"gridcolor\": \"white\", \"gridwidth\": 2, \"linecolor\": \"white\", \"showbackground\": true, \"ticks\": \"\", \"zerolinecolor\": \"white\"}}, \"shapedefaults\": {\"line\": {\"color\": \"#2a3f5f\"}}, \"ternary\": {\"aaxis\": {\"gridcolor\": \"white\", \"linecolor\": \"white\", \"ticks\": \"\"}, \"baxis\": {\"gridcolor\": \"white\", \"linecolor\": \"white\", \"ticks\": \"\"}, \"bgcolor\": \"#E5ECF6\", \"caxis\": {\"gridcolor\": \"white\", \"linecolor\": \"white\", \"ticks\": \"\"}}, \"title\": {\"x\": 0.05}, \"xaxis\": {\"automargin\": true, \"gridcolor\": \"white\", \"linecolor\": \"white\", \"ticks\": \"\", \"title\": {\"standoff\": 15}, \"zerolinecolor\": \"white\", \"zerolinewidth\": 2}, \"yaxis\": {\"automargin\": true, \"gridcolor\": \"white\", \"linecolor\": \"white\", \"ticks\": \"\", \"title\": {\"standoff\": 15}, \"zerolinecolor\": \"white\", \"zerolinewidth\": 2}}}, \"title\": {\"font\": {\"color\": \"#4D5663\"}}, \"xaxis\": {\"gridcolor\": \"#E1E5ED\", \"showgrid\": true, \"tickfont\": {\"color\": \"#4D5663\"}, \"title\": {\"font\": {\"color\": \"#4D5663\"}, \"text\": \"\"}, \"zerolinecolor\": \"#E1E5ED\"}, \"yaxis\": {\"gridcolor\": \"#E1E5ED\", \"showgrid\": true, \"tickfont\": {\"color\": \"#4D5663\"}, \"title\": {\"font\": {\"color\": \"#4D5663\"}, \"text\": \"\"}, \"zerolinecolor\": \"#E1E5ED\"}},\n",
       "                        {\"showLink\": true, \"linkText\": \"Export to plot.ly\", \"plotlyServerURL\": \"https://plot.ly\", \"responsive\": true}\n",
       "                    ).then(function(){\n",
       "                            \n",
       "var gd = document.getElementById('717ff1c0-906c-4809-bcde-877964f57756');\n",
       "var x = new MutationObserver(function (mutations, observer) {{\n",
       "        var display = window.getComputedStyle(gd).display;\n",
       "        if (!display || display === 'none') {{\n",
       "            console.log([gd, 'removed!']);\n",
       "            Plotly.purge(gd);\n",
       "            observer.disconnect();\n",
       "        }}\n",
       "}});\n",
       "\n",
       "// Listen for the removal of the full notebook cells\n",
       "var notebookContainer = gd.closest('#notebook-container');\n",
       "if (notebookContainer) {{\n",
       "    x.observe(notebookContainer, {childList: true});\n",
       "}}\n",
       "\n",
       "// Listen for the clearing of the current output cell\n",
       "var outputEl = gd.closest('.output');\n",
       "if (outputEl) {{\n",
       "    x.observe(outputEl, {childList: true});\n",
       "}}\n",
       "\n",
       "                        })\n",
       "                };\n",
       "                });\n",
       "            </script>\n",
       "        </div>"
      ]
     },
     "metadata": {},
     "output_type": "display_data"
    }
   ],
   "source": [
    "df.count().iplot(kind='bar')"
   ]
  },
  {
   "cell_type": "code",
   "execution_count": 28,
   "metadata": {},
   "outputs": [
    {
     "data": {
      "application/vnd.plotly.v1+json": {
       "config": {
        "linkText": "Export to plot.ly",
        "plotlyServerURL": "https://plot.ly",
        "showLink": true
       },
       "data": [
        {
         "boxpoints": false,
         "line": {
          "width": 1.3
         },
         "marker": {
          "color": "rgba(255, 153, 51, 1.0)"
         },
         "name": "A",
         "orientation": "v",
         "type": "box",
         "y": [
          0.3464195938218623,
          1.2191331189779477,
          -1.566198556307964,
          0.46573085450095364,
          -0.15261785777811135,
          -0.8028457730946738,
          -1.2939789962191617,
          -0.6418087219226248,
          1.9109107394573086,
          -0.7984950981964833,
          0.37572064407586353,
          0.10804546809227975,
          -0.2955939166246089,
          0.6668013724677774,
          1.606777904150411,
          0.18473563502452545,
          -0.21514032491554505,
          -0.2776151300214792,
          0.8398510702601665,
          -0.17787273295740644,
          1.8394677466697062,
          -0.6830318073232281,
          1.1910043748570203,
          -0.06296070100823661,
          0.3893011193237392,
          -0.5418276224573682,
          0.1456421026340764,
          1.3478116660010542,
          1.3398140902363653,
          0.17909770396651062,
          -0.7347774212014662,
          -0.664509282045416,
          1.9958932346583351,
          0.06464239428800038,
          -0.17331233101528445,
          -1.5199911226136043,
          -0.011764777467682862,
          -0.22961655060029354,
          0.8344144539000332,
          -0.6252542380202118,
          -0.35722719110995915,
          1.4681106315488035,
          -0.972833984774363,
          -1.3185876357784978,
          0.8369173852064116,
          -0.7203822787149038,
          0.5391211086088187,
          0.40930127362148827,
          1.3305953798884078,
          0.7875773751444973,
          0.24411739461868534,
          -0.08843505642188325,
          0.268342155604911,
          0.053365885727759556,
          -0.027406353957162198,
          -0.542478529849032,
          0.6176151365107044,
          -0.18176398391036097,
          -0.2045336720258062,
          0.32644055801113225,
          0.5569115331629004,
          0.4709120552818683,
          -0.5511771984791615,
          0.38672288804052146,
          0.49369878628381486,
          0.8742747551276879,
          -0.7728036843643227,
          -0.5316316557408409,
          -0.019359629269128015,
          -0.43540839748513804,
          2.193864246093326,
          0.7071061333240987,
          -0.6738965948167931,
          2.3946971136177124,
          1.2529062193552296,
          1.0214426121109126,
          -0.18054114299205762,
          -1.848921966805281,
          1.3846982722939123,
          0.37389409884423136,
          -0.5518891745455325,
          -0.812964815588062,
          -0.1445860029165156,
          0.5976439474074358,
          -0.031143888839414168,
          1.288640608161686,
          -1.3760544674922424,
          0.9963133082520479,
          0.9751556082817852,
          -0.07231954115489966,
          -0.36525133427411105,
          0.8539810900777741,
          -0.5593653152080624,
          1.6784765782994218,
          1.49764233252627,
          -0.8623001565375716,
          -0.7415847178841932,
          1.1902930047966387,
          0.5729387527499807,
          -0.2143483560074946
         ]
        },
        {
         "boxpoints": false,
         "line": {
          "width": 1.3
         },
         "marker": {
          "color": "rgba(55, 128, 191, 1.0)"
         },
         "name": "B",
         "orientation": "v",
         "type": "box",
         "y": [
          -0.020590181209793654,
          0.5423503125602855,
          -0.8787354341663304,
          -0.4895306549248174,
          -0.48541537247821465,
          -1.1581842623847438,
          -0.2769367387336216,
          0.03311436155705231,
          1.6024816506045834,
          1.0831480858882039,
          -1.0072890793929596,
          1.6632133708190122,
          -0.10794673509633486,
          0.45432131136859577,
          -0.22565078146614284,
          0.45507286942503267,
          0.17974586396275005,
          -2.0175017586254036,
          1.2707085867867112,
          0.8107153806972188,
          1.3683894902998583,
          0.6721722990716655,
          -1.3053183578006817,
          0.5690108539109617,
          1.0528361089049871,
          -0.9946211425344996,
          0.13209780322860354,
          0.5975237600550157,
          -0.3990103367235594,
          0.8544023703785645,
          -0.3652754198522442,
          -0.9394329209739792,
          -1.8247763232964613,
          1.387400472070589,
          -0.6172006358456033,
          0.28514310772208395,
          -0.9194137609477232,
          -1.0945907934466066,
          -0.01812635633048244,
          -0.42870107832880905,
          -0.14583236585484136,
          -1.9112885076025667,
          -0.6064194759449073,
          -0.5831693992001507,
          -0.9885022195286823,
          -1.319588708902828,
          0.16146923595796253,
          -0.28246046695644217,
          -0.7714040710560138,
          0.5847383075181828,
          0.19107611317750492,
          -0.6526040938222579,
          0.5699402612438804,
          -0.9911031656265455,
          1.6493934330272855,
          1.9039049563987207,
          1.218355914745771,
          -0.494984884549906,
          0.11678360950276127,
          -1.2146187590914483,
          -1.1476654603988559,
          -0.6451013537990224,
          -0.9089642937379179,
          -0.3107932934346349,
          0.1431930390443773,
          0.49590287215018686,
          0.4685352804531265,
          0.10806855993380053,
          0.986890513730406,
          0.7865424288418571,
          -1.2351640606494476,
          -2.02351966824216,
          -1.370146862511068,
          -1.3253039883938387,
          -1.184340482150768,
          -0.5064055507257907,
          -3.1134408477432705,
          -1.3748114148134778,
          0.9623455167657223,
          0.15572759045814794,
          0.019438510421546488,
          -0.756212056642985,
          1.0393078996740457,
          1.283603086621441,
          0.013246115306398687,
          0.07988076305174152,
          1.7490019784053388,
          -0.9381427033010681,
          -0.7346416378276212,
          1.6403942432066971,
          -0.3292907770726725,
          0.6890521545829256,
          -1.1228315951030374,
          -0.25605505749699964,
          -0.16944549777624168,
          1.46716671061314,
          -0.18662380589638208,
          -1.7553469955013234,
          -0.1186070548456802,
          1.3868762776821497
         ]
        },
        {
         "boxpoints": false,
         "line": {
          "width": 1.3
         },
         "marker": {
          "color": "rgba(50, 171, 96, 1.0)"
         },
         "name": "C",
         "orientation": "v",
         "type": "box",
         "y": [
          0.14358159005220242,
          0.2920812719560736,
          0.4034545189350478,
          1.1846433872331292,
          0.319242774725028,
          -1.0378007174169739,
          0.8566005112545779,
          1.230587387035751,
          -0.6904449421321213,
          0.5977777507201271,
          -0.2957408276879956,
          -1.2495092936375563,
          1.6656398714796146,
          -0.3446167923977057,
          -1.254503270950624,
          -1.1388161689544005,
          -0.1717411579167247,
          1.337329782119376,
          -1.6571968313842216,
          0.395304398552172,
          0.3331717998492536,
          1.027506271028855,
          1.6474630147154348,
          0.3976627652729076,
          0.407886600933332,
          -0.5530433271104201,
          1.0332177544732484,
          0.86768325022945,
          -0.3279844909807892,
          0.3341765602344462,
          -1.3314901096554927,
          0.09517340058130781,
          0.414233914581945,
          0.008258261866098746,
          -1.2358266866438095,
          -0.051510801020062245,
          -1.1018971303963652,
          -0.015386259776738126,
          -1.2133402799715634,
          0.7238599629917095,
          -0.39130890290694187,
          0.4279914942549863,
          -0.20925301904311044,
          -0.07715446690954722,
          -0.5219958922492965,
          0.5971498071391562,
          -0.5679311029386973,
          -0.6379609701710316,
          -0.008311692620811812,
          -1.3357400359256055,
          0.36352824933081623,
          -1.0139147273562739,
          -0.8276356994707972,
          -1.0139657015110843,
          0.9348172455435725,
          0.7346190521865691,
          0.32389401870404105,
          0.3890011873245929,
          0.5842398951563093,
          -0.025820761777430607,
          -0.6520353470200743,
          -0.1957954163288069,
          -0.8525926967078836,
          0.24534399615516964,
          0.6447632757277592,
          0.2444416159774107,
          0.6885672298514097,
          0.14182452610579782,
          -0.8383124174831217,
          -0.5256271659891929,
          0.7474320776428933,
          0.5498407131196493,
          0.4326392632653981,
          -1.0041028281208184,
          -0.023836964615872768,
          -0.5842708332074602,
          -1.3655332884624836,
          -0.7016652237620963,
          -0.2544652796566522,
          -0.9696356130351645,
          -0.16816395858146188,
          0.12710783669496098,
          -0.8217755283837832,
          0.7570671870362776,
          2.5475431730589433,
          -0.2276466929232567,
          0.4669050820081747,
          0.3904063276011235,
          0.6397549748807329,
          1.2479494093044476,
          -0.3393342010587006,
          0.02345841570658886,
          -0.5581521817674187,
          0.07108629812707043,
          0.13841439096535338,
          -0.3076131842355114,
          -0.44813213779990757,
          -0.7341619613796643,
          -1.0667492318297769,
          0.7541483808510677
         ]
        },
        {
         "boxpoints": false,
         "line": {
          "width": 1.3
         },
         "marker": {
          "color": "rgba(128, 0, 128, 1.0)"
         },
         "name": "D",
         "orientation": "v",
         "type": "box",
         "y": [
          -1.1118640049651034,
          0.1491406043116301,
          -1.2221106374241755,
          -1.6875795839754855,
          -0.7558177324260064,
          -1.6337871211050123,
          0.22261233323591775,
          0.7915733560199928,
          1.6896287071492586,
          -0.1975697108903575,
          -1.8948362657753854,
          -0.2541235158529231,
          0.03661794809435186,
          0.7548769352154293,
          0.42547738622571923,
          0.46165798801264835,
          0.007295368926671065,
          0.891055630096048,
          0.24386729392890943,
          0.8307255191948365,
          0.35626459418787493,
          2.1578145958004145,
          -2.058911680464687,
          -0.27284665675569436,
          -0.15770271572799424,
          1.5033000533442646,
          -0.7496941979711484,
          0.8514411005089376,
          -0.3916152705357473,
          0.22689570064360143,
          -0.2197162949623533,
          -0.16579621986256468,
          1.7299343666421136,
          1.253065148652142,
          1.210314349675132,
          -0.44295688764545177,
          0.7521680139399465,
          -0.2674260111881133,
          1.7902607882569215,
          -1.2912637225126222,
          1.1762596418399858,
          0.3680637408772415,
          1.1759519499772664,
          -0.2752043603187563,
          0.1024792184516914,
          -0.5941545257254696,
          0.9489352620540739,
          -1.062895402760241,
          -1.0567115215569716,
          -2.3587912906105832,
          2.9653750929051372,
          -0.27421247498910417,
          -0.328514053729911,
          0.5734230922653505,
          -0.0607092670338549,
          1.1704828032581003,
          1.354998594411703,
          -0.6567767998847259,
          -0.10265296524401771,
          -0.27134167423686395,
          1.5412502872780447,
          0.5781757038302135,
          1.2224550744752862,
          -0.08639304752669724,
          0.9262617313935608,
          0.22324901110438788,
          -1.7744853454310123,
          1.1817122408866545,
          -0.5286257010564885,
          -2.7180104539156384,
          -1.0045558820687108,
          -1.1008071985316823,
          0.4275954953925082,
          -0.32492381688521127,
          -1.0280063715123986,
          0.23787612180794981,
          0.18686310544658025,
          -0.3497955317388221,
          -0.09738618475432757,
          -1.2290276943037652,
          0.5875304076931959,
          0.8814182541543529,
          -0.6781089026484597,
          -0.7373594071213471,
          1.115607766095368,
          0.12888807541459482,
          -0.8158561577836921,
          -0.5940310396993876,
          -0.5291881868373929,
          -0.5751787198636337,
          0.5108329935769008,
          1.2067401728845797,
          -1.4220280600408528,
          -0.24726913124166838,
          -0.14727165533210312,
          0.4513601251105589,
          0.7331496085916595,
          0.8068582051299986,
          0.8857024956321218,
          -0.3926293025656279
         ]
        }
       ],
       "layout": {
        "legend": {
         "bgcolor": "#F5F6F9",
         "font": {
          "color": "#4D5663"
         }
        },
        "paper_bgcolor": "#F5F6F9",
        "plot_bgcolor": "#F5F6F9",
        "template": {
         "data": {
          "bar": [
           {
            "error_x": {
             "color": "#2a3f5f"
            },
            "error_y": {
             "color": "#2a3f5f"
            },
            "marker": {
             "line": {
              "color": "#E5ECF6",
              "width": 0.5
             }
            },
            "type": "bar"
           }
          ],
          "barpolar": [
           {
            "marker": {
             "line": {
              "color": "#E5ECF6",
              "width": 0.5
             }
            },
            "type": "barpolar"
           }
          ],
          "carpet": [
           {
            "aaxis": {
             "endlinecolor": "#2a3f5f",
             "gridcolor": "white",
             "linecolor": "white",
             "minorgridcolor": "white",
             "startlinecolor": "#2a3f5f"
            },
            "baxis": {
             "endlinecolor": "#2a3f5f",
             "gridcolor": "white",
             "linecolor": "white",
             "minorgridcolor": "white",
             "startlinecolor": "#2a3f5f"
            },
            "type": "carpet"
           }
          ],
          "choropleth": [
           {
            "colorbar": {
             "outlinewidth": 0,
             "ticks": ""
            },
            "type": "choropleth"
           }
          ],
          "contour": [
           {
            "colorbar": {
             "outlinewidth": 0,
             "ticks": ""
            },
            "colorscale": [
             [
              0,
              "#0d0887"
             ],
             [
              0.1111111111111111,
              "#46039f"
             ],
             [
              0.2222222222222222,
              "#7201a8"
             ],
             [
              0.3333333333333333,
              "#9c179e"
             ],
             [
              0.4444444444444444,
              "#bd3786"
             ],
             [
              0.5555555555555556,
              "#d8576b"
             ],
             [
              0.6666666666666666,
              "#ed7953"
             ],
             [
              0.7777777777777778,
              "#fb9f3a"
             ],
             [
              0.8888888888888888,
              "#fdca26"
             ],
             [
              1,
              "#f0f921"
             ]
            ],
            "type": "contour"
           }
          ],
          "contourcarpet": [
           {
            "colorbar": {
             "outlinewidth": 0,
             "ticks": ""
            },
            "type": "contourcarpet"
           }
          ],
          "heatmap": [
           {
            "colorbar": {
             "outlinewidth": 0,
             "ticks": ""
            },
            "colorscale": [
             [
              0,
              "#0d0887"
             ],
             [
              0.1111111111111111,
              "#46039f"
             ],
             [
              0.2222222222222222,
              "#7201a8"
             ],
             [
              0.3333333333333333,
              "#9c179e"
             ],
             [
              0.4444444444444444,
              "#bd3786"
             ],
             [
              0.5555555555555556,
              "#d8576b"
             ],
             [
              0.6666666666666666,
              "#ed7953"
             ],
             [
              0.7777777777777778,
              "#fb9f3a"
             ],
             [
              0.8888888888888888,
              "#fdca26"
             ],
             [
              1,
              "#f0f921"
             ]
            ],
            "type": "heatmap"
           }
          ],
          "heatmapgl": [
           {
            "colorbar": {
             "outlinewidth": 0,
             "ticks": ""
            },
            "colorscale": [
             [
              0,
              "#0d0887"
             ],
             [
              0.1111111111111111,
              "#46039f"
             ],
             [
              0.2222222222222222,
              "#7201a8"
             ],
             [
              0.3333333333333333,
              "#9c179e"
             ],
             [
              0.4444444444444444,
              "#bd3786"
             ],
             [
              0.5555555555555556,
              "#d8576b"
             ],
             [
              0.6666666666666666,
              "#ed7953"
             ],
             [
              0.7777777777777778,
              "#fb9f3a"
             ],
             [
              0.8888888888888888,
              "#fdca26"
             ],
             [
              1,
              "#f0f921"
             ]
            ],
            "type": "heatmapgl"
           }
          ],
          "histogram": [
           {
            "marker": {
             "colorbar": {
              "outlinewidth": 0,
              "ticks": ""
             }
            },
            "type": "histogram"
           }
          ],
          "histogram2d": [
           {
            "colorbar": {
             "outlinewidth": 0,
             "ticks": ""
            },
            "colorscale": [
             [
              0,
              "#0d0887"
             ],
             [
              0.1111111111111111,
              "#46039f"
             ],
             [
              0.2222222222222222,
              "#7201a8"
             ],
             [
              0.3333333333333333,
              "#9c179e"
             ],
             [
              0.4444444444444444,
              "#bd3786"
             ],
             [
              0.5555555555555556,
              "#d8576b"
             ],
             [
              0.6666666666666666,
              "#ed7953"
             ],
             [
              0.7777777777777778,
              "#fb9f3a"
             ],
             [
              0.8888888888888888,
              "#fdca26"
             ],
             [
              1,
              "#f0f921"
             ]
            ],
            "type": "histogram2d"
           }
          ],
          "histogram2dcontour": [
           {
            "colorbar": {
             "outlinewidth": 0,
             "ticks": ""
            },
            "colorscale": [
             [
              0,
              "#0d0887"
             ],
             [
              0.1111111111111111,
              "#46039f"
             ],
             [
              0.2222222222222222,
              "#7201a8"
             ],
             [
              0.3333333333333333,
              "#9c179e"
             ],
             [
              0.4444444444444444,
              "#bd3786"
             ],
             [
              0.5555555555555556,
              "#d8576b"
             ],
             [
              0.6666666666666666,
              "#ed7953"
             ],
             [
              0.7777777777777778,
              "#fb9f3a"
             ],
             [
              0.8888888888888888,
              "#fdca26"
             ],
             [
              1,
              "#f0f921"
             ]
            ],
            "type": "histogram2dcontour"
           }
          ],
          "mesh3d": [
           {
            "colorbar": {
             "outlinewidth": 0,
             "ticks": ""
            },
            "type": "mesh3d"
           }
          ],
          "parcoords": [
           {
            "line": {
             "colorbar": {
              "outlinewidth": 0,
              "ticks": ""
             }
            },
            "type": "parcoords"
           }
          ],
          "pie": [
           {
            "automargin": true,
            "type": "pie"
           }
          ],
          "scatter": [
           {
            "marker": {
             "colorbar": {
              "outlinewidth": 0,
              "ticks": ""
             }
            },
            "type": "scatter"
           }
          ],
          "scatter3d": [
           {
            "line": {
             "colorbar": {
              "outlinewidth": 0,
              "ticks": ""
             }
            },
            "marker": {
             "colorbar": {
              "outlinewidth": 0,
              "ticks": ""
             }
            },
            "type": "scatter3d"
           }
          ],
          "scattercarpet": [
           {
            "marker": {
             "colorbar": {
              "outlinewidth": 0,
              "ticks": ""
             }
            },
            "type": "scattercarpet"
           }
          ],
          "scattergeo": [
           {
            "marker": {
             "colorbar": {
              "outlinewidth": 0,
              "ticks": ""
             }
            },
            "type": "scattergeo"
           }
          ],
          "scattergl": [
           {
            "marker": {
             "colorbar": {
              "outlinewidth": 0,
              "ticks": ""
             }
            },
            "type": "scattergl"
           }
          ],
          "scattermapbox": [
           {
            "marker": {
             "colorbar": {
              "outlinewidth": 0,
              "ticks": ""
             }
            },
            "type": "scattermapbox"
           }
          ],
          "scatterpolar": [
           {
            "marker": {
             "colorbar": {
              "outlinewidth": 0,
              "ticks": ""
             }
            },
            "type": "scatterpolar"
           }
          ],
          "scatterpolargl": [
           {
            "marker": {
             "colorbar": {
              "outlinewidth": 0,
              "ticks": ""
             }
            },
            "type": "scatterpolargl"
           }
          ],
          "scatterternary": [
           {
            "marker": {
             "colorbar": {
              "outlinewidth": 0,
              "ticks": ""
             }
            },
            "type": "scatterternary"
           }
          ],
          "surface": [
           {
            "colorbar": {
             "outlinewidth": 0,
             "ticks": ""
            },
            "colorscale": [
             [
              0,
              "#0d0887"
             ],
             [
              0.1111111111111111,
              "#46039f"
             ],
             [
              0.2222222222222222,
              "#7201a8"
             ],
             [
              0.3333333333333333,
              "#9c179e"
             ],
             [
              0.4444444444444444,
              "#bd3786"
             ],
             [
              0.5555555555555556,
              "#d8576b"
             ],
             [
              0.6666666666666666,
              "#ed7953"
             ],
             [
              0.7777777777777778,
              "#fb9f3a"
             ],
             [
              0.8888888888888888,
              "#fdca26"
             ],
             [
              1,
              "#f0f921"
             ]
            ],
            "type": "surface"
           }
          ],
          "table": [
           {
            "cells": {
             "fill": {
              "color": "#EBF0F8"
             },
             "line": {
              "color": "white"
             }
            },
            "header": {
             "fill": {
              "color": "#C8D4E3"
             },
             "line": {
              "color": "white"
             }
            },
            "type": "table"
           }
          ]
         },
         "layout": {
          "annotationdefaults": {
           "arrowcolor": "#2a3f5f",
           "arrowhead": 0,
           "arrowwidth": 1
          },
          "coloraxis": {
           "colorbar": {
            "outlinewidth": 0,
            "ticks": ""
           }
          },
          "colorscale": {
           "diverging": [
            [
             0,
             "#8e0152"
            ],
            [
             0.1,
             "#c51b7d"
            ],
            [
             0.2,
             "#de77ae"
            ],
            [
             0.3,
             "#f1b6da"
            ],
            [
             0.4,
             "#fde0ef"
            ],
            [
             0.5,
             "#f7f7f7"
            ],
            [
             0.6,
             "#e6f5d0"
            ],
            [
             0.7,
             "#b8e186"
            ],
            [
             0.8,
             "#7fbc41"
            ],
            [
             0.9,
             "#4d9221"
            ],
            [
             1,
             "#276419"
            ]
           ],
           "sequential": [
            [
             0,
             "#0d0887"
            ],
            [
             0.1111111111111111,
             "#46039f"
            ],
            [
             0.2222222222222222,
             "#7201a8"
            ],
            [
             0.3333333333333333,
             "#9c179e"
            ],
            [
             0.4444444444444444,
             "#bd3786"
            ],
            [
             0.5555555555555556,
             "#d8576b"
            ],
            [
             0.6666666666666666,
             "#ed7953"
            ],
            [
             0.7777777777777778,
             "#fb9f3a"
            ],
            [
             0.8888888888888888,
             "#fdca26"
            ],
            [
             1,
             "#f0f921"
            ]
           ],
           "sequentialminus": [
            [
             0,
             "#0d0887"
            ],
            [
             0.1111111111111111,
             "#46039f"
            ],
            [
             0.2222222222222222,
             "#7201a8"
            ],
            [
             0.3333333333333333,
             "#9c179e"
            ],
            [
             0.4444444444444444,
             "#bd3786"
            ],
            [
             0.5555555555555556,
             "#d8576b"
            ],
            [
             0.6666666666666666,
             "#ed7953"
            ],
            [
             0.7777777777777778,
             "#fb9f3a"
            ],
            [
             0.8888888888888888,
             "#fdca26"
            ],
            [
             1,
             "#f0f921"
            ]
           ]
          },
          "colorway": [
           "#636efa",
           "#EF553B",
           "#00cc96",
           "#ab63fa",
           "#FFA15A",
           "#19d3f3",
           "#FF6692",
           "#B6E880",
           "#FF97FF",
           "#FECB52"
          ],
          "font": {
           "color": "#2a3f5f"
          },
          "geo": {
           "bgcolor": "white",
           "lakecolor": "white",
           "landcolor": "#E5ECF6",
           "showlakes": true,
           "showland": true,
           "subunitcolor": "white"
          },
          "hoverlabel": {
           "align": "left"
          },
          "hovermode": "closest",
          "mapbox": {
           "style": "light"
          },
          "paper_bgcolor": "white",
          "plot_bgcolor": "#E5ECF6",
          "polar": {
           "angularaxis": {
            "gridcolor": "white",
            "linecolor": "white",
            "ticks": ""
           },
           "bgcolor": "#E5ECF6",
           "radialaxis": {
            "gridcolor": "white",
            "linecolor": "white",
            "ticks": ""
           }
          },
          "scene": {
           "xaxis": {
            "backgroundcolor": "#E5ECF6",
            "gridcolor": "white",
            "gridwidth": 2,
            "linecolor": "white",
            "showbackground": true,
            "ticks": "",
            "zerolinecolor": "white"
           },
           "yaxis": {
            "backgroundcolor": "#E5ECF6",
            "gridcolor": "white",
            "gridwidth": 2,
            "linecolor": "white",
            "showbackground": true,
            "ticks": "",
            "zerolinecolor": "white"
           },
           "zaxis": {
            "backgroundcolor": "#E5ECF6",
            "gridcolor": "white",
            "gridwidth": 2,
            "linecolor": "white",
            "showbackground": true,
            "ticks": "",
            "zerolinecolor": "white"
           }
          },
          "shapedefaults": {
           "line": {
            "color": "#2a3f5f"
           }
          },
          "ternary": {
           "aaxis": {
            "gridcolor": "white",
            "linecolor": "white",
            "ticks": ""
           },
           "baxis": {
            "gridcolor": "white",
            "linecolor": "white",
            "ticks": ""
           },
           "bgcolor": "#E5ECF6",
           "caxis": {
            "gridcolor": "white",
            "linecolor": "white",
            "ticks": ""
           }
          },
          "title": {
           "x": 0.05
          },
          "xaxis": {
           "automargin": true,
           "gridcolor": "white",
           "linecolor": "white",
           "ticks": "",
           "title": {
            "standoff": 15
           },
           "zerolinecolor": "white",
           "zerolinewidth": 2
          },
          "yaxis": {
           "automargin": true,
           "gridcolor": "white",
           "linecolor": "white",
           "ticks": "",
           "title": {
            "standoff": 15
           },
           "zerolinecolor": "white",
           "zerolinewidth": 2
          }
         }
        },
        "title": {
         "font": {
          "color": "#4D5663"
         }
        },
        "xaxis": {
         "gridcolor": "#E1E5ED",
         "showgrid": true,
         "tickfont": {
          "color": "#4D5663"
         },
         "title": {
          "font": {
           "color": "#4D5663"
          },
          "text": ""
         },
         "zerolinecolor": "#E1E5ED"
        },
        "yaxis": {
         "gridcolor": "#E1E5ED",
         "showgrid": true,
         "tickfont": {
          "color": "#4D5663"
         },
         "title": {
          "font": {
           "color": "#4D5663"
          },
          "text": ""
         },
         "zerolinecolor": "#E1E5ED"
        }
       }
      },
      "text/html": [
       "<div>\n",
       "        \n",
       "        \n",
       "            <div id=\"60ef9238-a0d0-40e7-98a1-49f589a1cf39\" class=\"plotly-graph-div\" style=\"height:525px; width:100%;\"></div>\n",
       "            <script type=\"text/javascript\">\n",
       "                require([\"plotly\"], function(Plotly) {\n",
       "                    window.PLOTLYENV=window.PLOTLYENV || {};\n",
       "                    window.PLOTLYENV.BASE_URL='https://plot.ly';\n",
       "                    \n",
       "                if (document.getElementById(\"60ef9238-a0d0-40e7-98a1-49f589a1cf39\")) {\n",
       "                    Plotly.newPlot(\n",
       "                        '60ef9238-a0d0-40e7-98a1-49f589a1cf39',\n",
       "                        [{\"boxpoints\": false, \"line\": {\"width\": 1.3}, \"marker\": {\"color\": \"rgba(255, 153, 51, 1.0)\"}, \"name\": \"A\", \"orientation\": \"v\", \"type\": \"box\", \"y\": [0.3464195938218623, 1.2191331189779477, -1.566198556307964, 0.46573085450095364, -0.15261785777811135, -0.8028457730946738, -1.2939789962191617, -0.6418087219226248, 1.9109107394573086, -0.7984950981964833, 0.37572064407586353, 0.10804546809227975, -0.2955939166246089, 0.6668013724677774, 1.606777904150411, 0.18473563502452545, -0.21514032491554505, -0.2776151300214792, 0.8398510702601665, -0.17787273295740644, 1.8394677466697062, -0.6830318073232281, 1.1910043748570203, -0.06296070100823661, 0.3893011193237392, -0.5418276224573682, 0.1456421026340764, 1.3478116660010542, 1.3398140902363653, 0.17909770396651062, -0.7347774212014662, -0.664509282045416, 1.9958932346583351, 0.06464239428800038, -0.17331233101528445, -1.5199911226136043, -0.011764777467682862, -0.22961655060029354, 0.8344144539000332, -0.6252542380202118, -0.35722719110995915, 1.4681106315488035, -0.972833984774363, -1.3185876357784978, 0.8369173852064116, -0.7203822787149038, 0.5391211086088187, 0.40930127362148827, 1.3305953798884078, 0.7875773751444973, 0.24411739461868534, -0.08843505642188325, 0.268342155604911, 0.053365885727759556, -0.027406353957162198, -0.542478529849032, 0.6176151365107044, -0.18176398391036097, -0.2045336720258062, 0.32644055801113225, 0.5569115331629004, 0.4709120552818683, -0.5511771984791615, 0.38672288804052146, 0.49369878628381486, 0.8742747551276879, -0.7728036843643227, -0.5316316557408409, -0.019359629269128015, -0.43540839748513804, 2.193864246093326, 0.7071061333240987, -0.6738965948167931, 2.3946971136177124, 1.2529062193552296, 1.0214426121109126, -0.18054114299205762, -1.848921966805281, 1.3846982722939123, 0.37389409884423136, -0.5518891745455325, -0.812964815588062, -0.1445860029165156, 0.5976439474074358, -0.031143888839414168, 1.288640608161686, -1.3760544674922424, 0.9963133082520479, 0.9751556082817852, -0.07231954115489966, -0.36525133427411105, 0.8539810900777741, -0.5593653152080624, 1.6784765782994218, 1.49764233252627, -0.8623001565375716, -0.7415847178841932, 1.1902930047966387, 0.5729387527499807, -0.2143483560074946]}, {\"boxpoints\": false, \"line\": {\"width\": 1.3}, \"marker\": {\"color\": \"rgba(55, 128, 191, 1.0)\"}, \"name\": \"B\", \"orientation\": \"v\", \"type\": \"box\", \"y\": [-0.020590181209793654, 0.5423503125602855, -0.8787354341663304, -0.4895306549248174, -0.48541537247821465, -1.1581842623847438, -0.2769367387336216, 0.03311436155705231, 1.6024816506045834, 1.0831480858882039, -1.0072890793929596, 1.6632133708190122, -0.10794673509633486, 0.45432131136859577, -0.22565078146614284, 0.45507286942503267, 0.17974586396275005, -2.0175017586254036, 1.2707085867867112, 0.8107153806972188, 1.3683894902998583, 0.6721722990716655, -1.3053183578006817, 0.5690108539109617, 1.0528361089049871, -0.9946211425344996, 0.13209780322860354, 0.5975237600550157, -0.3990103367235594, 0.8544023703785645, -0.3652754198522442, -0.9394329209739792, -1.8247763232964613, 1.387400472070589, -0.6172006358456033, 0.28514310772208395, -0.9194137609477232, -1.0945907934466066, -0.01812635633048244, -0.42870107832880905, -0.14583236585484136, -1.9112885076025667, -0.6064194759449073, -0.5831693992001507, -0.9885022195286823, -1.319588708902828, 0.16146923595796253, -0.28246046695644217, -0.7714040710560138, 0.5847383075181828, 0.19107611317750492, -0.6526040938222579, 0.5699402612438804, -0.9911031656265455, 1.6493934330272855, 1.9039049563987207, 1.218355914745771, -0.494984884549906, 0.11678360950276127, -1.2146187590914483, -1.1476654603988559, -0.6451013537990224, -0.9089642937379179, -0.3107932934346349, 0.1431930390443773, 0.49590287215018686, 0.4685352804531265, 0.10806855993380053, 0.986890513730406, 0.7865424288418571, -1.2351640606494476, -2.02351966824216, -1.370146862511068, -1.3253039883938387, -1.184340482150768, -0.5064055507257907, -3.1134408477432705, -1.3748114148134778, 0.9623455167657223, 0.15572759045814794, 0.019438510421546488, -0.756212056642985, 1.0393078996740457, 1.283603086621441, 0.013246115306398687, 0.07988076305174152, 1.7490019784053388, -0.9381427033010681, -0.7346416378276212, 1.6403942432066971, -0.3292907770726725, 0.6890521545829256, -1.1228315951030374, -0.25605505749699964, -0.16944549777624168, 1.46716671061314, -0.18662380589638208, -1.7553469955013234, -0.1186070548456802, 1.3868762776821497]}, {\"boxpoints\": false, \"line\": {\"width\": 1.3}, \"marker\": {\"color\": \"rgba(50, 171, 96, 1.0)\"}, \"name\": \"C\", \"orientation\": \"v\", \"type\": \"box\", \"y\": [0.14358159005220242, 0.2920812719560736, 0.4034545189350478, 1.1846433872331292, 0.319242774725028, -1.0378007174169739, 0.8566005112545779, 1.230587387035751, -0.6904449421321213, 0.5977777507201271, -0.2957408276879956, -1.2495092936375563, 1.6656398714796146, -0.3446167923977057, -1.254503270950624, -1.1388161689544005, -0.1717411579167247, 1.337329782119376, -1.6571968313842216, 0.395304398552172, 0.3331717998492536, 1.027506271028855, 1.6474630147154348, 0.3976627652729076, 0.407886600933332, -0.5530433271104201, 1.0332177544732484, 0.86768325022945, -0.3279844909807892, 0.3341765602344462, -1.3314901096554927, 0.09517340058130781, 0.414233914581945, 0.008258261866098746, -1.2358266866438095, -0.051510801020062245, -1.1018971303963652, -0.015386259776738126, -1.2133402799715634, 0.7238599629917095, -0.39130890290694187, 0.4279914942549863, -0.20925301904311044, -0.07715446690954722, -0.5219958922492965, 0.5971498071391562, -0.5679311029386973, -0.6379609701710316, -0.008311692620811812, -1.3357400359256055, 0.36352824933081623, -1.0139147273562739, -0.8276356994707972, -1.0139657015110843, 0.9348172455435725, 0.7346190521865691, 0.32389401870404105, 0.3890011873245929, 0.5842398951563093, -0.025820761777430607, -0.6520353470200743, -0.1957954163288069, -0.8525926967078836, 0.24534399615516964, 0.6447632757277592, 0.2444416159774107, 0.6885672298514097, 0.14182452610579782, -0.8383124174831217, -0.5256271659891929, 0.7474320776428933, 0.5498407131196493, 0.4326392632653981, -1.0041028281208184, -0.023836964615872768, -0.5842708332074602, -1.3655332884624836, -0.7016652237620963, -0.2544652796566522, -0.9696356130351645, -0.16816395858146188, 0.12710783669496098, -0.8217755283837832, 0.7570671870362776, 2.5475431730589433, -0.2276466929232567, 0.4669050820081747, 0.3904063276011235, 0.6397549748807329, 1.2479494093044476, -0.3393342010587006, 0.02345841570658886, -0.5581521817674187, 0.07108629812707043, 0.13841439096535338, -0.3076131842355114, -0.44813213779990757, -0.7341619613796643, -1.0667492318297769, 0.7541483808510677]}, {\"boxpoints\": false, \"line\": {\"width\": 1.3}, \"marker\": {\"color\": \"rgba(128, 0, 128, 1.0)\"}, \"name\": \"D\", \"orientation\": \"v\", \"type\": \"box\", \"y\": [-1.1118640049651034, 0.1491406043116301, -1.2221106374241755, -1.6875795839754855, -0.7558177324260064, -1.6337871211050123, 0.22261233323591775, 0.7915733560199928, 1.6896287071492586, -0.1975697108903575, -1.8948362657753854, -0.2541235158529231, 0.03661794809435186, 0.7548769352154293, 0.42547738622571923, 0.46165798801264835, 0.007295368926671065, 0.891055630096048, 0.24386729392890943, 0.8307255191948365, 0.35626459418787493, 2.1578145958004145, -2.058911680464687, -0.27284665675569436, -0.15770271572799424, 1.5033000533442646, -0.7496941979711484, 0.8514411005089376, -0.3916152705357473, 0.22689570064360143, -0.2197162949623533, -0.16579621986256468, 1.7299343666421136, 1.253065148652142, 1.210314349675132, -0.44295688764545177, 0.7521680139399465, -0.2674260111881133, 1.7902607882569215, -1.2912637225126222, 1.1762596418399858, 0.3680637408772415, 1.1759519499772664, -0.2752043603187563, 0.1024792184516914, -0.5941545257254696, 0.9489352620540739, -1.062895402760241, -1.0567115215569716, -2.3587912906105832, 2.9653750929051372, -0.27421247498910417, -0.328514053729911, 0.5734230922653505, -0.0607092670338549, 1.1704828032581003, 1.354998594411703, -0.6567767998847259, -0.10265296524401771, -0.27134167423686395, 1.5412502872780447, 0.5781757038302135, 1.2224550744752862, -0.08639304752669724, 0.9262617313935608, 0.22324901110438788, -1.7744853454310123, 1.1817122408866545, -0.5286257010564885, -2.7180104539156384, -1.0045558820687108, -1.1008071985316823, 0.4275954953925082, -0.32492381688521127, -1.0280063715123986, 0.23787612180794981, 0.18686310544658025, -0.3497955317388221, -0.09738618475432757, -1.2290276943037652, 0.5875304076931959, 0.8814182541543529, -0.6781089026484597, -0.7373594071213471, 1.115607766095368, 0.12888807541459482, -0.8158561577836921, -0.5940310396993876, -0.5291881868373929, -0.5751787198636337, 0.5108329935769008, 1.2067401728845797, -1.4220280600408528, -0.24726913124166838, -0.14727165533210312, 0.4513601251105589, 0.7331496085916595, 0.8068582051299986, 0.8857024956321218, -0.3926293025656279]}],\n",
       "                        {\"legend\": {\"bgcolor\": \"#F5F6F9\", \"font\": {\"color\": \"#4D5663\"}}, \"paper_bgcolor\": \"#F5F6F9\", \"plot_bgcolor\": \"#F5F6F9\", \"template\": {\"data\": {\"bar\": [{\"error_x\": {\"color\": \"#2a3f5f\"}, \"error_y\": {\"color\": \"#2a3f5f\"}, \"marker\": {\"line\": {\"color\": \"#E5ECF6\", \"width\": 0.5}}, \"type\": \"bar\"}], \"barpolar\": [{\"marker\": {\"line\": {\"color\": \"#E5ECF6\", \"width\": 0.5}}, \"type\": \"barpolar\"}], \"carpet\": [{\"aaxis\": {\"endlinecolor\": \"#2a3f5f\", \"gridcolor\": \"white\", \"linecolor\": \"white\", \"minorgridcolor\": \"white\", \"startlinecolor\": \"#2a3f5f\"}, \"baxis\": {\"endlinecolor\": \"#2a3f5f\", \"gridcolor\": \"white\", \"linecolor\": \"white\", \"minorgridcolor\": \"white\", \"startlinecolor\": \"#2a3f5f\"}, \"type\": \"carpet\"}], \"choropleth\": [{\"colorbar\": {\"outlinewidth\": 0, \"ticks\": \"\"}, \"type\": \"choropleth\"}], \"contour\": [{\"colorbar\": {\"outlinewidth\": 0, \"ticks\": \"\"}, \"colorscale\": [[0.0, \"#0d0887\"], [0.1111111111111111, \"#46039f\"], [0.2222222222222222, \"#7201a8\"], [0.3333333333333333, \"#9c179e\"], [0.4444444444444444, \"#bd3786\"], [0.5555555555555556, \"#d8576b\"], [0.6666666666666666, \"#ed7953\"], [0.7777777777777778, \"#fb9f3a\"], [0.8888888888888888, \"#fdca26\"], [1.0, \"#f0f921\"]], \"type\": \"contour\"}], \"contourcarpet\": [{\"colorbar\": {\"outlinewidth\": 0, \"ticks\": \"\"}, \"type\": \"contourcarpet\"}], \"heatmap\": [{\"colorbar\": {\"outlinewidth\": 0, \"ticks\": \"\"}, \"colorscale\": [[0.0, \"#0d0887\"], [0.1111111111111111, \"#46039f\"], [0.2222222222222222, \"#7201a8\"], [0.3333333333333333, \"#9c179e\"], [0.4444444444444444, \"#bd3786\"], [0.5555555555555556, \"#d8576b\"], [0.6666666666666666, \"#ed7953\"], [0.7777777777777778, \"#fb9f3a\"], [0.8888888888888888, \"#fdca26\"], [1.0, \"#f0f921\"]], \"type\": \"heatmap\"}], \"heatmapgl\": [{\"colorbar\": {\"outlinewidth\": 0, \"ticks\": \"\"}, \"colorscale\": [[0.0, \"#0d0887\"], [0.1111111111111111, \"#46039f\"], [0.2222222222222222, \"#7201a8\"], [0.3333333333333333, \"#9c179e\"], [0.4444444444444444, \"#bd3786\"], [0.5555555555555556, \"#d8576b\"], [0.6666666666666666, \"#ed7953\"], [0.7777777777777778, \"#fb9f3a\"], [0.8888888888888888, \"#fdca26\"], [1.0, \"#f0f921\"]], \"type\": \"heatmapgl\"}], \"histogram\": [{\"marker\": {\"colorbar\": {\"outlinewidth\": 0, \"ticks\": \"\"}}, \"type\": \"histogram\"}], \"histogram2d\": [{\"colorbar\": {\"outlinewidth\": 0, \"ticks\": \"\"}, \"colorscale\": [[0.0, \"#0d0887\"], [0.1111111111111111, \"#46039f\"], [0.2222222222222222, \"#7201a8\"], [0.3333333333333333, \"#9c179e\"], [0.4444444444444444, \"#bd3786\"], [0.5555555555555556, \"#d8576b\"], [0.6666666666666666, \"#ed7953\"], [0.7777777777777778, \"#fb9f3a\"], [0.8888888888888888, \"#fdca26\"], [1.0, \"#f0f921\"]], \"type\": \"histogram2d\"}], \"histogram2dcontour\": [{\"colorbar\": {\"outlinewidth\": 0, \"ticks\": \"\"}, \"colorscale\": [[0.0, \"#0d0887\"], [0.1111111111111111, \"#46039f\"], [0.2222222222222222, \"#7201a8\"], [0.3333333333333333, \"#9c179e\"], [0.4444444444444444, \"#bd3786\"], [0.5555555555555556, \"#d8576b\"], [0.6666666666666666, \"#ed7953\"], [0.7777777777777778, \"#fb9f3a\"], [0.8888888888888888, \"#fdca26\"], [1.0, \"#f0f921\"]], \"type\": \"histogram2dcontour\"}], \"mesh3d\": [{\"colorbar\": {\"outlinewidth\": 0, \"ticks\": \"\"}, \"type\": \"mesh3d\"}], \"parcoords\": [{\"line\": {\"colorbar\": {\"outlinewidth\": 0, \"ticks\": \"\"}}, \"type\": \"parcoords\"}], \"pie\": [{\"automargin\": true, \"type\": \"pie\"}], \"scatter\": [{\"marker\": {\"colorbar\": {\"outlinewidth\": 0, \"ticks\": \"\"}}, \"type\": \"scatter\"}], \"scatter3d\": [{\"line\": {\"colorbar\": {\"outlinewidth\": 0, \"ticks\": \"\"}}, \"marker\": {\"colorbar\": {\"outlinewidth\": 0, \"ticks\": \"\"}}, \"type\": \"scatter3d\"}], \"scattercarpet\": [{\"marker\": {\"colorbar\": {\"outlinewidth\": 0, \"ticks\": \"\"}}, \"type\": \"scattercarpet\"}], \"scattergeo\": [{\"marker\": {\"colorbar\": {\"outlinewidth\": 0, \"ticks\": \"\"}}, \"type\": \"scattergeo\"}], \"scattergl\": [{\"marker\": {\"colorbar\": {\"outlinewidth\": 0, \"ticks\": \"\"}}, \"type\": \"scattergl\"}], \"scattermapbox\": [{\"marker\": {\"colorbar\": {\"outlinewidth\": 0, \"ticks\": \"\"}}, \"type\": \"scattermapbox\"}], \"scatterpolar\": [{\"marker\": {\"colorbar\": {\"outlinewidth\": 0, \"ticks\": \"\"}}, \"type\": \"scatterpolar\"}], \"scatterpolargl\": [{\"marker\": {\"colorbar\": {\"outlinewidth\": 0, \"ticks\": \"\"}}, \"type\": \"scatterpolargl\"}], \"scatterternary\": [{\"marker\": {\"colorbar\": {\"outlinewidth\": 0, \"ticks\": \"\"}}, \"type\": \"scatterternary\"}], \"surface\": [{\"colorbar\": {\"outlinewidth\": 0, \"ticks\": \"\"}, \"colorscale\": [[0.0, \"#0d0887\"], [0.1111111111111111, \"#46039f\"], [0.2222222222222222, \"#7201a8\"], [0.3333333333333333, \"#9c179e\"], [0.4444444444444444, \"#bd3786\"], [0.5555555555555556, \"#d8576b\"], [0.6666666666666666, \"#ed7953\"], [0.7777777777777778, \"#fb9f3a\"], [0.8888888888888888, \"#fdca26\"], [1.0, \"#f0f921\"]], \"type\": \"surface\"}], \"table\": [{\"cells\": {\"fill\": {\"color\": \"#EBF0F8\"}, \"line\": {\"color\": \"white\"}}, \"header\": {\"fill\": {\"color\": \"#C8D4E3\"}, \"line\": {\"color\": \"white\"}}, \"type\": \"table\"}]}, \"layout\": {\"annotationdefaults\": {\"arrowcolor\": \"#2a3f5f\", \"arrowhead\": 0, \"arrowwidth\": 1}, \"coloraxis\": {\"colorbar\": {\"outlinewidth\": 0, \"ticks\": \"\"}}, \"colorscale\": {\"diverging\": [[0, \"#8e0152\"], [0.1, \"#c51b7d\"], [0.2, \"#de77ae\"], [0.3, \"#f1b6da\"], [0.4, \"#fde0ef\"], [0.5, \"#f7f7f7\"], [0.6, \"#e6f5d0\"], [0.7, \"#b8e186\"], [0.8, \"#7fbc41\"], [0.9, \"#4d9221\"], [1, \"#276419\"]], \"sequential\": [[0.0, \"#0d0887\"], [0.1111111111111111, \"#46039f\"], [0.2222222222222222, \"#7201a8\"], [0.3333333333333333, \"#9c179e\"], [0.4444444444444444, \"#bd3786\"], [0.5555555555555556, \"#d8576b\"], [0.6666666666666666, \"#ed7953\"], [0.7777777777777778, \"#fb9f3a\"], [0.8888888888888888, \"#fdca26\"], [1.0, \"#f0f921\"]], \"sequentialminus\": [[0.0, \"#0d0887\"], [0.1111111111111111, \"#46039f\"], [0.2222222222222222, \"#7201a8\"], [0.3333333333333333, \"#9c179e\"], [0.4444444444444444, \"#bd3786\"], [0.5555555555555556, \"#d8576b\"], [0.6666666666666666, \"#ed7953\"], [0.7777777777777778, \"#fb9f3a\"], [0.8888888888888888, \"#fdca26\"], [1.0, \"#f0f921\"]]}, \"colorway\": [\"#636efa\", \"#EF553B\", \"#00cc96\", \"#ab63fa\", \"#FFA15A\", \"#19d3f3\", \"#FF6692\", \"#B6E880\", \"#FF97FF\", \"#FECB52\"], \"font\": {\"color\": \"#2a3f5f\"}, \"geo\": {\"bgcolor\": \"white\", \"lakecolor\": \"white\", \"landcolor\": \"#E5ECF6\", \"showlakes\": true, \"showland\": true, \"subunitcolor\": \"white\"}, \"hoverlabel\": {\"align\": \"left\"}, \"hovermode\": \"closest\", \"mapbox\": {\"style\": \"light\"}, \"paper_bgcolor\": \"white\", \"plot_bgcolor\": \"#E5ECF6\", \"polar\": {\"angularaxis\": {\"gridcolor\": \"white\", \"linecolor\": \"white\", \"ticks\": \"\"}, \"bgcolor\": \"#E5ECF6\", \"radialaxis\": {\"gridcolor\": \"white\", \"linecolor\": \"white\", \"ticks\": \"\"}}, \"scene\": {\"xaxis\": {\"backgroundcolor\": \"#E5ECF6\", \"gridcolor\": \"white\", \"gridwidth\": 2, \"linecolor\": \"white\", \"showbackground\": true, \"ticks\": \"\", \"zerolinecolor\": \"white\"}, \"yaxis\": {\"backgroundcolor\": \"#E5ECF6\", \"gridcolor\": \"white\", \"gridwidth\": 2, \"linecolor\": \"white\", \"showbackground\": true, \"ticks\": \"\", \"zerolinecolor\": \"white\"}, \"zaxis\": {\"backgroundcolor\": \"#E5ECF6\", \"gridcolor\": \"white\", \"gridwidth\": 2, \"linecolor\": \"white\", \"showbackground\": true, \"ticks\": \"\", \"zerolinecolor\": \"white\"}}, \"shapedefaults\": {\"line\": {\"color\": \"#2a3f5f\"}}, \"ternary\": {\"aaxis\": {\"gridcolor\": \"white\", \"linecolor\": \"white\", \"ticks\": \"\"}, \"baxis\": {\"gridcolor\": \"white\", \"linecolor\": \"white\", \"ticks\": \"\"}, \"bgcolor\": \"#E5ECF6\", \"caxis\": {\"gridcolor\": \"white\", \"linecolor\": \"white\", \"ticks\": \"\"}}, \"title\": {\"x\": 0.05}, \"xaxis\": {\"automargin\": true, \"gridcolor\": \"white\", \"linecolor\": \"white\", \"ticks\": \"\", \"title\": {\"standoff\": 15}, \"zerolinecolor\": \"white\", \"zerolinewidth\": 2}, \"yaxis\": {\"automargin\": true, \"gridcolor\": \"white\", \"linecolor\": \"white\", \"ticks\": \"\", \"title\": {\"standoff\": 15}, \"zerolinecolor\": \"white\", \"zerolinewidth\": 2}}}, \"title\": {\"font\": {\"color\": \"#4D5663\"}}, \"xaxis\": {\"gridcolor\": \"#E1E5ED\", \"showgrid\": true, \"tickfont\": {\"color\": \"#4D5663\"}, \"title\": {\"font\": {\"color\": \"#4D5663\"}, \"text\": \"\"}, \"zerolinecolor\": \"#E1E5ED\"}, \"yaxis\": {\"gridcolor\": \"#E1E5ED\", \"showgrid\": true, \"tickfont\": {\"color\": \"#4D5663\"}, \"title\": {\"font\": {\"color\": \"#4D5663\"}, \"text\": \"\"}, \"zerolinecolor\": \"#E1E5ED\"}},\n",
       "                        {\"showLink\": true, \"linkText\": \"Export to plot.ly\", \"plotlyServerURL\": \"https://plot.ly\", \"responsive\": true}\n",
       "                    ).then(function(){\n",
       "                            \n",
       "var gd = document.getElementById('60ef9238-a0d0-40e7-98a1-49f589a1cf39');\n",
       "var x = new MutationObserver(function (mutations, observer) {{\n",
       "        var display = window.getComputedStyle(gd).display;\n",
       "        if (!display || display === 'none') {{\n",
       "            console.log([gd, 'removed!']);\n",
       "            Plotly.purge(gd);\n",
       "            observer.disconnect();\n",
       "        }}\n",
       "}});\n",
       "\n",
       "// Listen for the removal of the full notebook cells\n",
       "var notebookContainer = gd.closest('#notebook-container');\n",
       "if (notebookContainer) {{\n",
       "    x.observe(notebookContainer, {childList: true});\n",
       "}}\n",
       "\n",
       "// Listen for the clearing of the current output cell\n",
       "var outputEl = gd.closest('.output');\n",
       "if (outputEl) {{\n",
       "    x.observe(outputEl, {childList: true});\n",
       "}}\n",
       "\n",
       "                        })\n",
       "                };\n",
       "                });\n",
       "            </script>\n",
       "        </div>"
      ]
     },
     "metadata": {},
     "output_type": "display_data"
    }
   ],
   "source": [
    "df.iplot(kind='box')"
   ]
  },
  {
   "cell_type": "code",
   "execution_count": 32,
   "metadata": {},
   "outputs": [],
   "source": [
    "df3 = pd.DataFrame({'x':[1,2,3,4,5],'y':[10,20,30,40,50],'z':[5,4,3,2,1]})"
   ]
  },
  {
   "cell_type": "code",
   "execution_count": 33,
   "metadata": {},
   "outputs": [
    {
     "data": {
      "text/html": [
       "<div>\n",
       "<style scoped>\n",
       "    .dataframe tbody tr th:only-of-type {\n",
       "        vertical-align: middle;\n",
       "    }\n",
       "\n",
       "    .dataframe tbody tr th {\n",
       "        vertical-align: top;\n",
       "    }\n",
       "\n",
       "    .dataframe thead th {\n",
       "        text-align: right;\n",
       "    }\n",
       "</style>\n",
       "<table border=\"1\" class=\"dataframe\">\n",
       "  <thead>\n",
       "    <tr style=\"text-align: right;\">\n",
       "      <th></th>\n",
       "      <th>x</th>\n",
       "      <th>y</th>\n",
       "      <th>z</th>\n",
       "    </tr>\n",
       "  </thead>\n",
       "  <tbody>\n",
       "    <tr>\n",
       "      <td>0</td>\n",
       "      <td>1</td>\n",
       "      <td>10</td>\n",
       "      <td>5</td>\n",
       "    </tr>\n",
       "    <tr>\n",
       "      <td>1</td>\n",
       "      <td>2</td>\n",
       "      <td>20</td>\n",
       "      <td>4</td>\n",
       "    </tr>\n",
       "    <tr>\n",
       "      <td>2</td>\n",
       "      <td>3</td>\n",
       "      <td>30</td>\n",
       "      <td>3</td>\n",
       "    </tr>\n",
       "    <tr>\n",
       "      <td>3</td>\n",
       "      <td>4</td>\n",
       "      <td>40</td>\n",
       "      <td>2</td>\n",
       "    </tr>\n",
       "    <tr>\n",
       "      <td>4</td>\n",
       "      <td>5</td>\n",
       "      <td>50</td>\n",
       "      <td>1</td>\n",
       "    </tr>\n",
       "  </tbody>\n",
       "</table>\n",
       "</div>"
      ],
      "text/plain": [
       "   x   y  z\n",
       "0  1  10  5\n",
       "1  2  20  4\n",
       "2  3  30  3\n",
       "3  4  40  2\n",
       "4  5  50  1"
      ]
     },
     "execution_count": 33,
     "metadata": {},
     "output_type": "execute_result"
    }
   ],
   "source": [
    "df3"
   ]
  },
  {
   "cell_type": "code",
   "execution_count": 34,
   "metadata": {},
   "outputs": [
    {
     "data": {
      "application/vnd.plotly.v1+json": {
       "config": {
        "linkText": "Export to plot.ly",
        "plotlyServerURL": "https://plot.ly",
        "showLink": true
       },
       "data": [
        {
         "colorscale": [
          [
           0,
           "rgb(255, 153, 51)"
          ],
          [
           0.1111111111111111,
           "rgb(55, 128, 191)"
          ],
          [
           0.2222222222222222,
           "rgb(50, 171, 96)"
          ],
          [
           0.3333333333333333,
           "rgb(128, 0, 128)"
          ],
          [
           0.4444444444444444,
           "rgb(219, 64, 82)"
          ],
          [
           0.5555555555555556,
           "rgb(0, 128, 128)"
          ],
          [
           0.6666666666666666,
           "rgb(255, 255, 51)"
          ],
          [
           0.7777777777777778,
           "rgb(128, 128, 0)"
          ],
          [
           0.8888888888888888,
           "rgb(251, 128, 114)"
          ],
          [
           1,
           "rgb(128, 177, 211)"
          ]
         ],
         "type": "surface",
         "x": [
          0,
          1,
          2,
          3,
          4
         ],
         "y": [
          "x",
          "y",
          "z"
         ],
         "z": [
          [
           1,
           2,
           3,
           4,
           5
          ],
          [
           10,
           20,
           30,
           40,
           50
          ],
          [
           5,
           4,
           3,
           2,
           1
          ]
         ]
        }
       ],
       "layout": {
        "legend": {
         "bgcolor": "#F5F6F9",
         "font": {
          "color": "#4D5663"
         }
        },
        "paper_bgcolor": "#F5F6F9",
        "plot_bgcolor": "#F5F6F9",
        "template": {
         "data": {
          "bar": [
           {
            "error_x": {
             "color": "#2a3f5f"
            },
            "error_y": {
             "color": "#2a3f5f"
            },
            "marker": {
             "line": {
              "color": "#E5ECF6",
              "width": 0.5
             }
            },
            "type": "bar"
           }
          ],
          "barpolar": [
           {
            "marker": {
             "line": {
              "color": "#E5ECF6",
              "width": 0.5
             }
            },
            "type": "barpolar"
           }
          ],
          "carpet": [
           {
            "aaxis": {
             "endlinecolor": "#2a3f5f",
             "gridcolor": "white",
             "linecolor": "white",
             "minorgridcolor": "white",
             "startlinecolor": "#2a3f5f"
            },
            "baxis": {
             "endlinecolor": "#2a3f5f",
             "gridcolor": "white",
             "linecolor": "white",
             "minorgridcolor": "white",
             "startlinecolor": "#2a3f5f"
            },
            "type": "carpet"
           }
          ],
          "choropleth": [
           {
            "colorbar": {
             "outlinewidth": 0,
             "ticks": ""
            },
            "type": "choropleth"
           }
          ],
          "contour": [
           {
            "colorbar": {
             "outlinewidth": 0,
             "ticks": ""
            },
            "colorscale": [
             [
              0,
              "#0d0887"
             ],
             [
              0.1111111111111111,
              "#46039f"
             ],
             [
              0.2222222222222222,
              "#7201a8"
             ],
             [
              0.3333333333333333,
              "#9c179e"
             ],
             [
              0.4444444444444444,
              "#bd3786"
             ],
             [
              0.5555555555555556,
              "#d8576b"
             ],
             [
              0.6666666666666666,
              "#ed7953"
             ],
             [
              0.7777777777777778,
              "#fb9f3a"
             ],
             [
              0.8888888888888888,
              "#fdca26"
             ],
             [
              1,
              "#f0f921"
             ]
            ],
            "type": "contour"
           }
          ],
          "contourcarpet": [
           {
            "colorbar": {
             "outlinewidth": 0,
             "ticks": ""
            },
            "type": "contourcarpet"
           }
          ],
          "heatmap": [
           {
            "colorbar": {
             "outlinewidth": 0,
             "ticks": ""
            },
            "colorscale": [
             [
              0,
              "#0d0887"
             ],
             [
              0.1111111111111111,
              "#46039f"
             ],
             [
              0.2222222222222222,
              "#7201a8"
             ],
             [
              0.3333333333333333,
              "#9c179e"
             ],
             [
              0.4444444444444444,
              "#bd3786"
             ],
             [
              0.5555555555555556,
              "#d8576b"
             ],
             [
              0.6666666666666666,
              "#ed7953"
             ],
             [
              0.7777777777777778,
              "#fb9f3a"
             ],
             [
              0.8888888888888888,
              "#fdca26"
             ],
             [
              1,
              "#f0f921"
             ]
            ],
            "type": "heatmap"
           }
          ],
          "heatmapgl": [
           {
            "colorbar": {
             "outlinewidth": 0,
             "ticks": ""
            },
            "colorscale": [
             [
              0,
              "#0d0887"
             ],
             [
              0.1111111111111111,
              "#46039f"
             ],
             [
              0.2222222222222222,
              "#7201a8"
             ],
             [
              0.3333333333333333,
              "#9c179e"
             ],
             [
              0.4444444444444444,
              "#bd3786"
             ],
             [
              0.5555555555555556,
              "#d8576b"
             ],
             [
              0.6666666666666666,
              "#ed7953"
             ],
             [
              0.7777777777777778,
              "#fb9f3a"
             ],
             [
              0.8888888888888888,
              "#fdca26"
             ],
             [
              1,
              "#f0f921"
             ]
            ],
            "type": "heatmapgl"
           }
          ],
          "histogram": [
           {
            "marker": {
             "colorbar": {
              "outlinewidth": 0,
              "ticks": ""
             }
            },
            "type": "histogram"
           }
          ],
          "histogram2d": [
           {
            "colorbar": {
             "outlinewidth": 0,
             "ticks": ""
            },
            "colorscale": [
             [
              0,
              "#0d0887"
             ],
             [
              0.1111111111111111,
              "#46039f"
             ],
             [
              0.2222222222222222,
              "#7201a8"
             ],
             [
              0.3333333333333333,
              "#9c179e"
             ],
             [
              0.4444444444444444,
              "#bd3786"
             ],
             [
              0.5555555555555556,
              "#d8576b"
             ],
             [
              0.6666666666666666,
              "#ed7953"
             ],
             [
              0.7777777777777778,
              "#fb9f3a"
             ],
             [
              0.8888888888888888,
              "#fdca26"
             ],
             [
              1,
              "#f0f921"
             ]
            ],
            "type": "histogram2d"
           }
          ],
          "histogram2dcontour": [
           {
            "colorbar": {
             "outlinewidth": 0,
             "ticks": ""
            },
            "colorscale": [
             [
              0,
              "#0d0887"
             ],
             [
              0.1111111111111111,
              "#46039f"
             ],
             [
              0.2222222222222222,
              "#7201a8"
             ],
             [
              0.3333333333333333,
              "#9c179e"
             ],
             [
              0.4444444444444444,
              "#bd3786"
             ],
             [
              0.5555555555555556,
              "#d8576b"
             ],
             [
              0.6666666666666666,
              "#ed7953"
             ],
             [
              0.7777777777777778,
              "#fb9f3a"
             ],
             [
              0.8888888888888888,
              "#fdca26"
             ],
             [
              1,
              "#f0f921"
             ]
            ],
            "type": "histogram2dcontour"
           }
          ],
          "mesh3d": [
           {
            "colorbar": {
             "outlinewidth": 0,
             "ticks": ""
            },
            "type": "mesh3d"
           }
          ],
          "parcoords": [
           {
            "line": {
             "colorbar": {
              "outlinewidth": 0,
              "ticks": ""
             }
            },
            "type": "parcoords"
           }
          ],
          "pie": [
           {
            "automargin": true,
            "type": "pie"
           }
          ],
          "scatter": [
           {
            "marker": {
             "colorbar": {
              "outlinewidth": 0,
              "ticks": ""
             }
            },
            "type": "scatter"
           }
          ],
          "scatter3d": [
           {
            "line": {
             "colorbar": {
              "outlinewidth": 0,
              "ticks": ""
             }
            },
            "marker": {
             "colorbar": {
              "outlinewidth": 0,
              "ticks": ""
             }
            },
            "type": "scatter3d"
           }
          ],
          "scattercarpet": [
           {
            "marker": {
             "colorbar": {
              "outlinewidth": 0,
              "ticks": ""
             }
            },
            "type": "scattercarpet"
           }
          ],
          "scattergeo": [
           {
            "marker": {
             "colorbar": {
              "outlinewidth": 0,
              "ticks": ""
             }
            },
            "type": "scattergeo"
           }
          ],
          "scattergl": [
           {
            "marker": {
             "colorbar": {
              "outlinewidth": 0,
              "ticks": ""
             }
            },
            "type": "scattergl"
           }
          ],
          "scattermapbox": [
           {
            "marker": {
             "colorbar": {
              "outlinewidth": 0,
              "ticks": ""
             }
            },
            "type": "scattermapbox"
           }
          ],
          "scatterpolar": [
           {
            "marker": {
             "colorbar": {
              "outlinewidth": 0,
              "ticks": ""
             }
            },
            "type": "scatterpolar"
           }
          ],
          "scatterpolargl": [
           {
            "marker": {
             "colorbar": {
              "outlinewidth": 0,
              "ticks": ""
             }
            },
            "type": "scatterpolargl"
           }
          ],
          "scatterternary": [
           {
            "marker": {
             "colorbar": {
              "outlinewidth": 0,
              "ticks": ""
             }
            },
            "type": "scatterternary"
           }
          ],
          "surface": [
           {
            "colorbar": {
             "outlinewidth": 0,
             "ticks": ""
            },
            "colorscale": [
             [
              0,
              "#0d0887"
             ],
             [
              0.1111111111111111,
              "#46039f"
             ],
             [
              0.2222222222222222,
              "#7201a8"
             ],
             [
              0.3333333333333333,
              "#9c179e"
             ],
             [
              0.4444444444444444,
              "#bd3786"
             ],
             [
              0.5555555555555556,
              "#d8576b"
             ],
             [
              0.6666666666666666,
              "#ed7953"
             ],
             [
              0.7777777777777778,
              "#fb9f3a"
             ],
             [
              0.8888888888888888,
              "#fdca26"
             ],
             [
              1,
              "#f0f921"
             ]
            ],
            "type": "surface"
           }
          ],
          "table": [
           {
            "cells": {
             "fill": {
              "color": "#EBF0F8"
             },
             "line": {
              "color": "white"
             }
            },
            "header": {
             "fill": {
              "color": "#C8D4E3"
             },
             "line": {
              "color": "white"
             }
            },
            "type": "table"
           }
          ]
         },
         "layout": {
          "annotationdefaults": {
           "arrowcolor": "#2a3f5f",
           "arrowhead": 0,
           "arrowwidth": 1
          },
          "coloraxis": {
           "colorbar": {
            "outlinewidth": 0,
            "ticks": ""
           }
          },
          "colorscale": {
           "diverging": [
            [
             0,
             "#8e0152"
            ],
            [
             0.1,
             "#c51b7d"
            ],
            [
             0.2,
             "#de77ae"
            ],
            [
             0.3,
             "#f1b6da"
            ],
            [
             0.4,
             "#fde0ef"
            ],
            [
             0.5,
             "#f7f7f7"
            ],
            [
             0.6,
             "#e6f5d0"
            ],
            [
             0.7,
             "#b8e186"
            ],
            [
             0.8,
             "#7fbc41"
            ],
            [
             0.9,
             "#4d9221"
            ],
            [
             1,
             "#276419"
            ]
           ],
           "sequential": [
            [
             0,
             "#0d0887"
            ],
            [
             0.1111111111111111,
             "#46039f"
            ],
            [
             0.2222222222222222,
             "#7201a8"
            ],
            [
             0.3333333333333333,
             "#9c179e"
            ],
            [
             0.4444444444444444,
             "#bd3786"
            ],
            [
             0.5555555555555556,
             "#d8576b"
            ],
            [
             0.6666666666666666,
             "#ed7953"
            ],
            [
             0.7777777777777778,
             "#fb9f3a"
            ],
            [
             0.8888888888888888,
             "#fdca26"
            ],
            [
             1,
             "#f0f921"
            ]
           ],
           "sequentialminus": [
            [
             0,
             "#0d0887"
            ],
            [
             0.1111111111111111,
             "#46039f"
            ],
            [
             0.2222222222222222,
             "#7201a8"
            ],
            [
             0.3333333333333333,
             "#9c179e"
            ],
            [
             0.4444444444444444,
             "#bd3786"
            ],
            [
             0.5555555555555556,
             "#d8576b"
            ],
            [
             0.6666666666666666,
             "#ed7953"
            ],
            [
             0.7777777777777778,
             "#fb9f3a"
            ],
            [
             0.8888888888888888,
             "#fdca26"
            ],
            [
             1,
             "#f0f921"
            ]
           ]
          },
          "colorway": [
           "#636efa",
           "#EF553B",
           "#00cc96",
           "#ab63fa",
           "#FFA15A",
           "#19d3f3",
           "#FF6692",
           "#B6E880",
           "#FF97FF",
           "#FECB52"
          ],
          "font": {
           "color": "#2a3f5f"
          },
          "geo": {
           "bgcolor": "white",
           "lakecolor": "white",
           "landcolor": "#E5ECF6",
           "showlakes": true,
           "showland": true,
           "subunitcolor": "white"
          },
          "hoverlabel": {
           "align": "left"
          },
          "hovermode": "closest",
          "mapbox": {
           "style": "light"
          },
          "paper_bgcolor": "white",
          "plot_bgcolor": "#E5ECF6",
          "polar": {
           "angularaxis": {
            "gridcolor": "white",
            "linecolor": "white",
            "ticks": ""
           },
           "bgcolor": "#E5ECF6",
           "radialaxis": {
            "gridcolor": "white",
            "linecolor": "white",
            "ticks": ""
           }
          },
          "scene": {
           "xaxis": {
            "backgroundcolor": "#E5ECF6",
            "gridcolor": "white",
            "gridwidth": 2,
            "linecolor": "white",
            "showbackground": true,
            "ticks": "",
            "zerolinecolor": "white"
           },
           "yaxis": {
            "backgroundcolor": "#E5ECF6",
            "gridcolor": "white",
            "gridwidth": 2,
            "linecolor": "white",
            "showbackground": true,
            "ticks": "",
            "zerolinecolor": "white"
           },
           "zaxis": {
            "backgroundcolor": "#E5ECF6",
            "gridcolor": "white",
            "gridwidth": 2,
            "linecolor": "white",
            "showbackground": true,
            "ticks": "",
            "zerolinecolor": "white"
           }
          },
          "shapedefaults": {
           "line": {
            "color": "#2a3f5f"
           }
          },
          "ternary": {
           "aaxis": {
            "gridcolor": "white",
            "linecolor": "white",
            "ticks": ""
           },
           "baxis": {
            "gridcolor": "white",
            "linecolor": "white",
            "ticks": ""
           },
           "bgcolor": "#E5ECF6",
           "caxis": {
            "gridcolor": "white",
            "linecolor": "white",
            "ticks": ""
           }
          },
          "title": {
           "x": 0.05
          },
          "xaxis": {
           "automargin": true,
           "gridcolor": "white",
           "linecolor": "white",
           "ticks": "",
           "title": {
            "standoff": 15
           },
           "zerolinecolor": "white",
           "zerolinewidth": 2
          },
          "yaxis": {
           "automargin": true,
           "gridcolor": "white",
           "linecolor": "white",
           "ticks": "",
           "title": {
            "standoff": 15
           },
           "zerolinecolor": "white",
           "zerolinewidth": 2
          }
         }
        },
        "title": {
         "font": {
          "color": "#4D5663"
         }
        },
        "xaxis": {
         "gridcolor": "#E1E5ED",
         "showgrid": true,
         "tickfont": {
          "color": "#4D5663"
         },
         "title": {
          "font": {
           "color": "#4D5663"
          },
          "text": ""
         },
         "zerolinecolor": "#E1E5ED"
        },
        "yaxis": {
         "gridcolor": "#E1E5ED",
         "showgrid": true,
         "tickfont": {
          "color": "#4D5663"
         },
         "title": {
          "font": {
           "color": "#4D5663"
          },
          "text": ""
         },
         "zerolinecolor": "#E1E5ED"
        }
       }
      },
      "text/html": [
       "<div>\n",
       "        \n",
       "        \n",
       "            <div id=\"d2ac2318-3d45-4f33-86d9-e2be37bf39a9\" class=\"plotly-graph-div\" style=\"height:525px; width:100%;\"></div>\n",
       "            <script type=\"text/javascript\">\n",
       "                require([\"plotly\"], function(Plotly) {\n",
       "                    window.PLOTLYENV=window.PLOTLYENV || {};\n",
       "                    window.PLOTLYENV.BASE_URL='https://plot.ly';\n",
       "                    \n",
       "                if (document.getElementById(\"d2ac2318-3d45-4f33-86d9-e2be37bf39a9\")) {\n",
       "                    Plotly.newPlot(\n",
       "                        'd2ac2318-3d45-4f33-86d9-e2be37bf39a9',\n",
       "                        [{\"colorscale\": [[0.0, \"rgb(255, 153, 51)\"], [0.1111111111111111, \"rgb(55, 128, 191)\"], [0.2222222222222222, \"rgb(50, 171, 96)\"], [0.3333333333333333, \"rgb(128, 0, 128)\"], [0.4444444444444444, \"rgb(219, 64, 82)\"], [0.5555555555555556, \"rgb(0, 128, 128)\"], [0.6666666666666666, \"rgb(255, 255, 51)\"], [0.7777777777777778, \"rgb(128, 128, 0)\"], [0.8888888888888888, \"rgb(251, 128, 114)\"], [1.0, \"rgb(128, 177, 211)\"]], \"type\": \"surface\", \"x\": [0, 1, 2, 3, 4], \"y\": [\"x\", \"y\", \"z\"], \"z\": [[1, 2, 3, 4, 5], [10, 20, 30, 40, 50], [5, 4, 3, 2, 1]]}],\n",
       "                        {\"legend\": {\"bgcolor\": \"#F5F6F9\", \"font\": {\"color\": \"#4D5663\"}}, \"paper_bgcolor\": \"#F5F6F9\", \"plot_bgcolor\": \"#F5F6F9\", \"template\": {\"data\": {\"bar\": [{\"error_x\": {\"color\": \"#2a3f5f\"}, \"error_y\": {\"color\": \"#2a3f5f\"}, \"marker\": {\"line\": {\"color\": \"#E5ECF6\", \"width\": 0.5}}, \"type\": \"bar\"}], \"barpolar\": [{\"marker\": {\"line\": {\"color\": \"#E5ECF6\", \"width\": 0.5}}, \"type\": \"barpolar\"}], \"carpet\": [{\"aaxis\": {\"endlinecolor\": \"#2a3f5f\", \"gridcolor\": \"white\", \"linecolor\": \"white\", \"minorgridcolor\": \"white\", \"startlinecolor\": \"#2a3f5f\"}, \"baxis\": {\"endlinecolor\": \"#2a3f5f\", \"gridcolor\": \"white\", \"linecolor\": \"white\", \"minorgridcolor\": \"white\", \"startlinecolor\": \"#2a3f5f\"}, \"type\": \"carpet\"}], \"choropleth\": [{\"colorbar\": {\"outlinewidth\": 0, \"ticks\": \"\"}, \"type\": \"choropleth\"}], \"contour\": [{\"colorbar\": {\"outlinewidth\": 0, \"ticks\": \"\"}, \"colorscale\": [[0.0, \"#0d0887\"], [0.1111111111111111, \"#46039f\"], [0.2222222222222222, \"#7201a8\"], [0.3333333333333333, \"#9c179e\"], [0.4444444444444444, \"#bd3786\"], [0.5555555555555556, \"#d8576b\"], [0.6666666666666666, \"#ed7953\"], [0.7777777777777778, \"#fb9f3a\"], [0.8888888888888888, \"#fdca26\"], [1.0, \"#f0f921\"]], \"type\": \"contour\"}], \"contourcarpet\": [{\"colorbar\": {\"outlinewidth\": 0, \"ticks\": \"\"}, \"type\": \"contourcarpet\"}], \"heatmap\": [{\"colorbar\": {\"outlinewidth\": 0, \"ticks\": \"\"}, \"colorscale\": [[0.0, \"#0d0887\"], [0.1111111111111111, \"#46039f\"], [0.2222222222222222, \"#7201a8\"], [0.3333333333333333, \"#9c179e\"], [0.4444444444444444, \"#bd3786\"], [0.5555555555555556, \"#d8576b\"], [0.6666666666666666, \"#ed7953\"], [0.7777777777777778, \"#fb9f3a\"], [0.8888888888888888, \"#fdca26\"], [1.0, \"#f0f921\"]], \"type\": \"heatmap\"}], \"heatmapgl\": [{\"colorbar\": {\"outlinewidth\": 0, \"ticks\": \"\"}, \"colorscale\": [[0.0, \"#0d0887\"], [0.1111111111111111, \"#46039f\"], [0.2222222222222222, \"#7201a8\"], [0.3333333333333333, \"#9c179e\"], [0.4444444444444444, \"#bd3786\"], [0.5555555555555556, \"#d8576b\"], [0.6666666666666666, \"#ed7953\"], [0.7777777777777778, \"#fb9f3a\"], [0.8888888888888888, \"#fdca26\"], [1.0, \"#f0f921\"]], \"type\": \"heatmapgl\"}], \"histogram\": [{\"marker\": {\"colorbar\": {\"outlinewidth\": 0, \"ticks\": \"\"}}, \"type\": \"histogram\"}], \"histogram2d\": [{\"colorbar\": {\"outlinewidth\": 0, \"ticks\": \"\"}, \"colorscale\": [[0.0, \"#0d0887\"], [0.1111111111111111, \"#46039f\"], [0.2222222222222222, \"#7201a8\"], [0.3333333333333333, \"#9c179e\"], [0.4444444444444444, \"#bd3786\"], [0.5555555555555556, \"#d8576b\"], [0.6666666666666666, \"#ed7953\"], [0.7777777777777778, \"#fb9f3a\"], [0.8888888888888888, \"#fdca26\"], [1.0, \"#f0f921\"]], \"type\": \"histogram2d\"}], \"histogram2dcontour\": [{\"colorbar\": {\"outlinewidth\": 0, \"ticks\": \"\"}, \"colorscale\": [[0.0, \"#0d0887\"], [0.1111111111111111, \"#46039f\"], [0.2222222222222222, \"#7201a8\"], [0.3333333333333333, \"#9c179e\"], [0.4444444444444444, \"#bd3786\"], [0.5555555555555556, \"#d8576b\"], [0.6666666666666666, \"#ed7953\"], [0.7777777777777778, \"#fb9f3a\"], [0.8888888888888888, \"#fdca26\"], [1.0, \"#f0f921\"]], \"type\": \"histogram2dcontour\"}], \"mesh3d\": [{\"colorbar\": {\"outlinewidth\": 0, \"ticks\": \"\"}, \"type\": \"mesh3d\"}], \"parcoords\": [{\"line\": {\"colorbar\": {\"outlinewidth\": 0, \"ticks\": \"\"}}, \"type\": \"parcoords\"}], \"pie\": [{\"automargin\": true, \"type\": \"pie\"}], \"scatter\": [{\"marker\": {\"colorbar\": {\"outlinewidth\": 0, \"ticks\": \"\"}}, \"type\": \"scatter\"}], \"scatter3d\": [{\"line\": {\"colorbar\": {\"outlinewidth\": 0, \"ticks\": \"\"}}, \"marker\": {\"colorbar\": {\"outlinewidth\": 0, \"ticks\": \"\"}}, \"type\": \"scatter3d\"}], \"scattercarpet\": [{\"marker\": {\"colorbar\": {\"outlinewidth\": 0, \"ticks\": \"\"}}, \"type\": \"scattercarpet\"}], \"scattergeo\": [{\"marker\": {\"colorbar\": {\"outlinewidth\": 0, \"ticks\": \"\"}}, \"type\": \"scattergeo\"}], \"scattergl\": [{\"marker\": {\"colorbar\": {\"outlinewidth\": 0, \"ticks\": \"\"}}, \"type\": \"scattergl\"}], \"scattermapbox\": [{\"marker\": {\"colorbar\": {\"outlinewidth\": 0, \"ticks\": \"\"}}, \"type\": \"scattermapbox\"}], \"scatterpolar\": [{\"marker\": {\"colorbar\": {\"outlinewidth\": 0, \"ticks\": \"\"}}, \"type\": \"scatterpolar\"}], \"scatterpolargl\": [{\"marker\": {\"colorbar\": {\"outlinewidth\": 0, \"ticks\": \"\"}}, \"type\": \"scatterpolargl\"}], \"scatterternary\": [{\"marker\": {\"colorbar\": {\"outlinewidth\": 0, \"ticks\": \"\"}}, \"type\": \"scatterternary\"}], \"surface\": [{\"colorbar\": {\"outlinewidth\": 0, \"ticks\": \"\"}, \"colorscale\": [[0.0, \"#0d0887\"], [0.1111111111111111, \"#46039f\"], [0.2222222222222222, \"#7201a8\"], [0.3333333333333333, \"#9c179e\"], [0.4444444444444444, \"#bd3786\"], [0.5555555555555556, \"#d8576b\"], [0.6666666666666666, \"#ed7953\"], [0.7777777777777778, \"#fb9f3a\"], [0.8888888888888888, \"#fdca26\"], [1.0, \"#f0f921\"]], \"type\": \"surface\"}], \"table\": [{\"cells\": {\"fill\": {\"color\": \"#EBF0F8\"}, \"line\": {\"color\": \"white\"}}, \"header\": {\"fill\": {\"color\": \"#C8D4E3\"}, \"line\": {\"color\": \"white\"}}, \"type\": \"table\"}]}, \"layout\": {\"annotationdefaults\": {\"arrowcolor\": \"#2a3f5f\", \"arrowhead\": 0, \"arrowwidth\": 1}, \"coloraxis\": {\"colorbar\": {\"outlinewidth\": 0, \"ticks\": \"\"}}, \"colorscale\": {\"diverging\": [[0, \"#8e0152\"], [0.1, \"#c51b7d\"], [0.2, \"#de77ae\"], [0.3, \"#f1b6da\"], [0.4, \"#fde0ef\"], [0.5, \"#f7f7f7\"], [0.6, \"#e6f5d0\"], [0.7, \"#b8e186\"], [0.8, \"#7fbc41\"], [0.9, \"#4d9221\"], [1, \"#276419\"]], \"sequential\": [[0.0, \"#0d0887\"], [0.1111111111111111, \"#46039f\"], [0.2222222222222222, \"#7201a8\"], [0.3333333333333333, \"#9c179e\"], [0.4444444444444444, \"#bd3786\"], [0.5555555555555556, \"#d8576b\"], [0.6666666666666666, \"#ed7953\"], [0.7777777777777778, \"#fb9f3a\"], [0.8888888888888888, \"#fdca26\"], [1.0, \"#f0f921\"]], \"sequentialminus\": [[0.0, \"#0d0887\"], [0.1111111111111111, \"#46039f\"], [0.2222222222222222, \"#7201a8\"], [0.3333333333333333, \"#9c179e\"], [0.4444444444444444, \"#bd3786\"], [0.5555555555555556, \"#d8576b\"], [0.6666666666666666, \"#ed7953\"], [0.7777777777777778, \"#fb9f3a\"], [0.8888888888888888, \"#fdca26\"], [1.0, \"#f0f921\"]]}, \"colorway\": [\"#636efa\", \"#EF553B\", \"#00cc96\", \"#ab63fa\", \"#FFA15A\", \"#19d3f3\", \"#FF6692\", \"#B6E880\", \"#FF97FF\", \"#FECB52\"], \"font\": {\"color\": \"#2a3f5f\"}, \"geo\": {\"bgcolor\": \"white\", \"lakecolor\": \"white\", \"landcolor\": \"#E5ECF6\", \"showlakes\": true, \"showland\": true, \"subunitcolor\": \"white\"}, \"hoverlabel\": {\"align\": \"left\"}, \"hovermode\": \"closest\", \"mapbox\": {\"style\": \"light\"}, \"paper_bgcolor\": \"white\", \"plot_bgcolor\": \"#E5ECF6\", \"polar\": {\"angularaxis\": {\"gridcolor\": \"white\", \"linecolor\": \"white\", \"ticks\": \"\"}, \"bgcolor\": \"#E5ECF6\", \"radialaxis\": {\"gridcolor\": \"white\", \"linecolor\": \"white\", \"ticks\": \"\"}}, \"scene\": {\"xaxis\": {\"backgroundcolor\": \"#E5ECF6\", \"gridcolor\": \"white\", \"gridwidth\": 2, \"linecolor\": \"white\", \"showbackground\": true, \"ticks\": \"\", \"zerolinecolor\": \"white\"}, \"yaxis\": {\"backgroundcolor\": \"#E5ECF6\", \"gridcolor\": \"white\", \"gridwidth\": 2, \"linecolor\": \"white\", \"showbackground\": true, \"ticks\": \"\", \"zerolinecolor\": \"white\"}, \"zaxis\": {\"backgroundcolor\": \"#E5ECF6\", \"gridcolor\": \"white\", \"gridwidth\": 2, \"linecolor\": \"white\", \"showbackground\": true, \"ticks\": \"\", \"zerolinecolor\": \"white\"}}, \"shapedefaults\": {\"line\": {\"color\": \"#2a3f5f\"}}, \"ternary\": {\"aaxis\": {\"gridcolor\": \"white\", \"linecolor\": \"white\", \"ticks\": \"\"}, \"baxis\": {\"gridcolor\": \"white\", \"linecolor\": \"white\", \"ticks\": \"\"}, \"bgcolor\": \"#E5ECF6\", \"caxis\": {\"gridcolor\": \"white\", \"linecolor\": \"white\", \"ticks\": \"\"}}, \"title\": {\"x\": 0.05}, \"xaxis\": {\"automargin\": true, \"gridcolor\": \"white\", \"linecolor\": \"white\", \"ticks\": \"\", \"title\": {\"standoff\": 15}, \"zerolinecolor\": \"white\", \"zerolinewidth\": 2}, \"yaxis\": {\"automargin\": true, \"gridcolor\": \"white\", \"linecolor\": \"white\", \"ticks\": \"\", \"title\": {\"standoff\": 15}, \"zerolinecolor\": \"white\", \"zerolinewidth\": 2}}}, \"title\": {\"font\": {\"color\": \"#4D5663\"}}, \"xaxis\": {\"gridcolor\": \"#E1E5ED\", \"showgrid\": true, \"tickfont\": {\"color\": \"#4D5663\"}, \"title\": {\"font\": {\"color\": \"#4D5663\"}, \"text\": \"\"}, \"zerolinecolor\": \"#E1E5ED\"}, \"yaxis\": {\"gridcolor\": \"#E1E5ED\", \"showgrid\": true, \"tickfont\": {\"color\": \"#4D5663\"}, \"title\": {\"font\": {\"color\": \"#4D5663\"}, \"text\": \"\"}, \"zerolinecolor\": \"#E1E5ED\"}},\n",
       "                        {\"showLink\": true, \"linkText\": \"Export to plot.ly\", \"plotlyServerURL\": \"https://plot.ly\", \"responsive\": true}\n",
       "                    ).then(function(){\n",
       "                            \n",
       "var gd = document.getElementById('d2ac2318-3d45-4f33-86d9-e2be37bf39a9');\n",
       "var x = new MutationObserver(function (mutations, observer) {{\n",
       "        var display = window.getComputedStyle(gd).display;\n",
       "        if (!display || display === 'none') {{\n",
       "            console.log([gd, 'removed!']);\n",
       "            Plotly.purge(gd);\n",
       "            observer.disconnect();\n",
       "        }}\n",
       "}});\n",
       "\n",
       "// Listen for the removal of the full notebook cells\n",
       "var notebookContainer = gd.closest('#notebook-container');\n",
       "if (notebookContainer) {{\n",
       "    x.observe(notebookContainer, {childList: true});\n",
       "}}\n",
       "\n",
       "// Listen for the clearing of the current output cell\n",
       "var outputEl = gd.closest('.output');\n",
       "if (outputEl) {{\n",
       "    x.observe(outputEl, {childList: true});\n",
       "}}\n",
       "\n",
       "                        })\n",
       "                };\n",
       "                });\n",
       "            </script>\n",
       "        </div>"
      ]
     },
     "metadata": {},
     "output_type": "display_data"
    }
   ],
   "source": [
    "df3.iplot(kind='surface')"
   ]
  },
  {
   "cell_type": "code",
   "execution_count": 35,
   "metadata": {},
   "outputs": [
    {
     "data": {
      "application/vnd.plotly.v1+json": {
       "config": {
        "linkText": "Export to plot.ly",
        "plotlyServerURL": "https://plot.ly",
        "showLink": true
       },
       "data": [
        {
         "colorscale": [
          [
           0,
           "rgb(165,0,38)"
          ],
          [
           0.1,
           "rgb(215,48,39)"
          ],
          [
           0.2,
           "rgb(244,109,67)"
          ],
          [
           0.3,
           "rgb(253,174,97)"
          ],
          [
           0.4,
           "rgb(254,224,144)"
          ],
          [
           0.5,
           "rgb(255,255,191)"
          ],
          [
           0.6,
           "rgb(224,243,248)"
          ],
          [
           0.7,
           "rgb(171,217,233)"
          ],
          [
           0.8,
           "rgb(116,173,209)"
          ],
          [
           0.9,
           "rgb(69,117,180)"
          ],
          [
           1,
           "rgb(49,54,149)"
          ]
         ],
         "type": "surface",
         "x": [
          0,
          1,
          2,
          3,
          4
         ],
         "y": [
          "x",
          "y",
          "z"
         ],
         "z": [
          [
           1,
           2,
           3,
           4,
           5
          ],
          [
           10,
           20,
           30,
           40,
           50
          ],
          [
           5,
           4,
           3,
           2,
           1
          ]
         ]
        }
       ],
       "layout": {
        "legend": {
         "bgcolor": "#F5F6F9",
         "font": {
          "color": "#4D5663"
         }
        },
        "paper_bgcolor": "#F5F6F9",
        "plot_bgcolor": "#F5F6F9",
        "template": {
         "data": {
          "bar": [
           {
            "error_x": {
             "color": "#2a3f5f"
            },
            "error_y": {
             "color": "#2a3f5f"
            },
            "marker": {
             "line": {
              "color": "#E5ECF6",
              "width": 0.5
             }
            },
            "type": "bar"
           }
          ],
          "barpolar": [
           {
            "marker": {
             "line": {
              "color": "#E5ECF6",
              "width": 0.5
             }
            },
            "type": "barpolar"
           }
          ],
          "carpet": [
           {
            "aaxis": {
             "endlinecolor": "#2a3f5f",
             "gridcolor": "white",
             "linecolor": "white",
             "minorgridcolor": "white",
             "startlinecolor": "#2a3f5f"
            },
            "baxis": {
             "endlinecolor": "#2a3f5f",
             "gridcolor": "white",
             "linecolor": "white",
             "minorgridcolor": "white",
             "startlinecolor": "#2a3f5f"
            },
            "type": "carpet"
           }
          ],
          "choropleth": [
           {
            "colorbar": {
             "outlinewidth": 0,
             "ticks": ""
            },
            "type": "choropleth"
           }
          ],
          "contour": [
           {
            "colorbar": {
             "outlinewidth": 0,
             "ticks": ""
            },
            "colorscale": [
             [
              0,
              "#0d0887"
             ],
             [
              0.1111111111111111,
              "#46039f"
             ],
             [
              0.2222222222222222,
              "#7201a8"
             ],
             [
              0.3333333333333333,
              "#9c179e"
             ],
             [
              0.4444444444444444,
              "#bd3786"
             ],
             [
              0.5555555555555556,
              "#d8576b"
             ],
             [
              0.6666666666666666,
              "#ed7953"
             ],
             [
              0.7777777777777778,
              "#fb9f3a"
             ],
             [
              0.8888888888888888,
              "#fdca26"
             ],
             [
              1,
              "#f0f921"
             ]
            ],
            "type": "contour"
           }
          ],
          "contourcarpet": [
           {
            "colorbar": {
             "outlinewidth": 0,
             "ticks": ""
            },
            "type": "contourcarpet"
           }
          ],
          "heatmap": [
           {
            "colorbar": {
             "outlinewidth": 0,
             "ticks": ""
            },
            "colorscale": [
             [
              0,
              "#0d0887"
             ],
             [
              0.1111111111111111,
              "#46039f"
             ],
             [
              0.2222222222222222,
              "#7201a8"
             ],
             [
              0.3333333333333333,
              "#9c179e"
             ],
             [
              0.4444444444444444,
              "#bd3786"
             ],
             [
              0.5555555555555556,
              "#d8576b"
             ],
             [
              0.6666666666666666,
              "#ed7953"
             ],
             [
              0.7777777777777778,
              "#fb9f3a"
             ],
             [
              0.8888888888888888,
              "#fdca26"
             ],
             [
              1,
              "#f0f921"
             ]
            ],
            "type": "heatmap"
           }
          ],
          "heatmapgl": [
           {
            "colorbar": {
             "outlinewidth": 0,
             "ticks": ""
            },
            "colorscale": [
             [
              0,
              "#0d0887"
             ],
             [
              0.1111111111111111,
              "#46039f"
             ],
             [
              0.2222222222222222,
              "#7201a8"
             ],
             [
              0.3333333333333333,
              "#9c179e"
             ],
             [
              0.4444444444444444,
              "#bd3786"
             ],
             [
              0.5555555555555556,
              "#d8576b"
             ],
             [
              0.6666666666666666,
              "#ed7953"
             ],
             [
              0.7777777777777778,
              "#fb9f3a"
             ],
             [
              0.8888888888888888,
              "#fdca26"
             ],
             [
              1,
              "#f0f921"
             ]
            ],
            "type": "heatmapgl"
           }
          ],
          "histogram": [
           {
            "marker": {
             "colorbar": {
              "outlinewidth": 0,
              "ticks": ""
             }
            },
            "type": "histogram"
           }
          ],
          "histogram2d": [
           {
            "colorbar": {
             "outlinewidth": 0,
             "ticks": ""
            },
            "colorscale": [
             [
              0,
              "#0d0887"
             ],
             [
              0.1111111111111111,
              "#46039f"
             ],
             [
              0.2222222222222222,
              "#7201a8"
             ],
             [
              0.3333333333333333,
              "#9c179e"
             ],
             [
              0.4444444444444444,
              "#bd3786"
             ],
             [
              0.5555555555555556,
              "#d8576b"
             ],
             [
              0.6666666666666666,
              "#ed7953"
             ],
             [
              0.7777777777777778,
              "#fb9f3a"
             ],
             [
              0.8888888888888888,
              "#fdca26"
             ],
             [
              1,
              "#f0f921"
             ]
            ],
            "type": "histogram2d"
           }
          ],
          "histogram2dcontour": [
           {
            "colorbar": {
             "outlinewidth": 0,
             "ticks": ""
            },
            "colorscale": [
             [
              0,
              "#0d0887"
             ],
             [
              0.1111111111111111,
              "#46039f"
             ],
             [
              0.2222222222222222,
              "#7201a8"
             ],
             [
              0.3333333333333333,
              "#9c179e"
             ],
             [
              0.4444444444444444,
              "#bd3786"
             ],
             [
              0.5555555555555556,
              "#d8576b"
             ],
             [
              0.6666666666666666,
              "#ed7953"
             ],
             [
              0.7777777777777778,
              "#fb9f3a"
             ],
             [
              0.8888888888888888,
              "#fdca26"
             ],
             [
              1,
              "#f0f921"
             ]
            ],
            "type": "histogram2dcontour"
           }
          ],
          "mesh3d": [
           {
            "colorbar": {
             "outlinewidth": 0,
             "ticks": ""
            },
            "type": "mesh3d"
           }
          ],
          "parcoords": [
           {
            "line": {
             "colorbar": {
              "outlinewidth": 0,
              "ticks": ""
             }
            },
            "type": "parcoords"
           }
          ],
          "pie": [
           {
            "automargin": true,
            "type": "pie"
           }
          ],
          "scatter": [
           {
            "marker": {
             "colorbar": {
              "outlinewidth": 0,
              "ticks": ""
             }
            },
            "type": "scatter"
           }
          ],
          "scatter3d": [
           {
            "line": {
             "colorbar": {
              "outlinewidth": 0,
              "ticks": ""
             }
            },
            "marker": {
             "colorbar": {
              "outlinewidth": 0,
              "ticks": ""
             }
            },
            "type": "scatter3d"
           }
          ],
          "scattercarpet": [
           {
            "marker": {
             "colorbar": {
              "outlinewidth": 0,
              "ticks": ""
             }
            },
            "type": "scattercarpet"
           }
          ],
          "scattergeo": [
           {
            "marker": {
             "colorbar": {
              "outlinewidth": 0,
              "ticks": ""
             }
            },
            "type": "scattergeo"
           }
          ],
          "scattergl": [
           {
            "marker": {
             "colorbar": {
              "outlinewidth": 0,
              "ticks": ""
             }
            },
            "type": "scattergl"
           }
          ],
          "scattermapbox": [
           {
            "marker": {
             "colorbar": {
              "outlinewidth": 0,
              "ticks": ""
             }
            },
            "type": "scattermapbox"
           }
          ],
          "scatterpolar": [
           {
            "marker": {
             "colorbar": {
              "outlinewidth": 0,
              "ticks": ""
             }
            },
            "type": "scatterpolar"
           }
          ],
          "scatterpolargl": [
           {
            "marker": {
             "colorbar": {
              "outlinewidth": 0,
              "ticks": ""
             }
            },
            "type": "scatterpolargl"
           }
          ],
          "scatterternary": [
           {
            "marker": {
             "colorbar": {
              "outlinewidth": 0,
              "ticks": ""
             }
            },
            "type": "scatterternary"
           }
          ],
          "surface": [
           {
            "colorbar": {
             "outlinewidth": 0,
             "ticks": ""
            },
            "colorscale": [
             [
              0,
              "#0d0887"
             ],
             [
              0.1111111111111111,
              "#46039f"
             ],
             [
              0.2222222222222222,
              "#7201a8"
             ],
             [
              0.3333333333333333,
              "#9c179e"
             ],
             [
              0.4444444444444444,
              "#bd3786"
             ],
             [
              0.5555555555555556,
              "#d8576b"
             ],
             [
              0.6666666666666666,
              "#ed7953"
             ],
             [
              0.7777777777777778,
              "#fb9f3a"
             ],
             [
              0.8888888888888888,
              "#fdca26"
             ],
             [
              1,
              "#f0f921"
             ]
            ],
            "type": "surface"
           }
          ],
          "table": [
           {
            "cells": {
             "fill": {
              "color": "#EBF0F8"
             },
             "line": {
              "color": "white"
             }
            },
            "header": {
             "fill": {
              "color": "#C8D4E3"
             },
             "line": {
              "color": "white"
             }
            },
            "type": "table"
           }
          ]
         },
         "layout": {
          "annotationdefaults": {
           "arrowcolor": "#2a3f5f",
           "arrowhead": 0,
           "arrowwidth": 1
          },
          "coloraxis": {
           "colorbar": {
            "outlinewidth": 0,
            "ticks": ""
           }
          },
          "colorscale": {
           "diverging": [
            [
             0,
             "#8e0152"
            ],
            [
             0.1,
             "#c51b7d"
            ],
            [
             0.2,
             "#de77ae"
            ],
            [
             0.3,
             "#f1b6da"
            ],
            [
             0.4,
             "#fde0ef"
            ],
            [
             0.5,
             "#f7f7f7"
            ],
            [
             0.6,
             "#e6f5d0"
            ],
            [
             0.7,
             "#b8e186"
            ],
            [
             0.8,
             "#7fbc41"
            ],
            [
             0.9,
             "#4d9221"
            ],
            [
             1,
             "#276419"
            ]
           ],
           "sequential": [
            [
             0,
             "#0d0887"
            ],
            [
             0.1111111111111111,
             "#46039f"
            ],
            [
             0.2222222222222222,
             "#7201a8"
            ],
            [
             0.3333333333333333,
             "#9c179e"
            ],
            [
             0.4444444444444444,
             "#bd3786"
            ],
            [
             0.5555555555555556,
             "#d8576b"
            ],
            [
             0.6666666666666666,
             "#ed7953"
            ],
            [
             0.7777777777777778,
             "#fb9f3a"
            ],
            [
             0.8888888888888888,
             "#fdca26"
            ],
            [
             1,
             "#f0f921"
            ]
           ],
           "sequentialminus": [
            [
             0,
             "#0d0887"
            ],
            [
             0.1111111111111111,
             "#46039f"
            ],
            [
             0.2222222222222222,
             "#7201a8"
            ],
            [
             0.3333333333333333,
             "#9c179e"
            ],
            [
             0.4444444444444444,
             "#bd3786"
            ],
            [
             0.5555555555555556,
             "#d8576b"
            ],
            [
             0.6666666666666666,
             "#ed7953"
            ],
            [
             0.7777777777777778,
             "#fb9f3a"
            ],
            [
             0.8888888888888888,
             "#fdca26"
            ],
            [
             1,
             "#f0f921"
            ]
           ]
          },
          "colorway": [
           "#636efa",
           "#EF553B",
           "#00cc96",
           "#ab63fa",
           "#FFA15A",
           "#19d3f3",
           "#FF6692",
           "#B6E880",
           "#FF97FF",
           "#FECB52"
          ],
          "font": {
           "color": "#2a3f5f"
          },
          "geo": {
           "bgcolor": "white",
           "lakecolor": "white",
           "landcolor": "#E5ECF6",
           "showlakes": true,
           "showland": true,
           "subunitcolor": "white"
          },
          "hoverlabel": {
           "align": "left"
          },
          "hovermode": "closest",
          "mapbox": {
           "style": "light"
          },
          "paper_bgcolor": "white",
          "plot_bgcolor": "#E5ECF6",
          "polar": {
           "angularaxis": {
            "gridcolor": "white",
            "linecolor": "white",
            "ticks": ""
           },
           "bgcolor": "#E5ECF6",
           "radialaxis": {
            "gridcolor": "white",
            "linecolor": "white",
            "ticks": ""
           }
          },
          "scene": {
           "xaxis": {
            "backgroundcolor": "#E5ECF6",
            "gridcolor": "white",
            "gridwidth": 2,
            "linecolor": "white",
            "showbackground": true,
            "ticks": "",
            "zerolinecolor": "white"
           },
           "yaxis": {
            "backgroundcolor": "#E5ECF6",
            "gridcolor": "white",
            "gridwidth": 2,
            "linecolor": "white",
            "showbackground": true,
            "ticks": "",
            "zerolinecolor": "white"
           },
           "zaxis": {
            "backgroundcolor": "#E5ECF6",
            "gridcolor": "white",
            "gridwidth": 2,
            "linecolor": "white",
            "showbackground": true,
            "ticks": "",
            "zerolinecolor": "white"
           }
          },
          "shapedefaults": {
           "line": {
            "color": "#2a3f5f"
           }
          },
          "ternary": {
           "aaxis": {
            "gridcolor": "white",
            "linecolor": "white",
            "ticks": ""
           },
           "baxis": {
            "gridcolor": "white",
            "linecolor": "white",
            "ticks": ""
           },
           "bgcolor": "#E5ECF6",
           "caxis": {
            "gridcolor": "white",
            "linecolor": "white",
            "ticks": ""
           }
          },
          "title": {
           "x": 0.05
          },
          "xaxis": {
           "automargin": true,
           "gridcolor": "white",
           "linecolor": "white",
           "ticks": "",
           "title": {
            "standoff": 15
           },
           "zerolinecolor": "white",
           "zerolinewidth": 2
          },
          "yaxis": {
           "automargin": true,
           "gridcolor": "white",
           "linecolor": "white",
           "ticks": "",
           "title": {
            "standoff": 15
           },
           "zerolinecolor": "white",
           "zerolinewidth": 2
          }
         }
        },
        "title": {
         "font": {
          "color": "#4D5663"
         }
        },
        "xaxis": {
         "gridcolor": "#E1E5ED",
         "showgrid": true,
         "tickfont": {
          "color": "#4D5663"
         },
         "title": {
          "font": {
           "color": "#4D5663"
          },
          "text": ""
         },
         "zerolinecolor": "#E1E5ED"
        },
        "yaxis": {
         "gridcolor": "#E1E5ED",
         "showgrid": true,
         "tickfont": {
          "color": "#4D5663"
         },
         "title": {
          "font": {
           "color": "#4D5663"
          },
          "text": ""
         },
         "zerolinecolor": "#E1E5ED"
        }
       }
      },
      "text/html": [
       "<div>\n",
       "        \n",
       "        \n",
       "            <div id=\"98e5d8fd-3e31-45a1-ad60-b5f42a80bb1d\" class=\"plotly-graph-div\" style=\"height:525px; width:100%;\"></div>\n",
       "            <script type=\"text/javascript\">\n",
       "                require([\"plotly\"], function(Plotly) {\n",
       "                    window.PLOTLYENV=window.PLOTLYENV || {};\n",
       "                    window.PLOTLYENV.BASE_URL='https://plot.ly';\n",
       "                    \n",
       "                if (document.getElementById(\"98e5d8fd-3e31-45a1-ad60-b5f42a80bb1d\")) {\n",
       "                    Plotly.newPlot(\n",
       "                        '98e5d8fd-3e31-45a1-ad60-b5f42a80bb1d',\n",
       "                        [{\"colorscale\": [[0.0, \"rgb(165,0,38)\"], [0.1, \"rgb(215,48,39)\"], [0.2, \"rgb(244,109,67)\"], [0.3, \"rgb(253,174,97)\"], [0.4, \"rgb(254,224,144)\"], [0.5, \"rgb(255,255,191)\"], [0.6, \"rgb(224,243,248)\"], [0.7, \"rgb(171,217,233)\"], [0.8, \"rgb(116,173,209)\"], [0.9, \"rgb(69,117,180)\"], [1.0, \"rgb(49,54,149)\"]], \"type\": \"surface\", \"x\": [0, 1, 2, 3, 4], \"y\": [\"x\", \"y\", \"z\"], \"z\": [[1, 2, 3, 4, 5], [10, 20, 30, 40, 50], [5, 4, 3, 2, 1]]}],\n",
       "                        {\"legend\": {\"bgcolor\": \"#F5F6F9\", \"font\": {\"color\": \"#4D5663\"}}, \"paper_bgcolor\": \"#F5F6F9\", \"plot_bgcolor\": \"#F5F6F9\", \"template\": {\"data\": {\"bar\": [{\"error_x\": {\"color\": \"#2a3f5f\"}, \"error_y\": {\"color\": \"#2a3f5f\"}, \"marker\": {\"line\": {\"color\": \"#E5ECF6\", \"width\": 0.5}}, \"type\": \"bar\"}], \"barpolar\": [{\"marker\": {\"line\": {\"color\": \"#E5ECF6\", \"width\": 0.5}}, \"type\": \"barpolar\"}], \"carpet\": [{\"aaxis\": {\"endlinecolor\": \"#2a3f5f\", \"gridcolor\": \"white\", \"linecolor\": \"white\", \"minorgridcolor\": \"white\", \"startlinecolor\": \"#2a3f5f\"}, \"baxis\": {\"endlinecolor\": \"#2a3f5f\", \"gridcolor\": \"white\", \"linecolor\": \"white\", \"minorgridcolor\": \"white\", \"startlinecolor\": \"#2a3f5f\"}, \"type\": \"carpet\"}], \"choropleth\": [{\"colorbar\": {\"outlinewidth\": 0, \"ticks\": \"\"}, \"type\": \"choropleth\"}], \"contour\": [{\"colorbar\": {\"outlinewidth\": 0, \"ticks\": \"\"}, \"colorscale\": [[0.0, \"#0d0887\"], [0.1111111111111111, \"#46039f\"], [0.2222222222222222, \"#7201a8\"], [0.3333333333333333, \"#9c179e\"], [0.4444444444444444, \"#bd3786\"], [0.5555555555555556, \"#d8576b\"], [0.6666666666666666, \"#ed7953\"], [0.7777777777777778, \"#fb9f3a\"], [0.8888888888888888, \"#fdca26\"], [1.0, \"#f0f921\"]], \"type\": \"contour\"}], \"contourcarpet\": [{\"colorbar\": {\"outlinewidth\": 0, \"ticks\": \"\"}, \"type\": \"contourcarpet\"}], \"heatmap\": [{\"colorbar\": {\"outlinewidth\": 0, \"ticks\": \"\"}, \"colorscale\": [[0.0, \"#0d0887\"], [0.1111111111111111, \"#46039f\"], [0.2222222222222222, \"#7201a8\"], [0.3333333333333333, \"#9c179e\"], [0.4444444444444444, \"#bd3786\"], [0.5555555555555556, \"#d8576b\"], [0.6666666666666666, \"#ed7953\"], [0.7777777777777778, \"#fb9f3a\"], [0.8888888888888888, \"#fdca26\"], [1.0, \"#f0f921\"]], \"type\": \"heatmap\"}], \"heatmapgl\": [{\"colorbar\": {\"outlinewidth\": 0, \"ticks\": \"\"}, \"colorscale\": [[0.0, \"#0d0887\"], [0.1111111111111111, \"#46039f\"], [0.2222222222222222, \"#7201a8\"], [0.3333333333333333, \"#9c179e\"], [0.4444444444444444, \"#bd3786\"], [0.5555555555555556, \"#d8576b\"], [0.6666666666666666, \"#ed7953\"], [0.7777777777777778, \"#fb9f3a\"], [0.8888888888888888, \"#fdca26\"], [1.0, \"#f0f921\"]], \"type\": \"heatmapgl\"}], \"histogram\": [{\"marker\": {\"colorbar\": {\"outlinewidth\": 0, \"ticks\": \"\"}}, \"type\": \"histogram\"}], \"histogram2d\": [{\"colorbar\": {\"outlinewidth\": 0, \"ticks\": \"\"}, \"colorscale\": [[0.0, \"#0d0887\"], [0.1111111111111111, \"#46039f\"], [0.2222222222222222, \"#7201a8\"], [0.3333333333333333, \"#9c179e\"], [0.4444444444444444, \"#bd3786\"], [0.5555555555555556, \"#d8576b\"], [0.6666666666666666, \"#ed7953\"], [0.7777777777777778, \"#fb9f3a\"], [0.8888888888888888, \"#fdca26\"], [1.0, \"#f0f921\"]], \"type\": \"histogram2d\"}], \"histogram2dcontour\": [{\"colorbar\": {\"outlinewidth\": 0, \"ticks\": \"\"}, \"colorscale\": [[0.0, \"#0d0887\"], [0.1111111111111111, \"#46039f\"], [0.2222222222222222, \"#7201a8\"], [0.3333333333333333, \"#9c179e\"], [0.4444444444444444, \"#bd3786\"], [0.5555555555555556, \"#d8576b\"], [0.6666666666666666, \"#ed7953\"], [0.7777777777777778, \"#fb9f3a\"], [0.8888888888888888, \"#fdca26\"], [1.0, \"#f0f921\"]], \"type\": \"histogram2dcontour\"}], \"mesh3d\": [{\"colorbar\": {\"outlinewidth\": 0, \"ticks\": \"\"}, \"type\": \"mesh3d\"}], \"parcoords\": [{\"line\": {\"colorbar\": {\"outlinewidth\": 0, \"ticks\": \"\"}}, \"type\": \"parcoords\"}], \"pie\": [{\"automargin\": true, \"type\": \"pie\"}], \"scatter\": [{\"marker\": {\"colorbar\": {\"outlinewidth\": 0, \"ticks\": \"\"}}, \"type\": \"scatter\"}], \"scatter3d\": [{\"line\": {\"colorbar\": {\"outlinewidth\": 0, \"ticks\": \"\"}}, \"marker\": {\"colorbar\": {\"outlinewidth\": 0, \"ticks\": \"\"}}, \"type\": \"scatter3d\"}], \"scattercarpet\": [{\"marker\": {\"colorbar\": {\"outlinewidth\": 0, \"ticks\": \"\"}}, \"type\": \"scattercarpet\"}], \"scattergeo\": [{\"marker\": {\"colorbar\": {\"outlinewidth\": 0, \"ticks\": \"\"}}, \"type\": \"scattergeo\"}], \"scattergl\": [{\"marker\": {\"colorbar\": {\"outlinewidth\": 0, \"ticks\": \"\"}}, \"type\": \"scattergl\"}], \"scattermapbox\": [{\"marker\": {\"colorbar\": {\"outlinewidth\": 0, \"ticks\": \"\"}}, \"type\": \"scattermapbox\"}], \"scatterpolar\": [{\"marker\": {\"colorbar\": {\"outlinewidth\": 0, \"ticks\": \"\"}}, \"type\": \"scatterpolar\"}], \"scatterpolargl\": [{\"marker\": {\"colorbar\": {\"outlinewidth\": 0, \"ticks\": \"\"}}, \"type\": \"scatterpolargl\"}], \"scatterternary\": [{\"marker\": {\"colorbar\": {\"outlinewidth\": 0, \"ticks\": \"\"}}, \"type\": \"scatterternary\"}], \"surface\": [{\"colorbar\": {\"outlinewidth\": 0, \"ticks\": \"\"}, \"colorscale\": [[0.0, \"#0d0887\"], [0.1111111111111111, \"#46039f\"], [0.2222222222222222, \"#7201a8\"], [0.3333333333333333, \"#9c179e\"], [0.4444444444444444, \"#bd3786\"], [0.5555555555555556, \"#d8576b\"], [0.6666666666666666, \"#ed7953\"], [0.7777777777777778, \"#fb9f3a\"], [0.8888888888888888, \"#fdca26\"], [1.0, \"#f0f921\"]], \"type\": \"surface\"}], \"table\": [{\"cells\": {\"fill\": {\"color\": \"#EBF0F8\"}, \"line\": {\"color\": \"white\"}}, \"header\": {\"fill\": {\"color\": \"#C8D4E3\"}, \"line\": {\"color\": \"white\"}}, \"type\": \"table\"}]}, \"layout\": {\"annotationdefaults\": {\"arrowcolor\": \"#2a3f5f\", \"arrowhead\": 0, \"arrowwidth\": 1}, \"coloraxis\": {\"colorbar\": {\"outlinewidth\": 0, \"ticks\": \"\"}}, \"colorscale\": {\"diverging\": [[0, \"#8e0152\"], [0.1, \"#c51b7d\"], [0.2, \"#de77ae\"], [0.3, \"#f1b6da\"], [0.4, \"#fde0ef\"], [0.5, \"#f7f7f7\"], [0.6, \"#e6f5d0\"], [0.7, \"#b8e186\"], [0.8, \"#7fbc41\"], [0.9, \"#4d9221\"], [1, \"#276419\"]], \"sequential\": [[0.0, \"#0d0887\"], [0.1111111111111111, \"#46039f\"], [0.2222222222222222, \"#7201a8\"], [0.3333333333333333, \"#9c179e\"], [0.4444444444444444, \"#bd3786\"], [0.5555555555555556, \"#d8576b\"], [0.6666666666666666, \"#ed7953\"], [0.7777777777777778, \"#fb9f3a\"], [0.8888888888888888, \"#fdca26\"], [1.0, \"#f0f921\"]], \"sequentialminus\": [[0.0, \"#0d0887\"], [0.1111111111111111, \"#46039f\"], [0.2222222222222222, \"#7201a8\"], [0.3333333333333333, \"#9c179e\"], [0.4444444444444444, \"#bd3786\"], [0.5555555555555556, \"#d8576b\"], [0.6666666666666666, \"#ed7953\"], [0.7777777777777778, \"#fb9f3a\"], [0.8888888888888888, \"#fdca26\"], [1.0, \"#f0f921\"]]}, \"colorway\": [\"#636efa\", \"#EF553B\", \"#00cc96\", \"#ab63fa\", \"#FFA15A\", \"#19d3f3\", \"#FF6692\", \"#B6E880\", \"#FF97FF\", \"#FECB52\"], \"font\": {\"color\": \"#2a3f5f\"}, \"geo\": {\"bgcolor\": \"white\", \"lakecolor\": \"white\", \"landcolor\": \"#E5ECF6\", \"showlakes\": true, \"showland\": true, \"subunitcolor\": \"white\"}, \"hoverlabel\": {\"align\": \"left\"}, \"hovermode\": \"closest\", \"mapbox\": {\"style\": \"light\"}, \"paper_bgcolor\": \"white\", \"plot_bgcolor\": \"#E5ECF6\", \"polar\": {\"angularaxis\": {\"gridcolor\": \"white\", \"linecolor\": \"white\", \"ticks\": \"\"}, \"bgcolor\": \"#E5ECF6\", \"radialaxis\": {\"gridcolor\": \"white\", \"linecolor\": \"white\", \"ticks\": \"\"}}, \"scene\": {\"xaxis\": {\"backgroundcolor\": \"#E5ECF6\", \"gridcolor\": \"white\", \"gridwidth\": 2, \"linecolor\": \"white\", \"showbackground\": true, \"ticks\": \"\", \"zerolinecolor\": \"white\"}, \"yaxis\": {\"backgroundcolor\": \"#E5ECF6\", \"gridcolor\": \"white\", \"gridwidth\": 2, \"linecolor\": \"white\", \"showbackground\": true, \"ticks\": \"\", \"zerolinecolor\": \"white\"}, \"zaxis\": {\"backgroundcolor\": \"#E5ECF6\", \"gridcolor\": \"white\", \"gridwidth\": 2, \"linecolor\": \"white\", \"showbackground\": true, \"ticks\": \"\", \"zerolinecolor\": \"white\"}}, \"shapedefaults\": {\"line\": {\"color\": \"#2a3f5f\"}}, \"ternary\": {\"aaxis\": {\"gridcolor\": \"white\", \"linecolor\": \"white\", \"ticks\": \"\"}, \"baxis\": {\"gridcolor\": \"white\", \"linecolor\": \"white\", \"ticks\": \"\"}, \"bgcolor\": \"#E5ECF6\", \"caxis\": {\"gridcolor\": \"white\", \"linecolor\": \"white\", \"ticks\": \"\"}}, \"title\": {\"x\": 0.05}, \"xaxis\": {\"automargin\": true, \"gridcolor\": \"white\", \"linecolor\": \"white\", \"ticks\": \"\", \"title\": {\"standoff\": 15}, \"zerolinecolor\": \"white\", \"zerolinewidth\": 2}, \"yaxis\": {\"automargin\": true, \"gridcolor\": \"white\", \"linecolor\": \"white\", \"ticks\": \"\", \"title\": {\"standoff\": 15}, \"zerolinecolor\": \"white\", \"zerolinewidth\": 2}}}, \"title\": {\"font\": {\"color\": \"#4D5663\"}}, \"xaxis\": {\"gridcolor\": \"#E1E5ED\", \"showgrid\": true, \"tickfont\": {\"color\": \"#4D5663\"}, \"title\": {\"font\": {\"color\": \"#4D5663\"}, \"text\": \"\"}, \"zerolinecolor\": \"#E1E5ED\"}, \"yaxis\": {\"gridcolor\": \"#E1E5ED\", \"showgrid\": true, \"tickfont\": {\"color\": \"#4D5663\"}, \"title\": {\"font\": {\"color\": \"#4D5663\"}, \"text\": \"\"}, \"zerolinecolor\": \"#E1E5ED\"}},\n",
       "                        {\"showLink\": true, \"linkText\": \"Export to plot.ly\", \"plotlyServerURL\": \"https://plot.ly\", \"responsive\": true}\n",
       "                    ).then(function(){\n",
       "                            \n",
       "var gd = document.getElementById('98e5d8fd-3e31-45a1-ad60-b5f42a80bb1d');\n",
       "var x = new MutationObserver(function (mutations, observer) {{\n",
       "        var display = window.getComputedStyle(gd).display;\n",
       "        if (!display || display === 'none') {{\n",
       "            console.log([gd, 'removed!']);\n",
       "            Plotly.purge(gd);\n",
       "            observer.disconnect();\n",
       "        }}\n",
       "}});\n",
       "\n",
       "// Listen for the removal of the full notebook cells\n",
       "var notebookContainer = gd.closest('#notebook-container');\n",
       "if (notebookContainer) {{\n",
       "    x.observe(notebookContainer, {childList: true});\n",
       "}}\n",
       "\n",
       "// Listen for the clearing of the current output cell\n",
       "var outputEl = gd.closest('.output');\n",
       "if (outputEl) {{\n",
       "    x.observe(outputEl, {childList: true});\n",
       "}}\n",
       "\n",
       "                        })\n",
       "                };\n",
       "                });\n",
       "            </script>\n",
       "        </div>"
      ]
     },
     "metadata": {},
     "output_type": "display_data"
    }
   ],
   "source": [
    "df3.iplot(kind='surface',colorscale='rdylbu')"
   ]
  },
  {
   "cell_type": "code",
   "execution_count": 36,
   "metadata": {},
   "outputs": [
    {
     "data": {
      "application/vnd.plotly.v1+json": {
       "config": {
        "linkText": "Export to plot.ly",
        "plotlyServerURL": "https://plot.ly",
        "showLink": true
       },
       "data": [
        {
         "histfunc": "count",
         "histnorm": "",
         "marker": {
          "color": "rgba(255, 153, 51, 1.0)",
          "line": {
           "color": "#4D5663",
           "width": 1.3
          }
         },
         "name": "A",
         "nbinsx": 25,
         "opacity": 0.8,
         "orientation": "v",
         "type": "histogram",
         "x": [
          0.3464195938218623,
          1.2191331189779477,
          -1.566198556307964,
          0.46573085450095364,
          -0.15261785777811135,
          -0.8028457730946738,
          -1.2939789962191617,
          -0.6418087219226248,
          1.9109107394573086,
          -0.7984950981964833,
          0.37572064407586353,
          0.10804546809227975,
          -0.2955939166246089,
          0.6668013724677774,
          1.606777904150411,
          0.18473563502452545,
          -0.21514032491554505,
          -0.2776151300214792,
          0.8398510702601665,
          -0.17787273295740644,
          1.8394677466697062,
          -0.6830318073232281,
          1.1910043748570203,
          -0.06296070100823661,
          0.3893011193237392,
          -0.5418276224573682,
          0.1456421026340764,
          1.3478116660010542,
          1.3398140902363653,
          0.17909770396651062,
          -0.7347774212014662,
          -0.664509282045416,
          1.9958932346583351,
          0.06464239428800038,
          -0.17331233101528445,
          -1.5199911226136043,
          -0.011764777467682862,
          -0.22961655060029354,
          0.8344144539000332,
          -0.6252542380202118,
          -0.35722719110995915,
          1.4681106315488035,
          -0.972833984774363,
          -1.3185876357784978,
          0.8369173852064116,
          -0.7203822787149038,
          0.5391211086088187,
          0.40930127362148827,
          1.3305953798884078,
          0.7875773751444973,
          0.24411739461868534,
          -0.08843505642188325,
          0.268342155604911,
          0.053365885727759556,
          -0.027406353957162198,
          -0.542478529849032,
          0.6176151365107044,
          -0.18176398391036097,
          -0.2045336720258062,
          0.32644055801113225,
          0.5569115331629004,
          0.4709120552818683,
          -0.5511771984791615,
          0.38672288804052146,
          0.49369878628381486,
          0.8742747551276879,
          -0.7728036843643227,
          -0.5316316557408409,
          -0.019359629269128015,
          -0.43540839748513804,
          2.193864246093326,
          0.7071061333240987,
          -0.6738965948167931,
          2.3946971136177124,
          1.2529062193552296,
          1.0214426121109126,
          -0.18054114299205762,
          -1.848921966805281,
          1.3846982722939123,
          0.37389409884423136,
          -0.5518891745455325,
          -0.812964815588062,
          -0.1445860029165156,
          0.5976439474074358,
          -0.031143888839414168,
          1.288640608161686,
          -1.3760544674922424,
          0.9963133082520479,
          0.9751556082817852,
          -0.07231954115489966,
          -0.36525133427411105,
          0.8539810900777741,
          -0.5593653152080624,
          1.6784765782994218,
          1.49764233252627,
          -0.8623001565375716,
          -0.7415847178841932,
          1.1902930047966387,
          0.5729387527499807,
          -0.2143483560074946
         ]
        }
       ],
       "layout": {
        "barmode": "overlay",
        "legend": {
         "bgcolor": "#F5F6F9",
         "font": {
          "color": "#4D5663"
         }
        },
        "paper_bgcolor": "#F5F6F9",
        "plot_bgcolor": "#F5F6F9",
        "template": {
         "data": {
          "bar": [
           {
            "error_x": {
             "color": "#2a3f5f"
            },
            "error_y": {
             "color": "#2a3f5f"
            },
            "marker": {
             "line": {
              "color": "#E5ECF6",
              "width": 0.5
             }
            },
            "type": "bar"
           }
          ],
          "barpolar": [
           {
            "marker": {
             "line": {
              "color": "#E5ECF6",
              "width": 0.5
             }
            },
            "type": "barpolar"
           }
          ],
          "carpet": [
           {
            "aaxis": {
             "endlinecolor": "#2a3f5f",
             "gridcolor": "white",
             "linecolor": "white",
             "minorgridcolor": "white",
             "startlinecolor": "#2a3f5f"
            },
            "baxis": {
             "endlinecolor": "#2a3f5f",
             "gridcolor": "white",
             "linecolor": "white",
             "minorgridcolor": "white",
             "startlinecolor": "#2a3f5f"
            },
            "type": "carpet"
           }
          ],
          "choropleth": [
           {
            "colorbar": {
             "outlinewidth": 0,
             "ticks": ""
            },
            "type": "choropleth"
           }
          ],
          "contour": [
           {
            "colorbar": {
             "outlinewidth": 0,
             "ticks": ""
            },
            "colorscale": [
             [
              0,
              "#0d0887"
             ],
             [
              0.1111111111111111,
              "#46039f"
             ],
             [
              0.2222222222222222,
              "#7201a8"
             ],
             [
              0.3333333333333333,
              "#9c179e"
             ],
             [
              0.4444444444444444,
              "#bd3786"
             ],
             [
              0.5555555555555556,
              "#d8576b"
             ],
             [
              0.6666666666666666,
              "#ed7953"
             ],
             [
              0.7777777777777778,
              "#fb9f3a"
             ],
             [
              0.8888888888888888,
              "#fdca26"
             ],
             [
              1,
              "#f0f921"
             ]
            ],
            "type": "contour"
           }
          ],
          "contourcarpet": [
           {
            "colorbar": {
             "outlinewidth": 0,
             "ticks": ""
            },
            "type": "contourcarpet"
           }
          ],
          "heatmap": [
           {
            "colorbar": {
             "outlinewidth": 0,
             "ticks": ""
            },
            "colorscale": [
             [
              0,
              "#0d0887"
             ],
             [
              0.1111111111111111,
              "#46039f"
             ],
             [
              0.2222222222222222,
              "#7201a8"
             ],
             [
              0.3333333333333333,
              "#9c179e"
             ],
             [
              0.4444444444444444,
              "#bd3786"
             ],
             [
              0.5555555555555556,
              "#d8576b"
             ],
             [
              0.6666666666666666,
              "#ed7953"
             ],
             [
              0.7777777777777778,
              "#fb9f3a"
             ],
             [
              0.8888888888888888,
              "#fdca26"
             ],
             [
              1,
              "#f0f921"
             ]
            ],
            "type": "heatmap"
           }
          ],
          "heatmapgl": [
           {
            "colorbar": {
             "outlinewidth": 0,
             "ticks": ""
            },
            "colorscale": [
             [
              0,
              "#0d0887"
             ],
             [
              0.1111111111111111,
              "#46039f"
             ],
             [
              0.2222222222222222,
              "#7201a8"
             ],
             [
              0.3333333333333333,
              "#9c179e"
             ],
             [
              0.4444444444444444,
              "#bd3786"
             ],
             [
              0.5555555555555556,
              "#d8576b"
             ],
             [
              0.6666666666666666,
              "#ed7953"
             ],
             [
              0.7777777777777778,
              "#fb9f3a"
             ],
             [
              0.8888888888888888,
              "#fdca26"
             ],
             [
              1,
              "#f0f921"
             ]
            ],
            "type": "heatmapgl"
           }
          ],
          "histogram": [
           {
            "marker": {
             "colorbar": {
              "outlinewidth": 0,
              "ticks": ""
             }
            },
            "type": "histogram"
           }
          ],
          "histogram2d": [
           {
            "colorbar": {
             "outlinewidth": 0,
             "ticks": ""
            },
            "colorscale": [
             [
              0,
              "#0d0887"
             ],
             [
              0.1111111111111111,
              "#46039f"
             ],
             [
              0.2222222222222222,
              "#7201a8"
             ],
             [
              0.3333333333333333,
              "#9c179e"
             ],
             [
              0.4444444444444444,
              "#bd3786"
             ],
             [
              0.5555555555555556,
              "#d8576b"
             ],
             [
              0.6666666666666666,
              "#ed7953"
             ],
             [
              0.7777777777777778,
              "#fb9f3a"
             ],
             [
              0.8888888888888888,
              "#fdca26"
             ],
             [
              1,
              "#f0f921"
             ]
            ],
            "type": "histogram2d"
           }
          ],
          "histogram2dcontour": [
           {
            "colorbar": {
             "outlinewidth": 0,
             "ticks": ""
            },
            "colorscale": [
             [
              0,
              "#0d0887"
             ],
             [
              0.1111111111111111,
              "#46039f"
             ],
             [
              0.2222222222222222,
              "#7201a8"
             ],
             [
              0.3333333333333333,
              "#9c179e"
             ],
             [
              0.4444444444444444,
              "#bd3786"
             ],
             [
              0.5555555555555556,
              "#d8576b"
             ],
             [
              0.6666666666666666,
              "#ed7953"
             ],
             [
              0.7777777777777778,
              "#fb9f3a"
             ],
             [
              0.8888888888888888,
              "#fdca26"
             ],
             [
              1,
              "#f0f921"
             ]
            ],
            "type": "histogram2dcontour"
           }
          ],
          "mesh3d": [
           {
            "colorbar": {
             "outlinewidth": 0,
             "ticks": ""
            },
            "type": "mesh3d"
           }
          ],
          "parcoords": [
           {
            "line": {
             "colorbar": {
              "outlinewidth": 0,
              "ticks": ""
             }
            },
            "type": "parcoords"
           }
          ],
          "pie": [
           {
            "automargin": true,
            "type": "pie"
           }
          ],
          "scatter": [
           {
            "marker": {
             "colorbar": {
              "outlinewidth": 0,
              "ticks": ""
             }
            },
            "type": "scatter"
           }
          ],
          "scatter3d": [
           {
            "line": {
             "colorbar": {
              "outlinewidth": 0,
              "ticks": ""
             }
            },
            "marker": {
             "colorbar": {
              "outlinewidth": 0,
              "ticks": ""
             }
            },
            "type": "scatter3d"
           }
          ],
          "scattercarpet": [
           {
            "marker": {
             "colorbar": {
              "outlinewidth": 0,
              "ticks": ""
             }
            },
            "type": "scattercarpet"
           }
          ],
          "scattergeo": [
           {
            "marker": {
             "colorbar": {
              "outlinewidth": 0,
              "ticks": ""
             }
            },
            "type": "scattergeo"
           }
          ],
          "scattergl": [
           {
            "marker": {
             "colorbar": {
              "outlinewidth": 0,
              "ticks": ""
             }
            },
            "type": "scattergl"
           }
          ],
          "scattermapbox": [
           {
            "marker": {
             "colorbar": {
              "outlinewidth": 0,
              "ticks": ""
             }
            },
            "type": "scattermapbox"
           }
          ],
          "scatterpolar": [
           {
            "marker": {
             "colorbar": {
              "outlinewidth": 0,
              "ticks": ""
             }
            },
            "type": "scatterpolar"
           }
          ],
          "scatterpolargl": [
           {
            "marker": {
             "colorbar": {
              "outlinewidth": 0,
              "ticks": ""
             }
            },
            "type": "scatterpolargl"
           }
          ],
          "scatterternary": [
           {
            "marker": {
             "colorbar": {
              "outlinewidth": 0,
              "ticks": ""
             }
            },
            "type": "scatterternary"
           }
          ],
          "surface": [
           {
            "colorbar": {
             "outlinewidth": 0,
             "ticks": ""
            },
            "colorscale": [
             [
              0,
              "#0d0887"
             ],
             [
              0.1111111111111111,
              "#46039f"
             ],
             [
              0.2222222222222222,
              "#7201a8"
             ],
             [
              0.3333333333333333,
              "#9c179e"
             ],
             [
              0.4444444444444444,
              "#bd3786"
             ],
             [
              0.5555555555555556,
              "#d8576b"
             ],
             [
              0.6666666666666666,
              "#ed7953"
             ],
             [
              0.7777777777777778,
              "#fb9f3a"
             ],
             [
              0.8888888888888888,
              "#fdca26"
             ],
             [
              1,
              "#f0f921"
             ]
            ],
            "type": "surface"
           }
          ],
          "table": [
           {
            "cells": {
             "fill": {
              "color": "#EBF0F8"
             },
             "line": {
              "color": "white"
             }
            },
            "header": {
             "fill": {
              "color": "#C8D4E3"
             },
             "line": {
              "color": "white"
             }
            },
            "type": "table"
           }
          ]
         },
         "layout": {
          "annotationdefaults": {
           "arrowcolor": "#2a3f5f",
           "arrowhead": 0,
           "arrowwidth": 1
          },
          "coloraxis": {
           "colorbar": {
            "outlinewidth": 0,
            "ticks": ""
           }
          },
          "colorscale": {
           "diverging": [
            [
             0,
             "#8e0152"
            ],
            [
             0.1,
             "#c51b7d"
            ],
            [
             0.2,
             "#de77ae"
            ],
            [
             0.3,
             "#f1b6da"
            ],
            [
             0.4,
             "#fde0ef"
            ],
            [
             0.5,
             "#f7f7f7"
            ],
            [
             0.6,
             "#e6f5d0"
            ],
            [
             0.7,
             "#b8e186"
            ],
            [
             0.8,
             "#7fbc41"
            ],
            [
             0.9,
             "#4d9221"
            ],
            [
             1,
             "#276419"
            ]
           ],
           "sequential": [
            [
             0,
             "#0d0887"
            ],
            [
             0.1111111111111111,
             "#46039f"
            ],
            [
             0.2222222222222222,
             "#7201a8"
            ],
            [
             0.3333333333333333,
             "#9c179e"
            ],
            [
             0.4444444444444444,
             "#bd3786"
            ],
            [
             0.5555555555555556,
             "#d8576b"
            ],
            [
             0.6666666666666666,
             "#ed7953"
            ],
            [
             0.7777777777777778,
             "#fb9f3a"
            ],
            [
             0.8888888888888888,
             "#fdca26"
            ],
            [
             1,
             "#f0f921"
            ]
           ],
           "sequentialminus": [
            [
             0,
             "#0d0887"
            ],
            [
             0.1111111111111111,
             "#46039f"
            ],
            [
             0.2222222222222222,
             "#7201a8"
            ],
            [
             0.3333333333333333,
             "#9c179e"
            ],
            [
             0.4444444444444444,
             "#bd3786"
            ],
            [
             0.5555555555555556,
             "#d8576b"
            ],
            [
             0.6666666666666666,
             "#ed7953"
            ],
            [
             0.7777777777777778,
             "#fb9f3a"
            ],
            [
             0.8888888888888888,
             "#fdca26"
            ],
            [
             1,
             "#f0f921"
            ]
           ]
          },
          "colorway": [
           "#636efa",
           "#EF553B",
           "#00cc96",
           "#ab63fa",
           "#FFA15A",
           "#19d3f3",
           "#FF6692",
           "#B6E880",
           "#FF97FF",
           "#FECB52"
          ],
          "font": {
           "color": "#2a3f5f"
          },
          "geo": {
           "bgcolor": "white",
           "lakecolor": "white",
           "landcolor": "#E5ECF6",
           "showlakes": true,
           "showland": true,
           "subunitcolor": "white"
          },
          "hoverlabel": {
           "align": "left"
          },
          "hovermode": "closest",
          "mapbox": {
           "style": "light"
          },
          "paper_bgcolor": "white",
          "plot_bgcolor": "#E5ECF6",
          "polar": {
           "angularaxis": {
            "gridcolor": "white",
            "linecolor": "white",
            "ticks": ""
           },
           "bgcolor": "#E5ECF6",
           "radialaxis": {
            "gridcolor": "white",
            "linecolor": "white",
            "ticks": ""
           }
          },
          "scene": {
           "xaxis": {
            "backgroundcolor": "#E5ECF6",
            "gridcolor": "white",
            "gridwidth": 2,
            "linecolor": "white",
            "showbackground": true,
            "ticks": "",
            "zerolinecolor": "white"
           },
           "yaxis": {
            "backgroundcolor": "#E5ECF6",
            "gridcolor": "white",
            "gridwidth": 2,
            "linecolor": "white",
            "showbackground": true,
            "ticks": "",
            "zerolinecolor": "white"
           },
           "zaxis": {
            "backgroundcolor": "#E5ECF6",
            "gridcolor": "white",
            "gridwidth": 2,
            "linecolor": "white",
            "showbackground": true,
            "ticks": "",
            "zerolinecolor": "white"
           }
          },
          "shapedefaults": {
           "line": {
            "color": "#2a3f5f"
           }
          },
          "ternary": {
           "aaxis": {
            "gridcolor": "white",
            "linecolor": "white",
            "ticks": ""
           },
           "baxis": {
            "gridcolor": "white",
            "linecolor": "white",
            "ticks": ""
           },
           "bgcolor": "#E5ECF6",
           "caxis": {
            "gridcolor": "white",
            "linecolor": "white",
            "ticks": ""
           }
          },
          "title": {
           "x": 0.05
          },
          "xaxis": {
           "automargin": true,
           "gridcolor": "white",
           "linecolor": "white",
           "ticks": "",
           "title": {
            "standoff": 15
           },
           "zerolinecolor": "white",
           "zerolinewidth": 2
          },
          "yaxis": {
           "automargin": true,
           "gridcolor": "white",
           "linecolor": "white",
           "ticks": "",
           "title": {
            "standoff": 15
           },
           "zerolinecolor": "white",
           "zerolinewidth": 2
          }
         }
        },
        "title": {
         "font": {
          "color": "#4D5663"
         }
        },
        "xaxis": {
         "gridcolor": "#E1E5ED",
         "showgrid": true,
         "tickfont": {
          "color": "#4D5663"
         },
         "title": {
          "font": {
           "color": "#4D5663"
          },
          "text": ""
         },
         "zerolinecolor": "#E1E5ED"
        },
        "yaxis": {
         "gridcolor": "#E1E5ED",
         "showgrid": true,
         "tickfont": {
          "color": "#4D5663"
         },
         "title": {
          "font": {
           "color": "#4D5663"
          },
          "text": ""
         },
         "zerolinecolor": "#E1E5ED"
        }
       }
      },
      "text/html": [
       "<div>\n",
       "        \n",
       "        \n",
       "            <div id=\"6d9aab9d-b11c-4002-9d16-df810907532d\" class=\"plotly-graph-div\" style=\"height:525px; width:100%;\"></div>\n",
       "            <script type=\"text/javascript\">\n",
       "                require([\"plotly\"], function(Plotly) {\n",
       "                    window.PLOTLYENV=window.PLOTLYENV || {};\n",
       "                    window.PLOTLYENV.BASE_URL='https://plot.ly';\n",
       "                    \n",
       "                if (document.getElementById(\"6d9aab9d-b11c-4002-9d16-df810907532d\")) {\n",
       "                    Plotly.newPlot(\n",
       "                        '6d9aab9d-b11c-4002-9d16-df810907532d',\n",
       "                        [{\"histfunc\": \"count\", \"histnorm\": \"\", \"marker\": {\"color\": \"rgba(255, 153, 51, 1.0)\", \"line\": {\"color\": \"#4D5663\", \"width\": 1.3}}, \"name\": \"A\", \"nbinsx\": 25, \"opacity\": 0.8, \"orientation\": \"v\", \"type\": \"histogram\", \"x\": [0.3464195938218623, 1.2191331189779477, -1.566198556307964, 0.46573085450095364, -0.15261785777811135, -0.8028457730946738, -1.2939789962191617, -0.6418087219226248, 1.9109107394573086, -0.7984950981964833, 0.37572064407586353, 0.10804546809227975, -0.2955939166246089, 0.6668013724677774, 1.606777904150411, 0.18473563502452545, -0.21514032491554505, -0.2776151300214792, 0.8398510702601665, -0.17787273295740644, 1.8394677466697062, -0.6830318073232281, 1.1910043748570203, -0.06296070100823661, 0.3893011193237392, -0.5418276224573682, 0.1456421026340764, 1.3478116660010542, 1.3398140902363653, 0.17909770396651062, -0.7347774212014662, -0.664509282045416, 1.9958932346583351, 0.06464239428800038, -0.17331233101528445, -1.5199911226136043, -0.011764777467682862, -0.22961655060029354, 0.8344144539000332, -0.6252542380202118, -0.35722719110995915, 1.4681106315488035, -0.972833984774363, -1.3185876357784978, 0.8369173852064116, -0.7203822787149038, 0.5391211086088187, 0.40930127362148827, 1.3305953798884078, 0.7875773751444973, 0.24411739461868534, -0.08843505642188325, 0.268342155604911, 0.053365885727759556, -0.027406353957162198, -0.542478529849032, 0.6176151365107044, -0.18176398391036097, -0.2045336720258062, 0.32644055801113225, 0.5569115331629004, 0.4709120552818683, -0.5511771984791615, 0.38672288804052146, 0.49369878628381486, 0.8742747551276879, -0.7728036843643227, -0.5316316557408409, -0.019359629269128015, -0.43540839748513804, 2.193864246093326, 0.7071061333240987, -0.6738965948167931, 2.3946971136177124, 1.2529062193552296, 1.0214426121109126, -0.18054114299205762, -1.848921966805281, 1.3846982722939123, 0.37389409884423136, -0.5518891745455325, -0.812964815588062, -0.1445860029165156, 0.5976439474074358, -0.031143888839414168, 1.288640608161686, -1.3760544674922424, 0.9963133082520479, 0.9751556082817852, -0.07231954115489966, -0.36525133427411105, 0.8539810900777741, -0.5593653152080624, 1.6784765782994218, 1.49764233252627, -0.8623001565375716, -0.7415847178841932, 1.1902930047966387, 0.5729387527499807, -0.2143483560074946]}],\n",
       "                        {\"barmode\": \"overlay\", \"legend\": {\"bgcolor\": \"#F5F6F9\", \"font\": {\"color\": \"#4D5663\"}}, \"paper_bgcolor\": \"#F5F6F9\", \"plot_bgcolor\": \"#F5F6F9\", \"template\": {\"data\": {\"bar\": [{\"error_x\": {\"color\": \"#2a3f5f\"}, \"error_y\": {\"color\": \"#2a3f5f\"}, \"marker\": {\"line\": {\"color\": \"#E5ECF6\", \"width\": 0.5}}, \"type\": \"bar\"}], \"barpolar\": [{\"marker\": {\"line\": {\"color\": \"#E5ECF6\", \"width\": 0.5}}, \"type\": \"barpolar\"}], \"carpet\": [{\"aaxis\": {\"endlinecolor\": \"#2a3f5f\", \"gridcolor\": \"white\", \"linecolor\": \"white\", \"minorgridcolor\": \"white\", \"startlinecolor\": \"#2a3f5f\"}, \"baxis\": {\"endlinecolor\": \"#2a3f5f\", \"gridcolor\": \"white\", \"linecolor\": \"white\", \"minorgridcolor\": \"white\", \"startlinecolor\": \"#2a3f5f\"}, \"type\": \"carpet\"}], \"choropleth\": [{\"colorbar\": {\"outlinewidth\": 0, \"ticks\": \"\"}, \"type\": \"choropleth\"}], \"contour\": [{\"colorbar\": {\"outlinewidth\": 0, \"ticks\": \"\"}, \"colorscale\": [[0.0, \"#0d0887\"], [0.1111111111111111, \"#46039f\"], [0.2222222222222222, \"#7201a8\"], [0.3333333333333333, \"#9c179e\"], [0.4444444444444444, \"#bd3786\"], [0.5555555555555556, \"#d8576b\"], [0.6666666666666666, \"#ed7953\"], [0.7777777777777778, \"#fb9f3a\"], [0.8888888888888888, \"#fdca26\"], [1.0, \"#f0f921\"]], \"type\": \"contour\"}], \"contourcarpet\": [{\"colorbar\": {\"outlinewidth\": 0, \"ticks\": \"\"}, \"type\": \"contourcarpet\"}], \"heatmap\": [{\"colorbar\": {\"outlinewidth\": 0, \"ticks\": \"\"}, \"colorscale\": [[0.0, \"#0d0887\"], [0.1111111111111111, \"#46039f\"], [0.2222222222222222, \"#7201a8\"], [0.3333333333333333, \"#9c179e\"], [0.4444444444444444, \"#bd3786\"], [0.5555555555555556, \"#d8576b\"], [0.6666666666666666, \"#ed7953\"], [0.7777777777777778, \"#fb9f3a\"], [0.8888888888888888, \"#fdca26\"], [1.0, \"#f0f921\"]], \"type\": \"heatmap\"}], \"heatmapgl\": [{\"colorbar\": {\"outlinewidth\": 0, \"ticks\": \"\"}, \"colorscale\": [[0.0, \"#0d0887\"], [0.1111111111111111, \"#46039f\"], [0.2222222222222222, \"#7201a8\"], [0.3333333333333333, \"#9c179e\"], [0.4444444444444444, \"#bd3786\"], [0.5555555555555556, \"#d8576b\"], [0.6666666666666666, \"#ed7953\"], [0.7777777777777778, \"#fb9f3a\"], [0.8888888888888888, \"#fdca26\"], [1.0, \"#f0f921\"]], \"type\": \"heatmapgl\"}], \"histogram\": [{\"marker\": {\"colorbar\": {\"outlinewidth\": 0, \"ticks\": \"\"}}, \"type\": \"histogram\"}], \"histogram2d\": [{\"colorbar\": {\"outlinewidth\": 0, \"ticks\": \"\"}, \"colorscale\": [[0.0, \"#0d0887\"], [0.1111111111111111, \"#46039f\"], [0.2222222222222222, \"#7201a8\"], [0.3333333333333333, \"#9c179e\"], [0.4444444444444444, \"#bd3786\"], [0.5555555555555556, \"#d8576b\"], [0.6666666666666666, \"#ed7953\"], [0.7777777777777778, \"#fb9f3a\"], [0.8888888888888888, \"#fdca26\"], [1.0, \"#f0f921\"]], \"type\": \"histogram2d\"}], \"histogram2dcontour\": [{\"colorbar\": {\"outlinewidth\": 0, \"ticks\": \"\"}, \"colorscale\": [[0.0, \"#0d0887\"], [0.1111111111111111, \"#46039f\"], [0.2222222222222222, \"#7201a8\"], [0.3333333333333333, \"#9c179e\"], [0.4444444444444444, \"#bd3786\"], [0.5555555555555556, \"#d8576b\"], [0.6666666666666666, \"#ed7953\"], [0.7777777777777778, \"#fb9f3a\"], [0.8888888888888888, \"#fdca26\"], [1.0, \"#f0f921\"]], \"type\": \"histogram2dcontour\"}], \"mesh3d\": [{\"colorbar\": {\"outlinewidth\": 0, \"ticks\": \"\"}, \"type\": \"mesh3d\"}], \"parcoords\": [{\"line\": {\"colorbar\": {\"outlinewidth\": 0, \"ticks\": \"\"}}, \"type\": \"parcoords\"}], \"pie\": [{\"automargin\": true, \"type\": \"pie\"}], \"scatter\": [{\"marker\": {\"colorbar\": {\"outlinewidth\": 0, \"ticks\": \"\"}}, \"type\": \"scatter\"}], \"scatter3d\": [{\"line\": {\"colorbar\": {\"outlinewidth\": 0, \"ticks\": \"\"}}, \"marker\": {\"colorbar\": {\"outlinewidth\": 0, \"ticks\": \"\"}}, \"type\": \"scatter3d\"}], \"scattercarpet\": [{\"marker\": {\"colorbar\": {\"outlinewidth\": 0, \"ticks\": \"\"}}, \"type\": \"scattercarpet\"}], \"scattergeo\": [{\"marker\": {\"colorbar\": {\"outlinewidth\": 0, \"ticks\": \"\"}}, \"type\": \"scattergeo\"}], \"scattergl\": [{\"marker\": {\"colorbar\": {\"outlinewidth\": 0, \"ticks\": \"\"}}, \"type\": \"scattergl\"}], \"scattermapbox\": [{\"marker\": {\"colorbar\": {\"outlinewidth\": 0, \"ticks\": \"\"}}, \"type\": \"scattermapbox\"}], \"scatterpolar\": [{\"marker\": {\"colorbar\": {\"outlinewidth\": 0, \"ticks\": \"\"}}, \"type\": \"scatterpolar\"}], \"scatterpolargl\": [{\"marker\": {\"colorbar\": {\"outlinewidth\": 0, \"ticks\": \"\"}}, \"type\": \"scatterpolargl\"}], \"scatterternary\": [{\"marker\": {\"colorbar\": {\"outlinewidth\": 0, \"ticks\": \"\"}}, \"type\": \"scatterternary\"}], \"surface\": [{\"colorbar\": {\"outlinewidth\": 0, \"ticks\": \"\"}, \"colorscale\": [[0.0, \"#0d0887\"], [0.1111111111111111, \"#46039f\"], [0.2222222222222222, \"#7201a8\"], [0.3333333333333333, \"#9c179e\"], [0.4444444444444444, \"#bd3786\"], [0.5555555555555556, \"#d8576b\"], [0.6666666666666666, \"#ed7953\"], [0.7777777777777778, \"#fb9f3a\"], [0.8888888888888888, \"#fdca26\"], [1.0, \"#f0f921\"]], \"type\": \"surface\"}], \"table\": [{\"cells\": {\"fill\": {\"color\": \"#EBF0F8\"}, \"line\": {\"color\": \"white\"}}, \"header\": {\"fill\": {\"color\": \"#C8D4E3\"}, \"line\": {\"color\": \"white\"}}, \"type\": \"table\"}]}, \"layout\": {\"annotationdefaults\": {\"arrowcolor\": \"#2a3f5f\", \"arrowhead\": 0, \"arrowwidth\": 1}, \"coloraxis\": {\"colorbar\": {\"outlinewidth\": 0, \"ticks\": \"\"}}, \"colorscale\": {\"diverging\": [[0, \"#8e0152\"], [0.1, \"#c51b7d\"], [0.2, \"#de77ae\"], [0.3, \"#f1b6da\"], [0.4, \"#fde0ef\"], [0.5, \"#f7f7f7\"], [0.6, \"#e6f5d0\"], [0.7, \"#b8e186\"], [0.8, \"#7fbc41\"], [0.9, \"#4d9221\"], [1, \"#276419\"]], \"sequential\": [[0.0, \"#0d0887\"], [0.1111111111111111, \"#46039f\"], [0.2222222222222222, \"#7201a8\"], [0.3333333333333333, \"#9c179e\"], [0.4444444444444444, \"#bd3786\"], [0.5555555555555556, \"#d8576b\"], [0.6666666666666666, \"#ed7953\"], [0.7777777777777778, \"#fb9f3a\"], [0.8888888888888888, \"#fdca26\"], [1.0, \"#f0f921\"]], \"sequentialminus\": [[0.0, \"#0d0887\"], [0.1111111111111111, \"#46039f\"], [0.2222222222222222, \"#7201a8\"], [0.3333333333333333, \"#9c179e\"], [0.4444444444444444, \"#bd3786\"], [0.5555555555555556, \"#d8576b\"], [0.6666666666666666, \"#ed7953\"], [0.7777777777777778, \"#fb9f3a\"], [0.8888888888888888, \"#fdca26\"], [1.0, \"#f0f921\"]]}, \"colorway\": [\"#636efa\", \"#EF553B\", \"#00cc96\", \"#ab63fa\", \"#FFA15A\", \"#19d3f3\", \"#FF6692\", \"#B6E880\", \"#FF97FF\", \"#FECB52\"], \"font\": {\"color\": \"#2a3f5f\"}, \"geo\": {\"bgcolor\": \"white\", \"lakecolor\": \"white\", \"landcolor\": \"#E5ECF6\", \"showlakes\": true, \"showland\": true, \"subunitcolor\": \"white\"}, \"hoverlabel\": {\"align\": \"left\"}, \"hovermode\": \"closest\", \"mapbox\": {\"style\": \"light\"}, \"paper_bgcolor\": \"white\", \"plot_bgcolor\": \"#E5ECF6\", \"polar\": {\"angularaxis\": {\"gridcolor\": \"white\", \"linecolor\": \"white\", \"ticks\": \"\"}, \"bgcolor\": \"#E5ECF6\", \"radialaxis\": {\"gridcolor\": \"white\", \"linecolor\": \"white\", \"ticks\": \"\"}}, \"scene\": {\"xaxis\": {\"backgroundcolor\": \"#E5ECF6\", \"gridcolor\": \"white\", \"gridwidth\": 2, \"linecolor\": \"white\", \"showbackground\": true, \"ticks\": \"\", \"zerolinecolor\": \"white\"}, \"yaxis\": {\"backgroundcolor\": \"#E5ECF6\", \"gridcolor\": \"white\", \"gridwidth\": 2, \"linecolor\": \"white\", \"showbackground\": true, \"ticks\": \"\", \"zerolinecolor\": \"white\"}, \"zaxis\": {\"backgroundcolor\": \"#E5ECF6\", \"gridcolor\": \"white\", \"gridwidth\": 2, \"linecolor\": \"white\", \"showbackground\": true, \"ticks\": \"\", \"zerolinecolor\": \"white\"}}, \"shapedefaults\": {\"line\": {\"color\": \"#2a3f5f\"}}, \"ternary\": {\"aaxis\": {\"gridcolor\": \"white\", \"linecolor\": \"white\", \"ticks\": \"\"}, \"baxis\": {\"gridcolor\": \"white\", \"linecolor\": \"white\", \"ticks\": \"\"}, \"bgcolor\": \"#E5ECF6\", \"caxis\": {\"gridcolor\": \"white\", \"linecolor\": \"white\", \"ticks\": \"\"}}, \"title\": {\"x\": 0.05}, \"xaxis\": {\"automargin\": true, \"gridcolor\": \"white\", \"linecolor\": \"white\", \"ticks\": \"\", \"title\": {\"standoff\": 15}, \"zerolinecolor\": \"white\", \"zerolinewidth\": 2}, \"yaxis\": {\"automargin\": true, \"gridcolor\": \"white\", \"linecolor\": \"white\", \"ticks\": \"\", \"title\": {\"standoff\": 15}, \"zerolinecolor\": \"white\", \"zerolinewidth\": 2}}}, \"title\": {\"font\": {\"color\": \"#4D5663\"}}, \"xaxis\": {\"gridcolor\": \"#E1E5ED\", \"showgrid\": true, \"tickfont\": {\"color\": \"#4D5663\"}, \"title\": {\"font\": {\"color\": \"#4D5663\"}, \"text\": \"\"}, \"zerolinecolor\": \"#E1E5ED\"}, \"yaxis\": {\"gridcolor\": \"#E1E5ED\", \"showgrid\": true, \"tickfont\": {\"color\": \"#4D5663\"}, \"title\": {\"font\": {\"color\": \"#4D5663\"}, \"text\": \"\"}, \"zerolinecolor\": \"#E1E5ED\"}},\n",
       "                        {\"showLink\": true, \"linkText\": \"Export to plot.ly\", \"plotlyServerURL\": \"https://plot.ly\", \"responsive\": true}\n",
       "                    ).then(function(){\n",
       "                            \n",
       "var gd = document.getElementById('6d9aab9d-b11c-4002-9d16-df810907532d');\n",
       "var x = new MutationObserver(function (mutations, observer) {{\n",
       "        var display = window.getComputedStyle(gd).display;\n",
       "        if (!display || display === 'none') {{\n",
       "            console.log([gd, 'removed!']);\n",
       "            Plotly.purge(gd);\n",
       "            observer.disconnect();\n",
       "        }}\n",
       "}});\n",
       "\n",
       "// Listen for the removal of the full notebook cells\n",
       "var notebookContainer = gd.closest('#notebook-container');\n",
       "if (notebookContainer) {{\n",
       "    x.observe(notebookContainer, {childList: true});\n",
       "}}\n",
       "\n",
       "// Listen for the clearing of the current output cell\n",
       "var outputEl = gd.closest('.output');\n",
       "if (outputEl) {{\n",
       "    x.observe(outputEl, {childList: true});\n",
       "}}\n",
       "\n",
       "                        })\n",
       "                };\n",
       "                });\n",
       "            </script>\n",
       "        </div>"
      ]
     },
     "metadata": {},
     "output_type": "display_data"
    }
   ],
   "source": [
    "df['A'].iplot(kind='hist', bins=25)"
   ]
  },
  {
   "cell_type": "code",
   "execution_count": 37,
   "metadata": {},
   "outputs": [
    {
     "data": {
      "application/vnd.plotly.v1+json": {
       "config": {
        "linkText": "Export to plot.ly",
        "plotlyServerURL": "https://plot.ly",
        "showLink": true
       },
       "data": [
        {
         "histfunc": "count",
         "histnorm": "",
         "marker": {
          "color": "rgba(255, 153, 51, 1.0)",
          "line": {
           "color": "#4D5663",
           "width": 1.3
          }
         },
         "name": "A",
         "nbinsx": 25,
         "opacity": 0.8,
         "orientation": "v",
         "type": "histogram",
         "x": [
          0.3464195938218623,
          1.2191331189779477,
          -1.566198556307964,
          0.46573085450095364,
          -0.15261785777811135,
          -0.8028457730946738,
          -1.2939789962191617,
          -0.6418087219226248,
          1.9109107394573086,
          -0.7984950981964833,
          0.37572064407586353,
          0.10804546809227975,
          -0.2955939166246089,
          0.6668013724677774,
          1.606777904150411,
          0.18473563502452545,
          -0.21514032491554505,
          -0.2776151300214792,
          0.8398510702601665,
          -0.17787273295740644,
          1.8394677466697062,
          -0.6830318073232281,
          1.1910043748570203,
          -0.06296070100823661,
          0.3893011193237392,
          -0.5418276224573682,
          0.1456421026340764,
          1.3478116660010542,
          1.3398140902363653,
          0.17909770396651062,
          -0.7347774212014662,
          -0.664509282045416,
          1.9958932346583351,
          0.06464239428800038,
          -0.17331233101528445,
          -1.5199911226136043,
          -0.011764777467682862,
          -0.22961655060029354,
          0.8344144539000332,
          -0.6252542380202118,
          -0.35722719110995915,
          1.4681106315488035,
          -0.972833984774363,
          -1.3185876357784978,
          0.8369173852064116,
          -0.7203822787149038,
          0.5391211086088187,
          0.40930127362148827,
          1.3305953798884078,
          0.7875773751444973,
          0.24411739461868534,
          -0.08843505642188325,
          0.268342155604911,
          0.053365885727759556,
          -0.027406353957162198,
          -0.542478529849032,
          0.6176151365107044,
          -0.18176398391036097,
          -0.2045336720258062,
          0.32644055801113225,
          0.5569115331629004,
          0.4709120552818683,
          -0.5511771984791615,
          0.38672288804052146,
          0.49369878628381486,
          0.8742747551276879,
          -0.7728036843643227,
          -0.5316316557408409,
          -0.019359629269128015,
          -0.43540839748513804,
          2.193864246093326,
          0.7071061333240987,
          -0.6738965948167931,
          2.3946971136177124,
          1.2529062193552296,
          1.0214426121109126,
          -0.18054114299205762,
          -1.848921966805281,
          1.3846982722939123,
          0.37389409884423136,
          -0.5518891745455325,
          -0.812964815588062,
          -0.1445860029165156,
          0.5976439474074358,
          -0.031143888839414168,
          1.288640608161686,
          -1.3760544674922424,
          0.9963133082520479,
          0.9751556082817852,
          -0.07231954115489966,
          -0.36525133427411105,
          0.8539810900777741,
          -0.5593653152080624,
          1.6784765782994218,
          1.49764233252627,
          -0.8623001565375716,
          -0.7415847178841932,
          1.1902930047966387,
          0.5729387527499807,
          -0.2143483560074946
         ]
        },
        {
         "histfunc": "count",
         "histnorm": "",
         "marker": {
          "color": "rgba(55, 128, 191, 1.0)",
          "line": {
           "color": "#4D5663",
           "width": 1.3
          }
         },
         "name": "B",
         "nbinsx": 25,
         "opacity": 0.8,
         "orientation": "v",
         "type": "histogram",
         "x": [
          -0.020590181209793654,
          0.5423503125602855,
          -0.8787354341663304,
          -0.4895306549248174,
          -0.48541537247821465,
          -1.1581842623847438,
          -0.2769367387336216,
          0.03311436155705231,
          1.6024816506045834,
          1.0831480858882039,
          -1.0072890793929596,
          1.6632133708190122,
          -0.10794673509633486,
          0.45432131136859577,
          -0.22565078146614284,
          0.45507286942503267,
          0.17974586396275005,
          -2.0175017586254036,
          1.2707085867867112,
          0.8107153806972188,
          1.3683894902998583,
          0.6721722990716655,
          -1.3053183578006817,
          0.5690108539109617,
          1.0528361089049871,
          -0.9946211425344996,
          0.13209780322860354,
          0.5975237600550157,
          -0.3990103367235594,
          0.8544023703785645,
          -0.3652754198522442,
          -0.9394329209739792,
          -1.8247763232964613,
          1.387400472070589,
          -0.6172006358456033,
          0.28514310772208395,
          -0.9194137609477232,
          -1.0945907934466066,
          -0.01812635633048244,
          -0.42870107832880905,
          -0.14583236585484136,
          -1.9112885076025667,
          -0.6064194759449073,
          -0.5831693992001507,
          -0.9885022195286823,
          -1.319588708902828,
          0.16146923595796253,
          -0.28246046695644217,
          -0.7714040710560138,
          0.5847383075181828,
          0.19107611317750492,
          -0.6526040938222579,
          0.5699402612438804,
          -0.9911031656265455,
          1.6493934330272855,
          1.9039049563987207,
          1.218355914745771,
          -0.494984884549906,
          0.11678360950276127,
          -1.2146187590914483,
          -1.1476654603988559,
          -0.6451013537990224,
          -0.9089642937379179,
          -0.3107932934346349,
          0.1431930390443773,
          0.49590287215018686,
          0.4685352804531265,
          0.10806855993380053,
          0.986890513730406,
          0.7865424288418571,
          -1.2351640606494476,
          -2.02351966824216,
          -1.370146862511068,
          -1.3253039883938387,
          -1.184340482150768,
          -0.5064055507257907,
          -3.1134408477432705,
          -1.3748114148134778,
          0.9623455167657223,
          0.15572759045814794,
          0.019438510421546488,
          -0.756212056642985,
          1.0393078996740457,
          1.283603086621441,
          0.013246115306398687,
          0.07988076305174152,
          1.7490019784053388,
          -0.9381427033010681,
          -0.7346416378276212,
          1.6403942432066971,
          -0.3292907770726725,
          0.6890521545829256,
          -1.1228315951030374,
          -0.25605505749699964,
          -0.16944549777624168,
          1.46716671061314,
          -0.18662380589638208,
          -1.7553469955013234,
          -0.1186070548456802,
          1.3868762776821497
         ]
        },
        {
         "histfunc": "count",
         "histnorm": "",
         "marker": {
          "color": "rgba(50, 171, 96, 1.0)",
          "line": {
           "color": "#4D5663",
           "width": 1.3
          }
         },
         "name": "C",
         "nbinsx": 25,
         "opacity": 0.8,
         "orientation": "v",
         "type": "histogram",
         "x": [
          0.14358159005220242,
          0.2920812719560736,
          0.4034545189350478,
          1.1846433872331292,
          0.319242774725028,
          -1.0378007174169739,
          0.8566005112545779,
          1.230587387035751,
          -0.6904449421321213,
          0.5977777507201271,
          -0.2957408276879956,
          -1.2495092936375563,
          1.6656398714796146,
          -0.3446167923977057,
          -1.254503270950624,
          -1.1388161689544005,
          -0.1717411579167247,
          1.337329782119376,
          -1.6571968313842216,
          0.395304398552172,
          0.3331717998492536,
          1.027506271028855,
          1.6474630147154348,
          0.3976627652729076,
          0.407886600933332,
          -0.5530433271104201,
          1.0332177544732484,
          0.86768325022945,
          -0.3279844909807892,
          0.3341765602344462,
          -1.3314901096554927,
          0.09517340058130781,
          0.414233914581945,
          0.008258261866098746,
          -1.2358266866438095,
          -0.051510801020062245,
          -1.1018971303963652,
          -0.015386259776738126,
          -1.2133402799715634,
          0.7238599629917095,
          -0.39130890290694187,
          0.4279914942549863,
          -0.20925301904311044,
          -0.07715446690954722,
          -0.5219958922492965,
          0.5971498071391562,
          -0.5679311029386973,
          -0.6379609701710316,
          -0.008311692620811812,
          -1.3357400359256055,
          0.36352824933081623,
          -1.0139147273562739,
          -0.8276356994707972,
          -1.0139657015110843,
          0.9348172455435725,
          0.7346190521865691,
          0.32389401870404105,
          0.3890011873245929,
          0.5842398951563093,
          -0.025820761777430607,
          -0.6520353470200743,
          -0.1957954163288069,
          -0.8525926967078836,
          0.24534399615516964,
          0.6447632757277592,
          0.2444416159774107,
          0.6885672298514097,
          0.14182452610579782,
          -0.8383124174831217,
          -0.5256271659891929,
          0.7474320776428933,
          0.5498407131196493,
          0.4326392632653981,
          -1.0041028281208184,
          -0.023836964615872768,
          -0.5842708332074602,
          -1.3655332884624836,
          -0.7016652237620963,
          -0.2544652796566522,
          -0.9696356130351645,
          -0.16816395858146188,
          0.12710783669496098,
          -0.8217755283837832,
          0.7570671870362776,
          2.5475431730589433,
          -0.2276466929232567,
          0.4669050820081747,
          0.3904063276011235,
          0.6397549748807329,
          1.2479494093044476,
          -0.3393342010587006,
          0.02345841570658886,
          -0.5581521817674187,
          0.07108629812707043,
          0.13841439096535338,
          -0.3076131842355114,
          -0.44813213779990757,
          -0.7341619613796643,
          -1.0667492318297769,
          0.7541483808510677
         ]
        },
        {
         "histfunc": "count",
         "histnorm": "",
         "marker": {
          "color": "rgba(128, 0, 128, 1.0)",
          "line": {
           "color": "#4D5663",
           "width": 1.3
          }
         },
         "name": "D",
         "nbinsx": 25,
         "opacity": 0.8,
         "orientation": "v",
         "type": "histogram",
         "x": [
          -1.1118640049651034,
          0.1491406043116301,
          -1.2221106374241755,
          -1.6875795839754855,
          -0.7558177324260064,
          -1.6337871211050123,
          0.22261233323591775,
          0.7915733560199928,
          1.6896287071492586,
          -0.1975697108903575,
          -1.8948362657753854,
          -0.2541235158529231,
          0.03661794809435186,
          0.7548769352154293,
          0.42547738622571923,
          0.46165798801264835,
          0.007295368926671065,
          0.891055630096048,
          0.24386729392890943,
          0.8307255191948365,
          0.35626459418787493,
          2.1578145958004145,
          -2.058911680464687,
          -0.27284665675569436,
          -0.15770271572799424,
          1.5033000533442646,
          -0.7496941979711484,
          0.8514411005089376,
          -0.3916152705357473,
          0.22689570064360143,
          -0.2197162949623533,
          -0.16579621986256468,
          1.7299343666421136,
          1.253065148652142,
          1.210314349675132,
          -0.44295688764545177,
          0.7521680139399465,
          -0.2674260111881133,
          1.7902607882569215,
          -1.2912637225126222,
          1.1762596418399858,
          0.3680637408772415,
          1.1759519499772664,
          -0.2752043603187563,
          0.1024792184516914,
          -0.5941545257254696,
          0.9489352620540739,
          -1.062895402760241,
          -1.0567115215569716,
          -2.3587912906105832,
          2.9653750929051372,
          -0.27421247498910417,
          -0.328514053729911,
          0.5734230922653505,
          -0.0607092670338549,
          1.1704828032581003,
          1.354998594411703,
          -0.6567767998847259,
          -0.10265296524401771,
          -0.27134167423686395,
          1.5412502872780447,
          0.5781757038302135,
          1.2224550744752862,
          -0.08639304752669724,
          0.9262617313935608,
          0.22324901110438788,
          -1.7744853454310123,
          1.1817122408866545,
          -0.5286257010564885,
          -2.7180104539156384,
          -1.0045558820687108,
          -1.1008071985316823,
          0.4275954953925082,
          -0.32492381688521127,
          -1.0280063715123986,
          0.23787612180794981,
          0.18686310544658025,
          -0.3497955317388221,
          -0.09738618475432757,
          -1.2290276943037652,
          0.5875304076931959,
          0.8814182541543529,
          -0.6781089026484597,
          -0.7373594071213471,
          1.115607766095368,
          0.12888807541459482,
          -0.8158561577836921,
          -0.5940310396993876,
          -0.5291881868373929,
          -0.5751787198636337,
          0.5108329935769008,
          1.2067401728845797,
          -1.4220280600408528,
          -0.24726913124166838,
          -0.14727165533210312,
          0.4513601251105589,
          0.7331496085916595,
          0.8068582051299986,
          0.8857024956321218,
          -0.3926293025656279
         ]
        }
       ],
       "layout": {
        "barmode": "overlay",
        "legend": {
         "bgcolor": "#F5F6F9",
         "font": {
          "color": "#4D5663"
         }
        },
        "paper_bgcolor": "#F5F6F9",
        "plot_bgcolor": "#F5F6F9",
        "template": {
         "data": {
          "bar": [
           {
            "error_x": {
             "color": "#2a3f5f"
            },
            "error_y": {
             "color": "#2a3f5f"
            },
            "marker": {
             "line": {
              "color": "#E5ECF6",
              "width": 0.5
             }
            },
            "type": "bar"
           }
          ],
          "barpolar": [
           {
            "marker": {
             "line": {
              "color": "#E5ECF6",
              "width": 0.5
             }
            },
            "type": "barpolar"
           }
          ],
          "carpet": [
           {
            "aaxis": {
             "endlinecolor": "#2a3f5f",
             "gridcolor": "white",
             "linecolor": "white",
             "minorgridcolor": "white",
             "startlinecolor": "#2a3f5f"
            },
            "baxis": {
             "endlinecolor": "#2a3f5f",
             "gridcolor": "white",
             "linecolor": "white",
             "minorgridcolor": "white",
             "startlinecolor": "#2a3f5f"
            },
            "type": "carpet"
           }
          ],
          "choropleth": [
           {
            "colorbar": {
             "outlinewidth": 0,
             "ticks": ""
            },
            "type": "choropleth"
           }
          ],
          "contour": [
           {
            "colorbar": {
             "outlinewidth": 0,
             "ticks": ""
            },
            "colorscale": [
             [
              0,
              "#0d0887"
             ],
             [
              0.1111111111111111,
              "#46039f"
             ],
             [
              0.2222222222222222,
              "#7201a8"
             ],
             [
              0.3333333333333333,
              "#9c179e"
             ],
             [
              0.4444444444444444,
              "#bd3786"
             ],
             [
              0.5555555555555556,
              "#d8576b"
             ],
             [
              0.6666666666666666,
              "#ed7953"
             ],
             [
              0.7777777777777778,
              "#fb9f3a"
             ],
             [
              0.8888888888888888,
              "#fdca26"
             ],
             [
              1,
              "#f0f921"
             ]
            ],
            "type": "contour"
           }
          ],
          "contourcarpet": [
           {
            "colorbar": {
             "outlinewidth": 0,
             "ticks": ""
            },
            "type": "contourcarpet"
           }
          ],
          "heatmap": [
           {
            "colorbar": {
             "outlinewidth": 0,
             "ticks": ""
            },
            "colorscale": [
             [
              0,
              "#0d0887"
             ],
             [
              0.1111111111111111,
              "#46039f"
             ],
             [
              0.2222222222222222,
              "#7201a8"
             ],
             [
              0.3333333333333333,
              "#9c179e"
             ],
             [
              0.4444444444444444,
              "#bd3786"
             ],
             [
              0.5555555555555556,
              "#d8576b"
             ],
             [
              0.6666666666666666,
              "#ed7953"
             ],
             [
              0.7777777777777778,
              "#fb9f3a"
             ],
             [
              0.8888888888888888,
              "#fdca26"
             ],
             [
              1,
              "#f0f921"
             ]
            ],
            "type": "heatmap"
           }
          ],
          "heatmapgl": [
           {
            "colorbar": {
             "outlinewidth": 0,
             "ticks": ""
            },
            "colorscale": [
             [
              0,
              "#0d0887"
             ],
             [
              0.1111111111111111,
              "#46039f"
             ],
             [
              0.2222222222222222,
              "#7201a8"
             ],
             [
              0.3333333333333333,
              "#9c179e"
             ],
             [
              0.4444444444444444,
              "#bd3786"
             ],
             [
              0.5555555555555556,
              "#d8576b"
             ],
             [
              0.6666666666666666,
              "#ed7953"
             ],
             [
              0.7777777777777778,
              "#fb9f3a"
             ],
             [
              0.8888888888888888,
              "#fdca26"
             ],
             [
              1,
              "#f0f921"
             ]
            ],
            "type": "heatmapgl"
           }
          ],
          "histogram": [
           {
            "marker": {
             "colorbar": {
              "outlinewidth": 0,
              "ticks": ""
             }
            },
            "type": "histogram"
           }
          ],
          "histogram2d": [
           {
            "colorbar": {
             "outlinewidth": 0,
             "ticks": ""
            },
            "colorscale": [
             [
              0,
              "#0d0887"
             ],
             [
              0.1111111111111111,
              "#46039f"
             ],
             [
              0.2222222222222222,
              "#7201a8"
             ],
             [
              0.3333333333333333,
              "#9c179e"
             ],
             [
              0.4444444444444444,
              "#bd3786"
             ],
             [
              0.5555555555555556,
              "#d8576b"
             ],
             [
              0.6666666666666666,
              "#ed7953"
             ],
             [
              0.7777777777777778,
              "#fb9f3a"
             ],
             [
              0.8888888888888888,
              "#fdca26"
             ],
             [
              1,
              "#f0f921"
             ]
            ],
            "type": "histogram2d"
           }
          ],
          "histogram2dcontour": [
           {
            "colorbar": {
             "outlinewidth": 0,
             "ticks": ""
            },
            "colorscale": [
             [
              0,
              "#0d0887"
             ],
             [
              0.1111111111111111,
              "#46039f"
             ],
             [
              0.2222222222222222,
              "#7201a8"
             ],
             [
              0.3333333333333333,
              "#9c179e"
             ],
             [
              0.4444444444444444,
              "#bd3786"
             ],
             [
              0.5555555555555556,
              "#d8576b"
             ],
             [
              0.6666666666666666,
              "#ed7953"
             ],
             [
              0.7777777777777778,
              "#fb9f3a"
             ],
             [
              0.8888888888888888,
              "#fdca26"
             ],
             [
              1,
              "#f0f921"
             ]
            ],
            "type": "histogram2dcontour"
           }
          ],
          "mesh3d": [
           {
            "colorbar": {
             "outlinewidth": 0,
             "ticks": ""
            },
            "type": "mesh3d"
           }
          ],
          "parcoords": [
           {
            "line": {
             "colorbar": {
              "outlinewidth": 0,
              "ticks": ""
             }
            },
            "type": "parcoords"
           }
          ],
          "pie": [
           {
            "automargin": true,
            "type": "pie"
           }
          ],
          "scatter": [
           {
            "marker": {
             "colorbar": {
              "outlinewidth": 0,
              "ticks": ""
             }
            },
            "type": "scatter"
           }
          ],
          "scatter3d": [
           {
            "line": {
             "colorbar": {
              "outlinewidth": 0,
              "ticks": ""
             }
            },
            "marker": {
             "colorbar": {
              "outlinewidth": 0,
              "ticks": ""
             }
            },
            "type": "scatter3d"
           }
          ],
          "scattercarpet": [
           {
            "marker": {
             "colorbar": {
              "outlinewidth": 0,
              "ticks": ""
             }
            },
            "type": "scattercarpet"
           }
          ],
          "scattergeo": [
           {
            "marker": {
             "colorbar": {
              "outlinewidth": 0,
              "ticks": ""
             }
            },
            "type": "scattergeo"
           }
          ],
          "scattergl": [
           {
            "marker": {
             "colorbar": {
              "outlinewidth": 0,
              "ticks": ""
             }
            },
            "type": "scattergl"
           }
          ],
          "scattermapbox": [
           {
            "marker": {
             "colorbar": {
              "outlinewidth": 0,
              "ticks": ""
             }
            },
            "type": "scattermapbox"
           }
          ],
          "scatterpolar": [
           {
            "marker": {
             "colorbar": {
              "outlinewidth": 0,
              "ticks": ""
             }
            },
            "type": "scatterpolar"
           }
          ],
          "scatterpolargl": [
           {
            "marker": {
             "colorbar": {
              "outlinewidth": 0,
              "ticks": ""
             }
            },
            "type": "scatterpolargl"
           }
          ],
          "scatterternary": [
           {
            "marker": {
             "colorbar": {
              "outlinewidth": 0,
              "ticks": ""
             }
            },
            "type": "scatterternary"
           }
          ],
          "surface": [
           {
            "colorbar": {
             "outlinewidth": 0,
             "ticks": ""
            },
            "colorscale": [
             [
              0,
              "#0d0887"
             ],
             [
              0.1111111111111111,
              "#46039f"
             ],
             [
              0.2222222222222222,
              "#7201a8"
             ],
             [
              0.3333333333333333,
              "#9c179e"
             ],
             [
              0.4444444444444444,
              "#bd3786"
             ],
             [
              0.5555555555555556,
              "#d8576b"
             ],
             [
              0.6666666666666666,
              "#ed7953"
             ],
             [
              0.7777777777777778,
              "#fb9f3a"
             ],
             [
              0.8888888888888888,
              "#fdca26"
             ],
             [
              1,
              "#f0f921"
             ]
            ],
            "type": "surface"
           }
          ],
          "table": [
           {
            "cells": {
             "fill": {
              "color": "#EBF0F8"
             },
             "line": {
              "color": "white"
             }
            },
            "header": {
             "fill": {
              "color": "#C8D4E3"
             },
             "line": {
              "color": "white"
             }
            },
            "type": "table"
           }
          ]
         },
         "layout": {
          "annotationdefaults": {
           "arrowcolor": "#2a3f5f",
           "arrowhead": 0,
           "arrowwidth": 1
          },
          "coloraxis": {
           "colorbar": {
            "outlinewidth": 0,
            "ticks": ""
           }
          },
          "colorscale": {
           "diverging": [
            [
             0,
             "#8e0152"
            ],
            [
             0.1,
             "#c51b7d"
            ],
            [
             0.2,
             "#de77ae"
            ],
            [
             0.3,
             "#f1b6da"
            ],
            [
             0.4,
             "#fde0ef"
            ],
            [
             0.5,
             "#f7f7f7"
            ],
            [
             0.6,
             "#e6f5d0"
            ],
            [
             0.7,
             "#b8e186"
            ],
            [
             0.8,
             "#7fbc41"
            ],
            [
             0.9,
             "#4d9221"
            ],
            [
             1,
             "#276419"
            ]
           ],
           "sequential": [
            [
             0,
             "#0d0887"
            ],
            [
             0.1111111111111111,
             "#46039f"
            ],
            [
             0.2222222222222222,
             "#7201a8"
            ],
            [
             0.3333333333333333,
             "#9c179e"
            ],
            [
             0.4444444444444444,
             "#bd3786"
            ],
            [
             0.5555555555555556,
             "#d8576b"
            ],
            [
             0.6666666666666666,
             "#ed7953"
            ],
            [
             0.7777777777777778,
             "#fb9f3a"
            ],
            [
             0.8888888888888888,
             "#fdca26"
            ],
            [
             1,
             "#f0f921"
            ]
           ],
           "sequentialminus": [
            [
             0,
             "#0d0887"
            ],
            [
             0.1111111111111111,
             "#46039f"
            ],
            [
             0.2222222222222222,
             "#7201a8"
            ],
            [
             0.3333333333333333,
             "#9c179e"
            ],
            [
             0.4444444444444444,
             "#bd3786"
            ],
            [
             0.5555555555555556,
             "#d8576b"
            ],
            [
             0.6666666666666666,
             "#ed7953"
            ],
            [
             0.7777777777777778,
             "#fb9f3a"
            ],
            [
             0.8888888888888888,
             "#fdca26"
            ],
            [
             1,
             "#f0f921"
            ]
           ]
          },
          "colorway": [
           "#636efa",
           "#EF553B",
           "#00cc96",
           "#ab63fa",
           "#FFA15A",
           "#19d3f3",
           "#FF6692",
           "#B6E880",
           "#FF97FF",
           "#FECB52"
          ],
          "font": {
           "color": "#2a3f5f"
          },
          "geo": {
           "bgcolor": "white",
           "lakecolor": "white",
           "landcolor": "#E5ECF6",
           "showlakes": true,
           "showland": true,
           "subunitcolor": "white"
          },
          "hoverlabel": {
           "align": "left"
          },
          "hovermode": "closest",
          "mapbox": {
           "style": "light"
          },
          "paper_bgcolor": "white",
          "plot_bgcolor": "#E5ECF6",
          "polar": {
           "angularaxis": {
            "gridcolor": "white",
            "linecolor": "white",
            "ticks": ""
           },
           "bgcolor": "#E5ECF6",
           "radialaxis": {
            "gridcolor": "white",
            "linecolor": "white",
            "ticks": ""
           }
          },
          "scene": {
           "xaxis": {
            "backgroundcolor": "#E5ECF6",
            "gridcolor": "white",
            "gridwidth": 2,
            "linecolor": "white",
            "showbackground": true,
            "ticks": "",
            "zerolinecolor": "white"
           },
           "yaxis": {
            "backgroundcolor": "#E5ECF6",
            "gridcolor": "white",
            "gridwidth": 2,
            "linecolor": "white",
            "showbackground": true,
            "ticks": "",
            "zerolinecolor": "white"
           },
           "zaxis": {
            "backgroundcolor": "#E5ECF6",
            "gridcolor": "white",
            "gridwidth": 2,
            "linecolor": "white",
            "showbackground": true,
            "ticks": "",
            "zerolinecolor": "white"
           }
          },
          "shapedefaults": {
           "line": {
            "color": "#2a3f5f"
           }
          },
          "ternary": {
           "aaxis": {
            "gridcolor": "white",
            "linecolor": "white",
            "ticks": ""
           },
           "baxis": {
            "gridcolor": "white",
            "linecolor": "white",
            "ticks": ""
           },
           "bgcolor": "#E5ECF6",
           "caxis": {
            "gridcolor": "white",
            "linecolor": "white",
            "ticks": ""
           }
          },
          "title": {
           "x": 0.05
          },
          "xaxis": {
           "automargin": true,
           "gridcolor": "white",
           "linecolor": "white",
           "ticks": "",
           "title": {
            "standoff": 15
           },
           "zerolinecolor": "white",
           "zerolinewidth": 2
          },
          "yaxis": {
           "automargin": true,
           "gridcolor": "white",
           "linecolor": "white",
           "ticks": "",
           "title": {
            "standoff": 15
           },
           "zerolinecolor": "white",
           "zerolinewidth": 2
          }
         }
        },
        "title": {
         "font": {
          "color": "#4D5663"
         }
        },
        "xaxis": {
         "gridcolor": "#E1E5ED",
         "showgrid": true,
         "tickfont": {
          "color": "#4D5663"
         },
         "title": {
          "font": {
           "color": "#4D5663"
          },
          "text": ""
         },
         "zerolinecolor": "#E1E5ED"
        },
        "yaxis": {
         "gridcolor": "#E1E5ED",
         "showgrid": true,
         "tickfont": {
          "color": "#4D5663"
         },
         "title": {
          "font": {
           "color": "#4D5663"
          },
          "text": ""
         },
         "zerolinecolor": "#E1E5ED"
        }
       }
      },
      "text/html": [
       "<div>\n",
       "        \n",
       "        \n",
       "            <div id=\"d00ee420-2dd3-4d36-9903-d1dc8f815f47\" class=\"plotly-graph-div\" style=\"height:525px; width:100%;\"></div>\n",
       "            <script type=\"text/javascript\">\n",
       "                require([\"plotly\"], function(Plotly) {\n",
       "                    window.PLOTLYENV=window.PLOTLYENV || {};\n",
       "                    window.PLOTLYENV.BASE_URL='https://plot.ly';\n",
       "                    \n",
       "                if (document.getElementById(\"d00ee420-2dd3-4d36-9903-d1dc8f815f47\")) {\n",
       "                    Plotly.newPlot(\n",
       "                        'd00ee420-2dd3-4d36-9903-d1dc8f815f47',\n",
       "                        [{\"histfunc\": \"count\", \"histnorm\": \"\", \"marker\": {\"color\": \"rgba(255, 153, 51, 1.0)\", \"line\": {\"color\": \"#4D5663\", \"width\": 1.3}}, \"name\": \"A\", \"nbinsx\": 25, \"opacity\": 0.8, \"orientation\": \"v\", \"type\": \"histogram\", \"x\": [0.3464195938218623, 1.2191331189779477, -1.566198556307964, 0.46573085450095364, -0.15261785777811135, -0.8028457730946738, -1.2939789962191617, -0.6418087219226248, 1.9109107394573086, -0.7984950981964833, 0.37572064407586353, 0.10804546809227975, -0.2955939166246089, 0.6668013724677774, 1.606777904150411, 0.18473563502452545, -0.21514032491554505, -0.2776151300214792, 0.8398510702601665, -0.17787273295740644, 1.8394677466697062, -0.6830318073232281, 1.1910043748570203, -0.06296070100823661, 0.3893011193237392, -0.5418276224573682, 0.1456421026340764, 1.3478116660010542, 1.3398140902363653, 0.17909770396651062, -0.7347774212014662, -0.664509282045416, 1.9958932346583351, 0.06464239428800038, -0.17331233101528445, -1.5199911226136043, -0.011764777467682862, -0.22961655060029354, 0.8344144539000332, -0.6252542380202118, -0.35722719110995915, 1.4681106315488035, -0.972833984774363, -1.3185876357784978, 0.8369173852064116, -0.7203822787149038, 0.5391211086088187, 0.40930127362148827, 1.3305953798884078, 0.7875773751444973, 0.24411739461868534, -0.08843505642188325, 0.268342155604911, 0.053365885727759556, -0.027406353957162198, -0.542478529849032, 0.6176151365107044, -0.18176398391036097, -0.2045336720258062, 0.32644055801113225, 0.5569115331629004, 0.4709120552818683, -0.5511771984791615, 0.38672288804052146, 0.49369878628381486, 0.8742747551276879, -0.7728036843643227, -0.5316316557408409, -0.019359629269128015, -0.43540839748513804, 2.193864246093326, 0.7071061333240987, -0.6738965948167931, 2.3946971136177124, 1.2529062193552296, 1.0214426121109126, -0.18054114299205762, -1.848921966805281, 1.3846982722939123, 0.37389409884423136, -0.5518891745455325, -0.812964815588062, -0.1445860029165156, 0.5976439474074358, -0.031143888839414168, 1.288640608161686, -1.3760544674922424, 0.9963133082520479, 0.9751556082817852, -0.07231954115489966, -0.36525133427411105, 0.8539810900777741, -0.5593653152080624, 1.6784765782994218, 1.49764233252627, -0.8623001565375716, -0.7415847178841932, 1.1902930047966387, 0.5729387527499807, -0.2143483560074946]}, {\"histfunc\": \"count\", \"histnorm\": \"\", \"marker\": {\"color\": \"rgba(55, 128, 191, 1.0)\", \"line\": {\"color\": \"#4D5663\", \"width\": 1.3}}, \"name\": \"B\", \"nbinsx\": 25, \"opacity\": 0.8, \"orientation\": \"v\", \"type\": \"histogram\", \"x\": [-0.020590181209793654, 0.5423503125602855, -0.8787354341663304, -0.4895306549248174, -0.48541537247821465, -1.1581842623847438, -0.2769367387336216, 0.03311436155705231, 1.6024816506045834, 1.0831480858882039, -1.0072890793929596, 1.6632133708190122, -0.10794673509633486, 0.45432131136859577, -0.22565078146614284, 0.45507286942503267, 0.17974586396275005, -2.0175017586254036, 1.2707085867867112, 0.8107153806972188, 1.3683894902998583, 0.6721722990716655, -1.3053183578006817, 0.5690108539109617, 1.0528361089049871, -0.9946211425344996, 0.13209780322860354, 0.5975237600550157, -0.3990103367235594, 0.8544023703785645, -0.3652754198522442, -0.9394329209739792, -1.8247763232964613, 1.387400472070589, -0.6172006358456033, 0.28514310772208395, -0.9194137609477232, -1.0945907934466066, -0.01812635633048244, -0.42870107832880905, -0.14583236585484136, -1.9112885076025667, -0.6064194759449073, -0.5831693992001507, -0.9885022195286823, -1.319588708902828, 0.16146923595796253, -0.28246046695644217, -0.7714040710560138, 0.5847383075181828, 0.19107611317750492, -0.6526040938222579, 0.5699402612438804, -0.9911031656265455, 1.6493934330272855, 1.9039049563987207, 1.218355914745771, -0.494984884549906, 0.11678360950276127, -1.2146187590914483, -1.1476654603988559, -0.6451013537990224, -0.9089642937379179, -0.3107932934346349, 0.1431930390443773, 0.49590287215018686, 0.4685352804531265, 0.10806855993380053, 0.986890513730406, 0.7865424288418571, -1.2351640606494476, -2.02351966824216, -1.370146862511068, -1.3253039883938387, -1.184340482150768, -0.5064055507257907, -3.1134408477432705, -1.3748114148134778, 0.9623455167657223, 0.15572759045814794, 0.019438510421546488, -0.756212056642985, 1.0393078996740457, 1.283603086621441, 0.013246115306398687, 0.07988076305174152, 1.7490019784053388, -0.9381427033010681, -0.7346416378276212, 1.6403942432066971, -0.3292907770726725, 0.6890521545829256, -1.1228315951030374, -0.25605505749699964, -0.16944549777624168, 1.46716671061314, -0.18662380589638208, -1.7553469955013234, -0.1186070548456802, 1.3868762776821497]}, {\"histfunc\": \"count\", \"histnorm\": \"\", \"marker\": {\"color\": \"rgba(50, 171, 96, 1.0)\", \"line\": {\"color\": \"#4D5663\", \"width\": 1.3}}, \"name\": \"C\", \"nbinsx\": 25, \"opacity\": 0.8, \"orientation\": \"v\", \"type\": \"histogram\", \"x\": [0.14358159005220242, 0.2920812719560736, 0.4034545189350478, 1.1846433872331292, 0.319242774725028, -1.0378007174169739, 0.8566005112545779, 1.230587387035751, -0.6904449421321213, 0.5977777507201271, -0.2957408276879956, -1.2495092936375563, 1.6656398714796146, -0.3446167923977057, -1.254503270950624, -1.1388161689544005, -0.1717411579167247, 1.337329782119376, -1.6571968313842216, 0.395304398552172, 0.3331717998492536, 1.027506271028855, 1.6474630147154348, 0.3976627652729076, 0.407886600933332, -0.5530433271104201, 1.0332177544732484, 0.86768325022945, -0.3279844909807892, 0.3341765602344462, -1.3314901096554927, 0.09517340058130781, 0.414233914581945, 0.008258261866098746, -1.2358266866438095, -0.051510801020062245, -1.1018971303963652, -0.015386259776738126, -1.2133402799715634, 0.7238599629917095, -0.39130890290694187, 0.4279914942549863, -0.20925301904311044, -0.07715446690954722, -0.5219958922492965, 0.5971498071391562, -0.5679311029386973, -0.6379609701710316, -0.008311692620811812, -1.3357400359256055, 0.36352824933081623, -1.0139147273562739, -0.8276356994707972, -1.0139657015110843, 0.9348172455435725, 0.7346190521865691, 0.32389401870404105, 0.3890011873245929, 0.5842398951563093, -0.025820761777430607, -0.6520353470200743, -0.1957954163288069, -0.8525926967078836, 0.24534399615516964, 0.6447632757277592, 0.2444416159774107, 0.6885672298514097, 0.14182452610579782, -0.8383124174831217, -0.5256271659891929, 0.7474320776428933, 0.5498407131196493, 0.4326392632653981, -1.0041028281208184, -0.023836964615872768, -0.5842708332074602, -1.3655332884624836, -0.7016652237620963, -0.2544652796566522, -0.9696356130351645, -0.16816395858146188, 0.12710783669496098, -0.8217755283837832, 0.7570671870362776, 2.5475431730589433, -0.2276466929232567, 0.4669050820081747, 0.3904063276011235, 0.6397549748807329, 1.2479494093044476, -0.3393342010587006, 0.02345841570658886, -0.5581521817674187, 0.07108629812707043, 0.13841439096535338, -0.3076131842355114, -0.44813213779990757, -0.7341619613796643, -1.0667492318297769, 0.7541483808510677]}, {\"histfunc\": \"count\", \"histnorm\": \"\", \"marker\": {\"color\": \"rgba(128, 0, 128, 1.0)\", \"line\": {\"color\": \"#4D5663\", \"width\": 1.3}}, \"name\": \"D\", \"nbinsx\": 25, \"opacity\": 0.8, \"orientation\": \"v\", \"type\": \"histogram\", \"x\": [-1.1118640049651034, 0.1491406043116301, -1.2221106374241755, -1.6875795839754855, -0.7558177324260064, -1.6337871211050123, 0.22261233323591775, 0.7915733560199928, 1.6896287071492586, -0.1975697108903575, -1.8948362657753854, -0.2541235158529231, 0.03661794809435186, 0.7548769352154293, 0.42547738622571923, 0.46165798801264835, 0.007295368926671065, 0.891055630096048, 0.24386729392890943, 0.8307255191948365, 0.35626459418787493, 2.1578145958004145, -2.058911680464687, -0.27284665675569436, -0.15770271572799424, 1.5033000533442646, -0.7496941979711484, 0.8514411005089376, -0.3916152705357473, 0.22689570064360143, -0.2197162949623533, -0.16579621986256468, 1.7299343666421136, 1.253065148652142, 1.210314349675132, -0.44295688764545177, 0.7521680139399465, -0.2674260111881133, 1.7902607882569215, -1.2912637225126222, 1.1762596418399858, 0.3680637408772415, 1.1759519499772664, -0.2752043603187563, 0.1024792184516914, -0.5941545257254696, 0.9489352620540739, -1.062895402760241, -1.0567115215569716, -2.3587912906105832, 2.9653750929051372, -0.27421247498910417, -0.328514053729911, 0.5734230922653505, -0.0607092670338549, 1.1704828032581003, 1.354998594411703, -0.6567767998847259, -0.10265296524401771, -0.27134167423686395, 1.5412502872780447, 0.5781757038302135, 1.2224550744752862, -0.08639304752669724, 0.9262617313935608, 0.22324901110438788, -1.7744853454310123, 1.1817122408866545, -0.5286257010564885, -2.7180104539156384, -1.0045558820687108, -1.1008071985316823, 0.4275954953925082, -0.32492381688521127, -1.0280063715123986, 0.23787612180794981, 0.18686310544658025, -0.3497955317388221, -0.09738618475432757, -1.2290276943037652, 0.5875304076931959, 0.8814182541543529, -0.6781089026484597, -0.7373594071213471, 1.115607766095368, 0.12888807541459482, -0.8158561577836921, -0.5940310396993876, -0.5291881868373929, -0.5751787198636337, 0.5108329935769008, 1.2067401728845797, -1.4220280600408528, -0.24726913124166838, -0.14727165533210312, 0.4513601251105589, 0.7331496085916595, 0.8068582051299986, 0.8857024956321218, -0.3926293025656279]}],\n",
       "                        {\"barmode\": \"overlay\", \"legend\": {\"bgcolor\": \"#F5F6F9\", \"font\": {\"color\": \"#4D5663\"}}, \"paper_bgcolor\": \"#F5F6F9\", \"plot_bgcolor\": \"#F5F6F9\", \"template\": {\"data\": {\"bar\": [{\"error_x\": {\"color\": \"#2a3f5f\"}, \"error_y\": {\"color\": \"#2a3f5f\"}, \"marker\": {\"line\": {\"color\": \"#E5ECF6\", \"width\": 0.5}}, \"type\": \"bar\"}], \"barpolar\": [{\"marker\": {\"line\": {\"color\": \"#E5ECF6\", \"width\": 0.5}}, \"type\": \"barpolar\"}], \"carpet\": [{\"aaxis\": {\"endlinecolor\": \"#2a3f5f\", \"gridcolor\": \"white\", \"linecolor\": \"white\", \"minorgridcolor\": \"white\", \"startlinecolor\": \"#2a3f5f\"}, \"baxis\": {\"endlinecolor\": \"#2a3f5f\", \"gridcolor\": \"white\", \"linecolor\": \"white\", \"minorgridcolor\": \"white\", \"startlinecolor\": \"#2a3f5f\"}, \"type\": \"carpet\"}], \"choropleth\": [{\"colorbar\": {\"outlinewidth\": 0, \"ticks\": \"\"}, \"type\": \"choropleth\"}], \"contour\": [{\"colorbar\": {\"outlinewidth\": 0, \"ticks\": \"\"}, \"colorscale\": [[0.0, \"#0d0887\"], [0.1111111111111111, \"#46039f\"], [0.2222222222222222, \"#7201a8\"], [0.3333333333333333, \"#9c179e\"], [0.4444444444444444, \"#bd3786\"], [0.5555555555555556, \"#d8576b\"], [0.6666666666666666, \"#ed7953\"], [0.7777777777777778, \"#fb9f3a\"], [0.8888888888888888, \"#fdca26\"], [1.0, \"#f0f921\"]], \"type\": \"contour\"}], \"contourcarpet\": [{\"colorbar\": {\"outlinewidth\": 0, \"ticks\": \"\"}, \"type\": \"contourcarpet\"}], \"heatmap\": [{\"colorbar\": {\"outlinewidth\": 0, \"ticks\": \"\"}, \"colorscale\": [[0.0, \"#0d0887\"], [0.1111111111111111, \"#46039f\"], [0.2222222222222222, \"#7201a8\"], [0.3333333333333333, \"#9c179e\"], [0.4444444444444444, \"#bd3786\"], [0.5555555555555556, \"#d8576b\"], [0.6666666666666666, \"#ed7953\"], [0.7777777777777778, \"#fb9f3a\"], [0.8888888888888888, \"#fdca26\"], [1.0, \"#f0f921\"]], \"type\": \"heatmap\"}], \"heatmapgl\": [{\"colorbar\": {\"outlinewidth\": 0, \"ticks\": \"\"}, \"colorscale\": [[0.0, \"#0d0887\"], [0.1111111111111111, \"#46039f\"], [0.2222222222222222, \"#7201a8\"], [0.3333333333333333, \"#9c179e\"], [0.4444444444444444, \"#bd3786\"], [0.5555555555555556, \"#d8576b\"], [0.6666666666666666, \"#ed7953\"], [0.7777777777777778, \"#fb9f3a\"], [0.8888888888888888, \"#fdca26\"], [1.0, \"#f0f921\"]], \"type\": \"heatmapgl\"}], \"histogram\": [{\"marker\": {\"colorbar\": {\"outlinewidth\": 0, \"ticks\": \"\"}}, \"type\": \"histogram\"}], \"histogram2d\": [{\"colorbar\": {\"outlinewidth\": 0, \"ticks\": \"\"}, \"colorscale\": [[0.0, \"#0d0887\"], [0.1111111111111111, \"#46039f\"], [0.2222222222222222, \"#7201a8\"], [0.3333333333333333, \"#9c179e\"], [0.4444444444444444, \"#bd3786\"], [0.5555555555555556, \"#d8576b\"], [0.6666666666666666, \"#ed7953\"], [0.7777777777777778, \"#fb9f3a\"], [0.8888888888888888, \"#fdca26\"], [1.0, \"#f0f921\"]], \"type\": \"histogram2d\"}], \"histogram2dcontour\": [{\"colorbar\": {\"outlinewidth\": 0, \"ticks\": \"\"}, \"colorscale\": [[0.0, \"#0d0887\"], [0.1111111111111111, \"#46039f\"], [0.2222222222222222, \"#7201a8\"], [0.3333333333333333, \"#9c179e\"], [0.4444444444444444, \"#bd3786\"], [0.5555555555555556, \"#d8576b\"], [0.6666666666666666, \"#ed7953\"], [0.7777777777777778, \"#fb9f3a\"], [0.8888888888888888, \"#fdca26\"], [1.0, \"#f0f921\"]], \"type\": \"histogram2dcontour\"}], \"mesh3d\": [{\"colorbar\": {\"outlinewidth\": 0, \"ticks\": \"\"}, \"type\": \"mesh3d\"}], \"parcoords\": [{\"line\": {\"colorbar\": {\"outlinewidth\": 0, \"ticks\": \"\"}}, \"type\": \"parcoords\"}], \"pie\": [{\"automargin\": true, \"type\": \"pie\"}], \"scatter\": [{\"marker\": {\"colorbar\": {\"outlinewidth\": 0, \"ticks\": \"\"}}, \"type\": \"scatter\"}], \"scatter3d\": [{\"line\": {\"colorbar\": {\"outlinewidth\": 0, \"ticks\": \"\"}}, \"marker\": {\"colorbar\": {\"outlinewidth\": 0, \"ticks\": \"\"}}, \"type\": \"scatter3d\"}], \"scattercarpet\": [{\"marker\": {\"colorbar\": {\"outlinewidth\": 0, \"ticks\": \"\"}}, \"type\": \"scattercarpet\"}], \"scattergeo\": [{\"marker\": {\"colorbar\": {\"outlinewidth\": 0, \"ticks\": \"\"}}, \"type\": \"scattergeo\"}], \"scattergl\": [{\"marker\": {\"colorbar\": {\"outlinewidth\": 0, \"ticks\": \"\"}}, \"type\": \"scattergl\"}], \"scattermapbox\": [{\"marker\": {\"colorbar\": {\"outlinewidth\": 0, \"ticks\": \"\"}}, \"type\": \"scattermapbox\"}], \"scatterpolar\": [{\"marker\": {\"colorbar\": {\"outlinewidth\": 0, \"ticks\": \"\"}}, \"type\": \"scatterpolar\"}], \"scatterpolargl\": [{\"marker\": {\"colorbar\": {\"outlinewidth\": 0, \"ticks\": \"\"}}, \"type\": \"scatterpolargl\"}], \"scatterternary\": [{\"marker\": {\"colorbar\": {\"outlinewidth\": 0, \"ticks\": \"\"}}, \"type\": \"scatterternary\"}], \"surface\": [{\"colorbar\": {\"outlinewidth\": 0, \"ticks\": \"\"}, \"colorscale\": [[0.0, \"#0d0887\"], [0.1111111111111111, \"#46039f\"], [0.2222222222222222, \"#7201a8\"], [0.3333333333333333, \"#9c179e\"], [0.4444444444444444, \"#bd3786\"], [0.5555555555555556, \"#d8576b\"], [0.6666666666666666, \"#ed7953\"], [0.7777777777777778, \"#fb9f3a\"], [0.8888888888888888, \"#fdca26\"], [1.0, \"#f0f921\"]], \"type\": \"surface\"}], \"table\": [{\"cells\": {\"fill\": {\"color\": \"#EBF0F8\"}, \"line\": {\"color\": \"white\"}}, \"header\": {\"fill\": {\"color\": \"#C8D4E3\"}, \"line\": {\"color\": \"white\"}}, \"type\": \"table\"}]}, \"layout\": {\"annotationdefaults\": {\"arrowcolor\": \"#2a3f5f\", \"arrowhead\": 0, \"arrowwidth\": 1}, \"coloraxis\": {\"colorbar\": {\"outlinewidth\": 0, \"ticks\": \"\"}}, \"colorscale\": {\"diverging\": [[0, \"#8e0152\"], [0.1, \"#c51b7d\"], [0.2, \"#de77ae\"], [0.3, \"#f1b6da\"], [0.4, \"#fde0ef\"], [0.5, \"#f7f7f7\"], [0.6, \"#e6f5d0\"], [0.7, \"#b8e186\"], [0.8, \"#7fbc41\"], [0.9, \"#4d9221\"], [1, \"#276419\"]], \"sequential\": [[0.0, \"#0d0887\"], [0.1111111111111111, \"#46039f\"], [0.2222222222222222, \"#7201a8\"], [0.3333333333333333, \"#9c179e\"], [0.4444444444444444, \"#bd3786\"], [0.5555555555555556, \"#d8576b\"], [0.6666666666666666, \"#ed7953\"], [0.7777777777777778, \"#fb9f3a\"], [0.8888888888888888, \"#fdca26\"], [1.0, \"#f0f921\"]], \"sequentialminus\": [[0.0, \"#0d0887\"], [0.1111111111111111, \"#46039f\"], [0.2222222222222222, \"#7201a8\"], [0.3333333333333333, \"#9c179e\"], [0.4444444444444444, \"#bd3786\"], [0.5555555555555556, \"#d8576b\"], [0.6666666666666666, \"#ed7953\"], [0.7777777777777778, \"#fb9f3a\"], [0.8888888888888888, \"#fdca26\"], [1.0, \"#f0f921\"]]}, \"colorway\": [\"#636efa\", \"#EF553B\", \"#00cc96\", \"#ab63fa\", \"#FFA15A\", \"#19d3f3\", \"#FF6692\", \"#B6E880\", \"#FF97FF\", \"#FECB52\"], \"font\": {\"color\": \"#2a3f5f\"}, \"geo\": {\"bgcolor\": \"white\", \"lakecolor\": \"white\", \"landcolor\": \"#E5ECF6\", \"showlakes\": true, \"showland\": true, \"subunitcolor\": \"white\"}, \"hoverlabel\": {\"align\": \"left\"}, \"hovermode\": \"closest\", \"mapbox\": {\"style\": \"light\"}, \"paper_bgcolor\": \"white\", \"plot_bgcolor\": \"#E5ECF6\", \"polar\": {\"angularaxis\": {\"gridcolor\": \"white\", \"linecolor\": \"white\", \"ticks\": \"\"}, \"bgcolor\": \"#E5ECF6\", \"radialaxis\": {\"gridcolor\": \"white\", \"linecolor\": \"white\", \"ticks\": \"\"}}, \"scene\": {\"xaxis\": {\"backgroundcolor\": \"#E5ECF6\", \"gridcolor\": \"white\", \"gridwidth\": 2, \"linecolor\": \"white\", \"showbackground\": true, \"ticks\": \"\", \"zerolinecolor\": \"white\"}, \"yaxis\": {\"backgroundcolor\": \"#E5ECF6\", \"gridcolor\": \"white\", \"gridwidth\": 2, \"linecolor\": \"white\", \"showbackground\": true, \"ticks\": \"\", \"zerolinecolor\": \"white\"}, \"zaxis\": {\"backgroundcolor\": \"#E5ECF6\", \"gridcolor\": \"white\", \"gridwidth\": 2, \"linecolor\": \"white\", \"showbackground\": true, \"ticks\": \"\", \"zerolinecolor\": \"white\"}}, \"shapedefaults\": {\"line\": {\"color\": \"#2a3f5f\"}}, \"ternary\": {\"aaxis\": {\"gridcolor\": \"white\", \"linecolor\": \"white\", \"ticks\": \"\"}, \"baxis\": {\"gridcolor\": \"white\", \"linecolor\": \"white\", \"ticks\": \"\"}, \"bgcolor\": \"#E5ECF6\", \"caxis\": {\"gridcolor\": \"white\", \"linecolor\": \"white\", \"ticks\": \"\"}}, \"title\": {\"x\": 0.05}, \"xaxis\": {\"automargin\": true, \"gridcolor\": \"white\", \"linecolor\": \"white\", \"ticks\": \"\", \"title\": {\"standoff\": 15}, \"zerolinecolor\": \"white\", \"zerolinewidth\": 2}, \"yaxis\": {\"automargin\": true, \"gridcolor\": \"white\", \"linecolor\": \"white\", \"ticks\": \"\", \"title\": {\"standoff\": 15}, \"zerolinecolor\": \"white\", \"zerolinewidth\": 2}}}, \"title\": {\"font\": {\"color\": \"#4D5663\"}}, \"xaxis\": {\"gridcolor\": \"#E1E5ED\", \"showgrid\": true, \"tickfont\": {\"color\": \"#4D5663\"}, \"title\": {\"font\": {\"color\": \"#4D5663\"}, \"text\": \"\"}, \"zerolinecolor\": \"#E1E5ED\"}, \"yaxis\": {\"gridcolor\": \"#E1E5ED\", \"showgrid\": true, \"tickfont\": {\"color\": \"#4D5663\"}, \"title\": {\"font\": {\"color\": \"#4D5663\"}, \"text\": \"\"}, \"zerolinecolor\": \"#E1E5ED\"}},\n",
       "                        {\"showLink\": true, \"linkText\": \"Export to plot.ly\", \"plotlyServerURL\": \"https://plot.ly\", \"responsive\": true}\n",
       "                    ).then(function(){\n",
       "                            \n",
       "var gd = document.getElementById('d00ee420-2dd3-4d36-9903-d1dc8f815f47');\n",
       "var x = new MutationObserver(function (mutations, observer) {{\n",
       "        var display = window.getComputedStyle(gd).display;\n",
       "        if (!display || display === 'none') {{\n",
       "            console.log([gd, 'removed!']);\n",
       "            Plotly.purge(gd);\n",
       "            observer.disconnect();\n",
       "        }}\n",
       "}});\n",
       "\n",
       "// Listen for the removal of the full notebook cells\n",
       "var notebookContainer = gd.closest('#notebook-container');\n",
       "if (notebookContainer) {{\n",
       "    x.observe(notebookContainer, {childList: true});\n",
       "}}\n",
       "\n",
       "// Listen for the clearing of the current output cell\n",
       "var outputEl = gd.closest('.output');\n",
       "if (outputEl) {{\n",
       "    x.observe(outputEl, {childList: true});\n",
       "}}\n",
       "\n",
       "                        })\n",
       "                };\n",
       "                });\n",
       "            </script>\n",
       "        </div>"
      ]
     },
     "metadata": {},
     "output_type": "display_data"
    }
   ],
   "source": [
    "df.iplot(kind='hist', bins=25)"
   ]
  },
  {
   "cell_type": "code",
   "execution_count": 41,
   "metadata": {},
   "outputs": [
    {
     "data": {
      "application/vnd.plotly.v1+json": {
       "config": {
        "linkText": "Export to plot.ly",
        "plotlyServerURL": "https://plot.ly",
        "showLink": true
       },
       "data": [
        {
         "line": {
          "color": "rgba(255, 153, 51, 1.0)",
          "dash": "solid",
          "shape": "linear",
          "width": 1.3
         },
         "mode": "lines",
         "name": "A",
         "text": "",
         "type": "scatter",
         "x": [
          0,
          1,
          2,
          3,
          4,
          5,
          6,
          7,
          8,
          9,
          10,
          11,
          12,
          13,
          14,
          15,
          16,
          17,
          18,
          19,
          20,
          21,
          22,
          23,
          24,
          25,
          26,
          27,
          28,
          29,
          30,
          31,
          32,
          33,
          34,
          35,
          36,
          37,
          38,
          39,
          40,
          41,
          42,
          43,
          44,
          45,
          46,
          47,
          48,
          49,
          50,
          51,
          52,
          53,
          54,
          55,
          56,
          57,
          58,
          59,
          60,
          61,
          62,
          63,
          64,
          65,
          66,
          67,
          68,
          69,
          70,
          71,
          72,
          73,
          74,
          75,
          76,
          77,
          78,
          79,
          80,
          81,
          82,
          83,
          84,
          85,
          86,
          87,
          88,
          89,
          90,
          91,
          92,
          93,
          94,
          95,
          96,
          97,
          98,
          99
         ],
         "y": [
          0.3464195938218623,
          1.2191331189779477,
          -1.566198556307964,
          0.46573085450095364,
          -0.15261785777811135,
          -0.8028457730946738,
          -1.2939789962191617,
          -0.6418087219226248,
          1.9109107394573086,
          -0.7984950981964833,
          0.37572064407586353,
          0.10804546809227975,
          -0.2955939166246089,
          0.6668013724677774,
          1.606777904150411,
          0.18473563502452545,
          -0.21514032491554505,
          -0.2776151300214792,
          0.8398510702601665,
          -0.17787273295740644,
          1.8394677466697062,
          -0.6830318073232281,
          1.1910043748570203,
          -0.06296070100823661,
          0.3893011193237392,
          -0.5418276224573682,
          0.1456421026340764,
          1.3478116660010542,
          1.3398140902363653,
          0.17909770396651062,
          -0.7347774212014662,
          -0.664509282045416,
          1.9958932346583351,
          0.06464239428800038,
          -0.17331233101528445,
          -1.5199911226136043,
          -0.011764777467682862,
          -0.22961655060029354,
          0.8344144539000332,
          -0.6252542380202118,
          -0.35722719110995915,
          1.4681106315488035,
          -0.972833984774363,
          -1.3185876357784978,
          0.8369173852064116,
          -0.7203822787149038,
          0.5391211086088187,
          0.40930127362148827,
          1.3305953798884078,
          0.7875773751444973,
          0.24411739461868534,
          -0.08843505642188325,
          0.268342155604911,
          0.053365885727759556,
          -0.027406353957162198,
          -0.542478529849032,
          0.6176151365107044,
          -0.18176398391036097,
          -0.2045336720258062,
          0.32644055801113225,
          0.5569115331629004,
          0.4709120552818683,
          -0.5511771984791615,
          0.38672288804052146,
          0.49369878628381486,
          0.8742747551276879,
          -0.7728036843643227,
          -0.5316316557408409,
          -0.019359629269128015,
          -0.43540839748513804,
          2.193864246093326,
          0.7071061333240987,
          -0.6738965948167931,
          2.3946971136177124,
          1.2529062193552296,
          1.0214426121109126,
          -0.18054114299205762,
          -1.848921966805281,
          1.3846982722939123,
          0.37389409884423136,
          -0.5518891745455325,
          -0.812964815588062,
          -0.1445860029165156,
          0.5976439474074358,
          -0.031143888839414168,
          1.288640608161686,
          -1.3760544674922424,
          0.9963133082520479,
          0.9751556082817852,
          -0.07231954115489966,
          -0.36525133427411105,
          0.8539810900777741,
          -0.5593653152080624,
          1.6784765782994218,
          1.49764233252627,
          -0.8623001565375716,
          -0.7415847178841932,
          1.1902930047966387,
          0.5729387527499807,
          -0.2143483560074946
         ]
        },
        {
         "line": {
          "color": "rgba(55, 128, 191, 1.0)",
          "dash": "solid",
          "shape": "linear",
          "width": 1.3
         },
         "mode": "lines",
         "name": "B",
         "text": "",
         "type": "scatter",
         "x": [
          0,
          1,
          2,
          3,
          4,
          5,
          6,
          7,
          8,
          9,
          10,
          11,
          12,
          13,
          14,
          15,
          16,
          17,
          18,
          19,
          20,
          21,
          22,
          23,
          24,
          25,
          26,
          27,
          28,
          29,
          30,
          31,
          32,
          33,
          34,
          35,
          36,
          37,
          38,
          39,
          40,
          41,
          42,
          43,
          44,
          45,
          46,
          47,
          48,
          49,
          50,
          51,
          52,
          53,
          54,
          55,
          56,
          57,
          58,
          59,
          60,
          61,
          62,
          63,
          64,
          65,
          66,
          67,
          68,
          69,
          70,
          71,
          72,
          73,
          74,
          75,
          76,
          77,
          78,
          79,
          80,
          81,
          82,
          83,
          84,
          85,
          86,
          87,
          88,
          89,
          90,
          91,
          92,
          93,
          94,
          95,
          96,
          97,
          98,
          99
         ],
         "y": [
          -0.020590181209793654,
          0.5423503125602855,
          -0.8787354341663304,
          -0.4895306549248174,
          -0.48541537247821465,
          -1.1581842623847438,
          -0.2769367387336216,
          0.03311436155705231,
          1.6024816506045834,
          1.0831480858882039,
          -1.0072890793929596,
          1.6632133708190122,
          -0.10794673509633486,
          0.45432131136859577,
          -0.22565078146614284,
          0.45507286942503267,
          0.17974586396275005,
          -2.0175017586254036,
          1.2707085867867112,
          0.8107153806972188,
          1.3683894902998583,
          0.6721722990716655,
          -1.3053183578006817,
          0.5690108539109617,
          1.0528361089049871,
          -0.9946211425344996,
          0.13209780322860354,
          0.5975237600550157,
          -0.3990103367235594,
          0.8544023703785645,
          -0.3652754198522442,
          -0.9394329209739792,
          -1.8247763232964613,
          1.387400472070589,
          -0.6172006358456033,
          0.28514310772208395,
          -0.9194137609477232,
          -1.0945907934466066,
          -0.01812635633048244,
          -0.42870107832880905,
          -0.14583236585484136,
          -1.9112885076025667,
          -0.6064194759449073,
          -0.5831693992001507,
          -0.9885022195286823,
          -1.319588708902828,
          0.16146923595796253,
          -0.28246046695644217,
          -0.7714040710560138,
          0.5847383075181828,
          0.19107611317750492,
          -0.6526040938222579,
          0.5699402612438804,
          -0.9911031656265455,
          1.6493934330272855,
          1.9039049563987207,
          1.218355914745771,
          -0.494984884549906,
          0.11678360950276127,
          -1.2146187590914483,
          -1.1476654603988559,
          -0.6451013537990224,
          -0.9089642937379179,
          -0.3107932934346349,
          0.1431930390443773,
          0.49590287215018686,
          0.4685352804531265,
          0.10806855993380053,
          0.986890513730406,
          0.7865424288418571,
          -1.2351640606494476,
          -2.02351966824216,
          -1.370146862511068,
          -1.3253039883938387,
          -1.184340482150768,
          -0.5064055507257907,
          -3.1134408477432705,
          -1.3748114148134778,
          0.9623455167657223,
          0.15572759045814794,
          0.019438510421546488,
          -0.756212056642985,
          1.0393078996740457,
          1.283603086621441,
          0.013246115306398687,
          0.07988076305174152,
          1.7490019784053388,
          -0.9381427033010681,
          -0.7346416378276212,
          1.6403942432066971,
          -0.3292907770726725,
          0.6890521545829256,
          -1.1228315951030374,
          -0.25605505749699964,
          -0.16944549777624168,
          1.46716671061314,
          -0.18662380589638208,
          -1.7553469955013234,
          -0.1186070548456802,
          1.3868762776821497
         ]
        },
        {
         "connectgaps": false,
         "fill": "tozeroy",
         "line": {
          "color": "green",
          "dash": "solid",
          "shape": "linear",
          "width": 0.5
         },
         "mode": "lines",
         "name": "Spread",
         "showlegend": false,
         "type": "scatter",
         "x": [
          0,
          1,
          2,
          3,
          4,
          5,
          6,
          7,
          8,
          9,
          10,
          11,
          12,
          13,
          14,
          15,
          16,
          17,
          18,
          19,
          20,
          21,
          22,
          23,
          24,
          25,
          26,
          27,
          28,
          29,
          30,
          31,
          32,
          33,
          34,
          35,
          36,
          37,
          38,
          39,
          40,
          41,
          42,
          43,
          44,
          45,
          46,
          47,
          48,
          49,
          50,
          51,
          52,
          53,
          54,
          55,
          56,
          57,
          58,
          59,
          60,
          61,
          62,
          63,
          64,
          65,
          66,
          67,
          68,
          69,
          70,
          71,
          72,
          73,
          74,
          75,
          76,
          77,
          78,
          79,
          80,
          81,
          82,
          83,
          84,
          85,
          86,
          87,
          88,
          89,
          90,
          91,
          92,
          93,
          94,
          95,
          96,
          97,
          98,
          99
         ],
         "xaxis": "x2",
         "y": [
          0.367009775031656,
          0.6767828064176622,
          "",
          0.955261509425771,
          0.3327975147001033,
          0.35533848929007006,
          "",
          "",
          0.30842908885272524,
          "",
          1.3830097234688232,
          "",
          "",
          0.2124800610991816,
          1.832428685616554,
          "",
          "",
          1.7398866286039243,
          "",
          "",
          0.4710782563698479,
          "",
          2.4963227326577018,
          "",
          "",
          0.4527935200771315,
          0.01354429940547286,
          0.7502879059460384,
          1.7388244269599247,
          "",
          "",
          0.2749236389285632,
          3.8206695579547967,
          "",
          0.4438883048303188,
          "",
          0.9076489834800403,
          0.8649742428463131,
          0.8525408102305156,
          "",
          "",
          3.3793991391513702,
          "",
          "",
          1.825419604735094,
          0.5992064301879242,
          0.37765187265085615,
          0.6917617405779304,
          2.1019994509444215,
          0.20283906762631454,
          0.05304128144118042,
          0.5641690374003747,
          "",
          1.0444690513543051,
          "",
          "",
          "",
          0.31322090063954505,
          "",
          1.5410593171025806,
          1.7045769935617563,
          1.1160134090808906,
          0.3577870952587564,
          0.6975161814751564,
          0.35050574723943756,
          0.3783718829775011,
          "",
          "",
          "",
          "",
          3.429028306742774,
          2.7306258015662586,
          0.6962502676942749,
          3.720001102011551,
          2.4372467015059973,
          1.5278481628367033,
          2.932899704751213,
          "",
          0.42235275552818996,
          0.21816650838608342,
          "",
          "",
          "",
          "",
          "",
          1.2087598451099444,
          "",
          1.934456011553116,
          1.7097972461094062,
          "",
          "",
          0.16492893549484855,
          0.563466279894975,
          1.9345316357964215,
          1.6670878303025116,
          "",
          "",
          2.945640000297962,
          0.691545807595661,
          ""
         ],
         "yaxis": "y2"
        },
        {
         "connectgaps": false,
         "fill": "tozeroy",
         "line": {
          "color": "red",
          "dash": "solid",
          "shape": "linear",
          "width": 0.5
         },
         "mode": "lines",
         "name": "Spread",
         "showlegend": false,
         "type": "scatter",
         "x": [
          0,
          1,
          2,
          3,
          4,
          5,
          6,
          7,
          8,
          9,
          10,
          11,
          12,
          13,
          14,
          15,
          16,
          17,
          18,
          19,
          20,
          21,
          22,
          23,
          24,
          25,
          26,
          27,
          28,
          29,
          30,
          31,
          32,
          33,
          34,
          35,
          36,
          37,
          38,
          39,
          40,
          41,
          42,
          43,
          44,
          45,
          46,
          47,
          48,
          49,
          50,
          51,
          52,
          53,
          54,
          55,
          56,
          57,
          58,
          59,
          60,
          61,
          62,
          63,
          64,
          65,
          66,
          67,
          68,
          69,
          70,
          71,
          72,
          73,
          74,
          75,
          76,
          77,
          78,
          79,
          80,
          81,
          82,
          83,
          84,
          85,
          86,
          87,
          88,
          89,
          90,
          91,
          92,
          93,
          94,
          95,
          96,
          97,
          98,
          99
         ],
         "xaxis": "x2",
         "y": [
          "",
          "",
          -0.6874631221416335,
          "",
          "",
          "",
          -1.01704225748554,
          -0.6749230834796771,
          "",
          -1.8816431840846872,
          "",
          -1.5551679027267324,
          -0.18764718152827403,
          "",
          "",
          -0.2703372344005072,
          -0.3948861888782951,
          "",
          -0.4308575165265447,
          -0.9885881136546253,
          "",
          -1.3552041063948936,
          "",
          -0.6319715549191983,
          -0.6635349895812479,
          "",
          "",
          "",
          "",
          -0.6753046664120539,
          -0.36950200134922195,
          "",
          "",
          -1.3227580777825887,
          "",
          -1.805134230335688,
          "",
          "",
          "",
          -0.1965531596914028,
          -0.2113948252551178,
          "",
          -0.3664145088294557,
          -0.7354182365783472,
          "",
          "",
          "",
          "",
          "",
          "",
          "",
          "",
          -0.30159810563896944,
          "",
          -1.6767997869844478,
          -2.4463834862477527,
          -0.6007407782350666,
          "",
          -0.3213172815285675,
          "",
          "",
          "",
          "",
          "",
          "",
          "",
          -1.241338964817449,
          -0.6397002156746414,
          -1.006250142999534,
          -1.2219508263269951,
          "",
          "",
          "",
          "",
          "",
          "",
          "",
          -0.4741105519918032,
          "",
          "",
          -0.5713276849670791,
          -0.05675275894507703,
          -1.1838939025905613,
          -0.6859591392140052,
          -0.04439000414581286,
          "",
          -3.125056445897581,
          "",
          "",
          -1.7127137843615967,
          -0.03596055720143854,
          "",
          "",
          "",
          "",
          -2.3294668671507117,
          -0.5549609119878112,
          "",
          "",
          -1.6012246336896443
         ],
         "yaxis": "y2"
        }
       ],
       "layout": {
        "hovermode": "x",
        "legend": {
         "bgcolor": "#F5F6F9",
         "font": {
          "color": "#4D5663"
         }
        },
        "paper_bgcolor": "#F5F6F9",
        "plot_bgcolor": "#F5F6F9",
        "template": {
         "data": {
          "bar": [
           {
            "error_x": {
             "color": "#2a3f5f"
            },
            "error_y": {
             "color": "#2a3f5f"
            },
            "marker": {
             "line": {
              "color": "#E5ECF6",
              "width": 0.5
             }
            },
            "type": "bar"
           }
          ],
          "barpolar": [
           {
            "marker": {
             "line": {
              "color": "#E5ECF6",
              "width": 0.5
             }
            },
            "type": "barpolar"
           }
          ],
          "carpet": [
           {
            "aaxis": {
             "endlinecolor": "#2a3f5f",
             "gridcolor": "white",
             "linecolor": "white",
             "minorgridcolor": "white",
             "startlinecolor": "#2a3f5f"
            },
            "baxis": {
             "endlinecolor": "#2a3f5f",
             "gridcolor": "white",
             "linecolor": "white",
             "minorgridcolor": "white",
             "startlinecolor": "#2a3f5f"
            },
            "type": "carpet"
           }
          ],
          "choropleth": [
           {
            "colorbar": {
             "outlinewidth": 0,
             "ticks": ""
            },
            "type": "choropleth"
           }
          ],
          "contour": [
           {
            "colorbar": {
             "outlinewidth": 0,
             "ticks": ""
            },
            "colorscale": [
             [
              0,
              "#0d0887"
             ],
             [
              0.1111111111111111,
              "#46039f"
             ],
             [
              0.2222222222222222,
              "#7201a8"
             ],
             [
              0.3333333333333333,
              "#9c179e"
             ],
             [
              0.4444444444444444,
              "#bd3786"
             ],
             [
              0.5555555555555556,
              "#d8576b"
             ],
             [
              0.6666666666666666,
              "#ed7953"
             ],
             [
              0.7777777777777778,
              "#fb9f3a"
             ],
             [
              0.8888888888888888,
              "#fdca26"
             ],
             [
              1,
              "#f0f921"
             ]
            ],
            "type": "contour"
           }
          ],
          "contourcarpet": [
           {
            "colorbar": {
             "outlinewidth": 0,
             "ticks": ""
            },
            "type": "contourcarpet"
           }
          ],
          "heatmap": [
           {
            "colorbar": {
             "outlinewidth": 0,
             "ticks": ""
            },
            "colorscale": [
             [
              0,
              "#0d0887"
             ],
             [
              0.1111111111111111,
              "#46039f"
             ],
             [
              0.2222222222222222,
              "#7201a8"
             ],
             [
              0.3333333333333333,
              "#9c179e"
             ],
             [
              0.4444444444444444,
              "#bd3786"
             ],
             [
              0.5555555555555556,
              "#d8576b"
             ],
             [
              0.6666666666666666,
              "#ed7953"
             ],
             [
              0.7777777777777778,
              "#fb9f3a"
             ],
             [
              0.8888888888888888,
              "#fdca26"
             ],
             [
              1,
              "#f0f921"
             ]
            ],
            "type": "heatmap"
           }
          ],
          "heatmapgl": [
           {
            "colorbar": {
             "outlinewidth": 0,
             "ticks": ""
            },
            "colorscale": [
             [
              0,
              "#0d0887"
             ],
             [
              0.1111111111111111,
              "#46039f"
             ],
             [
              0.2222222222222222,
              "#7201a8"
             ],
             [
              0.3333333333333333,
              "#9c179e"
             ],
             [
              0.4444444444444444,
              "#bd3786"
             ],
             [
              0.5555555555555556,
              "#d8576b"
             ],
             [
              0.6666666666666666,
              "#ed7953"
             ],
             [
              0.7777777777777778,
              "#fb9f3a"
             ],
             [
              0.8888888888888888,
              "#fdca26"
             ],
             [
              1,
              "#f0f921"
             ]
            ],
            "type": "heatmapgl"
           }
          ],
          "histogram": [
           {
            "marker": {
             "colorbar": {
              "outlinewidth": 0,
              "ticks": ""
             }
            },
            "type": "histogram"
           }
          ],
          "histogram2d": [
           {
            "colorbar": {
             "outlinewidth": 0,
             "ticks": ""
            },
            "colorscale": [
             [
              0,
              "#0d0887"
             ],
             [
              0.1111111111111111,
              "#46039f"
             ],
             [
              0.2222222222222222,
              "#7201a8"
             ],
             [
              0.3333333333333333,
              "#9c179e"
             ],
             [
              0.4444444444444444,
              "#bd3786"
             ],
             [
              0.5555555555555556,
              "#d8576b"
             ],
             [
              0.6666666666666666,
              "#ed7953"
             ],
             [
              0.7777777777777778,
              "#fb9f3a"
             ],
             [
              0.8888888888888888,
              "#fdca26"
             ],
             [
              1,
              "#f0f921"
             ]
            ],
            "type": "histogram2d"
           }
          ],
          "histogram2dcontour": [
           {
            "colorbar": {
             "outlinewidth": 0,
             "ticks": ""
            },
            "colorscale": [
             [
              0,
              "#0d0887"
             ],
             [
              0.1111111111111111,
              "#46039f"
             ],
             [
              0.2222222222222222,
              "#7201a8"
             ],
             [
              0.3333333333333333,
              "#9c179e"
             ],
             [
              0.4444444444444444,
              "#bd3786"
             ],
             [
              0.5555555555555556,
              "#d8576b"
             ],
             [
              0.6666666666666666,
              "#ed7953"
             ],
             [
              0.7777777777777778,
              "#fb9f3a"
             ],
             [
              0.8888888888888888,
              "#fdca26"
             ],
             [
              1,
              "#f0f921"
             ]
            ],
            "type": "histogram2dcontour"
           }
          ],
          "mesh3d": [
           {
            "colorbar": {
             "outlinewidth": 0,
             "ticks": ""
            },
            "type": "mesh3d"
           }
          ],
          "parcoords": [
           {
            "line": {
             "colorbar": {
              "outlinewidth": 0,
              "ticks": ""
             }
            },
            "type": "parcoords"
           }
          ],
          "pie": [
           {
            "automargin": true,
            "type": "pie"
           }
          ],
          "scatter": [
           {
            "marker": {
             "colorbar": {
              "outlinewidth": 0,
              "ticks": ""
             }
            },
            "type": "scatter"
           }
          ],
          "scatter3d": [
           {
            "line": {
             "colorbar": {
              "outlinewidth": 0,
              "ticks": ""
             }
            },
            "marker": {
             "colorbar": {
              "outlinewidth": 0,
              "ticks": ""
             }
            },
            "type": "scatter3d"
           }
          ],
          "scattercarpet": [
           {
            "marker": {
             "colorbar": {
              "outlinewidth": 0,
              "ticks": ""
             }
            },
            "type": "scattercarpet"
           }
          ],
          "scattergeo": [
           {
            "marker": {
             "colorbar": {
              "outlinewidth": 0,
              "ticks": ""
             }
            },
            "type": "scattergeo"
           }
          ],
          "scattergl": [
           {
            "marker": {
             "colorbar": {
              "outlinewidth": 0,
              "ticks": ""
             }
            },
            "type": "scattergl"
           }
          ],
          "scattermapbox": [
           {
            "marker": {
             "colorbar": {
              "outlinewidth": 0,
              "ticks": ""
             }
            },
            "type": "scattermapbox"
           }
          ],
          "scatterpolar": [
           {
            "marker": {
             "colorbar": {
              "outlinewidth": 0,
              "ticks": ""
             }
            },
            "type": "scatterpolar"
           }
          ],
          "scatterpolargl": [
           {
            "marker": {
             "colorbar": {
              "outlinewidth": 0,
              "ticks": ""
             }
            },
            "type": "scatterpolargl"
           }
          ],
          "scatterternary": [
           {
            "marker": {
             "colorbar": {
              "outlinewidth": 0,
              "ticks": ""
             }
            },
            "type": "scatterternary"
           }
          ],
          "surface": [
           {
            "colorbar": {
             "outlinewidth": 0,
             "ticks": ""
            },
            "colorscale": [
             [
              0,
              "#0d0887"
             ],
             [
              0.1111111111111111,
              "#46039f"
             ],
             [
              0.2222222222222222,
              "#7201a8"
             ],
             [
              0.3333333333333333,
              "#9c179e"
             ],
             [
              0.4444444444444444,
              "#bd3786"
             ],
             [
              0.5555555555555556,
              "#d8576b"
             ],
             [
              0.6666666666666666,
              "#ed7953"
             ],
             [
              0.7777777777777778,
              "#fb9f3a"
             ],
             [
              0.8888888888888888,
              "#fdca26"
             ],
             [
              1,
              "#f0f921"
             ]
            ],
            "type": "surface"
           }
          ],
          "table": [
           {
            "cells": {
             "fill": {
              "color": "#EBF0F8"
             },
             "line": {
              "color": "white"
             }
            },
            "header": {
             "fill": {
              "color": "#C8D4E3"
             },
             "line": {
              "color": "white"
             }
            },
            "type": "table"
           }
          ]
         },
         "layout": {
          "annotationdefaults": {
           "arrowcolor": "#2a3f5f",
           "arrowhead": 0,
           "arrowwidth": 1
          },
          "coloraxis": {
           "colorbar": {
            "outlinewidth": 0,
            "ticks": ""
           }
          },
          "colorscale": {
           "diverging": [
            [
             0,
             "#8e0152"
            ],
            [
             0.1,
             "#c51b7d"
            ],
            [
             0.2,
             "#de77ae"
            ],
            [
             0.3,
             "#f1b6da"
            ],
            [
             0.4,
             "#fde0ef"
            ],
            [
             0.5,
             "#f7f7f7"
            ],
            [
             0.6,
             "#e6f5d0"
            ],
            [
             0.7,
             "#b8e186"
            ],
            [
             0.8,
             "#7fbc41"
            ],
            [
             0.9,
             "#4d9221"
            ],
            [
             1,
             "#276419"
            ]
           ],
           "sequential": [
            [
             0,
             "#0d0887"
            ],
            [
             0.1111111111111111,
             "#46039f"
            ],
            [
             0.2222222222222222,
             "#7201a8"
            ],
            [
             0.3333333333333333,
             "#9c179e"
            ],
            [
             0.4444444444444444,
             "#bd3786"
            ],
            [
             0.5555555555555556,
             "#d8576b"
            ],
            [
             0.6666666666666666,
             "#ed7953"
            ],
            [
             0.7777777777777778,
             "#fb9f3a"
            ],
            [
             0.8888888888888888,
             "#fdca26"
            ],
            [
             1,
             "#f0f921"
            ]
           ],
           "sequentialminus": [
            [
             0,
             "#0d0887"
            ],
            [
             0.1111111111111111,
             "#46039f"
            ],
            [
             0.2222222222222222,
             "#7201a8"
            ],
            [
             0.3333333333333333,
             "#9c179e"
            ],
            [
             0.4444444444444444,
             "#bd3786"
            ],
            [
             0.5555555555555556,
             "#d8576b"
            ],
            [
             0.6666666666666666,
             "#ed7953"
            ],
            [
             0.7777777777777778,
             "#fb9f3a"
            ],
            [
             0.8888888888888888,
             "#fdca26"
            ],
            [
             1,
             "#f0f921"
            ]
           ]
          },
          "colorway": [
           "#636efa",
           "#EF553B",
           "#00cc96",
           "#ab63fa",
           "#FFA15A",
           "#19d3f3",
           "#FF6692",
           "#B6E880",
           "#FF97FF",
           "#FECB52"
          ],
          "font": {
           "color": "#2a3f5f"
          },
          "geo": {
           "bgcolor": "white",
           "lakecolor": "white",
           "landcolor": "#E5ECF6",
           "showlakes": true,
           "showland": true,
           "subunitcolor": "white"
          },
          "hoverlabel": {
           "align": "left"
          },
          "hovermode": "closest",
          "mapbox": {
           "style": "light"
          },
          "paper_bgcolor": "white",
          "plot_bgcolor": "#E5ECF6",
          "polar": {
           "angularaxis": {
            "gridcolor": "white",
            "linecolor": "white",
            "ticks": ""
           },
           "bgcolor": "#E5ECF6",
           "radialaxis": {
            "gridcolor": "white",
            "linecolor": "white",
            "ticks": ""
           }
          },
          "scene": {
           "xaxis": {
            "backgroundcolor": "#E5ECF6",
            "gridcolor": "white",
            "gridwidth": 2,
            "linecolor": "white",
            "showbackground": true,
            "ticks": "",
            "zerolinecolor": "white"
           },
           "yaxis": {
            "backgroundcolor": "#E5ECF6",
            "gridcolor": "white",
            "gridwidth": 2,
            "linecolor": "white",
            "showbackground": true,
            "ticks": "",
            "zerolinecolor": "white"
           },
           "zaxis": {
            "backgroundcolor": "#E5ECF6",
            "gridcolor": "white",
            "gridwidth": 2,
            "linecolor": "white",
            "showbackground": true,
            "ticks": "",
            "zerolinecolor": "white"
           }
          },
          "shapedefaults": {
           "line": {
            "color": "#2a3f5f"
           }
          },
          "ternary": {
           "aaxis": {
            "gridcolor": "white",
            "linecolor": "white",
            "ticks": ""
           },
           "baxis": {
            "gridcolor": "white",
            "linecolor": "white",
            "ticks": ""
           },
           "bgcolor": "#E5ECF6",
           "caxis": {
            "gridcolor": "white",
            "linecolor": "white",
            "ticks": ""
           }
          },
          "title": {
           "x": 0.05
          },
          "xaxis": {
           "automargin": true,
           "gridcolor": "white",
           "linecolor": "white",
           "ticks": "",
           "title": {
            "standoff": 15
           },
           "zerolinecolor": "white",
           "zerolinewidth": 2
          },
          "yaxis": {
           "automargin": true,
           "gridcolor": "white",
           "linecolor": "white",
           "ticks": "",
           "title": {
            "standoff": 15
           },
           "zerolinecolor": "white",
           "zerolinewidth": 2
          }
         }
        },
        "title": {
         "font": {
          "color": "#4D5663"
         }
        },
        "xaxis": {
         "gridcolor": "#E1E5ED",
         "showgrid": true,
         "tickfont": {
          "color": "#4D5663"
         },
         "title": {
          "font": {
           "color": "#4D5663"
          },
          "text": ""
         },
         "zerolinecolor": "#E1E5ED"
        },
        "xaxis2": {
         "anchor": "y2",
         "gridcolor": "#E1E5ED",
         "showgrid": true,
         "showticklabels": false,
         "tickfont": {
          "color": "#4D5663"
         },
         "title": {
          "font": {
           "color": "#4D5663"
          },
          "text": ""
         },
         "zerolinecolor": "#E1E5ED"
        },
        "yaxis": {
         "domain": [
          0.3,
          1
         ],
         "gridcolor": "#E1E5ED",
         "showgrid": true,
         "tickfont": {
          "color": "#4D5663"
         },
         "title": {
          "font": {
           "color": "#4D5663"
          },
          "text": ""
         },
         "zerolinecolor": "#E1E5ED"
        },
        "yaxis2": {
         "domain": [
          0,
          0.25
         ],
         "gridcolor": "#E1E5ED",
         "showgrid": true,
         "tickfont": {
          "color": "#4D5663"
         },
         "title": {
          "font": {
           "color": "#4D5663"
          },
          "text": "Spread"
         },
         "zerolinecolor": "#E1E5ED"
        }
       }
      },
      "text/html": [
       "<div>\n",
       "        \n",
       "        \n",
       "            <div id=\"f22de08d-2eac-432c-bc62-6fb261463339\" class=\"plotly-graph-div\" style=\"height:525px; width:100%;\"></div>\n",
       "            <script type=\"text/javascript\">\n",
       "                require([\"plotly\"], function(Plotly) {\n",
       "                    window.PLOTLYENV=window.PLOTLYENV || {};\n",
       "                    window.PLOTLYENV.BASE_URL='https://plot.ly';\n",
       "                    \n",
       "                if (document.getElementById(\"f22de08d-2eac-432c-bc62-6fb261463339\")) {\n",
       "                    Plotly.newPlot(\n",
       "                        'f22de08d-2eac-432c-bc62-6fb261463339',\n",
       "                        [{\"line\": {\"color\": \"rgba(255, 153, 51, 1.0)\", \"dash\": \"solid\", \"shape\": \"linear\", \"width\": 1.3}, \"mode\": \"lines\", \"name\": \"A\", \"text\": \"\", \"type\": \"scatter\", \"x\": [0, 1, 2, 3, 4, 5, 6, 7, 8, 9, 10, 11, 12, 13, 14, 15, 16, 17, 18, 19, 20, 21, 22, 23, 24, 25, 26, 27, 28, 29, 30, 31, 32, 33, 34, 35, 36, 37, 38, 39, 40, 41, 42, 43, 44, 45, 46, 47, 48, 49, 50, 51, 52, 53, 54, 55, 56, 57, 58, 59, 60, 61, 62, 63, 64, 65, 66, 67, 68, 69, 70, 71, 72, 73, 74, 75, 76, 77, 78, 79, 80, 81, 82, 83, 84, 85, 86, 87, 88, 89, 90, 91, 92, 93, 94, 95, 96, 97, 98, 99], \"y\": [0.3464195938218623, 1.2191331189779477, -1.566198556307964, 0.46573085450095364, -0.15261785777811135, -0.8028457730946738, -1.2939789962191617, -0.6418087219226248, 1.9109107394573086, -0.7984950981964833, 0.37572064407586353, 0.10804546809227975, -0.2955939166246089, 0.6668013724677774, 1.606777904150411, 0.18473563502452545, -0.21514032491554505, -0.2776151300214792, 0.8398510702601665, -0.17787273295740644, 1.8394677466697062, -0.6830318073232281, 1.1910043748570203, -0.06296070100823661, 0.3893011193237392, -0.5418276224573682, 0.1456421026340764, 1.3478116660010542, 1.3398140902363653, 0.17909770396651062, -0.7347774212014662, -0.664509282045416, 1.9958932346583351, 0.06464239428800038, -0.17331233101528445, -1.5199911226136043, -0.011764777467682862, -0.22961655060029354, 0.8344144539000332, -0.6252542380202118, -0.35722719110995915, 1.4681106315488035, -0.972833984774363, -1.3185876357784978, 0.8369173852064116, -0.7203822787149038, 0.5391211086088187, 0.40930127362148827, 1.3305953798884078, 0.7875773751444973, 0.24411739461868534, -0.08843505642188325, 0.268342155604911, 0.053365885727759556, -0.027406353957162198, -0.542478529849032, 0.6176151365107044, -0.18176398391036097, -0.2045336720258062, 0.32644055801113225, 0.5569115331629004, 0.4709120552818683, -0.5511771984791615, 0.38672288804052146, 0.49369878628381486, 0.8742747551276879, -0.7728036843643227, -0.5316316557408409, -0.019359629269128015, -0.43540839748513804, 2.193864246093326, 0.7071061333240987, -0.6738965948167931, 2.3946971136177124, 1.2529062193552296, 1.0214426121109126, -0.18054114299205762, -1.848921966805281, 1.3846982722939123, 0.37389409884423136, -0.5518891745455325, -0.812964815588062, -0.1445860029165156, 0.5976439474074358, -0.031143888839414168, 1.288640608161686, -1.3760544674922424, 0.9963133082520479, 0.9751556082817852, -0.07231954115489966, -0.36525133427411105, 0.8539810900777741, -0.5593653152080624, 1.6784765782994218, 1.49764233252627, -0.8623001565375716, -0.7415847178841932, 1.1902930047966387, 0.5729387527499807, -0.2143483560074946]}, {\"line\": {\"color\": \"rgba(55, 128, 191, 1.0)\", \"dash\": \"solid\", \"shape\": \"linear\", \"width\": 1.3}, \"mode\": \"lines\", \"name\": \"B\", \"text\": \"\", \"type\": \"scatter\", \"x\": [0, 1, 2, 3, 4, 5, 6, 7, 8, 9, 10, 11, 12, 13, 14, 15, 16, 17, 18, 19, 20, 21, 22, 23, 24, 25, 26, 27, 28, 29, 30, 31, 32, 33, 34, 35, 36, 37, 38, 39, 40, 41, 42, 43, 44, 45, 46, 47, 48, 49, 50, 51, 52, 53, 54, 55, 56, 57, 58, 59, 60, 61, 62, 63, 64, 65, 66, 67, 68, 69, 70, 71, 72, 73, 74, 75, 76, 77, 78, 79, 80, 81, 82, 83, 84, 85, 86, 87, 88, 89, 90, 91, 92, 93, 94, 95, 96, 97, 98, 99], \"y\": [-0.020590181209793654, 0.5423503125602855, -0.8787354341663304, -0.4895306549248174, -0.48541537247821465, -1.1581842623847438, -0.2769367387336216, 0.03311436155705231, 1.6024816506045834, 1.0831480858882039, -1.0072890793929596, 1.6632133708190122, -0.10794673509633486, 0.45432131136859577, -0.22565078146614284, 0.45507286942503267, 0.17974586396275005, -2.0175017586254036, 1.2707085867867112, 0.8107153806972188, 1.3683894902998583, 0.6721722990716655, -1.3053183578006817, 0.5690108539109617, 1.0528361089049871, -0.9946211425344996, 0.13209780322860354, 0.5975237600550157, -0.3990103367235594, 0.8544023703785645, -0.3652754198522442, -0.9394329209739792, -1.8247763232964613, 1.387400472070589, -0.6172006358456033, 0.28514310772208395, -0.9194137609477232, -1.0945907934466066, -0.01812635633048244, -0.42870107832880905, -0.14583236585484136, -1.9112885076025667, -0.6064194759449073, -0.5831693992001507, -0.9885022195286823, -1.319588708902828, 0.16146923595796253, -0.28246046695644217, -0.7714040710560138, 0.5847383075181828, 0.19107611317750492, -0.6526040938222579, 0.5699402612438804, -0.9911031656265455, 1.6493934330272855, 1.9039049563987207, 1.218355914745771, -0.494984884549906, 0.11678360950276127, -1.2146187590914483, -1.1476654603988559, -0.6451013537990224, -0.9089642937379179, -0.3107932934346349, 0.1431930390443773, 0.49590287215018686, 0.4685352804531265, 0.10806855993380053, 0.986890513730406, 0.7865424288418571, -1.2351640606494476, -2.02351966824216, -1.370146862511068, -1.3253039883938387, -1.184340482150768, -0.5064055507257907, -3.1134408477432705, -1.3748114148134778, 0.9623455167657223, 0.15572759045814794, 0.019438510421546488, -0.756212056642985, 1.0393078996740457, 1.283603086621441, 0.013246115306398687, 0.07988076305174152, 1.7490019784053388, -0.9381427033010681, -0.7346416378276212, 1.6403942432066971, -0.3292907770726725, 0.6890521545829256, -1.1228315951030374, -0.25605505749699964, -0.16944549777624168, 1.46716671061314, -0.18662380589638208, -1.7553469955013234, -0.1186070548456802, 1.3868762776821497]}, {\"connectgaps\": false, \"fill\": \"tozeroy\", \"line\": {\"color\": \"green\", \"dash\": \"solid\", \"shape\": \"linear\", \"width\": 0.5}, \"mode\": \"lines\", \"name\": \"Spread\", \"showlegend\": false, \"type\": \"scatter\", \"x\": [0, 1, 2, 3, 4, 5, 6, 7, 8, 9, 10, 11, 12, 13, 14, 15, 16, 17, 18, 19, 20, 21, 22, 23, 24, 25, 26, 27, 28, 29, 30, 31, 32, 33, 34, 35, 36, 37, 38, 39, 40, 41, 42, 43, 44, 45, 46, 47, 48, 49, 50, 51, 52, 53, 54, 55, 56, 57, 58, 59, 60, 61, 62, 63, 64, 65, 66, 67, 68, 69, 70, 71, 72, 73, 74, 75, 76, 77, 78, 79, 80, 81, 82, 83, 84, 85, 86, 87, 88, 89, 90, 91, 92, 93, 94, 95, 96, 97, 98, 99], \"xaxis\": \"x2\", \"y\": [0.367009775031656, 0.6767828064176622, \"\", 0.955261509425771, 0.3327975147001033, 0.35533848929007006, \"\", \"\", 0.30842908885272524, \"\", 1.3830097234688232, \"\", \"\", 0.2124800610991816, 1.832428685616554, \"\", \"\", 1.7398866286039243, \"\", \"\", 0.4710782563698479, \"\", 2.4963227326577018, \"\", \"\", 0.4527935200771315, 0.01354429940547286, 0.7502879059460384, 1.7388244269599247, \"\", \"\", 0.2749236389285632, 3.8206695579547967, \"\", 0.4438883048303188, \"\", 0.9076489834800403, 0.8649742428463131, 0.8525408102305156, \"\", \"\", 3.3793991391513702, \"\", \"\", 1.825419604735094, 0.5992064301879242, 0.37765187265085615, 0.6917617405779304, 2.1019994509444215, 0.20283906762631454, 0.05304128144118042, 0.5641690374003747, \"\", 1.0444690513543051, \"\", \"\", \"\", 0.31322090063954505, \"\", 1.5410593171025806, 1.7045769935617563, 1.1160134090808906, 0.3577870952587564, 0.6975161814751564, 0.35050574723943756, 0.3783718829775011, \"\", \"\", \"\", \"\", 3.429028306742774, 2.7306258015662586, 0.6962502676942749, 3.720001102011551, 2.4372467015059973, 1.5278481628367033, 2.932899704751213, \"\", 0.42235275552818996, 0.21816650838608342, \"\", \"\", \"\", \"\", \"\", 1.2087598451099444, \"\", 1.934456011553116, 1.7097972461094062, \"\", \"\", 0.16492893549484855, 0.563466279894975, 1.9345316357964215, 1.6670878303025116, \"\", \"\", 2.945640000297962, 0.691545807595661, \"\"], \"yaxis\": \"y2\"}, {\"connectgaps\": false, \"fill\": \"tozeroy\", \"line\": {\"color\": \"red\", \"dash\": \"solid\", \"shape\": \"linear\", \"width\": 0.5}, \"mode\": \"lines\", \"name\": \"Spread\", \"showlegend\": false, \"type\": \"scatter\", \"x\": [0, 1, 2, 3, 4, 5, 6, 7, 8, 9, 10, 11, 12, 13, 14, 15, 16, 17, 18, 19, 20, 21, 22, 23, 24, 25, 26, 27, 28, 29, 30, 31, 32, 33, 34, 35, 36, 37, 38, 39, 40, 41, 42, 43, 44, 45, 46, 47, 48, 49, 50, 51, 52, 53, 54, 55, 56, 57, 58, 59, 60, 61, 62, 63, 64, 65, 66, 67, 68, 69, 70, 71, 72, 73, 74, 75, 76, 77, 78, 79, 80, 81, 82, 83, 84, 85, 86, 87, 88, 89, 90, 91, 92, 93, 94, 95, 96, 97, 98, 99], \"xaxis\": \"x2\", \"y\": [\"\", \"\", -0.6874631221416335, \"\", \"\", \"\", -1.01704225748554, -0.6749230834796771, \"\", -1.8816431840846872, \"\", -1.5551679027267324, -0.18764718152827403, \"\", \"\", -0.2703372344005072, -0.3948861888782951, \"\", -0.4308575165265447, -0.9885881136546253, \"\", -1.3552041063948936, \"\", -0.6319715549191983, -0.6635349895812479, \"\", \"\", \"\", \"\", -0.6753046664120539, -0.36950200134922195, \"\", \"\", -1.3227580777825887, \"\", -1.805134230335688, \"\", \"\", \"\", -0.1965531596914028, -0.2113948252551178, \"\", -0.3664145088294557, -0.7354182365783472, \"\", \"\", \"\", \"\", \"\", \"\", \"\", \"\", -0.30159810563896944, \"\", -1.6767997869844478, -2.4463834862477527, -0.6007407782350666, \"\", -0.3213172815285675, \"\", \"\", \"\", \"\", \"\", \"\", \"\", -1.241338964817449, -0.6397002156746414, -1.006250142999534, -1.2219508263269951, \"\", \"\", \"\", \"\", \"\", \"\", \"\", -0.4741105519918032, \"\", \"\", -0.5713276849670791, -0.05675275894507703, -1.1838939025905613, -0.6859591392140052, -0.04439000414581286, \"\", -3.125056445897581, \"\", \"\", -1.7127137843615967, -0.03596055720143854, \"\", \"\", \"\", \"\", -2.3294668671507117, -0.5549609119878112, \"\", \"\", -1.6012246336896443], \"yaxis\": \"y2\"}],\n",
       "                        {\"hovermode\": \"x\", \"legend\": {\"bgcolor\": \"#F5F6F9\", \"font\": {\"color\": \"#4D5663\"}}, \"paper_bgcolor\": \"#F5F6F9\", \"plot_bgcolor\": \"#F5F6F9\", \"template\": {\"data\": {\"bar\": [{\"error_x\": {\"color\": \"#2a3f5f\"}, \"error_y\": {\"color\": \"#2a3f5f\"}, \"marker\": {\"line\": {\"color\": \"#E5ECF6\", \"width\": 0.5}}, \"type\": \"bar\"}], \"barpolar\": [{\"marker\": {\"line\": {\"color\": \"#E5ECF6\", \"width\": 0.5}}, \"type\": \"barpolar\"}], \"carpet\": [{\"aaxis\": {\"endlinecolor\": \"#2a3f5f\", \"gridcolor\": \"white\", \"linecolor\": \"white\", \"minorgridcolor\": \"white\", \"startlinecolor\": \"#2a3f5f\"}, \"baxis\": {\"endlinecolor\": \"#2a3f5f\", \"gridcolor\": \"white\", \"linecolor\": \"white\", \"minorgridcolor\": \"white\", \"startlinecolor\": \"#2a3f5f\"}, \"type\": \"carpet\"}], \"choropleth\": [{\"colorbar\": {\"outlinewidth\": 0, \"ticks\": \"\"}, \"type\": \"choropleth\"}], \"contour\": [{\"colorbar\": {\"outlinewidth\": 0, \"ticks\": \"\"}, \"colorscale\": [[0.0, \"#0d0887\"], [0.1111111111111111, \"#46039f\"], [0.2222222222222222, \"#7201a8\"], [0.3333333333333333, \"#9c179e\"], [0.4444444444444444, \"#bd3786\"], [0.5555555555555556, \"#d8576b\"], [0.6666666666666666, \"#ed7953\"], [0.7777777777777778, \"#fb9f3a\"], [0.8888888888888888, \"#fdca26\"], [1.0, \"#f0f921\"]], \"type\": \"contour\"}], \"contourcarpet\": [{\"colorbar\": {\"outlinewidth\": 0, \"ticks\": \"\"}, \"type\": \"contourcarpet\"}], \"heatmap\": [{\"colorbar\": {\"outlinewidth\": 0, \"ticks\": \"\"}, \"colorscale\": [[0.0, \"#0d0887\"], [0.1111111111111111, \"#46039f\"], [0.2222222222222222, \"#7201a8\"], [0.3333333333333333, \"#9c179e\"], [0.4444444444444444, \"#bd3786\"], [0.5555555555555556, \"#d8576b\"], [0.6666666666666666, \"#ed7953\"], [0.7777777777777778, \"#fb9f3a\"], [0.8888888888888888, \"#fdca26\"], [1.0, \"#f0f921\"]], \"type\": \"heatmap\"}], \"heatmapgl\": [{\"colorbar\": {\"outlinewidth\": 0, \"ticks\": \"\"}, \"colorscale\": [[0.0, \"#0d0887\"], [0.1111111111111111, \"#46039f\"], [0.2222222222222222, \"#7201a8\"], [0.3333333333333333, \"#9c179e\"], [0.4444444444444444, \"#bd3786\"], [0.5555555555555556, \"#d8576b\"], [0.6666666666666666, \"#ed7953\"], [0.7777777777777778, \"#fb9f3a\"], [0.8888888888888888, \"#fdca26\"], [1.0, \"#f0f921\"]], \"type\": \"heatmapgl\"}], \"histogram\": [{\"marker\": {\"colorbar\": {\"outlinewidth\": 0, \"ticks\": \"\"}}, \"type\": \"histogram\"}], \"histogram2d\": [{\"colorbar\": {\"outlinewidth\": 0, \"ticks\": \"\"}, \"colorscale\": [[0.0, \"#0d0887\"], [0.1111111111111111, \"#46039f\"], [0.2222222222222222, \"#7201a8\"], [0.3333333333333333, \"#9c179e\"], [0.4444444444444444, \"#bd3786\"], [0.5555555555555556, \"#d8576b\"], [0.6666666666666666, \"#ed7953\"], [0.7777777777777778, \"#fb9f3a\"], [0.8888888888888888, \"#fdca26\"], [1.0, \"#f0f921\"]], \"type\": \"histogram2d\"}], \"histogram2dcontour\": [{\"colorbar\": {\"outlinewidth\": 0, \"ticks\": \"\"}, \"colorscale\": [[0.0, \"#0d0887\"], [0.1111111111111111, \"#46039f\"], [0.2222222222222222, \"#7201a8\"], [0.3333333333333333, \"#9c179e\"], [0.4444444444444444, \"#bd3786\"], [0.5555555555555556, \"#d8576b\"], [0.6666666666666666, \"#ed7953\"], [0.7777777777777778, \"#fb9f3a\"], [0.8888888888888888, \"#fdca26\"], [1.0, \"#f0f921\"]], \"type\": \"histogram2dcontour\"}], \"mesh3d\": [{\"colorbar\": {\"outlinewidth\": 0, \"ticks\": \"\"}, \"type\": \"mesh3d\"}], \"parcoords\": [{\"line\": {\"colorbar\": {\"outlinewidth\": 0, \"ticks\": \"\"}}, \"type\": \"parcoords\"}], \"pie\": [{\"automargin\": true, \"type\": \"pie\"}], \"scatter\": [{\"marker\": {\"colorbar\": {\"outlinewidth\": 0, \"ticks\": \"\"}}, \"type\": \"scatter\"}], \"scatter3d\": [{\"line\": {\"colorbar\": {\"outlinewidth\": 0, \"ticks\": \"\"}}, \"marker\": {\"colorbar\": {\"outlinewidth\": 0, \"ticks\": \"\"}}, \"type\": \"scatter3d\"}], \"scattercarpet\": [{\"marker\": {\"colorbar\": {\"outlinewidth\": 0, \"ticks\": \"\"}}, \"type\": \"scattercarpet\"}], \"scattergeo\": [{\"marker\": {\"colorbar\": {\"outlinewidth\": 0, \"ticks\": \"\"}}, \"type\": \"scattergeo\"}], \"scattergl\": [{\"marker\": {\"colorbar\": {\"outlinewidth\": 0, \"ticks\": \"\"}}, \"type\": \"scattergl\"}], \"scattermapbox\": [{\"marker\": {\"colorbar\": {\"outlinewidth\": 0, \"ticks\": \"\"}}, \"type\": \"scattermapbox\"}], \"scatterpolar\": [{\"marker\": {\"colorbar\": {\"outlinewidth\": 0, \"ticks\": \"\"}}, \"type\": \"scatterpolar\"}], \"scatterpolargl\": [{\"marker\": {\"colorbar\": {\"outlinewidth\": 0, \"ticks\": \"\"}}, \"type\": \"scatterpolargl\"}], \"scatterternary\": [{\"marker\": {\"colorbar\": {\"outlinewidth\": 0, \"ticks\": \"\"}}, \"type\": \"scatterternary\"}], \"surface\": [{\"colorbar\": {\"outlinewidth\": 0, \"ticks\": \"\"}, \"colorscale\": [[0.0, \"#0d0887\"], [0.1111111111111111, \"#46039f\"], [0.2222222222222222, \"#7201a8\"], [0.3333333333333333, \"#9c179e\"], [0.4444444444444444, \"#bd3786\"], [0.5555555555555556, \"#d8576b\"], [0.6666666666666666, \"#ed7953\"], [0.7777777777777778, \"#fb9f3a\"], [0.8888888888888888, \"#fdca26\"], [1.0, \"#f0f921\"]], \"type\": \"surface\"}], \"table\": [{\"cells\": {\"fill\": {\"color\": \"#EBF0F8\"}, \"line\": {\"color\": \"white\"}}, \"header\": {\"fill\": {\"color\": \"#C8D4E3\"}, \"line\": {\"color\": \"white\"}}, \"type\": \"table\"}]}, \"layout\": {\"annotationdefaults\": {\"arrowcolor\": \"#2a3f5f\", \"arrowhead\": 0, \"arrowwidth\": 1}, \"coloraxis\": {\"colorbar\": {\"outlinewidth\": 0, \"ticks\": \"\"}}, \"colorscale\": {\"diverging\": [[0, \"#8e0152\"], [0.1, \"#c51b7d\"], [0.2, \"#de77ae\"], [0.3, \"#f1b6da\"], [0.4, \"#fde0ef\"], [0.5, \"#f7f7f7\"], [0.6, \"#e6f5d0\"], [0.7, \"#b8e186\"], [0.8, \"#7fbc41\"], [0.9, \"#4d9221\"], [1, \"#276419\"]], \"sequential\": [[0.0, \"#0d0887\"], [0.1111111111111111, \"#46039f\"], [0.2222222222222222, \"#7201a8\"], [0.3333333333333333, \"#9c179e\"], [0.4444444444444444, \"#bd3786\"], [0.5555555555555556, \"#d8576b\"], [0.6666666666666666, \"#ed7953\"], [0.7777777777777778, \"#fb9f3a\"], [0.8888888888888888, \"#fdca26\"], [1.0, \"#f0f921\"]], \"sequentialminus\": [[0.0, \"#0d0887\"], [0.1111111111111111, \"#46039f\"], [0.2222222222222222, \"#7201a8\"], [0.3333333333333333, \"#9c179e\"], [0.4444444444444444, \"#bd3786\"], [0.5555555555555556, \"#d8576b\"], [0.6666666666666666, \"#ed7953\"], [0.7777777777777778, \"#fb9f3a\"], [0.8888888888888888, \"#fdca26\"], [1.0, \"#f0f921\"]]}, \"colorway\": [\"#636efa\", \"#EF553B\", \"#00cc96\", \"#ab63fa\", \"#FFA15A\", \"#19d3f3\", \"#FF6692\", \"#B6E880\", \"#FF97FF\", \"#FECB52\"], \"font\": {\"color\": \"#2a3f5f\"}, \"geo\": {\"bgcolor\": \"white\", \"lakecolor\": \"white\", \"landcolor\": \"#E5ECF6\", \"showlakes\": true, \"showland\": true, \"subunitcolor\": \"white\"}, \"hoverlabel\": {\"align\": \"left\"}, \"hovermode\": \"closest\", \"mapbox\": {\"style\": \"light\"}, \"paper_bgcolor\": \"white\", \"plot_bgcolor\": \"#E5ECF6\", \"polar\": {\"angularaxis\": {\"gridcolor\": \"white\", \"linecolor\": \"white\", \"ticks\": \"\"}, \"bgcolor\": \"#E5ECF6\", \"radialaxis\": {\"gridcolor\": \"white\", \"linecolor\": \"white\", \"ticks\": \"\"}}, \"scene\": {\"xaxis\": {\"backgroundcolor\": \"#E5ECF6\", \"gridcolor\": \"white\", \"gridwidth\": 2, \"linecolor\": \"white\", \"showbackground\": true, \"ticks\": \"\", \"zerolinecolor\": \"white\"}, \"yaxis\": {\"backgroundcolor\": \"#E5ECF6\", \"gridcolor\": \"white\", \"gridwidth\": 2, \"linecolor\": \"white\", \"showbackground\": true, \"ticks\": \"\", \"zerolinecolor\": \"white\"}, \"zaxis\": {\"backgroundcolor\": \"#E5ECF6\", \"gridcolor\": \"white\", \"gridwidth\": 2, \"linecolor\": \"white\", \"showbackground\": true, \"ticks\": \"\", \"zerolinecolor\": \"white\"}}, \"shapedefaults\": {\"line\": {\"color\": \"#2a3f5f\"}}, \"ternary\": {\"aaxis\": {\"gridcolor\": \"white\", \"linecolor\": \"white\", \"ticks\": \"\"}, \"baxis\": {\"gridcolor\": \"white\", \"linecolor\": \"white\", \"ticks\": \"\"}, \"bgcolor\": \"#E5ECF6\", \"caxis\": {\"gridcolor\": \"white\", \"linecolor\": \"white\", \"ticks\": \"\"}}, \"title\": {\"x\": 0.05}, \"xaxis\": {\"automargin\": true, \"gridcolor\": \"white\", \"linecolor\": \"white\", \"ticks\": \"\", \"title\": {\"standoff\": 15}, \"zerolinecolor\": \"white\", \"zerolinewidth\": 2}, \"yaxis\": {\"automargin\": true, \"gridcolor\": \"white\", \"linecolor\": \"white\", \"ticks\": \"\", \"title\": {\"standoff\": 15}, \"zerolinecolor\": \"white\", \"zerolinewidth\": 2}}}, \"title\": {\"font\": {\"color\": \"#4D5663\"}}, \"xaxis\": {\"gridcolor\": \"#E1E5ED\", \"showgrid\": true, \"tickfont\": {\"color\": \"#4D5663\"}, \"title\": {\"font\": {\"color\": \"#4D5663\"}, \"text\": \"\"}, \"zerolinecolor\": \"#E1E5ED\"}, \"xaxis2\": {\"anchor\": \"y2\", \"gridcolor\": \"#E1E5ED\", \"showgrid\": true, \"showticklabels\": false, \"tickfont\": {\"color\": \"#4D5663\"}, \"title\": {\"font\": {\"color\": \"#4D5663\"}, \"text\": \"\"}, \"zerolinecolor\": \"#E1E5ED\"}, \"yaxis\": {\"domain\": [0.3, 1], \"gridcolor\": \"#E1E5ED\", \"showgrid\": true, \"tickfont\": {\"color\": \"#4D5663\"}, \"title\": {\"font\": {\"color\": \"#4D5663\"}, \"text\": \"\"}, \"zerolinecolor\": \"#E1E5ED\"}, \"yaxis2\": {\"domain\": [0, 0.25], \"gridcolor\": \"#E1E5ED\", \"showgrid\": true, \"tickfont\": {\"color\": \"#4D5663\"}, \"title\": {\"font\": {\"color\": \"#4D5663\"}, \"text\": \"Spread\"}, \"zerolinecolor\": \"#E1E5ED\"}},\n",
       "                        {\"showLink\": true, \"linkText\": \"Export to plot.ly\", \"plotlyServerURL\": \"https://plot.ly\", \"responsive\": true}\n",
       "                    ).then(function(){\n",
       "                            \n",
       "var gd = document.getElementById('f22de08d-2eac-432c-bc62-6fb261463339');\n",
       "var x = new MutationObserver(function (mutations, observer) {{\n",
       "        var display = window.getComputedStyle(gd).display;\n",
       "        if (!display || display === 'none') {{\n",
       "            console.log([gd, 'removed!']);\n",
       "            Plotly.purge(gd);\n",
       "            observer.disconnect();\n",
       "        }}\n",
       "}});\n",
       "\n",
       "// Listen for the removal of the full notebook cells\n",
       "var notebookContainer = gd.closest('#notebook-container');\n",
       "if (notebookContainer) {{\n",
       "    x.observe(notebookContainer, {childList: true});\n",
       "}}\n",
       "\n",
       "// Listen for the clearing of the current output cell\n",
       "var outputEl = gd.closest('.output');\n",
       "if (outputEl) {{\n",
       "    x.observe(outputEl, {childList: true});\n",
       "}}\n",
       "\n",
       "                        })\n",
       "                };\n",
       "                });\n",
       "            </script>\n",
       "        </div>"
      ]
     },
     "metadata": {},
     "output_type": "display_data"
    }
   ],
   "source": [
    "df[['A','B']].iplot(kind='spread')"
   ]
  },
  {
   "cell_type": "code",
   "execution_count": 43,
   "metadata": {},
   "outputs": [
    {
     "data": {
      "application/vnd.plotly.v1+json": {
       "config": {
        "linkText": "Export to plot.ly",
        "plotlyServerURL": "https://plot.ly",
        "showLink": true
       },
       "data": [
        {
         "marker": {
          "color": [
           "rgb(255, 153, 51)",
           "rgb(55, 128, 191)",
           "rgb(50, 171, 96)",
           "rgb(128, 0, 128)",
           "rgb(219, 64, 82)",
           "rgb(0, 128, 128)",
           "rgb(255, 255, 51)",
           "rgb(128, 128, 0)",
           "rgb(251, 128, 114)",
           "rgb(128, 177, 211)"
          ],
          "line": {
           "width": 1.3
          },
          "size": [
           54,
           58,
           61,
           79,
           59,
           26,
           71,
           80,
           34,
           65,
           44,
           21,
           91,
           43,
           21,
           24,
           47,
           83,
           12,
           60,
           59,
           75,
           90,
           60,
           61,
           38,
           75,
           72,
           43,
           59,
           19,
           53,
           61,
           51,
           22,
           50,
           25,
           51,
           22,
           68,
           42,
           61,
           46,
           49,
           38,
           65,
           37,
           36,
           51,
           19,
           60,
           27,
           31,
           27,
           73,
           68,
           59,
           60,
           65,
           50,
           35,
           46,
           31,
           57,
           66,
           57,
           67,
           54,
           31,
           38,
           69,
           64,
           61,
           27,
           50,
           37,
           18,
           34,
           45,
           28,
           47,
           54,
           31,
           69,
           112,
           45,
           62,
           60,
           66,
           81,
           43,
           51,
           38,
           53,
           54,
           44,
           40,
           33,
           26,
           69
          ],
          "symbol": "circle"
         },
         "mode": "markers",
         "text": "",
         "type": "scatter",
         "x": [
          0.3464195938218623,
          1.2191331189779477,
          -1.566198556307964,
          0.46573085450095364,
          -0.15261785777811135,
          -0.8028457730946738,
          -1.2939789962191617,
          -0.6418087219226248,
          1.9109107394573086,
          -0.7984950981964833,
          0.37572064407586353,
          0.10804546809227975,
          -0.2955939166246089,
          0.6668013724677774,
          1.606777904150411,
          0.18473563502452545,
          -0.21514032491554505,
          -0.2776151300214792,
          0.8398510702601665,
          -0.17787273295740644,
          1.8394677466697062,
          -0.6830318073232281,
          1.1910043748570203,
          -0.06296070100823661,
          0.3893011193237392,
          -0.5418276224573682,
          0.1456421026340764,
          1.3478116660010542,
          1.3398140902363653,
          0.17909770396651062,
          -0.7347774212014662,
          -0.664509282045416,
          1.9958932346583351,
          0.06464239428800038,
          -0.17331233101528445,
          -1.5199911226136043,
          -0.011764777467682862,
          -0.22961655060029354,
          0.8344144539000332,
          -0.6252542380202118,
          -0.35722719110995915,
          1.4681106315488035,
          -0.972833984774363,
          -1.3185876357784978,
          0.8369173852064116,
          -0.7203822787149038,
          0.5391211086088187,
          0.40930127362148827,
          1.3305953798884078,
          0.7875773751444973,
          0.24411739461868534,
          -0.08843505642188325,
          0.268342155604911,
          0.053365885727759556,
          -0.027406353957162198,
          -0.542478529849032,
          0.6176151365107044,
          -0.18176398391036097,
          -0.2045336720258062,
          0.32644055801113225,
          0.5569115331629004,
          0.4709120552818683,
          -0.5511771984791615,
          0.38672288804052146,
          0.49369878628381486,
          0.8742747551276879,
          -0.7728036843643227,
          -0.5316316557408409,
          -0.019359629269128015,
          -0.43540839748513804,
          2.193864246093326,
          0.7071061333240987,
          -0.6738965948167931,
          2.3946971136177124,
          1.2529062193552296,
          1.0214426121109126,
          -0.18054114299205762,
          -1.848921966805281,
          1.3846982722939123,
          0.37389409884423136,
          -0.5518891745455325,
          -0.812964815588062,
          -0.1445860029165156,
          0.5976439474074358,
          -0.031143888839414168,
          1.288640608161686,
          -1.3760544674922424,
          0.9963133082520479,
          0.9751556082817852,
          -0.07231954115489966,
          -0.36525133427411105,
          0.8539810900777741,
          -0.5593653152080624,
          1.6784765782994218,
          1.49764233252627,
          -0.8623001565375716,
          -0.7415847178841932,
          1.1902930047966387,
          0.5729387527499807,
          -0.2143483560074946
         ],
         "y": [
          -0.020590181209793654,
          0.5423503125602855,
          -0.8787354341663304,
          -0.4895306549248174,
          -0.48541537247821465,
          -1.1581842623847438,
          -0.2769367387336216,
          0.03311436155705231,
          1.6024816506045834,
          1.0831480858882039,
          -1.0072890793929596,
          1.6632133708190122,
          -0.10794673509633486,
          0.45432131136859577,
          -0.22565078146614284,
          0.45507286942503267,
          0.17974586396275005,
          -2.0175017586254036,
          1.2707085867867112,
          0.8107153806972188,
          1.3683894902998583,
          0.6721722990716655,
          -1.3053183578006817,
          0.5690108539109617,
          1.0528361089049871,
          -0.9946211425344996,
          0.13209780322860354,
          0.5975237600550157,
          -0.3990103367235594,
          0.8544023703785645,
          -0.3652754198522442,
          -0.9394329209739792,
          -1.8247763232964613,
          1.387400472070589,
          -0.6172006358456033,
          0.28514310772208395,
          -0.9194137609477232,
          -1.0945907934466066,
          -0.01812635633048244,
          -0.42870107832880905,
          -0.14583236585484136,
          -1.9112885076025667,
          -0.6064194759449073,
          -0.5831693992001507,
          -0.9885022195286823,
          -1.319588708902828,
          0.16146923595796253,
          -0.28246046695644217,
          -0.7714040710560138,
          0.5847383075181828,
          0.19107611317750492,
          -0.6526040938222579,
          0.5699402612438804,
          -0.9911031656265455,
          1.6493934330272855,
          1.9039049563987207,
          1.218355914745771,
          -0.494984884549906,
          0.11678360950276127,
          -1.2146187590914483,
          -1.1476654603988559,
          -0.6451013537990224,
          -0.9089642937379179,
          -0.3107932934346349,
          0.1431930390443773,
          0.49590287215018686,
          0.4685352804531265,
          0.10806855993380053,
          0.986890513730406,
          0.7865424288418571,
          -1.2351640606494476,
          -2.02351966824216,
          -1.370146862511068,
          -1.3253039883938387,
          -1.184340482150768,
          -0.5064055507257907,
          -3.1134408477432705,
          -1.3748114148134778,
          0.9623455167657223,
          0.15572759045814794,
          0.019438510421546488,
          -0.756212056642985,
          1.0393078996740457,
          1.283603086621441,
          0.013246115306398687,
          0.07988076305174152,
          1.7490019784053388,
          -0.9381427033010681,
          -0.7346416378276212,
          1.6403942432066971,
          -0.3292907770726725,
          0.6890521545829256,
          -1.1228315951030374,
          -0.25605505749699964,
          -0.16944549777624168,
          1.46716671061314,
          -0.18662380589638208,
          -1.7553469955013234,
          -0.1186070548456802,
          1.3868762776821497
         ]
        }
       ],
       "layout": {
        "legend": {
         "bgcolor": "#F5F6F9",
         "font": {
          "color": "#4D5663"
         }
        },
        "paper_bgcolor": "#F5F6F9",
        "plot_bgcolor": "#F5F6F9",
        "template": {
         "data": {
          "bar": [
           {
            "error_x": {
             "color": "#2a3f5f"
            },
            "error_y": {
             "color": "#2a3f5f"
            },
            "marker": {
             "line": {
              "color": "#E5ECF6",
              "width": 0.5
             }
            },
            "type": "bar"
           }
          ],
          "barpolar": [
           {
            "marker": {
             "line": {
              "color": "#E5ECF6",
              "width": 0.5
             }
            },
            "type": "barpolar"
           }
          ],
          "carpet": [
           {
            "aaxis": {
             "endlinecolor": "#2a3f5f",
             "gridcolor": "white",
             "linecolor": "white",
             "minorgridcolor": "white",
             "startlinecolor": "#2a3f5f"
            },
            "baxis": {
             "endlinecolor": "#2a3f5f",
             "gridcolor": "white",
             "linecolor": "white",
             "minorgridcolor": "white",
             "startlinecolor": "#2a3f5f"
            },
            "type": "carpet"
           }
          ],
          "choropleth": [
           {
            "colorbar": {
             "outlinewidth": 0,
             "ticks": ""
            },
            "type": "choropleth"
           }
          ],
          "contour": [
           {
            "colorbar": {
             "outlinewidth": 0,
             "ticks": ""
            },
            "colorscale": [
             [
              0,
              "#0d0887"
             ],
             [
              0.1111111111111111,
              "#46039f"
             ],
             [
              0.2222222222222222,
              "#7201a8"
             ],
             [
              0.3333333333333333,
              "#9c179e"
             ],
             [
              0.4444444444444444,
              "#bd3786"
             ],
             [
              0.5555555555555556,
              "#d8576b"
             ],
             [
              0.6666666666666666,
              "#ed7953"
             ],
             [
              0.7777777777777778,
              "#fb9f3a"
             ],
             [
              0.8888888888888888,
              "#fdca26"
             ],
             [
              1,
              "#f0f921"
             ]
            ],
            "type": "contour"
           }
          ],
          "contourcarpet": [
           {
            "colorbar": {
             "outlinewidth": 0,
             "ticks": ""
            },
            "type": "contourcarpet"
           }
          ],
          "heatmap": [
           {
            "colorbar": {
             "outlinewidth": 0,
             "ticks": ""
            },
            "colorscale": [
             [
              0,
              "#0d0887"
             ],
             [
              0.1111111111111111,
              "#46039f"
             ],
             [
              0.2222222222222222,
              "#7201a8"
             ],
             [
              0.3333333333333333,
              "#9c179e"
             ],
             [
              0.4444444444444444,
              "#bd3786"
             ],
             [
              0.5555555555555556,
              "#d8576b"
             ],
             [
              0.6666666666666666,
              "#ed7953"
             ],
             [
              0.7777777777777778,
              "#fb9f3a"
             ],
             [
              0.8888888888888888,
              "#fdca26"
             ],
             [
              1,
              "#f0f921"
             ]
            ],
            "type": "heatmap"
           }
          ],
          "heatmapgl": [
           {
            "colorbar": {
             "outlinewidth": 0,
             "ticks": ""
            },
            "colorscale": [
             [
              0,
              "#0d0887"
             ],
             [
              0.1111111111111111,
              "#46039f"
             ],
             [
              0.2222222222222222,
              "#7201a8"
             ],
             [
              0.3333333333333333,
              "#9c179e"
             ],
             [
              0.4444444444444444,
              "#bd3786"
             ],
             [
              0.5555555555555556,
              "#d8576b"
             ],
             [
              0.6666666666666666,
              "#ed7953"
             ],
             [
              0.7777777777777778,
              "#fb9f3a"
             ],
             [
              0.8888888888888888,
              "#fdca26"
             ],
             [
              1,
              "#f0f921"
             ]
            ],
            "type": "heatmapgl"
           }
          ],
          "histogram": [
           {
            "marker": {
             "colorbar": {
              "outlinewidth": 0,
              "ticks": ""
             }
            },
            "type": "histogram"
           }
          ],
          "histogram2d": [
           {
            "colorbar": {
             "outlinewidth": 0,
             "ticks": ""
            },
            "colorscale": [
             [
              0,
              "#0d0887"
             ],
             [
              0.1111111111111111,
              "#46039f"
             ],
             [
              0.2222222222222222,
              "#7201a8"
             ],
             [
              0.3333333333333333,
              "#9c179e"
             ],
             [
              0.4444444444444444,
              "#bd3786"
             ],
             [
              0.5555555555555556,
              "#d8576b"
             ],
             [
              0.6666666666666666,
              "#ed7953"
             ],
             [
              0.7777777777777778,
              "#fb9f3a"
             ],
             [
              0.8888888888888888,
              "#fdca26"
             ],
             [
              1,
              "#f0f921"
             ]
            ],
            "type": "histogram2d"
           }
          ],
          "histogram2dcontour": [
           {
            "colorbar": {
             "outlinewidth": 0,
             "ticks": ""
            },
            "colorscale": [
             [
              0,
              "#0d0887"
             ],
             [
              0.1111111111111111,
              "#46039f"
             ],
             [
              0.2222222222222222,
              "#7201a8"
             ],
             [
              0.3333333333333333,
              "#9c179e"
             ],
             [
              0.4444444444444444,
              "#bd3786"
             ],
             [
              0.5555555555555556,
              "#d8576b"
             ],
             [
              0.6666666666666666,
              "#ed7953"
             ],
             [
              0.7777777777777778,
              "#fb9f3a"
             ],
             [
              0.8888888888888888,
              "#fdca26"
             ],
             [
              1,
              "#f0f921"
             ]
            ],
            "type": "histogram2dcontour"
           }
          ],
          "mesh3d": [
           {
            "colorbar": {
             "outlinewidth": 0,
             "ticks": ""
            },
            "type": "mesh3d"
           }
          ],
          "parcoords": [
           {
            "line": {
             "colorbar": {
              "outlinewidth": 0,
              "ticks": ""
             }
            },
            "type": "parcoords"
           }
          ],
          "pie": [
           {
            "automargin": true,
            "type": "pie"
           }
          ],
          "scatter": [
           {
            "marker": {
             "colorbar": {
              "outlinewidth": 0,
              "ticks": ""
             }
            },
            "type": "scatter"
           }
          ],
          "scatter3d": [
           {
            "line": {
             "colorbar": {
              "outlinewidth": 0,
              "ticks": ""
             }
            },
            "marker": {
             "colorbar": {
              "outlinewidth": 0,
              "ticks": ""
             }
            },
            "type": "scatter3d"
           }
          ],
          "scattercarpet": [
           {
            "marker": {
             "colorbar": {
              "outlinewidth": 0,
              "ticks": ""
             }
            },
            "type": "scattercarpet"
           }
          ],
          "scattergeo": [
           {
            "marker": {
             "colorbar": {
              "outlinewidth": 0,
              "ticks": ""
             }
            },
            "type": "scattergeo"
           }
          ],
          "scattergl": [
           {
            "marker": {
             "colorbar": {
              "outlinewidth": 0,
              "ticks": ""
             }
            },
            "type": "scattergl"
           }
          ],
          "scattermapbox": [
           {
            "marker": {
             "colorbar": {
              "outlinewidth": 0,
              "ticks": ""
             }
            },
            "type": "scattermapbox"
           }
          ],
          "scatterpolar": [
           {
            "marker": {
             "colorbar": {
              "outlinewidth": 0,
              "ticks": ""
             }
            },
            "type": "scatterpolar"
           }
          ],
          "scatterpolargl": [
           {
            "marker": {
             "colorbar": {
              "outlinewidth": 0,
              "ticks": ""
             }
            },
            "type": "scatterpolargl"
           }
          ],
          "scatterternary": [
           {
            "marker": {
             "colorbar": {
              "outlinewidth": 0,
              "ticks": ""
             }
            },
            "type": "scatterternary"
           }
          ],
          "surface": [
           {
            "colorbar": {
             "outlinewidth": 0,
             "ticks": ""
            },
            "colorscale": [
             [
              0,
              "#0d0887"
             ],
             [
              0.1111111111111111,
              "#46039f"
             ],
             [
              0.2222222222222222,
              "#7201a8"
             ],
             [
              0.3333333333333333,
              "#9c179e"
             ],
             [
              0.4444444444444444,
              "#bd3786"
             ],
             [
              0.5555555555555556,
              "#d8576b"
             ],
             [
              0.6666666666666666,
              "#ed7953"
             ],
             [
              0.7777777777777778,
              "#fb9f3a"
             ],
             [
              0.8888888888888888,
              "#fdca26"
             ],
             [
              1,
              "#f0f921"
             ]
            ],
            "type": "surface"
           }
          ],
          "table": [
           {
            "cells": {
             "fill": {
              "color": "#EBF0F8"
             },
             "line": {
              "color": "white"
             }
            },
            "header": {
             "fill": {
              "color": "#C8D4E3"
             },
             "line": {
              "color": "white"
             }
            },
            "type": "table"
           }
          ]
         },
         "layout": {
          "annotationdefaults": {
           "arrowcolor": "#2a3f5f",
           "arrowhead": 0,
           "arrowwidth": 1
          },
          "coloraxis": {
           "colorbar": {
            "outlinewidth": 0,
            "ticks": ""
           }
          },
          "colorscale": {
           "diverging": [
            [
             0,
             "#8e0152"
            ],
            [
             0.1,
             "#c51b7d"
            ],
            [
             0.2,
             "#de77ae"
            ],
            [
             0.3,
             "#f1b6da"
            ],
            [
             0.4,
             "#fde0ef"
            ],
            [
             0.5,
             "#f7f7f7"
            ],
            [
             0.6,
             "#e6f5d0"
            ],
            [
             0.7,
             "#b8e186"
            ],
            [
             0.8,
             "#7fbc41"
            ],
            [
             0.9,
             "#4d9221"
            ],
            [
             1,
             "#276419"
            ]
           ],
           "sequential": [
            [
             0,
             "#0d0887"
            ],
            [
             0.1111111111111111,
             "#46039f"
            ],
            [
             0.2222222222222222,
             "#7201a8"
            ],
            [
             0.3333333333333333,
             "#9c179e"
            ],
            [
             0.4444444444444444,
             "#bd3786"
            ],
            [
             0.5555555555555556,
             "#d8576b"
            ],
            [
             0.6666666666666666,
             "#ed7953"
            ],
            [
             0.7777777777777778,
             "#fb9f3a"
            ],
            [
             0.8888888888888888,
             "#fdca26"
            ],
            [
             1,
             "#f0f921"
            ]
           ],
           "sequentialminus": [
            [
             0,
             "#0d0887"
            ],
            [
             0.1111111111111111,
             "#46039f"
            ],
            [
             0.2222222222222222,
             "#7201a8"
            ],
            [
             0.3333333333333333,
             "#9c179e"
            ],
            [
             0.4444444444444444,
             "#bd3786"
            ],
            [
             0.5555555555555556,
             "#d8576b"
            ],
            [
             0.6666666666666666,
             "#ed7953"
            ],
            [
             0.7777777777777778,
             "#fb9f3a"
            ],
            [
             0.8888888888888888,
             "#fdca26"
            ],
            [
             1,
             "#f0f921"
            ]
           ]
          },
          "colorway": [
           "#636efa",
           "#EF553B",
           "#00cc96",
           "#ab63fa",
           "#FFA15A",
           "#19d3f3",
           "#FF6692",
           "#B6E880",
           "#FF97FF",
           "#FECB52"
          ],
          "font": {
           "color": "#2a3f5f"
          },
          "geo": {
           "bgcolor": "white",
           "lakecolor": "white",
           "landcolor": "#E5ECF6",
           "showlakes": true,
           "showland": true,
           "subunitcolor": "white"
          },
          "hoverlabel": {
           "align": "left"
          },
          "hovermode": "closest",
          "mapbox": {
           "style": "light"
          },
          "paper_bgcolor": "white",
          "plot_bgcolor": "#E5ECF6",
          "polar": {
           "angularaxis": {
            "gridcolor": "white",
            "linecolor": "white",
            "ticks": ""
           },
           "bgcolor": "#E5ECF6",
           "radialaxis": {
            "gridcolor": "white",
            "linecolor": "white",
            "ticks": ""
           }
          },
          "scene": {
           "xaxis": {
            "backgroundcolor": "#E5ECF6",
            "gridcolor": "white",
            "gridwidth": 2,
            "linecolor": "white",
            "showbackground": true,
            "ticks": "",
            "zerolinecolor": "white"
           },
           "yaxis": {
            "backgroundcolor": "#E5ECF6",
            "gridcolor": "white",
            "gridwidth": 2,
            "linecolor": "white",
            "showbackground": true,
            "ticks": "",
            "zerolinecolor": "white"
           },
           "zaxis": {
            "backgroundcolor": "#E5ECF6",
            "gridcolor": "white",
            "gridwidth": 2,
            "linecolor": "white",
            "showbackground": true,
            "ticks": "",
            "zerolinecolor": "white"
           }
          },
          "shapedefaults": {
           "line": {
            "color": "#2a3f5f"
           }
          },
          "ternary": {
           "aaxis": {
            "gridcolor": "white",
            "linecolor": "white",
            "ticks": ""
           },
           "baxis": {
            "gridcolor": "white",
            "linecolor": "white",
            "ticks": ""
           },
           "bgcolor": "#E5ECF6",
           "caxis": {
            "gridcolor": "white",
            "linecolor": "white",
            "ticks": ""
           }
          },
          "title": {
           "x": 0.05
          },
          "xaxis": {
           "automargin": true,
           "gridcolor": "white",
           "linecolor": "white",
           "ticks": "",
           "title": {
            "standoff": 15
           },
           "zerolinecolor": "white",
           "zerolinewidth": 2
          },
          "yaxis": {
           "automargin": true,
           "gridcolor": "white",
           "linecolor": "white",
           "ticks": "",
           "title": {
            "standoff": 15
           },
           "zerolinecolor": "white",
           "zerolinewidth": 2
          }
         }
        },
        "title": {
         "font": {
          "color": "#4D5663"
         }
        },
        "xaxis": {
         "gridcolor": "#E1E5ED",
         "showgrid": true,
         "tickfont": {
          "color": "#4D5663"
         },
         "title": {
          "font": {
           "color": "#4D5663"
          },
          "text": ""
         },
         "zerolinecolor": "#E1E5ED"
        },
        "yaxis": {
         "gridcolor": "#E1E5ED",
         "showgrid": true,
         "tickfont": {
          "color": "#4D5663"
         },
         "title": {
          "font": {
           "color": "#4D5663"
          },
          "text": ""
         },
         "zerolinecolor": "#E1E5ED"
        }
       }
      },
      "text/html": [
       "<div>\n",
       "        \n",
       "        \n",
       "            <div id=\"34bda827-c604-4dad-9fd1-336cce5e8718\" class=\"plotly-graph-div\" style=\"height:525px; width:100%;\"></div>\n",
       "            <script type=\"text/javascript\">\n",
       "                require([\"plotly\"], function(Plotly) {\n",
       "                    window.PLOTLYENV=window.PLOTLYENV || {};\n",
       "                    window.PLOTLYENV.BASE_URL='https://plot.ly';\n",
       "                    \n",
       "                if (document.getElementById(\"34bda827-c604-4dad-9fd1-336cce5e8718\")) {\n",
       "                    Plotly.newPlot(\n",
       "                        '34bda827-c604-4dad-9fd1-336cce5e8718',\n",
       "                        [{\"marker\": {\"color\": [\"rgb(255, 153, 51)\", \"rgb(55, 128, 191)\", \"rgb(50, 171, 96)\", \"rgb(128, 0, 128)\", \"rgb(219, 64, 82)\", \"rgb(0, 128, 128)\", \"rgb(255, 255, 51)\", \"rgb(128, 128, 0)\", \"rgb(251, 128, 114)\", \"rgb(128, 177, 211)\"], \"line\": {\"width\": 1.3}, \"size\": [54, 58, 61, 79, 59, 26, 71, 80, 34, 65, 44, 21, 91, 43, 21, 24, 47, 83, 12, 60, 59, 75, 90, 60, 61, 38, 75, 72, 43, 59, 19, 53, 61, 51, 22, 50, 25, 51, 22, 68, 42, 61, 46, 49, 38, 65, 37, 36, 51, 19, 60, 27, 31, 27, 73, 68, 59, 60, 65, 50, 35, 46, 31, 57, 66, 57, 67, 54, 31, 38, 69, 64, 61, 27, 50, 37, 18, 34, 45, 28, 47, 54, 31, 69, 112, 45, 62, 60, 66, 81, 43, 51, 38, 53, 54, 44, 40, 33, 26, 69], \"symbol\": \"circle\"}, \"mode\": \"markers\", \"text\": \"\", \"type\": \"scatter\", \"x\": [0.3464195938218623, 1.2191331189779477, -1.566198556307964, 0.46573085450095364, -0.15261785777811135, -0.8028457730946738, -1.2939789962191617, -0.6418087219226248, 1.9109107394573086, -0.7984950981964833, 0.37572064407586353, 0.10804546809227975, -0.2955939166246089, 0.6668013724677774, 1.606777904150411, 0.18473563502452545, -0.21514032491554505, -0.2776151300214792, 0.8398510702601665, -0.17787273295740644, 1.8394677466697062, -0.6830318073232281, 1.1910043748570203, -0.06296070100823661, 0.3893011193237392, -0.5418276224573682, 0.1456421026340764, 1.3478116660010542, 1.3398140902363653, 0.17909770396651062, -0.7347774212014662, -0.664509282045416, 1.9958932346583351, 0.06464239428800038, -0.17331233101528445, -1.5199911226136043, -0.011764777467682862, -0.22961655060029354, 0.8344144539000332, -0.6252542380202118, -0.35722719110995915, 1.4681106315488035, -0.972833984774363, -1.3185876357784978, 0.8369173852064116, -0.7203822787149038, 0.5391211086088187, 0.40930127362148827, 1.3305953798884078, 0.7875773751444973, 0.24411739461868534, -0.08843505642188325, 0.268342155604911, 0.053365885727759556, -0.027406353957162198, -0.542478529849032, 0.6176151365107044, -0.18176398391036097, -0.2045336720258062, 0.32644055801113225, 0.5569115331629004, 0.4709120552818683, -0.5511771984791615, 0.38672288804052146, 0.49369878628381486, 0.8742747551276879, -0.7728036843643227, -0.5316316557408409, -0.019359629269128015, -0.43540839748513804, 2.193864246093326, 0.7071061333240987, -0.6738965948167931, 2.3946971136177124, 1.2529062193552296, 1.0214426121109126, -0.18054114299205762, -1.848921966805281, 1.3846982722939123, 0.37389409884423136, -0.5518891745455325, -0.812964815588062, -0.1445860029165156, 0.5976439474074358, -0.031143888839414168, 1.288640608161686, -1.3760544674922424, 0.9963133082520479, 0.9751556082817852, -0.07231954115489966, -0.36525133427411105, 0.8539810900777741, -0.5593653152080624, 1.6784765782994218, 1.49764233252627, -0.8623001565375716, -0.7415847178841932, 1.1902930047966387, 0.5729387527499807, -0.2143483560074946], \"y\": [-0.020590181209793654, 0.5423503125602855, -0.8787354341663304, -0.4895306549248174, -0.48541537247821465, -1.1581842623847438, -0.2769367387336216, 0.03311436155705231, 1.6024816506045834, 1.0831480858882039, -1.0072890793929596, 1.6632133708190122, -0.10794673509633486, 0.45432131136859577, -0.22565078146614284, 0.45507286942503267, 0.17974586396275005, -2.0175017586254036, 1.2707085867867112, 0.8107153806972188, 1.3683894902998583, 0.6721722990716655, -1.3053183578006817, 0.5690108539109617, 1.0528361089049871, -0.9946211425344996, 0.13209780322860354, 0.5975237600550157, -0.3990103367235594, 0.8544023703785645, -0.3652754198522442, -0.9394329209739792, -1.8247763232964613, 1.387400472070589, -0.6172006358456033, 0.28514310772208395, -0.9194137609477232, -1.0945907934466066, -0.01812635633048244, -0.42870107832880905, -0.14583236585484136, -1.9112885076025667, -0.6064194759449073, -0.5831693992001507, -0.9885022195286823, -1.319588708902828, 0.16146923595796253, -0.28246046695644217, -0.7714040710560138, 0.5847383075181828, 0.19107611317750492, -0.6526040938222579, 0.5699402612438804, -0.9911031656265455, 1.6493934330272855, 1.9039049563987207, 1.218355914745771, -0.494984884549906, 0.11678360950276127, -1.2146187590914483, -1.1476654603988559, -0.6451013537990224, -0.9089642937379179, -0.3107932934346349, 0.1431930390443773, 0.49590287215018686, 0.4685352804531265, 0.10806855993380053, 0.986890513730406, 0.7865424288418571, -1.2351640606494476, -2.02351966824216, -1.370146862511068, -1.3253039883938387, -1.184340482150768, -0.5064055507257907, -3.1134408477432705, -1.3748114148134778, 0.9623455167657223, 0.15572759045814794, 0.019438510421546488, -0.756212056642985, 1.0393078996740457, 1.283603086621441, 0.013246115306398687, 0.07988076305174152, 1.7490019784053388, -0.9381427033010681, -0.7346416378276212, 1.6403942432066971, -0.3292907770726725, 0.6890521545829256, -1.1228315951030374, -0.25605505749699964, -0.16944549777624168, 1.46716671061314, -0.18662380589638208, -1.7553469955013234, -0.1186070548456802, 1.3868762776821497]}],\n",
       "                        {\"legend\": {\"bgcolor\": \"#F5F6F9\", \"font\": {\"color\": \"#4D5663\"}}, \"paper_bgcolor\": \"#F5F6F9\", \"plot_bgcolor\": \"#F5F6F9\", \"template\": {\"data\": {\"bar\": [{\"error_x\": {\"color\": \"#2a3f5f\"}, \"error_y\": {\"color\": \"#2a3f5f\"}, \"marker\": {\"line\": {\"color\": \"#E5ECF6\", \"width\": 0.5}}, \"type\": \"bar\"}], \"barpolar\": [{\"marker\": {\"line\": {\"color\": \"#E5ECF6\", \"width\": 0.5}}, \"type\": \"barpolar\"}], \"carpet\": [{\"aaxis\": {\"endlinecolor\": \"#2a3f5f\", \"gridcolor\": \"white\", \"linecolor\": \"white\", \"minorgridcolor\": \"white\", \"startlinecolor\": \"#2a3f5f\"}, \"baxis\": {\"endlinecolor\": \"#2a3f5f\", \"gridcolor\": \"white\", \"linecolor\": \"white\", \"minorgridcolor\": \"white\", \"startlinecolor\": \"#2a3f5f\"}, \"type\": \"carpet\"}], \"choropleth\": [{\"colorbar\": {\"outlinewidth\": 0, \"ticks\": \"\"}, \"type\": \"choropleth\"}], \"contour\": [{\"colorbar\": {\"outlinewidth\": 0, \"ticks\": \"\"}, \"colorscale\": [[0.0, \"#0d0887\"], [0.1111111111111111, \"#46039f\"], [0.2222222222222222, \"#7201a8\"], [0.3333333333333333, \"#9c179e\"], [0.4444444444444444, \"#bd3786\"], [0.5555555555555556, \"#d8576b\"], [0.6666666666666666, \"#ed7953\"], [0.7777777777777778, \"#fb9f3a\"], [0.8888888888888888, \"#fdca26\"], [1.0, \"#f0f921\"]], \"type\": \"contour\"}], \"contourcarpet\": [{\"colorbar\": {\"outlinewidth\": 0, \"ticks\": \"\"}, \"type\": \"contourcarpet\"}], \"heatmap\": [{\"colorbar\": {\"outlinewidth\": 0, \"ticks\": \"\"}, \"colorscale\": [[0.0, \"#0d0887\"], [0.1111111111111111, \"#46039f\"], [0.2222222222222222, \"#7201a8\"], [0.3333333333333333, \"#9c179e\"], [0.4444444444444444, \"#bd3786\"], [0.5555555555555556, \"#d8576b\"], [0.6666666666666666, \"#ed7953\"], [0.7777777777777778, \"#fb9f3a\"], [0.8888888888888888, \"#fdca26\"], [1.0, \"#f0f921\"]], \"type\": \"heatmap\"}], \"heatmapgl\": [{\"colorbar\": {\"outlinewidth\": 0, \"ticks\": \"\"}, \"colorscale\": [[0.0, \"#0d0887\"], [0.1111111111111111, \"#46039f\"], [0.2222222222222222, \"#7201a8\"], [0.3333333333333333, \"#9c179e\"], [0.4444444444444444, \"#bd3786\"], [0.5555555555555556, \"#d8576b\"], [0.6666666666666666, \"#ed7953\"], [0.7777777777777778, \"#fb9f3a\"], [0.8888888888888888, \"#fdca26\"], [1.0, \"#f0f921\"]], \"type\": \"heatmapgl\"}], \"histogram\": [{\"marker\": {\"colorbar\": {\"outlinewidth\": 0, \"ticks\": \"\"}}, \"type\": \"histogram\"}], \"histogram2d\": [{\"colorbar\": {\"outlinewidth\": 0, \"ticks\": \"\"}, \"colorscale\": [[0.0, \"#0d0887\"], [0.1111111111111111, \"#46039f\"], [0.2222222222222222, \"#7201a8\"], [0.3333333333333333, \"#9c179e\"], [0.4444444444444444, \"#bd3786\"], [0.5555555555555556, \"#d8576b\"], [0.6666666666666666, \"#ed7953\"], [0.7777777777777778, \"#fb9f3a\"], [0.8888888888888888, \"#fdca26\"], [1.0, \"#f0f921\"]], \"type\": \"histogram2d\"}], \"histogram2dcontour\": [{\"colorbar\": {\"outlinewidth\": 0, \"ticks\": \"\"}, \"colorscale\": [[0.0, \"#0d0887\"], [0.1111111111111111, \"#46039f\"], [0.2222222222222222, \"#7201a8\"], [0.3333333333333333, \"#9c179e\"], [0.4444444444444444, \"#bd3786\"], [0.5555555555555556, \"#d8576b\"], [0.6666666666666666, \"#ed7953\"], [0.7777777777777778, \"#fb9f3a\"], [0.8888888888888888, \"#fdca26\"], [1.0, \"#f0f921\"]], \"type\": \"histogram2dcontour\"}], \"mesh3d\": [{\"colorbar\": {\"outlinewidth\": 0, \"ticks\": \"\"}, \"type\": \"mesh3d\"}], \"parcoords\": [{\"line\": {\"colorbar\": {\"outlinewidth\": 0, \"ticks\": \"\"}}, \"type\": \"parcoords\"}], \"pie\": [{\"automargin\": true, \"type\": \"pie\"}], \"scatter\": [{\"marker\": {\"colorbar\": {\"outlinewidth\": 0, \"ticks\": \"\"}}, \"type\": \"scatter\"}], \"scatter3d\": [{\"line\": {\"colorbar\": {\"outlinewidth\": 0, \"ticks\": \"\"}}, \"marker\": {\"colorbar\": {\"outlinewidth\": 0, \"ticks\": \"\"}}, \"type\": \"scatter3d\"}], \"scattercarpet\": [{\"marker\": {\"colorbar\": {\"outlinewidth\": 0, \"ticks\": \"\"}}, \"type\": \"scattercarpet\"}], \"scattergeo\": [{\"marker\": {\"colorbar\": {\"outlinewidth\": 0, \"ticks\": \"\"}}, \"type\": \"scattergeo\"}], \"scattergl\": [{\"marker\": {\"colorbar\": {\"outlinewidth\": 0, \"ticks\": \"\"}}, \"type\": \"scattergl\"}], \"scattermapbox\": [{\"marker\": {\"colorbar\": {\"outlinewidth\": 0, \"ticks\": \"\"}}, \"type\": \"scattermapbox\"}], \"scatterpolar\": [{\"marker\": {\"colorbar\": {\"outlinewidth\": 0, \"ticks\": \"\"}}, \"type\": \"scatterpolar\"}], \"scatterpolargl\": [{\"marker\": {\"colorbar\": {\"outlinewidth\": 0, \"ticks\": \"\"}}, \"type\": \"scatterpolargl\"}], \"scatterternary\": [{\"marker\": {\"colorbar\": {\"outlinewidth\": 0, \"ticks\": \"\"}}, \"type\": \"scatterternary\"}], \"surface\": [{\"colorbar\": {\"outlinewidth\": 0, \"ticks\": \"\"}, \"colorscale\": [[0.0, \"#0d0887\"], [0.1111111111111111, \"#46039f\"], [0.2222222222222222, \"#7201a8\"], [0.3333333333333333, \"#9c179e\"], [0.4444444444444444, \"#bd3786\"], [0.5555555555555556, \"#d8576b\"], [0.6666666666666666, \"#ed7953\"], [0.7777777777777778, \"#fb9f3a\"], [0.8888888888888888, \"#fdca26\"], [1.0, \"#f0f921\"]], \"type\": \"surface\"}], \"table\": [{\"cells\": {\"fill\": {\"color\": \"#EBF0F8\"}, \"line\": {\"color\": \"white\"}}, \"header\": {\"fill\": {\"color\": \"#C8D4E3\"}, \"line\": {\"color\": \"white\"}}, \"type\": \"table\"}]}, \"layout\": {\"annotationdefaults\": {\"arrowcolor\": \"#2a3f5f\", \"arrowhead\": 0, \"arrowwidth\": 1}, \"coloraxis\": {\"colorbar\": {\"outlinewidth\": 0, \"ticks\": \"\"}}, \"colorscale\": {\"diverging\": [[0, \"#8e0152\"], [0.1, \"#c51b7d\"], [0.2, \"#de77ae\"], [0.3, \"#f1b6da\"], [0.4, \"#fde0ef\"], [0.5, \"#f7f7f7\"], [0.6, \"#e6f5d0\"], [0.7, \"#b8e186\"], [0.8, \"#7fbc41\"], [0.9, \"#4d9221\"], [1, \"#276419\"]], \"sequential\": [[0.0, \"#0d0887\"], [0.1111111111111111, \"#46039f\"], [0.2222222222222222, \"#7201a8\"], [0.3333333333333333, \"#9c179e\"], [0.4444444444444444, \"#bd3786\"], [0.5555555555555556, \"#d8576b\"], [0.6666666666666666, \"#ed7953\"], [0.7777777777777778, \"#fb9f3a\"], [0.8888888888888888, \"#fdca26\"], [1.0, \"#f0f921\"]], \"sequentialminus\": [[0.0, \"#0d0887\"], [0.1111111111111111, \"#46039f\"], [0.2222222222222222, \"#7201a8\"], [0.3333333333333333, \"#9c179e\"], [0.4444444444444444, \"#bd3786\"], [0.5555555555555556, \"#d8576b\"], [0.6666666666666666, \"#ed7953\"], [0.7777777777777778, \"#fb9f3a\"], [0.8888888888888888, \"#fdca26\"], [1.0, \"#f0f921\"]]}, \"colorway\": [\"#636efa\", \"#EF553B\", \"#00cc96\", \"#ab63fa\", \"#FFA15A\", \"#19d3f3\", \"#FF6692\", \"#B6E880\", \"#FF97FF\", \"#FECB52\"], \"font\": {\"color\": \"#2a3f5f\"}, \"geo\": {\"bgcolor\": \"white\", \"lakecolor\": \"white\", \"landcolor\": \"#E5ECF6\", \"showlakes\": true, \"showland\": true, \"subunitcolor\": \"white\"}, \"hoverlabel\": {\"align\": \"left\"}, \"hovermode\": \"closest\", \"mapbox\": {\"style\": \"light\"}, \"paper_bgcolor\": \"white\", \"plot_bgcolor\": \"#E5ECF6\", \"polar\": {\"angularaxis\": {\"gridcolor\": \"white\", \"linecolor\": \"white\", \"ticks\": \"\"}, \"bgcolor\": \"#E5ECF6\", \"radialaxis\": {\"gridcolor\": \"white\", \"linecolor\": \"white\", \"ticks\": \"\"}}, \"scene\": {\"xaxis\": {\"backgroundcolor\": \"#E5ECF6\", \"gridcolor\": \"white\", \"gridwidth\": 2, \"linecolor\": \"white\", \"showbackground\": true, \"ticks\": \"\", \"zerolinecolor\": \"white\"}, \"yaxis\": {\"backgroundcolor\": \"#E5ECF6\", \"gridcolor\": \"white\", \"gridwidth\": 2, \"linecolor\": \"white\", \"showbackground\": true, \"ticks\": \"\", \"zerolinecolor\": \"white\"}, \"zaxis\": {\"backgroundcolor\": \"#E5ECF6\", \"gridcolor\": \"white\", \"gridwidth\": 2, \"linecolor\": \"white\", \"showbackground\": true, \"ticks\": \"\", \"zerolinecolor\": \"white\"}}, \"shapedefaults\": {\"line\": {\"color\": \"#2a3f5f\"}}, \"ternary\": {\"aaxis\": {\"gridcolor\": \"white\", \"linecolor\": \"white\", \"ticks\": \"\"}, \"baxis\": {\"gridcolor\": \"white\", \"linecolor\": \"white\", \"ticks\": \"\"}, \"bgcolor\": \"#E5ECF6\", \"caxis\": {\"gridcolor\": \"white\", \"linecolor\": \"white\", \"ticks\": \"\"}}, \"title\": {\"x\": 0.05}, \"xaxis\": {\"automargin\": true, \"gridcolor\": \"white\", \"linecolor\": \"white\", \"ticks\": \"\", \"title\": {\"standoff\": 15}, \"zerolinecolor\": \"white\", \"zerolinewidth\": 2}, \"yaxis\": {\"automargin\": true, \"gridcolor\": \"white\", \"linecolor\": \"white\", \"ticks\": \"\", \"title\": {\"standoff\": 15}, \"zerolinecolor\": \"white\", \"zerolinewidth\": 2}}}, \"title\": {\"font\": {\"color\": \"#4D5663\"}}, \"xaxis\": {\"gridcolor\": \"#E1E5ED\", \"showgrid\": true, \"tickfont\": {\"color\": \"#4D5663\"}, \"title\": {\"font\": {\"color\": \"#4D5663\"}, \"text\": \"\"}, \"zerolinecolor\": \"#E1E5ED\"}, \"yaxis\": {\"gridcolor\": \"#E1E5ED\", \"showgrid\": true, \"tickfont\": {\"color\": \"#4D5663\"}, \"title\": {\"font\": {\"color\": \"#4D5663\"}, \"text\": \"\"}, \"zerolinecolor\": \"#E1E5ED\"}},\n",
       "                        {\"showLink\": true, \"linkText\": \"Export to plot.ly\", \"plotlyServerURL\": \"https://plot.ly\", \"responsive\": true}\n",
       "                    ).then(function(){\n",
       "                            \n",
       "var gd = document.getElementById('34bda827-c604-4dad-9fd1-336cce5e8718');\n",
       "var x = new MutationObserver(function (mutations, observer) {{\n",
       "        var display = window.getComputedStyle(gd).display;\n",
       "        if (!display || display === 'none') {{\n",
       "            console.log([gd, 'removed!']);\n",
       "            Plotly.purge(gd);\n",
       "            observer.disconnect();\n",
       "        }}\n",
       "}});\n",
       "\n",
       "// Listen for the removal of the full notebook cells\n",
       "var notebookContainer = gd.closest('#notebook-container');\n",
       "if (notebookContainer) {{\n",
       "    x.observe(notebookContainer, {childList: true});\n",
       "}}\n",
       "\n",
       "// Listen for the clearing of the current output cell\n",
       "var outputEl = gd.closest('.output');\n",
       "if (outputEl) {{\n",
       "    x.observe(outputEl, {childList: true});\n",
       "}}\n",
       "\n",
       "                        })\n",
       "                };\n",
       "                });\n",
       "            </script>\n",
       "        </div>"
      ]
     },
     "metadata": {},
     "output_type": "display_data"
    }
   ],
   "source": [
    "df.iplot(kind='bubble',x='A',y='B',size='C')"
   ]
  },
  {
   "cell_type": "code",
   "execution_count": 44,
   "metadata": {},
   "outputs": [
    {
     "data": {
      "application/vnd.plotly.v1+json": {
       "config": {
        "linkText": "Export to plot.ly",
        "plotlyServerURL": "https://plot.ly",
        "showLink": true
       },
       "data": [
        {
         "histfunc": "count",
         "histnorm": "",
         "marker": {
          "color": "rgba(255, 153, 51, 1.0)",
          "line": {
           "color": "#4D5663",
           "width": 1.3
          }
         },
         "name": "A",
         "nbinsx": 10,
         "opacity": 0.8,
         "orientation": "v",
         "type": "histogram",
         "x": [
          0.3464195938218623,
          1.2191331189779477,
          -1.566198556307964,
          0.46573085450095364,
          -0.15261785777811135,
          -0.8028457730946738,
          -1.2939789962191617,
          -0.6418087219226248,
          1.9109107394573086,
          -0.7984950981964833,
          0.37572064407586353,
          0.10804546809227975,
          -0.2955939166246089,
          0.6668013724677774,
          1.606777904150411,
          0.18473563502452545,
          -0.21514032491554505,
          -0.2776151300214792,
          0.8398510702601665,
          -0.17787273295740644,
          1.8394677466697062,
          -0.6830318073232281,
          1.1910043748570203,
          -0.06296070100823661,
          0.3893011193237392,
          -0.5418276224573682,
          0.1456421026340764,
          1.3478116660010542,
          1.3398140902363653,
          0.17909770396651062,
          -0.7347774212014662,
          -0.664509282045416,
          1.9958932346583351,
          0.06464239428800038,
          -0.17331233101528445,
          -1.5199911226136043,
          -0.011764777467682862,
          -0.22961655060029354,
          0.8344144539000332,
          -0.6252542380202118,
          -0.35722719110995915,
          1.4681106315488035,
          -0.972833984774363,
          -1.3185876357784978,
          0.8369173852064116,
          -0.7203822787149038,
          0.5391211086088187,
          0.40930127362148827,
          1.3305953798884078,
          0.7875773751444973,
          0.24411739461868534,
          -0.08843505642188325,
          0.268342155604911,
          0.053365885727759556,
          -0.027406353957162198,
          -0.542478529849032,
          0.6176151365107044,
          -0.18176398391036097,
          -0.2045336720258062,
          0.32644055801113225,
          0.5569115331629004,
          0.4709120552818683,
          -0.5511771984791615,
          0.38672288804052146,
          0.49369878628381486,
          0.8742747551276879,
          -0.7728036843643227,
          -0.5316316557408409,
          -0.019359629269128015,
          -0.43540839748513804,
          2.193864246093326,
          0.7071061333240987,
          -0.6738965948167931,
          2.3946971136177124,
          1.2529062193552296,
          1.0214426121109126,
          -0.18054114299205762,
          -1.848921966805281,
          1.3846982722939123,
          0.37389409884423136,
          -0.5518891745455325,
          -0.812964815588062,
          -0.1445860029165156,
          0.5976439474074358,
          -0.031143888839414168,
          1.288640608161686,
          -1.3760544674922424,
          0.9963133082520479,
          0.9751556082817852,
          -0.07231954115489966,
          -0.36525133427411105,
          0.8539810900777741,
          -0.5593653152080624,
          1.6784765782994218,
          1.49764233252627,
          -0.8623001565375716,
          -0.7415847178841932,
          1.1902930047966387,
          0.5729387527499807,
          -0.2143483560074946
         ],
         "xaxis": "x",
         "yaxis": "y"
        },
        {
         "line": {
          "color": "rgba(128, 128, 128, 1.0)",
          "dash": "solid",
          "shape": "linear",
          "width": 1.3
         },
         "marker": {
          "size": 2,
          "symbol": "circle"
         },
         "mode": "markers",
         "name": "A",
         "text": "",
         "type": "scatter",
         "x": [
          -0.020590181209793654,
          0.5423503125602855,
          -0.8787354341663304,
          -0.4895306549248174,
          -0.48541537247821465,
          -1.1581842623847438,
          -0.2769367387336216,
          0.03311436155705231,
          1.6024816506045834,
          1.0831480858882039,
          -1.0072890793929596,
          1.6632133708190122,
          -0.10794673509633486,
          0.45432131136859577,
          -0.22565078146614284,
          0.45507286942503267,
          0.17974586396275005,
          -2.0175017586254036,
          1.2707085867867112,
          0.8107153806972188,
          1.3683894902998583,
          0.6721722990716655,
          -1.3053183578006817,
          0.5690108539109617,
          1.0528361089049871,
          -0.9946211425344996,
          0.13209780322860354,
          0.5975237600550157,
          -0.3990103367235594,
          0.8544023703785645,
          -0.3652754198522442,
          -0.9394329209739792,
          -1.8247763232964613,
          1.387400472070589,
          -0.6172006358456033,
          0.28514310772208395,
          -0.9194137609477232,
          -1.0945907934466066,
          -0.01812635633048244,
          -0.42870107832880905,
          -0.14583236585484136,
          -1.9112885076025667,
          -0.6064194759449073,
          -0.5831693992001507,
          -0.9885022195286823,
          -1.319588708902828,
          0.16146923595796253,
          -0.28246046695644217,
          -0.7714040710560138,
          0.5847383075181828,
          0.19107611317750492,
          -0.6526040938222579,
          0.5699402612438804,
          -0.9911031656265455,
          1.6493934330272855,
          1.9039049563987207,
          1.218355914745771,
          -0.494984884549906,
          0.11678360950276127,
          -1.2146187590914483,
          -1.1476654603988559,
          -0.6451013537990224,
          -0.9089642937379179,
          -0.3107932934346349,
          0.1431930390443773,
          0.49590287215018686,
          0.4685352804531265,
          0.10806855993380053,
          0.986890513730406,
          0.7865424288418571,
          -1.2351640606494476,
          -2.02351966824216,
          -1.370146862511068,
          -1.3253039883938387,
          -1.184340482150768,
          -0.5064055507257907,
          -3.1134408477432705,
          -1.3748114148134778,
          0.9623455167657223,
          0.15572759045814794,
          0.019438510421546488,
          -0.756212056642985,
          1.0393078996740457,
          1.283603086621441,
          0.013246115306398687,
          0.07988076305174152,
          1.7490019784053388,
          -0.9381427033010681,
          -0.7346416378276212,
          1.6403942432066971,
          -0.3292907770726725,
          0.6890521545829256,
          -1.1228315951030374,
          -0.25605505749699964,
          -0.16944549777624168,
          1.46716671061314,
          -0.18662380589638208,
          -1.7553469955013234,
          -0.1186070548456802,
          1.3868762776821497
         ],
         "xaxis": "x2",
         "y": [
          0.3464195938218623,
          1.2191331189779477,
          -1.566198556307964,
          0.46573085450095364,
          -0.15261785777811135,
          -0.8028457730946738,
          -1.2939789962191617,
          -0.6418087219226248,
          1.9109107394573086,
          -0.7984950981964833,
          0.37572064407586353,
          0.10804546809227975,
          -0.2955939166246089,
          0.6668013724677774,
          1.606777904150411,
          0.18473563502452545,
          -0.21514032491554505,
          -0.2776151300214792,
          0.8398510702601665,
          -0.17787273295740644,
          1.8394677466697062,
          -0.6830318073232281,
          1.1910043748570203,
          -0.06296070100823661,
          0.3893011193237392,
          -0.5418276224573682,
          0.1456421026340764,
          1.3478116660010542,
          1.3398140902363653,
          0.17909770396651062,
          -0.7347774212014662,
          -0.664509282045416,
          1.9958932346583351,
          0.06464239428800038,
          -0.17331233101528445,
          -1.5199911226136043,
          -0.011764777467682862,
          -0.22961655060029354,
          0.8344144539000332,
          -0.6252542380202118,
          -0.35722719110995915,
          1.4681106315488035,
          -0.972833984774363,
          -1.3185876357784978,
          0.8369173852064116,
          -0.7203822787149038,
          0.5391211086088187,
          0.40930127362148827,
          1.3305953798884078,
          0.7875773751444973,
          0.24411739461868534,
          -0.08843505642188325,
          0.268342155604911,
          0.053365885727759556,
          -0.027406353957162198,
          -0.542478529849032,
          0.6176151365107044,
          -0.18176398391036097,
          -0.2045336720258062,
          0.32644055801113225,
          0.5569115331629004,
          0.4709120552818683,
          -0.5511771984791615,
          0.38672288804052146,
          0.49369878628381486,
          0.8742747551276879,
          -0.7728036843643227,
          -0.5316316557408409,
          -0.019359629269128015,
          -0.43540839748513804,
          2.193864246093326,
          0.7071061333240987,
          -0.6738965948167931,
          2.3946971136177124,
          1.2529062193552296,
          1.0214426121109126,
          -0.18054114299205762,
          -1.848921966805281,
          1.3846982722939123,
          0.37389409884423136,
          -0.5518891745455325,
          -0.812964815588062,
          -0.1445860029165156,
          0.5976439474074358,
          -0.031143888839414168,
          1.288640608161686,
          -1.3760544674922424,
          0.9963133082520479,
          0.9751556082817852,
          -0.07231954115489966,
          -0.36525133427411105,
          0.8539810900777741,
          -0.5593653152080624,
          1.6784765782994218,
          1.49764233252627,
          -0.8623001565375716,
          -0.7415847178841932,
          1.1902930047966387,
          0.5729387527499807,
          -0.2143483560074946
         ],
         "yaxis": "y2"
        },
        {
         "line": {
          "color": "rgba(128, 128, 128, 1.0)",
          "dash": "solid",
          "shape": "linear",
          "width": 1.3
         },
         "marker": {
          "size": 2,
          "symbol": "circle"
         },
         "mode": "markers",
         "name": "A",
         "text": "",
         "type": "scatter",
         "x": [
          0.14358159005220242,
          0.2920812719560736,
          0.4034545189350478,
          1.1846433872331292,
          0.319242774725028,
          -1.0378007174169739,
          0.8566005112545779,
          1.230587387035751,
          -0.6904449421321213,
          0.5977777507201271,
          -0.2957408276879956,
          -1.2495092936375563,
          1.6656398714796146,
          -0.3446167923977057,
          -1.254503270950624,
          -1.1388161689544005,
          -0.1717411579167247,
          1.337329782119376,
          -1.6571968313842216,
          0.395304398552172,
          0.3331717998492536,
          1.027506271028855,
          1.6474630147154348,
          0.3976627652729076,
          0.407886600933332,
          -0.5530433271104201,
          1.0332177544732484,
          0.86768325022945,
          -0.3279844909807892,
          0.3341765602344462,
          -1.3314901096554927,
          0.09517340058130781,
          0.414233914581945,
          0.008258261866098746,
          -1.2358266866438095,
          -0.051510801020062245,
          -1.1018971303963652,
          -0.015386259776738126,
          -1.2133402799715634,
          0.7238599629917095,
          -0.39130890290694187,
          0.4279914942549863,
          -0.20925301904311044,
          -0.07715446690954722,
          -0.5219958922492965,
          0.5971498071391562,
          -0.5679311029386973,
          -0.6379609701710316,
          -0.008311692620811812,
          -1.3357400359256055,
          0.36352824933081623,
          -1.0139147273562739,
          -0.8276356994707972,
          -1.0139657015110843,
          0.9348172455435725,
          0.7346190521865691,
          0.32389401870404105,
          0.3890011873245929,
          0.5842398951563093,
          -0.025820761777430607,
          -0.6520353470200743,
          -0.1957954163288069,
          -0.8525926967078836,
          0.24534399615516964,
          0.6447632757277592,
          0.2444416159774107,
          0.6885672298514097,
          0.14182452610579782,
          -0.8383124174831217,
          -0.5256271659891929,
          0.7474320776428933,
          0.5498407131196493,
          0.4326392632653981,
          -1.0041028281208184,
          -0.023836964615872768,
          -0.5842708332074602,
          -1.3655332884624836,
          -0.7016652237620963,
          -0.2544652796566522,
          -0.9696356130351645,
          -0.16816395858146188,
          0.12710783669496098,
          -0.8217755283837832,
          0.7570671870362776,
          2.5475431730589433,
          -0.2276466929232567,
          0.4669050820081747,
          0.3904063276011235,
          0.6397549748807329,
          1.2479494093044476,
          -0.3393342010587006,
          0.02345841570658886,
          -0.5581521817674187,
          0.07108629812707043,
          0.13841439096535338,
          -0.3076131842355114,
          -0.44813213779990757,
          -0.7341619613796643,
          -1.0667492318297769,
          0.7541483808510677
         ],
         "xaxis": "x3",
         "y": [
          0.3464195938218623,
          1.2191331189779477,
          -1.566198556307964,
          0.46573085450095364,
          -0.15261785777811135,
          -0.8028457730946738,
          -1.2939789962191617,
          -0.6418087219226248,
          1.9109107394573086,
          -0.7984950981964833,
          0.37572064407586353,
          0.10804546809227975,
          -0.2955939166246089,
          0.6668013724677774,
          1.606777904150411,
          0.18473563502452545,
          -0.21514032491554505,
          -0.2776151300214792,
          0.8398510702601665,
          -0.17787273295740644,
          1.8394677466697062,
          -0.6830318073232281,
          1.1910043748570203,
          -0.06296070100823661,
          0.3893011193237392,
          -0.5418276224573682,
          0.1456421026340764,
          1.3478116660010542,
          1.3398140902363653,
          0.17909770396651062,
          -0.7347774212014662,
          -0.664509282045416,
          1.9958932346583351,
          0.06464239428800038,
          -0.17331233101528445,
          -1.5199911226136043,
          -0.011764777467682862,
          -0.22961655060029354,
          0.8344144539000332,
          -0.6252542380202118,
          -0.35722719110995915,
          1.4681106315488035,
          -0.972833984774363,
          -1.3185876357784978,
          0.8369173852064116,
          -0.7203822787149038,
          0.5391211086088187,
          0.40930127362148827,
          1.3305953798884078,
          0.7875773751444973,
          0.24411739461868534,
          -0.08843505642188325,
          0.268342155604911,
          0.053365885727759556,
          -0.027406353957162198,
          -0.542478529849032,
          0.6176151365107044,
          -0.18176398391036097,
          -0.2045336720258062,
          0.32644055801113225,
          0.5569115331629004,
          0.4709120552818683,
          -0.5511771984791615,
          0.38672288804052146,
          0.49369878628381486,
          0.8742747551276879,
          -0.7728036843643227,
          -0.5316316557408409,
          -0.019359629269128015,
          -0.43540839748513804,
          2.193864246093326,
          0.7071061333240987,
          -0.6738965948167931,
          2.3946971136177124,
          1.2529062193552296,
          1.0214426121109126,
          -0.18054114299205762,
          -1.848921966805281,
          1.3846982722939123,
          0.37389409884423136,
          -0.5518891745455325,
          -0.812964815588062,
          -0.1445860029165156,
          0.5976439474074358,
          -0.031143888839414168,
          1.288640608161686,
          -1.3760544674922424,
          0.9963133082520479,
          0.9751556082817852,
          -0.07231954115489966,
          -0.36525133427411105,
          0.8539810900777741,
          -0.5593653152080624,
          1.6784765782994218,
          1.49764233252627,
          -0.8623001565375716,
          -0.7415847178841932,
          1.1902930047966387,
          0.5729387527499807,
          -0.2143483560074946
         ],
         "yaxis": "y3"
        },
        {
         "line": {
          "color": "rgba(128, 128, 128, 1.0)",
          "dash": "solid",
          "shape": "linear",
          "width": 1.3
         },
         "marker": {
          "size": 2,
          "symbol": "circle"
         },
         "mode": "markers",
         "name": "A",
         "text": "",
         "type": "scatter",
         "x": [
          -1.1118640049651034,
          0.1491406043116301,
          -1.2221106374241755,
          -1.6875795839754855,
          -0.7558177324260064,
          -1.6337871211050123,
          0.22261233323591775,
          0.7915733560199928,
          1.6896287071492586,
          -0.1975697108903575,
          -1.8948362657753854,
          -0.2541235158529231,
          0.03661794809435186,
          0.7548769352154293,
          0.42547738622571923,
          0.46165798801264835,
          0.007295368926671065,
          0.891055630096048,
          0.24386729392890943,
          0.8307255191948365,
          0.35626459418787493,
          2.1578145958004145,
          -2.058911680464687,
          -0.27284665675569436,
          -0.15770271572799424,
          1.5033000533442646,
          -0.7496941979711484,
          0.8514411005089376,
          -0.3916152705357473,
          0.22689570064360143,
          -0.2197162949623533,
          -0.16579621986256468,
          1.7299343666421136,
          1.253065148652142,
          1.210314349675132,
          -0.44295688764545177,
          0.7521680139399465,
          -0.2674260111881133,
          1.7902607882569215,
          -1.2912637225126222,
          1.1762596418399858,
          0.3680637408772415,
          1.1759519499772664,
          -0.2752043603187563,
          0.1024792184516914,
          -0.5941545257254696,
          0.9489352620540739,
          -1.062895402760241,
          -1.0567115215569716,
          -2.3587912906105832,
          2.9653750929051372,
          -0.27421247498910417,
          -0.328514053729911,
          0.5734230922653505,
          -0.0607092670338549,
          1.1704828032581003,
          1.354998594411703,
          -0.6567767998847259,
          -0.10265296524401771,
          -0.27134167423686395,
          1.5412502872780447,
          0.5781757038302135,
          1.2224550744752862,
          -0.08639304752669724,
          0.9262617313935608,
          0.22324901110438788,
          -1.7744853454310123,
          1.1817122408866545,
          -0.5286257010564885,
          -2.7180104539156384,
          -1.0045558820687108,
          -1.1008071985316823,
          0.4275954953925082,
          -0.32492381688521127,
          -1.0280063715123986,
          0.23787612180794981,
          0.18686310544658025,
          -0.3497955317388221,
          -0.09738618475432757,
          -1.2290276943037652,
          0.5875304076931959,
          0.8814182541543529,
          -0.6781089026484597,
          -0.7373594071213471,
          1.115607766095368,
          0.12888807541459482,
          -0.8158561577836921,
          -0.5940310396993876,
          -0.5291881868373929,
          -0.5751787198636337,
          0.5108329935769008,
          1.2067401728845797,
          -1.4220280600408528,
          -0.24726913124166838,
          -0.14727165533210312,
          0.4513601251105589,
          0.7331496085916595,
          0.8068582051299986,
          0.8857024956321218,
          -0.3926293025656279
         ],
         "xaxis": "x4",
         "y": [
          0.3464195938218623,
          1.2191331189779477,
          -1.566198556307964,
          0.46573085450095364,
          -0.15261785777811135,
          -0.8028457730946738,
          -1.2939789962191617,
          -0.6418087219226248,
          1.9109107394573086,
          -0.7984950981964833,
          0.37572064407586353,
          0.10804546809227975,
          -0.2955939166246089,
          0.6668013724677774,
          1.606777904150411,
          0.18473563502452545,
          -0.21514032491554505,
          -0.2776151300214792,
          0.8398510702601665,
          -0.17787273295740644,
          1.8394677466697062,
          -0.6830318073232281,
          1.1910043748570203,
          -0.06296070100823661,
          0.3893011193237392,
          -0.5418276224573682,
          0.1456421026340764,
          1.3478116660010542,
          1.3398140902363653,
          0.17909770396651062,
          -0.7347774212014662,
          -0.664509282045416,
          1.9958932346583351,
          0.06464239428800038,
          -0.17331233101528445,
          -1.5199911226136043,
          -0.011764777467682862,
          -0.22961655060029354,
          0.8344144539000332,
          -0.6252542380202118,
          -0.35722719110995915,
          1.4681106315488035,
          -0.972833984774363,
          -1.3185876357784978,
          0.8369173852064116,
          -0.7203822787149038,
          0.5391211086088187,
          0.40930127362148827,
          1.3305953798884078,
          0.7875773751444973,
          0.24411739461868534,
          -0.08843505642188325,
          0.268342155604911,
          0.053365885727759556,
          -0.027406353957162198,
          -0.542478529849032,
          0.6176151365107044,
          -0.18176398391036097,
          -0.2045336720258062,
          0.32644055801113225,
          0.5569115331629004,
          0.4709120552818683,
          -0.5511771984791615,
          0.38672288804052146,
          0.49369878628381486,
          0.8742747551276879,
          -0.7728036843643227,
          -0.5316316557408409,
          -0.019359629269128015,
          -0.43540839748513804,
          2.193864246093326,
          0.7071061333240987,
          -0.6738965948167931,
          2.3946971136177124,
          1.2529062193552296,
          1.0214426121109126,
          -0.18054114299205762,
          -1.848921966805281,
          1.3846982722939123,
          0.37389409884423136,
          -0.5518891745455325,
          -0.812964815588062,
          -0.1445860029165156,
          0.5976439474074358,
          -0.031143888839414168,
          1.288640608161686,
          -1.3760544674922424,
          0.9963133082520479,
          0.9751556082817852,
          -0.07231954115489966,
          -0.36525133427411105,
          0.8539810900777741,
          -0.5593653152080624,
          1.6784765782994218,
          1.49764233252627,
          -0.8623001565375716,
          -0.7415847178841932,
          1.1902930047966387,
          0.5729387527499807,
          -0.2143483560074946
         ],
         "yaxis": "y4"
        },
        {
         "line": {
          "color": "rgba(128, 128, 128, 1.0)",
          "dash": "solid",
          "shape": "linear",
          "width": 1.3
         },
         "marker": {
          "size": 2,
          "symbol": "circle"
         },
         "mode": "markers",
         "name": "B",
         "text": "",
         "type": "scatter",
         "x": [
          0.3464195938218623,
          1.2191331189779477,
          -1.566198556307964,
          0.46573085450095364,
          -0.15261785777811135,
          -0.8028457730946738,
          -1.2939789962191617,
          -0.6418087219226248,
          1.9109107394573086,
          -0.7984950981964833,
          0.37572064407586353,
          0.10804546809227975,
          -0.2955939166246089,
          0.6668013724677774,
          1.606777904150411,
          0.18473563502452545,
          -0.21514032491554505,
          -0.2776151300214792,
          0.8398510702601665,
          -0.17787273295740644,
          1.8394677466697062,
          -0.6830318073232281,
          1.1910043748570203,
          -0.06296070100823661,
          0.3893011193237392,
          -0.5418276224573682,
          0.1456421026340764,
          1.3478116660010542,
          1.3398140902363653,
          0.17909770396651062,
          -0.7347774212014662,
          -0.664509282045416,
          1.9958932346583351,
          0.06464239428800038,
          -0.17331233101528445,
          -1.5199911226136043,
          -0.011764777467682862,
          -0.22961655060029354,
          0.8344144539000332,
          -0.6252542380202118,
          -0.35722719110995915,
          1.4681106315488035,
          -0.972833984774363,
          -1.3185876357784978,
          0.8369173852064116,
          -0.7203822787149038,
          0.5391211086088187,
          0.40930127362148827,
          1.3305953798884078,
          0.7875773751444973,
          0.24411739461868534,
          -0.08843505642188325,
          0.268342155604911,
          0.053365885727759556,
          -0.027406353957162198,
          -0.542478529849032,
          0.6176151365107044,
          -0.18176398391036097,
          -0.2045336720258062,
          0.32644055801113225,
          0.5569115331629004,
          0.4709120552818683,
          -0.5511771984791615,
          0.38672288804052146,
          0.49369878628381486,
          0.8742747551276879,
          -0.7728036843643227,
          -0.5316316557408409,
          -0.019359629269128015,
          -0.43540839748513804,
          2.193864246093326,
          0.7071061333240987,
          -0.6738965948167931,
          2.3946971136177124,
          1.2529062193552296,
          1.0214426121109126,
          -0.18054114299205762,
          -1.848921966805281,
          1.3846982722939123,
          0.37389409884423136,
          -0.5518891745455325,
          -0.812964815588062,
          -0.1445860029165156,
          0.5976439474074358,
          -0.031143888839414168,
          1.288640608161686,
          -1.3760544674922424,
          0.9963133082520479,
          0.9751556082817852,
          -0.07231954115489966,
          -0.36525133427411105,
          0.8539810900777741,
          -0.5593653152080624,
          1.6784765782994218,
          1.49764233252627,
          -0.8623001565375716,
          -0.7415847178841932,
          1.1902930047966387,
          0.5729387527499807,
          -0.2143483560074946
         ],
         "xaxis": "x5",
         "y": [
          -0.020590181209793654,
          0.5423503125602855,
          -0.8787354341663304,
          -0.4895306549248174,
          -0.48541537247821465,
          -1.1581842623847438,
          -0.2769367387336216,
          0.03311436155705231,
          1.6024816506045834,
          1.0831480858882039,
          -1.0072890793929596,
          1.6632133708190122,
          -0.10794673509633486,
          0.45432131136859577,
          -0.22565078146614284,
          0.45507286942503267,
          0.17974586396275005,
          -2.0175017586254036,
          1.2707085867867112,
          0.8107153806972188,
          1.3683894902998583,
          0.6721722990716655,
          -1.3053183578006817,
          0.5690108539109617,
          1.0528361089049871,
          -0.9946211425344996,
          0.13209780322860354,
          0.5975237600550157,
          -0.3990103367235594,
          0.8544023703785645,
          -0.3652754198522442,
          -0.9394329209739792,
          -1.8247763232964613,
          1.387400472070589,
          -0.6172006358456033,
          0.28514310772208395,
          -0.9194137609477232,
          -1.0945907934466066,
          -0.01812635633048244,
          -0.42870107832880905,
          -0.14583236585484136,
          -1.9112885076025667,
          -0.6064194759449073,
          -0.5831693992001507,
          -0.9885022195286823,
          -1.319588708902828,
          0.16146923595796253,
          -0.28246046695644217,
          -0.7714040710560138,
          0.5847383075181828,
          0.19107611317750492,
          -0.6526040938222579,
          0.5699402612438804,
          -0.9911031656265455,
          1.6493934330272855,
          1.9039049563987207,
          1.218355914745771,
          -0.494984884549906,
          0.11678360950276127,
          -1.2146187590914483,
          -1.1476654603988559,
          -0.6451013537990224,
          -0.9089642937379179,
          -0.3107932934346349,
          0.1431930390443773,
          0.49590287215018686,
          0.4685352804531265,
          0.10806855993380053,
          0.986890513730406,
          0.7865424288418571,
          -1.2351640606494476,
          -2.02351966824216,
          -1.370146862511068,
          -1.3253039883938387,
          -1.184340482150768,
          -0.5064055507257907,
          -3.1134408477432705,
          -1.3748114148134778,
          0.9623455167657223,
          0.15572759045814794,
          0.019438510421546488,
          -0.756212056642985,
          1.0393078996740457,
          1.283603086621441,
          0.013246115306398687,
          0.07988076305174152,
          1.7490019784053388,
          -0.9381427033010681,
          -0.7346416378276212,
          1.6403942432066971,
          -0.3292907770726725,
          0.6890521545829256,
          -1.1228315951030374,
          -0.25605505749699964,
          -0.16944549777624168,
          1.46716671061314,
          -0.18662380589638208,
          -1.7553469955013234,
          -0.1186070548456802,
          1.3868762776821497
         ],
         "yaxis": "y5"
        },
        {
         "histfunc": "count",
         "histnorm": "",
         "marker": {
          "color": "rgba(55, 128, 191, 1.0)",
          "line": {
           "color": "#4D5663",
           "width": 1.3
          }
         },
         "name": "B",
         "nbinsx": 10,
         "opacity": 0.8,
         "orientation": "v",
         "type": "histogram",
         "x": [
          -0.020590181209793654,
          0.5423503125602855,
          -0.8787354341663304,
          -0.4895306549248174,
          -0.48541537247821465,
          -1.1581842623847438,
          -0.2769367387336216,
          0.03311436155705231,
          1.6024816506045834,
          1.0831480858882039,
          -1.0072890793929596,
          1.6632133708190122,
          -0.10794673509633486,
          0.45432131136859577,
          -0.22565078146614284,
          0.45507286942503267,
          0.17974586396275005,
          -2.0175017586254036,
          1.2707085867867112,
          0.8107153806972188,
          1.3683894902998583,
          0.6721722990716655,
          -1.3053183578006817,
          0.5690108539109617,
          1.0528361089049871,
          -0.9946211425344996,
          0.13209780322860354,
          0.5975237600550157,
          -0.3990103367235594,
          0.8544023703785645,
          -0.3652754198522442,
          -0.9394329209739792,
          -1.8247763232964613,
          1.387400472070589,
          -0.6172006358456033,
          0.28514310772208395,
          -0.9194137609477232,
          -1.0945907934466066,
          -0.01812635633048244,
          -0.42870107832880905,
          -0.14583236585484136,
          -1.9112885076025667,
          -0.6064194759449073,
          -0.5831693992001507,
          -0.9885022195286823,
          -1.319588708902828,
          0.16146923595796253,
          -0.28246046695644217,
          -0.7714040710560138,
          0.5847383075181828,
          0.19107611317750492,
          -0.6526040938222579,
          0.5699402612438804,
          -0.9911031656265455,
          1.6493934330272855,
          1.9039049563987207,
          1.218355914745771,
          -0.494984884549906,
          0.11678360950276127,
          -1.2146187590914483,
          -1.1476654603988559,
          -0.6451013537990224,
          -0.9089642937379179,
          -0.3107932934346349,
          0.1431930390443773,
          0.49590287215018686,
          0.4685352804531265,
          0.10806855993380053,
          0.986890513730406,
          0.7865424288418571,
          -1.2351640606494476,
          -2.02351966824216,
          -1.370146862511068,
          -1.3253039883938387,
          -1.184340482150768,
          -0.5064055507257907,
          -3.1134408477432705,
          -1.3748114148134778,
          0.9623455167657223,
          0.15572759045814794,
          0.019438510421546488,
          -0.756212056642985,
          1.0393078996740457,
          1.283603086621441,
          0.013246115306398687,
          0.07988076305174152,
          1.7490019784053388,
          -0.9381427033010681,
          -0.7346416378276212,
          1.6403942432066971,
          -0.3292907770726725,
          0.6890521545829256,
          -1.1228315951030374,
          -0.25605505749699964,
          -0.16944549777624168,
          1.46716671061314,
          -0.18662380589638208,
          -1.7553469955013234,
          -0.1186070548456802,
          1.3868762776821497
         ],
         "xaxis": "x6",
         "yaxis": "y6"
        },
        {
         "line": {
          "color": "rgba(128, 128, 128, 1.0)",
          "dash": "solid",
          "shape": "linear",
          "width": 1.3
         },
         "marker": {
          "size": 2,
          "symbol": "circle"
         },
         "mode": "markers",
         "name": "B",
         "text": "",
         "type": "scatter",
         "x": [
          0.14358159005220242,
          0.2920812719560736,
          0.4034545189350478,
          1.1846433872331292,
          0.319242774725028,
          -1.0378007174169739,
          0.8566005112545779,
          1.230587387035751,
          -0.6904449421321213,
          0.5977777507201271,
          -0.2957408276879956,
          -1.2495092936375563,
          1.6656398714796146,
          -0.3446167923977057,
          -1.254503270950624,
          -1.1388161689544005,
          -0.1717411579167247,
          1.337329782119376,
          -1.6571968313842216,
          0.395304398552172,
          0.3331717998492536,
          1.027506271028855,
          1.6474630147154348,
          0.3976627652729076,
          0.407886600933332,
          -0.5530433271104201,
          1.0332177544732484,
          0.86768325022945,
          -0.3279844909807892,
          0.3341765602344462,
          -1.3314901096554927,
          0.09517340058130781,
          0.414233914581945,
          0.008258261866098746,
          -1.2358266866438095,
          -0.051510801020062245,
          -1.1018971303963652,
          -0.015386259776738126,
          -1.2133402799715634,
          0.7238599629917095,
          -0.39130890290694187,
          0.4279914942549863,
          -0.20925301904311044,
          -0.07715446690954722,
          -0.5219958922492965,
          0.5971498071391562,
          -0.5679311029386973,
          -0.6379609701710316,
          -0.008311692620811812,
          -1.3357400359256055,
          0.36352824933081623,
          -1.0139147273562739,
          -0.8276356994707972,
          -1.0139657015110843,
          0.9348172455435725,
          0.7346190521865691,
          0.32389401870404105,
          0.3890011873245929,
          0.5842398951563093,
          -0.025820761777430607,
          -0.6520353470200743,
          -0.1957954163288069,
          -0.8525926967078836,
          0.24534399615516964,
          0.6447632757277592,
          0.2444416159774107,
          0.6885672298514097,
          0.14182452610579782,
          -0.8383124174831217,
          -0.5256271659891929,
          0.7474320776428933,
          0.5498407131196493,
          0.4326392632653981,
          -1.0041028281208184,
          -0.023836964615872768,
          -0.5842708332074602,
          -1.3655332884624836,
          -0.7016652237620963,
          -0.2544652796566522,
          -0.9696356130351645,
          -0.16816395858146188,
          0.12710783669496098,
          -0.8217755283837832,
          0.7570671870362776,
          2.5475431730589433,
          -0.2276466929232567,
          0.4669050820081747,
          0.3904063276011235,
          0.6397549748807329,
          1.2479494093044476,
          -0.3393342010587006,
          0.02345841570658886,
          -0.5581521817674187,
          0.07108629812707043,
          0.13841439096535338,
          -0.3076131842355114,
          -0.44813213779990757,
          -0.7341619613796643,
          -1.0667492318297769,
          0.7541483808510677
         ],
         "xaxis": "x7",
         "y": [
          -0.020590181209793654,
          0.5423503125602855,
          -0.8787354341663304,
          -0.4895306549248174,
          -0.48541537247821465,
          -1.1581842623847438,
          -0.2769367387336216,
          0.03311436155705231,
          1.6024816506045834,
          1.0831480858882039,
          -1.0072890793929596,
          1.6632133708190122,
          -0.10794673509633486,
          0.45432131136859577,
          -0.22565078146614284,
          0.45507286942503267,
          0.17974586396275005,
          -2.0175017586254036,
          1.2707085867867112,
          0.8107153806972188,
          1.3683894902998583,
          0.6721722990716655,
          -1.3053183578006817,
          0.5690108539109617,
          1.0528361089049871,
          -0.9946211425344996,
          0.13209780322860354,
          0.5975237600550157,
          -0.3990103367235594,
          0.8544023703785645,
          -0.3652754198522442,
          -0.9394329209739792,
          -1.8247763232964613,
          1.387400472070589,
          -0.6172006358456033,
          0.28514310772208395,
          -0.9194137609477232,
          -1.0945907934466066,
          -0.01812635633048244,
          -0.42870107832880905,
          -0.14583236585484136,
          -1.9112885076025667,
          -0.6064194759449073,
          -0.5831693992001507,
          -0.9885022195286823,
          -1.319588708902828,
          0.16146923595796253,
          -0.28246046695644217,
          -0.7714040710560138,
          0.5847383075181828,
          0.19107611317750492,
          -0.6526040938222579,
          0.5699402612438804,
          -0.9911031656265455,
          1.6493934330272855,
          1.9039049563987207,
          1.218355914745771,
          -0.494984884549906,
          0.11678360950276127,
          -1.2146187590914483,
          -1.1476654603988559,
          -0.6451013537990224,
          -0.9089642937379179,
          -0.3107932934346349,
          0.1431930390443773,
          0.49590287215018686,
          0.4685352804531265,
          0.10806855993380053,
          0.986890513730406,
          0.7865424288418571,
          -1.2351640606494476,
          -2.02351966824216,
          -1.370146862511068,
          -1.3253039883938387,
          -1.184340482150768,
          -0.5064055507257907,
          -3.1134408477432705,
          -1.3748114148134778,
          0.9623455167657223,
          0.15572759045814794,
          0.019438510421546488,
          -0.756212056642985,
          1.0393078996740457,
          1.283603086621441,
          0.013246115306398687,
          0.07988076305174152,
          1.7490019784053388,
          -0.9381427033010681,
          -0.7346416378276212,
          1.6403942432066971,
          -0.3292907770726725,
          0.6890521545829256,
          -1.1228315951030374,
          -0.25605505749699964,
          -0.16944549777624168,
          1.46716671061314,
          -0.18662380589638208,
          -1.7553469955013234,
          -0.1186070548456802,
          1.3868762776821497
         ],
         "yaxis": "y7"
        },
        {
         "line": {
          "color": "rgba(128, 128, 128, 1.0)",
          "dash": "solid",
          "shape": "linear",
          "width": 1.3
         },
         "marker": {
          "size": 2,
          "symbol": "circle"
         },
         "mode": "markers",
         "name": "B",
         "text": "",
         "type": "scatter",
         "x": [
          -1.1118640049651034,
          0.1491406043116301,
          -1.2221106374241755,
          -1.6875795839754855,
          -0.7558177324260064,
          -1.6337871211050123,
          0.22261233323591775,
          0.7915733560199928,
          1.6896287071492586,
          -0.1975697108903575,
          -1.8948362657753854,
          -0.2541235158529231,
          0.03661794809435186,
          0.7548769352154293,
          0.42547738622571923,
          0.46165798801264835,
          0.007295368926671065,
          0.891055630096048,
          0.24386729392890943,
          0.8307255191948365,
          0.35626459418787493,
          2.1578145958004145,
          -2.058911680464687,
          -0.27284665675569436,
          -0.15770271572799424,
          1.5033000533442646,
          -0.7496941979711484,
          0.8514411005089376,
          -0.3916152705357473,
          0.22689570064360143,
          -0.2197162949623533,
          -0.16579621986256468,
          1.7299343666421136,
          1.253065148652142,
          1.210314349675132,
          -0.44295688764545177,
          0.7521680139399465,
          -0.2674260111881133,
          1.7902607882569215,
          -1.2912637225126222,
          1.1762596418399858,
          0.3680637408772415,
          1.1759519499772664,
          -0.2752043603187563,
          0.1024792184516914,
          -0.5941545257254696,
          0.9489352620540739,
          -1.062895402760241,
          -1.0567115215569716,
          -2.3587912906105832,
          2.9653750929051372,
          -0.27421247498910417,
          -0.328514053729911,
          0.5734230922653505,
          -0.0607092670338549,
          1.1704828032581003,
          1.354998594411703,
          -0.6567767998847259,
          -0.10265296524401771,
          -0.27134167423686395,
          1.5412502872780447,
          0.5781757038302135,
          1.2224550744752862,
          -0.08639304752669724,
          0.9262617313935608,
          0.22324901110438788,
          -1.7744853454310123,
          1.1817122408866545,
          -0.5286257010564885,
          -2.7180104539156384,
          -1.0045558820687108,
          -1.1008071985316823,
          0.4275954953925082,
          -0.32492381688521127,
          -1.0280063715123986,
          0.23787612180794981,
          0.18686310544658025,
          -0.3497955317388221,
          -0.09738618475432757,
          -1.2290276943037652,
          0.5875304076931959,
          0.8814182541543529,
          -0.6781089026484597,
          -0.7373594071213471,
          1.115607766095368,
          0.12888807541459482,
          -0.8158561577836921,
          -0.5940310396993876,
          -0.5291881868373929,
          -0.5751787198636337,
          0.5108329935769008,
          1.2067401728845797,
          -1.4220280600408528,
          -0.24726913124166838,
          -0.14727165533210312,
          0.4513601251105589,
          0.7331496085916595,
          0.8068582051299986,
          0.8857024956321218,
          -0.3926293025656279
         ],
         "xaxis": "x8",
         "y": [
          -0.020590181209793654,
          0.5423503125602855,
          -0.8787354341663304,
          -0.4895306549248174,
          -0.48541537247821465,
          -1.1581842623847438,
          -0.2769367387336216,
          0.03311436155705231,
          1.6024816506045834,
          1.0831480858882039,
          -1.0072890793929596,
          1.6632133708190122,
          -0.10794673509633486,
          0.45432131136859577,
          -0.22565078146614284,
          0.45507286942503267,
          0.17974586396275005,
          -2.0175017586254036,
          1.2707085867867112,
          0.8107153806972188,
          1.3683894902998583,
          0.6721722990716655,
          -1.3053183578006817,
          0.5690108539109617,
          1.0528361089049871,
          -0.9946211425344996,
          0.13209780322860354,
          0.5975237600550157,
          -0.3990103367235594,
          0.8544023703785645,
          -0.3652754198522442,
          -0.9394329209739792,
          -1.8247763232964613,
          1.387400472070589,
          -0.6172006358456033,
          0.28514310772208395,
          -0.9194137609477232,
          -1.0945907934466066,
          -0.01812635633048244,
          -0.42870107832880905,
          -0.14583236585484136,
          -1.9112885076025667,
          -0.6064194759449073,
          -0.5831693992001507,
          -0.9885022195286823,
          -1.319588708902828,
          0.16146923595796253,
          -0.28246046695644217,
          -0.7714040710560138,
          0.5847383075181828,
          0.19107611317750492,
          -0.6526040938222579,
          0.5699402612438804,
          -0.9911031656265455,
          1.6493934330272855,
          1.9039049563987207,
          1.218355914745771,
          -0.494984884549906,
          0.11678360950276127,
          -1.2146187590914483,
          -1.1476654603988559,
          -0.6451013537990224,
          -0.9089642937379179,
          -0.3107932934346349,
          0.1431930390443773,
          0.49590287215018686,
          0.4685352804531265,
          0.10806855993380053,
          0.986890513730406,
          0.7865424288418571,
          -1.2351640606494476,
          -2.02351966824216,
          -1.370146862511068,
          -1.3253039883938387,
          -1.184340482150768,
          -0.5064055507257907,
          -3.1134408477432705,
          -1.3748114148134778,
          0.9623455167657223,
          0.15572759045814794,
          0.019438510421546488,
          -0.756212056642985,
          1.0393078996740457,
          1.283603086621441,
          0.013246115306398687,
          0.07988076305174152,
          1.7490019784053388,
          -0.9381427033010681,
          -0.7346416378276212,
          1.6403942432066971,
          -0.3292907770726725,
          0.6890521545829256,
          -1.1228315951030374,
          -0.25605505749699964,
          -0.16944549777624168,
          1.46716671061314,
          -0.18662380589638208,
          -1.7553469955013234,
          -0.1186070548456802,
          1.3868762776821497
         ],
         "yaxis": "y8"
        },
        {
         "line": {
          "color": "rgba(128, 128, 128, 1.0)",
          "dash": "solid",
          "shape": "linear",
          "width": 1.3
         },
         "marker": {
          "size": 2,
          "symbol": "circle"
         },
         "mode": "markers",
         "name": "C",
         "text": "",
         "type": "scatter",
         "x": [
          0.3464195938218623,
          1.2191331189779477,
          -1.566198556307964,
          0.46573085450095364,
          -0.15261785777811135,
          -0.8028457730946738,
          -1.2939789962191617,
          -0.6418087219226248,
          1.9109107394573086,
          -0.7984950981964833,
          0.37572064407586353,
          0.10804546809227975,
          -0.2955939166246089,
          0.6668013724677774,
          1.606777904150411,
          0.18473563502452545,
          -0.21514032491554505,
          -0.2776151300214792,
          0.8398510702601665,
          -0.17787273295740644,
          1.8394677466697062,
          -0.6830318073232281,
          1.1910043748570203,
          -0.06296070100823661,
          0.3893011193237392,
          -0.5418276224573682,
          0.1456421026340764,
          1.3478116660010542,
          1.3398140902363653,
          0.17909770396651062,
          -0.7347774212014662,
          -0.664509282045416,
          1.9958932346583351,
          0.06464239428800038,
          -0.17331233101528445,
          -1.5199911226136043,
          -0.011764777467682862,
          -0.22961655060029354,
          0.8344144539000332,
          -0.6252542380202118,
          -0.35722719110995915,
          1.4681106315488035,
          -0.972833984774363,
          -1.3185876357784978,
          0.8369173852064116,
          -0.7203822787149038,
          0.5391211086088187,
          0.40930127362148827,
          1.3305953798884078,
          0.7875773751444973,
          0.24411739461868534,
          -0.08843505642188325,
          0.268342155604911,
          0.053365885727759556,
          -0.027406353957162198,
          -0.542478529849032,
          0.6176151365107044,
          -0.18176398391036097,
          -0.2045336720258062,
          0.32644055801113225,
          0.5569115331629004,
          0.4709120552818683,
          -0.5511771984791615,
          0.38672288804052146,
          0.49369878628381486,
          0.8742747551276879,
          -0.7728036843643227,
          -0.5316316557408409,
          -0.019359629269128015,
          -0.43540839748513804,
          2.193864246093326,
          0.7071061333240987,
          -0.6738965948167931,
          2.3946971136177124,
          1.2529062193552296,
          1.0214426121109126,
          -0.18054114299205762,
          -1.848921966805281,
          1.3846982722939123,
          0.37389409884423136,
          -0.5518891745455325,
          -0.812964815588062,
          -0.1445860029165156,
          0.5976439474074358,
          -0.031143888839414168,
          1.288640608161686,
          -1.3760544674922424,
          0.9963133082520479,
          0.9751556082817852,
          -0.07231954115489966,
          -0.36525133427411105,
          0.8539810900777741,
          -0.5593653152080624,
          1.6784765782994218,
          1.49764233252627,
          -0.8623001565375716,
          -0.7415847178841932,
          1.1902930047966387,
          0.5729387527499807,
          -0.2143483560074946
         ],
         "xaxis": "x9",
         "y": [
          0.14358159005220242,
          0.2920812719560736,
          0.4034545189350478,
          1.1846433872331292,
          0.319242774725028,
          -1.0378007174169739,
          0.8566005112545779,
          1.230587387035751,
          -0.6904449421321213,
          0.5977777507201271,
          -0.2957408276879956,
          -1.2495092936375563,
          1.6656398714796146,
          -0.3446167923977057,
          -1.254503270950624,
          -1.1388161689544005,
          -0.1717411579167247,
          1.337329782119376,
          -1.6571968313842216,
          0.395304398552172,
          0.3331717998492536,
          1.027506271028855,
          1.6474630147154348,
          0.3976627652729076,
          0.407886600933332,
          -0.5530433271104201,
          1.0332177544732484,
          0.86768325022945,
          -0.3279844909807892,
          0.3341765602344462,
          -1.3314901096554927,
          0.09517340058130781,
          0.414233914581945,
          0.008258261866098746,
          -1.2358266866438095,
          -0.051510801020062245,
          -1.1018971303963652,
          -0.015386259776738126,
          -1.2133402799715634,
          0.7238599629917095,
          -0.39130890290694187,
          0.4279914942549863,
          -0.20925301904311044,
          -0.07715446690954722,
          -0.5219958922492965,
          0.5971498071391562,
          -0.5679311029386973,
          -0.6379609701710316,
          -0.008311692620811812,
          -1.3357400359256055,
          0.36352824933081623,
          -1.0139147273562739,
          -0.8276356994707972,
          -1.0139657015110843,
          0.9348172455435725,
          0.7346190521865691,
          0.32389401870404105,
          0.3890011873245929,
          0.5842398951563093,
          -0.025820761777430607,
          -0.6520353470200743,
          -0.1957954163288069,
          -0.8525926967078836,
          0.24534399615516964,
          0.6447632757277592,
          0.2444416159774107,
          0.6885672298514097,
          0.14182452610579782,
          -0.8383124174831217,
          -0.5256271659891929,
          0.7474320776428933,
          0.5498407131196493,
          0.4326392632653981,
          -1.0041028281208184,
          -0.023836964615872768,
          -0.5842708332074602,
          -1.3655332884624836,
          -0.7016652237620963,
          -0.2544652796566522,
          -0.9696356130351645,
          -0.16816395858146188,
          0.12710783669496098,
          -0.8217755283837832,
          0.7570671870362776,
          2.5475431730589433,
          -0.2276466929232567,
          0.4669050820081747,
          0.3904063276011235,
          0.6397549748807329,
          1.2479494093044476,
          -0.3393342010587006,
          0.02345841570658886,
          -0.5581521817674187,
          0.07108629812707043,
          0.13841439096535338,
          -0.3076131842355114,
          -0.44813213779990757,
          -0.7341619613796643,
          -1.0667492318297769,
          0.7541483808510677
         ],
         "yaxis": "y9"
        },
        {
         "line": {
          "color": "rgba(128, 128, 128, 1.0)",
          "dash": "solid",
          "shape": "linear",
          "width": 1.3
         },
         "marker": {
          "size": 2,
          "symbol": "circle"
         },
         "mode": "markers",
         "name": "C",
         "text": "",
         "type": "scatter",
         "x": [
          -0.020590181209793654,
          0.5423503125602855,
          -0.8787354341663304,
          -0.4895306549248174,
          -0.48541537247821465,
          -1.1581842623847438,
          -0.2769367387336216,
          0.03311436155705231,
          1.6024816506045834,
          1.0831480858882039,
          -1.0072890793929596,
          1.6632133708190122,
          -0.10794673509633486,
          0.45432131136859577,
          -0.22565078146614284,
          0.45507286942503267,
          0.17974586396275005,
          -2.0175017586254036,
          1.2707085867867112,
          0.8107153806972188,
          1.3683894902998583,
          0.6721722990716655,
          -1.3053183578006817,
          0.5690108539109617,
          1.0528361089049871,
          -0.9946211425344996,
          0.13209780322860354,
          0.5975237600550157,
          -0.3990103367235594,
          0.8544023703785645,
          -0.3652754198522442,
          -0.9394329209739792,
          -1.8247763232964613,
          1.387400472070589,
          -0.6172006358456033,
          0.28514310772208395,
          -0.9194137609477232,
          -1.0945907934466066,
          -0.01812635633048244,
          -0.42870107832880905,
          -0.14583236585484136,
          -1.9112885076025667,
          -0.6064194759449073,
          -0.5831693992001507,
          -0.9885022195286823,
          -1.319588708902828,
          0.16146923595796253,
          -0.28246046695644217,
          -0.7714040710560138,
          0.5847383075181828,
          0.19107611317750492,
          -0.6526040938222579,
          0.5699402612438804,
          -0.9911031656265455,
          1.6493934330272855,
          1.9039049563987207,
          1.218355914745771,
          -0.494984884549906,
          0.11678360950276127,
          -1.2146187590914483,
          -1.1476654603988559,
          -0.6451013537990224,
          -0.9089642937379179,
          -0.3107932934346349,
          0.1431930390443773,
          0.49590287215018686,
          0.4685352804531265,
          0.10806855993380053,
          0.986890513730406,
          0.7865424288418571,
          -1.2351640606494476,
          -2.02351966824216,
          -1.370146862511068,
          -1.3253039883938387,
          -1.184340482150768,
          -0.5064055507257907,
          -3.1134408477432705,
          -1.3748114148134778,
          0.9623455167657223,
          0.15572759045814794,
          0.019438510421546488,
          -0.756212056642985,
          1.0393078996740457,
          1.283603086621441,
          0.013246115306398687,
          0.07988076305174152,
          1.7490019784053388,
          -0.9381427033010681,
          -0.7346416378276212,
          1.6403942432066971,
          -0.3292907770726725,
          0.6890521545829256,
          -1.1228315951030374,
          -0.25605505749699964,
          -0.16944549777624168,
          1.46716671061314,
          -0.18662380589638208,
          -1.7553469955013234,
          -0.1186070548456802,
          1.3868762776821497
         ],
         "xaxis": "x10",
         "y": [
          0.14358159005220242,
          0.2920812719560736,
          0.4034545189350478,
          1.1846433872331292,
          0.319242774725028,
          -1.0378007174169739,
          0.8566005112545779,
          1.230587387035751,
          -0.6904449421321213,
          0.5977777507201271,
          -0.2957408276879956,
          -1.2495092936375563,
          1.6656398714796146,
          -0.3446167923977057,
          -1.254503270950624,
          -1.1388161689544005,
          -0.1717411579167247,
          1.337329782119376,
          -1.6571968313842216,
          0.395304398552172,
          0.3331717998492536,
          1.027506271028855,
          1.6474630147154348,
          0.3976627652729076,
          0.407886600933332,
          -0.5530433271104201,
          1.0332177544732484,
          0.86768325022945,
          -0.3279844909807892,
          0.3341765602344462,
          -1.3314901096554927,
          0.09517340058130781,
          0.414233914581945,
          0.008258261866098746,
          -1.2358266866438095,
          -0.051510801020062245,
          -1.1018971303963652,
          -0.015386259776738126,
          -1.2133402799715634,
          0.7238599629917095,
          -0.39130890290694187,
          0.4279914942549863,
          -0.20925301904311044,
          -0.07715446690954722,
          -0.5219958922492965,
          0.5971498071391562,
          -0.5679311029386973,
          -0.6379609701710316,
          -0.008311692620811812,
          -1.3357400359256055,
          0.36352824933081623,
          -1.0139147273562739,
          -0.8276356994707972,
          -1.0139657015110843,
          0.9348172455435725,
          0.7346190521865691,
          0.32389401870404105,
          0.3890011873245929,
          0.5842398951563093,
          -0.025820761777430607,
          -0.6520353470200743,
          -0.1957954163288069,
          -0.8525926967078836,
          0.24534399615516964,
          0.6447632757277592,
          0.2444416159774107,
          0.6885672298514097,
          0.14182452610579782,
          -0.8383124174831217,
          -0.5256271659891929,
          0.7474320776428933,
          0.5498407131196493,
          0.4326392632653981,
          -1.0041028281208184,
          -0.023836964615872768,
          -0.5842708332074602,
          -1.3655332884624836,
          -0.7016652237620963,
          -0.2544652796566522,
          -0.9696356130351645,
          -0.16816395858146188,
          0.12710783669496098,
          -0.8217755283837832,
          0.7570671870362776,
          2.5475431730589433,
          -0.2276466929232567,
          0.4669050820081747,
          0.3904063276011235,
          0.6397549748807329,
          1.2479494093044476,
          -0.3393342010587006,
          0.02345841570658886,
          -0.5581521817674187,
          0.07108629812707043,
          0.13841439096535338,
          -0.3076131842355114,
          -0.44813213779990757,
          -0.7341619613796643,
          -1.0667492318297769,
          0.7541483808510677
         ],
         "yaxis": "y10"
        },
        {
         "histfunc": "count",
         "histnorm": "",
         "marker": {
          "color": "rgba(50, 171, 96, 1.0)",
          "line": {
           "color": "#4D5663",
           "width": 1.3
          }
         },
         "name": "C",
         "nbinsx": 10,
         "opacity": 0.8,
         "orientation": "v",
         "type": "histogram",
         "x": [
          0.14358159005220242,
          0.2920812719560736,
          0.4034545189350478,
          1.1846433872331292,
          0.319242774725028,
          -1.0378007174169739,
          0.8566005112545779,
          1.230587387035751,
          -0.6904449421321213,
          0.5977777507201271,
          -0.2957408276879956,
          -1.2495092936375563,
          1.6656398714796146,
          -0.3446167923977057,
          -1.254503270950624,
          -1.1388161689544005,
          -0.1717411579167247,
          1.337329782119376,
          -1.6571968313842216,
          0.395304398552172,
          0.3331717998492536,
          1.027506271028855,
          1.6474630147154348,
          0.3976627652729076,
          0.407886600933332,
          -0.5530433271104201,
          1.0332177544732484,
          0.86768325022945,
          -0.3279844909807892,
          0.3341765602344462,
          -1.3314901096554927,
          0.09517340058130781,
          0.414233914581945,
          0.008258261866098746,
          -1.2358266866438095,
          -0.051510801020062245,
          -1.1018971303963652,
          -0.015386259776738126,
          -1.2133402799715634,
          0.7238599629917095,
          -0.39130890290694187,
          0.4279914942549863,
          -0.20925301904311044,
          -0.07715446690954722,
          -0.5219958922492965,
          0.5971498071391562,
          -0.5679311029386973,
          -0.6379609701710316,
          -0.008311692620811812,
          -1.3357400359256055,
          0.36352824933081623,
          -1.0139147273562739,
          -0.8276356994707972,
          -1.0139657015110843,
          0.9348172455435725,
          0.7346190521865691,
          0.32389401870404105,
          0.3890011873245929,
          0.5842398951563093,
          -0.025820761777430607,
          -0.6520353470200743,
          -0.1957954163288069,
          -0.8525926967078836,
          0.24534399615516964,
          0.6447632757277592,
          0.2444416159774107,
          0.6885672298514097,
          0.14182452610579782,
          -0.8383124174831217,
          -0.5256271659891929,
          0.7474320776428933,
          0.5498407131196493,
          0.4326392632653981,
          -1.0041028281208184,
          -0.023836964615872768,
          -0.5842708332074602,
          -1.3655332884624836,
          -0.7016652237620963,
          -0.2544652796566522,
          -0.9696356130351645,
          -0.16816395858146188,
          0.12710783669496098,
          -0.8217755283837832,
          0.7570671870362776,
          2.5475431730589433,
          -0.2276466929232567,
          0.4669050820081747,
          0.3904063276011235,
          0.6397549748807329,
          1.2479494093044476,
          -0.3393342010587006,
          0.02345841570658886,
          -0.5581521817674187,
          0.07108629812707043,
          0.13841439096535338,
          -0.3076131842355114,
          -0.44813213779990757,
          -0.7341619613796643,
          -1.0667492318297769,
          0.7541483808510677
         ],
         "xaxis": "x11",
         "yaxis": "y11"
        },
        {
         "line": {
          "color": "rgba(128, 128, 128, 1.0)",
          "dash": "solid",
          "shape": "linear",
          "width": 1.3
         },
         "marker": {
          "size": 2,
          "symbol": "circle"
         },
         "mode": "markers",
         "name": "C",
         "text": "",
         "type": "scatter",
         "x": [
          -1.1118640049651034,
          0.1491406043116301,
          -1.2221106374241755,
          -1.6875795839754855,
          -0.7558177324260064,
          -1.6337871211050123,
          0.22261233323591775,
          0.7915733560199928,
          1.6896287071492586,
          -0.1975697108903575,
          -1.8948362657753854,
          -0.2541235158529231,
          0.03661794809435186,
          0.7548769352154293,
          0.42547738622571923,
          0.46165798801264835,
          0.007295368926671065,
          0.891055630096048,
          0.24386729392890943,
          0.8307255191948365,
          0.35626459418787493,
          2.1578145958004145,
          -2.058911680464687,
          -0.27284665675569436,
          -0.15770271572799424,
          1.5033000533442646,
          -0.7496941979711484,
          0.8514411005089376,
          -0.3916152705357473,
          0.22689570064360143,
          -0.2197162949623533,
          -0.16579621986256468,
          1.7299343666421136,
          1.253065148652142,
          1.210314349675132,
          -0.44295688764545177,
          0.7521680139399465,
          -0.2674260111881133,
          1.7902607882569215,
          -1.2912637225126222,
          1.1762596418399858,
          0.3680637408772415,
          1.1759519499772664,
          -0.2752043603187563,
          0.1024792184516914,
          -0.5941545257254696,
          0.9489352620540739,
          -1.062895402760241,
          -1.0567115215569716,
          -2.3587912906105832,
          2.9653750929051372,
          -0.27421247498910417,
          -0.328514053729911,
          0.5734230922653505,
          -0.0607092670338549,
          1.1704828032581003,
          1.354998594411703,
          -0.6567767998847259,
          -0.10265296524401771,
          -0.27134167423686395,
          1.5412502872780447,
          0.5781757038302135,
          1.2224550744752862,
          -0.08639304752669724,
          0.9262617313935608,
          0.22324901110438788,
          -1.7744853454310123,
          1.1817122408866545,
          -0.5286257010564885,
          -2.7180104539156384,
          -1.0045558820687108,
          -1.1008071985316823,
          0.4275954953925082,
          -0.32492381688521127,
          -1.0280063715123986,
          0.23787612180794981,
          0.18686310544658025,
          -0.3497955317388221,
          -0.09738618475432757,
          -1.2290276943037652,
          0.5875304076931959,
          0.8814182541543529,
          -0.6781089026484597,
          -0.7373594071213471,
          1.115607766095368,
          0.12888807541459482,
          -0.8158561577836921,
          -0.5940310396993876,
          -0.5291881868373929,
          -0.5751787198636337,
          0.5108329935769008,
          1.2067401728845797,
          -1.4220280600408528,
          -0.24726913124166838,
          -0.14727165533210312,
          0.4513601251105589,
          0.7331496085916595,
          0.8068582051299986,
          0.8857024956321218,
          -0.3926293025656279
         ],
         "xaxis": "x12",
         "y": [
          0.14358159005220242,
          0.2920812719560736,
          0.4034545189350478,
          1.1846433872331292,
          0.319242774725028,
          -1.0378007174169739,
          0.8566005112545779,
          1.230587387035751,
          -0.6904449421321213,
          0.5977777507201271,
          -0.2957408276879956,
          -1.2495092936375563,
          1.6656398714796146,
          -0.3446167923977057,
          -1.254503270950624,
          -1.1388161689544005,
          -0.1717411579167247,
          1.337329782119376,
          -1.6571968313842216,
          0.395304398552172,
          0.3331717998492536,
          1.027506271028855,
          1.6474630147154348,
          0.3976627652729076,
          0.407886600933332,
          -0.5530433271104201,
          1.0332177544732484,
          0.86768325022945,
          -0.3279844909807892,
          0.3341765602344462,
          -1.3314901096554927,
          0.09517340058130781,
          0.414233914581945,
          0.008258261866098746,
          -1.2358266866438095,
          -0.051510801020062245,
          -1.1018971303963652,
          -0.015386259776738126,
          -1.2133402799715634,
          0.7238599629917095,
          -0.39130890290694187,
          0.4279914942549863,
          -0.20925301904311044,
          -0.07715446690954722,
          -0.5219958922492965,
          0.5971498071391562,
          -0.5679311029386973,
          -0.6379609701710316,
          -0.008311692620811812,
          -1.3357400359256055,
          0.36352824933081623,
          -1.0139147273562739,
          -0.8276356994707972,
          -1.0139657015110843,
          0.9348172455435725,
          0.7346190521865691,
          0.32389401870404105,
          0.3890011873245929,
          0.5842398951563093,
          -0.025820761777430607,
          -0.6520353470200743,
          -0.1957954163288069,
          -0.8525926967078836,
          0.24534399615516964,
          0.6447632757277592,
          0.2444416159774107,
          0.6885672298514097,
          0.14182452610579782,
          -0.8383124174831217,
          -0.5256271659891929,
          0.7474320776428933,
          0.5498407131196493,
          0.4326392632653981,
          -1.0041028281208184,
          -0.023836964615872768,
          -0.5842708332074602,
          -1.3655332884624836,
          -0.7016652237620963,
          -0.2544652796566522,
          -0.9696356130351645,
          -0.16816395858146188,
          0.12710783669496098,
          -0.8217755283837832,
          0.7570671870362776,
          2.5475431730589433,
          -0.2276466929232567,
          0.4669050820081747,
          0.3904063276011235,
          0.6397549748807329,
          1.2479494093044476,
          -0.3393342010587006,
          0.02345841570658886,
          -0.5581521817674187,
          0.07108629812707043,
          0.13841439096535338,
          -0.3076131842355114,
          -0.44813213779990757,
          -0.7341619613796643,
          -1.0667492318297769,
          0.7541483808510677
         ],
         "yaxis": "y12"
        },
        {
         "line": {
          "color": "rgba(128, 128, 128, 1.0)",
          "dash": "solid",
          "shape": "linear",
          "width": 1.3
         },
         "marker": {
          "size": 2,
          "symbol": "circle"
         },
         "mode": "markers",
         "name": "D",
         "text": "",
         "type": "scatter",
         "x": [
          0.3464195938218623,
          1.2191331189779477,
          -1.566198556307964,
          0.46573085450095364,
          -0.15261785777811135,
          -0.8028457730946738,
          -1.2939789962191617,
          -0.6418087219226248,
          1.9109107394573086,
          -0.7984950981964833,
          0.37572064407586353,
          0.10804546809227975,
          -0.2955939166246089,
          0.6668013724677774,
          1.606777904150411,
          0.18473563502452545,
          -0.21514032491554505,
          -0.2776151300214792,
          0.8398510702601665,
          -0.17787273295740644,
          1.8394677466697062,
          -0.6830318073232281,
          1.1910043748570203,
          -0.06296070100823661,
          0.3893011193237392,
          -0.5418276224573682,
          0.1456421026340764,
          1.3478116660010542,
          1.3398140902363653,
          0.17909770396651062,
          -0.7347774212014662,
          -0.664509282045416,
          1.9958932346583351,
          0.06464239428800038,
          -0.17331233101528445,
          -1.5199911226136043,
          -0.011764777467682862,
          -0.22961655060029354,
          0.8344144539000332,
          -0.6252542380202118,
          -0.35722719110995915,
          1.4681106315488035,
          -0.972833984774363,
          -1.3185876357784978,
          0.8369173852064116,
          -0.7203822787149038,
          0.5391211086088187,
          0.40930127362148827,
          1.3305953798884078,
          0.7875773751444973,
          0.24411739461868534,
          -0.08843505642188325,
          0.268342155604911,
          0.053365885727759556,
          -0.027406353957162198,
          -0.542478529849032,
          0.6176151365107044,
          -0.18176398391036097,
          -0.2045336720258062,
          0.32644055801113225,
          0.5569115331629004,
          0.4709120552818683,
          -0.5511771984791615,
          0.38672288804052146,
          0.49369878628381486,
          0.8742747551276879,
          -0.7728036843643227,
          -0.5316316557408409,
          -0.019359629269128015,
          -0.43540839748513804,
          2.193864246093326,
          0.7071061333240987,
          -0.6738965948167931,
          2.3946971136177124,
          1.2529062193552296,
          1.0214426121109126,
          -0.18054114299205762,
          -1.848921966805281,
          1.3846982722939123,
          0.37389409884423136,
          -0.5518891745455325,
          -0.812964815588062,
          -0.1445860029165156,
          0.5976439474074358,
          -0.031143888839414168,
          1.288640608161686,
          -1.3760544674922424,
          0.9963133082520479,
          0.9751556082817852,
          -0.07231954115489966,
          -0.36525133427411105,
          0.8539810900777741,
          -0.5593653152080624,
          1.6784765782994218,
          1.49764233252627,
          -0.8623001565375716,
          -0.7415847178841932,
          1.1902930047966387,
          0.5729387527499807,
          -0.2143483560074946
         ],
         "xaxis": "x13",
         "y": [
          -1.1118640049651034,
          0.1491406043116301,
          -1.2221106374241755,
          -1.6875795839754855,
          -0.7558177324260064,
          -1.6337871211050123,
          0.22261233323591775,
          0.7915733560199928,
          1.6896287071492586,
          -0.1975697108903575,
          -1.8948362657753854,
          -0.2541235158529231,
          0.03661794809435186,
          0.7548769352154293,
          0.42547738622571923,
          0.46165798801264835,
          0.007295368926671065,
          0.891055630096048,
          0.24386729392890943,
          0.8307255191948365,
          0.35626459418787493,
          2.1578145958004145,
          -2.058911680464687,
          -0.27284665675569436,
          -0.15770271572799424,
          1.5033000533442646,
          -0.7496941979711484,
          0.8514411005089376,
          -0.3916152705357473,
          0.22689570064360143,
          -0.2197162949623533,
          -0.16579621986256468,
          1.7299343666421136,
          1.253065148652142,
          1.210314349675132,
          -0.44295688764545177,
          0.7521680139399465,
          -0.2674260111881133,
          1.7902607882569215,
          -1.2912637225126222,
          1.1762596418399858,
          0.3680637408772415,
          1.1759519499772664,
          -0.2752043603187563,
          0.1024792184516914,
          -0.5941545257254696,
          0.9489352620540739,
          -1.062895402760241,
          -1.0567115215569716,
          -2.3587912906105832,
          2.9653750929051372,
          -0.27421247498910417,
          -0.328514053729911,
          0.5734230922653505,
          -0.0607092670338549,
          1.1704828032581003,
          1.354998594411703,
          -0.6567767998847259,
          -0.10265296524401771,
          -0.27134167423686395,
          1.5412502872780447,
          0.5781757038302135,
          1.2224550744752862,
          -0.08639304752669724,
          0.9262617313935608,
          0.22324901110438788,
          -1.7744853454310123,
          1.1817122408866545,
          -0.5286257010564885,
          -2.7180104539156384,
          -1.0045558820687108,
          -1.1008071985316823,
          0.4275954953925082,
          -0.32492381688521127,
          -1.0280063715123986,
          0.23787612180794981,
          0.18686310544658025,
          -0.3497955317388221,
          -0.09738618475432757,
          -1.2290276943037652,
          0.5875304076931959,
          0.8814182541543529,
          -0.6781089026484597,
          -0.7373594071213471,
          1.115607766095368,
          0.12888807541459482,
          -0.8158561577836921,
          -0.5940310396993876,
          -0.5291881868373929,
          -0.5751787198636337,
          0.5108329935769008,
          1.2067401728845797,
          -1.4220280600408528,
          -0.24726913124166838,
          -0.14727165533210312,
          0.4513601251105589,
          0.7331496085916595,
          0.8068582051299986,
          0.8857024956321218,
          -0.3926293025656279
         ],
         "yaxis": "y13"
        },
        {
         "line": {
          "color": "rgba(128, 128, 128, 1.0)",
          "dash": "solid",
          "shape": "linear",
          "width": 1.3
         },
         "marker": {
          "size": 2,
          "symbol": "circle"
         },
         "mode": "markers",
         "name": "D",
         "text": "",
         "type": "scatter",
         "x": [
          -0.020590181209793654,
          0.5423503125602855,
          -0.8787354341663304,
          -0.4895306549248174,
          -0.48541537247821465,
          -1.1581842623847438,
          -0.2769367387336216,
          0.03311436155705231,
          1.6024816506045834,
          1.0831480858882039,
          -1.0072890793929596,
          1.6632133708190122,
          -0.10794673509633486,
          0.45432131136859577,
          -0.22565078146614284,
          0.45507286942503267,
          0.17974586396275005,
          -2.0175017586254036,
          1.2707085867867112,
          0.8107153806972188,
          1.3683894902998583,
          0.6721722990716655,
          -1.3053183578006817,
          0.5690108539109617,
          1.0528361089049871,
          -0.9946211425344996,
          0.13209780322860354,
          0.5975237600550157,
          -0.3990103367235594,
          0.8544023703785645,
          -0.3652754198522442,
          -0.9394329209739792,
          -1.8247763232964613,
          1.387400472070589,
          -0.6172006358456033,
          0.28514310772208395,
          -0.9194137609477232,
          -1.0945907934466066,
          -0.01812635633048244,
          -0.42870107832880905,
          -0.14583236585484136,
          -1.9112885076025667,
          -0.6064194759449073,
          -0.5831693992001507,
          -0.9885022195286823,
          -1.319588708902828,
          0.16146923595796253,
          -0.28246046695644217,
          -0.7714040710560138,
          0.5847383075181828,
          0.19107611317750492,
          -0.6526040938222579,
          0.5699402612438804,
          -0.9911031656265455,
          1.6493934330272855,
          1.9039049563987207,
          1.218355914745771,
          -0.494984884549906,
          0.11678360950276127,
          -1.2146187590914483,
          -1.1476654603988559,
          -0.6451013537990224,
          -0.9089642937379179,
          -0.3107932934346349,
          0.1431930390443773,
          0.49590287215018686,
          0.4685352804531265,
          0.10806855993380053,
          0.986890513730406,
          0.7865424288418571,
          -1.2351640606494476,
          -2.02351966824216,
          -1.370146862511068,
          -1.3253039883938387,
          -1.184340482150768,
          -0.5064055507257907,
          -3.1134408477432705,
          -1.3748114148134778,
          0.9623455167657223,
          0.15572759045814794,
          0.019438510421546488,
          -0.756212056642985,
          1.0393078996740457,
          1.283603086621441,
          0.013246115306398687,
          0.07988076305174152,
          1.7490019784053388,
          -0.9381427033010681,
          -0.7346416378276212,
          1.6403942432066971,
          -0.3292907770726725,
          0.6890521545829256,
          -1.1228315951030374,
          -0.25605505749699964,
          -0.16944549777624168,
          1.46716671061314,
          -0.18662380589638208,
          -1.7553469955013234,
          -0.1186070548456802,
          1.3868762776821497
         ],
         "xaxis": "x14",
         "y": [
          -1.1118640049651034,
          0.1491406043116301,
          -1.2221106374241755,
          -1.6875795839754855,
          -0.7558177324260064,
          -1.6337871211050123,
          0.22261233323591775,
          0.7915733560199928,
          1.6896287071492586,
          -0.1975697108903575,
          -1.8948362657753854,
          -0.2541235158529231,
          0.03661794809435186,
          0.7548769352154293,
          0.42547738622571923,
          0.46165798801264835,
          0.007295368926671065,
          0.891055630096048,
          0.24386729392890943,
          0.8307255191948365,
          0.35626459418787493,
          2.1578145958004145,
          -2.058911680464687,
          -0.27284665675569436,
          -0.15770271572799424,
          1.5033000533442646,
          -0.7496941979711484,
          0.8514411005089376,
          -0.3916152705357473,
          0.22689570064360143,
          -0.2197162949623533,
          -0.16579621986256468,
          1.7299343666421136,
          1.253065148652142,
          1.210314349675132,
          -0.44295688764545177,
          0.7521680139399465,
          -0.2674260111881133,
          1.7902607882569215,
          -1.2912637225126222,
          1.1762596418399858,
          0.3680637408772415,
          1.1759519499772664,
          -0.2752043603187563,
          0.1024792184516914,
          -0.5941545257254696,
          0.9489352620540739,
          -1.062895402760241,
          -1.0567115215569716,
          -2.3587912906105832,
          2.9653750929051372,
          -0.27421247498910417,
          -0.328514053729911,
          0.5734230922653505,
          -0.0607092670338549,
          1.1704828032581003,
          1.354998594411703,
          -0.6567767998847259,
          -0.10265296524401771,
          -0.27134167423686395,
          1.5412502872780447,
          0.5781757038302135,
          1.2224550744752862,
          -0.08639304752669724,
          0.9262617313935608,
          0.22324901110438788,
          -1.7744853454310123,
          1.1817122408866545,
          -0.5286257010564885,
          -2.7180104539156384,
          -1.0045558820687108,
          -1.1008071985316823,
          0.4275954953925082,
          -0.32492381688521127,
          -1.0280063715123986,
          0.23787612180794981,
          0.18686310544658025,
          -0.3497955317388221,
          -0.09738618475432757,
          -1.2290276943037652,
          0.5875304076931959,
          0.8814182541543529,
          -0.6781089026484597,
          -0.7373594071213471,
          1.115607766095368,
          0.12888807541459482,
          -0.8158561577836921,
          -0.5940310396993876,
          -0.5291881868373929,
          -0.5751787198636337,
          0.5108329935769008,
          1.2067401728845797,
          -1.4220280600408528,
          -0.24726913124166838,
          -0.14727165533210312,
          0.4513601251105589,
          0.7331496085916595,
          0.8068582051299986,
          0.8857024956321218,
          -0.3926293025656279
         ],
         "yaxis": "y14"
        },
        {
         "line": {
          "color": "rgba(128, 128, 128, 1.0)",
          "dash": "solid",
          "shape": "linear",
          "width": 1.3
         },
         "marker": {
          "size": 2,
          "symbol": "circle"
         },
         "mode": "markers",
         "name": "D",
         "text": "",
         "type": "scatter",
         "x": [
          0.14358159005220242,
          0.2920812719560736,
          0.4034545189350478,
          1.1846433872331292,
          0.319242774725028,
          -1.0378007174169739,
          0.8566005112545779,
          1.230587387035751,
          -0.6904449421321213,
          0.5977777507201271,
          -0.2957408276879956,
          -1.2495092936375563,
          1.6656398714796146,
          -0.3446167923977057,
          -1.254503270950624,
          -1.1388161689544005,
          -0.1717411579167247,
          1.337329782119376,
          -1.6571968313842216,
          0.395304398552172,
          0.3331717998492536,
          1.027506271028855,
          1.6474630147154348,
          0.3976627652729076,
          0.407886600933332,
          -0.5530433271104201,
          1.0332177544732484,
          0.86768325022945,
          -0.3279844909807892,
          0.3341765602344462,
          -1.3314901096554927,
          0.09517340058130781,
          0.414233914581945,
          0.008258261866098746,
          -1.2358266866438095,
          -0.051510801020062245,
          -1.1018971303963652,
          -0.015386259776738126,
          -1.2133402799715634,
          0.7238599629917095,
          -0.39130890290694187,
          0.4279914942549863,
          -0.20925301904311044,
          -0.07715446690954722,
          -0.5219958922492965,
          0.5971498071391562,
          -0.5679311029386973,
          -0.6379609701710316,
          -0.008311692620811812,
          -1.3357400359256055,
          0.36352824933081623,
          -1.0139147273562739,
          -0.8276356994707972,
          -1.0139657015110843,
          0.9348172455435725,
          0.7346190521865691,
          0.32389401870404105,
          0.3890011873245929,
          0.5842398951563093,
          -0.025820761777430607,
          -0.6520353470200743,
          -0.1957954163288069,
          -0.8525926967078836,
          0.24534399615516964,
          0.6447632757277592,
          0.2444416159774107,
          0.6885672298514097,
          0.14182452610579782,
          -0.8383124174831217,
          -0.5256271659891929,
          0.7474320776428933,
          0.5498407131196493,
          0.4326392632653981,
          -1.0041028281208184,
          -0.023836964615872768,
          -0.5842708332074602,
          -1.3655332884624836,
          -0.7016652237620963,
          -0.2544652796566522,
          -0.9696356130351645,
          -0.16816395858146188,
          0.12710783669496098,
          -0.8217755283837832,
          0.7570671870362776,
          2.5475431730589433,
          -0.2276466929232567,
          0.4669050820081747,
          0.3904063276011235,
          0.6397549748807329,
          1.2479494093044476,
          -0.3393342010587006,
          0.02345841570658886,
          -0.5581521817674187,
          0.07108629812707043,
          0.13841439096535338,
          -0.3076131842355114,
          -0.44813213779990757,
          -0.7341619613796643,
          -1.0667492318297769,
          0.7541483808510677
         ],
         "xaxis": "x15",
         "y": [
          -1.1118640049651034,
          0.1491406043116301,
          -1.2221106374241755,
          -1.6875795839754855,
          -0.7558177324260064,
          -1.6337871211050123,
          0.22261233323591775,
          0.7915733560199928,
          1.6896287071492586,
          -0.1975697108903575,
          -1.8948362657753854,
          -0.2541235158529231,
          0.03661794809435186,
          0.7548769352154293,
          0.42547738622571923,
          0.46165798801264835,
          0.007295368926671065,
          0.891055630096048,
          0.24386729392890943,
          0.8307255191948365,
          0.35626459418787493,
          2.1578145958004145,
          -2.058911680464687,
          -0.27284665675569436,
          -0.15770271572799424,
          1.5033000533442646,
          -0.7496941979711484,
          0.8514411005089376,
          -0.3916152705357473,
          0.22689570064360143,
          -0.2197162949623533,
          -0.16579621986256468,
          1.7299343666421136,
          1.253065148652142,
          1.210314349675132,
          -0.44295688764545177,
          0.7521680139399465,
          -0.2674260111881133,
          1.7902607882569215,
          -1.2912637225126222,
          1.1762596418399858,
          0.3680637408772415,
          1.1759519499772664,
          -0.2752043603187563,
          0.1024792184516914,
          -0.5941545257254696,
          0.9489352620540739,
          -1.062895402760241,
          -1.0567115215569716,
          -2.3587912906105832,
          2.9653750929051372,
          -0.27421247498910417,
          -0.328514053729911,
          0.5734230922653505,
          -0.0607092670338549,
          1.1704828032581003,
          1.354998594411703,
          -0.6567767998847259,
          -0.10265296524401771,
          -0.27134167423686395,
          1.5412502872780447,
          0.5781757038302135,
          1.2224550744752862,
          -0.08639304752669724,
          0.9262617313935608,
          0.22324901110438788,
          -1.7744853454310123,
          1.1817122408866545,
          -0.5286257010564885,
          -2.7180104539156384,
          -1.0045558820687108,
          -1.1008071985316823,
          0.4275954953925082,
          -0.32492381688521127,
          -1.0280063715123986,
          0.23787612180794981,
          0.18686310544658025,
          -0.3497955317388221,
          -0.09738618475432757,
          -1.2290276943037652,
          0.5875304076931959,
          0.8814182541543529,
          -0.6781089026484597,
          -0.7373594071213471,
          1.115607766095368,
          0.12888807541459482,
          -0.8158561577836921,
          -0.5940310396993876,
          -0.5291881868373929,
          -0.5751787198636337,
          0.5108329935769008,
          1.2067401728845797,
          -1.4220280600408528,
          -0.24726913124166838,
          -0.14727165533210312,
          0.4513601251105589,
          0.7331496085916595,
          0.8068582051299986,
          0.8857024956321218,
          -0.3926293025656279
         ],
         "yaxis": "y15"
        },
        {
         "histfunc": "count",
         "histnorm": "",
         "marker": {
          "color": "rgba(128, 0, 128, 1.0)",
          "line": {
           "color": "#4D5663",
           "width": 1.3
          }
         },
         "name": "D",
         "nbinsx": 10,
         "opacity": 0.8,
         "orientation": "v",
         "type": "histogram",
         "x": [
          -1.1118640049651034,
          0.1491406043116301,
          -1.2221106374241755,
          -1.6875795839754855,
          -0.7558177324260064,
          -1.6337871211050123,
          0.22261233323591775,
          0.7915733560199928,
          1.6896287071492586,
          -0.1975697108903575,
          -1.8948362657753854,
          -0.2541235158529231,
          0.03661794809435186,
          0.7548769352154293,
          0.42547738622571923,
          0.46165798801264835,
          0.007295368926671065,
          0.891055630096048,
          0.24386729392890943,
          0.8307255191948365,
          0.35626459418787493,
          2.1578145958004145,
          -2.058911680464687,
          -0.27284665675569436,
          -0.15770271572799424,
          1.5033000533442646,
          -0.7496941979711484,
          0.8514411005089376,
          -0.3916152705357473,
          0.22689570064360143,
          -0.2197162949623533,
          -0.16579621986256468,
          1.7299343666421136,
          1.253065148652142,
          1.210314349675132,
          -0.44295688764545177,
          0.7521680139399465,
          -0.2674260111881133,
          1.7902607882569215,
          -1.2912637225126222,
          1.1762596418399858,
          0.3680637408772415,
          1.1759519499772664,
          -0.2752043603187563,
          0.1024792184516914,
          -0.5941545257254696,
          0.9489352620540739,
          -1.062895402760241,
          -1.0567115215569716,
          -2.3587912906105832,
          2.9653750929051372,
          -0.27421247498910417,
          -0.328514053729911,
          0.5734230922653505,
          -0.0607092670338549,
          1.1704828032581003,
          1.354998594411703,
          -0.6567767998847259,
          -0.10265296524401771,
          -0.27134167423686395,
          1.5412502872780447,
          0.5781757038302135,
          1.2224550744752862,
          -0.08639304752669724,
          0.9262617313935608,
          0.22324901110438788,
          -1.7744853454310123,
          1.1817122408866545,
          -0.5286257010564885,
          -2.7180104539156384,
          -1.0045558820687108,
          -1.1008071985316823,
          0.4275954953925082,
          -0.32492381688521127,
          -1.0280063715123986,
          0.23787612180794981,
          0.18686310544658025,
          -0.3497955317388221,
          -0.09738618475432757,
          -1.2290276943037652,
          0.5875304076931959,
          0.8814182541543529,
          -0.6781089026484597,
          -0.7373594071213471,
          1.115607766095368,
          0.12888807541459482,
          -0.8158561577836921,
          -0.5940310396993876,
          -0.5291881868373929,
          -0.5751787198636337,
          0.5108329935769008,
          1.2067401728845797,
          -1.4220280600408528,
          -0.24726913124166838,
          -0.14727165533210312,
          0.4513601251105589,
          0.7331496085916595,
          0.8068582051299986,
          0.8857024956321218,
          -0.3926293025656279
         ],
         "xaxis": "x16",
         "yaxis": "y16"
        }
       ],
       "layout": {
        "bargap": 0.02,
        "legend": {
         "bgcolor": "#F5F6F9",
         "font": {
          "color": "#4D5663"
         }
        },
        "paper_bgcolor": "#F5F6F9",
        "plot_bgcolor": "#F5F6F9",
        "showlegend": false,
        "template": {
         "data": {
          "bar": [
           {
            "error_x": {
             "color": "#2a3f5f"
            },
            "error_y": {
             "color": "#2a3f5f"
            },
            "marker": {
             "line": {
              "color": "#E5ECF6",
              "width": 0.5
             }
            },
            "type": "bar"
           }
          ],
          "barpolar": [
           {
            "marker": {
             "line": {
              "color": "#E5ECF6",
              "width": 0.5
             }
            },
            "type": "barpolar"
           }
          ],
          "carpet": [
           {
            "aaxis": {
             "endlinecolor": "#2a3f5f",
             "gridcolor": "white",
             "linecolor": "white",
             "minorgridcolor": "white",
             "startlinecolor": "#2a3f5f"
            },
            "baxis": {
             "endlinecolor": "#2a3f5f",
             "gridcolor": "white",
             "linecolor": "white",
             "minorgridcolor": "white",
             "startlinecolor": "#2a3f5f"
            },
            "type": "carpet"
           }
          ],
          "choropleth": [
           {
            "colorbar": {
             "outlinewidth": 0,
             "ticks": ""
            },
            "type": "choropleth"
           }
          ],
          "contour": [
           {
            "colorbar": {
             "outlinewidth": 0,
             "ticks": ""
            },
            "colorscale": [
             [
              0,
              "#0d0887"
             ],
             [
              0.1111111111111111,
              "#46039f"
             ],
             [
              0.2222222222222222,
              "#7201a8"
             ],
             [
              0.3333333333333333,
              "#9c179e"
             ],
             [
              0.4444444444444444,
              "#bd3786"
             ],
             [
              0.5555555555555556,
              "#d8576b"
             ],
             [
              0.6666666666666666,
              "#ed7953"
             ],
             [
              0.7777777777777778,
              "#fb9f3a"
             ],
             [
              0.8888888888888888,
              "#fdca26"
             ],
             [
              1,
              "#f0f921"
             ]
            ],
            "type": "contour"
           }
          ],
          "contourcarpet": [
           {
            "colorbar": {
             "outlinewidth": 0,
             "ticks": ""
            },
            "type": "contourcarpet"
           }
          ],
          "heatmap": [
           {
            "colorbar": {
             "outlinewidth": 0,
             "ticks": ""
            },
            "colorscale": [
             [
              0,
              "#0d0887"
             ],
             [
              0.1111111111111111,
              "#46039f"
             ],
             [
              0.2222222222222222,
              "#7201a8"
             ],
             [
              0.3333333333333333,
              "#9c179e"
             ],
             [
              0.4444444444444444,
              "#bd3786"
             ],
             [
              0.5555555555555556,
              "#d8576b"
             ],
             [
              0.6666666666666666,
              "#ed7953"
             ],
             [
              0.7777777777777778,
              "#fb9f3a"
             ],
             [
              0.8888888888888888,
              "#fdca26"
             ],
             [
              1,
              "#f0f921"
             ]
            ],
            "type": "heatmap"
           }
          ],
          "heatmapgl": [
           {
            "colorbar": {
             "outlinewidth": 0,
             "ticks": ""
            },
            "colorscale": [
             [
              0,
              "#0d0887"
             ],
             [
              0.1111111111111111,
              "#46039f"
             ],
             [
              0.2222222222222222,
              "#7201a8"
             ],
             [
              0.3333333333333333,
              "#9c179e"
             ],
             [
              0.4444444444444444,
              "#bd3786"
             ],
             [
              0.5555555555555556,
              "#d8576b"
             ],
             [
              0.6666666666666666,
              "#ed7953"
             ],
             [
              0.7777777777777778,
              "#fb9f3a"
             ],
             [
              0.8888888888888888,
              "#fdca26"
             ],
             [
              1,
              "#f0f921"
             ]
            ],
            "type": "heatmapgl"
           }
          ],
          "histogram": [
           {
            "marker": {
             "colorbar": {
              "outlinewidth": 0,
              "ticks": ""
             }
            },
            "type": "histogram"
           }
          ],
          "histogram2d": [
           {
            "colorbar": {
             "outlinewidth": 0,
             "ticks": ""
            },
            "colorscale": [
             [
              0,
              "#0d0887"
             ],
             [
              0.1111111111111111,
              "#46039f"
             ],
             [
              0.2222222222222222,
              "#7201a8"
             ],
             [
              0.3333333333333333,
              "#9c179e"
             ],
             [
              0.4444444444444444,
              "#bd3786"
             ],
             [
              0.5555555555555556,
              "#d8576b"
             ],
             [
              0.6666666666666666,
              "#ed7953"
             ],
             [
              0.7777777777777778,
              "#fb9f3a"
             ],
             [
              0.8888888888888888,
              "#fdca26"
             ],
             [
              1,
              "#f0f921"
             ]
            ],
            "type": "histogram2d"
           }
          ],
          "histogram2dcontour": [
           {
            "colorbar": {
             "outlinewidth": 0,
             "ticks": ""
            },
            "colorscale": [
             [
              0,
              "#0d0887"
             ],
             [
              0.1111111111111111,
              "#46039f"
             ],
             [
              0.2222222222222222,
              "#7201a8"
             ],
             [
              0.3333333333333333,
              "#9c179e"
             ],
             [
              0.4444444444444444,
              "#bd3786"
             ],
             [
              0.5555555555555556,
              "#d8576b"
             ],
             [
              0.6666666666666666,
              "#ed7953"
             ],
             [
              0.7777777777777778,
              "#fb9f3a"
             ],
             [
              0.8888888888888888,
              "#fdca26"
             ],
             [
              1,
              "#f0f921"
             ]
            ],
            "type": "histogram2dcontour"
           }
          ],
          "mesh3d": [
           {
            "colorbar": {
             "outlinewidth": 0,
             "ticks": ""
            },
            "type": "mesh3d"
           }
          ],
          "parcoords": [
           {
            "line": {
             "colorbar": {
              "outlinewidth": 0,
              "ticks": ""
             }
            },
            "type": "parcoords"
           }
          ],
          "pie": [
           {
            "automargin": true,
            "type": "pie"
           }
          ],
          "scatter": [
           {
            "marker": {
             "colorbar": {
              "outlinewidth": 0,
              "ticks": ""
             }
            },
            "type": "scatter"
           }
          ],
          "scatter3d": [
           {
            "line": {
             "colorbar": {
              "outlinewidth": 0,
              "ticks": ""
             }
            },
            "marker": {
             "colorbar": {
              "outlinewidth": 0,
              "ticks": ""
             }
            },
            "type": "scatter3d"
           }
          ],
          "scattercarpet": [
           {
            "marker": {
             "colorbar": {
              "outlinewidth": 0,
              "ticks": ""
             }
            },
            "type": "scattercarpet"
           }
          ],
          "scattergeo": [
           {
            "marker": {
             "colorbar": {
              "outlinewidth": 0,
              "ticks": ""
             }
            },
            "type": "scattergeo"
           }
          ],
          "scattergl": [
           {
            "marker": {
             "colorbar": {
              "outlinewidth": 0,
              "ticks": ""
             }
            },
            "type": "scattergl"
           }
          ],
          "scattermapbox": [
           {
            "marker": {
             "colorbar": {
              "outlinewidth": 0,
              "ticks": ""
             }
            },
            "type": "scattermapbox"
           }
          ],
          "scatterpolar": [
           {
            "marker": {
             "colorbar": {
              "outlinewidth": 0,
              "ticks": ""
             }
            },
            "type": "scatterpolar"
           }
          ],
          "scatterpolargl": [
           {
            "marker": {
             "colorbar": {
              "outlinewidth": 0,
              "ticks": ""
             }
            },
            "type": "scatterpolargl"
           }
          ],
          "scatterternary": [
           {
            "marker": {
             "colorbar": {
              "outlinewidth": 0,
              "ticks": ""
             }
            },
            "type": "scatterternary"
           }
          ],
          "surface": [
           {
            "colorbar": {
             "outlinewidth": 0,
             "ticks": ""
            },
            "colorscale": [
             [
              0,
              "#0d0887"
             ],
             [
              0.1111111111111111,
              "#46039f"
             ],
             [
              0.2222222222222222,
              "#7201a8"
             ],
             [
              0.3333333333333333,
              "#9c179e"
             ],
             [
              0.4444444444444444,
              "#bd3786"
             ],
             [
              0.5555555555555556,
              "#d8576b"
             ],
             [
              0.6666666666666666,
              "#ed7953"
             ],
             [
              0.7777777777777778,
              "#fb9f3a"
             ],
             [
              0.8888888888888888,
              "#fdca26"
             ],
             [
              1,
              "#f0f921"
             ]
            ],
            "type": "surface"
           }
          ],
          "table": [
           {
            "cells": {
             "fill": {
              "color": "#EBF0F8"
             },
             "line": {
              "color": "white"
             }
            },
            "header": {
             "fill": {
              "color": "#C8D4E3"
             },
             "line": {
              "color": "white"
             }
            },
            "type": "table"
           }
          ]
         },
         "layout": {
          "annotationdefaults": {
           "arrowcolor": "#2a3f5f",
           "arrowhead": 0,
           "arrowwidth": 1
          },
          "coloraxis": {
           "colorbar": {
            "outlinewidth": 0,
            "ticks": ""
           }
          },
          "colorscale": {
           "diverging": [
            [
             0,
             "#8e0152"
            ],
            [
             0.1,
             "#c51b7d"
            ],
            [
             0.2,
             "#de77ae"
            ],
            [
             0.3,
             "#f1b6da"
            ],
            [
             0.4,
             "#fde0ef"
            ],
            [
             0.5,
             "#f7f7f7"
            ],
            [
             0.6,
             "#e6f5d0"
            ],
            [
             0.7,
             "#b8e186"
            ],
            [
             0.8,
             "#7fbc41"
            ],
            [
             0.9,
             "#4d9221"
            ],
            [
             1,
             "#276419"
            ]
           ],
           "sequential": [
            [
             0,
             "#0d0887"
            ],
            [
             0.1111111111111111,
             "#46039f"
            ],
            [
             0.2222222222222222,
             "#7201a8"
            ],
            [
             0.3333333333333333,
             "#9c179e"
            ],
            [
             0.4444444444444444,
             "#bd3786"
            ],
            [
             0.5555555555555556,
             "#d8576b"
            ],
            [
             0.6666666666666666,
             "#ed7953"
            ],
            [
             0.7777777777777778,
             "#fb9f3a"
            ],
            [
             0.8888888888888888,
             "#fdca26"
            ],
            [
             1,
             "#f0f921"
            ]
           ],
           "sequentialminus": [
            [
             0,
             "#0d0887"
            ],
            [
             0.1111111111111111,
             "#46039f"
            ],
            [
             0.2222222222222222,
             "#7201a8"
            ],
            [
             0.3333333333333333,
             "#9c179e"
            ],
            [
             0.4444444444444444,
             "#bd3786"
            ],
            [
             0.5555555555555556,
             "#d8576b"
            ],
            [
             0.6666666666666666,
             "#ed7953"
            ],
            [
             0.7777777777777778,
             "#fb9f3a"
            ],
            [
             0.8888888888888888,
             "#fdca26"
            ],
            [
             1,
             "#f0f921"
            ]
           ]
          },
          "colorway": [
           "#636efa",
           "#EF553B",
           "#00cc96",
           "#ab63fa",
           "#FFA15A",
           "#19d3f3",
           "#FF6692",
           "#B6E880",
           "#FF97FF",
           "#FECB52"
          ],
          "font": {
           "color": "#2a3f5f"
          },
          "geo": {
           "bgcolor": "white",
           "lakecolor": "white",
           "landcolor": "#E5ECF6",
           "showlakes": true,
           "showland": true,
           "subunitcolor": "white"
          },
          "hoverlabel": {
           "align": "left"
          },
          "hovermode": "closest",
          "mapbox": {
           "style": "light"
          },
          "paper_bgcolor": "white",
          "plot_bgcolor": "#E5ECF6",
          "polar": {
           "angularaxis": {
            "gridcolor": "white",
            "linecolor": "white",
            "ticks": ""
           },
           "bgcolor": "#E5ECF6",
           "radialaxis": {
            "gridcolor": "white",
            "linecolor": "white",
            "ticks": ""
           }
          },
          "scene": {
           "xaxis": {
            "backgroundcolor": "#E5ECF6",
            "gridcolor": "white",
            "gridwidth": 2,
            "linecolor": "white",
            "showbackground": true,
            "ticks": "",
            "zerolinecolor": "white"
           },
           "yaxis": {
            "backgroundcolor": "#E5ECF6",
            "gridcolor": "white",
            "gridwidth": 2,
            "linecolor": "white",
            "showbackground": true,
            "ticks": "",
            "zerolinecolor": "white"
           },
           "zaxis": {
            "backgroundcolor": "#E5ECF6",
            "gridcolor": "white",
            "gridwidth": 2,
            "linecolor": "white",
            "showbackground": true,
            "ticks": "",
            "zerolinecolor": "white"
           }
          },
          "shapedefaults": {
           "line": {
            "color": "#2a3f5f"
           }
          },
          "ternary": {
           "aaxis": {
            "gridcolor": "white",
            "linecolor": "white",
            "ticks": ""
           },
           "baxis": {
            "gridcolor": "white",
            "linecolor": "white",
            "ticks": ""
           },
           "bgcolor": "#E5ECF6",
           "caxis": {
            "gridcolor": "white",
            "linecolor": "white",
            "ticks": ""
           }
          },
          "title": {
           "x": 0.05
          },
          "xaxis": {
           "automargin": true,
           "gridcolor": "white",
           "linecolor": "white",
           "ticks": "",
           "title": {
            "standoff": 15
           },
           "zerolinecolor": "white",
           "zerolinewidth": 2
          },
          "yaxis": {
           "automargin": true,
           "gridcolor": "white",
           "linecolor": "white",
           "ticks": "",
           "title": {
            "standoff": 15
           },
           "zerolinecolor": "white",
           "zerolinewidth": 2
          }
         }
        },
        "title": {
         "font": {
          "color": "#4D5663"
         }
        },
        "xaxis": {
         "anchor": "y",
         "domain": [
          0,
          0.2125
         ],
         "gridcolor": "#E1E5ED",
         "showgrid": false,
         "tickfont": {
          "color": "#4D5663"
         },
         "title": {
          "font": {
           "color": "#4D5663"
          },
          "text": ""
         },
         "zerolinecolor": "#E1E5ED"
        },
        "xaxis10": {
         "anchor": "y10",
         "domain": [
          0.2625,
          0.475
         ],
         "gridcolor": "#E1E5ED",
         "showgrid": false,
         "tickfont": {
          "color": "#4D5663"
         },
         "title": {
          "font": {
           "color": "#4D5663"
          },
          "text": ""
         },
         "zerolinecolor": "#E1E5ED"
        },
        "xaxis11": {
         "anchor": "y11",
         "domain": [
          0.525,
          0.7375
         ],
         "gridcolor": "#E1E5ED",
         "showgrid": false,
         "tickfont": {
          "color": "#4D5663"
         },
         "title": {
          "font": {
           "color": "#4D5663"
          },
          "text": ""
         },
         "zerolinecolor": "#E1E5ED"
        },
        "xaxis12": {
         "anchor": "y12",
         "domain": [
          0.7875,
          1
         ],
         "gridcolor": "#E1E5ED",
         "showgrid": false,
         "tickfont": {
          "color": "#4D5663"
         },
         "title": {
          "font": {
           "color": "#4D5663"
          },
          "text": ""
         },
         "zerolinecolor": "#E1E5ED"
        },
        "xaxis13": {
         "anchor": "y13",
         "domain": [
          0,
          0.2125
         ],
         "gridcolor": "#E1E5ED",
         "showgrid": false,
         "tickfont": {
          "color": "#4D5663"
         },
         "title": {
          "font": {
           "color": "#4D5663"
          },
          "text": ""
         },
         "zerolinecolor": "#E1E5ED"
        },
        "xaxis14": {
         "anchor": "y14",
         "domain": [
          0.2625,
          0.475
         ],
         "gridcolor": "#E1E5ED",
         "showgrid": false,
         "tickfont": {
          "color": "#4D5663"
         },
         "title": {
          "font": {
           "color": "#4D5663"
          },
          "text": ""
         },
         "zerolinecolor": "#E1E5ED"
        },
        "xaxis15": {
         "anchor": "y15",
         "domain": [
          0.525,
          0.7375
         ],
         "gridcolor": "#E1E5ED",
         "showgrid": false,
         "tickfont": {
          "color": "#4D5663"
         },
         "title": {
          "font": {
           "color": "#4D5663"
          },
          "text": ""
         },
         "zerolinecolor": "#E1E5ED"
        },
        "xaxis16": {
         "anchor": "y16",
         "domain": [
          0.7875,
          1
         ],
         "gridcolor": "#E1E5ED",
         "showgrid": false,
         "tickfont": {
          "color": "#4D5663"
         },
         "title": {
          "font": {
           "color": "#4D5663"
          },
          "text": ""
         },
         "zerolinecolor": "#E1E5ED"
        },
        "xaxis2": {
         "anchor": "y2",
         "domain": [
          0.2625,
          0.475
         ],
         "gridcolor": "#E1E5ED",
         "showgrid": false,
         "tickfont": {
          "color": "#4D5663"
         },
         "title": {
          "font": {
           "color": "#4D5663"
          },
          "text": ""
         },
         "zerolinecolor": "#E1E5ED"
        },
        "xaxis3": {
         "anchor": "y3",
         "domain": [
          0.525,
          0.7375
         ],
         "gridcolor": "#E1E5ED",
         "showgrid": false,
         "tickfont": {
          "color": "#4D5663"
         },
         "title": {
          "font": {
           "color": "#4D5663"
          },
          "text": ""
         },
         "zerolinecolor": "#E1E5ED"
        },
        "xaxis4": {
         "anchor": "y4",
         "domain": [
          0.7875,
          1
         ],
         "gridcolor": "#E1E5ED",
         "showgrid": false,
         "tickfont": {
          "color": "#4D5663"
         },
         "title": {
          "font": {
           "color": "#4D5663"
          },
          "text": ""
         },
         "zerolinecolor": "#E1E5ED"
        },
        "xaxis5": {
         "anchor": "y5",
         "domain": [
          0,
          0.2125
         ],
         "gridcolor": "#E1E5ED",
         "showgrid": false,
         "tickfont": {
          "color": "#4D5663"
         },
         "title": {
          "font": {
           "color": "#4D5663"
          },
          "text": ""
         },
         "zerolinecolor": "#E1E5ED"
        },
        "xaxis6": {
         "anchor": "y6",
         "domain": [
          0.2625,
          0.475
         ],
         "gridcolor": "#E1E5ED",
         "showgrid": false,
         "tickfont": {
          "color": "#4D5663"
         },
         "title": {
          "font": {
           "color": "#4D5663"
          },
          "text": ""
         },
         "zerolinecolor": "#E1E5ED"
        },
        "xaxis7": {
         "anchor": "y7",
         "domain": [
          0.525,
          0.7375
         ],
         "gridcolor": "#E1E5ED",
         "showgrid": false,
         "tickfont": {
          "color": "#4D5663"
         },
         "title": {
          "font": {
           "color": "#4D5663"
          },
          "text": ""
         },
         "zerolinecolor": "#E1E5ED"
        },
        "xaxis8": {
         "anchor": "y8",
         "domain": [
          0.7875,
          1
         ],
         "gridcolor": "#E1E5ED",
         "showgrid": false,
         "tickfont": {
          "color": "#4D5663"
         },
         "title": {
          "font": {
           "color": "#4D5663"
          },
          "text": ""
         },
         "zerolinecolor": "#E1E5ED"
        },
        "xaxis9": {
         "anchor": "y9",
         "domain": [
          0,
          0.2125
         ],
         "gridcolor": "#E1E5ED",
         "showgrid": false,
         "tickfont": {
          "color": "#4D5663"
         },
         "title": {
          "font": {
           "color": "#4D5663"
          },
          "text": ""
         },
         "zerolinecolor": "#E1E5ED"
        },
        "yaxis": {
         "anchor": "x",
         "domain": [
          0.8025,
          1
         ],
         "gridcolor": "#E1E5ED",
         "showgrid": false,
         "tickfont": {
          "color": "#4D5663"
         },
         "title": {
          "font": {
           "color": "#4D5663"
          },
          "text": ""
         },
         "zerolinecolor": "#E1E5ED"
        },
        "yaxis10": {
         "anchor": "x10",
         "domain": [
          0.2675,
          0.465
         ],
         "gridcolor": "#E1E5ED",
         "showgrid": false,
         "tickfont": {
          "color": "#4D5663"
         },
         "title": {
          "font": {
           "color": "#4D5663"
          },
          "text": ""
         },
         "zerolinecolor": "#E1E5ED"
        },
        "yaxis11": {
         "anchor": "x11",
         "domain": [
          0.2675,
          0.465
         ],
         "gridcolor": "#E1E5ED",
         "showgrid": false,
         "tickfont": {
          "color": "#4D5663"
         },
         "title": {
          "font": {
           "color": "#4D5663"
          },
          "text": ""
         },
         "zerolinecolor": "#E1E5ED"
        },
        "yaxis12": {
         "anchor": "x12",
         "domain": [
          0.2675,
          0.465
         ],
         "gridcolor": "#E1E5ED",
         "showgrid": false,
         "tickfont": {
          "color": "#4D5663"
         },
         "title": {
          "font": {
           "color": "#4D5663"
          },
          "text": ""
         },
         "zerolinecolor": "#E1E5ED"
        },
        "yaxis13": {
         "anchor": "x13",
         "domain": [
          0,
          0.1975
         ],
         "gridcolor": "#E1E5ED",
         "showgrid": false,
         "tickfont": {
          "color": "#4D5663"
         },
         "title": {
          "font": {
           "color": "#4D5663"
          },
          "text": ""
         },
         "zerolinecolor": "#E1E5ED"
        },
        "yaxis14": {
         "anchor": "x14",
         "domain": [
          0,
          0.1975
         ],
         "gridcolor": "#E1E5ED",
         "showgrid": false,
         "tickfont": {
          "color": "#4D5663"
         },
         "title": {
          "font": {
           "color": "#4D5663"
          },
          "text": ""
         },
         "zerolinecolor": "#E1E5ED"
        },
        "yaxis15": {
         "anchor": "x15",
         "domain": [
          0,
          0.1975
         ],
         "gridcolor": "#E1E5ED",
         "showgrid": false,
         "tickfont": {
          "color": "#4D5663"
         },
         "title": {
          "font": {
           "color": "#4D5663"
          },
          "text": ""
         },
         "zerolinecolor": "#E1E5ED"
        },
        "yaxis16": {
         "anchor": "x16",
         "domain": [
          0,
          0.1975
         ],
         "gridcolor": "#E1E5ED",
         "showgrid": false,
         "tickfont": {
          "color": "#4D5663"
         },
         "title": {
          "font": {
           "color": "#4D5663"
          },
          "text": ""
         },
         "zerolinecolor": "#E1E5ED"
        },
        "yaxis2": {
         "anchor": "x2",
         "domain": [
          0.8025,
          1
         ],
         "gridcolor": "#E1E5ED",
         "showgrid": false,
         "tickfont": {
          "color": "#4D5663"
         },
         "title": {
          "font": {
           "color": "#4D5663"
          },
          "text": ""
         },
         "zerolinecolor": "#E1E5ED"
        },
        "yaxis3": {
         "anchor": "x3",
         "domain": [
          0.8025,
          1
         ],
         "gridcolor": "#E1E5ED",
         "showgrid": false,
         "tickfont": {
          "color": "#4D5663"
         },
         "title": {
          "font": {
           "color": "#4D5663"
          },
          "text": ""
         },
         "zerolinecolor": "#E1E5ED"
        },
        "yaxis4": {
         "anchor": "x4",
         "domain": [
          0.8025,
          1
         ],
         "gridcolor": "#E1E5ED",
         "showgrid": false,
         "tickfont": {
          "color": "#4D5663"
         },
         "title": {
          "font": {
           "color": "#4D5663"
          },
          "text": ""
         },
         "zerolinecolor": "#E1E5ED"
        },
        "yaxis5": {
         "anchor": "x5",
         "domain": [
          0.535,
          0.7325
         ],
         "gridcolor": "#E1E5ED",
         "showgrid": false,
         "tickfont": {
          "color": "#4D5663"
         },
         "title": {
          "font": {
           "color": "#4D5663"
          },
          "text": ""
         },
         "zerolinecolor": "#E1E5ED"
        },
        "yaxis6": {
         "anchor": "x6",
         "domain": [
          0.535,
          0.7325
         ],
         "gridcolor": "#E1E5ED",
         "showgrid": false,
         "tickfont": {
          "color": "#4D5663"
         },
         "title": {
          "font": {
           "color": "#4D5663"
          },
          "text": ""
         },
         "zerolinecolor": "#E1E5ED"
        },
        "yaxis7": {
         "anchor": "x7",
         "domain": [
          0.535,
          0.7325
         ],
         "gridcolor": "#E1E5ED",
         "showgrid": false,
         "tickfont": {
          "color": "#4D5663"
         },
         "title": {
          "font": {
           "color": "#4D5663"
          },
          "text": ""
         },
         "zerolinecolor": "#E1E5ED"
        },
        "yaxis8": {
         "anchor": "x8",
         "domain": [
          0.535,
          0.7325
         ],
         "gridcolor": "#E1E5ED",
         "showgrid": false,
         "tickfont": {
          "color": "#4D5663"
         },
         "title": {
          "font": {
           "color": "#4D5663"
          },
          "text": ""
         },
         "zerolinecolor": "#E1E5ED"
        },
        "yaxis9": {
         "anchor": "x9",
         "domain": [
          0.2675,
          0.465
         ],
         "gridcolor": "#E1E5ED",
         "showgrid": false,
         "tickfont": {
          "color": "#4D5663"
         },
         "title": {
          "font": {
           "color": "#4D5663"
          },
          "text": ""
         },
         "zerolinecolor": "#E1E5ED"
        }
       }
      },
      "text/html": [
       "<div>\n",
       "        \n",
       "        \n",
       "            <div id=\"36e1a62c-d500-441c-8d46-403302b0b6b2\" class=\"plotly-graph-div\" style=\"height:525px; width:100%;\"></div>\n",
       "            <script type=\"text/javascript\">\n",
       "                require([\"plotly\"], function(Plotly) {\n",
       "                    window.PLOTLYENV=window.PLOTLYENV || {};\n",
       "                    window.PLOTLYENV.BASE_URL='https://plot.ly';\n",
       "                    \n",
       "                if (document.getElementById(\"36e1a62c-d500-441c-8d46-403302b0b6b2\")) {\n",
       "                    Plotly.newPlot(\n",
       "                        '36e1a62c-d500-441c-8d46-403302b0b6b2',\n",
       "                        [{\"histfunc\": \"count\", \"histnorm\": \"\", \"marker\": {\"color\": \"rgba(255, 153, 51, 1.0)\", \"line\": {\"color\": \"#4D5663\", \"width\": 1.3}}, \"name\": \"A\", \"nbinsx\": 10, \"opacity\": 0.8, \"orientation\": \"v\", \"type\": \"histogram\", \"x\": [0.3464195938218623, 1.2191331189779477, -1.566198556307964, 0.46573085450095364, -0.15261785777811135, -0.8028457730946738, -1.2939789962191617, -0.6418087219226248, 1.9109107394573086, -0.7984950981964833, 0.37572064407586353, 0.10804546809227975, -0.2955939166246089, 0.6668013724677774, 1.606777904150411, 0.18473563502452545, -0.21514032491554505, -0.2776151300214792, 0.8398510702601665, -0.17787273295740644, 1.8394677466697062, -0.6830318073232281, 1.1910043748570203, -0.06296070100823661, 0.3893011193237392, -0.5418276224573682, 0.1456421026340764, 1.3478116660010542, 1.3398140902363653, 0.17909770396651062, -0.7347774212014662, -0.664509282045416, 1.9958932346583351, 0.06464239428800038, -0.17331233101528445, -1.5199911226136043, -0.011764777467682862, -0.22961655060029354, 0.8344144539000332, -0.6252542380202118, -0.35722719110995915, 1.4681106315488035, -0.972833984774363, -1.3185876357784978, 0.8369173852064116, -0.7203822787149038, 0.5391211086088187, 0.40930127362148827, 1.3305953798884078, 0.7875773751444973, 0.24411739461868534, -0.08843505642188325, 0.268342155604911, 0.053365885727759556, -0.027406353957162198, -0.542478529849032, 0.6176151365107044, -0.18176398391036097, -0.2045336720258062, 0.32644055801113225, 0.5569115331629004, 0.4709120552818683, -0.5511771984791615, 0.38672288804052146, 0.49369878628381486, 0.8742747551276879, -0.7728036843643227, -0.5316316557408409, -0.019359629269128015, -0.43540839748513804, 2.193864246093326, 0.7071061333240987, -0.6738965948167931, 2.3946971136177124, 1.2529062193552296, 1.0214426121109126, -0.18054114299205762, -1.848921966805281, 1.3846982722939123, 0.37389409884423136, -0.5518891745455325, -0.812964815588062, -0.1445860029165156, 0.5976439474074358, -0.031143888839414168, 1.288640608161686, -1.3760544674922424, 0.9963133082520479, 0.9751556082817852, -0.07231954115489966, -0.36525133427411105, 0.8539810900777741, -0.5593653152080624, 1.6784765782994218, 1.49764233252627, -0.8623001565375716, -0.7415847178841932, 1.1902930047966387, 0.5729387527499807, -0.2143483560074946], \"xaxis\": \"x\", \"yaxis\": \"y\"}, {\"line\": {\"color\": \"rgba(128, 128, 128, 1.0)\", \"dash\": \"solid\", \"shape\": \"linear\", \"width\": 1.3}, \"marker\": {\"size\": 2, \"symbol\": \"circle\"}, \"mode\": \"markers\", \"name\": \"A\", \"text\": \"\", \"type\": \"scatter\", \"x\": [-0.020590181209793654, 0.5423503125602855, -0.8787354341663304, -0.4895306549248174, -0.48541537247821465, -1.1581842623847438, -0.2769367387336216, 0.03311436155705231, 1.6024816506045834, 1.0831480858882039, -1.0072890793929596, 1.6632133708190122, -0.10794673509633486, 0.45432131136859577, -0.22565078146614284, 0.45507286942503267, 0.17974586396275005, -2.0175017586254036, 1.2707085867867112, 0.8107153806972188, 1.3683894902998583, 0.6721722990716655, -1.3053183578006817, 0.5690108539109617, 1.0528361089049871, -0.9946211425344996, 0.13209780322860354, 0.5975237600550157, -0.3990103367235594, 0.8544023703785645, -0.3652754198522442, -0.9394329209739792, -1.8247763232964613, 1.387400472070589, -0.6172006358456033, 0.28514310772208395, -0.9194137609477232, -1.0945907934466066, -0.01812635633048244, -0.42870107832880905, -0.14583236585484136, -1.9112885076025667, -0.6064194759449073, -0.5831693992001507, -0.9885022195286823, -1.319588708902828, 0.16146923595796253, -0.28246046695644217, -0.7714040710560138, 0.5847383075181828, 0.19107611317750492, -0.6526040938222579, 0.5699402612438804, -0.9911031656265455, 1.6493934330272855, 1.9039049563987207, 1.218355914745771, -0.494984884549906, 0.11678360950276127, -1.2146187590914483, -1.1476654603988559, -0.6451013537990224, -0.9089642937379179, -0.3107932934346349, 0.1431930390443773, 0.49590287215018686, 0.4685352804531265, 0.10806855993380053, 0.986890513730406, 0.7865424288418571, -1.2351640606494476, -2.02351966824216, -1.370146862511068, -1.3253039883938387, -1.184340482150768, -0.5064055507257907, -3.1134408477432705, -1.3748114148134778, 0.9623455167657223, 0.15572759045814794, 0.019438510421546488, -0.756212056642985, 1.0393078996740457, 1.283603086621441, 0.013246115306398687, 0.07988076305174152, 1.7490019784053388, -0.9381427033010681, -0.7346416378276212, 1.6403942432066971, -0.3292907770726725, 0.6890521545829256, -1.1228315951030374, -0.25605505749699964, -0.16944549777624168, 1.46716671061314, -0.18662380589638208, -1.7553469955013234, -0.1186070548456802, 1.3868762776821497], \"xaxis\": \"x2\", \"y\": [0.3464195938218623, 1.2191331189779477, -1.566198556307964, 0.46573085450095364, -0.15261785777811135, -0.8028457730946738, -1.2939789962191617, -0.6418087219226248, 1.9109107394573086, -0.7984950981964833, 0.37572064407586353, 0.10804546809227975, -0.2955939166246089, 0.6668013724677774, 1.606777904150411, 0.18473563502452545, -0.21514032491554505, -0.2776151300214792, 0.8398510702601665, -0.17787273295740644, 1.8394677466697062, -0.6830318073232281, 1.1910043748570203, -0.06296070100823661, 0.3893011193237392, -0.5418276224573682, 0.1456421026340764, 1.3478116660010542, 1.3398140902363653, 0.17909770396651062, -0.7347774212014662, -0.664509282045416, 1.9958932346583351, 0.06464239428800038, -0.17331233101528445, -1.5199911226136043, -0.011764777467682862, -0.22961655060029354, 0.8344144539000332, -0.6252542380202118, -0.35722719110995915, 1.4681106315488035, -0.972833984774363, -1.3185876357784978, 0.8369173852064116, -0.7203822787149038, 0.5391211086088187, 0.40930127362148827, 1.3305953798884078, 0.7875773751444973, 0.24411739461868534, -0.08843505642188325, 0.268342155604911, 0.053365885727759556, -0.027406353957162198, -0.542478529849032, 0.6176151365107044, -0.18176398391036097, -0.2045336720258062, 0.32644055801113225, 0.5569115331629004, 0.4709120552818683, -0.5511771984791615, 0.38672288804052146, 0.49369878628381486, 0.8742747551276879, -0.7728036843643227, -0.5316316557408409, -0.019359629269128015, -0.43540839748513804, 2.193864246093326, 0.7071061333240987, -0.6738965948167931, 2.3946971136177124, 1.2529062193552296, 1.0214426121109126, -0.18054114299205762, -1.848921966805281, 1.3846982722939123, 0.37389409884423136, -0.5518891745455325, -0.812964815588062, -0.1445860029165156, 0.5976439474074358, -0.031143888839414168, 1.288640608161686, -1.3760544674922424, 0.9963133082520479, 0.9751556082817852, -0.07231954115489966, -0.36525133427411105, 0.8539810900777741, -0.5593653152080624, 1.6784765782994218, 1.49764233252627, -0.8623001565375716, -0.7415847178841932, 1.1902930047966387, 0.5729387527499807, -0.2143483560074946], \"yaxis\": \"y2\"}, {\"line\": {\"color\": \"rgba(128, 128, 128, 1.0)\", \"dash\": \"solid\", \"shape\": \"linear\", \"width\": 1.3}, \"marker\": {\"size\": 2, \"symbol\": \"circle\"}, \"mode\": \"markers\", \"name\": \"A\", \"text\": \"\", \"type\": \"scatter\", \"x\": [0.14358159005220242, 0.2920812719560736, 0.4034545189350478, 1.1846433872331292, 0.319242774725028, -1.0378007174169739, 0.8566005112545779, 1.230587387035751, -0.6904449421321213, 0.5977777507201271, -0.2957408276879956, -1.2495092936375563, 1.6656398714796146, -0.3446167923977057, -1.254503270950624, -1.1388161689544005, -0.1717411579167247, 1.337329782119376, -1.6571968313842216, 0.395304398552172, 0.3331717998492536, 1.027506271028855, 1.6474630147154348, 0.3976627652729076, 0.407886600933332, -0.5530433271104201, 1.0332177544732484, 0.86768325022945, -0.3279844909807892, 0.3341765602344462, -1.3314901096554927, 0.09517340058130781, 0.414233914581945, 0.008258261866098746, -1.2358266866438095, -0.051510801020062245, -1.1018971303963652, -0.015386259776738126, -1.2133402799715634, 0.7238599629917095, -0.39130890290694187, 0.4279914942549863, -0.20925301904311044, -0.07715446690954722, -0.5219958922492965, 0.5971498071391562, -0.5679311029386973, -0.6379609701710316, -0.008311692620811812, -1.3357400359256055, 0.36352824933081623, -1.0139147273562739, -0.8276356994707972, -1.0139657015110843, 0.9348172455435725, 0.7346190521865691, 0.32389401870404105, 0.3890011873245929, 0.5842398951563093, -0.025820761777430607, -0.6520353470200743, -0.1957954163288069, -0.8525926967078836, 0.24534399615516964, 0.6447632757277592, 0.2444416159774107, 0.6885672298514097, 0.14182452610579782, -0.8383124174831217, -0.5256271659891929, 0.7474320776428933, 0.5498407131196493, 0.4326392632653981, -1.0041028281208184, -0.023836964615872768, -0.5842708332074602, -1.3655332884624836, -0.7016652237620963, -0.2544652796566522, -0.9696356130351645, -0.16816395858146188, 0.12710783669496098, -0.8217755283837832, 0.7570671870362776, 2.5475431730589433, -0.2276466929232567, 0.4669050820081747, 0.3904063276011235, 0.6397549748807329, 1.2479494093044476, -0.3393342010587006, 0.02345841570658886, -0.5581521817674187, 0.07108629812707043, 0.13841439096535338, -0.3076131842355114, -0.44813213779990757, -0.7341619613796643, -1.0667492318297769, 0.7541483808510677], \"xaxis\": \"x3\", \"y\": [0.3464195938218623, 1.2191331189779477, -1.566198556307964, 0.46573085450095364, -0.15261785777811135, -0.8028457730946738, -1.2939789962191617, -0.6418087219226248, 1.9109107394573086, -0.7984950981964833, 0.37572064407586353, 0.10804546809227975, -0.2955939166246089, 0.6668013724677774, 1.606777904150411, 0.18473563502452545, -0.21514032491554505, -0.2776151300214792, 0.8398510702601665, -0.17787273295740644, 1.8394677466697062, -0.6830318073232281, 1.1910043748570203, -0.06296070100823661, 0.3893011193237392, -0.5418276224573682, 0.1456421026340764, 1.3478116660010542, 1.3398140902363653, 0.17909770396651062, -0.7347774212014662, -0.664509282045416, 1.9958932346583351, 0.06464239428800038, -0.17331233101528445, -1.5199911226136043, -0.011764777467682862, -0.22961655060029354, 0.8344144539000332, -0.6252542380202118, -0.35722719110995915, 1.4681106315488035, -0.972833984774363, -1.3185876357784978, 0.8369173852064116, -0.7203822787149038, 0.5391211086088187, 0.40930127362148827, 1.3305953798884078, 0.7875773751444973, 0.24411739461868534, -0.08843505642188325, 0.268342155604911, 0.053365885727759556, -0.027406353957162198, -0.542478529849032, 0.6176151365107044, -0.18176398391036097, -0.2045336720258062, 0.32644055801113225, 0.5569115331629004, 0.4709120552818683, -0.5511771984791615, 0.38672288804052146, 0.49369878628381486, 0.8742747551276879, -0.7728036843643227, -0.5316316557408409, -0.019359629269128015, -0.43540839748513804, 2.193864246093326, 0.7071061333240987, -0.6738965948167931, 2.3946971136177124, 1.2529062193552296, 1.0214426121109126, -0.18054114299205762, -1.848921966805281, 1.3846982722939123, 0.37389409884423136, -0.5518891745455325, -0.812964815588062, -0.1445860029165156, 0.5976439474074358, -0.031143888839414168, 1.288640608161686, -1.3760544674922424, 0.9963133082520479, 0.9751556082817852, -0.07231954115489966, -0.36525133427411105, 0.8539810900777741, -0.5593653152080624, 1.6784765782994218, 1.49764233252627, -0.8623001565375716, -0.7415847178841932, 1.1902930047966387, 0.5729387527499807, -0.2143483560074946], \"yaxis\": \"y3\"}, {\"line\": {\"color\": \"rgba(128, 128, 128, 1.0)\", \"dash\": \"solid\", \"shape\": \"linear\", \"width\": 1.3}, \"marker\": {\"size\": 2, \"symbol\": \"circle\"}, \"mode\": \"markers\", \"name\": \"A\", \"text\": \"\", \"type\": \"scatter\", \"x\": [-1.1118640049651034, 0.1491406043116301, -1.2221106374241755, -1.6875795839754855, -0.7558177324260064, -1.6337871211050123, 0.22261233323591775, 0.7915733560199928, 1.6896287071492586, -0.1975697108903575, -1.8948362657753854, -0.2541235158529231, 0.03661794809435186, 0.7548769352154293, 0.42547738622571923, 0.46165798801264835, 0.007295368926671065, 0.891055630096048, 0.24386729392890943, 0.8307255191948365, 0.35626459418787493, 2.1578145958004145, -2.058911680464687, -0.27284665675569436, -0.15770271572799424, 1.5033000533442646, -0.7496941979711484, 0.8514411005089376, -0.3916152705357473, 0.22689570064360143, -0.2197162949623533, -0.16579621986256468, 1.7299343666421136, 1.253065148652142, 1.210314349675132, -0.44295688764545177, 0.7521680139399465, -0.2674260111881133, 1.7902607882569215, -1.2912637225126222, 1.1762596418399858, 0.3680637408772415, 1.1759519499772664, -0.2752043603187563, 0.1024792184516914, -0.5941545257254696, 0.9489352620540739, -1.062895402760241, -1.0567115215569716, -2.3587912906105832, 2.9653750929051372, -0.27421247498910417, -0.328514053729911, 0.5734230922653505, -0.0607092670338549, 1.1704828032581003, 1.354998594411703, -0.6567767998847259, -0.10265296524401771, -0.27134167423686395, 1.5412502872780447, 0.5781757038302135, 1.2224550744752862, -0.08639304752669724, 0.9262617313935608, 0.22324901110438788, -1.7744853454310123, 1.1817122408866545, -0.5286257010564885, -2.7180104539156384, -1.0045558820687108, -1.1008071985316823, 0.4275954953925082, -0.32492381688521127, -1.0280063715123986, 0.23787612180794981, 0.18686310544658025, -0.3497955317388221, -0.09738618475432757, -1.2290276943037652, 0.5875304076931959, 0.8814182541543529, -0.6781089026484597, -0.7373594071213471, 1.115607766095368, 0.12888807541459482, -0.8158561577836921, -0.5940310396993876, -0.5291881868373929, -0.5751787198636337, 0.5108329935769008, 1.2067401728845797, -1.4220280600408528, -0.24726913124166838, -0.14727165533210312, 0.4513601251105589, 0.7331496085916595, 0.8068582051299986, 0.8857024956321218, -0.3926293025656279], \"xaxis\": \"x4\", \"y\": [0.3464195938218623, 1.2191331189779477, -1.566198556307964, 0.46573085450095364, -0.15261785777811135, -0.8028457730946738, -1.2939789962191617, -0.6418087219226248, 1.9109107394573086, -0.7984950981964833, 0.37572064407586353, 0.10804546809227975, -0.2955939166246089, 0.6668013724677774, 1.606777904150411, 0.18473563502452545, -0.21514032491554505, -0.2776151300214792, 0.8398510702601665, -0.17787273295740644, 1.8394677466697062, -0.6830318073232281, 1.1910043748570203, -0.06296070100823661, 0.3893011193237392, -0.5418276224573682, 0.1456421026340764, 1.3478116660010542, 1.3398140902363653, 0.17909770396651062, -0.7347774212014662, -0.664509282045416, 1.9958932346583351, 0.06464239428800038, -0.17331233101528445, -1.5199911226136043, -0.011764777467682862, -0.22961655060029354, 0.8344144539000332, -0.6252542380202118, -0.35722719110995915, 1.4681106315488035, -0.972833984774363, -1.3185876357784978, 0.8369173852064116, -0.7203822787149038, 0.5391211086088187, 0.40930127362148827, 1.3305953798884078, 0.7875773751444973, 0.24411739461868534, -0.08843505642188325, 0.268342155604911, 0.053365885727759556, -0.027406353957162198, -0.542478529849032, 0.6176151365107044, -0.18176398391036097, -0.2045336720258062, 0.32644055801113225, 0.5569115331629004, 0.4709120552818683, -0.5511771984791615, 0.38672288804052146, 0.49369878628381486, 0.8742747551276879, -0.7728036843643227, -0.5316316557408409, -0.019359629269128015, -0.43540839748513804, 2.193864246093326, 0.7071061333240987, -0.6738965948167931, 2.3946971136177124, 1.2529062193552296, 1.0214426121109126, -0.18054114299205762, -1.848921966805281, 1.3846982722939123, 0.37389409884423136, -0.5518891745455325, -0.812964815588062, -0.1445860029165156, 0.5976439474074358, -0.031143888839414168, 1.288640608161686, -1.3760544674922424, 0.9963133082520479, 0.9751556082817852, -0.07231954115489966, -0.36525133427411105, 0.8539810900777741, -0.5593653152080624, 1.6784765782994218, 1.49764233252627, -0.8623001565375716, -0.7415847178841932, 1.1902930047966387, 0.5729387527499807, -0.2143483560074946], \"yaxis\": \"y4\"}, {\"line\": {\"color\": \"rgba(128, 128, 128, 1.0)\", \"dash\": \"solid\", \"shape\": \"linear\", \"width\": 1.3}, \"marker\": {\"size\": 2, \"symbol\": \"circle\"}, \"mode\": \"markers\", \"name\": \"B\", \"text\": \"\", \"type\": \"scatter\", \"x\": [0.3464195938218623, 1.2191331189779477, -1.566198556307964, 0.46573085450095364, -0.15261785777811135, -0.8028457730946738, -1.2939789962191617, -0.6418087219226248, 1.9109107394573086, -0.7984950981964833, 0.37572064407586353, 0.10804546809227975, -0.2955939166246089, 0.6668013724677774, 1.606777904150411, 0.18473563502452545, -0.21514032491554505, -0.2776151300214792, 0.8398510702601665, -0.17787273295740644, 1.8394677466697062, -0.6830318073232281, 1.1910043748570203, -0.06296070100823661, 0.3893011193237392, -0.5418276224573682, 0.1456421026340764, 1.3478116660010542, 1.3398140902363653, 0.17909770396651062, -0.7347774212014662, -0.664509282045416, 1.9958932346583351, 0.06464239428800038, -0.17331233101528445, -1.5199911226136043, -0.011764777467682862, -0.22961655060029354, 0.8344144539000332, -0.6252542380202118, -0.35722719110995915, 1.4681106315488035, -0.972833984774363, -1.3185876357784978, 0.8369173852064116, -0.7203822787149038, 0.5391211086088187, 0.40930127362148827, 1.3305953798884078, 0.7875773751444973, 0.24411739461868534, -0.08843505642188325, 0.268342155604911, 0.053365885727759556, -0.027406353957162198, -0.542478529849032, 0.6176151365107044, -0.18176398391036097, -0.2045336720258062, 0.32644055801113225, 0.5569115331629004, 0.4709120552818683, -0.5511771984791615, 0.38672288804052146, 0.49369878628381486, 0.8742747551276879, -0.7728036843643227, -0.5316316557408409, -0.019359629269128015, -0.43540839748513804, 2.193864246093326, 0.7071061333240987, -0.6738965948167931, 2.3946971136177124, 1.2529062193552296, 1.0214426121109126, -0.18054114299205762, -1.848921966805281, 1.3846982722939123, 0.37389409884423136, -0.5518891745455325, -0.812964815588062, -0.1445860029165156, 0.5976439474074358, -0.031143888839414168, 1.288640608161686, -1.3760544674922424, 0.9963133082520479, 0.9751556082817852, -0.07231954115489966, -0.36525133427411105, 0.8539810900777741, -0.5593653152080624, 1.6784765782994218, 1.49764233252627, -0.8623001565375716, -0.7415847178841932, 1.1902930047966387, 0.5729387527499807, -0.2143483560074946], \"xaxis\": \"x5\", \"y\": [-0.020590181209793654, 0.5423503125602855, -0.8787354341663304, -0.4895306549248174, -0.48541537247821465, -1.1581842623847438, -0.2769367387336216, 0.03311436155705231, 1.6024816506045834, 1.0831480858882039, -1.0072890793929596, 1.6632133708190122, -0.10794673509633486, 0.45432131136859577, -0.22565078146614284, 0.45507286942503267, 0.17974586396275005, -2.0175017586254036, 1.2707085867867112, 0.8107153806972188, 1.3683894902998583, 0.6721722990716655, -1.3053183578006817, 0.5690108539109617, 1.0528361089049871, -0.9946211425344996, 0.13209780322860354, 0.5975237600550157, -0.3990103367235594, 0.8544023703785645, -0.3652754198522442, -0.9394329209739792, -1.8247763232964613, 1.387400472070589, -0.6172006358456033, 0.28514310772208395, -0.9194137609477232, -1.0945907934466066, -0.01812635633048244, -0.42870107832880905, -0.14583236585484136, -1.9112885076025667, -0.6064194759449073, -0.5831693992001507, -0.9885022195286823, -1.319588708902828, 0.16146923595796253, -0.28246046695644217, -0.7714040710560138, 0.5847383075181828, 0.19107611317750492, -0.6526040938222579, 0.5699402612438804, -0.9911031656265455, 1.6493934330272855, 1.9039049563987207, 1.218355914745771, -0.494984884549906, 0.11678360950276127, -1.2146187590914483, -1.1476654603988559, -0.6451013537990224, -0.9089642937379179, -0.3107932934346349, 0.1431930390443773, 0.49590287215018686, 0.4685352804531265, 0.10806855993380053, 0.986890513730406, 0.7865424288418571, -1.2351640606494476, -2.02351966824216, -1.370146862511068, -1.3253039883938387, -1.184340482150768, -0.5064055507257907, -3.1134408477432705, -1.3748114148134778, 0.9623455167657223, 0.15572759045814794, 0.019438510421546488, -0.756212056642985, 1.0393078996740457, 1.283603086621441, 0.013246115306398687, 0.07988076305174152, 1.7490019784053388, -0.9381427033010681, -0.7346416378276212, 1.6403942432066971, -0.3292907770726725, 0.6890521545829256, -1.1228315951030374, -0.25605505749699964, -0.16944549777624168, 1.46716671061314, -0.18662380589638208, -1.7553469955013234, -0.1186070548456802, 1.3868762776821497], \"yaxis\": \"y5\"}, {\"histfunc\": \"count\", \"histnorm\": \"\", \"marker\": {\"color\": \"rgba(55, 128, 191, 1.0)\", \"line\": {\"color\": \"#4D5663\", \"width\": 1.3}}, \"name\": \"B\", \"nbinsx\": 10, \"opacity\": 0.8, \"orientation\": \"v\", \"type\": \"histogram\", \"x\": [-0.020590181209793654, 0.5423503125602855, -0.8787354341663304, -0.4895306549248174, -0.48541537247821465, -1.1581842623847438, -0.2769367387336216, 0.03311436155705231, 1.6024816506045834, 1.0831480858882039, -1.0072890793929596, 1.6632133708190122, -0.10794673509633486, 0.45432131136859577, -0.22565078146614284, 0.45507286942503267, 0.17974586396275005, -2.0175017586254036, 1.2707085867867112, 0.8107153806972188, 1.3683894902998583, 0.6721722990716655, -1.3053183578006817, 0.5690108539109617, 1.0528361089049871, -0.9946211425344996, 0.13209780322860354, 0.5975237600550157, -0.3990103367235594, 0.8544023703785645, -0.3652754198522442, -0.9394329209739792, -1.8247763232964613, 1.387400472070589, -0.6172006358456033, 0.28514310772208395, -0.9194137609477232, -1.0945907934466066, -0.01812635633048244, -0.42870107832880905, -0.14583236585484136, -1.9112885076025667, -0.6064194759449073, -0.5831693992001507, -0.9885022195286823, -1.319588708902828, 0.16146923595796253, -0.28246046695644217, -0.7714040710560138, 0.5847383075181828, 0.19107611317750492, -0.6526040938222579, 0.5699402612438804, -0.9911031656265455, 1.6493934330272855, 1.9039049563987207, 1.218355914745771, -0.494984884549906, 0.11678360950276127, -1.2146187590914483, -1.1476654603988559, -0.6451013537990224, -0.9089642937379179, -0.3107932934346349, 0.1431930390443773, 0.49590287215018686, 0.4685352804531265, 0.10806855993380053, 0.986890513730406, 0.7865424288418571, -1.2351640606494476, -2.02351966824216, -1.370146862511068, -1.3253039883938387, -1.184340482150768, -0.5064055507257907, -3.1134408477432705, -1.3748114148134778, 0.9623455167657223, 0.15572759045814794, 0.019438510421546488, -0.756212056642985, 1.0393078996740457, 1.283603086621441, 0.013246115306398687, 0.07988076305174152, 1.7490019784053388, -0.9381427033010681, -0.7346416378276212, 1.6403942432066971, -0.3292907770726725, 0.6890521545829256, -1.1228315951030374, -0.25605505749699964, -0.16944549777624168, 1.46716671061314, -0.18662380589638208, -1.7553469955013234, -0.1186070548456802, 1.3868762776821497], \"xaxis\": \"x6\", \"yaxis\": \"y6\"}, {\"line\": {\"color\": \"rgba(128, 128, 128, 1.0)\", \"dash\": \"solid\", \"shape\": \"linear\", \"width\": 1.3}, \"marker\": {\"size\": 2, \"symbol\": \"circle\"}, \"mode\": \"markers\", \"name\": \"B\", \"text\": \"\", \"type\": \"scatter\", \"x\": [0.14358159005220242, 0.2920812719560736, 0.4034545189350478, 1.1846433872331292, 0.319242774725028, -1.0378007174169739, 0.8566005112545779, 1.230587387035751, -0.6904449421321213, 0.5977777507201271, -0.2957408276879956, -1.2495092936375563, 1.6656398714796146, -0.3446167923977057, -1.254503270950624, -1.1388161689544005, -0.1717411579167247, 1.337329782119376, -1.6571968313842216, 0.395304398552172, 0.3331717998492536, 1.027506271028855, 1.6474630147154348, 0.3976627652729076, 0.407886600933332, -0.5530433271104201, 1.0332177544732484, 0.86768325022945, -0.3279844909807892, 0.3341765602344462, -1.3314901096554927, 0.09517340058130781, 0.414233914581945, 0.008258261866098746, -1.2358266866438095, -0.051510801020062245, -1.1018971303963652, -0.015386259776738126, -1.2133402799715634, 0.7238599629917095, -0.39130890290694187, 0.4279914942549863, -0.20925301904311044, -0.07715446690954722, -0.5219958922492965, 0.5971498071391562, -0.5679311029386973, -0.6379609701710316, -0.008311692620811812, -1.3357400359256055, 0.36352824933081623, -1.0139147273562739, -0.8276356994707972, -1.0139657015110843, 0.9348172455435725, 0.7346190521865691, 0.32389401870404105, 0.3890011873245929, 0.5842398951563093, -0.025820761777430607, -0.6520353470200743, -0.1957954163288069, -0.8525926967078836, 0.24534399615516964, 0.6447632757277592, 0.2444416159774107, 0.6885672298514097, 0.14182452610579782, -0.8383124174831217, -0.5256271659891929, 0.7474320776428933, 0.5498407131196493, 0.4326392632653981, -1.0041028281208184, -0.023836964615872768, -0.5842708332074602, -1.3655332884624836, -0.7016652237620963, -0.2544652796566522, -0.9696356130351645, -0.16816395858146188, 0.12710783669496098, -0.8217755283837832, 0.7570671870362776, 2.5475431730589433, -0.2276466929232567, 0.4669050820081747, 0.3904063276011235, 0.6397549748807329, 1.2479494093044476, -0.3393342010587006, 0.02345841570658886, -0.5581521817674187, 0.07108629812707043, 0.13841439096535338, -0.3076131842355114, -0.44813213779990757, -0.7341619613796643, -1.0667492318297769, 0.7541483808510677], \"xaxis\": \"x7\", \"y\": [-0.020590181209793654, 0.5423503125602855, -0.8787354341663304, -0.4895306549248174, -0.48541537247821465, -1.1581842623847438, -0.2769367387336216, 0.03311436155705231, 1.6024816506045834, 1.0831480858882039, -1.0072890793929596, 1.6632133708190122, -0.10794673509633486, 0.45432131136859577, -0.22565078146614284, 0.45507286942503267, 0.17974586396275005, -2.0175017586254036, 1.2707085867867112, 0.8107153806972188, 1.3683894902998583, 0.6721722990716655, -1.3053183578006817, 0.5690108539109617, 1.0528361089049871, -0.9946211425344996, 0.13209780322860354, 0.5975237600550157, -0.3990103367235594, 0.8544023703785645, -0.3652754198522442, -0.9394329209739792, -1.8247763232964613, 1.387400472070589, -0.6172006358456033, 0.28514310772208395, -0.9194137609477232, -1.0945907934466066, -0.01812635633048244, -0.42870107832880905, -0.14583236585484136, -1.9112885076025667, -0.6064194759449073, -0.5831693992001507, -0.9885022195286823, -1.319588708902828, 0.16146923595796253, -0.28246046695644217, -0.7714040710560138, 0.5847383075181828, 0.19107611317750492, -0.6526040938222579, 0.5699402612438804, -0.9911031656265455, 1.6493934330272855, 1.9039049563987207, 1.218355914745771, -0.494984884549906, 0.11678360950276127, -1.2146187590914483, -1.1476654603988559, -0.6451013537990224, -0.9089642937379179, -0.3107932934346349, 0.1431930390443773, 0.49590287215018686, 0.4685352804531265, 0.10806855993380053, 0.986890513730406, 0.7865424288418571, -1.2351640606494476, -2.02351966824216, -1.370146862511068, -1.3253039883938387, -1.184340482150768, -0.5064055507257907, -3.1134408477432705, -1.3748114148134778, 0.9623455167657223, 0.15572759045814794, 0.019438510421546488, -0.756212056642985, 1.0393078996740457, 1.283603086621441, 0.013246115306398687, 0.07988076305174152, 1.7490019784053388, -0.9381427033010681, -0.7346416378276212, 1.6403942432066971, -0.3292907770726725, 0.6890521545829256, -1.1228315951030374, -0.25605505749699964, -0.16944549777624168, 1.46716671061314, -0.18662380589638208, -1.7553469955013234, -0.1186070548456802, 1.3868762776821497], \"yaxis\": \"y7\"}, {\"line\": {\"color\": \"rgba(128, 128, 128, 1.0)\", \"dash\": \"solid\", \"shape\": \"linear\", \"width\": 1.3}, \"marker\": {\"size\": 2, \"symbol\": \"circle\"}, \"mode\": \"markers\", \"name\": \"B\", \"text\": \"\", \"type\": \"scatter\", \"x\": [-1.1118640049651034, 0.1491406043116301, -1.2221106374241755, -1.6875795839754855, -0.7558177324260064, -1.6337871211050123, 0.22261233323591775, 0.7915733560199928, 1.6896287071492586, -0.1975697108903575, -1.8948362657753854, -0.2541235158529231, 0.03661794809435186, 0.7548769352154293, 0.42547738622571923, 0.46165798801264835, 0.007295368926671065, 0.891055630096048, 0.24386729392890943, 0.8307255191948365, 0.35626459418787493, 2.1578145958004145, -2.058911680464687, -0.27284665675569436, -0.15770271572799424, 1.5033000533442646, -0.7496941979711484, 0.8514411005089376, -0.3916152705357473, 0.22689570064360143, -0.2197162949623533, -0.16579621986256468, 1.7299343666421136, 1.253065148652142, 1.210314349675132, -0.44295688764545177, 0.7521680139399465, -0.2674260111881133, 1.7902607882569215, -1.2912637225126222, 1.1762596418399858, 0.3680637408772415, 1.1759519499772664, -0.2752043603187563, 0.1024792184516914, -0.5941545257254696, 0.9489352620540739, -1.062895402760241, -1.0567115215569716, -2.3587912906105832, 2.9653750929051372, -0.27421247498910417, -0.328514053729911, 0.5734230922653505, -0.0607092670338549, 1.1704828032581003, 1.354998594411703, -0.6567767998847259, -0.10265296524401771, -0.27134167423686395, 1.5412502872780447, 0.5781757038302135, 1.2224550744752862, -0.08639304752669724, 0.9262617313935608, 0.22324901110438788, -1.7744853454310123, 1.1817122408866545, -0.5286257010564885, -2.7180104539156384, -1.0045558820687108, -1.1008071985316823, 0.4275954953925082, -0.32492381688521127, -1.0280063715123986, 0.23787612180794981, 0.18686310544658025, -0.3497955317388221, -0.09738618475432757, -1.2290276943037652, 0.5875304076931959, 0.8814182541543529, -0.6781089026484597, -0.7373594071213471, 1.115607766095368, 0.12888807541459482, -0.8158561577836921, -0.5940310396993876, -0.5291881868373929, -0.5751787198636337, 0.5108329935769008, 1.2067401728845797, -1.4220280600408528, -0.24726913124166838, -0.14727165533210312, 0.4513601251105589, 0.7331496085916595, 0.8068582051299986, 0.8857024956321218, -0.3926293025656279], \"xaxis\": \"x8\", \"y\": [-0.020590181209793654, 0.5423503125602855, -0.8787354341663304, -0.4895306549248174, -0.48541537247821465, -1.1581842623847438, -0.2769367387336216, 0.03311436155705231, 1.6024816506045834, 1.0831480858882039, -1.0072890793929596, 1.6632133708190122, -0.10794673509633486, 0.45432131136859577, -0.22565078146614284, 0.45507286942503267, 0.17974586396275005, -2.0175017586254036, 1.2707085867867112, 0.8107153806972188, 1.3683894902998583, 0.6721722990716655, -1.3053183578006817, 0.5690108539109617, 1.0528361089049871, -0.9946211425344996, 0.13209780322860354, 0.5975237600550157, -0.3990103367235594, 0.8544023703785645, -0.3652754198522442, -0.9394329209739792, -1.8247763232964613, 1.387400472070589, -0.6172006358456033, 0.28514310772208395, -0.9194137609477232, -1.0945907934466066, -0.01812635633048244, -0.42870107832880905, -0.14583236585484136, -1.9112885076025667, -0.6064194759449073, -0.5831693992001507, -0.9885022195286823, -1.319588708902828, 0.16146923595796253, -0.28246046695644217, -0.7714040710560138, 0.5847383075181828, 0.19107611317750492, -0.6526040938222579, 0.5699402612438804, -0.9911031656265455, 1.6493934330272855, 1.9039049563987207, 1.218355914745771, -0.494984884549906, 0.11678360950276127, -1.2146187590914483, -1.1476654603988559, -0.6451013537990224, -0.9089642937379179, -0.3107932934346349, 0.1431930390443773, 0.49590287215018686, 0.4685352804531265, 0.10806855993380053, 0.986890513730406, 0.7865424288418571, -1.2351640606494476, -2.02351966824216, -1.370146862511068, -1.3253039883938387, -1.184340482150768, -0.5064055507257907, -3.1134408477432705, -1.3748114148134778, 0.9623455167657223, 0.15572759045814794, 0.019438510421546488, -0.756212056642985, 1.0393078996740457, 1.283603086621441, 0.013246115306398687, 0.07988076305174152, 1.7490019784053388, -0.9381427033010681, -0.7346416378276212, 1.6403942432066971, -0.3292907770726725, 0.6890521545829256, -1.1228315951030374, -0.25605505749699964, -0.16944549777624168, 1.46716671061314, -0.18662380589638208, -1.7553469955013234, -0.1186070548456802, 1.3868762776821497], \"yaxis\": \"y8\"}, {\"line\": {\"color\": \"rgba(128, 128, 128, 1.0)\", \"dash\": \"solid\", \"shape\": \"linear\", \"width\": 1.3}, \"marker\": {\"size\": 2, \"symbol\": \"circle\"}, \"mode\": \"markers\", \"name\": \"C\", \"text\": \"\", \"type\": \"scatter\", \"x\": [0.3464195938218623, 1.2191331189779477, -1.566198556307964, 0.46573085450095364, -0.15261785777811135, -0.8028457730946738, -1.2939789962191617, -0.6418087219226248, 1.9109107394573086, -0.7984950981964833, 0.37572064407586353, 0.10804546809227975, -0.2955939166246089, 0.6668013724677774, 1.606777904150411, 0.18473563502452545, -0.21514032491554505, -0.2776151300214792, 0.8398510702601665, -0.17787273295740644, 1.8394677466697062, -0.6830318073232281, 1.1910043748570203, -0.06296070100823661, 0.3893011193237392, -0.5418276224573682, 0.1456421026340764, 1.3478116660010542, 1.3398140902363653, 0.17909770396651062, -0.7347774212014662, -0.664509282045416, 1.9958932346583351, 0.06464239428800038, -0.17331233101528445, -1.5199911226136043, -0.011764777467682862, -0.22961655060029354, 0.8344144539000332, -0.6252542380202118, -0.35722719110995915, 1.4681106315488035, -0.972833984774363, -1.3185876357784978, 0.8369173852064116, -0.7203822787149038, 0.5391211086088187, 0.40930127362148827, 1.3305953798884078, 0.7875773751444973, 0.24411739461868534, -0.08843505642188325, 0.268342155604911, 0.053365885727759556, -0.027406353957162198, -0.542478529849032, 0.6176151365107044, -0.18176398391036097, -0.2045336720258062, 0.32644055801113225, 0.5569115331629004, 0.4709120552818683, -0.5511771984791615, 0.38672288804052146, 0.49369878628381486, 0.8742747551276879, -0.7728036843643227, -0.5316316557408409, -0.019359629269128015, -0.43540839748513804, 2.193864246093326, 0.7071061333240987, -0.6738965948167931, 2.3946971136177124, 1.2529062193552296, 1.0214426121109126, -0.18054114299205762, -1.848921966805281, 1.3846982722939123, 0.37389409884423136, -0.5518891745455325, -0.812964815588062, -0.1445860029165156, 0.5976439474074358, -0.031143888839414168, 1.288640608161686, -1.3760544674922424, 0.9963133082520479, 0.9751556082817852, -0.07231954115489966, -0.36525133427411105, 0.8539810900777741, -0.5593653152080624, 1.6784765782994218, 1.49764233252627, -0.8623001565375716, -0.7415847178841932, 1.1902930047966387, 0.5729387527499807, -0.2143483560074946], \"xaxis\": \"x9\", \"y\": [0.14358159005220242, 0.2920812719560736, 0.4034545189350478, 1.1846433872331292, 0.319242774725028, -1.0378007174169739, 0.8566005112545779, 1.230587387035751, -0.6904449421321213, 0.5977777507201271, -0.2957408276879956, -1.2495092936375563, 1.6656398714796146, -0.3446167923977057, -1.254503270950624, -1.1388161689544005, -0.1717411579167247, 1.337329782119376, -1.6571968313842216, 0.395304398552172, 0.3331717998492536, 1.027506271028855, 1.6474630147154348, 0.3976627652729076, 0.407886600933332, -0.5530433271104201, 1.0332177544732484, 0.86768325022945, -0.3279844909807892, 0.3341765602344462, -1.3314901096554927, 0.09517340058130781, 0.414233914581945, 0.008258261866098746, -1.2358266866438095, -0.051510801020062245, -1.1018971303963652, -0.015386259776738126, -1.2133402799715634, 0.7238599629917095, -0.39130890290694187, 0.4279914942549863, -0.20925301904311044, -0.07715446690954722, -0.5219958922492965, 0.5971498071391562, -0.5679311029386973, -0.6379609701710316, -0.008311692620811812, -1.3357400359256055, 0.36352824933081623, -1.0139147273562739, -0.8276356994707972, -1.0139657015110843, 0.9348172455435725, 0.7346190521865691, 0.32389401870404105, 0.3890011873245929, 0.5842398951563093, -0.025820761777430607, -0.6520353470200743, -0.1957954163288069, -0.8525926967078836, 0.24534399615516964, 0.6447632757277592, 0.2444416159774107, 0.6885672298514097, 0.14182452610579782, -0.8383124174831217, -0.5256271659891929, 0.7474320776428933, 0.5498407131196493, 0.4326392632653981, -1.0041028281208184, -0.023836964615872768, -0.5842708332074602, -1.3655332884624836, -0.7016652237620963, -0.2544652796566522, -0.9696356130351645, -0.16816395858146188, 0.12710783669496098, -0.8217755283837832, 0.7570671870362776, 2.5475431730589433, -0.2276466929232567, 0.4669050820081747, 0.3904063276011235, 0.6397549748807329, 1.2479494093044476, -0.3393342010587006, 0.02345841570658886, -0.5581521817674187, 0.07108629812707043, 0.13841439096535338, -0.3076131842355114, -0.44813213779990757, -0.7341619613796643, -1.0667492318297769, 0.7541483808510677], \"yaxis\": \"y9\"}, {\"line\": {\"color\": \"rgba(128, 128, 128, 1.0)\", \"dash\": \"solid\", \"shape\": \"linear\", \"width\": 1.3}, \"marker\": {\"size\": 2, \"symbol\": \"circle\"}, \"mode\": \"markers\", \"name\": \"C\", \"text\": \"\", \"type\": \"scatter\", \"x\": [-0.020590181209793654, 0.5423503125602855, -0.8787354341663304, -0.4895306549248174, -0.48541537247821465, -1.1581842623847438, -0.2769367387336216, 0.03311436155705231, 1.6024816506045834, 1.0831480858882039, -1.0072890793929596, 1.6632133708190122, -0.10794673509633486, 0.45432131136859577, -0.22565078146614284, 0.45507286942503267, 0.17974586396275005, -2.0175017586254036, 1.2707085867867112, 0.8107153806972188, 1.3683894902998583, 0.6721722990716655, -1.3053183578006817, 0.5690108539109617, 1.0528361089049871, -0.9946211425344996, 0.13209780322860354, 0.5975237600550157, -0.3990103367235594, 0.8544023703785645, -0.3652754198522442, -0.9394329209739792, -1.8247763232964613, 1.387400472070589, -0.6172006358456033, 0.28514310772208395, -0.9194137609477232, -1.0945907934466066, -0.01812635633048244, -0.42870107832880905, -0.14583236585484136, -1.9112885076025667, -0.6064194759449073, -0.5831693992001507, -0.9885022195286823, -1.319588708902828, 0.16146923595796253, -0.28246046695644217, -0.7714040710560138, 0.5847383075181828, 0.19107611317750492, -0.6526040938222579, 0.5699402612438804, -0.9911031656265455, 1.6493934330272855, 1.9039049563987207, 1.218355914745771, -0.494984884549906, 0.11678360950276127, -1.2146187590914483, -1.1476654603988559, -0.6451013537990224, -0.9089642937379179, -0.3107932934346349, 0.1431930390443773, 0.49590287215018686, 0.4685352804531265, 0.10806855993380053, 0.986890513730406, 0.7865424288418571, -1.2351640606494476, -2.02351966824216, -1.370146862511068, -1.3253039883938387, -1.184340482150768, -0.5064055507257907, -3.1134408477432705, -1.3748114148134778, 0.9623455167657223, 0.15572759045814794, 0.019438510421546488, -0.756212056642985, 1.0393078996740457, 1.283603086621441, 0.013246115306398687, 0.07988076305174152, 1.7490019784053388, -0.9381427033010681, -0.7346416378276212, 1.6403942432066971, -0.3292907770726725, 0.6890521545829256, -1.1228315951030374, -0.25605505749699964, -0.16944549777624168, 1.46716671061314, -0.18662380589638208, -1.7553469955013234, -0.1186070548456802, 1.3868762776821497], \"xaxis\": \"x10\", \"y\": [0.14358159005220242, 0.2920812719560736, 0.4034545189350478, 1.1846433872331292, 0.319242774725028, -1.0378007174169739, 0.8566005112545779, 1.230587387035751, -0.6904449421321213, 0.5977777507201271, -0.2957408276879956, -1.2495092936375563, 1.6656398714796146, -0.3446167923977057, -1.254503270950624, -1.1388161689544005, -0.1717411579167247, 1.337329782119376, -1.6571968313842216, 0.395304398552172, 0.3331717998492536, 1.027506271028855, 1.6474630147154348, 0.3976627652729076, 0.407886600933332, -0.5530433271104201, 1.0332177544732484, 0.86768325022945, -0.3279844909807892, 0.3341765602344462, -1.3314901096554927, 0.09517340058130781, 0.414233914581945, 0.008258261866098746, -1.2358266866438095, -0.051510801020062245, -1.1018971303963652, -0.015386259776738126, -1.2133402799715634, 0.7238599629917095, -0.39130890290694187, 0.4279914942549863, -0.20925301904311044, -0.07715446690954722, -0.5219958922492965, 0.5971498071391562, -0.5679311029386973, -0.6379609701710316, -0.008311692620811812, -1.3357400359256055, 0.36352824933081623, -1.0139147273562739, -0.8276356994707972, -1.0139657015110843, 0.9348172455435725, 0.7346190521865691, 0.32389401870404105, 0.3890011873245929, 0.5842398951563093, -0.025820761777430607, -0.6520353470200743, -0.1957954163288069, -0.8525926967078836, 0.24534399615516964, 0.6447632757277592, 0.2444416159774107, 0.6885672298514097, 0.14182452610579782, -0.8383124174831217, -0.5256271659891929, 0.7474320776428933, 0.5498407131196493, 0.4326392632653981, -1.0041028281208184, -0.023836964615872768, -0.5842708332074602, -1.3655332884624836, -0.7016652237620963, -0.2544652796566522, -0.9696356130351645, -0.16816395858146188, 0.12710783669496098, -0.8217755283837832, 0.7570671870362776, 2.5475431730589433, -0.2276466929232567, 0.4669050820081747, 0.3904063276011235, 0.6397549748807329, 1.2479494093044476, -0.3393342010587006, 0.02345841570658886, -0.5581521817674187, 0.07108629812707043, 0.13841439096535338, -0.3076131842355114, -0.44813213779990757, -0.7341619613796643, -1.0667492318297769, 0.7541483808510677], \"yaxis\": \"y10\"}, {\"histfunc\": \"count\", \"histnorm\": \"\", \"marker\": {\"color\": \"rgba(50, 171, 96, 1.0)\", \"line\": {\"color\": \"#4D5663\", \"width\": 1.3}}, \"name\": \"C\", \"nbinsx\": 10, \"opacity\": 0.8, \"orientation\": \"v\", \"type\": \"histogram\", \"x\": [0.14358159005220242, 0.2920812719560736, 0.4034545189350478, 1.1846433872331292, 0.319242774725028, -1.0378007174169739, 0.8566005112545779, 1.230587387035751, -0.6904449421321213, 0.5977777507201271, -0.2957408276879956, -1.2495092936375563, 1.6656398714796146, -0.3446167923977057, -1.254503270950624, -1.1388161689544005, -0.1717411579167247, 1.337329782119376, -1.6571968313842216, 0.395304398552172, 0.3331717998492536, 1.027506271028855, 1.6474630147154348, 0.3976627652729076, 0.407886600933332, -0.5530433271104201, 1.0332177544732484, 0.86768325022945, -0.3279844909807892, 0.3341765602344462, -1.3314901096554927, 0.09517340058130781, 0.414233914581945, 0.008258261866098746, -1.2358266866438095, -0.051510801020062245, -1.1018971303963652, -0.015386259776738126, -1.2133402799715634, 0.7238599629917095, -0.39130890290694187, 0.4279914942549863, -0.20925301904311044, -0.07715446690954722, -0.5219958922492965, 0.5971498071391562, -0.5679311029386973, -0.6379609701710316, -0.008311692620811812, -1.3357400359256055, 0.36352824933081623, -1.0139147273562739, -0.8276356994707972, -1.0139657015110843, 0.9348172455435725, 0.7346190521865691, 0.32389401870404105, 0.3890011873245929, 0.5842398951563093, -0.025820761777430607, -0.6520353470200743, -0.1957954163288069, -0.8525926967078836, 0.24534399615516964, 0.6447632757277592, 0.2444416159774107, 0.6885672298514097, 0.14182452610579782, -0.8383124174831217, -0.5256271659891929, 0.7474320776428933, 0.5498407131196493, 0.4326392632653981, -1.0041028281208184, -0.023836964615872768, -0.5842708332074602, -1.3655332884624836, -0.7016652237620963, -0.2544652796566522, -0.9696356130351645, -0.16816395858146188, 0.12710783669496098, -0.8217755283837832, 0.7570671870362776, 2.5475431730589433, -0.2276466929232567, 0.4669050820081747, 0.3904063276011235, 0.6397549748807329, 1.2479494093044476, -0.3393342010587006, 0.02345841570658886, -0.5581521817674187, 0.07108629812707043, 0.13841439096535338, -0.3076131842355114, -0.44813213779990757, -0.7341619613796643, -1.0667492318297769, 0.7541483808510677], \"xaxis\": \"x11\", \"yaxis\": \"y11\"}, {\"line\": {\"color\": \"rgba(128, 128, 128, 1.0)\", \"dash\": \"solid\", \"shape\": \"linear\", \"width\": 1.3}, \"marker\": {\"size\": 2, \"symbol\": \"circle\"}, \"mode\": \"markers\", \"name\": \"C\", \"text\": \"\", \"type\": \"scatter\", \"x\": [-1.1118640049651034, 0.1491406043116301, -1.2221106374241755, -1.6875795839754855, -0.7558177324260064, -1.6337871211050123, 0.22261233323591775, 0.7915733560199928, 1.6896287071492586, -0.1975697108903575, -1.8948362657753854, -0.2541235158529231, 0.03661794809435186, 0.7548769352154293, 0.42547738622571923, 0.46165798801264835, 0.007295368926671065, 0.891055630096048, 0.24386729392890943, 0.8307255191948365, 0.35626459418787493, 2.1578145958004145, -2.058911680464687, -0.27284665675569436, -0.15770271572799424, 1.5033000533442646, -0.7496941979711484, 0.8514411005089376, -0.3916152705357473, 0.22689570064360143, -0.2197162949623533, -0.16579621986256468, 1.7299343666421136, 1.253065148652142, 1.210314349675132, -0.44295688764545177, 0.7521680139399465, -0.2674260111881133, 1.7902607882569215, -1.2912637225126222, 1.1762596418399858, 0.3680637408772415, 1.1759519499772664, -0.2752043603187563, 0.1024792184516914, -0.5941545257254696, 0.9489352620540739, -1.062895402760241, -1.0567115215569716, -2.3587912906105832, 2.9653750929051372, -0.27421247498910417, -0.328514053729911, 0.5734230922653505, -0.0607092670338549, 1.1704828032581003, 1.354998594411703, -0.6567767998847259, -0.10265296524401771, -0.27134167423686395, 1.5412502872780447, 0.5781757038302135, 1.2224550744752862, -0.08639304752669724, 0.9262617313935608, 0.22324901110438788, -1.7744853454310123, 1.1817122408866545, -0.5286257010564885, -2.7180104539156384, -1.0045558820687108, -1.1008071985316823, 0.4275954953925082, -0.32492381688521127, -1.0280063715123986, 0.23787612180794981, 0.18686310544658025, -0.3497955317388221, -0.09738618475432757, -1.2290276943037652, 0.5875304076931959, 0.8814182541543529, -0.6781089026484597, -0.7373594071213471, 1.115607766095368, 0.12888807541459482, -0.8158561577836921, -0.5940310396993876, -0.5291881868373929, -0.5751787198636337, 0.5108329935769008, 1.2067401728845797, -1.4220280600408528, -0.24726913124166838, -0.14727165533210312, 0.4513601251105589, 0.7331496085916595, 0.8068582051299986, 0.8857024956321218, -0.3926293025656279], \"xaxis\": \"x12\", \"y\": [0.14358159005220242, 0.2920812719560736, 0.4034545189350478, 1.1846433872331292, 0.319242774725028, -1.0378007174169739, 0.8566005112545779, 1.230587387035751, -0.6904449421321213, 0.5977777507201271, -0.2957408276879956, -1.2495092936375563, 1.6656398714796146, -0.3446167923977057, -1.254503270950624, -1.1388161689544005, -0.1717411579167247, 1.337329782119376, -1.6571968313842216, 0.395304398552172, 0.3331717998492536, 1.027506271028855, 1.6474630147154348, 0.3976627652729076, 0.407886600933332, -0.5530433271104201, 1.0332177544732484, 0.86768325022945, -0.3279844909807892, 0.3341765602344462, -1.3314901096554927, 0.09517340058130781, 0.414233914581945, 0.008258261866098746, -1.2358266866438095, -0.051510801020062245, -1.1018971303963652, -0.015386259776738126, -1.2133402799715634, 0.7238599629917095, -0.39130890290694187, 0.4279914942549863, -0.20925301904311044, -0.07715446690954722, -0.5219958922492965, 0.5971498071391562, -0.5679311029386973, -0.6379609701710316, -0.008311692620811812, -1.3357400359256055, 0.36352824933081623, -1.0139147273562739, -0.8276356994707972, -1.0139657015110843, 0.9348172455435725, 0.7346190521865691, 0.32389401870404105, 0.3890011873245929, 0.5842398951563093, -0.025820761777430607, -0.6520353470200743, -0.1957954163288069, -0.8525926967078836, 0.24534399615516964, 0.6447632757277592, 0.2444416159774107, 0.6885672298514097, 0.14182452610579782, -0.8383124174831217, -0.5256271659891929, 0.7474320776428933, 0.5498407131196493, 0.4326392632653981, -1.0041028281208184, -0.023836964615872768, -0.5842708332074602, -1.3655332884624836, -0.7016652237620963, -0.2544652796566522, -0.9696356130351645, -0.16816395858146188, 0.12710783669496098, -0.8217755283837832, 0.7570671870362776, 2.5475431730589433, -0.2276466929232567, 0.4669050820081747, 0.3904063276011235, 0.6397549748807329, 1.2479494093044476, -0.3393342010587006, 0.02345841570658886, -0.5581521817674187, 0.07108629812707043, 0.13841439096535338, -0.3076131842355114, -0.44813213779990757, -0.7341619613796643, -1.0667492318297769, 0.7541483808510677], \"yaxis\": \"y12\"}, {\"line\": {\"color\": \"rgba(128, 128, 128, 1.0)\", \"dash\": \"solid\", \"shape\": \"linear\", \"width\": 1.3}, \"marker\": {\"size\": 2, \"symbol\": \"circle\"}, \"mode\": \"markers\", \"name\": \"D\", \"text\": \"\", \"type\": \"scatter\", \"x\": [0.3464195938218623, 1.2191331189779477, -1.566198556307964, 0.46573085450095364, -0.15261785777811135, -0.8028457730946738, -1.2939789962191617, -0.6418087219226248, 1.9109107394573086, -0.7984950981964833, 0.37572064407586353, 0.10804546809227975, -0.2955939166246089, 0.6668013724677774, 1.606777904150411, 0.18473563502452545, -0.21514032491554505, -0.2776151300214792, 0.8398510702601665, -0.17787273295740644, 1.8394677466697062, -0.6830318073232281, 1.1910043748570203, -0.06296070100823661, 0.3893011193237392, -0.5418276224573682, 0.1456421026340764, 1.3478116660010542, 1.3398140902363653, 0.17909770396651062, -0.7347774212014662, -0.664509282045416, 1.9958932346583351, 0.06464239428800038, -0.17331233101528445, -1.5199911226136043, -0.011764777467682862, -0.22961655060029354, 0.8344144539000332, -0.6252542380202118, -0.35722719110995915, 1.4681106315488035, -0.972833984774363, -1.3185876357784978, 0.8369173852064116, -0.7203822787149038, 0.5391211086088187, 0.40930127362148827, 1.3305953798884078, 0.7875773751444973, 0.24411739461868534, -0.08843505642188325, 0.268342155604911, 0.053365885727759556, -0.027406353957162198, -0.542478529849032, 0.6176151365107044, -0.18176398391036097, -0.2045336720258062, 0.32644055801113225, 0.5569115331629004, 0.4709120552818683, -0.5511771984791615, 0.38672288804052146, 0.49369878628381486, 0.8742747551276879, -0.7728036843643227, -0.5316316557408409, -0.019359629269128015, -0.43540839748513804, 2.193864246093326, 0.7071061333240987, -0.6738965948167931, 2.3946971136177124, 1.2529062193552296, 1.0214426121109126, -0.18054114299205762, -1.848921966805281, 1.3846982722939123, 0.37389409884423136, -0.5518891745455325, -0.812964815588062, -0.1445860029165156, 0.5976439474074358, -0.031143888839414168, 1.288640608161686, -1.3760544674922424, 0.9963133082520479, 0.9751556082817852, -0.07231954115489966, -0.36525133427411105, 0.8539810900777741, -0.5593653152080624, 1.6784765782994218, 1.49764233252627, -0.8623001565375716, -0.7415847178841932, 1.1902930047966387, 0.5729387527499807, -0.2143483560074946], \"xaxis\": \"x13\", \"y\": [-1.1118640049651034, 0.1491406043116301, -1.2221106374241755, -1.6875795839754855, -0.7558177324260064, -1.6337871211050123, 0.22261233323591775, 0.7915733560199928, 1.6896287071492586, -0.1975697108903575, -1.8948362657753854, -0.2541235158529231, 0.03661794809435186, 0.7548769352154293, 0.42547738622571923, 0.46165798801264835, 0.007295368926671065, 0.891055630096048, 0.24386729392890943, 0.8307255191948365, 0.35626459418787493, 2.1578145958004145, -2.058911680464687, -0.27284665675569436, -0.15770271572799424, 1.5033000533442646, -0.7496941979711484, 0.8514411005089376, -0.3916152705357473, 0.22689570064360143, -0.2197162949623533, -0.16579621986256468, 1.7299343666421136, 1.253065148652142, 1.210314349675132, -0.44295688764545177, 0.7521680139399465, -0.2674260111881133, 1.7902607882569215, -1.2912637225126222, 1.1762596418399858, 0.3680637408772415, 1.1759519499772664, -0.2752043603187563, 0.1024792184516914, -0.5941545257254696, 0.9489352620540739, -1.062895402760241, -1.0567115215569716, -2.3587912906105832, 2.9653750929051372, -0.27421247498910417, -0.328514053729911, 0.5734230922653505, -0.0607092670338549, 1.1704828032581003, 1.354998594411703, -0.6567767998847259, -0.10265296524401771, -0.27134167423686395, 1.5412502872780447, 0.5781757038302135, 1.2224550744752862, -0.08639304752669724, 0.9262617313935608, 0.22324901110438788, -1.7744853454310123, 1.1817122408866545, -0.5286257010564885, -2.7180104539156384, -1.0045558820687108, -1.1008071985316823, 0.4275954953925082, -0.32492381688521127, -1.0280063715123986, 0.23787612180794981, 0.18686310544658025, -0.3497955317388221, -0.09738618475432757, -1.2290276943037652, 0.5875304076931959, 0.8814182541543529, -0.6781089026484597, -0.7373594071213471, 1.115607766095368, 0.12888807541459482, -0.8158561577836921, -0.5940310396993876, -0.5291881868373929, -0.5751787198636337, 0.5108329935769008, 1.2067401728845797, -1.4220280600408528, -0.24726913124166838, -0.14727165533210312, 0.4513601251105589, 0.7331496085916595, 0.8068582051299986, 0.8857024956321218, -0.3926293025656279], \"yaxis\": \"y13\"}, {\"line\": {\"color\": \"rgba(128, 128, 128, 1.0)\", \"dash\": \"solid\", \"shape\": \"linear\", \"width\": 1.3}, \"marker\": {\"size\": 2, \"symbol\": \"circle\"}, \"mode\": \"markers\", \"name\": \"D\", \"text\": \"\", \"type\": \"scatter\", \"x\": [-0.020590181209793654, 0.5423503125602855, -0.8787354341663304, -0.4895306549248174, -0.48541537247821465, -1.1581842623847438, -0.2769367387336216, 0.03311436155705231, 1.6024816506045834, 1.0831480858882039, -1.0072890793929596, 1.6632133708190122, -0.10794673509633486, 0.45432131136859577, -0.22565078146614284, 0.45507286942503267, 0.17974586396275005, -2.0175017586254036, 1.2707085867867112, 0.8107153806972188, 1.3683894902998583, 0.6721722990716655, -1.3053183578006817, 0.5690108539109617, 1.0528361089049871, -0.9946211425344996, 0.13209780322860354, 0.5975237600550157, -0.3990103367235594, 0.8544023703785645, -0.3652754198522442, -0.9394329209739792, -1.8247763232964613, 1.387400472070589, -0.6172006358456033, 0.28514310772208395, -0.9194137609477232, -1.0945907934466066, -0.01812635633048244, -0.42870107832880905, -0.14583236585484136, -1.9112885076025667, -0.6064194759449073, -0.5831693992001507, -0.9885022195286823, -1.319588708902828, 0.16146923595796253, -0.28246046695644217, -0.7714040710560138, 0.5847383075181828, 0.19107611317750492, -0.6526040938222579, 0.5699402612438804, -0.9911031656265455, 1.6493934330272855, 1.9039049563987207, 1.218355914745771, -0.494984884549906, 0.11678360950276127, -1.2146187590914483, -1.1476654603988559, -0.6451013537990224, -0.9089642937379179, -0.3107932934346349, 0.1431930390443773, 0.49590287215018686, 0.4685352804531265, 0.10806855993380053, 0.986890513730406, 0.7865424288418571, -1.2351640606494476, -2.02351966824216, -1.370146862511068, -1.3253039883938387, -1.184340482150768, -0.5064055507257907, -3.1134408477432705, -1.3748114148134778, 0.9623455167657223, 0.15572759045814794, 0.019438510421546488, -0.756212056642985, 1.0393078996740457, 1.283603086621441, 0.013246115306398687, 0.07988076305174152, 1.7490019784053388, -0.9381427033010681, -0.7346416378276212, 1.6403942432066971, -0.3292907770726725, 0.6890521545829256, -1.1228315951030374, -0.25605505749699964, -0.16944549777624168, 1.46716671061314, -0.18662380589638208, -1.7553469955013234, -0.1186070548456802, 1.3868762776821497], \"xaxis\": \"x14\", \"y\": [-1.1118640049651034, 0.1491406043116301, -1.2221106374241755, -1.6875795839754855, -0.7558177324260064, -1.6337871211050123, 0.22261233323591775, 0.7915733560199928, 1.6896287071492586, -0.1975697108903575, -1.8948362657753854, -0.2541235158529231, 0.03661794809435186, 0.7548769352154293, 0.42547738622571923, 0.46165798801264835, 0.007295368926671065, 0.891055630096048, 0.24386729392890943, 0.8307255191948365, 0.35626459418787493, 2.1578145958004145, -2.058911680464687, -0.27284665675569436, -0.15770271572799424, 1.5033000533442646, -0.7496941979711484, 0.8514411005089376, -0.3916152705357473, 0.22689570064360143, -0.2197162949623533, -0.16579621986256468, 1.7299343666421136, 1.253065148652142, 1.210314349675132, -0.44295688764545177, 0.7521680139399465, -0.2674260111881133, 1.7902607882569215, -1.2912637225126222, 1.1762596418399858, 0.3680637408772415, 1.1759519499772664, -0.2752043603187563, 0.1024792184516914, -0.5941545257254696, 0.9489352620540739, -1.062895402760241, -1.0567115215569716, -2.3587912906105832, 2.9653750929051372, -0.27421247498910417, -0.328514053729911, 0.5734230922653505, -0.0607092670338549, 1.1704828032581003, 1.354998594411703, -0.6567767998847259, -0.10265296524401771, -0.27134167423686395, 1.5412502872780447, 0.5781757038302135, 1.2224550744752862, -0.08639304752669724, 0.9262617313935608, 0.22324901110438788, -1.7744853454310123, 1.1817122408866545, -0.5286257010564885, -2.7180104539156384, -1.0045558820687108, -1.1008071985316823, 0.4275954953925082, -0.32492381688521127, -1.0280063715123986, 0.23787612180794981, 0.18686310544658025, -0.3497955317388221, -0.09738618475432757, -1.2290276943037652, 0.5875304076931959, 0.8814182541543529, -0.6781089026484597, -0.7373594071213471, 1.115607766095368, 0.12888807541459482, -0.8158561577836921, -0.5940310396993876, -0.5291881868373929, -0.5751787198636337, 0.5108329935769008, 1.2067401728845797, -1.4220280600408528, -0.24726913124166838, -0.14727165533210312, 0.4513601251105589, 0.7331496085916595, 0.8068582051299986, 0.8857024956321218, -0.3926293025656279], \"yaxis\": \"y14\"}, {\"line\": {\"color\": \"rgba(128, 128, 128, 1.0)\", \"dash\": \"solid\", \"shape\": \"linear\", \"width\": 1.3}, \"marker\": {\"size\": 2, \"symbol\": \"circle\"}, \"mode\": \"markers\", \"name\": \"D\", \"text\": \"\", \"type\": \"scatter\", \"x\": [0.14358159005220242, 0.2920812719560736, 0.4034545189350478, 1.1846433872331292, 0.319242774725028, -1.0378007174169739, 0.8566005112545779, 1.230587387035751, -0.6904449421321213, 0.5977777507201271, -0.2957408276879956, -1.2495092936375563, 1.6656398714796146, -0.3446167923977057, -1.254503270950624, -1.1388161689544005, -0.1717411579167247, 1.337329782119376, -1.6571968313842216, 0.395304398552172, 0.3331717998492536, 1.027506271028855, 1.6474630147154348, 0.3976627652729076, 0.407886600933332, -0.5530433271104201, 1.0332177544732484, 0.86768325022945, -0.3279844909807892, 0.3341765602344462, -1.3314901096554927, 0.09517340058130781, 0.414233914581945, 0.008258261866098746, -1.2358266866438095, -0.051510801020062245, -1.1018971303963652, -0.015386259776738126, -1.2133402799715634, 0.7238599629917095, -0.39130890290694187, 0.4279914942549863, -0.20925301904311044, -0.07715446690954722, -0.5219958922492965, 0.5971498071391562, -0.5679311029386973, -0.6379609701710316, -0.008311692620811812, -1.3357400359256055, 0.36352824933081623, -1.0139147273562739, -0.8276356994707972, -1.0139657015110843, 0.9348172455435725, 0.7346190521865691, 0.32389401870404105, 0.3890011873245929, 0.5842398951563093, -0.025820761777430607, -0.6520353470200743, -0.1957954163288069, -0.8525926967078836, 0.24534399615516964, 0.6447632757277592, 0.2444416159774107, 0.6885672298514097, 0.14182452610579782, -0.8383124174831217, -0.5256271659891929, 0.7474320776428933, 0.5498407131196493, 0.4326392632653981, -1.0041028281208184, -0.023836964615872768, -0.5842708332074602, -1.3655332884624836, -0.7016652237620963, -0.2544652796566522, -0.9696356130351645, -0.16816395858146188, 0.12710783669496098, -0.8217755283837832, 0.7570671870362776, 2.5475431730589433, -0.2276466929232567, 0.4669050820081747, 0.3904063276011235, 0.6397549748807329, 1.2479494093044476, -0.3393342010587006, 0.02345841570658886, -0.5581521817674187, 0.07108629812707043, 0.13841439096535338, -0.3076131842355114, -0.44813213779990757, -0.7341619613796643, -1.0667492318297769, 0.7541483808510677], \"xaxis\": \"x15\", \"y\": [-1.1118640049651034, 0.1491406043116301, -1.2221106374241755, -1.6875795839754855, -0.7558177324260064, -1.6337871211050123, 0.22261233323591775, 0.7915733560199928, 1.6896287071492586, -0.1975697108903575, -1.8948362657753854, -0.2541235158529231, 0.03661794809435186, 0.7548769352154293, 0.42547738622571923, 0.46165798801264835, 0.007295368926671065, 0.891055630096048, 0.24386729392890943, 0.8307255191948365, 0.35626459418787493, 2.1578145958004145, -2.058911680464687, -0.27284665675569436, -0.15770271572799424, 1.5033000533442646, -0.7496941979711484, 0.8514411005089376, -0.3916152705357473, 0.22689570064360143, -0.2197162949623533, -0.16579621986256468, 1.7299343666421136, 1.253065148652142, 1.210314349675132, -0.44295688764545177, 0.7521680139399465, -0.2674260111881133, 1.7902607882569215, -1.2912637225126222, 1.1762596418399858, 0.3680637408772415, 1.1759519499772664, -0.2752043603187563, 0.1024792184516914, -0.5941545257254696, 0.9489352620540739, -1.062895402760241, -1.0567115215569716, -2.3587912906105832, 2.9653750929051372, -0.27421247498910417, -0.328514053729911, 0.5734230922653505, -0.0607092670338549, 1.1704828032581003, 1.354998594411703, -0.6567767998847259, -0.10265296524401771, -0.27134167423686395, 1.5412502872780447, 0.5781757038302135, 1.2224550744752862, -0.08639304752669724, 0.9262617313935608, 0.22324901110438788, -1.7744853454310123, 1.1817122408866545, -0.5286257010564885, -2.7180104539156384, -1.0045558820687108, -1.1008071985316823, 0.4275954953925082, -0.32492381688521127, -1.0280063715123986, 0.23787612180794981, 0.18686310544658025, -0.3497955317388221, -0.09738618475432757, -1.2290276943037652, 0.5875304076931959, 0.8814182541543529, -0.6781089026484597, -0.7373594071213471, 1.115607766095368, 0.12888807541459482, -0.8158561577836921, -0.5940310396993876, -0.5291881868373929, -0.5751787198636337, 0.5108329935769008, 1.2067401728845797, -1.4220280600408528, -0.24726913124166838, -0.14727165533210312, 0.4513601251105589, 0.7331496085916595, 0.8068582051299986, 0.8857024956321218, -0.3926293025656279], \"yaxis\": \"y15\"}, {\"histfunc\": \"count\", \"histnorm\": \"\", \"marker\": {\"color\": \"rgba(128, 0, 128, 1.0)\", \"line\": {\"color\": \"#4D5663\", \"width\": 1.3}}, \"name\": \"D\", \"nbinsx\": 10, \"opacity\": 0.8, \"orientation\": \"v\", \"type\": \"histogram\", \"x\": [-1.1118640049651034, 0.1491406043116301, -1.2221106374241755, -1.6875795839754855, -0.7558177324260064, -1.6337871211050123, 0.22261233323591775, 0.7915733560199928, 1.6896287071492586, -0.1975697108903575, -1.8948362657753854, -0.2541235158529231, 0.03661794809435186, 0.7548769352154293, 0.42547738622571923, 0.46165798801264835, 0.007295368926671065, 0.891055630096048, 0.24386729392890943, 0.8307255191948365, 0.35626459418787493, 2.1578145958004145, -2.058911680464687, -0.27284665675569436, -0.15770271572799424, 1.5033000533442646, -0.7496941979711484, 0.8514411005089376, -0.3916152705357473, 0.22689570064360143, -0.2197162949623533, -0.16579621986256468, 1.7299343666421136, 1.253065148652142, 1.210314349675132, -0.44295688764545177, 0.7521680139399465, -0.2674260111881133, 1.7902607882569215, -1.2912637225126222, 1.1762596418399858, 0.3680637408772415, 1.1759519499772664, -0.2752043603187563, 0.1024792184516914, -0.5941545257254696, 0.9489352620540739, -1.062895402760241, -1.0567115215569716, -2.3587912906105832, 2.9653750929051372, -0.27421247498910417, -0.328514053729911, 0.5734230922653505, -0.0607092670338549, 1.1704828032581003, 1.354998594411703, -0.6567767998847259, -0.10265296524401771, -0.27134167423686395, 1.5412502872780447, 0.5781757038302135, 1.2224550744752862, -0.08639304752669724, 0.9262617313935608, 0.22324901110438788, -1.7744853454310123, 1.1817122408866545, -0.5286257010564885, -2.7180104539156384, -1.0045558820687108, -1.1008071985316823, 0.4275954953925082, -0.32492381688521127, -1.0280063715123986, 0.23787612180794981, 0.18686310544658025, -0.3497955317388221, -0.09738618475432757, -1.2290276943037652, 0.5875304076931959, 0.8814182541543529, -0.6781089026484597, -0.7373594071213471, 1.115607766095368, 0.12888807541459482, -0.8158561577836921, -0.5940310396993876, -0.5291881868373929, -0.5751787198636337, 0.5108329935769008, 1.2067401728845797, -1.4220280600408528, -0.24726913124166838, -0.14727165533210312, 0.4513601251105589, 0.7331496085916595, 0.8068582051299986, 0.8857024956321218, -0.3926293025656279], \"xaxis\": \"x16\", \"yaxis\": \"y16\"}],\n",
       "                        {\"bargap\": 0.02, \"legend\": {\"bgcolor\": \"#F5F6F9\", \"font\": {\"color\": \"#4D5663\"}}, \"paper_bgcolor\": \"#F5F6F9\", \"plot_bgcolor\": \"#F5F6F9\", \"showlegend\": false, \"template\": {\"data\": {\"bar\": [{\"error_x\": {\"color\": \"#2a3f5f\"}, \"error_y\": {\"color\": \"#2a3f5f\"}, \"marker\": {\"line\": {\"color\": \"#E5ECF6\", \"width\": 0.5}}, \"type\": \"bar\"}], \"barpolar\": [{\"marker\": {\"line\": {\"color\": \"#E5ECF6\", \"width\": 0.5}}, \"type\": \"barpolar\"}], \"carpet\": [{\"aaxis\": {\"endlinecolor\": \"#2a3f5f\", \"gridcolor\": \"white\", \"linecolor\": \"white\", \"minorgridcolor\": \"white\", \"startlinecolor\": \"#2a3f5f\"}, \"baxis\": {\"endlinecolor\": \"#2a3f5f\", \"gridcolor\": \"white\", \"linecolor\": \"white\", \"minorgridcolor\": \"white\", \"startlinecolor\": \"#2a3f5f\"}, \"type\": \"carpet\"}], \"choropleth\": [{\"colorbar\": {\"outlinewidth\": 0, \"ticks\": \"\"}, \"type\": \"choropleth\"}], \"contour\": [{\"colorbar\": {\"outlinewidth\": 0, \"ticks\": \"\"}, \"colorscale\": [[0.0, \"#0d0887\"], [0.1111111111111111, \"#46039f\"], [0.2222222222222222, \"#7201a8\"], [0.3333333333333333, \"#9c179e\"], [0.4444444444444444, \"#bd3786\"], [0.5555555555555556, \"#d8576b\"], [0.6666666666666666, \"#ed7953\"], [0.7777777777777778, \"#fb9f3a\"], [0.8888888888888888, \"#fdca26\"], [1.0, \"#f0f921\"]], \"type\": \"contour\"}], \"contourcarpet\": [{\"colorbar\": {\"outlinewidth\": 0, \"ticks\": \"\"}, \"type\": \"contourcarpet\"}], \"heatmap\": [{\"colorbar\": {\"outlinewidth\": 0, \"ticks\": \"\"}, \"colorscale\": [[0.0, \"#0d0887\"], [0.1111111111111111, \"#46039f\"], [0.2222222222222222, \"#7201a8\"], [0.3333333333333333, \"#9c179e\"], [0.4444444444444444, \"#bd3786\"], [0.5555555555555556, \"#d8576b\"], [0.6666666666666666, \"#ed7953\"], [0.7777777777777778, \"#fb9f3a\"], [0.8888888888888888, \"#fdca26\"], [1.0, \"#f0f921\"]], \"type\": \"heatmap\"}], \"heatmapgl\": [{\"colorbar\": {\"outlinewidth\": 0, \"ticks\": \"\"}, \"colorscale\": [[0.0, \"#0d0887\"], [0.1111111111111111, \"#46039f\"], [0.2222222222222222, \"#7201a8\"], [0.3333333333333333, \"#9c179e\"], [0.4444444444444444, \"#bd3786\"], [0.5555555555555556, \"#d8576b\"], [0.6666666666666666, \"#ed7953\"], [0.7777777777777778, \"#fb9f3a\"], [0.8888888888888888, \"#fdca26\"], [1.0, \"#f0f921\"]], \"type\": \"heatmapgl\"}], \"histogram\": [{\"marker\": {\"colorbar\": {\"outlinewidth\": 0, \"ticks\": \"\"}}, \"type\": \"histogram\"}], \"histogram2d\": [{\"colorbar\": {\"outlinewidth\": 0, \"ticks\": \"\"}, \"colorscale\": [[0.0, \"#0d0887\"], [0.1111111111111111, \"#46039f\"], [0.2222222222222222, \"#7201a8\"], [0.3333333333333333, \"#9c179e\"], [0.4444444444444444, \"#bd3786\"], [0.5555555555555556, \"#d8576b\"], [0.6666666666666666, \"#ed7953\"], [0.7777777777777778, \"#fb9f3a\"], [0.8888888888888888, \"#fdca26\"], [1.0, \"#f0f921\"]], \"type\": \"histogram2d\"}], \"histogram2dcontour\": [{\"colorbar\": {\"outlinewidth\": 0, \"ticks\": \"\"}, \"colorscale\": [[0.0, \"#0d0887\"], [0.1111111111111111, \"#46039f\"], [0.2222222222222222, \"#7201a8\"], [0.3333333333333333, \"#9c179e\"], [0.4444444444444444, \"#bd3786\"], [0.5555555555555556, \"#d8576b\"], [0.6666666666666666, \"#ed7953\"], [0.7777777777777778, \"#fb9f3a\"], [0.8888888888888888, \"#fdca26\"], [1.0, \"#f0f921\"]], \"type\": \"histogram2dcontour\"}], \"mesh3d\": [{\"colorbar\": {\"outlinewidth\": 0, \"ticks\": \"\"}, \"type\": \"mesh3d\"}], \"parcoords\": [{\"line\": {\"colorbar\": {\"outlinewidth\": 0, \"ticks\": \"\"}}, \"type\": \"parcoords\"}], \"pie\": [{\"automargin\": true, \"type\": \"pie\"}], \"scatter\": [{\"marker\": {\"colorbar\": {\"outlinewidth\": 0, \"ticks\": \"\"}}, \"type\": \"scatter\"}], \"scatter3d\": [{\"line\": {\"colorbar\": {\"outlinewidth\": 0, \"ticks\": \"\"}}, \"marker\": {\"colorbar\": {\"outlinewidth\": 0, \"ticks\": \"\"}}, \"type\": \"scatter3d\"}], \"scattercarpet\": [{\"marker\": {\"colorbar\": {\"outlinewidth\": 0, \"ticks\": \"\"}}, \"type\": \"scattercarpet\"}], \"scattergeo\": [{\"marker\": {\"colorbar\": {\"outlinewidth\": 0, \"ticks\": \"\"}}, \"type\": \"scattergeo\"}], \"scattergl\": [{\"marker\": {\"colorbar\": {\"outlinewidth\": 0, \"ticks\": \"\"}}, \"type\": \"scattergl\"}], \"scattermapbox\": [{\"marker\": {\"colorbar\": {\"outlinewidth\": 0, \"ticks\": \"\"}}, \"type\": \"scattermapbox\"}], \"scatterpolar\": [{\"marker\": {\"colorbar\": {\"outlinewidth\": 0, \"ticks\": \"\"}}, \"type\": \"scatterpolar\"}], \"scatterpolargl\": [{\"marker\": {\"colorbar\": {\"outlinewidth\": 0, \"ticks\": \"\"}}, \"type\": \"scatterpolargl\"}], \"scatterternary\": [{\"marker\": {\"colorbar\": {\"outlinewidth\": 0, \"ticks\": \"\"}}, \"type\": \"scatterternary\"}], \"surface\": [{\"colorbar\": {\"outlinewidth\": 0, \"ticks\": \"\"}, \"colorscale\": [[0.0, \"#0d0887\"], [0.1111111111111111, \"#46039f\"], [0.2222222222222222, \"#7201a8\"], [0.3333333333333333, \"#9c179e\"], [0.4444444444444444, \"#bd3786\"], [0.5555555555555556, \"#d8576b\"], [0.6666666666666666, \"#ed7953\"], [0.7777777777777778, \"#fb9f3a\"], [0.8888888888888888, \"#fdca26\"], [1.0, \"#f0f921\"]], \"type\": \"surface\"}], \"table\": [{\"cells\": {\"fill\": {\"color\": \"#EBF0F8\"}, \"line\": {\"color\": \"white\"}}, \"header\": {\"fill\": {\"color\": \"#C8D4E3\"}, \"line\": {\"color\": \"white\"}}, \"type\": \"table\"}]}, \"layout\": {\"annotationdefaults\": {\"arrowcolor\": \"#2a3f5f\", \"arrowhead\": 0, \"arrowwidth\": 1}, \"coloraxis\": {\"colorbar\": {\"outlinewidth\": 0, \"ticks\": \"\"}}, \"colorscale\": {\"diverging\": [[0, \"#8e0152\"], [0.1, \"#c51b7d\"], [0.2, \"#de77ae\"], [0.3, \"#f1b6da\"], [0.4, \"#fde0ef\"], [0.5, \"#f7f7f7\"], [0.6, \"#e6f5d0\"], [0.7, \"#b8e186\"], [0.8, \"#7fbc41\"], [0.9, \"#4d9221\"], [1, \"#276419\"]], \"sequential\": [[0.0, \"#0d0887\"], [0.1111111111111111, \"#46039f\"], [0.2222222222222222, \"#7201a8\"], [0.3333333333333333, \"#9c179e\"], [0.4444444444444444, \"#bd3786\"], [0.5555555555555556, \"#d8576b\"], [0.6666666666666666, \"#ed7953\"], [0.7777777777777778, \"#fb9f3a\"], [0.8888888888888888, \"#fdca26\"], [1.0, \"#f0f921\"]], \"sequentialminus\": [[0.0, \"#0d0887\"], [0.1111111111111111, \"#46039f\"], [0.2222222222222222, \"#7201a8\"], [0.3333333333333333, \"#9c179e\"], [0.4444444444444444, \"#bd3786\"], [0.5555555555555556, \"#d8576b\"], [0.6666666666666666, \"#ed7953\"], [0.7777777777777778, \"#fb9f3a\"], [0.8888888888888888, \"#fdca26\"], [1.0, \"#f0f921\"]]}, \"colorway\": [\"#636efa\", \"#EF553B\", \"#00cc96\", \"#ab63fa\", \"#FFA15A\", \"#19d3f3\", \"#FF6692\", \"#B6E880\", \"#FF97FF\", \"#FECB52\"], \"font\": {\"color\": \"#2a3f5f\"}, \"geo\": {\"bgcolor\": \"white\", \"lakecolor\": \"white\", \"landcolor\": \"#E5ECF6\", \"showlakes\": true, \"showland\": true, \"subunitcolor\": \"white\"}, \"hoverlabel\": {\"align\": \"left\"}, \"hovermode\": \"closest\", \"mapbox\": {\"style\": \"light\"}, \"paper_bgcolor\": \"white\", \"plot_bgcolor\": \"#E5ECF6\", \"polar\": {\"angularaxis\": {\"gridcolor\": \"white\", \"linecolor\": \"white\", \"ticks\": \"\"}, \"bgcolor\": \"#E5ECF6\", \"radialaxis\": {\"gridcolor\": \"white\", \"linecolor\": \"white\", \"ticks\": \"\"}}, \"scene\": {\"xaxis\": {\"backgroundcolor\": \"#E5ECF6\", \"gridcolor\": \"white\", \"gridwidth\": 2, \"linecolor\": \"white\", \"showbackground\": true, \"ticks\": \"\", \"zerolinecolor\": \"white\"}, \"yaxis\": {\"backgroundcolor\": \"#E5ECF6\", \"gridcolor\": \"white\", \"gridwidth\": 2, \"linecolor\": \"white\", \"showbackground\": true, \"ticks\": \"\", \"zerolinecolor\": \"white\"}, \"zaxis\": {\"backgroundcolor\": \"#E5ECF6\", \"gridcolor\": \"white\", \"gridwidth\": 2, \"linecolor\": \"white\", \"showbackground\": true, \"ticks\": \"\", \"zerolinecolor\": \"white\"}}, \"shapedefaults\": {\"line\": {\"color\": \"#2a3f5f\"}}, \"ternary\": {\"aaxis\": {\"gridcolor\": \"white\", \"linecolor\": \"white\", \"ticks\": \"\"}, \"baxis\": {\"gridcolor\": \"white\", \"linecolor\": \"white\", \"ticks\": \"\"}, \"bgcolor\": \"#E5ECF6\", \"caxis\": {\"gridcolor\": \"white\", \"linecolor\": \"white\", \"ticks\": \"\"}}, \"title\": {\"x\": 0.05}, \"xaxis\": {\"automargin\": true, \"gridcolor\": \"white\", \"linecolor\": \"white\", \"ticks\": \"\", \"title\": {\"standoff\": 15}, \"zerolinecolor\": \"white\", \"zerolinewidth\": 2}, \"yaxis\": {\"automargin\": true, \"gridcolor\": \"white\", \"linecolor\": \"white\", \"ticks\": \"\", \"title\": {\"standoff\": 15}, \"zerolinecolor\": \"white\", \"zerolinewidth\": 2}}}, \"title\": {\"font\": {\"color\": \"#4D5663\"}}, \"xaxis\": {\"anchor\": \"y\", \"domain\": [0.0, 0.2125], \"gridcolor\": \"#E1E5ED\", \"showgrid\": false, \"tickfont\": {\"color\": \"#4D5663\"}, \"title\": {\"font\": {\"color\": \"#4D5663\"}, \"text\": \"\"}, \"zerolinecolor\": \"#E1E5ED\"}, \"xaxis10\": {\"anchor\": \"y10\", \"domain\": [0.2625, 0.475], \"gridcolor\": \"#E1E5ED\", \"showgrid\": false, \"tickfont\": {\"color\": \"#4D5663\"}, \"title\": {\"font\": {\"color\": \"#4D5663\"}, \"text\": \"\"}, \"zerolinecolor\": \"#E1E5ED\"}, \"xaxis11\": {\"anchor\": \"y11\", \"domain\": [0.525, 0.7375], \"gridcolor\": \"#E1E5ED\", \"showgrid\": false, \"tickfont\": {\"color\": \"#4D5663\"}, \"title\": {\"font\": {\"color\": \"#4D5663\"}, \"text\": \"\"}, \"zerolinecolor\": \"#E1E5ED\"}, \"xaxis12\": {\"anchor\": \"y12\", \"domain\": [0.7875, 1.0], \"gridcolor\": \"#E1E5ED\", \"showgrid\": false, \"tickfont\": {\"color\": \"#4D5663\"}, \"title\": {\"font\": {\"color\": \"#4D5663\"}, \"text\": \"\"}, \"zerolinecolor\": \"#E1E5ED\"}, \"xaxis13\": {\"anchor\": \"y13\", \"domain\": [0.0, 0.2125], \"gridcolor\": \"#E1E5ED\", \"showgrid\": false, \"tickfont\": {\"color\": \"#4D5663\"}, \"title\": {\"font\": {\"color\": \"#4D5663\"}, \"text\": \"\"}, \"zerolinecolor\": \"#E1E5ED\"}, \"xaxis14\": {\"anchor\": \"y14\", \"domain\": [0.2625, 0.475], \"gridcolor\": \"#E1E5ED\", \"showgrid\": false, \"tickfont\": {\"color\": \"#4D5663\"}, \"title\": {\"font\": {\"color\": \"#4D5663\"}, \"text\": \"\"}, \"zerolinecolor\": \"#E1E5ED\"}, \"xaxis15\": {\"anchor\": \"y15\", \"domain\": [0.525, 0.7375], \"gridcolor\": \"#E1E5ED\", \"showgrid\": false, \"tickfont\": {\"color\": \"#4D5663\"}, \"title\": {\"font\": {\"color\": \"#4D5663\"}, \"text\": \"\"}, \"zerolinecolor\": \"#E1E5ED\"}, \"xaxis16\": {\"anchor\": \"y16\", \"domain\": [0.7875, 1.0], \"gridcolor\": \"#E1E5ED\", \"showgrid\": false, \"tickfont\": {\"color\": \"#4D5663\"}, \"title\": {\"font\": {\"color\": \"#4D5663\"}, \"text\": \"\"}, \"zerolinecolor\": \"#E1E5ED\"}, \"xaxis2\": {\"anchor\": \"y2\", \"domain\": [0.2625, 0.475], \"gridcolor\": \"#E1E5ED\", \"showgrid\": false, \"tickfont\": {\"color\": \"#4D5663\"}, \"title\": {\"font\": {\"color\": \"#4D5663\"}, \"text\": \"\"}, \"zerolinecolor\": \"#E1E5ED\"}, \"xaxis3\": {\"anchor\": \"y3\", \"domain\": [0.525, 0.7375], \"gridcolor\": \"#E1E5ED\", \"showgrid\": false, \"tickfont\": {\"color\": \"#4D5663\"}, \"title\": {\"font\": {\"color\": \"#4D5663\"}, \"text\": \"\"}, \"zerolinecolor\": \"#E1E5ED\"}, \"xaxis4\": {\"anchor\": \"y4\", \"domain\": [0.7875, 1.0], \"gridcolor\": \"#E1E5ED\", \"showgrid\": false, \"tickfont\": {\"color\": \"#4D5663\"}, \"title\": {\"font\": {\"color\": \"#4D5663\"}, \"text\": \"\"}, \"zerolinecolor\": \"#E1E5ED\"}, \"xaxis5\": {\"anchor\": \"y5\", \"domain\": [0.0, 0.2125], \"gridcolor\": \"#E1E5ED\", \"showgrid\": false, \"tickfont\": {\"color\": \"#4D5663\"}, \"title\": {\"font\": {\"color\": \"#4D5663\"}, \"text\": \"\"}, \"zerolinecolor\": \"#E1E5ED\"}, \"xaxis6\": {\"anchor\": \"y6\", \"domain\": [0.2625, 0.475], \"gridcolor\": \"#E1E5ED\", \"showgrid\": false, \"tickfont\": {\"color\": \"#4D5663\"}, \"title\": {\"font\": {\"color\": \"#4D5663\"}, \"text\": \"\"}, \"zerolinecolor\": \"#E1E5ED\"}, \"xaxis7\": {\"anchor\": \"y7\", \"domain\": [0.525, 0.7375], \"gridcolor\": \"#E1E5ED\", \"showgrid\": false, \"tickfont\": {\"color\": \"#4D5663\"}, \"title\": {\"font\": {\"color\": \"#4D5663\"}, \"text\": \"\"}, \"zerolinecolor\": \"#E1E5ED\"}, \"xaxis8\": {\"anchor\": \"y8\", \"domain\": [0.7875, 1.0], \"gridcolor\": \"#E1E5ED\", \"showgrid\": false, \"tickfont\": {\"color\": \"#4D5663\"}, \"title\": {\"font\": {\"color\": \"#4D5663\"}, \"text\": \"\"}, \"zerolinecolor\": \"#E1E5ED\"}, \"xaxis9\": {\"anchor\": \"y9\", \"domain\": [0.0, 0.2125], \"gridcolor\": \"#E1E5ED\", \"showgrid\": false, \"tickfont\": {\"color\": \"#4D5663\"}, \"title\": {\"font\": {\"color\": \"#4D5663\"}, \"text\": \"\"}, \"zerolinecolor\": \"#E1E5ED\"}, \"yaxis\": {\"anchor\": \"x\", \"domain\": [0.8025, 1.0], \"gridcolor\": \"#E1E5ED\", \"showgrid\": false, \"tickfont\": {\"color\": \"#4D5663\"}, \"title\": {\"font\": {\"color\": \"#4D5663\"}, \"text\": \"\"}, \"zerolinecolor\": \"#E1E5ED\"}, \"yaxis10\": {\"anchor\": \"x10\", \"domain\": [0.2675, 0.465], \"gridcolor\": \"#E1E5ED\", \"showgrid\": false, \"tickfont\": {\"color\": \"#4D5663\"}, \"title\": {\"font\": {\"color\": \"#4D5663\"}, \"text\": \"\"}, \"zerolinecolor\": \"#E1E5ED\"}, \"yaxis11\": {\"anchor\": \"x11\", \"domain\": [0.2675, 0.465], \"gridcolor\": \"#E1E5ED\", \"showgrid\": false, \"tickfont\": {\"color\": \"#4D5663\"}, \"title\": {\"font\": {\"color\": \"#4D5663\"}, \"text\": \"\"}, \"zerolinecolor\": \"#E1E5ED\"}, \"yaxis12\": {\"anchor\": \"x12\", \"domain\": [0.2675, 0.465], \"gridcolor\": \"#E1E5ED\", \"showgrid\": false, \"tickfont\": {\"color\": \"#4D5663\"}, \"title\": {\"font\": {\"color\": \"#4D5663\"}, \"text\": \"\"}, \"zerolinecolor\": \"#E1E5ED\"}, \"yaxis13\": {\"anchor\": \"x13\", \"domain\": [0.0, 0.1975], \"gridcolor\": \"#E1E5ED\", \"showgrid\": false, \"tickfont\": {\"color\": \"#4D5663\"}, \"title\": {\"font\": {\"color\": \"#4D5663\"}, \"text\": \"\"}, \"zerolinecolor\": \"#E1E5ED\"}, \"yaxis14\": {\"anchor\": \"x14\", \"domain\": [0.0, 0.1975], \"gridcolor\": \"#E1E5ED\", \"showgrid\": false, \"tickfont\": {\"color\": \"#4D5663\"}, \"title\": {\"font\": {\"color\": \"#4D5663\"}, \"text\": \"\"}, \"zerolinecolor\": \"#E1E5ED\"}, \"yaxis15\": {\"anchor\": \"x15\", \"domain\": [0.0, 0.1975], \"gridcolor\": \"#E1E5ED\", \"showgrid\": false, \"tickfont\": {\"color\": \"#4D5663\"}, \"title\": {\"font\": {\"color\": \"#4D5663\"}, \"text\": \"\"}, \"zerolinecolor\": \"#E1E5ED\"}, \"yaxis16\": {\"anchor\": \"x16\", \"domain\": [0.0, 0.1975], \"gridcolor\": \"#E1E5ED\", \"showgrid\": false, \"tickfont\": {\"color\": \"#4D5663\"}, \"title\": {\"font\": {\"color\": \"#4D5663\"}, \"text\": \"\"}, \"zerolinecolor\": \"#E1E5ED\"}, \"yaxis2\": {\"anchor\": \"x2\", \"domain\": [0.8025, 1.0], \"gridcolor\": \"#E1E5ED\", \"showgrid\": false, \"tickfont\": {\"color\": \"#4D5663\"}, \"title\": {\"font\": {\"color\": \"#4D5663\"}, \"text\": \"\"}, \"zerolinecolor\": \"#E1E5ED\"}, \"yaxis3\": {\"anchor\": \"x3\", \"domain\": [0.8025, 1.0], \"gridcolor\": \"#E1E5ED\", \"showgrid\": false, \"tickfont\": {\"color\": \"#4D5663\"}, \"title\": {\"font\": {\"color\": \"#4D5663\"}, \"text\": \"\"}, \"zerolinecolor\": \"#E1E5ED\"}, \"yaxis4\": {\"anchor\": \"x4\", \"domain\": [0.8025, 1.0], \"gridcolor\": \"#E1E5ED\", \"showgrid\": false, \"tickfont\": {\"color\": \"#4D5663\"}, \"title\": {\"font\": {\"color\": \"#4D5663\"}, \"text\": \"\"}, \"zerolinecolor\": \"#E1E5ED\"}, \"yaxis5\": {\"anchor\": \"x5\", \"domain\": [0.535, 0.7325], \"gridcolor\": \"#E1E5ED\", \"showgrid\": false, \"tickfont\": {\"color\": \"#4D5663\"}, \"title\": {\"font\": {\"color\": \"#4D5663\"}, \"text\": \"\"}, \"zerolinecolor\": \"#E1E5ED\"}, \"yaxis6\": {\"anchor\": \"x6\", \"domain\": [0.535, 0.7325], \"gridcolor\": \"#E1E5ED\", \"showgrid\": false, \"tickfont\": {\"color\": \"#4D5663\"}, \"title\": {\"font\": {\"color\": \"#4D5663\"}, \"text\": \"\"}, \"zerolinecolor\": \"#E1E5ED\"}, \"yaxis7\": {\"anchor\": \"x7\", \"domain\": [0.535, 0.7325], \"gridcolor\": \"#E1E5ED\", \"showgrid\": false, \"tickfont\": {\"color\": \"#4D5663\"}, \"title\": {\"font\": {\"color\": \"#4D5663\"}, \"text\": \"\"}, \"zerolinecolor\": \"#E1E5ED\"}, \"yaxis8\": {\"anchor\": \"x8\", \"domain\": [0.535, 0.7325], \"gridcolor\": \"#E1E5ED\", \"showgrid\": false, \"tickfont\": {\"color\": \"#4D5663\"}, \"title\": {\"font\": {\"color\": \"#4D5663\"}, \"text\": \"\"}, \"zerolinecolor\": \"#E1E5ED\"}, \"yaxis9\": {\"anchor\": \"x9\", \"domain\": [0.2675, 0.465], \"gridcolor\": \"#E1E5ED\", \"showgrid\": false, \"tickfont\": {\"color\": \"#4D5663\"}, \"title\": {\"font\": {\"color\": \"#4D5663\"}, \"text\": \"\"}, \"zerolinecolor\": \"#E1E5ED\"}},\n",
       "                        {\"showLink\": true, \"linkText\": \"Export to plot.ly\", \"plotlyServerURL\": \"https://plot.ly\", \"responsive\": true}\n",
       "                    ).then(function(){\n",
       "                            \n",
       "var gd = document.getElementById('36e1a62c-d500-441c-8d46-403302b0b6b2');\n",
       "var x = new MutationObserver(function (mutations, observer) {{\n",
       "        var display = window.getComputedStyle(gd).display;\n",
       "        if (!display || display === 'none') {{\n",
       "            console.log([gd, 'removed!']);\n",
       "            Plotly.purge(gd);\n",
       "            observer.disconnect();\n",
       "        }}\n",
       "}});\n",
       "\n",
       "// Listen for the removal of the full notebook cells\n",
       "var notebookContainer = gd.closest('#notebook-container');\n",
       "if (notebookContainer) {{\n",
       "    x.observe(notebookContainer, {childList: true});\n",
       "}}\n",
       "\n",
       "// Listen for the clearing of the current output cell\n",
       "var outputEl = gd.closest('.output');\n",
       "if (outputEl) {{\n",
       "    x.observe(outputEl, {childList: true});\n",
       "}}\n",
       "\n",
       "                        })\n",
       "                };\n",
       "                });\n",
       "            </script>\n",
       "        </div>"
      ]
     },
     "metadata": {},
     "output_type": "display_data"
    }
   ],
   "source": [
    "df.scatter_matrix()"
   ]
  },
  {
   "cell_type": "code",
   "execution_count": null,
   "metadata": {},
   "outputs": [],
   "source": []
  }
 ],
 "metadata": {
  "kernelspec": {
   "display_name": "Python 3",
   "language": "python",
   "name": "python3"
  },
  "language_info": {
   "codemirror_mode": {
    "name": "ipython",
    "version": 3
   },
   "file_extension": ".py",
   "mimetype": "text/x-python",
   "name": "python",
   "nbconvert_exporter": "python",
   "pygments_lexer": "ipython3",
   "version": "3.7.4"
  }
 },
 "nbformat": 4,
 "nbformat_minor": 2
}
